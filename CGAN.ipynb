{
 "cells": [
  {
   "cell_type": "code",
   "execution_count": 1,
   "metadata": {},
   "outputs": [],
   "source": [
    "import math\n",
    "import time\n",
    "import csv\n",
    "import os\n",
    "os.environ[\"CUDA_DEVICE_ORDER\"] = \"PCI_BUS_ID\"\n",
    "os.environ['CUDA_VISIBLE_DEVICES']=\"1\"\n",
    "os.environ['CUDA_LAUNCH_BLOCKING'] = '1'\n",
    "\n",
    "import numpy as np\n",
    "import torch \n",
    "import torch.nn as nn\n",
    "import torch.utils.data as data\n",
    "import torch.nn.functional as F\n",
    "\n",
    "torch.manual_seed(105)\n",
    "np.random.seed(42)\n",
    "np.set_printoptions(suppress=True, precision=3, threshold=40, linewidth=100, edgeitems=20)  \n",
    "\n",
    "torch.backends.cudnn.deterministic = True\n",
    "torch.backends.cudnn.benchmark = True\n",
    "\n",
    "import itertools\n",
    "from tqdm import trange, tqdm\n",
    "import matplotlib.pyplot as plt\n",
    "import importlib\n",
    "%matplotlib inline\n",
    "\n",
    "'''\n",
    "If curious about the detailed realization of certain module(s) below, try:\n",
    "    print(*inspect.getsource(Module).split('\\n'), sep='\\n')\n",
    "to get its source code.\n",
    "'''\n",
    "from Model.CGAN import Descriminator, Generator\n",
    "from Train.train_CGAN import train\n",
    "from Datas.data_load import dataset_append\n",
    "from Test.Evaluate import evaluate\n",
    "from utils.Save_and_load import save, load\n",
    "from configs import opt, res_trans, RDevelop"
   ]
  },
  {
   "cell_type": "code",
   "execution_count": 2,
   "metadata": {},
   "outputs": [],
   "source": [
    "def Model_def(opt, Channels, nf, device_train, load_model=False):\n",
    "    '''\n",
    "    Define (and load saved) model \n",
    "    '''\n",
    "    netG = Generator(Channels, 5) \n",
    "    netD = Descriminator(1+1,nf)\n",
    "    netG.initialize(); netD.initialize()\n",
    "    if load_model:\n",
    "        netG = load(netG, opt.load_model_path[0])\n",
    "        netD = load(netD, opt.load_model_path[1])\n",
    "    print(netG.parameters)\n",
    "    print(netD.parameters)\n",
    "    D_size = netD(torch.rand(1,2,*opt.Resmax)).shape\n",
    "    \n",
    "    if device_train.type == 'cuda':\n",
    "        torch.cuda.empty_cache()\n",
    "        netG = netG.to(device_train)\n",
    "        netD = netD.to(device_train)\n",
    "        print(\"allocated and reserved GPU memory: {}, {} (GiB)\".format(\n",
    "                torch.cuda.memory_allocated()/(1024**3), torch.cuda.memory_reserved()/(1024**3)))\n",
    "    return netG, netD, D_size"
   ]
  },
  {
   "cell_type": "code",
   "execution_count": 3,
   "metadata": {},
   "outputs": [
    {
     "name": "stdout",
     "output_type": "stream",
     "text": [
      "Net Initialized\n",
      "<bound method Module.parameters of Generator(\n",
      "  (left_conv_1): ConvBlock(\n",
      "    (block): Sequential(\n",
      "      (0): Conv3d(1, 8, kernel_size=(3, 3, 3), stride=(2, 2, 2), padding=(1, 1, 1))\n",
      "      (1): LeakyReLU(negative_slope=0.01, inplace=True)\n",
      "      (2): Conv3d(8, 8, kernel_size=(3, 3, 3), stride=(1, 1, 1), padding=(1, 1, 1))\n",
      "      (3): LeakyReLU(negative_slope=0.01, inplace=True)\n",
      "    )\n",
      "  )\n",
      "  (left_conv_2): ConvBlock(\n",
      "    (block): Sequential(\n",
      "      (0): Conv3d(8, 16, kernel_size=(3, 3, 3), stride=(2, 2, 2), padding=(1, 1, 1))\n",
      "      (1): LeakyReLU(negative_slope=0.01, inplace=True)\n",
      "      (2): Conv3d(16, 16, kernel_size=(3, 3, 3), stride=(1, 1, 1), padding=(1, 1, 1))\n",
      "      (3): LeakyReLU(negative_slope=0.01, inplace=True)\n",
      "    )\n",
      "  )\n",
      "  (left_conv_3): ConvBlock(\n",
      "    (block): Sequential(\n",
      "      (0): Conv3d(16, 32, kernel_size=(3, 3, 3), stride=(2, 2, 2), padding=(1, 1, 1))\n",
      "      (1): LeakyReLU(negative_slope=0.01, inplace=True)\n",
      "      (2): Conv3d(32, 32, kernel_size=(3, 3, 3), stride=(1, 1, 1), padding=(1, 1, 1))\n",
      "      (3): LeakyReLU(negative_slope=0.01, inplace=True)\n",
      "    )\n",
      "  )\n",
      "  (left_conv_4): ConvBlock(\n",
      "    (block): Sequential(\n",
      "      (0): Conv3d(32, 64, kernel_size=(3, 3, 3), stride=(2, 2, 2), padding=(1, 1, 1))\n",
      "      (1): LeakyReLU(negative_slope=0.01, inplace=True)\n",
      "      (2): Conv3d(64, 64, kernel_size=(3, 3, 3), stride=(1, 1, 1), padding=(1, 1, 1))\n",
      "      (3): LeakyReLU(negative_slope=0.01, inplace=True)\n",
      "    )\n",
      "  )\n",
      "  (deconv_1): ConvTranspose3d(64, 32, kernel_size=(5, 5, 5), stride=(2, 2, 2), padding=(2, 2, 2), output_padding=(1, 0, 0))\n",
      "  (right_conv_1): ConvBlock(\n",
      "    (block): Sequential(\n",
      "      (0): Conv3d(64, 32, kernel_size=(3, 3, 3), stride=(1, 1, 1), padding=(1, 1, 1))\n",
      "      (1): LeakyReLU(negative_slope=0.01, inplace=True)\n",
      "      (2): Conv3d(32, 32, kernel_size=(3, 3, 3), stride=(1, 1, 1), padding=(1, 1, 1))\n",
      "      (3): LeakyReLU(negative_slope=0.01, inplace=True)\n",
      "    )\n",
      "  )\n",
      "  (deconv_2): ConvTranspose3d(32, 16, kernel_size=(5, 5, 5), stride=(2, 2, 2), padding=(2, 2, 2), output_padding=(1, 1, 1))\n",
      "  (right_conv_2): ConvBlock(\n",
      "    (block): Sequential(\n",
      "      (0): Conv3d(32, 16, kernel_size=(3, 3, 3), stride=(1, 1, 1), padding=(1, 1, 1))\n",
      "      (1): LeakyReLU(negative_slope=0.01, inplace=True)\n",
      "      (2): Conv3d(16, 16, kernel_size=(3, 3, 3), stride=(1, 1, 1), padding=(1, 1, 1))\n",
      "      (3): LeakyReLU(negative_slope=0.01, inplace=True)\n",
      "    )\n",
      "  )\n",
      "  (deconv_3): ConvTranspose3d(16, 8, kernel_size=(5, 5, 5), stride=(2, 2, 2), padding=(2, 2, 2), output_padding=(1, 1, 1))\n",
      "  (right_conv_3): ConvBlock(\n",
      "    (block): Sequential(\n",
      "      (0): Conv3d(16, 8, kernel_size=(3, 3, 3), stride=(1, 1, 1), padding=(1, 1, 1))\n",
      "      (1): LeakyReLU(negative_slope=0.01, inplace=True)\n",
      "      (2): Conv3d(8, 8, kernel_size=(3, 3, 3), stride=(1, 1, 1), padding=(1, 1, 1))\n",
      "      (3): LeakyReLU(negative_slope=0.01, inplace=True)\n",
      "    )\n",
      "  )\n",
      "  (deconv_4): ConvTranspose3d(8, 1, kernel_size=(5, 5, 5), stride=(2, 2, 2), padding=(2, 2, 2), output_padding=(1, 1, 1))\n",
      "  (regular): Upsample(size=[80, 1000, 1000], mode=trilinear)\n",
      ")>\n",
      "<bound method Module.parameters of Descriminator(\n",
      "  (reslayers): Sequential(\n",
      "    (0): Conv3d(2, 4, kernel_size=(3, 3, 3), stride=(1, 1, 1), padding=(1, 1, 1), bias=False)\n",
      "    (1): LeakyReLU(negative_slope=0.1, inplace=True)\n",
      "    (2): Sequential(\n",
      "      (0): BasicBlock(\n",
      "        (conv): Sequential(\n",
      "          (0): Conv3d(4, 8, kernel_size=(3, 3, 3), stride=(1, 1, 1), padding=(1, 1, 1), bias=False, padding_mode=replicate)\n",
      "          (1): LeakyReLU(negative_slope=0.1, inplace=True)\n",
      "          (2): Conv3d(8, 8, kernel_size=(3, 3, 3), stride=(2, 2, 2), padding=(1, 1, 1), bias=False, padding_mode=replicate)\n",
      "        )\n",
      "        (shortcut): Sequential(\n",
      "          (0): Conv3d(4, 8, kernel_size=(1, 1, 1), stride=(2, 2, 2), bias=False)\n",
      "        )\n",
      "        (norm): GroupNorm(1, 8, eps=1e-05, affine=True)\n",
      "      )\n",
      "      (1): BasicBlock(\n",
      "        (conv): Sequential(\n",
      "          (0): Conv3d(8, 8, kernel_size=(3, 3, 3), stride=(1, 1, 1), padding=(1, 1, 1), bias=False, padding_mode=replicate)\n",
      "          (1): LeakyReLU(negative_slope=0.1, inplace=True)\n",
      "          (2): Conv3d(8, 8, kernel_size=(3, 3, 3), stride=(2, 2, 2), padding=(1, 1, 1), bias=False, padding_mode=replicate)\n",
      "        )\n",
      "        (shortcut): Sequential(\n",
      "          (0): Conv3d(8, 8, kernel_size=(1, 1, 1), stride=(2, 2, 2), bias=False)\n",
      "        )\n",
      "        (norm): GroupNorm(1, 8, eps=1e-05, affine=True)\n",
      "      )\n",
      "    )\n",
      "    (3): Sequential(\n",
      "      (0): BasicBlock(\n",
      "        (conv): Sequential(\n",
      "          (0): Conv3d(8, 4, kernel_size=(3, 3, 3), stride=(1, 1, 1), padding=(1, 1, 1), bias=False, padding_mode=replicate)\n",
      "          (1): LeakyReLU(negative_slope=0.1, inplace=True)\n",
      "          (2): Conv3d(4, 4, kernel_size=(3, 3, 3), stride=(2, 2, 2), padding=(1, 1, 1), bias=False, padding_mode=replicate)\n",
      "        )\n",
      "        (shortcut): Sequential(\n",
      "          (0): Conv3d(8, 4, kernel_size=(1, 1, 1), stride=(2, 2, 2), bias=False)\n",
      "        )\n",
      "        (norm): GroupNorm(1, 4, eps=1e-05, affine=True)\n",
      "      )\n",
      "      (1): BasicBlock(\n",
      "        (conv): Sequential(\n",
      "          (0): Conv3d(4, 4, kernel_size=(3, 3, 3), stride=(1, 1, 1), padding=(1, 1, 1), bias=False, padding_mode=replicate)\n",
      "          (1): LeakyReLU(negative_slope=0.1, inplace=True)\n",
      "          (2): Conv3d(4, 4, kernel_size=(3, 3, 3), stride=(2, 2, 2), padding=(1, 1, 1), bias=False, padding_mode=replicate)\n",
      "        )\n",
      "        (shortcut): Sequential(\n",
      "          (0): Conv3d(4, 4, kernel_size=(1, 1, 1), stride=(2, 2, 2), bias=False)\n",
      "        )\n",
      "        (norm): GroupNorm(1, 4, eps=1e-05, affine=True)\n",
      "      )\n",
      "    )\n",
      "    (4): Conv3d(4, 1, kernel_size=(3, 3, 3), stride=(1, 2, 2), padding=(1, 1, 1), bias=False)\n",
      "    (5): Sigmoid()\n",
      "  )\n",
      ")>\n",
      "allocated and reserved GPU memory: 0.0025281906127929688, 0.00390625 (GiB)\n"
     ]
    }
   ],
   "source": [
    "Channels = [1, 8, 16, 32, 64, ]\n",
    "nf = 4\n",
    "device_train = torch.device('cuda:0') \n",
    "device_test = torch.device('cuda:0')\n",
    "ckpt_name = [\"CGAN-G.pth\", \"CGAN-D.pth\"]\n",
    "opt.load_model_path = [opt.modelpath+ckpt_name[i] for i in [0,1]]\n",
    "netG, netD, D_size = Model_def(opt, Channels, nf, device_train)"
   ]
  },
  {
   "cell_type": "code",
   "execution_count": 4,
   "metadata": {
    "scrolled": true
   },
   "outputs": [
    {
     "name": "stderr",
     "output_type": "stream",
     "text": [
      "\r",
      "  0%|          | 0/8 [00:00<?, ?it/s]"
     ]
    },
    {
     "name": "stdout",
     "output_type": "stream",
     "text": [
      "../dataset_train_v1/0000Acid_ini Read in 0.78 s\n",
      "../dataset_train_v1/0000Inhibitor Read in 0.73 s\n",
      "--> Mask 0 Read Complete, with dataset size: (1, 1, 80, 1000, 1000), 9 masks left ...\n",
      "\n",
      "../dataset_train_v1/0001Acid_ini Read in 0.56 s\n",
      "../dataset_train_v1/0001Inhibitor Read in 0.14 s\n",
      "--> Mask 1 Read Complete, with dataset size: (2, 1, 80, 1000, 1000), 8 masks left ...\n",
      "\n",
      "../dataset_train_v1/0002Acid_ini Read in 0.13 s\n",
      "../dataset_train_v1/0002Inhibitor Read in 0.13 s\n",
      "--> Mask 2 Read Complete, with dataset size: (3, 1, 80, 1000, 1000), 7 masks left ...\n",
      "\n",
      "../dataset_train_v1/0003Acid_ini Read in 0.13 s\n",
      "../dataset_train_v1/0003Inhibitor Read in 0.12 s\n",
      "--> Mask 3 Read Complete, with dataset size: (4, 1, 80, 1000, 1000), 6 masks left ...\n",
      "\n",
      "../dataset_train_v1/0004Acid_ini Read in 0.12 s\n",
      "../dataset_train_v1/0004Inhibitor Read in 0.12 s\n",
      "--> Mask 4 Read Complete, with dataset size: (5, 1, 80, 1000, 1000), 5 masks left ...\n",
      "\n",
      "../dataset_train_v1/0005Acid_ini Read in 0.12 s\n",
      "../dataset_train_v1/0005Inhibitor Read in 0.12 s\n",
      "--> Mask 5 Read Complete, with dataset size: (6, 1, 80, 1000, 1000), 4 masks left ...\n",
      "\n",
      "../dataset_train_v1/0006Acid_ini Read in 0.12 s\n",
      "../dataset_train_v1/0006Inhibitor Read in 0.12 s\n",
      "--> Mask 6 Read Complete, with dataset size: (7, 1, 80, 1000, 1000), 3 masks left ...\n",
      "\n",
      "../dataset_train_v1/0007Acid_ini Read in 0.13 s\n",
      "../dataset_train_v1/0007Inhibitor Read in 0.12 s\n",
      "--> Mask 7 Read Complete, with dataset size: (8, 1, 80, 1000, 1000), 2 masks left ...\n",
      "\n",
      "../dataset_train_v1/0008Acid_ini Read in 0.13 s\n",
      "../dataset_train_v1/0008Inhibitor Read in 0.14 s\n",
      "--> Mask 8 Read Complete, with dataset size: (9, 1, 80, 1000, 1000), 1 masks left ...\n",
      "\n",
      "../dataset_train_v1/0009Acid_ini Read in 0.13 s\n",
      "../dataset_train_v1/0009Inhibitor Read in 0.12 s\n"
     ]
    },
    {
     "name": "stderr",
     "output_type": "stream",
     "text": [
      "\r",
      " 12%|█▎        | 1/8 [00:24<02:48, 24.09s/it]"
     ]
    },
    {
     "name": "stdout",
     "output_type": "stream",
     "text": [
      "--> Mask 9 Read Complete, with dataset size: (10, 1, 80, 1000, 1000), 0 masks left ...\n",
      "\n",
      "../dataset_train_v1/0010Acid_ini Read in 0.12 s\n",
      "../dataset_train_v1/0010Inhibitor Read in 0.12 s\n",
      "--> Mask 10 Read Complete, with dataset size: (1, 1, 80, 1000, 1000), 9 masks left ...\n",
      "\n",
      "../dataset_train_v1/0011Acid_ini Read in 0.12 s\n",
      "../dataset_train_v1/0011Inhibitor Read in 0.12 s\n",
      "--> Mask 11 Read Complete, with dataset size: (2, 1, 80, 1000, 1000), 8 masks left ...\n",
      "\n",
      "../dataset_train_v1/0012Acid_ini Read in 0.14 s\n",
      "../dataset_train_v1/0012Inhibitor Read in 0.12 s\n",
      "--> Mask 12 Read Complete, with dataset size: (3, 1, 80, 1000, 1000), 7 masks left ...\n",
      "\n",
      "../dataset_train_v1/0013Acid_ini Read in 0.12 s\n",
      "../dataset_train_v1/0013Inhibitor Read in 0.13 s\n",
      "--> Mask 13 Read Complete, with dataset size: (4, 1, 80, 1000, 1000), 6 masks left ...\n",
      "\n",
      "../dataset_train_v1/0014Acid_ini Read in 0.13 s\n",
      "../dataset_train_v1/0014Inhibitor Read in 0.13 s\n",
      "--> Mask 14 Read Complete, with dataset size: (5, 1, 80, 1000, 1000), 5 masks left ...\n",
      "\n",
      "../dataset_train_v1/0015Acid_ini Read in 0.13 s\n",
      "../dataset_train_v1/0015Inhibitor Read in 0.13 s\n",
      "--> Mask 15 Read Complete, with dataset size: (6, 1, 80, 1000, 1000), 4 masks left ...\n",
      "\n",
      "../dataset_train_v1/0016Acid_ini Read in 0.13 s\n",
      "../dataset_train_v1/0016Inhibitor Read in 0.13 s\n",
      "--> Mask 16 Read Complete, with dataset size: (7, 1, 80, 1000, 1000), 3 masks left ...\n",
      "\n",
      "../dataset_train_v1/0017Acid_ini Read in 0.13 s\n",
      "../dataset_train_v1/0017Inhibitor Read in 0.14 s\n",
      "--> Mask 17 Read Complete, with dataset size: (8, 1, 80, 1000, 1000), 2 masks left ...\n",
      "\n",
      "../dataset_train_v1/0018Acid_ini Read in 0.13 s\n",
      "../dataset_train_v1/0018Inhibitor Read in 0.13 s\n",
      "--> Mask 18 Read Complete, with dataset size: (9, 1, 80, 1000, 1000), 1 masks left ...\n",
      "\n",
      "../dataset_train_v1/0019Acid_ini Read in 0.13 s\n",
      "../dataset_train_v1/0019Inhibitor Read in 0.14 s\n"
     ]
    },
    {
     "name": "stderr",
     "output_type": "stream",
     "text": [
      "\r",
      " 25%|██▌       | 2/8 [00:46<02:18, 23.14s/it]"
     ]
    },
    {
     "name": "stdout",
     "output_type": "stream",
     "text": [
      "--> Mask 19 Read Complete, with dataset size: (10, 1, 80, 1000, 1000), 0 masks left ...\n",
      "\n",
      "../dataset_train_v1/0020Acid_ini Read in 0.13 s\n",
      "../dataset_train_v1/0020Inhibitor Read in 0.13 s\n",
      "--> Mask 20 Read Complete, with dataset size: (1, 1, 80, 1000, 1000), 9 masks left ...\n",
      "\n",
      "../dataset_train_v1/0021Acid_ini Read in 0.12 s\n",
      "../dataset_train_v1/0021Inhibitor Read in 0.13 s\n",
      "--> Mask 21 Read Complete, with dataset size: (2, 1, 80, 1000, 1000), 8 masks left ...\n",
      "\n",
      "../dataset_train_v1/0022Acid_ini Read in 0.12 s\n",
      "../dataset_train_v1/0022Inhibitor Read in 0.12 s\n",
      "--> Mask 22 Read Complete, with dataset size: (3, 1, 80, 1000, 1000), 7 masks left ...\n",
      "\n",
      "../dataset_train_v1/0023Acid_ini Read in 0.13 s\n",
      "../dataset_train_v1/0023Inhibitor Read in 0.13 s\n",
      "--> Mask 23 Read Complete, with dataset size: (4, 1, 80, 1000, 1000), 6 masks left ...\n",
      "\n",
      "../dataset_train_v1/0024Acid_ini Read in 0.12 s\n",
      "../dataset_train_v1/0024Inhibitor Read in 0.12 s\n",
      "--> Mask 24 Read Complete, with dataset size: (5, 1, 80, 1000, 1000), 5 masks left ...\n",
      "\n",
      "../dataset_train_v1/0025Acid_ini Read in 0.12 s\n",
      "../dataset_train_v1/0025Inhibitor Read in 0.12 s\n",
      "--> Mask 25 Read Complete, with dataset size: (6, 1, 80, 1000, 1000), 4 masks left ...\n",
      "\n",
      "../dataset_train_v1/0026Acid_ini Read in 0.13 s\n",
      "../dataset_train_v1/0026Inhibitor Read in 0.14 s\n",
      "--> Mask 26 Read Complete, with dataset size: (7, 1, 80, 1000, 1000), 3 masks left ...\n",
      "\n",
      "../dataset_train_v1/0027Acid_ini Read in 0.13 s\n",
      "../dataset_train_v1/0027Inhibitor Read in 0.12 s\n",
      "--> Mask 27 Read Complete, with dataset size: (8, 1, 80, 1000, 1000), 2 masks left ...\n",
      "\n",
      "../dataset_train_v1/0028Acid_ini Read in 0.12 s\n",
      "../dataset_train_v1/0028Inhibitor Read in 0.12 s\n",
      "--> Mask 28 Read Complete, with dataset size: (9, 1, 80, 1000, 1000), 1 masks left ...\n",
      "\n",
      "../dataset_train_v1/0029Acid_ini Read in 0.13 s\n",
      "../dataset_train_v1/0029Inhibitor Read in 0.13 s\n"
     ]
    },
    {
     "name": "stderr",
     "output_type": "stream",
     "text": [
      "\r",
      " 38%|███▊      | 3/8 [01:09<01:54, 22.82s/it]"
     ]
    },
    {
     "name": "stdout",
     "output_type": "stream",
     "text": [
      "--> Mask 29 Read Complete, with dataset size: (10, 1, 80, 1000, 1000), 0 masks left ...\n",
      "\n",
      "../dataset_train_v1/0030Acid_ini Read in 0.13 s\n",
      "../dataset_train_v1/0030Inhibitor Read in 0.13 s\n",
      "--> Mask 30 Read Complete, with dataset size: (1, 1, 80, 1000, 1000), 9 masks left ...\n",
      "\n",
      "../dataset_train_v1/0031Acid_ini Read in 0.12 s\n",
      "../dataset_train_v1/0031Inhibitor Read in 0.12 s\n",
      "--> Mask 31 Read Complete, with dataset size: (2, 1, 80, 1000, 1000), 8 masks left ...\n",
      "\n",
      "../dataset_train_v1/0032Acid_ini Read in 0.13 s\n",
      "../dataset_train_v1/0032Inhibitor Read in 0.12 s\n",
      "--> Mask 32 Read Complete, with dataset size: (3, 1, 80, 1000, 1000), 7 masks left ...\n",
      "\n",
      "../dataset_train_v1/0033Acid_ini Read in 0.13 s\n",
      "../dataset_train_v1/0033Inhibitor Read in 0.13 s\n",
      "--> Mask 33 Read Complete, with dataset size: (4, 1, 80, 1000, 1000), 6 masks left ...\n",
      "\n",
      "../dataset_train_v1/0034Acid_ini Read in 0.13 s\n",
      "../dataset_train_v1/0034Inhibitor Read in 0.13 s\n",
      "--> Mask 34 Read Complete, with dataset size: (5, 1, 80, 1000, 1000), 5 masks left ...\n",
      "\n",
      "../dataset_train_v1/0035Acid_ini Read in 0.13 s\n",
      "../dataset_train_v1/0035Inhibitor Read in 0.13 s\n",
      "--> Mask 35 Read Complete, with dataset size: (6, 1, 80, 1000, 1000), 4 masks left ...\n",
      "\n",
      "../dataset_train_v1/0036Acid_ini Read in 0.13 s\n",
      "../dataset_train_v1/0036Inhibitor Read in 0.13 s\n",
      "--> Mask 36 Read Complete, with dataset size: (7, 1, 80, 1000, 1000), 3 masks left ...\n",
      "\n",
      "../dataset_train_v1/0037Acid_ini Read in 0.13 s\n",
      "../dataset_train_v1/0037Inhibitor Read in 0.13 s\n",
      "--> Mask 37 Read Complete, with dataset size: (8, 1, 80, 1000, 1000), 2 masks left ...\n",
      "\n",
      "../dataset_train_v1/0038Acid_ini Read in 0.13 s\n",
      "../dataset_train_v1/0038Inhibitor Read in 0.13 s\n",
      "--> Mask 38 Read Complete, with dataset size: (9, 1, 80, 1000, 1000), 1 masks left ...\n",
      "\n",
      "../dataset_train_v1/0039Acid_ini Read in 0.13 s\n",
      "../dataset_train_v1/0039Inhibitor Read in 0.14 s\n"
     ]
    },
    {
     "name": "stderr",
     "output_type": "stream",
     "text": [
      "\r",
      " 50%|█████     | 4/8 [01:31<01:30, 22.72s/it]"
     ]
    },
    {
     "name": "stdout",
     "output_type": "stream",
     "text": [
      "--> Mask 39 Read Complete, with dataset size: (10, 1, 80, 1000, 1000), 0 masks left ...\n",
      "\n",
      "../dataset_train_v1/0040Acid_ini Read in 0.13 s\n",
      "../dataset_train_v1/0040Inhibitor Read in 0.13 s\n",
      "--> Mask 40 Read Complete, with dataset size: (1, 1, 80, 1000, 1000), 9 masks left ...\n",
      "\n",
      "../dataset_train_v1/0041Acid_ini Read in 0.13 s\n",
      "../dataset_train_v1/0041Inhibitor Read in 0.14 s\n",
      "--> Mask 41 Read Complete, with dataset size: (2, 1, 80, 1000, 1000), 8 masks left ...\n",
      "\n",
      "../dataset_train_v1/0042Acid_ini Read in 0.13 s\n",
      "../dataset_train_v1/0042Inhibitor Read in 0.13 s\n",
      "--> Mask 42 Read Complete, with dataset size: (3, 1, 80, 1000, 1000), 7 masks left ...\n",
      "\n",
      "../dataset_train_v1/0043Acid_ini Read in 0.13 s\n",
      "../dataset_train_v1/0043Inhibitor Read in 0.13 s\n",
      "--> Mask 43 Read Complete, with dataset size: (4, 1, 80, 1000, 1000), 6 masks left ...\n",
      "\n",
      "../dataset_train_v1/0044Acid_ini Read in 0.13 s\n",
      "../dataset_train_v1/0044Inhibitor Read in 0.13 s\n",
      "--> Mask 44 Read Complete, with dataset size: (5, 1, 80, 1000, 1000), 5 masks left ...\n",
      "\n",
      "../dataset_train_v1/0045Acid_ini Read in 0.13 s\n",
      "../dataset_train_v1/0045Inhibitor Read in 0.13 s\n",
      "--> Mask 45 Read Complete, with dataset size: (6, 1, 80, 1000, 1000), 4 masks left ...\n",
      "\n",
      "../dataset_train_v1/0046Acid_ini Read in 0.13 s\n",
      "../dataset_train_v1/0046Inhibitor Read in 0.13 s\n",
      "--> Mask 46 Read Complete, with dataset size: (7, 1, 80, 1000, 1000), 3 masks left ...\n",
      "\n",
      "../dataset_train_v1/0047Acid_ini Read in 0.20 s\n",
      "../dataset_train_v1/0047Inhibitor Read in 0.21 s\n",
      "--> Mask 47 Read Complete, with dataset size: (8, 1, 80, 1000, 1000), 2 masks left ...\n",
      "\n",
      "../dataset_train_v1/0048Acid_ini Read in 0.19 s\n",
      "../dataset_train_v1/0048Inhibitor Read in 0.17 s\n",
      "--> Mask 48 Read Complete, with dataset size: (9, 1, 80, 1000, 1000), 1 masks left ...\n",
      "\n",
      "../dataset_train_v1/0049Acid_ini Read in 0.16 s\n",
      "../dataset_train_v1/0049Inhibitor Read in 0.15 s\n"
     ]
    },
    {
     "name": "stderr",
     "output_type": "stream",
     "text": [
      "\r",
      " 62%|██████▎   | 5/8 [01:54<01:08, 22.73s/it]"
     ]
    },
    {
     "name": "stdout",
     "output_type": "stream",
     "text": [
      "--> Mask 49 Read Complete, with dataset size: (10, 1, 80, 1000, 1000), 0 masks left ...\n",
      "\n",
      "../dataset_train_v1/0050Acid_ini Read in 0.15 s\n",
      "../dataset_train_v1/0050Inhibitor Read in 0.19 s\n",
      "--> Mask 50 Read Complete, with dataset size: (1, 1, 80, 1000, 1000), 9 masks left ...\n",
      "\n",
      "../dataset_train_v1/0051Acid_ini Read in 0.23 s\n",
      "../dataset_train_v1/0051Inhibitor Read in 0.16 s\n",
      "--> Mask 51 Read Complete, with dataset size: (2, 1, 80, 1000, 1000), 8 masks left ...\n",
      "\n",
      "../dataset_train_v1/0052Acid_ini Read in 0.16 s\n",
      "../dataset_train_v1/0052Inhibitor Read in 0.15 s\n",
      "--> Mask 52 Read Complete, with dataset size: (3, 1, 80, 1000, 1000), 7 masks left ...\n",
      "\n",
      "../dataset_train_v1/0053Acid_ini Read in 0.17 s\n",
      "../dataset_train_v1/0053Inhibitor Read in 0.17 s\n",
      "--> Mask 53 Read Complete, with dataset size: (4, 1, 80, 1000, 1000), 6 masks left ...\n",
      "\n",
      "../dataset_train_v1/0054Acid_ini Read in 0.16 s\n",
      "../dataset_train_v1/0054Inhibitor Read in 0.15 s\n",
      "--> Mask 54 Read Complete, with dataset size: (5, 1, 80, 1000, 1000), 5 masks left ...\n",
      "\n",
      "../dataset_train_v1/0055Acid_ini Read in 0.15 s\n",
      "../dataset_train_v1/0055Inhibitor Read in 0.16 s\n",
      "--> Mask 55 Read Complete, with dataset size: (6, 1, 80, 1000, 1000), 4 masks left ...\n",
      "\n",
      "../dataset_train_v1/0056Acid_ini Read in 0.16 s\n",
      "../dataset_train_v1/0056Inhibitor Read in 0.16 s\n",
      "--> Mask 56 Read Complete, with dataset size: (7, 1, 80, 1000, 1000), 3 masks left ...\n",
      "\n",
      "../dataset_train_v1/0057Acid_ini Read in 0.92 s\n",
      "../dataset_train_v1/0057Inhibitor Read in 0.95 s\n",
      "--> Mask 57 Read Complete, with dataset size: (8, 1, 80, 1000, 1000), 2 masks left ...\n",
      "\n",
      "../dataset_train_v1/0058Acid_ini Read in 0.87 s\n",
      "../dataset_train_v1/0058Inhibitor Read in 0.17 s\n",
      "--> Mask 58 Read Complete, with dataset size: (9, 1, 80, 1000, 1000), 1 masks left ...\n",
      "\n",
      "../dataset_train_v1/0059Acid_ini Read in 0.15 s\n",
      "../dataset_train_v1/0059Inhibitor Read in 0.14 s\n"
     ]
    },
    {
     "name": "stderr",
     "output_type": "stream",
     "text": [
      "\r",
      " 75%|███████▌  | 6/8 [02:20<00:47, 23.77s/it]"
     ]
    },
    {
     "name": "stdout",
     "output_type": "stream",
     "text": [
      "--> Mask 59 Read Complete, with dataset size: (10, 1, 80, 1000, 1000), 0 masks left ...\n",
      "\n",
      "../dataset_train_v1/0060Acid_ini Read in 0.14 s\n",
      "../dataset_train_v1/0060Inhibitor Read in 0.13 s\n",
      "--> Mask 60 Read Complete, with dataset size: (1, 1, 80, 1000, 1000), 9 masks left ...\n",
      "\n",
      "../dataset_train_v1/0061Acid_ini Read in 0.13 s\n",
      "../dataset_train_v1/0061Inhibitor Read in 0.13 s\n",
      "--> Mask 61 Read Complete, with dataset size: (2, 1, 80, 1000, 1000), 8 masks left ...\n",
      "\n",
      "../dataset_train_v1/0062Acid_ini Read in 0.13 s\n",
      "../dataset_train_v1/0062Inhibitor Read in 0.15 s\n",
      "--> Mask 62 Read Complete, with dataset size: (3, 1, 80, 1000, 1000), 7 masks left ...\n",
      "\n",
      "../dataset_train_v1/0063Acid_ini Read in 0.13 s\n",
      "../dataset_train_v1/0063Inhibitor Read in 0.13 s\n",
      "--> Mask 63 Read Complete, with dataset size: (4, 1, 80, 1000, 1000), 6 masks left ...\n",
      "\n",
      "../dataset_train_v1/0064Acid_ini Read in 0.15 s\n",
      "../dataset_train_v1/0064Inhibitor Read in 0.15 s\n",
      "--> Mask 64 Read Complete, with dataset size: (5, 1, 80, 1000, 1000), 5 masks left ...\n",
      "\n",
      "../dataset_train_v1/0065Acid_ini Read in 0.14 s\n",
      "../dataset_train_v1/0065Inhibitor Read in 0.14 s\n",
      "--> Mask 65 Read Complete, with dataset size: (6, 1, 80, 1000, 1000), 4 masks left ...\n",
      "\n",
      "../dataset_train_v1/0066Acid_ini Read in 0.15 s\n",
      "../dataset_train_v1/0066Inhibitor Read in 0.15 s\n",
      "--> Mask 66 Read Complete, with dataset size: (7, 1, 80, 1000, 1000), 3 masks left ...\n",
      "\n",
      "../dataset_train_v1/0067Acid_ini Read in 0.19 s\n",
      "../dataset_train_v1/0067Inhibitor Read in 0.17 s\n",
      "--> Mask 67 Read Complete, with dataset size: (8, 1, 80, 1000, 1000), 2 masks left ...\n",
      "\n",
      "../dataset_train_v1/0068Acid_ini Read in 0.15 s\n",
      "../dataset_train_v1/0068Inhibitor Read in 0.15 s\n",
      "--> Mask 68 Read Complete, with dataset size: (9, 1, 80, 1000, 1000), 1 masks left ...\n",
      "\n",
      "../dataset_train_v1/0069Acid_ini Read in 0.16 s\n",
      "../dataset_train_v1/0069Inhibitor Read in 0.18 s\n"
     ]
    },
    {
     "name": "stderr",
     "output_type": "stream",
     "text": [
      "\r",
      " 88%|████████▊ | 7/8 [02:43<00:23, 23.57s/it]"
     ]
    },
    {
     "name": "stdout",
     "output_type": "stream",
     "text": [
      "--> Mask 69 Read Complete, with dataset size: (10, 1, 80, 1000, 1000), 0 masks left ...\n",
      "\n",
      "../dataset_train_v1/0070Acid_ini Read in 0.16 s\n",
      "../dataset_train_v1/0070Inhibitor Read in 0.16 s\n",
      "--> Mask 70 Read Complete, with dataset size: (1, 1, 80, 1000, 1000), 9 masks left ...\n",
      "\n",
      "../dataset_train_v1/0071Acid_ini Read in 0.15 s\n",
      "../dataset_train_v1/0071Inhibitor Read in 0.23 s\n",
      "--> Mask 71 Read Complete, with dataset size: (2, 1, 80, 1000, 1000), 8 masks left ...\n",
      "\n",
      "../dataset_train_v1/0072Acid_ini Read in 0.26 s\n",
      "../dataset_train_v1/0072Inhibitor Read in 0.24 s\n",
      "--> Mask 72 Read Complete, with dataset size: (3, 1, 80, 1000, 1000), 7 masks left ...\n",
      "\n",
      "../dataset_train_v1/0073Acid_ini Read in 0.20 s\n",
      "../dataset_train_v1/0073Inhibitor Read in 0.19 s\n",
      "--> Mask 73 Read Complete, with dataset size: (4, 1, 80, 1000, 1000), 6 masks left ...\n",
      "\n",
      "../dataset_train_v1/0074Acid_ini Read in 0.14 s\n",
      "../dataset_train_v1/0074Inhibitor Read in 0.15 s\n",
      "--> Mask 74 Read Complete, with dataset size: (5, 1, 80, 1000, 1000), 5 masks left ...\n",
      "\n",
      "../dataset_train_v1/0075Acid_ini Read in 0.12 s\n",
      "../dataset_train_v1/0075Inhibitor Read in 0.13 s\n",
      "--> Mask 75 Read Complete, with dataset size: (6, 1, 80, 1000, 1000), 4 masks left ...\n",
      "\n",
      "../dataset_train_v1/0076Acid_ini Read in 0.15 s\n",
      "../dataset_train_v1/0076Inhibitor Read in 0.15 s\n",
      "--> Mask 76 Read Complete, with dataset size: (7, 1, 80, 1000, 1000), 3 masks left ...\n",
      "\n",
      "../dataset_train_v1/0077Acid_ini Read in 0.15 s\n",
      "../dataset_train_v1/0077Inhibitor Read in 0.14 s\n",
      "--> Mask 77 Read Complete, with dataset size: (8, 1, 80, 1000, 1000), 2 masks left ...\n",
      "\n",
      "../dataset_train_v1/0078Acid_ini Read in 0.15 s\n",
      "../dataset_train_v1/0078Inhibitor Read in 0.16 s\n",
      "--> Mask 78 Read Complete, with dataset size: (9, 1, 80, 1000, 1000), 1 masks left ...\n",
      "\n",
      "../dataset_train_v1/0079Acid_ini Read in 0.15 s\n",
      "../dataset_train_v1/0079Inhibitor Read in 0.15 s\n"
     ]
    },
    {
     "name": "stderr",
     "output_type": "stream",
     "text": [
      "100%|██████████| 8/8 [03:06<00:00, 23.31s/it]\n"
     ]
    },
    {
     "name": "stdout",
     "output_type": "stream",
     "text": [
      "--> Mask 79 Read Complete, with dataset size: (10, 1, 80, 1000, 1000), 0 masks left ...\n",
      "\n"
     ]
    },
    {
     "name": "stderr",
     "output_type": "stream",
     "text": [
      "\r",
      "  0%|          | 0/2 [00:00<?, ?it/s]"
     ]
    },
    {
     "name": "stdout",
     "output_type": "stream",
     "text": [
      "../dataset_train_v1/0080Acid_ini Read in 0.15 s\n",
      "../dataset_train_v1/0080Inhibitor Read in 0.15 s\n",
      "--> Mask 80 Read Complete, with dataset size: (1, 1, 80, 1000, 1000), 9 masks left ...\n",
      "\n",
      "../dataset_train_v1/0081Acid_ini Read in 0.14 s\n",
      "../dataset_train_v1/0081Inhibitor Read in 0.14 s\n",
      "--> Mask 81 Read Complete, with dataset size: (2, 1, 80, 1000, 1000), 8 masks left ...\n",
      "\n",
      "../dataset_train_v1/0082Acid_ini Read in 0.13 s\n",
      "../dataset_train_v1/0082Inhibitor Read in 0.13 s\n",
      "--> Mask 82 Read Complete, with dataset size: (3, 1, 80, 1000, 1000), 7 masks left ...\n",
      "\n",
      "../dataset_train_v1/0083Acid_ini Read in 0.13 s\n",
      "../dataset_train_v1/0083Inhibitor Read in 0.14 s\n",
      "--> Mask 83 Read Complete, with dataset size: (4, 1, 80, 1000, 1000), 6 masks left ...\n",
      "\n",
      "../dataset_train_v1/0084Acid_ini Read in 0.14 s\n",
      "../dataset_train_v1/0084Inhibitor Read in 0.13 s\n",
      "--> Mask 84 Read Complete, with dataset size: (5, 1, 80, 1000, 1000), 5 masks left ...\n",
      "\n",
      "../dataset_train_v1/0085Acid_ini Read in 0.15 s\n",
      "../dataset_train_v1/0085Inhibitor Read in 0.13 s\n",
      "--> Mask 85 Read Complete, with dataset size: (6, 1, 80, 1000, 1000), 4 masks left ...\n",
      "\n",
      "../dataset_train_v1/0086Acid_ini Read in 0.17 s\n",
      "../dataset_train_v1/0086Inhibitor Read in 0.15 s\n",
      "--> Mask 86 Read Complete, with dataset size: (7, 1, 80, 1000, 1000), 3 masks left ...\n",
      "\n",
      "../dataset_train_v1/0087Acid_ini Read in 0.15 s\n",
      "../dataset_train_v1/0087Inhibitor Read in 0.15 s\n",
      "--> Mask 87 Read Complete, with dataset size: (8, 1, 80, 1000, 1000), 2 masks left ...\n",
      "\n",
      "../dataset_train_v1/0088Acid_ini Read in 0.15 s\n",
      "../dataset_train_v1/0088Inhibitor Read in 0.15 s\n",
      "--> Mask 88 Read Complete, with dataset size: (9, 1, 80, 1000, 1000), 1 masks left ...\n",
      "\n",
      "../dataset_train_v1/0089Acid_ini Read in 0.14 s\n",
      "../dataset_train_v1/0089Inhibitor Read in 0.14 s\n"
     ]
    },
    {
     "name": "stderr",
     "output_type": "stream",
     "text": [
      "\r",
      " 50%|█████     | 1/2 [00:22<00:22, 22.79s/it]"
     ]
    },
    {
     "name": "stdout",
     "output_type": "stream",
     "text": [
      "--> Mask 89 Read Complete, with dataset size: (10, 1, 80, 1000, 1000), 0 masks left ...\n",
      "\n",
      "../dataset_train_v1/0090Acid_ini Read in 0.14 s\n",
      "../dataset_train_v1/0090Inhibitor Read in 0.13 s\n",
      "--> Mask 90 Read Complete, with dataset size: (1, 1, 80, 1000, 1000), 9 masks left ...\n",
      "\n",
      "../dataset_train_v1/0091Acid_ini Read in 0.13 s\n",
      "../dataset_train_v1/0091Inhibitor Read in 0.13 s\n",
      "--> Mask 91 Read Complete, with dataset size: (2, 1, 80, 1000, 1000), 8 masks left ...\n",
      "\n",
      "../dataset_train_v1/0092Acid_ini Read in 0.13 s\n",
      "../dataset_train_v1/0092Inhibitor Read in 0.13 s\n",
      "--> Mask 92 Read Complete, with dataset size: (3, 1, 80, 1000, 1000), 7 masks left ...\n",
      "\n",
      "../dataset_train_v1/0093Acid_ini Read in 0.13 s\n",
      "../dataset_train_v1/0093Inhibitor Read in 0.12 s\n",
      "--> Mask 93 Read Complete, with dataset size: (4, 1, 80, 1000, 1000), 6 masks left ...\n",
      "\n",
      "../dataset_train_v1/0094Acid_ini Read in 0.15 s\n",
      "../dataset_train_v1/0094Inhibitor Read in 0.14 s\n",
      "--> Mask 94 Read Complete, with dataset size: (5, 1, 80, 1000, 1000), 5 masks left ...\n",
      "\n",
      "../dataset_train_v1/0095Acid_ini Read in 0.14 s\n",
      "../dataset_train_v1/0095Inhibitor Read in 0.13 s\n",
      "--> Mask 95 Read Complete, with dataset size: (6, 1, 80, 1000, 1000), 4 masks left ...\n",
      "\n",
      "../dataset_train_v1/0096Acid_ini Read in 0.15 s\n",
      "../dataset_train_v1/0096Inhibitor Read in 0.13 s\n",
      "--> Mask 96 Read Complete, with dataset size: (7, 1, 80, 1000, 1000), 3 masks left ...\n",
      "\n",
      "../dataset_train_v1/0097Acid_ini Read in 0.15 s\n",
      "../dataset_train_v1/0097Inhibitor Read in 0.15 s\n",
      "--> Mask 97 Read Complete, with dataset size: (8, 1, 80, 1000, 1000), 2 masks left ...\n",
      "\n",
      "../dataset_train_v1/0098Acid_ini Read in 0.14 s\n",
      "../dataset_train_v1/0098Inhibitor Read in 0.13 s\n",
      "--> Mask 98 Read Complete, with dataset size: (9, 1, 80, 1000, 1000), 1 masks left ...\n",
      "\n",
      "../dataset_train_v1/0099Acid_ini Read in 0.15 s\n",
      "../dataset_train_v1/0099Inhibitor Read in 0.14 s\n"
     ]
    },
    {
     "name": "stderr",
     "output_type": "stream",
     "text": [
      "100%|██████████| 2/2 [00:45<00:00, 22.77s/it]"
     ]
    },
    {
     "name": "stdout",
     "output_type": "stream",
     "text": [
      "--> Mask 99 Read Complete, with dataset size: (10, 1, 80, 1000, 1000), 0 masks left ...\n",
      "\n"
     ]
    },
    {
     "name": "stderr",
     "output_type": "stream",
     "text": [
      "\n"
     ]
    }
   ],
   "source": [
    "dataset_train = dataset_append(opt, opt.dataidx_train, res_trans)\n",
    "dataset_test = dataset_append(opt, opt.dataidx_test, res_trans)"
   ]
  },
  {
   "cell_type": "code",
   "execution_count": 5,
   "metadata": {},
   "outputs": [],
   "source": [
    "def opt_strategy(netG, netD, opt):\n",
    "    optimizerD = torch.optim.Adam(netD.parameters(), lr = 3e-4,)# weight_decay=1e-4)\n",
    "    optimizerG = torch.optim.Adam(netG.parameters(), lr = 1e-3,)\n",
    "    schedulerG = torch.optim.lr_scheduler.StepLR(optimizerG, step_size=100, gamma=0.8)\n",
    "    schedulerD = torch.optim.lr_scheduler.StepLR(optimizerD, step_size=100, gamma=0.8)\n",
    "    return optimizerG, optimizerD, schedulerG, schedulerD"
   ]
  },
  {
   "cell_type": "code",
   "execution_count": 6,
   "metadata": {
    "scrolled": true
   },
   "outputs": [
    {
     "name": "stderr",
     "output_type": "stream",
     "text": [
      "  0%|          | 1/2000 [01:59<66:27:32, 119.69s/it]"
     ]
    },
    {
     "name": "stdout",
     "output_type": "stream",
     "text": [
      "Epoch 0 | LR: 1.00e-03 | Train Loss: 9.33e-01(G) 8.96e-03(D) | Test Loss: 1.77e+02, 2.62e-01, 586.24%\n"
     ]
    },
    {
     "name": "stderr",
     "output_type": "stream",
     "text": [
      "  1%|          | 21/2000 [30:30<48:11:00, 87.65s/it]"
     ]
    },
    {
     "name": "stdout",
     "output_type": "stream",
     "text": [
      "Epoch 20 | LR: 1.00e-03 | Train Loss: 1.09e-01(G) 1.22e-02(D) | Test Loss: 3.98e+01, 8.27e-02, 111.24%\n"
     ]
    },
    {
     "name": "stderr",
     "output_type": "stream",
     "text": [
      "  2%|▏         | 41/2000 [58:57<47:39:21, 87.58s/it]"
     ]
    },
    {
     "name": "stdout",
     "output_type": "stream",
     "text": [
      "Epoch 40 | LR: 1.00e-03 | Train Loss: 1.05e-01(G) 1.30e-02(D) | Test Loss: 3.61e+01, 7.47e-02, 107.27%\n"
     ]
    },
    {
     "name": "stderr",
     "output_type": "stream",
     "text": [
      "  3%|▎         | 61/2000 [1:27:26<47:10:14, 87.58s/it]"
     ]
    },
    {
     "name": "stdout",
     "output_type": "stream",
     "text": [
      "Epoch 60 | LR: 1.00e-03 | Train Loss: 7.06e-02(G) 1.36e-02(D) | Test Loss: 3.36e+01, 6.32e-02, 103.76%\n"
     ]
    },
    {
     "name": "stderr",
     "output_type": "stream",
     "text": [
      "  4%|▍         | 81/2000 [1:55:57<46:39:46, 87.54s/it]"
     ]
    },
    {
     "name": "stdout",
     "output_type": "stream",
     "text": [
      "Epoch 80 | LR: 1.00e-03 | Train Loss: 7.57e-02(G) 1.39e-02(D) | Test Loss: 2.94e+01, 6.95e-02, 102.88%\n"
     ]
    },
    {
     "name": "stderr",
     "output_type": "stream",
     "text": [
      "  5%|▌         | 101/2000 [2:24:30<46:18:45, 87.80s/it]"
     ]
    },
    {
     "name": "stdout",
     "output_type": "stream",
     "text": [
      "Epoch 100 | LR: 8.00e-04 | Train Loss: 4.59e-02(G) 1.42e-02(D) | Test Loss: 2.86e+01, 7.21e-02, 101.48%\n"
     ]
    },
    {
     "name": "stderr",
     "output_type": "stream",
     "text": [
      "  6%|▌         | 121/2000 [2:53:01<45:41:55, 87.55s/it]"
     ]
    },
    {
     "name": "stdout",
     "output_type": "stream",
     "text": [
      "Epoch 120 | LR: 8.00e-04 | Train Loss: 3.70e-02(G) 1.44e-02(D) | Test Loss: 2.73e+01, 8.72e-02, 100.32%\n"
     ]
    },
    {
     "name": "stderr",
     "output_type": "stream",
     "text": [
      "  7%|▋         | 141/2000 [3:21:34<45:19:00, 87.76s/it]"
     ]
    },
    {
     "name": "stdout",
     "output_type": "stream",
     "text": [
      "Epoch 140 | LR: 8.00e-04 | Train Loss: 4.21e-02(G) 1.45e-02(D) | Test Loss: 2.54e+01, 5.28e-02, 101.71%\n"
     ]
    },
    {
     "name": "stderr",
     "output_type": "stream",
     "text": [
      "  8%|▊         | 161/2000 [3:50:07<44:46:59, 87.67s/it]"
     ]
    },
    {
     "name": "stdout",
     "output_type": "stream",
     "text": [
      "Epoch 160 | LR: 8.00e-04 | Train Loss: 3.60e-02(G) 1.48e-02(D) | Test Loss: 2.44e+01, 5.40e-02, 101.21%\n"
     ]
    },
    {
     "name": "stderr",
     "output_type": "stream",
     "text": [
      "  9%|▉         | 181/2000 [4:18:34<44:07:23, 87.32s/it]"
     ]
    },
    {
     "name": "stdout",
     "output_type": "stream",
     "text": [
      "Epoch 180 | LR: 8.00e-04 | Train Loss: 3.68e-02(G) 1.49e-02(D) | Test Loss: 2.21e+01, 8.05e-02, 98.41%\n"
     ]
    },
    {
     "name": "stderr",
     "output_type": "stream",
     "text": [
      " 10%|█         | 201/2000 [4:47:04<43:40:20, 87.39s/it]"
     ]
    },
    {
     "name": "stdout",
     "output_type": "stream",
     "text": [
      "Epoch 200 | LR: 6.40e-04 | Train Loss: 4.03e-02(G) 1.50e-02(D) | Test Loss: 2.11e+01, 7.07e-02, 97.31%\n"
     ]
    },
    {
     "name": "stderr",
     "output_type": "stream",
     "text": [
      " 11%|█         | 221/2000 [5:15:36<43:16:41, 87.58s/it]"
     ]
    },
    {
     "name": "stdout",
     "output_type": "stream",
     "text": [
      "Epoch 220 | LR: 6.40e-04 | Train Loss: 1.79e-02(G) 1.51e-02(D) | Test Loss: 2.08e+01, 5.57e-02, 97.81%\n"
     ]
    },
    {
     "name": "stderr",
     "output_type": "stream",
     "text": [
      " 12%|█▏        | 241/2000 [5:44:05<42:42:26, 87.41s/it]"
     ]
    },
    {
     "name": "stdout",
     "output_type": "stream",
     "text": [
      "Epoch 240 | LR: 6.40e-04 | Train Loss: 4.01e-02(G) 1.52e-02(D) | Test Loss: 2.12e+01, 5.70e-02, 94.97%\n"
     ]
    },
    {
     "name": "stderr",
     "output_type": "stream",
     "text": [
      " 13%|█▎        | 261/2000 [6:12:38<42:25:18, 87.82s/it]"
     ]
    },
    {
     "name": "stdout",
     "output_type": "stream",
     "text": [
      "Epoch 260 | LR: 6.40e-04 | Train Loss: 3.36e-02(G) 1.52e-02(D) | Test Loss: 2.14e+01, 5.46e-02, 90.69%\n"
     ]
    },
    {
     "name": "stderr",
     "output_type": "stream",
     "text": [
      " 14%|█▍        | 281/2000 [6:41:10<41:55:43, 87.81s/it]"
     ]
    },
    {
     "name": "stdout",
     "output_type": "stream",
     "text": [
      "Epoch 280 | LR: 6.40e-04 | Train Loss: 2.41e-02(G) 1.53e-02(D) | Test Loss: 2.20e+01, 3.77e-02, 89.75%\n"
     ]
    },
    {
     "name": "stderr",
     "output_type": "stream",
     "text": [
      " 15%|█▌        | 301/2000 [7:09:45<41:25:10, 87.76s/it]"
     ]
    },
    {
     "name": "stdout",
     "output_type": "stream",
     "text": [
      "Epoch 300 | LR: 5.12e-04 | Train Loss: 1.60e-02(G) 1.53e-02(D) | Test Loss: 2.22e+01, 5.77e-02, 84.14%\n"
     ]
    },
    {
     "name": "stderr",
     "output_type": "stream",
     "text": [
      " 16%|█▌        | 321/2000 [7:38:18<40:51:58, 87.62s/it]"
     ]
    },
    {
     "name": "stdout",
     "output_type": "stream",
     "text": [
      "Epoch 320 | LR: 5.12e-04 | Train Loss: 3.08e-02(G) 1.54e-02(D) | Test Loss: 2.22e+01, 6.16e-02, 82.45%\n"
     ]
    },
    {
     "name": "stderr",
     "output_type": "stream",
     "text": [
      " 17%|█▋        | 341/2000 [8:06:53<40:20:57, 87.56s/it]"
     ]
    },
    {
     "name": "stdout",
     "output_type": "stream",
     "text": [
      "Epoch 340 | LR: 5.12e-04 | Train Loss: 3.36e-02(G) 1.54e-02(D) | Test Loss: 2.22e+01, 5.31e-02, 80.96%\n"
     ]
    },
    {
     "name": "stderr",
     "output_type": "stream",
     "text": [
      " 18%|█▊        | 361/2000 [8:35:25<39:52:36, 87.59s/it]"
     ]
    },
    {
     "name": "stdout",
     "output_type": "stream",
     "text": [
      "Epoch 360 | LR: 5.12e-04 | Train Loss: 2.76e-02(G) 1.54e-02(D) | Test Loss: 2.25e+01, 4.54e-02, 79.51%\n"
     ]
    },
    {
     "name": "stderr",
     "output_type": "stream",
     "text": [
      " 19%|█▉        | 381/2000 [9:03:52<39:10:22, 87.10s/it]"
     ]
    },
    {
     "name": "stdout",
     "output_type": "stream",
     "text": [
      "Epoch 380 | LR: 5.12e-04 | Train Loss: 2.31e-02(G) 1.55e-02(D) | Test Loss: 2.24e+01, 5.32e-02, 78.41%\n"
     ]
    },
    {
     "name": "stderr",
     "output_type": "stream",
     "text": [
      " 20%|██        | 401/2000 [9:32:30<39:28:32, 88.88s/it]"
     ]
    },
    {
     "name": "stdout",
     "output_type": "stream",
     "text": [
      "Epoch 400 | LR: 4.10e-04 | Train Loss: 2.35e-02(G) 1.55e-02(D) | Test Loss: 2.25e+01, 4.96e-02, 78.12%\n"
     ]
    },
    {
     "name": "stderr",
     "output_type": "stream",
     "text": [
      " 21%|██        | 421/2000 [10:01:06<38:29:00, 87.74s/it]"
     ]
    },
    {
     "name": "stdout",
     "output_type": "stream",
     "text": [
      "Epoch 420 | LR: 4.10e-04 | Train Loss: 1.61e-02(G) 1.55e-02(D) | Test Loss: 2.24e+01, 5.78e-02, 76.54%\n"
     ]
    },
    {
     "name": "stderr",
     "output_type": "stream",
     "text": [
      " 23%|██▎       | 461/2000 [10:58:09<37:22:32, 87.43s/it]"
     ]
    },
    {
     "name": "stdout",
     "output_type": "stream",
     "text": [
      "Epoch 460 | LR: 4.10e-04 | Train Loss: 1.43e-02(G) 1.56e-02(D) | Test Loss: 2.27e+01, 3.81e-02, 77.83%\n"
     ]
    },
    {
     "name": "stderr",
     "output_type": "stream",
     "text": [
      " 24%|██▍       | 481/2000 [11:26:39<36:58:21, 87.62s/it]"
     ]
    },
    {
     "name": "stdout",
     "output_type": "stream",
     "text": [
      "Epoch 480 | LR: 4.10e-04 | Train Loss: 1.06e-02(G) 1.56e-02(D) | Test Loss: 2.28e+01, 5.69e-02, 75.95%\n"
     ]
    },
    {
     "name": "stderr",
     "output_type": "stream",
     "text": [
      " 25%|██▌       | 501/2000 [11:55:16<36:38:07, 87.98s/it]"
     ]
    },
    {
     "name": "stdout",
     "output_type": "stream",
     "text": [
      "Epoch 500 | LR: 3.28e-04 | Train Loss: 1.52e-02(G) 1.56e-02(D) | Test Loss: 2.26e+01, 6.09e-02, 74.91%\n"
     ]
    },
    {
     "name": "stderr",
     "output_type": "stream",
     "text": [
      " 26%|██▌       | 521/2000 [12:23:51<36:01:34, 87.69s/it]"
     ]
    },
    {
     "name": "stdout",
     "output_type": "stream",
     "text": [
      "Epoch 520 | LR: 3.28e-04 | Train Loss: 2.18e-02(G) 1.56e-02(D) | Test Loss: 2.26e+01, 4.49e-02, 75.35%\n"
     ]
    },
    {
     "name": "stderr",
     "output_type": "stream",
     "text": [
      " 27%|██▋       | 541/2000 [12:52:26<35:30:06, 87.60s/it]"
     ]
    },
    {
     "name": "stdout",
     "output_type": "stream",
     "text": [
      "Epoch 540 | LR: 3.28e-04 | Train Loss: 2.25e-02(G) 1.57e-02(D) | Test Loss: 2.27e+01, 4.79e-02, 74.56%\n"
     ]
    },
    {
     "name": "stderr",
     "output_type": "stream",
     "text": [
      " 28%|██▊       | 561/2000 [13:20:58<34:59:09, 87.53s/it]"
     ]
    },
    {
     "name": "stdout",
     "output_type": "stream",
     "text": [
      "Epoch 560 | LR: 3.28e-04 | Train Loss: 1.66e-02(G) 1.57e-02(D) | Test Loss: 2.25e+01, 4.32e-02, 73.66%\n"
     ]
    },
    {
     "name": "stderr",
     "output_type": "stream",
     "text": [
      " 29%|██▉       | 581/2000 [13:49:29<34:29:04, 87.49s/it]"
     ]
    },
    {
     "name": "stdout",
     "output_type": "stream",
     "text": [
      "Epoch 580 | LR: 3.28e-04 | Train Loss: 1.40e-02(G) 1.57e-02(D) | Test Loss: 2.24e+01, 5.03e-02, 72.87%\n"
     ]
    },
    {
     "name": "stderr",
     "output_type": "stream",
     "text": [
      " 30%|███       | 601/2000 [14:18:03<33:59:04, 87.45s/it]"
     ]
    },
    {
     "name": "stdout",
     "output_type": "stream",
     "text": [
      "Epoch 600 | LR: 2.62e-04 | Train Loss: 8.69e-03(G) 1.57e-02(D) | Test Loss: 2.25e+01, 4.32e-02, 71.03%\n"
     ]
    },
    {
     "name": "stderr",
     "output_type": "stream",
     "text": [
      " 31%|███       | 621/2000 [14:46:38<33:38:41, 87.83s/it]"
     ]
    },
    {
     "name": "stdout",
     "output_type": "stream",
     "text": [
      "Epoch 620 | LR: 2.62e-04 | Train Loss: 8.20e-03(G) 1.57e-02(D) | Test Loss: 2.27e+01, 3.37e-02, 68.85%\n"
     ]
    },
    {
     "name": "stderr",
     "output_type": "stream",
     "text": [
      " 32%|███▏      | 641/2000 [15:15:12<33:02:48, 87.54s/it]"
     ]
    },
    {
     "name": "stdout",
     "output_type": "stream",
     "text": [
      "Epoch 640 | LR: 2.62e-04 | Train Loss: 1.39e-02(G) 1.57e-02(D) | Test Loss: 2.27e+01, 4.56e-02, 65.44%\n"
     ]
    },
    {
     "name": "stderr",
     "output_type": "stream",
     "text": [
      " 33%|███▎      | 661/2000 [15:43:41<32:36:45, 87.68s/it]"
     ]
    },
    {
     "name": "stdout",
     "output_type": "stream",
     "text": [
      "Epoch 660 | LR: 2.62e-04 | Train Loss: 1.36e-02(G) 1.57e-02(D) | Test Loss: 2.26e+01, 4.16e-02, 60.78%\n"
     ]
    },
    {
     "name": "stderr",
     "output_type": "stream",
     "text": [
      " 34%|███▍      | 681/2000 [16:12:14<32:03:09, 87.48s/it]"
     ]
    },
    {
     "name": "stdout",
     "output_type": "stream",
     "text": [
      "Epoch 680 | LR: 2.62e-04 | Train Loss: 1.08e-02(G) 1.58e-02(D) | Test Loss: 2.25e+01, 3.41e-02, 56.26%\n"
     ]
    },
    {
     "name": "stderr",
     "output_type": "stream",
     "text": [
      " 35%|███▌      | 701/2000 [16:40:47<31:41:29, 87.83s/it]"
     ]
    },
    {
     "name": "stdout",
     "output_type": "stream",
     "text": [
      "Epoch 700 | LR: 2.10e-04 | Train Loss: 1.01e-02(G) 1.58e-02(D) | Test Loss: 2.23e+01, 3.59e-02, 49.72%\n"
     ]
    },
    {
     "name": "stderr",
     "output_type": "stream",
     "text": [
      " 36%|███▌      | 721/2000 [17:09:22<31:13:50, 87.90s/it]"
     ]
    },
    {
     "name": "stdout",
     "output_type": "stream",
     "text": [
      "Epoch 720 | LR: 2.10e-04 | Train Loss: 1.51e-02(G) 1.58e-02(D) | Test Loss: 2.24e+01, 2.43e-02, 44.26%\n"
     ]
    },
    {
     "name": "stderr",
     "output_type": "stream",
     "text": [
      " 37%|███▋      | 741/2000 [17:37:58<30:45:16, 87.94s/it]"
     ]
    },
    {
     "name": "stdout",
     "output_type": "stream",
     "text": [
      "Epoch 740 | LR: 2.10e-04 | Train Loss: 8.07e-03(G) 1.58e-02(D) | Test Loss: 2.22e+01, 2.53e-02, 36.03%\n"
     ]
    },
    {
     "name": "stderr",
     "output_type": "stream",
     "text": [
      " 38%|███▊      | 761/2000 [18:06:33<30:13:30, 87.82s/it]"
     ]
    },
    {
     "name": "stdout",
     "output_type": "stream",
     "text": [
      "Epoch 760 | LR: 2.10e-04 | Train Loss: 1.27e-02(G) 1.58e-02(D) | Test Loss: 2.23e+01, 1.91e-02, 32.15%\n"
     ]
    },
    {
     "name": "stderr",
     "output_type": "stream",
     "text": [
      " 39%|███▉      | 781/2000 [18:35:09<29:42:05, 87.72s/it]"
     ]
    },
    {
     "name": "stdout",
     "output_type": "stream",
     "text": [
      "Epoch 780 | LR: 2.10e-04 | Train Loss: 7.20e-03(G) 1.58e-02(D) | Test Loss: 2.21e+01, 2.34e-02, 26.81%\n"
     ]
    },
    {
     "name": "stderr",
     "output_type": "stream",
     "text": [
      " 40%|████      | 801/2000 [19:03:45<29:13:07, 87.73s/it]"
     ]
    },
    {
     "name": "stdout",
     "output_type": "stream",
     "text": [
      "Epoch 800 | LR: 1.68e-04 | Train Loss: 7.42e-03(G) 1.58e-02(D) | Test Loss: 2.20e+01, 1.88e-02, 24.04%\n"
     ]
    },
    {
     "name": "stderr",
     "output_type": "stream",
     "text": [
      " 41%|████      | 821/2000 [19:32:18<28:41:10, 87.59s/it]"
     ]
    },
    {
     "name": "stdout",
     "output_type": "stream",
     "text": [
      "Epoch 820 | LR: 1.68e-04 | Train Loss: 6.22e-03(G) 1.58e-02(D) | Test Loss: 2.21e+01, 1.44e-02, 23.63%\n"
     ]
    },
    {
     "name": "stderr",
     "output_type": "stream",
     "text": [
      " 42%|████▏     | 841/2000 [20:00:50<28:11:59, 87.59s/it]"
     ]
    },
    {
     "name": "stdout",
     "output_type": "stream",
     "text": [
      "Epoch 840 | LR: 1.68e-04 | Train Loss: 5.75e-03(G) 1.58e-02(D) | Test Loss: 2.19e+01, 1.49e-02, 20.72%\n"
     ]
    },
    {
     "name": "stderr",
     "output_type": "stream",
     "text": [
      " 43%|████▎     | 861/2000 [20:29:26<27:44:26, 87.68s/it]"
     ]
    },
    {
     "name": "stdout",
     "output_type": "stream",
     "text": [
      "Epoch 860 | LR: 1.68e-04 | Train Loss: 1.06e-02(G) 1.58e-02(D) | Test Loss: 2.16e+01, 1.41e-02, 19.88%\n"
     ]
    },
    {
     "name": "stderr",
     "output_type": "stream",
     "text": [
      " 44%|████▍     | 881/2000 [20:58:01<27:14:59, 87.67s/it]"
     ]
    },
    {
     "name": "stdout",
     "output_type": "stream",
     "text": [
      "Epoch 880 | LR: 1.68e-04 | Train Loss: 7.95e-03(G) 1.58e-02(D) | Test Loss: 2.16e+01, 1.09e-02, 19.30%\n"
     ]
    },
    {
     "name": "stderr",
     "output_type": "stream",
     "text": [
      " 45%|████▌     | 901/2000 [21:26:36<26:45:06, 87.63s/it]"
     ]
    },
    {
     "name": "stdout",
     "output_type": "stream",
     "text": [
      "Epoch 900 | LR: 1.34e-04 | Train Loss: 7.02e-03(G) 1.59e-02(D) | Test Loss: 2.10e+01, 1.19e-02, 17.81%\n"
     ]
    },
    {
     "name": "stderr",
     "output_type": "stream",
     "text": [
      " 46%|████▌     | 921/2000 [21:55:09<26:15:00, 87.58s/it]"
     ]
    },
    {
     "name": "stdout",
     "output_type": "stream",
     "text": [
      "Epoch 920 | LR: 1.34e-04 | Train Loss: 5.21e-03(G) 1.59e-02(D) | Test Loss: 2.08e+01, 1.25e-02, 17.27%\n"
     ]
    },
    {
     "name": "stderr",
     "output_type": "stream",
     "text": [
      " 47%|████▋     | 941/2000 [22:23:45<25:47:02, 87.65s/it]"
     ]
    },
    {
     "name": "stdout",
     "output_type": "stream",
     "text": [
      "Epoch 940 | LR: 1.34e-04 | Train Loss: 5.70e-03(G) 1.59e-02(D) | Test Loss: 2.06e+01, 9.26e-03, 16.99%\n"
     ]
    },
    {
     "name": "stderr",
     "output_type": "stream",
     "text": [
      " 48%|████▊     | 961/2000 [22:52:21<25:18:21, 87.68s/it]"
     ]
    },
    {
     "name": "stdout",
     "output_type": "stream",
     "text": [
      "Epoch 960 | LR: 1.34e-04 | Train Loss: 5.99e-03(G) 1.59e-02(D) | Test Loss: 2.03e+01, 9.86e-03, 15.87%\n"
     ]
    },
    {
     "name": "stderr",
     "output_type": "stream",
     "text": [
      " 49%|████▉     | 981/2000 [23:20:58<24:50:04, 87.74s/it]"
     ]
    },
    {
     "name": "stdout",
     "output_type": "stream",
     "text": [
      "Epoch 980 | LR: 1.34e-04 | Train Loss: 6.44e-03(G) 1.59e-02(D) | Test Loss: 2.01e+01, 1.09e-02, 15.67%\n"
     ]
    },
    {
     "name": "stderr",
     "output_type": "stream",
     "text": [
      " 50%|█████     | 1001/2000 [23:49:31<24:21:26, 87.77s/it]"
     ]
    },
    {
     "name": "stdout",
     "output_type": "stream",
     "text": [
      "Epoch 1000 | LR: 1.07e-04 | Train Loss: 9.65e-03(G) 1.59e-02(D) | Test Loss: 1.99e+01, 9.06e-03, 14.99%\n",
      "\n",
      "!Model saved at Epoch 1000, with Train Loss 9.65e-03(G) | Test Error(Ihb): 9.06e-03(MSE), 14.99%(NRMSE)\n",
      "\n",
      "!Model saved to  ./Ckpts/CGAN-G.pth\n",
      "\n",
      "!Model saved at Epoch 1000, with Train Loss 1.59e-02(D) | \n",
      "!Model saved to  ./Ckpts/CGAN-D.pth\n"
     ]
    },
    {
     "name": "stderr",
     "output_type": "stream",
     "text": [
      " 51%|█████     | 1021/2000 [24:18:08<23:50:35, 87.68s/it]"
     ]
    },
    {
     "name": "stdout",
     "output_type": "stream",
     "text": [
      "Epoch 1020 | LR: 1.07e-04 | Train Loss: 8.01e-03(G) 1.59e-02(D) | Test Loss: 1.96e+01, 1.04e-02, 14.73%\n"
     ]
    },
    {
     "name": "stderr",
     "output_type": "stream",
     "text": [
      " 52%|█████▏    | 1041/2000 [24:46:41<23:17:34, 87.44s/it]"
     ]
    },
    {
     "name": "stdout",
     "output_type": "stream",
     "text": [
      "Epoch 1040 | LR: 1.07e-04 | Train Loss: 8.62e-03(G) 1.59e-02(D) | Test Loss: 1.93e+01, 1.09e-02, 14.33%\n"
     ]
    },
    {
     "name": "stderr",
     "output_type": "stream",
     "text": [
      " 53%|█████▎    | 1061/2000 [25:15:14<22:52:10, 87.68s/it]"
     ]
    },
    {
     "name": "stdout",
     "output_type": "stream",
     "text": [
      "Epoch 1060 | LR: 1.07e-04 | Train Loss: 3.94e-03(G) 1.59e-02(D) | Test Loss: 1.92e+01, 8.76e-03, 14.30%\n"
     ]
    },
    {
     "name": "stderr",
     "output_type": "stream",
     "text": [
      " 54%|█████▍    | 1081/2000 [25:43:56<22:28:38, 88.05s/it]"
     ]
    },
    {
     "name": "stdout",
     "output_type": "stream",
     "text": [
      "Epoch 1080 | LR: 1.07e-04 | Train Loss: 6.05e-03(G) 1.59e-02(D) | Test Loss: 1.89e+01, 9.30e-03, 13.96%\n",
      "\n",
      "!Model saved at Epoch 1080, with Train Loss 6.05e-03(G) | Test Error(Ihb): 9.30e-03(MSE), 13.96%(NRMSE)\n",
      "\n",
      "!Model saved to  ./Ckpts/CGAN-G.pth\n",
      "\n",
      "!Model saved at Epoch 1080, with Train Loss 1.59e-02(D) | \n",
      "!Model saved to  ./Ckpts/CGAN-D.pth\n"
     ]
    },
    {
     "name": "stderr",
     "output_type": "stream",
     "text": [
      " 55%|█████▌    | 1101/2000 [26:12:35<22:01:04, 88.17s/it]"
     ]
    },
    {
     "name": "stdout",
     "output_type": "stream",
     "text": [
      "Epoch 1100 | LR: 8.59e-05 | Train Loss: 6.32e-03(G) 1.59e-02(D) | Test Loss: 1.87e+01, 7.32e-03, 13.87%\n"
     ]
    },
    {
     "name": "stderr",
     "output_type": "stream",
     "text": [
      " 56%|█████▌    | 1121/2000 [26:41:15<21:31:03, 88.13s/it]"
     ]
    },
    {
     "name": "stdout",
     "output_type": "stream",
     "text": [
      "Epoch 1120 | LR: 8.59e-05 | Train Loss: 4.13e-03(G) 1.59e-02(D) | Test Loss: 1.83e+01, 9.75e-03, 13.76%\n"
     ]
    },
    {
     "name": "stderr",
     "output_type": "stream",
     "text": [
      " 57%|█████▋    | 1141/2000 [27:10:24<20:58:01, 87.87s/it]"
     ]
    },
    {
     "name": "stdout",
     "output_type": "stream",
     "text": [
      "Epoch 1140 | LR: 8.59e-05 | Train Loss: 7.42e-03(G) 1.59e-02(D) | Test Loss: 1.82e+01, 8.61e-03, 14.15%\n"
     ]
    },
    {
     "name": "stderr",
     "output_type": "stream",
     "text": [
      " 58%|█████▊    | 1161/2000 [27:39:05<20:28:09, 87.83s/it]"
     ]
    },
    {
     "name": "stdout",
     "output_type": "stream",
     "text": [
      "Epoch 1160 | LR: 8.59e-05 | Train Loss: 5.50e-03(G) 1.59e-02(D) | Test Loss: 1.83e+01, 8.53e-03, 13.38%\n"
     ]
    },
    {
     "name": "stderr",
     "output_type": "stream",
     "text": [
      " 59%|█████▉    | 1181/2000 [28:07:44<19:59:58, 87.91s/it]"
     ]
    },
    {
     "name": "stdout",
     "output_type": "stream",
     "text": [
      "Epoch 1180 | LR: 8.59e-05 | Train Loss: 6.27e-03(G) 1.59e-02(D) | Test Loss: 1.81e+01, 9.08e-03, 13.36%\n"
     ]
    },
    {
     "name": "stderr",
     "output_type": "stream",
     "text": [
      " 60%|██████    | 1201/2000 [28:36:29<19:35:28, 88.27s/it]"
     ]
    },
    {
     "name": "stdout",
     "output_type": "stream",
     "text": [
      "Epoch 1200 | LR: 6.87e-05 | Train Loss: 7.47e-03(G) 1.59e-02(D) | Test Loss: 1.83e+01, 9.52e-03, 13.16%\n",
      "\n",
      "!Model saved at Epoch 1200, with Train Loss 7.47e-03(G) | Test Error(Ihb): 9.52e-03(MSE), 13.16%(NRMSE)\n",
      "\n",
      "!Model saved to  ./Ckpts/CGAN-G.pth\n",
      "\n",
      "!Model saved at Epoch 1200, with Train Loss 1.59e-02(D) | \n",
      "!Model saved to  ./Ckpts/CGAN-D.pth\n"
     ]
    },
    {
     "name": "stderr",
     "output_type": "stream",
     "text": [
      " 61%|██████    | 1221/2000 [29:05:12<19:04:11, 88.13s/it]"
     ]
    },
    {
     "name": "stdout",
     "output_type": "stream",
     "text": [
      "Epoch 1220 | LR: 6.87e-05 | Train Loss: 4.32e-03(G) 1.59e-02(D) | Test Loss: 1.82e+01, 9.09e-03, 13.22%\n"
     ]
    },
    {
     "name": "stderr",
     "output_type": "stream",
     "text": [
      " 62%|██████▏   | 1241/2000 [29:33:57<18:36:45, 88.28s/it]"
     ]
    },
    {
     "name": "stdout",
     "output_type": "stream",
     "text": [
      "Epoch 1240 | LR: 6.87e-05 | Train Loss: 6.41e-03(G) 1.59e-02(D) | Test Loss: 1.84e+01, 6.85e-03, 13.15%\n"
     ]
    },
    {
     "name": "stderr",
     "output_type": "stream",
     "text": [
      " 63%|██████▎   | 1261/2000 [30:02:42<18:07:19, 88.28s/it]"
     ]
    },
    {
     "name": "stdout",
     "output_type": "stream",
     "text": [
      "Epoch 1260 | LR: 6.87e-05 | Train Loss: 5.99e-03(G) 1.59e-02(D) | Test Loss: 1.85e+01, 6.53e-03, 13.45%\n"
     ]
    },
    {
     "name": "stderr",
     "output_type": "stream",
     "text": [
      " 64%|██████▍   | 1281/2000 [30:31:27<17:37:42, 88.27s/it]"
     ]
    },
    {
     "name": "stdout",
     "output_type": "stream",
     "text": [
      "Epoch 1280 | LR: 6.87e-05 | Train Loss: 6.58e-03(G) 1.59e-02(D) | Test Loss: 1.82e+01, 9.03e-03, 12.89%\n"
     ]
    },
    {
     "name": "stderr",
     "output_type": "stream",
     "text": [
      " 65%|██████▌   | 1301/2000 [31:00:12<17:12:28, 88.62s/it]"
     ]
    },
    {
     "name": "stdout",
     "output_type": "stream",
     "text": [
      "Epoch 1300 | LR: 5.50e-05 | Train Loss: 6.67e-03(G) 1.59e-02(D) | Test Loss: 1.84e+01, 6.71e-03, 13.35%\n"
     ]
    },
    {
     "name": "stderr",
     "output_type": "stream",
     "text": [
      " 66%|██████▌   | 1321/2000 [31:28:54<16:36:33, 88.06s/it]"
     ]
    },
    {
     "name": "stdout",
     "output_type": "stream",
     "text": [
      "Epoch 1320 | LR: 5.50e-05 | Train Loss: 3.91e-03(G) 1.59e-02(D) | Test Loss: 1.84e+01, 1.09e-02, 12.62%\n"
     ]
    },
    {
     "name": "stderr",
     "output_type": "stream",
     "text": [
      " 67%|██████▋   | 1341/2000 [31:57:37<16:07:06, 88.05s/it]"
     ]
    },
    {
     "name": "stdout",
     "output_type": "stream",
     "text": [
      "Epoch 1340 | LR: 5.50e-05 | Train Loss: 5.61e-03(G) 1.59e-02(D) | Test Loss: 1.86e+01, 6.76e-03, 12.58%\n"
     ]
    },
    {
     "name": "stderr",
     "output_type": "stream",
     "text": [
      " 68%|██████▊   | 1361/2000 [32:26:20<15:37:59, 88.07s/it]"
     ]
    },
    {
     "name": "stdout",
     "output_type": "stream",
     "text": [
      "Epoch 1360 | LR: 5.50e-05 | Train Loss: 5.67e-03(G) 1.59e-02(D) | Test Loss: 1.85e+01, 1.07e-02, 12.54%\n"
     ]
    },
    {
     "name": "stderr",
     "output_type": "stream",
     "text": [
      " 69%|██████▉   | 1381/2000 [32:55:01<15:07:04, 87.92s/it]"
     ]
    },
    {
     "name": "stdout",
     "output_type": "stream",
     "text": [
      "Epoch 1380 | LR: 5.50e-05 | Train Loss: 5.20e-03(G) 1.59e-02(D) | Test Loss: 1.87e+01, 8.37e-03, 12.52%\n"
     ]
    },
    {
     "name": "stderr",
     "output_type": "stream",
     "text": [
      " 70%|███████   | 1401/2000 [33:23:41<14:40:53, 88.24s/it]"
     ]
    },
    {
     "name": "stdout",
     "output_type": "stream",
     "text": [
      "Epoch 1400 | LR: 4.40e-05 | Train Loss: 6.25e-03(G) 1.59e-02(D) | Test Loss: 1.86e+01, 6.77e-03, 12.44%\n",
      "\n",
      "!Model saved at Epoch 1400, with Train Loss 6.25e-03(G) | Test Error(Ihb): 6.77e-03(MSE), 12.44%(NRMSE)\n",
      "\n",
      "!Model saved to  ./Ckpts/CGAN-G.pth\n",
      "\n",
      "!Model saved at Epoch 1400, with Train Loss 1.59e-02(D) | \n",
      "!Model saved to  ./Ckpts/CGAN-D.pth\n"
     ]
    },
    {
     "name": "stderr",
     "output_type": "stream",
     "text": [
      " 71%|███████   | 1421/2000 [33:52:19<14:09:53, 88.07s/it]"
     ]
    },
    {
     "name": "stdout",
     "output_type": "stream",
     "text": [
      "Epoch 1420 | LR: 4.40e-05 | Train Loss: 6.80e-03(G) 1.59e-02(D) | Test Loss: 1.86e+01, 8.96e-03, 12.37%\n"
     ]
    },
    {
     "name": "stderr",
     "output_type": "stream",
     "text": [
      " 72%|███████▏  | 1441/2000 [34:21:03<13:43:02, 88.34s/it]"
     ]
    },
    {
     "name": "stdout",
     "output_type": "stream",
     "text": [
      "Epoch 1440 | LR: 4.40e-05 | Train Loss: 4.73e-03(G) 1.59e-02(D) | Test Loss: 1.85e+01, 9.24e-03, 12.77%\n"
     ]
    },
    {
     "name": "stderr",
     "output_type": "stream",
     "text": [
      " 73%|███████▎  | 1461/2000 [34:49:46<13:12:05, 88.17s/it]"
     ]
    },
    {
     "name": "stdout",
     "output_type": "stream",
     "text": [
      "Epoch 1460 | LR: 4.40e-05 | Train Loss: 4.41e-03(G) 1.60e-02(D) | Test Loss: 1.86e+01, 8.12e-03, 12.44%\n"
     ]
    },
    {
     "name": "stderr",
     "output_type": "stream",
     "text": [
      " 74%|███████▍  | 1481/2000 [35:18:28<12:39:59, 87.86s/it]"
     ]
    },
    {
     "name": "stdout",
     "output_type": "stream",
     "text": [
      "Epoch 1480 | LR: 4.40e-05 | Train Loss: 3.74e-03(G) 1.60e-02(D) | Test Loss: 1.85e+01, 1.06e-02, 12.23%\n"
     ]
    },
    {
     "name": "stderr",
     "output_type": "stream",
     "text": [
      " 75%|███████▌  | 1501/2000 [35:47:08<12:11:24, 87.94s/it]"
     ]
    },
    {
     "name": "stdout",
     "output_type": "stream",
     "text": [
      "Epoch 1500 | LR: 3.52e-05 | Train Loss: 3.56e-03(G) 1.60e-02(D) | Test Loss: 1.88e+01, 8.14e-03, 12.10%\n"
     ]
    },
    {
     "name": "stderr",
     "output_type": "stream",
     "text": [
      " 76%|███████▌  | 1521/2000 [36:15:52<11:45:17, 88.34s/it]"
     ]
    },
    {
     "name": "stdout",
     "output_type": "stream",
     "text": [
      "Epoch 1520 | LR: 3.52e-05 | Train Loss: 3.55e-03(G) 1.60e-02(D) | Test Loss: 1.87e+01, 8.56e-03, 12.17%\n"
     ]
    },
    {
     "name": "stderr",
     "output_type": "stream",
     "text": [
      " 77%|███████▋  | 1541/2000 [36:44:31<11:13:26, 88.03s/it]"
     ]
    },
    {
     "name": "stdout",
     "output_type": "stream",
     "text": [
      "Epoch 1540 | LR: 3.52e-05 | Train Loss: 3.61e-03(G) 1.60e-02(D) | Test Loss: 1.89e+01, 8.64e-03, 12.11%\n"
     ]
    },
    {
     "name": "stderr",
     "output_type": "stream",
     "text": [
      " 78%|███████▊  | 1561/2000 [37:13:14<10:45:03, 88.16s/it]"
     ]
    },
    {
     "name": "stdout",
     "output_type": "stream",
     "text": [
      "Epoch 1560 | LR: 3.52e-05 | Train Loss: 6.50e-03(G) 1.59e-02(D) | Test Loss: 1.89e+01, 5.40e-03, 12.07%\n"
     ]
    },
    {
     "name": "stderr",
     "output_type": "stream",
     "text": [
      " 79%|███████▉  | 1581/2000 [37:42:08<10:18:33, 88.58s/it]"
     ]
    },
    {
     "name": "stdout",
     "output_type": "stream",
     "text": [
      "Epoch 1580 | LR: 3.52e-05 | Train Loss: 3.71e-03(G) 1.60e-02(D) | Test Loss: 1.90e+01, 7.59e-03, 12.16%\n"
     ]
    },
    {
     "name": "stderr",
     "output_type": "stream",
     "text": [
      " 80%|████████  | 1601/2000 [38:10:48<9:44:35, 87.91s/it] "
     ]
    },
    {
     "name": "stdout",
     "output_type": "stream",
     "text": [
      "Epoch 1600 | LR: 2.81e-05 | Train Loss: 6.10e-03(G) 1.60e-02(D) | Test Loss: 1.89e+01, 5.60e-03, 12.37%\n"
     ]
    },
    {
     "name": "stderr",
     "output_type": "stream",
     "text": [
      " 81%|████████  | 1621/2000 [38:39:27<9:15:14, 87.90s/it]"
     ]
    },
    {
     "name": "stdout",
     "output_type": "stream",
     "text": [
      "Epoch 1620 | LR: 2.81e-05 | Train Loss: 3.35e-03(G) 1.60e-02(D) | Test Loss: 1.90e+01, 8.05e-03, 11.92%\n"
     ]
    },
    {
     "name": "stderr",
     "output_type": "stream",
     "text": [
      " 82%|████████▏ | 1641/2000 [39:08:08<8:47:58, 88.24s/it]"
     ]
    },
    {
     "name": "stdout",
     "output_type": "stream",
     "text": [
      "Epoch 1640 | LR: 2.81e-05 | Train Loss: 3.42e-03(G) 1.60e-02(D) | Test Loss: 1.88e+01, 9.27e-03, 11.62%\n",
      "\n",
      "!Model saved at Epoch 1640, with Train Loss 3.42e-03(G) | Test Error(Ihb): 9.27e-03(MSE), 11.62%(NRMSE)\n",
      "\n",
      "!Model saved to  ./Ckpts/CGAN-G.pth\n",
      "\n",
      "!Model saved at Epoch 1640, with Train Loss 1.60e-02(D) | \n",
      "!Model saved to  ./Ckpts/CGAN-D.pth\n"
     ]
    },
    {
     "name": "stderr",
     "output_type": "stream",
     "text": [
      " 83%|████████▎ | 1661/2000 [39:36:50<8:18:47, 88.28s/it]"
     ]
    },
    {
     "name": "stdout",
     "output_type": "stream",
     "text": [
      "Epoch 1660 | LR: 2.81e-05 | Train Loss: 5.91e-03(G) 1.60e-02(D) | Test Loss: 1.89e+01, 7.90e-03, 11.85%\n"
     ]
    },
    {
     "name": "stderr",
     "output_type": "stream",
     "text": [
      " 84%|████████▍ | 1681/2000 [40:05:31<7:47:19, 87.90s/it]"
     ]
    },
    {
     "name": "stdout",
     "output_type": "stream",
     "text": [
      "Epoch 1680 | LR: 2.81e-05 | Train Loss: 6.01e-03(G) 1.60e-02(D) | Test Loss: 1.88e+01, 7.73e-03, 11.87%\n"
     ]
    },
    {
     "name": "stderr",
     "output_type": "stream",
     "text": [
      " 85%|████████▌ | 1701/2000 [40:34:10<7:19:23, 88.17s/it]"
     ]
    },
    {
     "name": "stdout",
     "output_type": "stream",
     "text": [
      "Epoch 1700 | LR: 2.25e-05 | Train Loss: 3.25e-03(G) 1.60e-02(D) | Test Loss: 1.89e+01, 7.32e-03, 11.95%\n"
     ]
    },
    {
     "name": "stderr",
     "output_type": "stream",
     "text": [
      " 86%|████████▌ | 1721/2000 [41:02:56<6:49:58, 88.17s/it]"
     ]
    },
    {
     "name": "stdout",
     "output_type": "stream",
     "text": [
      "Epoch 1720 | LR: 2.25e-05 | Train Loss: 3.40e-03(G) 1.60e-02(D) | Test Loss: 1.89e+01, 7.49e-03, 11.81%\n"
     ]
    },
    {
     "name": "stderr",
     "output_type": "stream",
     "text": [
      " 87%|████████▋ | 1741/2000 [41:31:39<6:19:28, 87.91s/it]"
     ]
    },
    {
     "name": "stdout",
     "output_type": "stream",
     "text": [
      "Epoch 1740 | LR: 2.25e-05 | Train Loss: 3.21e-03(G) 1.60e-02(D) | Test Loss: 1.88e+01, 9.12e-03, 11.78%\n"
     ]
    },
    {
     "name": "stderr",
     "output_type": "stream",
     "text": [
      " 88%|████████▊ | 1761/2000 [42:00:19<5:50:58, 88.11s/it]"
     ]
    },
    {
     "name": "stdout",
     "output_type": "stream",
     "text": [
      "Epoch 1760 | LR: 2.25e-05 | Train Loss: 3.41e-03(G) 1.60e-02(D) | Test Loss: 1.91e+01, 8.33e-03, 11.69%\n"
     ]
    },
    {
     "name": "stderr",
     "output_type": "stream",
     "text": [
      " 89%|████████▉ | 1781/2000 [42:28:59<5:21:36, 88.11s/it]"
     ]
    },
    {
     "name": "stdout",
     "output_type": "stream",
     "text": [
      "Epoch 1780 | LR: 2.25e-05 | Train Loss: 4.62e-03(G) 1.60e-02(D) | Test Loss: 1.90e+01, 5.45e-03, 11.65%\n"
     ]
    },
    {
     "name": "stderr",
     "output_type": "stream",
     "text": [
      " 90%|█████████ | 1801/2000 [42:57:40<4:52:05, 88.07s/it]"
     ]
    },
    {
     "name": "stdout",
     "output_type": "stream",
     "text": [
      "Epoch 1800 | LR: 1.80e-05 | Train Loss: 3.84e-03(G) 1.60e-02(D) | Test Loss: 1.91e+01, 8.00e-03, 12.03%\n"
     ]
    },
    {
     "name": "stderr",
     "output_type": "stream",
     "text": [
      " 91%|█████████ | 1821/2000 [43:26:27<4:23:46, 88.42s/it]"
     ]
    },
    {
     "name": "stdout",
     "output_type": "stream",
     "text": [
      "Epoch 1820 | LR: 1.80e-05 | Train Loss: 5.55e-03(G) 1.60e-02(D) | Test Loss: 1.91e+01, 6.06e-03, 11.62%\n"
     ]
    },
    {
     "name": "stderr",
     "output_type": "stream",
     "text": [
      " 92%|█████████▏| 1841/2000 [43:55:08<3:53:29, 88.11s/it]"
     ]
    },
    {
     "name": "stdout",
     "output_type": "stream",
     "text": [
      "Epoch 1840 | LR: 1.80e-05 | Train Loss: 5.56e-03(G) 1.60e-02(D) | Test Loss: 1.90e+01, 7.11e-03, 11.59%\n"
     ]
    },
    {
     "name": "stderr",
     "output_type": "stream",
     "text": [
      " 93%|█████████▎| 1861/2000 [44:23:49<3:25:22, 88.65s/it]"
     ]
    },
    {
     "name": "stdout",
     "output_type": "stream",
     "text": [
      "Epoch 1860 | LR: 1.80e-05 | Train Loss: 6.10e-03(G) 1.60e-02(D) | Test Loss: 1.89e+01, 8.69e-03, 11.37%\n"
     ]
    },
    {
     "name": "stderr",
     "output_type": "stream",
     "text": [
      " 94%|█████████▍| 1881/2000 [44:52:28<2:54:38, 88.06s/it]"
     ]
    },
    {
     "name": "stdout",
     "output_type": "stream",
     "text": [
      "Epoch 1880 | LR: 1.80e-05 | Train Loss: 3.55e-03(G) 1.60e-02(D) | Test Loss: 1.92e+01, 7.74e-03, 11.60%\n"
     ]
    },
    {
     "name": "stderr",
     "output_type": "stream",
     "text": [
      " 95%|█████████▌| 1901/2000 [45:21:08<2:25:07, 87.95s/it]"
     ]
    },
    {
     "name": "stdout",
     "output_type": "stream",
     "text": [
      "Epoch 1900 | LR: 1.44e-05 | Train Loss: 5.76e-03(G) 1.60e-02(D) | Test Loss: 1.91e+01, 6.08e-03, 11.40%\n"
     ]
    },
    {
     "name": "stderr",
     "output_type": "stream",
     "text": [
      " 96%|█████████▌| 1921/2000 [45:49:51<1:56:08, 88.21s/it]"
     ]
    },
    {
     "name": "stdout",
     "output_type": "stream",
     "text": [
      "Epoch 1920 | LR: 1.44e-05 | Train Loss: 6.44e-03(G) 1.60e-02(D) | Test Loss: 1.90e+01, 8.72e-03, 11.46%\n"
     ]
    },
    {
     "name": "stderr",
     "output_type": "stream",
     "text": [
      " 97%|█████████▋| 1941/2000 [46:18:30<1:26:22, 87.84s/it]"
     ]
    },
    {
     "name": "stdout",
     "output_type": "stream",
     "text": [
      "Epoch 1940 | LR: 1.44e-05 | Train Loss: 6.44e-03(G) 1.60e-02(D) | Test Loss: 1.90e+01, 7.01e-03, 11.87%\n"
     ]
    },
    {
     "name": "stderr",
     "output_type": "stream",
     "text": [
      " 98%|█████████▊| 1961/2000 [46:47:02<56:53, 87.52s/it]  "
     ]
    },
    {
     "name": "stdout",
     "output_type": "stream",
     "text": [
      "Epoch 1960 | LR: 1.44e-05 | Train Loss: 5.30e-03(G) 1.60e-02(D) | Test Loss: 1.92e+01, 4.45e-03, 12.09%\n"
     ]
    },
    {
     "name": "stderr",
     "output_type": "stream",
     "text": [
      " 99%|█████████▉| 1981/2000 [47:15:33<27:43, 87.58s/it]"
     ]
    },
    {
     "name": "stdout",
     "output_type": "stream",
     "text": [
      "Epoch 1980 | LR: 1.44e-05 | Train Loss: 4.91e-03(G) 1.60e-02(D) | Test Loss: 1.91e+01, 8.53e-03, 11.24%\n"
     ]
    },
    {
     "name": "stderr",
     "output_type": "stream",
     "text": [
      "100%|██████████| 2000/2000 [47:42:29<00:00, 85.87s/it]\n"
     ]
    }
   ],
   "source": [
    "opt.epochs = 2000\n",
    "optimizerG, optimizerD, schedulerG, schedulerD = opt_strategy(netG, netD, opt)\n",
    "train_log, test_log = train(netG, netD, D_size, optimizerG, optimizerD, schedulerG, schedulerD, opt, dataset_train, \n",
    "                                           device_train, dataset_test, res_trans, ckpt_name, save_check=15)\n",
    "\n",
    "if not os.path.exists(opt.load_model_path[0]):\n",
    "    save(netD, opt.modelpath, ckpt_name[1])\n",
    "    save(netG, opt.modelpath, ckpt_name[0])"
   ]
  },
  {
   "cell_type": "code",
   "execution_count": 7,
   "metadata": {
    "scrolled": true
   },
   "outputs": [
    {
     "name": "stdout",
     "output_type": "stream",
     "text": [
      "Net Initialized\n",
      "!Model load from  ./Ckpts/CGAN-G.pth\n",
      "!Model load from  ./Ckpts/CGAN-D.pth\n",
      "<bound method Module.parameters of Generator(\n",
      "  (left_conv_1): ConvBlock(\n",
      "    (block): Sequential(\n",
      "      (0): Conv3d(1, 8, kernel_size=(3, 3, 3), stride=(2, 2, 2), padding=(1, 1, 1))\n",
      "      (1): LeakyReLU(negative_slope=0.01, inplace=True)\n",
      "      (2): Conv3d(8, 8, kernel_size=(3, 3, 3), stride=(1, 1, 1), padding=(1, 1, 1))\n",
      "      (3): LeakyReLU(negative_slope=0.01, inplace=True)\n",
      "    )\n",
      "  )\n",
      "  (left_conv_2): ConvBlock(\n",
      "    (block): Sequential(\n",
      "      (0): Conv3d(8, 16, kernel_size=(3, 3, 3), stride=(2, 2, 2), padding=(1, 1, 1))\n",
      "      (1): LeakyReLU(negative_slope=0.01, inplace=True)\n",
      "      (2): Conv3d(16, 16, kernel_size=(3, 3, 3), stride=(1, 1, 1), padding=(1, 1, 1))\n",
      "      (3): LeakyReLU(negative_slope=0.01, inplace=True)\n",
      "    )\n",
      "  )\n",
      "  (left_conv_3): ConvBlock(\n",
      "    (block): Sequential(\n",
      "      (0): Conv3d(16, 32, kernel_size=(3, 3, 3), stride=(2, 2, 2), padding=(1, 1, 1))\n",
      "      (1): LeakyReLU(negative_slope=0.01, inplace=True)\n",
      "      (2): Conv3d(32, 32, kernel_size=(3, 3, 3), stride=(1, 1, 1), padding=(1, 1, 1))\n",
      "      (3): LeakyReLU(negative_slope=0.01, inplace=True)\n",
      "    )\n",
      "  )\n",
      "  (left_conv_4): ConvBlock(\n",
      "    (block): Sequential(\n",
      "      (0): Conv3d(32, 64, kernel_size=(3, 3, 3), stride=(2, 2, 2), padding=(1, 1, 1))\n",
      "      (1): LeakyReLU(negative_slope=0.01, inplace=True)\n",
      "      (2): Conv3d(64, 64, kernel_size=(3, 3, 3), stride=(1, 1, 1), padding=(1, 1, 1))\n",
      "      (3): LeakyReLU(negative_slope=0.01, inplace=True)\n",
      "    )\n",
      "  )\n",
      "  (deconv_1): ConvTranspose3d(64, 32, kernel_size=(5, 5, 5), stride=(2, 2, 2), padding=(2, 2, 2), output_padding=(1, 0, 0))\n",
      "  (right_conv_1): ConvBlock(\n",
      "    (block): Sequential(\n",
      "      (0): Conv3d(64, 32, kernel_size=(3, 3, 3), stride=(1, 1, 1), padding=(1, 1, 1))\n",
      "      (1): LeakyReLU(negative_slope=0.01, inplace=True)\n",
      "      (2): Conv3d(32, 32, kernel_size=(3, 3, 3), stride=(1, 1, 1), padding=(1, 1, 1))\n",
      "      (3): LeakyReLU(negative_slope=0.01, inplace=True)\n",
      "    )\n",
      "  )\n",
      "  (deconv_2): ConvTranspose3d(32, 16, kernel_size=(5, 5, 5), stride=(2, 2, 2), padding=(2, 2, 2), output_padding=(1, 1, 1))\n",
      "  (right_conv_2): ConvBlock(\n",
      "    (block): Sequential(\n",
      "      (0): Conv3d(32, 16, kernel_size=(3, 3, 3), stride=(1, 1, 1), padding=(1, 1, 1))\n",
      "      (1): LeakyReLU(negative_slope=0.01, inplace=True)\n",
      "      (2): Conv3d(16, 16, kernel_size=(3, 3, 3), stride=(1, 1, 1), padding=(1, 1, 1))\n",
      "      (3): LeakyReLU(negative_slope=0.01, inplace=True)\n",
      "    )\n",
      "  )\n",
      "  (deconv_3): ConvTranspose3d(16, 8, kernel_size=(5, 5, 5), stride=(2, 2, 2), padding=(2, 2, 2), output_padding=(1, 1, 1))\n",
      "  (right_conv_3): ConvBlock(\n",
      "    (block): Sequential(\n",
      "      (0): Conv3d(16, 8, kernel_size=(3, 3, 3), stride=(1, 1, 1), padding=(1, 1, 1))\n",
      "      (1): LeakyReLU(negative_slope=0.01, inplace=True)\n",
      "      (2): Conv3d(8, 8, kernel_size=(3, 3, 3), stride=(1, 1, 1), padding=(1, 1, 1))\n",
      "      (3): LeakyReLU(negative_slope=0.01, inplace=True)\n",
      "    )\n",
      "  )\n",
      "  (deconv_4): ConvTranspose3d(8, 1, kernel_size=(5, 5, 5), stride=(2, 2, 2), padding=(2, 2, 2), output_padding=(1, 1, 1))\n",
      "  (regular): Upsample(size=[80, 1000, 1000], mode=trilinear)\n",
      ")>\n",
      "<bound method Module.parameters of Descriminator(\n",
      "  (reslayers): Sequential(\n",
      "    (0): Conv3d(2, 4, kernel_size=(3, 3, 3), stride=(1, 1, 1), padding=(1, 1, 1), bias=False)\n",
      "    (1): LeakyReLU(negative_slope=0.1, inplace=True)\n",
      "    (2): Sequential(\n",
      "      (0): BasicBlock(\n",
      "        (conv): Sequential(\n",
      "          (0): Conv3d(4, 8, kernel_size=(3, 3, 3), stride=(1, 1, 1), padding=(1, 1, 1), bias=False, padding_mode=replicate)\n",
      "          (1): LeakyReLU(negative_slope=0.1, inplace=True)\n",
      "          (2): Conv3d(8, 8, kernel_size=(3, 3, 3), stride=(2, 2, 2), padding=(1, 1, 1), bias=False, padding_mode=replicate)\n",
      "        )\n",
      "        (shortcut): Sequential(\n",
      "          (0): Conv3d(4, 8, kernel_size=(1, 1, 1), stride=(2, 2, 2), bias=False)\n",
      "        )\n",
      "        (norm): GroupNorm(1, 8, eps=1e-05, affine=True)\n",
      "      )\n",
      "      (1): BasicBlock(\n",
      "        (conv): Sequential(\n",
      "          (0): Conv3d(8, 8, kernel_size=(3, 3, 3), stride=(1, 1, 1), padding=(1, 1, 1), bias=False, padding_mode=replicate)\n",
      "          (1): LeakyReLU(negative_slope=0.1, inplace=True)\n",
      "          (2): Conv3d(8, 8, kernel_size=(3, 3, 3), stride=(2, 2, 2), padding=(1, 1, 1), bias=False, padding_mode=replicate)\n",
      "        )\n",
      "        (shortcut): Sequential(\n",
      "          (0): Conv3d(8, 8, kernel_size=(1, 1, 1), stride=(2, 2, 2), bias=False)\n",
      "        )\n",
      "        (norm): GroupNorm(1, 8, eps=1e-05, affine=True)\n",
      "      )\n",
      "    )\n",
      "    (3): Sequential(\n",
      "      (0): BasicBlock(\n",
      "        (conv): Sequential(\n",
      "          (0): Conv3d(8, 4, kernel_size=(3, 3, 3), stride=(1, 1, 1), padding=(1, 1, 1), bias=False, padding_mode=replicate)\n",
      "          (1): LeakyReLU(negative_slope=0.1, inplace=True)\n",
      "          (2): Conv3d(4, 4, kernel_size=(3, 3, 3), stride=(2, 2, 2), padding=(1, 1, 1), bias=False, padding_mode=replicate)\n",
      "        )\n",
      "        (shortcut): Sequential(\n",
      "          (0): Conv3d(8, 4, kernel_size=(1, 1, 1), stride=(2, 2, 2), bias=False)\n",
      "        )\n",
      "        (norm): GroupNorm(1, 4, eps=1e-05, affine=True)\n",
      "      )\n",
      "      (1): BasicBlock(\n",
      "        (conv): Sequential(\n",
      "          (0): Conv3d(4, 4, kernel_size=(3, 3, 3), stride=(1, 1, 1), padding=(1, 1, 1), bias=False, padding_mode=replicate)\n",
      "          (1): LeakyReLU(negative_slope=0.1, inplace=True)\n",
      "          (2): Conv3d(4, 4, kernel_size=(3, 3, 3), stride=(2, 2, 2), padding=(1, 1, 1), bias=False, padding_mode=replicate)\n",
      "        )\n",
      "        (shortcut): Sequential(\n",
      "          (0): Conv3d(4, 4, kernel_size=(1, 1, 1), stride=(2, 2, 2), bias=False)\n",
      "        )\n",
      "        (norm): GroupNorm(1, 4, eps=1e-05, affine=True)\n",
      "      )\n",
      "    )\n",
      "    (4): Conv3d(4, 1, kernel_size=(3, 3, 3), stride=(1, 2, 2), padding=(1, 1, 1), bias=False)\n",
      "    (5): Sigmoid()\n",
      "  )\n",
      ")>\n",
      "allocated and reserved GPU memory: 0.012640953063964844, 0.013671875 (GiB)\n"
     ]
    },
    {
     "name": "stderr",
     "output_type": "stream",
     "text": [
      "\r",
      "  0%|          | 0/20 [00:00<?, ?it/s]"
     ]
    },
    {
     "name": "stdout",
     "output_type": "stream",
     "text": [
      "../dataset_train_v1/0080Acid_ini Read in 0.15 s\n",
      "../dataset_train_v1/0080Inhibitor Read in 0.15 s\n",
      "RMSE for label 0: [0.01  0.975]\n",
      "NMSE for label 0: [11.811  2.451]\n",
      "NMSE_height for label 0: [11.476  2.336]\n"
     ]
    },
    {
     "name": "stderr",
     "output_type": "stream",
     "text": [
      "<<<\n",
      "time:\t0.467923s\n",
      "<<<\n"
     ]
    },
    {
     "name": "stdout",
     "output_type": "stream",
     "text": [
      "\n",
      "!Start to clear memory\n"
     ]
    },
    {
     "name": "stderr",
     "output_type": "stream",
     "text": [
      "<<<\n",
      "time:\t0.417579s\n",
      "<<<\n"
     ]
    },
    {
     "name": "stdout",
     "output_type": "stream",
     "text": [
      "Contact 0 in 0-CD_x_label is redundant, with info [   1.645 -865.747   49.931]\n",
      "Contact 1 in 0-CD_x_label is redundant, with info [ 396.325 -858.846   49.931]\n",
      "Contact 2 in 0-CD_x_label is redundant, with info [ 710.303 -743.344   49.511]\n",
      "Contact 3 in 0-CD_x_label is redundant, with info [-894.597 -740.994   49.991]\n",
      "Contact 4 in 0-CD_x_label is redundant, with info [ 426.046 -489.687   49.951]\n",
      "Contact 5 in 0-CD_x_label is redundant, with info [-470.687 -366.134   49.881]\n",
      "Contact 6 in 0-CD_x_label is redundant, with info [ -78.527 -357.184   49.911]\n",
      "Contact 7 in 0-CD_x_label is redundant, with info [-902.368 -340.934   49.931]\n",
      "Contact 8 in 0-CD_x_label is redundant, with info [457.656 -87.577  49.981]\n",
      "Contact 10 in 0-CD_x_label is redundant, with info [768.954   1.175  49.871]\n",
      "Contact 11 in 0-CD_x_label is redundant, with info [858.106 285.232  49.771]\n",
      "Contact 12 in 0-CD_x_label is redundant, with info [417.865 322.483  49.921]\n",
      "Contact 13 in 0-CD_x_label is redundant, with info [-823.586  390.835   49.951]\n",
      "Contact 14 in 0-CD_x_label is redundant, with info [857.966 713.693  49.911]\n",
      "Contact 15 in 0-CD_x_label is redundant, with info [420.736 719.143  49.901]\n",
      "Contact 16 in 0-CD_x_label is redundant, with info [-407.155  779.444   49.981]\n",
      "Contact 17 in 0-CD_x_label is redundant, with info [-85.587 819.445  49.431]\n",
      "Contact 18 in 0-CD_x_label is redundant, with info [-971.929  932.098   41.901]\n",
      "CD_x error at height 0:\n",
      " [-49.931 -49.931 -49.511 -49.991 -49.951 -49.881 -49.911 -49.931 -49.981 -49.891 -49.871 -49.771\n",
      " -49.921 -49.951 -49.911 -49.901 -49.981 -49.431 -41.901]\n",
      "Contact 0 in 0-CD_y_label is redundant, with info [-956.949  905.998   44.891]\n",
      "Contact 1 in 0-CD_y_label is redundant, with info [-861.947 -370.804   49.931]\n",
      "Contact 2 in 0-CD_y_label is redundant, with info [-850.846 -778.774   49.971]\n",
      "Contact 3 in 0-CD_y_label is redundant, with info [-777.944  348.614   49.991]\n",
      "Contact 4 in 0-CD_y_label is redundant, with info [-462.787 -402.505   49.851]\n",
      "Contact 5 in 0-CD_y_label is redundant, with info [-395.635  729.413   49.961]\n",
      "Contact 6 in 0-CD_y_label is redundant, with info [-43.426 809.965  49.981]\n",
      "Contact 7 in 0-CD_y_label is redundant, with info [ -33.826 -395.645   49.991]\n",
      "Contact 8 in 0-CD_y_label is redundant, with info [  16.475 -879.237   49.881]\n",
      "Contact 10 in 0-CD_y_label is redundant, with info [ 426.686 -859.716   49.731]\n",
      "Contact 11 in 0-CD_y_label is redundant, with info [ 437.486 -487.607   49.651]\n",
      "Contact 12 in 0-CD_y_label is redundant, with info [461.837 308.943  49.931]\n",
      "Contact 13 in 0-CD_y_label is redundant, with info [465.787 709.773  49.971]\n",
      "Contact 14 in 0-CD_y_label is redundant, with info [ 503.488 -131.188   49.911]\n",
      "Contact 15 in 0-CD_y_label is redundant, with info [ 757.794 -790.735   49.971]\n",
      "Contact 16 in 0-CD_y_label is redundant, with info [775.294 -39.526  49.921]\n",
      "Contact 17 in 0-CD_y_label is redundant, with info [899.247 269.282  49.951]\n",
      "Contact 18 in 0-CD_y_label is redundant, with info [902.998 669.992  49.971]\n",
      "CD_y error at height 0:\n",
      " [-44.891 -49.931 -49.971 -49.991 -49.851 -49.961 -49.981 -49.991 -49.881 -49.981 -49.731 -49.651\n",
      " -49.931 -49.971 -49.911 -49.971 -49.921 -49.951 -49.971]\n",
      "CD_x error at height 8:\n",
      " [-0.3  -0.01 -0.04  0.99 -0.21 -0.04  0.96 -1.29 -0.02  0.02 -0.2  -1.31 -0.09 -1.04 -0.38 -0.51\n",
      "  0.03  0.28 -2.02]\n",
      "CD_y error at height 8:\n",
      " [-0.05 -0.04 -0.09  0.09  0.11 -0.37 -0.14 -0.   -0.07 -0.41 -0.01 -0.01 -0.08  0.09 -0.04 -0.\n",
      "  0.01  0.05 -0.  ]\n",
      "CD_x error at height 16:\n",
      " [ 0.08 -0.24 -0.    0.12 -0.05  0.04 -1.28  0.45 -0.22 -0.    0.03 -1.24 -0.04 -0.84  0.23 -0.18\n",
      " -0.06  0.07 -0.97]\n",
      "CD_y error at height 16:\n",
      " [-3.17  0.38  0.13  0.01 -0.07 -0.37 -0.12  0.02 -0.25 -0.06  0.    0.2   0.23  0.05 -0.    0.01\n",
      " -0.21 -0.02 -0.  ]\n",
      "CD_x error at height 24:\n",
      " [ 0.53  0.4  -0.31 -0.62  0.21  0.04  1.83 -1.95 -0.44  0.04 -0.43  0.99  0.1  -0.01  0.38 -0.62\n",
      "  0.11 -0.02  0.62]\n",
      "CD_y error at height 24:\n",
      " [-3.31 -0.12  0.31 -0.02  0.19  0.1  -0.04 -0.02  0.01 -0.1   0.08  0.27  0.1  -0.01  0.02  0.1\n",
      "  0.04  0.04 -0.31]\n",
      "CD_x error at height 32:\n",
      " [-0.1  -0.31 -0.96 -0.96 -0.18  0.95 -0.42 -0.93 -0.08 -0.   -0.79 -1.02 -0.24 -0.04  0.59 -0.07\n",
      " -0.38  2.65 -0.83]\n",
      "CD_y error at height 32:\n",
      " [-0.62  0.05 -0.05 -0.01  0.29 -0.   -0.31 -0.06 -0.33  0.01  0.01  0.21 -0.03 -0.64 -0.    0.11\n",
      " -0.11 -0.02  0.11]\n",
      "CD_x error at height 40:\n",
      " [-1.07 -0.89 -0.32 -1.61 -0.11  0.01 -1.27 -0.01  0.24  0.05 -0.05 -1.29 -0.81  0.24 -0.12  0.31\n",
      " -0.34 -4.6  -0.95]\n",
      "CD_y error at height 40:\n",
      " [-0.11 -0.07  0.03 -0.1  -0.03  0.    0.03 -0.11  0.07  0.   -0.02 -0.02  0.15 -0.18 -0.01  0.04\n",
      "  0.12 -0.04 -0.2 ]\n",
      "CD_x error at height 48:\n",
      " [ 0.02 -1.02  0.59 -0.35 -1.61 -0.   -0.38  3.11 -1.46  2.35 -0.8  -0.67  0.44  0.74 -1.99  0.11\n",
      " -0.78  0.88  2.36]\n",
      "CD_y error at height 48:\n",
      " [ 2.83 -1.49 -0.13 -0.05  0.01 -0.11  0.44  0.07  0.06  0.03  0.03  0.02  0.09 -0.08  0.07  0.04\n",
      "  0.03 -0.52 -0.09]\n",
      "CD_x error at height 56:\n",
      " [ 1.2   0.86 -0.26 -1.85  2.07  0.3  -0.31 -0.    1.74 -1.16 -0.04 -0.58 -3.47  0.38 -0.58  1.16\n",
      " -0.34  2.24 -0.86]\n",
      "CD_y error at height 56:\n",
      " [-0.39 -2.35 -0.84 -2.65 -2.74  0.02 -0.68 -0.82 -0.08 -2.37 -1.7  -2.64 -0.05  0.    0.01 -0.69\n",
      " -0.41 -0.31 -0.19]\n",
      "CD_x error at height 64:\n",
      " [-0.23  0.35  0.08 -2.95 -0.91  0.86  0.29 -1.42 -0.13 -0.68 -1.04 -2.5  -0.43 -0.97 -0.35 -0.68\n",
      " -0.1   0.88 -1.2 ]\n",
      "CD_y error at height 64:\n",
      " [-1.61 -1.43 -1.03 -1.96 -0.67 -0.67 -0.26 -1.12 -0.84 -0.96 -1.27 -1.32 -0.2  -0.81 -0.43 -0.43\n",
      " -2.21 -0.49 -0.53]\n"
     ]
    },
    {
     "name": "stderr",
     "output_type": "stream",
     "text": [
      "\r",
      "  5%|▌         | 1/20 [58:25<18:30:11, 3505.85s/it]"
     ]
    },
    {
     "name": "stdout",
     "output_type": "stream",
     "text": [
      "CD_x error at height 72:\n",
      " [-1.29  0.01  0.29 -1.48  0.6   0.6  -0.65 -1.69  0.41 -0.59  0.96 -1.84 -0.32 -0.   -2.04 -0.07\n",
      "  0.31  0.37]\n",
      "CD_y error at height 72:\n",
      " [-4.56 -2.63  1.17 -1.89 -0.3  -0.91 -0.14 -0.46 -0.55 -0.82 -0.55 -0.3  -1.24 -0.76  0.39  0.02\n",
      " -0.89 -3.03]\n",
      "CD_RMSE for label 0: [15.72  15.772]\n",
      "../dataset_train_v1/0081Acid_ini Read in 0.80 s\n",
      "../dataset_train_v1/0081Inhibitor Read in 0.76 s\n",
      "RMSE for label 1: [0.011 1.015]\n",
      "NMSE for label 1: [11.797  2.554]\n",
      "NMSE_height for label 1: [11.454  2.436]\n"
     ]
    },
    {
     "name": "stderr",
     "output_type": "stream",
     "text": [
      "<<<\n",
      "time:\t0.473329s\n",
      "<<<\n"
     ]
    },
    {
     "name": "stdout",
     "output_type": "stream",
     "text": [
      "\n",
      "!Start to clear memory\n",
      "\n",
      "!Start to clear memory\n"
     ]
    },
    {
     "name": "stderr",
     "output_type": "stream",
     "text": [
      "<<<\n",
      "time:\t0.421247s\n",
      "<<<\n"
     ]
    },
    {
     "name": "stdout",
     "output_type": "stream",
     "text": [
      "Contact 0 in 0-CD_x_label is redundant, with info [-731.843 -921.298   49.931]\n",
      "Contact 1 in 0-CD_x_label is redundant, with info [-311.573 -916.698   49.861]\n",
      "Contact 2 in 0-CD_x_label is redundant, with info [  -7.455 -821.446   49.891]\n",
      "Contact 3 in 0-CD_x_label is redundant, with info [ 337.733 -765.094   49.801]\n",
      "Contact 4 in 0-CD_x_label is redundant, with info [ 882.067 -539.138   49.811]\n",
      "Contact 5 in 0-CD_x_label is redundant, with info [-415.615 -414.885   49.881]\n",
      "Contact 6 in 0-CD_x_label is redundant, with info [ 360.734 -382.985   49.881]\n",
      "Contact 7 in 0-CD_x_label is redundant, with info [-963.949 -292.382   45.921]\n",
      "Contact 8 in 0-CD_x_label is redundant, with info [-318.433 -135.828   49.971]\n",
      "Contact 10 in 0-CD_x_label is redundant, with info [725.793  16.575  49.951]\n",
      "Contact 11 in 0-CD_x_label is redundant, with info [313.873  29.626  49.761]\n",
      "Contact 12 in 0-CD_x_label is redundant, with info [-627.891  168.979   49.991]\n",
      "Contact 13 in 0-CD_x_label is redundant, with info [-314.583  288.632   49.881]\n",
      "Contact 14 in 0-CD_x_label is redundant, with info [681.892 461.387  49.921]\n",
      "Contact 15 in 0-CD_x_label is redundant, with info [  1.545 778.894  49.911]\n",
      "Contact 16 in 0-CD_x_label is redundant, with info [-466.667  846.496   49.991]\n",
      "Contact 17 in 0-CD_x_label is redundant, with info [690.032 855.496  49.781]\n",
      "Contact 18 in 0-CD_x_label is redundant, with info [277.012 861.297  49.911]\n",
      "Contact 19 in 0-CD_x_label is redundant, with info [-971.949  941.099   33.881]\n",
      "CD_x error at height 0:\n",
      " [-49.931 -49.861 -49.891 -49.801 -49.811 -49.881 -49.881 -45.921 -49.971 -49.971 -49.951 -49.761\n",
      " -49.991 -49.881 -49.921 -49.911 -49.991 -49.781 -49.911 -33.881]\n",
      "Contact 0 in 0-CD_y_label is redundant, with info [-958.749 -302.413   49.991]\n",
      "Contact 1 in 0-CD_y_label is redundant, with info [-955.049  918.008   42.351]\n",
      "Contact 2 in 0-CD_y_label is redundant, with info [-688.992 -932.208   49.941]\n",
      "Contact 3 in 0-CD_y_label is redundant, with info [-616.19   157.279   49.971]\n",
      "Contact 4 in 0-CD_y_label is redundant, with info [-413.885  793.155   49.881]\n",
      "Contact 5 in 0-CD_y_label is redundant, with info [-372.634 -455.686   49.921]\n",
      "Contact 6 in 0-CD_y_label is redundant, with info [-305.233 -955.269   49.981]\n",
      "Contact 7 in 0-CD_y_label is redundant, with info [-275.132 -150.839   49.991]\n",
      "Contact 8 in 0-CD_y_label is redundant, with info [-264.982  239.671   49.941]\n",
      "Contact 10 in 0-CD_y_label is redundant, with info [  38.326 -863.857   49.921]\n",
      "Contact 11 in 0-CD_y_label is redundant, with info [ 50.476 729.933  49.981]\n",
      "Contact 12 in 0-CD_y_label is redundant, with info [322.383 854.286  49.901]\n",
      "Contact 13 in 0-CD_y_label is redundant, with info [ 344.034 -805.075   49.981]\n",
      "Contact 14 in 0-CD_y_label is redundant, with info [355.484  17.375  49.991]\n",
      "Contact 15 in 0-CD_y_label is redundant, with info [ 408.685 -430.636   49.811]\n",
      "Contact 16 in 0-CD_y_label is redundant, with info [711.443 457.216  49.951]\n",
      "Contact 17 in 0-CD_y_label is redundant, with info [726.643  13.055  49.871]\n",
      "Contact 18 in 0-CD_y_label is redundant, with info [730.993 841.056  49.961]\n",
      "Contact 19 in 0-CD_y_label is redundant, with info [ 924.898 -550.769   49.911]\n",
      "CD_y error at height 0:\n",
      " [-49.991 -42.351 -49.941 -49.971 -49.881 -49.921 -49.981 -49.991 -49.941 -49.981 -49.921 -49.981\n",
      " -49.901 -49.981 -49.991 -49.811 -49.951 -49.871 -49.961 -49.911]\n",
      "CD_x error at height 8:\n",
      " [-1.17 -0.48  0.04  0.11 -0.93  0.06  0.02  4.02 -0.14 -1.18  0.02  0.21 -0.8   0.02 -0.97  0.06\n",
      " -0.07  0.22 -0.55 -3.91]\n",
      "CD_y error at height 8:\n",
      " [-0.65  0.07  0.22 -0.08  0.04  0.04  0.32  0.18 -0.01 -0.03 -0.02 -0.01  0.02 -0.07  0.09  0.11\n",
      " -0.03 -0.19  0.04 -0.43]\n",
      "CD_x error at height 16:\n",
      " [-0.01 -0.85  0.36  0.05 -0.99 -0.11 -1.13  3.93  0.23 -0.01  0.05  0.01 -1.03 -0.05 -0.97 -0.04\n",
      "  0.08 -0.03 -0.03 -1.97]\n",
      "CD_y error at height 16:\n",
      " [-1.41 -0.11  0.   -0.02  0.05 -0.09  0.15  0.18 -0.08 -0.12  0.01  0.07  0.01 -0.4   0.36 -0.24\n",
      " -0.08 -0.   -0.14 -0.59]\n",
      "CD_x error at height 24:\n",
      " [ 0.09 -1.02 -0.02  0.08 -1.08  1.    0.01 -0.45  0.86 -0.02 -1.    0.06  0.    0.47 -0.35 -0.73\n",
      "  0.01 -0.14  0.06  0.04]\n",
      "CD_y error at height 24:\n",
      " [-0.66 -0.02  0.1   0.05  0.11 -0.02 -0.03 -0.25 -0.06 -0.77 -0.42 -0.    0.09  0.03 -0.03 -0.16\n",
      "  0.01 -0.08 -0.    0.01]\n",
      "CD_x error at height 32:\n",
      " [-0.03 -3.    0.32  0.46 -0.04 -1.07 -0.1  -1.8  -0.37  0.11  1.02 -0.03  0.02 -0.01  0.03 -0.04\n",
      " -0.88  0.07  0.04 -0.07]\n",
      "CD_y error at height 32:\n",
      " [-0.12 -2.96 -0.19 -0.57 -0.12  0.    0.02 -0.   -0.08 -0.04  0.18  0.01 -0.04  0.09 -0.02 -0.08\n",
      " -0.11 -0.    0.01  0.01]\n",
      "CD_x error at height 40:\n",
      " [-1.24 -0.01  0.07  0.59  0.09  0.42 -0.27 -0.84 -0.93  0.38 -0.94 -1.    0.01 -1.16  0.15  0.12\n",
      " -0.04 -0.66 -0.   -0.58]\n",
      "CD_y error at height 40:\n",
      " [-0.72  0.02  0.49  0.06  0.01  0.04 -0.06  0.04 -0.02 -0.27  0.01 -0.01  0.71  0.01 -0.02 -0.24\n",
      " -0.05 -0.06 -0.14  0.01]\n",
      "CD_x error at height 48:\n",
      " [-0.62 -1.07 -0.78 -1.42 -0.09 -0.26 -0.56  1.74  0.03 -1.82  0.49  2.6  -1.58 -0.09 -0.16  0.29\n",
      " -0.05 -0.18 -1.01  0.77]\n",
      "CD_y error at height 48:\n",
      " [ 1.66 -0.35  0.43  0.04 -0.02 -0.09  0.37 -0.1   0.03  0.03 -0.01 -0.06  0.13  0.15 -0.8  -0.08\n",
      "  0.01 -1.9  -0.03 -0.17]\n",
      "CD_x error at height 56:\n",
      " [ 0.21 -2.66 -0.83  0.02 -0.02 -0.45 -0.62 -0.81 -0.94  0.08  0.57  0.66  0.03  0.14  0.07  2.15\n",
      " -0.44  1.06 -0.01  1.64]\n",
      "CD_y error at height 56:\n",
      " [-0.14  0.1  -2.25  0.02  0.05 -1.46 -0.01 -2.65 -1.71  0.03 -0.    0.    0.06  0.14 -0.22  0.04\n",
      " -1.28 -0.24 -0.14 -0.61]\n",
      "CD_x error at height 64:\n",
      " [ 0.33 -1.63  0.74 -0.19 -1.63 -1.89  0.77 -0.17  0.18 -1.2  -0.77 -0.05 -0.93  0.06 -0.26 -0.46\n",
      "  2.23 -1.49 -1.09 -3.84]\n",
      "CD_y error at height 64:\n",
      " [-3.81 -1.04 -1.41 -0.58  0.21 -0.34 -3.36 -0.69 -1.97 -0.01 -0.   -0.44 -0.23 -0.9  -0.31 -0.93\n",
      " -2.88 -0.19 -0.12 -1.98]\n"
     ]
    },
    {
     "name": "stderr",
     "output_type": "stream",
     "text": [
      "\r",
      " 10%|█         | 2/20 [1:55:18<17:15:23, 3451.28s/it]"
     ]
    },
    {
     "name": "stdout",
     "output_type": "stream",
     "text": [
      "CD_x error at height 72:\n",
      " [ 0.81 -1.46 -0.57  0.25 -0.21 -0.3  -0.03  0.62 -1.18  1.75 -0.03 -0.41  0.68  0.54  0.29 -0.42\n",
      "  2.03 -2.25  0.49]\n",
      "CD_y error at height 72:\n",
      " [-2.77 -1.54 -1.52  1.75 -1.76 -1.56  0.56 -2.52  0.55 -1.77  2.04  1.43 -2.01  2.03 -1.07 -1.51\n",
      " -2.08 -1.16 -0.65]\n",
      "CD_RMSE for label 1: [15.572 15.744]\n",
      "../dataset_train_v1/0082Acid_ini Read in 0.77 s\n",
      "../dataset_train_v1/0082Inhibitor Read in 0.81 s\n",
      "RMSE for label 2: [0.007 0.626]\n",
      "NMSE for label 2: [11.96   1.569]\n",
      "NMSE_height for label 2: [11.63   1.495]\n"
     ]
    },
    {
     "name": "stderr",
     "output_type": "stream",
     "text": [
      "<<<\n",
      "time:\t0.454755s\n",
      "<<<\n"
     ]
    },
    {
     "name": "stdout",
     "output_type": "stream",
     "text": [
      "\n",
      "!Start to clear memory\n",
      "\n",
      "!Start to clear memory\n"
     ]
    },
    {
     "name": "stderr",
     "output_type": "stream",
     "text": [
      "<<<\n",
      "time:\t0.38234s\n",
      "<<<\n"
     ]
    },
    {
     "name": "stdout",
     "output_type": "stream",
     "text": [
      "Contact 0 in 0-CD_x_label is redundant, with info [ 749.944 -855.296   49.711]\n",
      "Contact 1 in 0-CD_x_label is redundant, with info [-848.276 -849.246   49.281]\n",
      "Contact 2 in 0-CD_x_label is redundant, with info [-848.226 -447.636   49.951]\n",
      "Contact 3 in 0-CD_x_label is redundant, with info [-848.146  -50.426   49.881]\n",
      "Contact 4 in 0-CD_x_label is redundant, with info [-50.416 -21.876  49.941]\n",
      "Contact 5 in 0-CD_x_label is redundant, with info [749.964 -21.176  49.791]\n",
      "Contact 6 in 0-CD_x_label is redundant, with info [-850.806  369.534   49.841]\n",
      "Contact 7 in 0-CD_x_label is redundant, with info [748.844 773.994  49.931]\n",
      "CD_x error at height 0:\n",
      " [-49.711 -49.281 -49.951 -49.881 -49.941 -49.791 -49.841 -49.931]\n",
      "Contact 0 in 0-CD_y_label is redundant, with info [-842.846  -63.467   49.881]\n",
      "Contact 1 in 0-CD_y_label is redundant, with info [-841.346 -866.637   49.961]\n",
      "Contact 2 in 0-CD_y_label is redundant, with info [-810.195 -466.897   49.971]\n",
      "Contact 3 in 0-CD_y_label is redundant, with info [-809.645  332.903   49.941]\n",
      "Contact 4 in 0-CD_y_label is redundant, with info [ -1.775 -66.837  49.741]\n",
      "Contact 5 in 0-CD_y_label is redundant, with info [753.544 -65.867  49.861]\n",
      "Contact 6 in 0-CD_y_label is redundant, with info [ 791.345 -867.377   49.941]\n",
      "Contact 7 in 0-CD_y_label is redundant, with info [793.945 732.773  49.971]\n",
      "CD_y error at height 0:\n",
      " [-49.881 -49.961 -49.971 -49.941 -49.741 -49.861 -49.941 -49.971]\n",
      "CD_x error at height 8:\n",
      " [-0.87  0.76  0.14 -0.04  0.07 -0.57  0.19 -0.23]\n",
      "CD_y error at height 8:\n",
      " [-0.13 -0.14  0.06 -0.03  0.08 -0.13  0.07  0.07]\n",
      "CD_x error at height 16:\n",
      " [-0.46 -3.14 -2.8  -0.34 -0.36  0.01  0.2  -0.  ]\n",
      "CD_y error at height 16:\n",
      " [ 0.02  0.09 -0.09 -0.24 -0.05  0.04  0.03  0.07]\n",
      "CD_x error at height 24:\n",
      " [-0.15 -1.95 -1.92  0.22 -0.29  0.12 -4.09 -1.09]\n",
      "CD_y error at height 24:\n",
      " [ 0.02  0.06 -0.06 -0.02  0.19 -0.15 -0.03 -0.02]\n",
      "CD_x error at height 32:\n",
      " [-1.86  0.01 -1.17  2.24 -0.15  0.62 -1.   -0.55]\n",
      "CD_y error at height 32:\n",
      " [-0.07  0.03 -0.    0.11 -0.3   0.11 -0.    0.01]\n",
      "CD_x error at height 40:\n",
      " [ 0.03  0.91 -0.38 -0.92 -1.28  2.72 -3.46 -3.9 ]\n",
      "CD_y error at height 40:\n",
      " [-0.17 -0.04 -0.01  0.08 -0.03  0.01 -0.01  0.06]\n",
      "CD_x error at height 48:\n",
      " [-0.41  3.58  0.73 -0.   -0.41 -0.38  0.07  0.01]\n",
      "CD_y error at height 48:\n",
      " [-0.51 -1.01 -0.93  0.4  -0.56 -0.03  0.01 -0.06]\n",
      "CD_x error at height 56:\n",
      " [-0.    0.17 -0.24 -0.97  0.67 -0.5  -0.91 -0.08]\n",
      "CD_y error at height 56:\n",
      " [-0.92 -2.41 -0.86 -2.41 -0.12 -1.42 -0.16  0.16]\n",
      "CD_x error at height 64:\n",
      " [-0.27 -1.69 -1.1   1.08  0.39 -0.05 -0.6  -0.12]\n",
      "CD_y error at height 64:\n",
      " [-0.9  -4.55 -2.34 -1.07  0.01 -0.16 -2.43 -0.55]\n"
     ]
    },
    {
     "name": "stderr",
     "output_type": "stream",
     "text": [
      "\r",
      " 15%|█▌        | 3/20 [2:48:54<15:47:24, 3343.81s/it]"
     ]
    },
    {
     "name": "stdout",
     "output_type": "stream",
     "text": [
      "CD_x error at height 72:\n",
      " [-3.16 -0.93 -2.39 -0.47  0.27 -0.35  0.81  0.64]\n",
      "CD_y error at height 72:\n",
      " [-0.62 -3.13 -0.51 -3.14 -0.25 -0.95 -0.78 -0.07]\n",
      "CD_RMSE for label 2: [15.799 15.812]\n",
      "../dataset_train_v1/0083Acid_ini Read in 0.71 s\n",
      "../dataset_train_v1/0083Inhibitor Read in 0.66 s\n",
      "RMSE for label 3: [0.009 0.881]\n",
      "NMSE for label 3: [11.861  2.212]\n",
      "NMSE_height for label 3: [11.517  2.109]\n"
     ]
    },
    {
     "name": "stderr",
     "output_type": "stream",
     "text": [
      "<<<\n",
      "time:\t0.496025s\n",
      "<<<\n"
     ]
    },
    {
     "name": "stdout",
     "output_type": "stream",
     "text": [
      "\n",
      "!Start to clear memory\n"
     ]
    },
    {
     "name": "stderr",
     "output_type": "stream",
     "text": [
      "<<<\n",
      "time:\t0.407403s\n",
      "<<<\n"
     ]
    },
    {
     "name": "stdout",
     "output_type": "stream",
     "text": [
      "\n",
      "!Start to clear memory\n",
      "Contact 0 in 0-CD_x_label is redundant, with info [ 508.568 -942.399   49.971]\n",
      "Contact 1 in 0-CD_x_label is redundant, with info [ 876.417 -913.698   47.461]\n",
      "Contact 2 in 0-CD_x_label is redundant, with info [-366.534 -871.947   49.901]\n",
      "Contact 3 in 0-CD_x_label is redundant, with info [-947.999 -687.692   49.981]\n",
      "Contact 4 in 0-CD_x_label is redundant, with info [-399.375 -417.185   49.901]\n",
      "Contact 5 in 0-CD_x_label is redundant, with info [-802.835  -38.126   49.891]\n",
      "Contact 7 in 0-CD_x_label is redundant, with info [-438.686   21.626   49.951]\n",
      "Contact 8 in 0-CD_x_label is redundant, with info [249.771 143.079  49.791]\n",
      "Contact 9 in 0-CD_x_label is redundant, with info [532.508 224.881  49.971]\n",
      "Contact 10 in 0-CD_x_label is redundant, with info [898.057 693.142  49.861]\n",
      "Contact 11 in 0-CD_x_label is redundant, with info [ 52.576 703.393  49.311]\n",
      "Contact 12 in 0-CD_x_label is redundant, with info [480.827 710.993  49.841]\n",
      "Contact 13 in 0-CD_x_label is redundant, with info [-899.948  866.997   49.971]\n",
      "Contact 14 in 0-CD_x_label is redundant, with info [-550.439  910.698   49.931]\n",
      "CD_x error at height 0:\n",
      " [-49.971 -47.461 -49.901 -49.981 -49.901 -49.891 -49.211 -49.951 -49.791 -49.971 -49.861 -49.311\n",
      " -49.841 -49.971 -49.931]\n",
      "Contact 0 in 0-CD_y_label is redundant, with info [-906.598 -703.243   49.911]\n",
      "Contact 1 in 0-CD_y_label is redundant, with info [-858.496  849.476   49.881]\n",
      "Contact 2 in 0-CD_y_label is redundant, with info [-798.695  -43.636   49.961]\n",
      "Contact 3 in 0-CD_y_label is redundant, with info [-505.938  897.137   49.911]\n",
      "Contact 4 in 0-CD_y_label is redundant, with info [-395.435  -15.455   49.881]\n",
      "Contact 5 in 0-CD_y_label is redundant, with info [-377.434 -460.116   49.981]\n",
      "Contact 6 in 0-CD_y_label is redundant, with info [-350.234 -891.397   49.971]\n",
      "Contact 8 in 0-CD_y_label is redundant, with info [ 54.576 698.472  49.841]\n",
      "Contact 9 in 0-CD_y_label is redundant, with info [298.232  97.267  49.911]\n",
      "Contact 10 in 0-CD_y_label is redundant, with info [526.838 665.912  49.901]\n",
      "Contact 11 in 0-CD_y_label is redundant, with info [ 548.989 -959.929   49.761]\n",
      "Contact 12 in 0-CD_y_label is redundant, with info [578.489 217.23   49.901]\n",
      "Contact 13 in 0-CD_y_label is redundant, with info [ 881.697 -924.318   49.921]\n",
      "Contact 14 in 0-CD_y_label is redundant, with info [943.199 650.281  49.901]\n",
      "CD_y error at height 0:\n",
      " [-49.911 -49.881 -49.961 -49.911 -49.881 -49.981 -49.971 -49.601 -49.841 -49.911 -49.901 -49.761\n",
      " -49.901 -49.921 -49.901]\n",
      "CD_x error at height 8:\n",
      " [-0.12  2.97 -0.01 -0.47 -0.05  0.07  2.5   0.95 -0.08 -0.    0.01 -0.07 -1.23 -1.14  0.02]\n",
      "CD_y error at height 8:\n",
      " [ 0.08 -0.02 -0.07 -0.09 -0.13 -0.02 -0.24  0.05  0.09  0.04 -0.44  0.02  0.07  0.14 -0.07]\n",
      "CD_x error at height 16:\n",
      " [-0.43  3.18 -0.01 -0.64 -0.07  0.05  0.02  0.46  0.13  0.13  0.01  0.07 -0.08 -3.01  0.11]\n",
      "CD_y error at height 16:\n",
      " [-0.02 -0.03  0.08 -0.   -0.04  0.73 -0.01  0.12  0.05 -0.06 -0.12  0.09  0.04 -0.07  0.05]\n",
      "CD_x error at height 24:\n",
      " [-1.29  1.97  0.13 -1.21 -0.89 -0.99  2.84  0.91  0.31  0.28  0.12  0.1  -0.41 -2.69  0.01]\n",
      "CD_y error at height 24:\n",
      " [-0.06 -0.02 -0.04 -0.07 -0.03  0.07 -0.58  0.02 -0.   -0.08 -0.01  0.    0.    0.02 -0.07]\n",
      "CD_x error at height 32:\n",
      " [-2.01 -0.69 -1.78 -0.19 -0.79 -0.35  0.01 -0.84  0.16  0.07  0.05  0.    0.38 -0.95 -0.95]\n",
      "CD_y error at height 32:\n",
      " [-0.06 -0.03 -0.26  0.03 -0.02  0.07 -0.01 -0.44  0.07  0.11  0.18 -0.02  0.31 -0.17 -0.04]\n",
      "CD_x error at height 40:\n",
      " [ 0.04 -1.51 -1.03 -0.09  1.32 -0.25  3.16 -0.35  0.36 -0.7  -0.36 -1.   -0.81 -0.5  -1.07]\n",
      "CD_y error at height 40:\n",
      " [-0.02  0.06  0.01 -0.07  0.06 -0.01 -0.14  0.04  0.03 -0.02 -0.   -0.01  0.06  0.01  0.1 ]\n",
      "CD_x error at height 48:\n",
      " [ 2.65  2.89  0.72  0.21 -1.59  0.1   1.99 -0.82 -0.06 -0.22 -0.95 -0.66  0.1  -0.65  0.51]\n",
      "CD_y error at height 48:\n",
      " [ 0.2   0.11  0.08  0.06  0.05 -0.11  0.26  0.12  0.77 -0.02  0.35 -0.31  0.    0.01  0.06]\n",
      "CD_x error at height 56:\n",
      " [-0.45 -0.84 -0.64 -1.76 -0.13 -1.08 -0.15  0.28 -1.64  0.43  2.98  0.01  2.28  0.15 -1.18]\n",
      "CD_y error at height 56:\n",
      " [-2.55 -2.82 -1.84 -3.04 -1.12 -2.09 -2.85  0.15 -0.51 -0.02  0.01 -2.61 -0.2  -0.85 -0.94]\n",
      "CD_x error at height 64:\n",
      " [-1.11 -1.06 -0.12  0.68 -0.29 -2.18  3.91  0.16  0.28 -0.08 -0.91 -1.11 -0.53 -0.84  1.76]\n",
      "CD_y error at height 64:\n",
      " [-1.21 -2.1  -3.92 -4.34 -0.69 -1.79 -2.48 -0.13 -0.04 -0.11 -0.38 -3.37 -1.51 -1.69 -0.8 ]\n"
     ]
    },
    {
     "name": "stderr",
     "output_type": "stream",
     "text": [
      "\r",
      " 20%|██        | 4/20 [3:44:24<14:50:12, 3338.28s/it]"
     ]
    },
    {
     "name": "stdout",
     "output_type": "stream",
     "text": [
      "CD_x error at height 72:\n",
      " [-0.35 -0.45 -0.4  -0.48 -1.15 -0.21  2.07 -0.18 -0.11  0.16 -0.1   0.46 -0.07 -1.34  1.09]\n",
      "CD_y error at height 72:\n",
      " [-2.27 -2.63 -1.15 -2.09 -2.67 -0.24 -1.46 -1.12  0.51 -0.16 -0.19 -2.1   0.19 -3.76 -0.01]\n",
      "CD_RMSE for label 3: [15.745 15.809]\n",
      "../dataset_train_v1/0084Acid_ini Read in 0.83 s\n",
      "../dataset_train_v1/0084Inhibitor Read in 0.73 s\n",
      "RMSE for label 4: [0.004 0.395]\n",
      "NMSE for label 4: [11.905  0.989]\n",
      "NMSE_height for label 4: [11.499  0.94 ]\n"
     ]
    },
    {
     "name": "stderr",
     "output_type": "stream",
     "text": [
      "<<<\n",
      "time:\t0.447432s\n",
      "<<<\n"
     ]
    },
    {
     "name": "stdout",
     "output_type": "stream",
     "text": [
      "\n",
      "!Start to clear memory\n",
      "\n",
      "!Start to clear memory\n"
     ]
    },
    {
     "name": "stderr",
     "output_type": "stream",
     "text": [
      "<<<\n",
      "time:\t0.416745s\n",
      "<<<\n"
     ]
    },
    {
     "name": "stdout",
     "output_type": "stream",
     "text": [
      "Contact 1 in 0-CD_x_label is redundant, with info [741.134 -14.125  49.921]\n",
      "Contact 2 in 0-CD_x_label is redundant, with info [-903.948    7.725   49.881]\n",
      "CD_x error at height 0:\n",
      " [-49.941 -49.921 -49.881]\n",
      "Contact 0 in 0-CD_y_label is redundant, with info [-898.897   -3.505   49.971]\n",
      "Contact 1 in 0-CD_y_label is redundant, with info [ 14.175 -78.987  49.951]\n",
      "Contact 2 in 0-CD_y_label is redundant, with info [785.195 -55.526  49.941]\n",
      "CD_y error at height 0:\n",
      " [-49.971 -49.951 -49.941]\n",
      "CD_x error at height 8:\n",
      " [ 0.05 -0.04  0.83]\n",
      "CD_y error at height 8:\n",
      " [-0.58  0.06  0.12]\n",
      "CD_x error at height 16:\n",
      " [0.05 0.65 0.07]\n",
      "CD_y error at height 16:\n",
      " [-0.34 -0.01 -0.01]\n",
      "CD_x error at height 24:\n",
      " [-0.7   0.06 -0.1 ]\n",
      "CD_y error at height 24:\n",
      " [-0.06 -0.3  -0.01]\n",
      "CD_x error at height 32:\n",
      " [ 0.07 -1.73 -1.03]\n",
      "CD_y error at height 32:\n",
      " [-0.73 -0.14 -0.38]\n",
      "CD_x error at height 40:\n",
      " [ 0.02  0.04 -0.99]\n",
      "CD_y error at height 40:\n",
      " [0.06 0.01 0.02]\n",
      "CD_x error at height 48:\n",
      " [-1.27  0.19  0.14]\n",
      "CD_y error at height 48:\n",
      " [ 0.04 -0.09 -0.04]\n",
      "CD_x error at height 56:\n",
      " [ 0.06 -1.61 -1.06]\n",
      "CD_y error at height 56:\n",
      " [-1.15 -0.02 -1.  ]\n",
      "CD_x error at height 64:\n",
      " [-0.91  1.54  1.65]\n",
      "CD_y error at height 64:\n",
      " [-0.99  0.78 -0.6 ]\n"
     ]
    },
    {
     "name": "stderr",
     "output_type": "stream",
     "text": [
      "\r",
      " 25%|██▌       | 5/20 [4:37:36<13:41:20, 3285.39s/it]"
     ]
    },
    {
     "name": "stdout",
     "output_type": "stream",
     "text": [
      "CD_x error at height 72:\n",
      " [ 0.08  0.53 -0.91]\n",
      "CD_y error at height 72:\n",
      " [-3.26  0.48 -0.66]\n",
      "CD_RMSE for label 4: [15.805 15.815]\n",
      "../dataset_train_v1/0085Acid_ini Read in 0.86 s\n",
      "../dataset_train_v1/0085Inhibitor Read in 0.81 s\n",
      "RMSE for label 5: [0.008 0.724]\n",
      "NMSE for label 5: [11.661  1.815]\n",
      "NMSE_height for label 5: [11.302  1.729]\n",
      "\n",
      "!Start to clear memory\n"
     ]
    },
    {
     "name": "stderr",
     "output_type": "stream",
     "text": [
      "<<<\n",
      "time:\t0.4661s\n",
      "<<<\n",
      "<<<\n",
      "time:\t0.417289s\n",
      "<<<\n"
     ]
    },
    {
     "name": "stdout",
     "output_type": "stream",
     "text": [
      "\n",
      "!Start to clear memory\n",
      "Contact 0 in 0-CD_x_label is redundant, with info [ 746.174 -841.446   49.651]\n",
      "Contact 1 in 0-CD_x_label is redundant, with info [ -54.446 -841.146   49.921]\n",
      "Contact 2 in 0-CD_x_label is redundant, with info [ 348.504 -839.496   49.971]\n",
      "Contact 3 in 0-CD_x_label is redundant, with info [-451.686  -43.876   49.921]\n",
      "Contact 4 in 0-CD_x_label is redundant, with info [-51.776  -1.375  47.171]\n",
      "Contact 5 in 0-CD_x_label is redundant, with info [-851.896  755.144   49.891]\n",
      "Contact 6 in 0-CD_x_label is redundant, with info [-54.476 756.994  49.951]\n",
      "Contact 7 in 0-CD_x_label is redundant, with info [746.434 758.794  49.691]\n",
      "Contact 8 in 0-CD_x_label is redundant, with info [345.244 785.895  49.961]\n",
      "Contact 9 in 0-CD_x_label is redundant, with info [-454.666  792.195   49.931]\n",
      "CD_x error at height 0:\n",
      " [-49.651 -49.921 -49.971 -49.921 -47.171 -49.891 -49.951 -49.691 -49.961 -49.931]\n",
      "Contact 0 in 0-CD_y_label is redundant, with info [-814.595  757.214   49.931]\n",
      "Contact 1 in 0-CD_y_label is redundant, with info [-449.786  -47.516   49.981]\n",
      "Contact 2 in 0-CD_y_label is redundant, with info [-416.935  757.344   49.841]\n",
      "Contact 3 in 0-CD_y_label is redundant, with info [ -50.076 -848.646   49.941]\n",
      "Contact 4 in 0-CD_y_label is redundant, with info [ -6.175 750.824  49.971]\n",
      "Contact 5 in 0-CD_y_label is redundant, with info [ -5.525 -50.466  49.941]\n",
      "Contact 6 in 0-CD_y_label is redundant, with info [350.634 750.084  49.971]\n",
      "Contact 7 in 0-CD_y_label is redundant, with info [ 389.135 -851.876   49.981]\n",
      "Contact 8 in 0-CD_y_label is redundant, with info [781.645 756.454  49.991]\n",
      "Contact 9 in 0-CD_y_label is redundant, with info [ 790.095 -851.156   49.931]\n",
      "CD_y error at height 0:\n",
      " [-49.931 -49.981 -49.841 -49.941 -49.971 -49.941 -49.971 -49.981 -49.991 -49.931]\n",
      "CD_x error at height 8:\n",
      " [ 0.19 -0.18  0.06 -0.26 -0.46  0.13 -0.6  -0.   -0.96  0.02]\n",
      "CD_y error at height 8:\n",
      " [ 0.23 -0.13 -0.02  0.03 -0.09  0.08  0.02 -0.03 -0.12 -0.04]\n",
      "CD_x error at height 16:\n",
      " [-0.92 -0.39  0.06 -0.01 -0.77 -0.61 -0.03 -0.99  0.37  0.93]\n",
      "CD_y error at height 16:\n",
      " [ 0.01  0.11  0.09  0.63  0.1  -0.27  0.03  0.08 -0.11  0.  ]\n",
      "CD_x error at height 24:\n",
      " [-0.99 -0.02 -0.19  0.02  2.76 -0.46 -0.94  0.01  0.04  0.12]\n",
      "CD_y error at height 24:\n",
      " [-0.24 -0.01 -0.1  -0.02 -0.72  0.01 -0.    0.08  0.07 -0.05]\n",
      "CD_x error at height 32:\n",
      " [-0.32  0.52 -0.06  0.02  0.24  0.64 -0.03 -0.42 -3.76 -0.47]\n",
      "CD_y error at height 32:\n",
      " [-0.08 -0.02  0.35  0.02  0.04 -0.14 -0.    0.03  0.03 -0.03]\n",
      "CD_x error at height 40:\n",
      " [-1.58 -0.17 -0.5   1.86  4.67 -0.51 -0.06  0.36 -0.01  1.26]\n",
      "CD_y error at height 40:\n",
      " [ 0.03 -0.17 -0.46 -0.29  0.11  0.65 -0.04  0.03 -0.36  0.03]\n",
      "CD_x error at height 48:\n",
      " [-0.85 -0.13 -0.95  1.13 -2.19  0.39 -0.1  -0.64 -0.99 -1.14]\n",
      "CD_y error at height 48:\n",
      " [-0.03  0.26 -0.56  0.48 -0.04 -0.27 -0.03  0.02  0.06 -0.01]\n",
      "CD_x error at height 56:\n",
      " [-1.14  1.25 -0.02  0.01 -0.1  -0.93 -0.28 -0.04  0.03  0.32]\n",
      "CD_y error at height 56:\n",
      " [-0.03 -0.01 -0.02 -0.3  -0.01 -3.57 -0.53 -0.08 -2.2  -1.42]\n",
      "CD_x error at height 64:\n",
      " [ 1.19 -0.26  1.77 -0.98 -0.64 -1.07  0.42 -0.74 -1.08  0.31]\n",
      "CD_y error at height 64:\n",
      " [-1.74 -0.39 -0.29 -0.32 -2.68 -2.57 -1.16 -0.83 -1.12 -2.75]\n"
     ]
    },
    {
     "name": "stderr",
     "output_type": "stream",
     "text": [
      "\r",
      " 30%|███       | 6/20 [5:31:17<12:41:31, 3263.66s/it]"
     ]
    },
    {
     "name": "stdout",
     "output_type": "stream",
     "text": [
      "CD_x error at height 72:\n",
      " [ 0.63 -0.24 -0.28 -0.4   0.06  1.61 -0.22 -0.19 -0.42 -0.25]\n",
      "CD_y error at height 72:\n",
      " [ 0.58  0.01 -1.25 -1.92 -2.54 -0.52 -1.88 -3.75 -0.56 -2.  ]\n",
      "CD_RMSE for label 5: [15.717 15.822]\n",
      "../dataset_train_v1/0086Acid_ini Read in 0.85 s\n",
      "../dataset_train_v1/0086Inhibitor Read in 0.79 s\n",
      "RMSE for label 6: [0.004 0.379]\n",
      "NMSE for label 6: [13.165  0.949]\n",
      "NMSE_height for label 6: [12.904  0.906]\n"
     ]
    },
    {
     "name": "stderr",
     "output_type": "stream",
     "text": [
      "<<<\n",
      "time:\t0.44209s\n",
      "<<<\n"
     ]
    },
    {
     "name": "stdout",
     "output_type": "stream",
     "text": [
      "\n",
      "!Start to clear memory\n",
      "\n",
      "!Start to clear memory\n"
     ]
    },
    {
     "name": "stderr",
     "output_type": "stream",
     "text": [
      "<<<\n",
      "time:\t0.380162s\n",
      "<<<\n"
     ]
    },
    {
     "name": "stdout",
     "output_type": "stream",
     "text": [
      "Contact 0 in 0-CD_x_label is redundant, with info [ 873.227 -176.529   49.991]\n",
      "Contact 1 in 0-CD_x_label is redundant, with info [ -27.626 -102.478   49.991]\n",
      "Contact 2 in 0-CD_x_label is redundant, with info [-974.999   82.377   28.971]\n",
      "CD_x error at height 0:\n",
      " [-49.991 -49.991 -28.971]\n",
      "Contact 0 in 0-CD_y_label is redundant, with info [-963.699   57.916   48.551]\n",
      "Contact 1 in 0-CD_y_label is redundant, with info [  18.225 -110.948   49.841]\n",
      "Contact 2 in 0-CD_y_label is redundant, with info [ 887.397 -222.821   49.761]\n",
      "CD_y error at height 0:\n",
      " [-48.551 -49.841 -49.761]\n",
      "CD_x error at height 8:\n",
      " [-1.15 -0.   -0.21]\n",
      "CD_y error at height 8:\n",
      " [-5.39 -0.03 -0.14]\n",
      "CD_x error at height 16:\n",
      " [-1.09 -0.01 -0.3 ]\n",
      "CD_y error at height 16:\n",
      " [-3.66  0.02  0.24]\n",
      "CD_x error at height 24:\n",
      " [-1.17 -0.12 -0.54]\n",
      "CD_y error at height 24:\n",
      " [-1.62 -0.36 -0.04]\n",
      "CD_x error at height 32:\n",
      " [-1.05 -0.29  0.6 ]\n",
      "CD_y error at height 32:\n",
      " [-0.8  -0.03  0.13]\n",
      "CD_x error at height 40:\n",
      " [-0.01 -0.81  2.83]\n",
      "CD_y error at height 40:\n",
      " [-1.92  0.07 -0.04]\n",
      "CD_x error at height 48:\n",
      " [ 0.37  0.01 -0.78]\n",
      "CD_y error at height 48:\n",
      " [ 1.08 -0.11  0.  ]\n",
      "CD_x error at height 56:\n",
      " [-1.77  0.61  3.11]\n",
      "CD_y error at height 56:\n",
      " [-0.01 -1.19 -0.03]\n",
      "CD_x error at height 64:\n",
      " [ 0.77 -0.05 -1.25]\n",
      "CD_y error at height 64:\n",
      " [-3.66  0.27 -1.1 ]\n"
     ]
    },
    {
     "name": "stderr",
     "output_type": "stream",
     "text": [
      "\r",
      " 35%|███▌      | 7/20 [6:24:25<11:41:44, 3238.84s/it]"
     ]
    },
    {
     "name": "stdout",
     "output_type": "stream",
     "text": [
      "CD_x error at height 72:\n",
      " [-0.98  0.3 ]\n",
      "CD_y error at height 72:\n",
      " [-0.5  -1.25]\n",
      "CD_RMSE for label 6: [14.226 15.959]\n",
      "../dataset_train_v1/0087Acid_ini Read in 0.87 s\n",
      "../dataset_train_v1/0087Inhibitor Read in 0.83 s\n",
      "RMSE for label 7: [0.004 0.391]\n",
      "NMSE for label 7: [12.002  0.978]\n",
      "NMSE_height for label 7: [11.62  0.93]\n",
      "\n",
      "!Start to clear memory\n"
     ]
    },
    {
     "name": "stderr",
     "output_type": "stream",
     "text": [
      "<<<\n",
      "time:\t0.436273s\n",
      "<<<\n"
     ]
    },
    {
     "name": "stdout",
     "output_type": "stream",
     "text": [
      "\n",
      "!Start to clear memory\n"
     ]
    },
    {
     "name": "stderr",
     "output_type": "stream",
     "text": [
      "<<<\n",
      "time:\t0.387644s\n",
      "<<<\n"
     ]
    },
    {
     "name": "stdout",
     "output_type": "stream",
     "text": [
      "Contact 0 in 0-CD_x_label is redundant, with info [-546.349 -473.187   49.981]\n",
      "Contact 1 in 0-CD_x_label is redundant, with info [ -58.446 -130.728   49.851]\n",
      "Contact 2 in 0-CD_x_label is redundant, with info [ 40.576 538.138  49.551]\n",
      "CD_x error at height 0:\n",
      " [-49.981 -49.851 -49.551]\n",
      "Contact 0 in 0-CD_y_label is redundant, with info [-539.188 -483.167   49.971]\n",
      "Contact 1 in 0-CD_y_label is redundant, with info [ -53.676 -171.729   49.931]\n",
      "Contact 2 in 0-CD_y_label is redundant, with info [ 82.577 529.868  49.831]\n",
      "CD_y error at height 0:\n",
      " [-49.971 -49.931 -49.831]\n",
      "CD_x error at height 8:\n",
      " [-0.06  0.04 -0.74]\n",
      "CD_y error at height 8:\n",
      " [-0.19 -0.02 -0.65]\n",
      "CD_x error at height 16:\n",
      " [-0.03  0.1   0.03]\n",
      "CD_y error at height 16:\n",
      " [-0.4  -0.33 -0.03]\n",
      "CD_x error at height 24:\n",
      " [ 1.07  0.03 -0.53]\n",
      "CD_y error at height 24:\n",
      " [-0.06 -0.04  0.05]\n",
      "CD_x error at height 32:\n",
      " [-1.43 -2.92 -0.75]\n",
      "CD_y error at height 32:\n",
      " [ 0.   -0.01  0.14]\n",
      "CD_x error at height 40:\n",
      " [ 0.44 -1.24 -1.98]\n",
      "CD_y error at height 40:\n",
      " [ 0.06 -0.15 -0.03]\n",
      "CD_x error at height 48:\n",
      " [ 0.17 -0.09 -0.15]\n",
      "CD_y error at height 48:\n",
      " [ 0.01 -0.23  0.32]\n",
      "CD_x error at height 56:\n",
      " [-0.02  0.33 -0.24]\n",
      "CD_y error at height 56:\n",
      " [-0.05 -0.32 -1.01]\n",
      "CD_x error at height 64:\n",
      " [ 0.72  0.15 -0.05]\n",
      "CD_y error at height 64:\n",
      " [-2.01 -1.17 -3.05]\n"
     ]
    },
    {
     "name": "stderr",
     "output_type": "stream",
     "text": [
      "\r",
      " 40%|████      | 8/20 [7:17:16<10:43:27, 3217.27s/it]"
     ]
    },
    {
     "name": "stdout",
     "output_type": "stream",
     "text": [
      "CD_x error at height 72:\n",
      " [ 0.36  0.35 -1.33]\n",
      "CD_y error at height 72:\n",
      " [-1.17  0.02 -1.57]\n",
      "CD_RMSE for label 7: [15.769 15.805]\n",
      "../dataset_train_v1/0088Acid_ini Read in 0.83 s\n",
      "../dataset_train_v1/0088Inhibitor Read in 0.82 s\n",
      "RMSE for label 8: [0.006 0.554]\n",
      "NMSE for label 8: [11.838  1.388]\n",
      "NMSE_height for label 8: [11.481  1.322]\n"
     ]
    },
    {
     "name": "stderr",
     "output_type": "stream",
     "text": [
      "<<<\n",
      "time:\t0.45636s\n",
      "<<<\n"
     ]
    },
    {
     "name": "stdout",
     "output_type": "stream",
     "text": [
      "\n",
      "!Start to clear memory\n"
     ]
    },
    {
     "name": "stderr",
     "output_type": "stream",
     "text": [
      "<<<\n",
      "time:\t0.398854s\n",
      "<<<\n"
     ]
    },
    {
     "name": "stdout",
     "output_type": "stream",
     "text": [
      "\n",
      "!Start to clear memory\n",
      "Contact 0 in 0-CD_x_label is redundant, with info [ -58.056 -857.696   49.481]\n",
      "Contact 1 in 0-CD_x_label is redundant, with info [ 741.964 -855.896   49.861]\n",
      "Contact 2 in 0-CD_x_label is redundant, with info [-858.506 -849.196   49.951]\n",
      "Contact 3 in 0-CD_x_label is redundant, with info [-58.466 -22.726  49.991]\n",
      "Contact 4 in 0-CD_x_label is redundant, with info [741.944 -21.276  49.841]\n",
      "Contact 5 in 0-CD_x_label is redundant, with info [742.004 741.844  49.821]\n",
      "CD_x error at height 0:\n",
      " [-49.481 -49.861 -49.951 -49.991 -49.841 -49.821]\n",
      "Contact 0 in 0-CD_y_label is redundant, with info [-817.345 -867.307   49.931]\n",
      "Contact 1 in 0-CD_y_label is redundant, with info [ -53.126 -864.107   49.991]\n",
      "Contact 2 in 0-CD_y_label is redundant, with info [-10.175 -66.587  49.951]\n",
      "Contact 3 in 0-CD_y_label is redundant, with info [745.244 737.503  49.941]\n",
      "Contact 4 in 0-CD_y_label is redundant, with info [ 785.745 -867.007   49.991]\n",
      "Contact 5 in 0-CD_y_label is redundant, with info [787.745 -66.097  49.881]\n",
      "CD_y error at height 0:\n",
      " [-49.931 -49.991 -49.951 -49.941 -49.991 -49.881]\n",
      "CD_x error at height 8:\n",
      " [ 0.11 -0.08  0.62 -0.   -0.08  0.13]\n",
      "CD_y error at height 8:\n",
      " [-0.    0.22 -0.35  0.01  0.19 -0.3 ]\n",
      "CD_x error at height 16:\n",
      " [ 0.88 -1.24  0.73  0.04  0.05  0.04]\n",
      "CD_y error at height 16:\n",
      " [-0.05 -0.18 -0.23 -0.25  0.08  0.02]\n",
      "CD_x error at height 24:\n",
      " [-1.6  -1.32  0.18  0.05 -1.04 -0.25]\n",
      "CD_y error at height 24:\n",
      " [ 0.04 -0.88 -0.3   0.02 -0.14 -0.03]\n",
      "CD_x error at height 32:\n",
      " [-1.38 -1.18  2.58 -0.01 -0.67  2.06]\n",
      "CD_y error at height 32:\n",
      " [-0.02  0.03 -0.08 -0.   -0.28 -0.04]\n",
      "CD_x error at height 40:\n",
      " [-3.52 -1.05 -0.59 -0.94 -0.08 -0.96]\n",
      "CD_y error at height 40:\n",
      " [-0.    0.17 -0.08 -0.02  0.01 -0.12]\n",
      "CD_x error at height 48:\n",
      " [-0.3   2.07  0.17 -4.39 -0.27 -0.25]\n",
      "CD_y error at height 48:\n",
      " [ 0.02 -0.01 -0.39 -0.39  0.01 -0.04]\n",
      "CD_x error at height 56:\n",
      " [-0.31 -0.57  0.26  1.75 -0.88  0.03]\n",
      "CD_y error at height 56:\n",
      " [-1.51 -0.01 -0.73 -0.09 -1.5  -0.  ]\n",
      "CD_x error at height 64:\n",
      " [-2.19 -1.86  2.14 -0.29 -0.04 -0.21]\n",
      "CD_y error at height 64:\n",
      " [-1.18 -0.97 -2.11 -0.11 -0.85 -0.48]\n"
     ]
    },
    {
     "name": "stderr",
     "output_type": "stream",
     "text": [
      "\r",
      " 45%|████▌     | 9/20 [8:10:26<9:48:16, 3208.79s/it] "
     ]
    },
    {
     "name": "stdout",
     "output_type": "stream",
     "text": [
      "CD_x error at height 72:\n",
      " [-1.74 -0.37 -0.14 -1.05  0.37 -1.  ]\n",
      "CD_y error at height 72:\n",
      " [-3.24 -1.38 -0.65 -1.48 -0.58 -0.82]\n",
      "CD_RMSE for label 8: [15.801 15.811]\n",
      "../dataset_train_v1/0089Acid_ini Read in 0.67 s\n",
      "../dataset_train_v1/0089Inhibitor Read in 0.73 s\n",
      "RMSE for label 9: [0.006 0.604]\n",
      "NMSE for label 9: [11.736  1.514]\n",
      "NMSE_height for label 9: [11.376  1.441]\n"
     ]
    },
    {
     "name": "stderr",
     "output_type": "stream",
     "text": [
      "<<<\n",
      "time:\t0.454496s\n",
      "<<<\n"
     ]
    },
    {
     "name": "stdout",
     "output_type": "stream",
     "text": [
      "\n",
      "!Start to clear memory\n"
     ]
    },
    {
     "name": "stderr",
     "output_type": "stream",
     "text": [
      "<<<\n",
      "time:\t0.434896s\n",
      "<<<\n"
     ]
    },
    {
     "name": "stdout",
     "output_type": "stream",
     "text": [
      "\n",
      "!Start to clear memory\n",
      "Contact 0 in 0-CD_x_label is redundant, with info [ 345.734 -814.895   49.021]\n",
      "Contact 1 in 0-CD_x_label is redundant, with info [-54.126 -45.826  49.991]\n",
      "Contact 2 in 0-CD_x_label is redundant, with info [345.754 -44.776  49.981]\n",
      "Contact 3 in 0-CD_x_label is redundant, with info [-54.736 750.594  49.981]\n",
      "Contact 4 in 0-CD_x_label is redundant, with info [-851.896  753.144   49.921]\n",
      "Contact 5 in 0-CD_x_label is redundant, with info [345.754 754.844  49.931]\n",
      "Contact 6 in 0-CD_x_label is redundant, with info [745.994 755.244  49.951]\n",
      "CD_x error at height 0:\n",
      " [-49.021 -49.991 -49.981 -49.981 -49.921 -49.931 -49.951]\n",
      "Contact 0 in 0-CD_y_label is redundant, with info [-806.395  745.354   49.961]\n",
      "Contact 1 in 0-CD_y_label is redundant, with info [ -6.825 746.104  49.721]\n",
      "Contact 2 in 0-CD_y_label is redundant, with info [ -5.975 -52.026  49.811]\n",
      "Contact 3 in 0-CD_y_label is redundant, with info [382.035 -47.206  49.911]\n",
      "Contact 4 in 0-CD_y_label is redundant, with info [ 388.635 -854.876   49.901]\n",
      "Contact 5 in 0-CD_y_label is redundant, with info [389.685 744.714  49.961]\n",
      "Contact 6 in 0-CD_y_label is redundant, with info [750.444 749.344  49.921]\n",
      "CD_y error at height 0:\n",
      " [-49.961 -49.721 -49.811 -49.911 -49.901 -49.961 -49.921]\n",
      "CD_x error at height 8:\n",
      " [ 0.89 -0.11  0.11 -0.28  1.11  0.34  0.06]\n",
      "CD_y error at height 8:\n",
      " [ 0.02  0.24 -0.06 -0.34 -0.04  0.05  0.04]\n",
      "CD_x error at height 16:\n",
      " [ 0.27  0.01  0.1  -0.37  0.58  0.05 -0.02]\n",
      "CD_y error at height 16:\n",
      " [-0.48 -0.05 -0.03  0.03  0.01  0.14  0.03]\n",
      "CD_x error at height 24:\n",
      " [-0.96 -0.01 -1.39 -0.74 -0.1  -0.72  0.28]\n",
      "CD_y error at height 24:\n",
      " [-0.06  0.04  0.08 -0.01 -0.15 -0.02  0.  ]\n",
      "CD_x error at height 32:\n",
      " [-1.53 -0.   -0.3   0.03 -0.86 -0.53 -2.02]\n",
      "CD_y error at height 32:\n",
      " [-0.04  0.02  0.05 -0.1  -0.32  0.23 -0.04]\n",
      "CD_x error at height 40:\n",
      " [-2.4   0.89  0.09 -0.59  0.07  1.01  2.36]\n",
      "CD_y error at height 40:\n",
      " [ 0.14  0.03 -0.13 -0.35 -0.08 -0.01 -0.32]\n",
      "CD_x error at height 48:\n",
      " [ 0.36 -0.18 -3.56  0.77 -3.21 -1.55 -1.5 ]\n",
      "CD_y error at height 48:\n",
      " [-0.13 -0.12  0.12  0.06 -0.   -0.06  0.01]\n",
      "CD_x error at height 56:\n",
      " [-0.61  1.61 -0.68 -1.37 -0.19  0.08 -0.06]\n",
      "CD_y error at height 56:\n",
      " [-0.11  0.    0.37 -0.35 -1.   -1.66 -0.63]\n",
      "CD_x error at height 64:\n",
      " [-0.22 -0.05  0.16  1.59 -0.66 -0.51 -0.52]\n",
      "CD_y error at height 64:\n",
      " [-0.2  -0.42 -0.87 -0.82 -1.28 -0.8  -2.48]\n"
     ]
    },
    {
     "name": "stderr",
     "output_type": "stream",
     "text": [
      "\r",
      " 50%|█████     | 10/20 [9:03:44<8:54:13, 3205.35s/it]"
     ]
    },
    {
     "name": "stdout",
     "output_type": "stream",
     "text": [
      "CD_x error at height 72:\n",
      " [-3.05 -0.73 -0.11  0.4  -0.03 -0.81 -0.36]\n",
      "CD_y error at height 72:\n",
      " [-2.01  0.47  0.2  -0.98 -1.57 -2.81 -1.23]\n",
      "CD_RMSE for label 9: [15.791 15.79 ]\n",
      "../dataset_train_v1/0090Acid_ini Read in 0.71 s\n",
      "../dataset_train_v1/0090Inhibitor Read in 0.71 s\n",
      "RMSE for label 10: [0.007 0.629]\n",
      "NMSE for label 10: [11.969  1.575]\n",
      "NMSE_height for label 10: [11.649  1.501]\n"
     ]
    },
    {
     "name": "stderr",
     "output_type": "stream",
     "text": [
      "<<<\n",
      "time:\t0.466131s\n",
      "<<<\n"
     ]
    },
    {
     "name": "stdout",
     "output_type": "stream",
     "text": [
      "\n",
      "!Start to clear memory\n",
      "\n",
      "!Start to clear memory\n"
     ]
    },
    {
     "name": "stderr",
     "output_type": "stream",
     "text": [
      "<<<\n",
      "time:\t0.410475s\n",
      "<<<\n"
     ]
    },
    {
     "name": "stdout",
     "output_type": "stream",
     "text": [
      "Contact 0 in 0-CD_x_label is redundant, with info [  97.757 -916.148   48.751]\n",
      "Contact 1 in 0-CD_x_label is redundant, with info [ 682.142 -725.893   49.641]\n",
      "Contact 2 in 0-CD_x_label is redundant, with info [818.675 -65.627  49.201]\n",
      "Contact 3 in 0-CD_x_label is redundant, with info [-843.896    3.225   49.951]\n",
      "Contact 5 in 0-CD_x_label is redundant, with info [145.629 643.491  49.831]\n",
      "Contact 6 in 0-CD_x_label is redundant, with info [824.976 758.944  49.891]\n",
      "Contact 7 in 0-CD_x_label is redundant, with info [-943.949  923.048   46.921]\n",
      "CD_x error at height 0:\n",
      " [-48.751 -49.641 -49.201 -49.951 -49.691 -49.831 -49.891 -46.921]\n",
      "Contact 0 in 0-CD_y_label is redundant, with info [-902.948  881.997   49.981]\n",
      "Contact 1 in 0-CD_y_label is redundant, with info [-837.896  -10.285   49.961]\n",
      "Contact 3 in 0-CD_y_label is redundant, with info [ 138.578 -954.979   49.941]\n",
      "Contact 4 in 0-CD_y_label is redundant, with info [193.28  597.92   49.901]\n",
      "Contact 5 in 0-CD_y_label is redundant, with info [ 722.693 -739.773   49.961]\n",
      "Contact 6 in 0-CD_y_label is redundant, with info [853.946 -78.477  49.831]\n",
      "Contact 7 in 0-CD_y_label is redundant, with info [870.647 716.623  49.851]\n",
      "CD_y error at height 0:\n",
      " [-49.981 -49.961 -49.901 -49.941 -49.901 -49.961 -49.831 -49.851]\n",
      "CD_x error at height 8:\n",
      " [ 1.33 -0.79 -0.39  0.41 -0.08  0.1  -0.06  0.76]\n",
      "CD_y error at height 8:\n",
      " [ 0.01  0.17 -0.01  0.15  0.05  0.02  0.06 -0.06]\n",
      "CD_x error at height 16:\n",
      " [-0.86 -0.98 -0.03 -0.22 -0.73  0.08  0.1   1.24]\n",
      "CD_y error at height 16:\n",
      " [ 0.2   0.23  0.33  0.02  0.04 -0.09  0.15  0.09]\n",
      "CD_x error at height 24:\n",
      " [-0.08 -1.4  -1.09 -0.02 -0.3   0.04 -0.24 -1.76]\n",
      "CD_y error at height 24:\n",
      " [-0.   -0.14 -0.32  0.05 -0.12 -0.03  0.05  0.25]\n",
      "CD_x error at height 32:\n",
      " [-1.03 -0.92  2.75 -0.34 -1.02  0.03  0.26 -0.45]\n",
      "CD_y error at height 32:\n",
      " [ 0.03  0.14 -0.05  0.02 -0.04  0.12  0.   -0.64]\n",
      "CD_x error at height 40:\n",
      " [-1.23 -0.38  0.63  0.08 -0.99 -0.04 -0.14 -0.12]\n",
      "CD_y error at height 40:\n",
      " [-0.02  0.06 -0.21  0.08  0.01  0.05 -0.43  0.02]\n",
      "CD_x error at height 48:\n",
      " [-1.04 -0.66 -2.09 -0.96  2.05 -1.27 -0.45  2.95]\n",
      "CD_y error at height 48:\n",
      " [-0.06 -0.09  0.01 -0.02  0.15  0.26 -0.01  0.02]\n",
      "CD_x error at height 56:\n",
      " [-1.1  -0.9   0.11  0.39  0.19  2.49 -1.35  1.5 ]\n",
      "CD_y error at height 56:\n",
      " [-1.47 -0.8   0.03 -1.1  -0.04 -0.62 -2.03 -2.56]\n",
      "CD_x error at height 64:\n",
      " [-2.57 -2.69 -0.62 -0.88 -0.01 -1.01  0.2   0.1 ]\n",
      "CD_y error at height 64:\n",
      " [-1.1  -2.25 -0.34 -1.68 -0.36 -1.21 -0.72 -1.57]\n"
     ]
    },
    {
     "name": "stderr",
     "output_type": "stream",
     "text": [
      "\r",
      " 55%|█████▌    | 11/20 [9:57:28<8:01:39, 3211.04s/it]"
     ]
    },
    {
     "name": "stdout",
     "output_type": "stream",
     "text": [
      "CD_x error at height 72:\n",
      " [-1.96 -2.29 -0.05  2.3  -1.13  0.25 -0.43  0.04]\n",
      "CD_y error at height 72:\n",
      " [-1.73 -1.23 -0.09 -2.74 -0.71 -5.07  0.28 -0.42]\n",
      "CD_RMSE for label 10: [15.61  15.812]\n",
      "../dataset_train_v1/0091Acid_ini Read in 0.66 s\n",
      "../dataset_train_v1/0091Inhibitor Read in 0.65 s\n",
      "RMSE for label 11: [0.008 0.748]\n",
      "NMSE for label 11: [11.662  1.877]\n",
      "NMSE_height for label 11: [11.274  1.786]\n",
      "\n",
      "!Start to clear memory\n"
     ]
    },
    {
     "name": "stderr",
     "output_type": "stream",
     "text": [
      "<<<\n",
      "time:\t0.458448s\n",
      "<<<\n"
     ]
    },
    {
     "name": "stdout",
     "output_type": "stream",
     "text": [
      "\n",
      "!Start to clear memory\n"
     ]
    },
    {
     "name": "stderr",
     "output_type": "stream",
     "text": [
      "<<<\n",
      "time:\t0.41915s\n",
      "<<<\n"
     ]
    },
    {
     "name": "stdout",
     "output_type": "stream",
     "text": [
      "Contact 0 in 0-CD_x_label is redundant, with info [ 749.984 -445.386   49.841]\n",
      "Contact 1 in 0-CD_x_label is redundant, with info [-847.896 -441.886   49.241]\n",
      "Contact 2 in 0-CD_x_label is redundant, with info [-50.446 -48.526  49.891]\n",
      "Contact 3 in 0-CD_x_label is redundant, with info [-447.636  -46.876   49.861]\n",
      "Contact 4 in 0-CD_x_label is redundant, with info [349.734 -11.375  49.891]\n",
      "Contact 5 in 0-CD_x_label is redundant, with info [750.124  -9.775  49.991]\n",
      "Contact 6 in 0-CD_x_label is redundant, with info [-848.286  361.384   49.921]\n",
      "Contact 7 in 0-CD_x_label is redundant, with info [-451.736  388.185   49.881]\n",
      "Contact 8 in 0-CD_x_label is redundant, with info [349.734 750.044  49.901]\n",
      "Contact 9 in 0-CD_x_label is redundant, with info [-450.466  751.094   49.981]\n",
      "Contact 10 in 0-CD_x_label is redundant, with info [750.414 753.194  49.851]\n",
      "CD_x error at height 0:\n",
      " [-49.841 -49.241 -49.891 -49.861 -49.891 -49.991 -49.921 -49.881 -49.901 -49.981 -49.851]\n",
      "Contact 0 in 0-CD_y_label is redundant, with info [-809.295  344.874   49.981]\n",
      "Contact 1 in 0-CD_y_label is redundant, with info [-808.295 -455.416   49.991]\n",
      "Contact 2 in 0-CD_y_label is redundant, with info [-446.536  349.574   49.891]\n",
      "Contact 3 in 0-CD_y_label is redundant, with info [-404.835  -55.626   49.861]\n",
      "Contact 4 in 0-CD_y_label is redundant, with info [-403.435  745.894   49.091]\n",
      "Contact 5 in 0-CD_y_label is redundant, with info [ -2.025 -52.056  49.941]\n",
      "Contact 6 in 0-CD_y_label is redundant, with info [353.934 -52.446  49.881]\n",
      "Contact 7 in 0-CD_y_label is redundant, with info [357.734 740.964  49.551]\n",
      "Contact 8 in 0-CD_y_label is redundant, with info [753.894 748.974  49.981]\n",
      "Contact 9 in 0-CD_y_label is redundant, with info [757.444 -51.806  49.971]\n",
      "Contact 10 in 0-CD_y_label is redundant, with info [ 790.695 -456.036   49.921]\n",
      "CD_y error at height 0:\n",
      " [-49.981 -49.991 -49.891 -49.861 -49.091 -49.941 -49.881 -49.551 -49.981 -49.971 -49.921]\n",
      "CD_x error at height 8:\n",
      " [-1.21  0.1   0.05  0.04 -0.02  0.03 -0.46  0.11 -0.25 -0.02  0.06]\n",
      "CD_y error at height 8:\n",
      " [-0.   -0.13  0.02 -0.06 -0.06 -0.02  0.05  0.06  0.07 -0.3   0.41]\n",
      "CD_x error at height 16:\n",
      " [-1.43 -0.03  0.01 -0.01  0.46 -0.05 -0.   -0.12  0.08 -0.   -1.54]\n",
      "CD_y error at height 16:\n",
      " [-0.09 -0.17 -0.06  0.01 -0.7  -0.01 -0.05  0.01  0.01  0.06 -0.03]\n",
      "CD_x error at height 24:\n",
      " [-1.14 -2.18  0.39 -0.7   0.02  0.06 -0.45  0.01 -1.59 -0.05 -1.01]\n",
      "CD_y error at height 24:\n",
      " [-0.   -0.11 -0.36  0.05 -0.02 -0.01  0.18 -0.54  0.3   0.06  0.03]\n",
      "CD_x error at height 32:\n",
      " [ 2.94 -2.02  0.    0.04 -0.81  0.04 -2.06  0.46 -0.14 -0.34  0.95]\n",
      "CD_y error at height 32:\n",
      " [-0.   -0.01  0.01  0.01 -0.12  0.36  0.06  0.12  0.07  0.17 -0.31]\n",
      "CD_x error at height 40:\n",
      " [ 0.08 -1.34  0.92 -4.14  0.39  1.39 -0.53  3.   -0.14 -0.01 -0.89]\n",
      "CD_y error at height 40:\n",
      " [-0.01  0.06 -0.02  0.01 -0.44  0.43 -0.14 -0.03  0.04 -0.03 -0.07]\n",
      "CD_x error at height 48:\n",
      " [-1.    0.06 -1.21 -4.01 -0.95 -0.05  1.7   0.54 -0.08  0.84  0.42]\n",
      "CD_y error at height 48:\n",
      " [-0.06  0.76  0.03  0.03  0.16 -0.02 -0.12 -0.01  0.02 -0.01  0.12]\n",
      "CD_x error at height 56:\n",
      " [ 0.04 -1.92  0.06  1.27 -0.89  4.01 -0.22 -0.71 -1.69 -0.51 -0.34]\n",
      "CD_y error at height 56:\n",
      " [-2.55 -0.17 -1.49 -0.99  0.22  0.63 -2.01  0.04 -0.95 -0.36  0.11]\n",
      "CD_x error at height 64:\n",
      " [-0.92  0.67 -1.02 -0.97  0.08  1.5  -0.52 -0.33  0.5   1.33  0.56]\n",
      "CD_y error at height 64:\n",
      " [-1.28 -1.37 -1.54 -1.7  -0.57 -0.86 -0.07 -2.15 -0.51 -0.42 -1.08]\n"
     ]
    },
    {
     "name": "stderr",
     "output_type": "stream",
     "text": [
      "\r",
      " 60%|██████    | 12/20 [10:50:57<7:08:02, 3210.37s/it]"
     ]
    },
    {
     "name": "stdout",
     "output_type": "stream",
     "text": [
      "CD_x error at height 72:\n",
      " [-0.55 -0.85  0.22  0.15 -0.75 -0.29 -0.31  0.21 -0.36 -1.5   1.71]\n",
      "CD_y error at height 72:\n",
      " [-0.47 -1.32  0.95  0.26 -0.27  1.44 -1.08 -1.19 -0.17  0.13 -2.86]\n",
      "CD_RMSE for label 11: [15.8  15.77]\n",
      "../dataset_train_v1/0092Acid_ini Read in 0.73 s\n",
      "../dataset_train_v1/0092Inhibitor Read in 0.71 s\n",
      "RMSE for label 12: [0.005 0.488]\n",
      "NMSE for label 12: [12.301  1.22 ]\n",
      "NMSE_height for label 12: [12.036  1.158]\n",
      "\n",
      "!Start to clear memory\n"
     ]
    },
    {
     "name": "stderr",
     "output_type": "stream",
     "text": [
      "<<<\n",
      "time:\t0.425564s\n",
      "<<<\n",
      "<<<\n",
      "time:\t0.39599s\n",
      "<<<\n"
     ]
    },
    {
     "name": "stdout",
     "output_type": "stream",
     "text": [
      "\n",
      "!Start to clear memory\n",
      "Contact 0 in 0-CD_x_label is redundant, with info [  73.587 -910.948   49.731]\n",
      "Contact 1 in 0-CD_x_label is redundant, with info [ -83.527 -369.484   49.831]\n",
      "Contact 2 in 0-CD_x_label is redundant, with info [-52.086   0.175  49.881]\n",
      "Contact 3 in 0-CD_x_label is redundant, with info [ 41.116 303.733  49.951]\n",
      "Contact 4 in 0-CD_x_label is redundant, with info [-158.249  905.048   49.971]\n",
      "CD_x error at height 0:\n",
      " [-49.731 -49.831 -49.881 -49.951 -49.971]\n",
      "Contact 0 in 0-CD_y_label is redundant, with info [-114.228  889.447   49.971]\n",
      "Contact 1 in 0-CD_y_label is redundant, with info [ -68.677 -387.595   49.501]\n",
      "Contact 3 in 0-CD_y_label is redundant, with info [ 45.776 291.922  49.901]\n",
      "Contact 4 in 0-CD_y_label is redundant, with info [ 113.878 -943.339   49.901]\n",
      "CD_y error at height 0:\n",
      " [-49.971 -49.501 -49.991 -49.901 -49.901]\n",
      "CD_x error at height 8:\n",
      " [-1.48 -0.05 -1.08 -0.   -0.02]\n",
      "CD_y error at height 8:\n",
      " [ 0.05 -0.07 -0.03 -0.03 -0.  ]\n",
      "CD_x error at height 16:\n",
      " [-1.58 -0.02  0.61 -0.67  0.18]\n",
      "CD_y error at height 16:\n",
      " [-0.07  0.19  0.01  0.11 -0.03]\n",
      "CD_x error at height 24:\n",
      " [-0.93 -0.69 -0.89 -2.28 -0.08]\n",
      "CD_y error at height 24:\n",
      " [-0.04  0.01  0.08 -0.19  0.15]\n",
      "CD_x error at height 32:\n",
      " [-4.06 -1.5  -1.98 -0.91 -1.  ]\n",
      "CD_y error at height 32:\n",
      " [-0.   -0.17  0.01  0.07 -0.07]\n",
      "CD_x error at height 40:\n",
      " [ 0.52 -0.03  0.03 -0.22 -0.08]\n",
      "CD_y error at height 40:\n",
      " [ 0.06  0.06 -0.1   0.05 -0.  ]\n",
      "CD_x error at height 48:\n",
      " [ 0.45  2.43  2.27 -0.63  1.77]\n",
      "CD_y error at height 48:\n",
      " [ 0.04 -0.    0.04  0.06 -0.31]\n",
      "CD_x error at height 56:\n",
      " [-0.82 -1.2  -0.96 -0.23 -1.03]\n",
      "CD_y error at height 56:\n",
      " [-0.45 -1.44 -2.51 -1.3  -1.12]\n",
      "CD_x error at height 64:\n",
      " [-0.57  1.21 -1.94 -0.38 -2.57]\n",
      "CD_y error at height 64:\n",
      " [-1.02 -0.72 -2.93 -1.73 -3.7 ]\n"
     ]
    },
    {
     "name": "stderr",
     "output_type": "stream",
     "text": [
      "\r",
      " 65%|██████▌   | 13/20 [11:43:56<6:13:26, 3200.92s/it]"
     ]
    },
    {
     "name": "stdout",
     "output_type": "stream",
     "text": [
      "CD_x error at height 72:\n",
      " [-3.13 -0.77 -2.75 -0.83 -3.31]\n",
      "CD_y error at height 72:\n",
      " [-3.   -1.62 -3.15 -2.83 -6.46]\n",
      "CD_RMSE for label 12: [15.834 15.835]\n",
      "../dataset_train_v1/0093Acid_ini Read in 0.70 s\n",
      "../dataset_train_v1/0093Inhibitor Read in 0.67 s\n",
      "RMSE for label 13: [0.008 0.756]\n",
      "NMSE for label 13: [11.646  1.898]\n",
      "NMSE_height for label 13: [11.295  1.809]\n",
      "\n",
      "!Start to clear memory\n"
     ]
    },
    {
     "name": "stderr",
     "output_type": "stream",
     "text": [
      "<<<\n",
      "time:\t0.455205s\n",
      "<<<\n",
      "<<<\n",
      "time:\t0.391278s\n",
      "<<<\n"
     ]
    },
    {
     "name": "stdout",
     "output_type": "stream",
     "text": [
      "\n",
      "!Start to clear memory\n",
      "Contact 0 in 0-CD_x_label is redundant, with info [-819.896 -854.196   49.741]\n",
      "Contact 1 in 0-CD_x_label is redundant, with info [ 776.944 -827.746   49.921]\n",
      "Contact 2 in 0-CD_x_label is redundant, with info [ -22.656 -825.046   49.201]\n",
      "Contact 3 in 0-CD_x_label is redundant, with info [ -22.416 -458.586   49.941]\n",
      "Contact 4 in 0-CD_x_label is redundant, with info [-822.486 -447.536   49.941]\n",
      "Contact 5 in 0-CD_x_label is redundant, with info [-820.135  -50.476   49.961]\n",
      "Contact 7 in 0-CD_x_label is redundant, with info [-23.366 333.933  49.961]\n",
      "Contact 8 in 0-CD_x_label is redundant, with info [-822.846  351.034   49.951]\n",
      "Contact 9 in 0-CD_x_label is redundant, with info [-22.276 735.343  49.721]\n",
      "Contact 10 in 0-CD_x_label is redundant, with info [-820.555  778.294   49.731]\n",
      "CD_x error at height 0:\n",
      " [-49.741 -49.921 -49.201 -49.941 -49.941 -49.961 -49.691 -49.961 -49.951 -49.721 -49.731]\n",
      "Contact 0 in 0-CD_y_label is redundant, with info [-814.195 -464.097   49.981]\n",
      "Contact 1 in 0-CD_y_label is redundant, with info [-797.145  -59.096   49.981]\n",
      "Contact 2 in 0-CD_y_label is redundant, with info [-781.345  333.333   49.631]\n",
      "Contact 3 in 0-CD_y_label is redundant, with info [-777.994 -866.897   49.971]\n",
      "Contact 4 in 0-CD_y_label is redundant, with info [-775.394  733.953   49.871]\n",
      "Contact 5 in 0-CD_y_label is redundant, with info [ -18.425 -863.987   49.931]\n",
      "Contact 6 in 0-CD_y_label is redundant, with info [ 18.425 -59.136  49.591]\n",
      "Contact 7 in 0-CD_y_label is redundant, with info [  23.176 -466.837   49.581]\n",
      "Contact 8 in 0-CD_y_label is redundant, with info [ 25.026 332.653  49.931]\n",
      "Contact 9 in 0-CD_y_label is redundant, with info [ 26.676 734.233  49.951]\n",
      "Contact 10 in 0-CD_y_label is redundant, with info [ 807.645 -872.177   49.911]\n",
      "CD_y error at height 0:\n",
      " [-49.981 -49.981 -49.631 -49.971 -49.871 -49.931 -49.591 -49.581 -49.931 -49.951 -49.911]\n",
      "CD_x error at height 8:\n",
      " [-0.28 -0.09 -0.09 -0.03 -0.07 -0.01  0.27 -0.04  0.22 -0.52 -0.56]\n",
      "CD_y error at height 8:\n",
      " [-0.01 -0.04 -0.03 -0.06  0.14 -0.01  0.09  0.02  0.01  0.01 -0.09]\n",
      "CD_x error at height 16:\n",
      " [-1.85 -0.61 -0.99 -5.91 -0.02  0.31  0.03 -0.2  -0.26  0.06  0.38]\n",
      "CD_y error at height 16:\n",
      " [ 0.08 -0.09 -0.04  0.02  0.04  0.09 -0.    0.01  0.05  0.05 -0.  ]\n",
      "CD_x error at height 24:\n",
      " [-2.29 -0.66 -1.18 -2.1   0.03  0.33  0.   -0.86 -0.95 -0.    0.08]\n",
      "CD_y error at height 24:\n",
      " [-0.02  0.03  0.05  0.07 -0.08  0.1  -0.01  0.02 -0.06 -0.4   0.08]\n",
      "CD_x error at height 32:\n",
      " [-6.41 -1.52 -0.47 -1.41 -0.91 -0.34 -0.45 -0.82  0.67  0.36 -0.48]\n",
      "CD_y error at height 32:\n",
      " [-0.17 -0.05  0.13 -0.01 -0.01  0.03 -0.43 -0.62 -0.22 -0.86 -0.02]\n",
      "CD_x error at height 40:\n",
      " [-3.96 -6.51 -1.3  -3.7  -3.55  2.49 -1.02 -0.98 -1.58 -0.23  0.25]\n",
      "CD_y error at height 40:\n",
      " [ 0.46  0.09 -0.01  0.07  0.02  0.03  0.22  0.06  0.01 -0.03  0.06]\n",
      "CD_x error at height 48:\n",
      " [-0.82 -0.98  0.02  0.08 -1.8  -0.78  0.03  0.02  0.43 -0.09  2.8 ]\n",
      "CD_y error at height 48:\n",
      " [-0.03 -0.   -1.91  0.09 -0.03 -0.06  0.01  0.13 -0.11 -0.36  0.01]\n",
      "CD_x error at height 56:\n",
      " [-0.99 -0.44 -1.8  -1.74 -0.65 -1.37 -0.03  1.57  2.17 -0.14 -1.81]\n",
      "CD_y error at height 56:\n",
      " [-0.35 -0.78 -2.03 -1.42 -0.86  0.01 -0.16  0.01 -0.16 -0.01 -1.32]\n",
      "CD_x error at height 64:\n",
      " [-0.66 -0.71 -1.5  -1.1  -1.05  1.28  0.48 -0.94  0.08  0.89  1.1 ]\n",
      "CD_y error at height 64:\n",
      " [-0.95 -2.44 -1.13 -0.85 -0.36 -0.19 -0.28 -0.58 -0.27 -0.06 -0.74]\n"
     ]
    },
    {
     "name": "stderr",
     "output_type": "stream",
     "text": [
      "\r",
      " 70%|███████   | 14/20 [12:37:20<5:20:10, 3201.82s/it]"
     ]
    },
    {
     "name": "stdout",
     "output_type": "stream",
     "text": [
      "CD_x error at height 72:\n",
      " [-0.71 -1.13 -0.31 -1.46 -1.38  1.93  0.58  0.07  0.03  0.12 -0.44]\n",
      "CD_y error at height 72:\n",
      " [-0.75 -2.17 -2.07  0.62 -2.78  0.67  1.18 -1.84 -0.15  0.08 -1.19]\n",
      "CD_RMSE for label 13: [15.82  15.778]\n",
      "../dataset_train_v1/0094Acid_ini Read in 0.86 s\n",
      "../dataset_train_v1/0094Inhibitor Read in 0.79 s\n",
      "RMSE for label 14: [0.01 0.95]\n",
      "NMSE for label 14: [12.16   2.387]\n",
      "NMSE_height for label 14: [11.748  2.277]\n"
     ]
    },
    {
     "name": "stderr",
     "output_type": "stream",
     "text": [
      "<<<\n",
      "time:\t0.48733s\n",
      "<<<\n"
     ]
    },
    {
     "name": "stdout",
     "output_type": "stream",
     "text": [
      "\n",
      "!Start to clear memory\n"
     ]
    },
    {
     "name": "stderr",
     "output_type": "stream",
     "text": [
      "<<<\n",
      "time:\t0.412734s\n",
      "<<<\n"
     ]
    },
    {
     "name": "stdout",
     "output_type": "stream",
     "text": [
      "\n",
      "!Start to clear memory\n",
      "Contact 0 in 0-CD_x_label is redundant, with info [ -49.906 -860.597   49.331]\n",
      "Contact 1 in 0-CD_x_label is redundant, with info [ 749.944 -857.996   49.831]\n",
      "Contact 2 in 0-CD_x_label is redundant, with info [-847.946 -853.296   49.931]\n",
      "Contact 3 in 0-CD_x_label is redundant, with info [ 349.734 -825.246   49.051]\n",
      "Contact 4 in 0-CD_x_label is redundant, with info [-848.126 -449.786   49.991]\n",
      "Contact 5 in 0-CD_x_label is redundant, with info [ 748.844 -431.636   49.981]\n",
      "Contact 6 in 0-CD_x_label is redundant, with info [ -50.456 -422.286   49.901]\n",
      "Contact 7 in 0-CD_x_label is redundant, with info [-47.696 -61.527  49.961]\n",
      "Contact 8 in 0-CD_x_label is redundant, with info [749.894 -22.776  49.871]\n",
      "Contact 9 in 0-CD_x_label is redundant, with info [349.634 336.033  49.881]\n",
      "Contact 10 in 0-CD_x_label is redundant, with info [-848.226  343.684   49.321]\n",
      "Contact 11 in 0-CD_x_label is redundant, with info [748.944 374.434  49.971]\n",
      "Contact 12 in 0-CD_x_label is redundant, with info [-50.426 735.643  49.951]\n",
      "Contact 13 in 0-CD_x_label is redundant, with info [-450.556  737.893   49.871]\n",
      "Contact 14 in 0-CD_x_label is redundant, with info [-847.846  741.544   49.781]\n",
      "Contact 15 in 0-CD_x_label is redundant, with info [590.7   886.147  49.471]\n",
      "CD_x error at height 0:\n",
      " [-49.331 -49.831 -49.931 -49.051 -49.991 -49.981 -49.901 -49.961 -49.871 -49.881 -49.321 -49.971\n",
      " -49.951 -49.871 -49.781 -49.471]\n",
      "Contact 0 in 0-CD_y_label is redundant, with info [-846.296  736.493   49.911]\n",
      "Contact 1 in 0-CD_y_label is redundant, with info [-807.245 -466.677   49.941]\n",
      "Contact 2 in 0-CD_y_label is redundant, with info [-806.645  332.333   49.991]\n",
      "Contact 3 in 0-CD_y_label is redundant, with info [-805.995 -866.877   49.951]\n",
      "Contact 4 in 0-CD_y_label is redundant, with info [-402.135  733.553   49.961]\n",
      "Contact 5 in 0-CD_y_label is redundant, with info [-50.226 734.803  49.841]\n",
      "Contact 6 in 0-CD_y_label is redundant, with info [ -36.776 -471.187   49.971]\n",
      "Contact 7 in 0-CD_y_label is redundant, with info [  -6.075 -867.387   49.871]\n",
      "Contact 8 in 0-CD_y_label is redundant, with info [ -1.525 -66.467  49.881]\n",
      "Contact 9 in 0-CD_y_label is redundant, with info [ 356.784 -864.047   49.971]\n",
      "Contact 10 in 0-CD_y_label is redundant, with info [395.135 330.373  49.961]\n",
      "Contact 11 in 0-CD_y_label is redundant, with info [586.59  816.895  49.781]\n",
      "Contact 12 in 0-CD_y_label is redundant, with info [596.84  916.538   1.22 ]\n",
      "Contact 13 in 0-CD_y_label is redundant, with info [638.841 920.438   1.23 ]\n",
      "Contact 14 in 0-CD_y_label is redundant, with info [663.442 906.748   8.64 ]\n",
      "Contact 15 in 0-CD_y_label is redundant, with info [ 754.394 -463.387   49.931]\n",
      "Contact 16 in 0-CD_y_label is redundant, with info [757.594 336.463  49.891]\n",
      "Contact 17 in 0-CD_y_label is redundant, with info [ 793.795 -867.707   49.971]\n",
      "Contact 18 in 0-CD_y_label is redundant, with info [794.845 -66.477  49.951]\n",
      "CD_y error at height 0:\n",
      " [-49.911 -49.941 -49.991 -49.951 -49.961 -49.841 -49.971 -49.871 -49.881 -49.971 -49.961 -49.781\n",
      "  -1.22   -1.23   -8.64  -49.931 -49.891 -49.971 -49.951]\n",
      "CD_x error at height 8:\n",
      " [ 0.21  0.48 -0.62 -0.49 -0.05 -0.01 -0.46 -0.6   0.11  0.03 -0.39 -0.13  0.43 -0.05 -0.21 -0.05]\n",
      "CD_y error at height 8:\n",
      " [-0.14 -0.06 -0.02 -0.01 -0.02 -0.1   0.05  0.17 -0.27 -0.3  -0.03 -0.1  -0.04 -0.16  0.1   0.05]\n",
      "CD_x error at height 16:\n",
      " [ 0.19  1.31  0.08 -0.67 -0.88 -0.05 -0.08  0.25 -0.8  -0.14  0.06  0.15 -0.4  -0.11 -0.84  0.15]\n",
      "Contact 12 in 16-CD_y_label is redundant, with info [610.84  920.438   1.34 ]\n",
      "Contact 13 in 16-CD_y_label is redundant, with info [620.191 920.398   1.39 ]\n",
      "Contact 14 in 16-CD_y_label is redundant, with info [652.641 916.438   1.24 ]\n",
      "CD_y error at height 16:\n",
      " [ 0.04   0.01  -0.13  -0.03  -0.18  -0.33  -0.05  -0.01  -0.09   0.01  -0.02  -0.19  -1.34  -1.39\n",
      " -1.24  42.851  0.06  -0.17   0.02   0.   ]\n",
      "CD_x error at height 24:\n",
      " [ 0.21 -0.77  0.15 -1.29  0.66 -0.38  0.08  0.04 -0.04  0.11 -0.   -0.09  0.03 -0.02  0.07  0.11]\n",
      "CD_y error at height 24:\n",
      " [ 0.4    0.14  -0.01   0.06   0.07   0.06  -0.02   0.06  -0.27  -0.17   0.07   0.01  48.671 45.421\n",
      " -0.02   0.02  -0.1    0.01 ]\n",
      "CD_x error at height 32:\n",
      " [ 0.02 -1.79  0.12 -2.    0.04 -4.05 -2.03 -1.03 -0.01 -0.02 -0.42 -0.9  -0.64 -0.04  0.47 -4.24]\n",
      "CD_y error at height 32:\n",
      " [-0.07  0.05  0.    0.05  0.18 -0.35 -0.11 -0.02 -0.13  0.02  0.01  0.03 -0.01  0.12 -0.11 -0.02]\n",
      "CD_x error at height 40:\n",
      " [-0.16 -0.95 -0.89 -1.38 -0.04 -0.11  0.43 -2.53  0.49  0.05 -1.   -0.19 -1.01  0.11  0.36 -3.43\n",
      "  6.74]\n",
      "CD_y error at height 40:\n",
      " [-0.1  -0.05  0.05  0.03 -0.16 -0.   -0.   -0.02 -0.08 -0.11 -0.2   4.12  0.06 -0.    0.04  0.04]\n",
      "CD_x error at height 48:\n",
      " [ 0.05 -0.43 -0.61 -0.03 -0.87  0.3  -0.66 -0.34 -1.01 -0.47 -0.93 -0.56 -3.18  0.17 -0.87 -1.8 ]\n",
      "CD_y error at height 48:\n",
      " [-0.   -0.03  0.05 -0.    0.02 -0.01  0.06 -0.78 -0.16 -0.02 -0.    0.55 -0.06  0.09 -0.67 -0.03]\n",
      "CD_x error at height 56:\n",
      " [-0.77 -0.88  0.18 -0.91  0.4   1.3  -0.98 -0.31 -0.   -0.63  1.1  -0.78  1.02 -0.82 -0.98 -0.57]\n",
      "CD_y error at height 56:\n",
      " [-0.39 -0.16 -0.38 -1.2   0.01 -0.29 -0.73 -0.33 -0.04 -0.87 -0.97  1.   -0.97 -0.73 -0.76 -0.86]\n",
      "CD_x error at height 64:\n",
      " [ 0.17 -0.67 -0.34  0.28 -0.82 -0.95  0.31 -0.46 -0.03  0.66  1.23 -0.44  1.69  0.25  0.08]\n",
      "CD_y error at height 64:\n",
      " [-0.41 -1.53 -0.97 -1.01 -0.02 -0.51 -0.27 -0.18 -0.05 -0.23 -0.81 -0.21 -0.79 -1.1  -0.81]\n"
     ]
    },
    {
     "name": "stderr",
     "output_type": "stream",
     "text": [
      "\r",
      " 75%|███████▌  | 15/20 [13:31:43<4:28:22, 3220.42s/it]"
     ]
    },
    {
     "name": "stdout",
     "output_type": "stream",
     "text": [
      "CD_x error at height 72:\n",
      " [-2.13 -0.55 -1.55  0.05 -1.2  -1.52 -0.34 -1.23  1.91 -0.82 -1.65  0.38 -0.05  0.22  0.66]\n",
      "CD_y error at height 72:\n",
      " [ 0.37 -0.88  0.1   0.11  0.3   0.02 -1.21  0.63  3.12  0.66 -0.64 -0.89  1.01 -1.28 -3.19]\n",
      "CD_RMSE for label 14: [15.821 16.649]\n",
      "../dataset_train_v1/0095Acid_ini Read in 0.81 s\n",
      "../dataset_train_v1/0095Inhibitor Read in 0.84 s\n",
      "RMSE for label 15: [0.009 0.842]\n",
      "NMSE for label 15: [11.521  2.114]\n",
      "NMSE_height for label 15: [11.132  2.017]\n",
      "\n",
      "!Start to clear memory\n"
     ]
    },
    {
     "name": "stderr",
     "output_type": "stream",
     "text": [
      "<<<\n",
      "time:\t0.468395s\n",
      "<<<\n",
      "<<<\n",
      "time:\t0.42838s\n",
      "<<<\n"
     ]
    },
    {
     "name": "stdout",
     "output_type": "stream",
     "text": [
      "\n",
      "!Start to clear memory\n",
      "Contact 0 in 0-CD_x_label is redundant, with info [  18.205 -882.247   49.611]\n",
      "Contact 1 in 0-CD_x_label is redundant, with info [ 729.913 -759.144   49.891]\n",
      "Contact 2 in 0-CD_x_label is redundant, with info [ 320.683 -748.844   49.921]\n",
      "Contact 3 in 0-CD_x_label is redundant, with info [-539.789 -687.242   49.911]\n",
      "Contact 4 in 0-CD_x_label is redundant, with info [ 497.847 -166.579   49.861]\n",
      "Contact 5 in 0-CD_x_label is redundant, with info [-355.634 -108.778   49.721]\n",
      "Contact 7 in 0-CD_x_label is redundant, with info [-954.929   91.827   49.871]\n",
      "Contact 8 in 0-CD_x_label is redundant, with info [496.787 274.632  49.921]\n",
      "Contact 9 in 0-CD_x_label is redundant, with info [121.628 609.59   49.871]\n",
      "Contact 10 in 0-CD_x_label is redundant, with info [-747.844  690.492   49.921]\n",
      "Contact 11 in 0-CD_x_label is redundant, with info [-391.465  763.044   49.701]\n",
      "Contact 12 in 0-CD_x_label is redundant, with info [728.653 846.596  49.981]\n",
      "CD_x error at height 0:\n",
      " [-49.611 -49.891 -49.921 -49.911 -49.861 -49.721 -49.931 -49.871 -49.921 -49.871 -49.921 -49.701\n",
      " -49.981]\n",
      "Contact 0 in 0-CD_y_label is redundant, with info [-953.349   88.637   49.991]\n",
      "Contact 1 in 0-CD_y_label is redundant, with info [-705.893  677.872   49.901]\n",
      "Contact 2 in 0-CD_y_label is redundant, with info [-494.937 -728.263   49.911]\n",
      "Contact 3 in 0-CD_y_label is redundant, with info [-343.434  716.813   49.961]\n",
      "Contact 4 in 0-CD_y_label is redundant, with info [-322.583 -107.228   49.631]\n",
      "Contact 6 in 0-CD_y_label is redundant, with info [  62.777 -891.597   49.981]\n",
      "Contact 7 in 0-CD_y_label is redundant, with info [123.078 605.86   49.911]\n",
      "Contact 8 in 0-CD_y_label is redundant, with info [ 367.034 -795.395   49.981]\n",
      "Contact 9 in 0-CD_y_label is redundant, with info [ 499.537 -167.959   49.961]\n",
      "Contact 10 in 0-CD_y_label is redundant, with info [501.738 232.551  49.961]\n",
      "Contact 11 in 0-CD_y_label is redundant, with info [ 734.343 -800.445   49.991]\n",
      "Contact 12 in 0-CD_y_label is redundant, with info [776.844 797.985  49.821]\n",
      "CD_y error at height 0:\n",
      " [-49.991 -49.901 -49.911 -49.961 -49.631 -49.871 -49.981 -49.911 -49.981 -49.961 -49.961 -49.991\n",
      " -49.821]\n",
      "CD_x error at height 8:\n",
      " [-0.05  0.22  0.08 -0.1   0.04 -0.98 -0.02  0.04 -0.02 -0.97  0.04 -0.33 -0.53]\n",
      "CD_y error at height 8:\n",
      " [ 0.01  0.16 -0.05  0.33 -0.04 -0.   -0.09  0.07 -0.49 -0.09 -0.01 -0.28 -0.22]\n",
      "CD_x error at height 16:\n",
      " [-0.04 -0.27  0.03 -0.34  0.02  0.1  -0.74  0.02  0.08  0.13 -0.17  0.12 -0.05]\n",
      "CD_y error at height 16:\n",
      " [ 0.05 -0.03 -0.09  0.19 -0.03  0.23  0.07 -0.07 -0.    0.01 -0.2   0.13 -0.24]\n",
      "CD_x error at height 24:\n",
      " [ 0.08 -0.11  0.05 -0.82  0.    0.03  0.17 -0.59  0.03  0.2   0.15 -0.05  0.06]\n",
      "CD_y error at height 24:\n",
      " [ 0.01  0.04  0.05  0.08  0.1  -0.16 -0.03  0.17  0.01 -0.18  0.01 -0.   -0.06]\n",
      "CD_x error at height 32:\n",
      " [ 0.23 -0.02 -0.   -0.03 -0.26  0.01  0.01  0.15  0.02  0.1  -2.02 -0.12 -0.64]\n",
      "CD_y error at height 32:\n",
      " [-0.07 -0.24  0.3   0.02 -0.09 -0.03 -0.09 -0.06 -0.19 -0.03 -0.04 -0.04 -0.08]\n",
      "CD_x error at height 40:\n",
      " [ 1.04 -0.13  0.04 -2.73 -1.2  -0.12 -0.04 -0.09 -1.06  0.09 -1.17  0.25 -0.67]\n",
      "CD_y error at height 40:\n",
      " [ 0.06  0.03  0.03 -0.25  0.09 -0.02  0.08 -0.01 -0.   -0.11  0.04 -0.03  0.1 ]\n",
      "CD_x error at height 48:\n",
      " [-0.97 -0.38 -0.29 -0.03  0.75  0.58 -1.15 -0.33 -0.   -1.16 -0.   -0.38 -1.15]\n",
      "CD_y error at height 48:\n",
      " [-0.05 -0.37  0.24 -0.37  0.09 -0.66  0.02  0.09  0.02  0.16 -0.12 -0.89 -0.5 ]\n",
      "CD_x error at height 56:\n",
      " [ 2.24 -0.52  1.65 -1.12  1.53  1.31 -0.01 -0.11 -0.4  -1.41  1.51 -0.1  -0.08]\n",
      "CD_y error at height 56:\n",
      " [-1.32  0.01 -0.34 -0.03  0.06  0.04 -0.75  0.36  0.01 -0.17  0.05 -0.34 -0.1 ]\n",
      "CD_x error at height 64:\n",
      " [-0.31 -0.33  0.03 -0.66  0.   -0.57 -1.71  1.13  0.21 -0.58 -0.01  1.14 -0.03]\n",
      "CD_y error at height 64:\n",
      " [-0.59 -0.36 -2.8  -0.34 -0.21 -0.85 -0.34 -0.59 -0.27 -0.07 -0.08  0.61 -0.46]\n"
     ]
    },
    {
     "name": "stderr",
     "output_type": "stream",
     "text": [
      "\r",
      " 80%|████████  | 16/20 [14:28:56<3:38:56, 3284.24s/it]"
     ]
    },
    {
     "name": "stdout",
     "output_type": "stream",
     "text": [
      "CD_x error at height 72:\n",
      " [ 0.1   0.23  0.55 -1.3   0.59  0.64 -0.18  0.46  0.37  1.81  0.07  1.21  1.85]\n",
      "CD_y error at height 72:\n",
      " [ 0.01 -1.4  -2.06 -0.41 -0.05  0.11 -0.76  0.1  -0.74 -0.1   0.39  0.82 -1.8 ]\n",
      "CD_RMSE for label 15: [15.781 15.791]\n",
      "../dataset_train_v1/0096Acid_ini Read in 0.73 s\n",
      "../dataset_train_v1/0096Inhibitor Read in 0.84 s\n",
      "RMSE for label 16: [0.012 1.081]\n",
      "NMSE for label 16: [11.842  2.72 ]\n",
      "NMSE_height for label 16: [11.511  2.597]\n"
     ]
    },
    {
     "name": "stderr",
     "output_type": "stream",
     "text": [
      "<<<\n",
      "time:\t0.494958s\n",
      "<<<\n"
     ]
    },
    {
     "name": "stdout",
     "output_type": "stream",
     "text": [
      "\n",
      "!Start to clear memory\n",
      "\n",
      "!Start to clear memory\n"
     ]
    },
    {
     "name": "stderr",
     "output_type": "stream",
     "text": [
      "<<<\n",
      "time:\t0.417732s\n",
      "<<<\n"
     ]
    },
    {
     "name": "stdout",
     "output_type": "stream",
     "text": [
      "Contact 0 in 0-CD_x_label is redundant, with info [ 912.258 -943.799   39.631]\n",
      "Contact 1 in 0-CD_x_label is redundant, with info [-330.853 -902.748   49.671]\n",
      "Contact 2 in 0-CD_x_label is redundant, with info [-738.823 -897.547   49.931]\n",
      "Contact 3 in 0-CD_x_label is redundant, with info [ -49.746 -816.995   49.621]\n",
      "Contact 4 in 0-CD_x_label is redundant, with info [ 268.722 -700.643   49.841]\n",
      "Contact 5 in 0-CD_x_label is redundant, with info [-291.522 -543.739   49.821]\n",
      "Contact 6 in 0-CD_x_label is redundant, with info [ 797.755 -462.987   49.891]\n",
      "Contact 7 in 0-CD_x_label is redundant, with info [  20.476 -449.136   49.671]\n",
      "Contact 8 in 0-CD_x_label is redundant, with info [ 336.313 -397.585   49.991]\n",
      "Contact 9 in 0-CD_x_label is redundant, with info [-674.712 -184.43    49.971]\n",
      "Contact 10 in 0-CD_x_label is redundant, with info [ 917.008 -176.829   41.871]\n",
      "Contact 11 in 0-CD_x_label is redundant, with info [-47.526 -16.925  49.941]\n",
      "Contact 12 in 0-CD_x_label is redundant, with info [296.632  43.426  49.981]\n",
      "Contact 13 in 0-CD_x_label is redundant, with info [-786.795  319.283   49.871]\n",
      "Contact 14 in 0-CD_x_label is redundant, with info [768.994 369.434  49.841]\n",
      "Contact 15 in 0-CD_x_label is redundant, with info [350.064 386.185  49.561]\n",
      "Contact 16 in 0-CD_x_label is redundant, with info [-526.578  496.887   49.961]\n",
      "Contact 17 in 0-CD_x_label is redundant, with info [-266.632  636.941   49.931]\n",
      "Contact 18 in 0-CD_x_label is redundant, with info [ 92.577 674.042  49.931]\n",
      "Contact 19 in 0-CD_x_label is redundant, with info [485.587 682.242  49.991]\n",
      "Contact 20 in 0-CD_x_label is redundant, with info [749.894 822.896  49.861]\n",
      "Contact 21 in 0-CD_x_label is redundant, with info [-943.949  915.798   49.901]\n",
      "Contact 22 in 0-CD_x_label is redundant, with info [-598.77   938.648   45.911]\n",
      "CD_x error at height 0:\n",
      " [-39.631 -49.671 -49.931 -49.621 -49.841 -49.821 -49.891 -49.671 -49.991 -49.971 -41.871 -49.941\n",
      " -49.981 -49.871 -49.841 -49.561 -49.961 -49.931 -49.931 -49.991 -49.861 -49.901 -45.911]\n",
      "Contact 0 in 0-CD_y_label is redundant, with info [-940.949  873.967   49.871]\n",
      "Contact 1 in 0-CD_y_label is redundant, with info [-782.045  313.543   49.981]\n",
      "Contact 2 in 0-CD_y_label is redundant, with info [-694.742 -935.518   49.851]\n",
      "Contact 3 in 0-CD_y_label is redundant, with info [-666.842 -195.55    49.911]\n",
      "Contact 4 in 0-CD_y_label is redundant, with info [-570.389  924.758   49.861]\n",
      "Contact 5 in 0-CD_y_label is redundant, with info [-474.737  445.796   49.961]\n",
      "Contact 6 in 0-CD_y_label is redundant, with info [-286.232 -943.439   49.981]\n",
      "Contact 7 in 0-CD_y_label is redundant, with info [-254.531  601.24    49.621]\n",
      "Contact 8 in 0-CD_y_label is redundant, with info [-246.931 -586.68    49.871]\n",
      "Contact 9 in 0-CD_y_label is redundant, with info [-46.426 -19.625  49.711]\n",
      "Contact 10 in 0-CD_y_label is redundant, with info [  -4.875 -823.416   49.951]\n",
      "Contact 11 in 0-CD_y_label is redundant, with info [  66.627 -495.577   49.951]\n",
      "Contact 12 in 0-CD_y_label is redundant, with info [105.928 628.901  49.521]\n",
      "Contact 13 in 0-CD_y_label is redundant, with info [ 274.132 -739.493   49.961]\n",
      "Contact 14 in 0-CD_y_label is redundant, with info [298.082  36.426  49.981]\n",
      "Contact 15 in 0-CD_y_label is redundant, with info [ 368.434 -399.205   49.971]\n",
      "Contact 16 in 0-CD_y_label is redundant, with info [390.835 376.504  49.981]\n",
      "Contact 17 in 0-CD_y_label is redundant, with info [528.788 641.791  49.971]\n",
      "Contact 18 in 0-CD_y_label is redundant, with info [795.095 778.294  49.871]\n",
      "Contact 19 in 0-CD_y_label is redundant, with info [811.845 360.034  49.821]\n",
      "Contact 20 in 0-CD_y_label is redundant, with info [ 842.246 -470.977   49.941]\n",
      "Contact 21 in 0-CD_y_label is redundant, with info [ 928.398 -970.929   45.901]\n",
      "Contact 22 in 0-CD_y_label is redundant, with info [ 949.149 -190.52    49.871]\n",
      "CD_y error at height 0:\n",
      " [-49.871 -49.981 -49.851 -49.911 -49.861 -49.961 -49.981 -49.621 -49.871 -49.711 -49.951 -49.951\n",
      " -49.521 -49.961 -49.981 -49.971 -49.981 -49.971 -49.871 -49.821 -49.941 -45.901 -49.871]\n",
      "CD_x error at height 8:\n",
      " [-2.57  0.05 -0.06  0.2   0.08  0.55  3.1  -0.93 -0.79  1.4   0.02 -0.63  0.28  0.2  -0.    0.06\n",
      " -0.48 -0.23  0.02 -0.12 -0.66 -0.19  0.46]\n",
      "CD_y error at height 8:\n",
      " [ 0.38  0.03 -0.38  0.08 -0.48  0.04  0.08  0.27  0.01  0.04 -0.21 -0.03  0.02  0.07 -0.14 -0.19\n",
      "  0.42  0.08 -0.01  0.06 -0.01 -1.06 -0.25]\n",
      "CD_x error at height 16:\n",
      " [-1.01 -0.53  0.05  0.64  0.02  0.85  0.    0.14 -0.51 -0.44 -0.1  -0.6  -1.06  0.4  -0.14 -0.02\n",
      " -0.76 -0.03 -0.11  0.07 -0.34 -0.97 -0.81]\n",
      "CD_y error at height 16:\n",
      " [ 0.2   0.02 -0.02 -0.1   0.36 -0.08 -0.04 -0.23  0.22 -0.06 -0.06 -0.09 -0.14  0.43  0.03 -0.26\n",
      "  0.08 -0.05  0.08 -0.7   0.15  0.06 -1.74]\n",
      "CD_x error at height 24:\n",
      " [-3.16 -0.91  0.95 -0.   -0.05 -0.86 -0.53 -0.18 -0.04 -1.   -1.    0.11  0.01  0.2   0.06  0.06\n",
      "  0.43  0.   -0.02  0.77 -1.02 -0.44 -0.79]\n",
      "CD_y error at height 24:\n",
      " [ 0.11 -0.   -0.05 -0.11 -1.06 -0.41  0.07 -0.06  0.02 -0.08  0.04 -0.01  0.42 -0.06  0.38 -0.03\n",
      "  0.06 -0.02 -0.07 -0.07  0.   -2.93 -0.04]\n",
      "CD_x error at height 32:\n",
      " [-2.35 -0.54 -1.7  -0.01 -0.   -1.86 -0.45 -0.94 -0.34 -0.11 -2.31 -0.71  0.42  0.01 -0.78 -1.65\n",
      "  0.01  0.13 -0.86 -0.05 -1.03 -0.41 -3.68]\n",
      "CD_y error at height 32:\n",
      " [ 0.1  -0.03  0.05 -0.01 -1.15 -0.16 -0.01  0.1  -0.01 -0.02  0.01 -0.19  0.01  0.04  0.01 -0.01\n",
      " -0.11  0.03  0.92 -0.08 -0.01 -0.34  0.16]\n",
      "CD_x error at height 40:\n",
      " [ 0.55 -0.19 -0.23  0.2  -0.77  0.65 -0.23 -0.64 -0.34 -0.81 -0.36 -0.57 -2.    0.01 -1.35 -4.74\n",
      " -0.02  0.12 -0.11  0.05  0.15 -0.78 -3.26]\n",
      "CD_y error at height 40:\n",
      " [ 0.05  0.03  0.01  0.01 -3.56 -0.4   0.12 -0.   -0.11 -0.05  0.06 -0.02  0.07 -0.04  0.1  -0.2\n",
      "  0.05 -0.02  0.02  0.02 -0.07 -0.29 -0.12]\n",
      "CD_x error at height 48:\n",
      " [-1.    0.1   0.16 -2.    0.16  0.29 -0.06 -0.62 -0.52 -0.1   2.77  0.13  0.03 -1.21 -0.07  0.06\n",
      " -0.67 -1.1   1.53  2.1   0.5  -0.6   0.17]\n",
      "CD_y error at height 48:\n",
      " [ 0.02 -0.02  0.1   0.02 -0.15 -0.03  0.11 -0.11  0.08  0.01 -0.38  0.05 -0.01 -0.06  0.02 -0.23\n",
      " -0.55  0.11  0.03  0.01  0.04 -2.25 -0.2 ]\n",
      "CD_x error at height 56:\n",
      " [-0.23 -1.28 -1.92 -0.02  1.34 -0.    0.04 -0.77  0.41  0.73  1.6  -0.92  0.78  0.01  1.29 -0.82\n",
      "  1.89  0.13 -0.92 -1.03 -0.39 -0.87 -0.99]\n",
      "CD_y error at height 56:\n",
      " [-0.   -0.36 -0.25 -2.05 -0.82  0.04 -1.38 -0.18  0.05  0.06  0.06 -0.41 -0.86 -0.14  0.02 -2.75\n",
      " -1.26 -1.45 -0.06 -1.57 -0.43 -0.91 -0.35]\n",
      "CD_x error at height 64:\n",
      " [-3.17  0.76 -1.28 -1.17 -0.95 -1.06  0.28  1.86 -0.06 -0.08 -1.43  0.7   0.21 -1.47  0.31 -0.45\n",
      "  0.84 -0.43  0.1   1.68  0.14 -0.29 -3.41]\n",
      "CD_y error at height 64:\n",
      " [-0.21  0.19 -0.75 -2.3  -1.1   0.36 -1.57 -0.36 -0.07 -0.46 -2.03 -0.68 -0.85 -0.47 -0.55 -1.39\n",
      " -1.66 -1.16 -0.2  -1.98 -1.03 -3.22 -1.25]\n"
     ]
    },
    {
     "name": "stderr",
     "output_type": "stream",
     "text": [
      "\r",
      " 85%|████████▌ | 17/20 [15:26:50<2:47:04, 3341.45s/it]"
     ]
    },
    {
     "name": "stdout",
     "output_type": "stream",
     "text": [
      "CD_x error at height 72:\n",
      " [ 0.65 -1.07 -0.02  0.42  0.38 -1.42  1.1   0.81 -0.99 -1.83 -0.11  0.68 -0.04 -0.38 -1.66  1.34\n",
      "  0.04 -0.49 -0.54 -1.45  0.27 -2.08]\n",
      "CD_y error at height 72:\n",
      " [ 1.46 -0.38 -1.99 -0.75 -2.86  3.08 -1.7   0.29  0.26  1.06  0.57 -0.88 -0.55  2.07  0.34 -1.19\n",
      " -2.99 -1.59 -0.92 -1.21  0.03 -1.92]\n",
      "CD_RMSE for label 16: [15.552 15.777]\n",
      "../dataset_train_v1/0097Acid_ini Read in 0.85 s\n",
      "../dataset_train_v1/0097Inhibitor Read in 0.80 s\n",
      "RMSE for label 17: [0.01  0.932]\n",
      "NMSE for label 17: [11.842  2.341]\n",
      "NMSE_height for label 17: [11.509  2.231]\n"
     ]
    },
    {
     "name": "stderr",
     "output_type": "stream",
     "text": [
      "<<<\n",
      "time:\t0.470515s\n",
      "<<<\n"
     ]
    },
    {
     "name": "stdout",
     "output_type": "stream",
     "text": [
      "\n",
      "!Start to clear memory\n",
      "\n",
      "!Start to clear memory\n"
     ]
    },
    {
     "name": "stderr",
     "output_type": "stream",
     "text": [
      "<<<\n",
      "time:\t0.446106s\n",
      "<<<\n"
     ]
    },
    {
     "name": "stdout",
     "output_type": "stream",
     "text": [
      "Contact 0 in 0-CD_x_label is redundant, with info [ 141.649 -939.148   49.881]\n",
      "Contact 1 in 0-CD_x_label is redundant, with info [ 510.178 -930.098   49.981]\n",
      "Contact 2 in 0-CD_x_label is redundant, with info [-414.765 -810.745   49.971]\n",
      "Contact 3 in 0-CD_x_label is redundant, with info [-946.689 -651.291   49.971]\n",
      "Contact 4 in 0-CD_x_label is redundant, with info [ 600.87  -590.29    49.901]\n",
      "Contact 5 in 0-CD_x_label is redundant, with info [ 381.035 -366.484   49.911]\n",
      "Contact 6 in 0-CD_x_label is redundant, with info [-122.528 -273.482   49.901]\n",
      "Contact 7 in 0-CD_x_label is redundant, with info [-610.7   -209.23    49.961]\n",
      "Contact 9 in 0-CD_x_label is redundant, with info [-882.707   69.177   49.991]\n",
      "Contact 10 in 0-CD_x_label is redundant, with info [308.733  97.827  49.881]\n",
      "Contact 11 in 0-CD_x_label is redundant, with info [629.841 146.629  49.901]\n",
      "Contact 12 in 0-CD_x_label is redundant, with info [316.733 485.387  49.881]\n",
      "Contact 13 in 0-CD_x_label is redundant, with info [568.229 612.64   49.851]\n",
      "Contact 14 in 0-CD_x_label is redundant, with info [ 44.616 774.194  49.891]\n",
      "Contact 15 in 0-CD_x_label is redundant, with info [-807.845  781.995   49.921]\n",
      "Contact 16 in 0-CD_x_label is redundant, with info [693.952 886.747  49.861]\n",
      "CD_x error at height 0:\n",
      " [-49.881 -49.981 -49.971 -49.971 -49.901 -49.911 -49.901 -49.961 -49.571 -49.991 -49.881 -49.901\n",
      " -49.881 -49.851 -49.891 -49.921 -49.861]\n",
      "Contact 0 in 0-CD_y_label is redundant, with info [-902.598 -687.272   49.911]\n",
      "Contact 1 in 0-CD_y_label is redundant, with info [-841.396   48.866   49.991]\n",
      "Contact 2 in 0-CD_y_label is redundant, with info [-768.044  785.315   49.931]\n",
      "Contact 3 in 0-CD_y_label is redundant, with info [-603.29  -218.96    49.961]\n",
      "Contact 4 in 0-CD_y_label is redundant, with info [-406.635 -806.505   49.981]\n",
      "Contact 5 in 0-CD_y_label is redundant, with info [-117.128 -310.413   49.711]\n",
      "Contact 7 in 0-CD_y_label is redundant, with info [ 95.377 721.883  49.921]\n",
      "Contact 8 in 0-CD_y_label is redundant, with info [ 155.179 -967.929   49.861]\n",
      "Contact 9 in 0-CD_y_label is redundant, with info [332.933  49.706  49.561]\n",
      "Contact 10 in 0-CD_y_label is redundant, with info [357.434 446.056  49.661]\n",
      "Contact 11 in 0-CD_y_label is redundant, with info [ 429.586 -414.655   49.991]\n",
      "Contact 12 in 0-CD_y_label is redundant, with info [ 529.488 -935.468   49.981]\n",
      "Contact 13 in 0-CD_y_label is redundant, with info [609.84  600.62   49.931]\n",
      "Contact 14 in 0-CD_y_label is redundant, with info [ 619.34  -635.251   49.941]\n",
      "Contact 15 in 0-CD_y_label is redundant, with info [674.642 137.978  49.831]\n",
      "Contact 16 in 0-CD_y_label is redundant, with info [729.493 869.547  49.891]\n",
      "CD_y error at height 0:\n",
      " [-49.911 -49.991 -49.931 -49.961 -49.981 -49.711 -49.641 -49.921 -49.861 -49.561 -49.661 -49.991\n",
      " -49.981 -49.931 -49.941 -49.831 -49.891]\n",
      "CD_x error at height 8:\n",
      " [-0.59  0.02 -0.02 -0.6   0.1   0.07  0.05 -0.39  0.25 -0.55 -0.16  0.05  0.07 -0.    0.07 -0.6\n",
      "  0.04]\n",
      "CD_y error at height 8:\n",
      " [ 0.03  0.02  0.63 -0.11  0.04 -0.38 -0.03  0.02 -0.09  0.32 -0.06 -0.09 -0.36 -0.23 -0.05  0.38\n",
      "  0.14]\n",
      "CD_x error at height 16:\n",
      " [-0.98  0.   -0.02 -0.63 -0.97 -0.22  0.76 -0.16 -0.54 -0.72  0.18 -0.11  0.13  0.19 -1.26 -0.8\n",
      "  0.1 ]\n",
      "CD_y error at height 16:\n",
      " [-0.01 -0.05 -0.   -0.02  0.02  0.06 -0.01  0.92  0.09  0.35 -0.13 -0.01  0.15  0.03  0.06 -0.07\n",
      "  0.17]\n",
      "CD_x error at height 24:\n",
      " [-1.35  0.35  0.05 -1.43 -2.02  0.22  1.08 -0.02 -0.22 -1.88 -1.07  0.01 -0.96 -0.72  0.3  -0.25\n",
      " -0.77]\n",
      "CD_y error at height 24:\n",
      " [ 0.02  0.05  0.23  0.03 -0.02 -0.07  0.31  0.05  0.06 -0.07  0.13 -0.03 -0.02  0.02 -0.19 -0.27\n",
      "  0.04]\n",
      "CD_x error at height 32:\n",
      " [ 0.39  0.3   0.05 -0.04 -1.11  0.   -0.08 -0.22 -0.33 -0.93  1.   -0.   -0.   -2.32 -0.01 -0.56\n",
      " -1.  ]\n",
      "CD_y error at height 32:\n",
      " [ 0.12 -0.05  0.03 -0.05 -0.13 -0.02  0.17 -0.25 -0.79 -0.01  0.06 -0.02 -0.04  0.09  0.36 -0.04\n",
      "  0.46]\n",
      "CD_x error at height 40:\n",
      " [ 0.13 -3.94  0.2  -1.12  0.85  0.01 -0.11  0.87  0.   -0.84 -0.48  0.65  0.83 -1.11 -0.08 -0.78\n",
      " -1.  ]\n",
      "CD_y error at height 40:\n",
      " [ 0.14  0.08 -0.02 -0.08  0.01  0.   -0.03  0.04 -1.03  0.07  0.06 -0.56  0.23 -0.08 -0.14 -0.16\n",
      "  0.33]\n",
      "CD_x error at height 48:\n",
      " [-1.2  -0.1  -0.73  0.01  0.96 -1.85 -0.04 -3.62 -1.93  0.63 -0.98 -0.95 -0.01  0.02 -0.99 -3.55\n",
      "  3.1 ]\n",
      "CD_y error at height 48:\n",
      " [ 0.47 -0.01  0.04 -0.3  -0.04 -0.   -0.48  0.05 -2.38 -0.33 -0.66  0.01 -0.14 -0.07  0.41 -0.03\n",
      "  0.26]\n",
      "CD_x error at height 56:\n",
      " [ 0.22 -2.47 -4.32 -0.89 -0.43 -0.36 -0.92 -0.16 -0.   -0.95 -0.44 -0.76  0.05 -1.88  2.09  0.21\n",
      " -1.04]\n",
      "CD_y error at height 56:\n",
      " [-0.27  0.17 -0.   -1.17  0.01 -0.22 -0.04 -0.78 -0.46 -0.86 -0.91  0.17 -1.12 -0.45 -1.46 -2.54\n",
      " -2.71]\n",
      "CD_x error at height 64:\n",
      " [-0.46  1.27 -1.11  0.26 -0.99 -0.86  0.64 -0.94 -1.29 -1.81  1.3  -1.96 -1.16  1.54 -0.65 -0.87\n",
      "  1.36]\n",
      "CD_y error at height 64:\n",
      " [-1.46 -1.18  0.02 -1.23 -0.35 -0.74 -0.37 -0.01 -0.78 -2.34 -2.62 -0.74 -2.97 -0.31 -0.93 -2.52\n",
      " -3.09]\n"
     ]
    },
    {
     "name": "stderr",
     "output_type": "stream",
     "text": [
      "\r",
      " 90%|█████████ | 18/20 [16:23:06<1:51:43, 3351.80s/it]"
     ]
    },
    {
     "name": "stdout",
     "output_type": "stream",
     "text": [
      "CD_x error at height 72:\n",
      " [-4.84 -0.33  0.09 -0.86 -1.64 -0.05 -1.    0.63 -0.01 -0.31 -0.   -0.11 -0.2   0.1   0.03 -0.25\n",
      " -0.9 ]\n",
      "CD_y error at height 72:\n",
      " [-2.22 -0.93  2.29 -1.52  1.93 -2.82 -0.47  0.32 -3.47  0.23 -0.97  0.53 -1.17 -0.59 -2.71 -1.66\n",
      " -1.76]\n",
      "CD_RMSE for label 17: [15.815 15.793]\n",
      "../dataset_train_v1/0098Acid_ini Read in 0.85 s\n",
      "../dataset_train_v1/0098Inhibitor Read in 0.87 s\n",
      "RMSE for label 18: [0.011 1.005]\n",
      "NMSE for label 18: [11.705  2.528]\n",
      "NMSE_height for label 18: [11.317  2.409]\n",
      "\n",
      "!Start to clear memory\n"
     ]
    },
    {
     "name": "stderr",
     "output_type": "stream",
     "text": [
      "<<<\n",
      "time:\t0.505049s\n",
      "<<<\n"
     ]
    },
    {
     "name": "stdout",
     "output_type": "stream",
     "text": [
      "\n",
      "!Start to clear memory\n"
     ]
    },
    {
     "name": "stderr",
     "output_type": "stream",
     "text": [
      "<<<\n",
      "time:\t0.433238s\n",
      "<<<\n"
     ]
    },
    {
     "name": "stdout",
     "output_type": "stream",
     "text": [
      "Contact 0 in 0-CD_x_label is redundant, with info [ 826.046 -881.747   49.821]\n",
      "Contact 1 in 0-CD_x_label is redundant, with info [ 417.755 -843.196   49.911]\n",
      "Contact 2 in 0-CD_x_label is redundant, with info [-846.876 -775.294   49.911]\n",
      "Contact 3 in 0-CD_x_label is redundant, with info [-294.532 -523.038   49.951]\n",
      "Contact 4 in 0-CD_x_label is redundant, with info [ 842.056 -496.387   49.821]\n",
      "Contact 5 in 0-CD_x_label is redundant, with info [  33.816 -489.987   49.961]\n",
      "Contact 6 in 0-CD_x_label is redundant, with info [-782.485 -442.686   49.991]\n",
      "Contact 7 in 0-CD_x_label is redundant, with info [ 304.703 -318.383   49.861]\n",
      "Contact 9 in 0-CD_x_label is redundant, with info [-446.816   10.475   49.951]\n",
      "Contact 10 in 0-CD_x_label is redundant, with info [-870.587   41.676   49.611]\n",
      "Contact 11 in 0-CD_x_label is redundant, with info [624.861 114.578  49.951]\n",
      "Contact 12 in 0-CD_x_label is redundant, with info [-306.613  281.232   49.911]\n",
      "Contact 13 in 0-CD_x_label is redundant, with info [-771.844  319.833   49.911]\n",
      "Contact 14 in 0-CD_x_label is redundant, with info [713.913 433.586  49.901]\n",
      "Contact 15 in 0-CD_x_label is redundant, with info [153.329 630.041  49.921]\n",
      "Contact 16 in 0-CD_x_label is redundant, with info [-782.795  767.144   49.741]\n",
      "Contact 17 in 0-CD_x_label is redundant, with info [-470.647  854.746   49.881]\n",
      "Contact 18 in 0-CD_x_label is redundant, with info [348.864 879.947   5.78 ]\n",
      "Contact 19 in 0-CD_x_label is redundant, with info [649.891 891.897  49.881]\n",
      "CD_x error at height 0:\n",
      " [-49.821 -49.911 -49.911 -49.951 -49.821 -49.961 -49.991 -49.861 -49.861 -49.951 -49.611 -49.951\n",
      " -49.911 -49.911 -49.901 -49.921 -49.741 -49.881  -5.78  -49.881]\n",
      "Contact 0 in 0-CD_y_label is redundant, with info [-862.347    8.185   49.931]\n",
      "Contact 1 in 0-CD_y_label is redundant, with info [-801.995 -818.805   49.991]\n",
      "Contact 2 in 0-CD_y_label is redundant, with info [-778.894  721.923   49.941]\n",
      "Contact 3 in 0-CD_y_label is redundant, with info [-738.193 -482.817   49.971]\n",
      "Contact 4 in 0-CD_y_label is redundant, with info [-730.493  309.253   49.851]\n",
      "Contact 5 in 0-CD_y_label is redundant, with info [-469.237  806.075   49.791]\n",
      "Contact 6 in 0-CD_y_label is redundant, with info [-419.835  -14.075   49.981]\n",
      "Contact 7 in 0-CD_y_label is redundant, with info [-290.632 -567.729   49.871]\n",
      "Contact 8 in 0-CD_y_label is redundant, with info [-259.131  233.711   49.981]\n",
      "Contact 10 in 0-CD_y_label is redundant, with info [  37.976 -496.167   49.791]\n",
      "Contact 11 in 0-CD_y_label is redundant, with info [154.029 583.93   49.891]\n",
      "Contact 12 in 0-CD_y_label is redundant, with info [352.084 873.037  11.01 ]\n",
      "Contact 13 in 0-CD_y_label is redundant, with info [ 354.834 -370.254   49.841]\n",
      "Contact 14 in 0-CD_y_label is redundant, with info [ 432.636 -874.497   49.981]\n",
      "Contact 15 in 0-CD_y_label is redundant, with info [661.942 100.638  49.761]\n",
      "Contact 16 in 0-CD_y_label is redundant, with info [663.642 880.557  49.931]\n",
      "Contact 17 in 0-CD_y_label is redundant, with info [753.194 420.756  49.891]\n",
      "Contact 18 in 0-CD_y_label is redundant, with info [ 869.097 -891.897   49.901]\n",
      "Contact 19 in 0-CD_y_label is redundant, with info [ 874.047 -499.348   49.581]\n",
      "CD_y error at height 0:\n",
      " [-49.931 -49.991 -49.941 -49.971 -49.851 -49.791 -49.981 -49.871 -49.981 -49.511 -49.791 -49.891\n",
      " -11.01  -49.841 -49.981 -49.761 -49.931 -49.891 -49.901 -49.581]\n",
      "Contact 18 in 8-CD_x_label is redundant, with info [349.874 878.247   4.43 ]\n",
      "Contact 19 in 8-CD_x_label is redundant, with info [350.904 882.597   1.17 ]\n",
      "CD_x error at height 8:\n",
      " [ 0.1   0.07  0.02  0.2   0.08 -0.15 -1.39 -0.    0.39  0.98  0.49  0.07  0.15 -0.68  0.02  0.19\n",
      "  0.13  0.08 -4.43 -1.17 -1.01]\n",
      "Contact 12 in 8-CD_y_label is redundant, with info [352.184 874.347   8.16 ]\n",
      "CD_y error at height 8:\n",
      " [-0.31  0.03 -0.24  0.01 -0.03 -0.02  0.13 -0.1   0.05 -0.09 -0.42  0.13 -8.16 -0.14 -0.25  0.15\n",
      " -0.01  0.01 -0.01 -0.16]\n",
      "CD_x error at height 16:\n",
      " [ 0.03  0.05 -0.04  0.38  0.13  0.08 -0.55 -0.13  0.25  1.71 -0.49  0.08  0.23 -0.38 -3.58 -0.05\n",
      "  0.02 -0.   -0.03]\n",
      "CD_y error at height 16:\n",
      " [ 0.05  0.01  0.04 -0.02  0.09  0.    0.07 -0.27  0.   -0.   -0.13 -0.05  0.01 -0.41 -0.03 -0.01\n",
      "  0.08 -0.1   0.23]\n",
      "CD_x error at height 24:\n",
      " [-1.   -0.04 -0.01  0.01  0.1   0.25  0.23 -0.31  0.09 -0.33 -1.96  0.02 -0.52 -0.67 -1.15 -0.03\n",
      "  0.1  -0.01 -1.  ]\n",
      "CD_y error at height 24:\n",
      " [-0.12  0.05 -0.05  0.14 -0.09 -0.   -0.05 -0.24 -0.02  0.1  -0.21 -0.59 -0.07  0.   -0.02  0.\n",
      "  0.03  0.04  0.13]\n",
      "CD_x error at height 32:\n",
      " [ 0.07  0.82  0.01  0.11  0.04  0.71  1.56 -0.47  0.05  0.47 -2.11 -1.15 -0.75 -0.64  0.04 -0.25\n",
      " -0.47 -0.1  -1.1 ]\n",
      "CD_y error at height 32:\n",
      " [-0.23 -0.08 -0.07 -0.    0.06  0.07 -0.05  0.03 -0.15  0.11 -0.37  0.02 -0.25 -0.01  0.29  0.09\n",
      "  0.02 -0.37 -0.02]\n",
      "CD_x error at height 40:\n",
      " [ 0.07 -1.97 -1.81 -0.03 -1.03  1.27 -0.75  0.01 -0.   -1.74 -0.56 -0.11 -1.13 -1.09  0.03  0.04\n",
      " -0.16  0.19 -0.05]\n",
      "CD_y error at height 40:\n",
      " [-0.03 -0.   -0.13  0.06  0.08 -0.09  0.01 -0.01 -0.06 -0.03 -0.27  0.08 -0.02 -0.45 -0.08 -0.13\n",
      " -0.13  0.08  0.02]\n",
      "CD_x error at height 48:\n",
      " [-0.02  3.67 -0.12  0.12 -0.47 -1.08 -0.14  0.01 -1.1  -1.01  2.18  0.16  3.12  0.1  -0.86 -0.87\n",
      "  1.66  0.72 -0.19]\n",
      "CD_y error at height 48:\n",
      " [ 0.05 -0.01 -0.1  -0.41 -0.62  0.08  0.1  -0.8  -0.06 -0.13 -0.54  0.1  -0.25 -0.02  0.07  0.\n",
      " -0.51  0.13 -0.15]\n",
      "CD_x error at height 56:\n",
      " [-0.2  -0.64 -0.7  -0.18 -1.16  0.44  0.46 -0.17  0.01  0.43 -1.   -0.95 -0.11  1.4  -0.   -0.24\n",
      " -0.32  1.12 -1.9 ]\n",
      "CD_y error at height 56:\n",
      " [-0.12 -0.38  0.04 -0.41 -0.02 -0.19 -0.71 -0.3  -0.17 -0.43  0.07  0.01  0.03 -0.97 -0.14 -0.07\n",
      " -0.98 -0.23 -0.59]\n",
      "CD_x error at height 64:\n",
      " [-0.5   1.49  1.31 -1.01  1.55 -0.89 -2.4   0.37 -1.06 -0.07 -1.88  0.49  0.07  0.31 -1.13  0.\n",
      "  1.38  0.44  1.87]\n",
      "CD_y error at height 64:\n",
      " [-0.85 -1.28 -0.19 -0.8  -0.71 -0.04 -0.29 -0.37 -0.59  0.01 -0.22 -0.99 -1.82 -2.76 -0.42 -0.89\n",
      " -2.25 -0.74 -0.89]\n"
     ]
    },
    {
     "name": "stderr",
     "output_type": "stream",
     "text": [
      "\r",
      " 95%|█████████▌| 19/20 [17:19:41<56:04, 3364.81s/it]  "
     ]
    },
    {
     "name": "stdout",
     "output_type": "stream",
     "text": [
      "CD_x error at height 72:\n",
      " [-0.02 -0.77 -1.34  0.84 -0.66 -0.23 -0.69  0.76 -0.42 -0.05 -0.96  0.46  0.54 -0.4   0.11  0.65\n",
      "  1.77  0.32  0.63]\n",
      "CD_y error at height 72:\n",
      " [-1.93 -2.99 -0.82 -2.44 -1.9  -1.17  0.14 -1.02 -0.8   0.38  0.09 -0.17  0.37 -0.72  1.03  0.49\n",
      " -1.48 -0.65 -1.25]\n",
      "CD_RMSE for label 18: [15.684 15.727]\n",
      "../dataset_train_v1/0099Acid_ini Read in 0.84 s\n",
      "../dataset_train_v1/0099Inhibitor Read in 0.83 s\n",
      "RMSE for label 19: [0.006 0.516]\n",
      "NMSE for label 19: [11.714  1.291]\n",
      "NMSE_height for label 19: [11.314  1.232]\n",
      "\n",
      "!Start to clear memory\n"
     ]
    },
    {
     "name": "stderr",
     "output_type": "stream",
     "text": [
      "<<<\n",
      "time:\t0.462213s\n",
      "<<<\n"
     ]
    },
    {
     "name": "stdout",
     "output_type": "stream",
     "text": [
      "\n",
      "!Start to clear memory\n"
     ]
    },
    {
     "name": "stderr",
     "output_type": "stream",
     "text": [
      "<<<\n",
      "time:\t0.390693s\n",
      "<<<\n"
     ]
    },
    {
     "name": "stdout",
     "output_type": "stream",
     "text": [
      "Contact 1 in 0-CD_x_label is redundant, with info [-424.056  -35.226   49.941]\n",
      "Contact 2 in 0-CD_x_label is redundant, with info [-823.896  -32.226   49.811]\n",
      "Contact 3 in 0-CD_x_label is redundant, with info [349.634  25.476  49.981]\n",
      "Contact 4 in 0-CD_x_label is redundant, with info [661.842 109.528  49.881]\n",
      "CD_x error at height 0:\n",
      " [-49.781 -49.941 -49.811 -49.981 -49.881]\n",
      "Contact 0 in 0-CD_y_label is redundant, with info [-783.545  -43.476   49.821]\n",
      "Contact 1 in 0-CD_y_label is redundant, with info [-411.785  -34.206   49.571]\n",
      "Contact 2 in 0-CD_y_label is redundant, with info [ 30.426 -50.166  49.721]\n",
      "Contact 3 in 0-CD_y_label is redundant, with info [353.634 -15.745  49.891]\n",
      "Contact 4 in 0-CD_y_label is redundant, with info [706.843  69.557  49.851]\n",
      "CD_y error at height 0:\n",
      " [-49.821 -49.571 -49.721 -49.891 -49.851]\n",
      "CD_x error at height 8:\n",
      " [-0.38  0.27 -1.68  0.03 -0.01]\n",
      "CD_y error at height 8:\n",
      " [ 0.35 -0.    0.18  0.14  0.3 ]\n",
      "CD_x error at height 16:\n",
      " [-1.   -0.09 -0.13 -0.22  0.56]\n",
      "CD_y error at height 16:\n",
      " [ 0.01  0.02 -0.11 -0.08  0.15]\n",
      "CD_x error at height 24:\n",
      " [ 0.05  0.12 -0.2   0.96 -0.45]\n",
      "CD_y error at height 24:\n",
      " [-0.01 -0.04 -0.27  0.02  0.09]\n",
      "CD_x error at height 32:\n",
      " [ 0.02  0.06 -0.65  0.13 -0.51]\n",
      "CD_y error at height 32:\n",
      " [-0.01  0.02 -0.17 -0.05  0.11]\n",
      "CD_x error at height 40:\n",
      " [-1.9  -1.03  1.04 -1.33 -1.  ]\n",
      "CD_y error at height 40:\n",
      " [ 0.03  0.01  0.17  0.08 -0.04]\n",
      "CD_x error at height 48:\n",
      " [-2.01 -0.21 -3.39  1.17 -1.46]\n",
      "CD_y error at height 48:\n",
      " [ 0.03  0.05 -0.32  0.05 -0.01]\n",
      "CD_x error at height 56:\n",
      " [-0.    0.56  0.3  -0.42 -0.15]\n",
      "CD_y error at height 56:\n",
      " [-1.4  -1.69  0.04 -0.03 -0.32]\n",
      "CD_x error at height 64:\n",
      " [-1.23  0.21  0.65 -0.84  2.31]\n",
      "CD_y error at height 64:\n",
      " [-1.39 -0.84  0.05 -0.2  -0.16]\n"
     ]
    },
    {
     "name": "stderr",
     "output_type": "stream",
     "text": [
      "100%|██████████| 20/20 [18:12:35<00:00, 3277.78s/it]"
     ]
    },
    {
     "name": "stdout",
     "output_type": "stream",
     "text": [
      "CD_x error at height 72:\n",
      " [-0.4   2.05 -1.03  2.13 -0.49]\n",
      "CD_y error at height 72:\n",
      " [-0.17  0.85  0.7   0.11 -1.11]\n",
      "CD_RMSE for label 19: [15.807 15.746]\n",
      "CD Error: [15.673 15.841]\n",
      "RMSE(Mean, Std): [0.008 0.725] [0.002 0.222]\n",
      "NMSE(Mean, Std): [11.905  1.818] [0.339 0.561]\n",
      "NMSE_height: [[36.766 24.772 18.547 10.375 12.027  8.907 11.424  8.457 11.188  8.046 10.483  8.683 11.641\n",
      "   8.085 10.8    8.26  11.362  7.995 10.943  8.483 ... 12.215  7.214 12.172  7.648 12.751  7.912\n",
      "  12.545  8.183 14.688  9.139 15.194 10.147 17.019 12.94  17.326 16.02  27.833 19.94  33.372\n",
      "  19.685]\n",
      " [ 5.093  3.706  2.901  1.764  2.112  1.646  2.105  1.644  2.01   1.509  1.969  1.647  2.084\n",
      "   1.514  1.96   1.538  1.991  1.475  2.004  1.567 ...  1.714  1.163  1.684  1.178  1.68   1.142\n",
      "   1.6    1.11   1.747  1.149  1.635  1.158  1.622  1.234  1.573  1.369  2.494  1.498  2.402\n",
      "   1.065]]\n",
      "Top Error (mean): [18.948  1.605]\n"
     ]
    },
    {
     "name": "stderr",
     "output_type": "stream",
     "text": [
      "\n"
     ]
    },
    {
     "name": "stdout",
     "output_type": "stream",
     "text": [
      "Mean runtime: 0.5719559907913208\n",
      "RMSE(Ihb, rate): [0.008 0.725]\n",
      "NRMSE(Ihb, rate): [11.905  1.818]\n",
      "CD Error(x, y): [15.673 15.841]\n"
     ]
    }
   ],
   "source": [
    "netG, _, _ = Model_def(opt, Channels, nf, device_train, load_model=True)\n",
    "Runtime, RMSE, NMSE, NMSE_height, CD_err_x, CD_err_y, CD_RMSE = evaluate(opt, netG, device_train, res_trans, RDevelop)\n",
    "print(\"Mean runtime:\", np.mean(Runtime))\n",
    "print(\"RMSE(Ihb, rate):\", np.mean(RMSE,axis=-1))\n",
    "print(\"NRMSE(Ihb, rate):\", np.mean(NMSE,axis=-1))\n",
    "print(\"CD Error(x, y):\", np.mean(CD_RMSE,axis=-1))"
   ]
  },
  {
   "cell_type": "code",
   "execution_count": 8,
   "metadata": {},
   "outputs": [
    {
     "data": {
      "image/png": "[encoded data removed]",
      "text/plain": [
       "<Figure size 720x432 with 1 Axes>"
      ]
     },
     "metadata": {
      "needs_background": "light"
     },
     "output_type": "display_data"
    }
   ],
   "source": [
    "Err_x, Err_y = np.array([]), np.array([])\n",
    "for tmp in range(len(CD_err_x)):\n",
    "    Err_x = np.append(Err_x, np.array(CD_err_x[tmp]).flatten())\n",
    "    Err_y = np.append(Err_y, np.array(CD_err_y[tmp]).flatten())\n",
    "\n",
    "np.savetxt(opt.respath+\"CDErr-x_cgan.csv\", Err_x.flatten(), delimiter=' ')\n",
    "np.savetxt(opt.respath+\"CDErr-y_cgan.csv\", Err_y.flatten(), delimiter=' ')\n",
    "from utils.Res_plot import CD_errXY_plot\n",
    "%matplotlib inline\n",
    "CD_errXY_plot(Err_x, Err_y, \"CGAN's \")"
   ]
  }
 ],
 "metadata": {
  "kernelspec": {
   "display_name": "Python 3 (ipykernel)",
   "language": "python",
   "name": "python3"
  },
  "language_info": {
   "codemirror_mode": {
    "name": "ipython",
    "version": 3
   },
   "file_extension": ".py",
   "mimetype": "text/x-python",
   "name": "python",
   "nbconvert_exporter": "python",
   "pygments_lexer": "ipython3",
   "version": "3.8.10"
  },
  "vp": {
   "vp_config_version": "1.0.0",
   "vp_menu_width": 273,
   "vp_note_display": false,
   "vp_note_width": 0,
   "vp_position": {
    "width": 278
   },
   "vp_section_display": false,
   "vp_signature": "VisualPython"
  }
 },
 "nbformat": 4,
 "nbformat_minor": 2
}
