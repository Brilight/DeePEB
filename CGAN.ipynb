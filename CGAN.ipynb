{
 "cells": [
  {
   "cell_type": "code",
   "execution_count": 1,
   "metadata": {},
   "outputs": [],
   "source": [
    "import math\n",
    "import time\n",
    "import csv\n",
    "import os\n",
    "os.environ[\"CUDA_DEVICE_ORDER\"] = \"PCI_BUS_ID\"\n",
    "os.environ['CUDA_VISIBLE_DEVICES']=\"4\"\n",
    "os.environ['CUDA_LAUNCH_BLOCKING'] = '1'\n",
    "\n",
    "import numpy as np\n",
    "import torch \n",
    "import torch.nn as nn\n",
    "import torch.utils.data as data\n",
    "import torch.nn.functional as F\n",
    "\n",
    "torch.manual_seed(105)\n",
    "np.random.seed(42)\n",
    "np.set_printoptions(suppress=True, precision=3, threshold=40, linewidth=100, edgeitems=20)  \n",
    "\n",
    "torch.backends.cudnn.deterministic = True\n",
    "torch.backends.cudnn.benchmark = True\n",
    "\n",
    "import itertools\n",
    "from tqdm import trange, tqdm\n",
    "import matplotlib.pyplot as plt\n",
    "import importlib\n",
    "%matplotlib inline\n",
    "\n",
    "'''\n",
    "If curious about the detailed realization of certain module(s) below, try:\n",
    "    print(*inspect.getsource(Module).split('\\n'), sep='\\n')\n",
    "to get its source code.\n",
    "'''\n",
    "from Model.CGAN import Descriminator, Generator\n",
    "from Train.train_CGAN import train\n",
    "from Datas.data_load import dataset_append\n",
    "from Test.Evaluate import evaluate\n",
    "from utils.Save_and_load import save, load\n",
    "from configs import opt, res_trans, RDevelop"
   ]
  },
  {
   "cell_type": "code",
   "execution_count": 2,
   "metadata": {},
   "outputs": [],
   "source": [
    "def Model_def(opt, Channels, nf, device_train, load_model=False):\n",
    "    '''\n",
    "    Define (and load saved) model \n",
    "    '''\n",
    "    netG = Generator(Channels, 5) \n",
    "    netD = Descriminator(1+1,nf)\n",
    "    netG.initialize(); netD.initialize()\n",
    "    if load_model:\n",
    "        netG = load(netG, opt.load_model_path[0])\n",
    "        netD = load(netD, opt.load_model_path[1])\n",
    "    print(netG.parameters)\n",
    "    print(netD.parameters)\n",
    "    D_size = netD(torch.rand(1,2,*opt.Resmax)).shape\n",
    "    \n",
    "    if device_train.type == 'cuda':\n",
    "        torch.cuda.empty_cache()\n",
    "        netG = netG.to(device_train)\n",
    "        netD = netD.to(device_train)\n",
    "        print(\"allocated and reserved GPU memory: {}, {} (GiB)\".format(\n",
    "                torch.cuda.memory_allocated()/(1024**3), torch.cuda.memory_reserved()/(1024**3)))\n",
    "    return netG, netD, D_size"
   ]
  },
  {
   "cell_type": "code",
   "execution_count": 3,
   "metadata": {},
   "outputs": [
    {
     "name": "stdout",
     "output_type": "stream",
     "text": [
      "Net Initialized\n",
      "<bound method Module.parameters of Generator(\n",
      "  (left_conv_1): ConvBlock(\n",
      "    (block): Sequential(\n",
      "      (0): Conv3d(1, 8, kernel_size=(3, 3, 3), stride=(2, 2, 2), padding=(1, 1, 1))\n",
      "      (1): LeakyReLU(negative_slope=0.01, inplace=True)\n",
      "      (2): Conv3d(8, 8, kernel_size=(3, 3, 3), stride=(1, 1, 1), padding=(1, 1, 1))\n",
      "      (3): LeakyReLU(negative_slope=0.01, inplace=True)\n",
      "    )\n",
      "  )\n",
      "  (left_conv_2): ConvBlock(\n",
      "    (block): Sequential(\n",
      "      (0): Conv3d(8, 16, kernel_size=(3, 3, 3), stride=(2, 2, 2), padding=(1, 1, 1))\n",
      "      (1): LeakyReLU(negative_slope=0.01, inplace=True)\n",
      "      (2): Conv3d(16, 16, kernel_size=(3, 3, 3), stride=(1, 1, 1), padding=(1, 1, 1))\n",
      "      (3): LeakyReLU(negative_slope=0.01, inplace=True)\n",
      "    )\n",
      "  )\n",
      "  (left_conv_3): ConvBlock(\n",
      "    (block): Sequential(\n",
      "      (0): Conv3d(16, 32, kernel_size=(3, 3, 3), stride=(2, 2, 2), padding=(1, 1, 1))\n",
      "      (1): LeakyReLU(negative_slope=0.01, inplace=True)\n",
      "      (2): Conv3d(32, 32, kernel_size=(3, 3, 3), stride=(1, 1, 1), padding=(1, 1, 1))\n",
      "      (3): LeakyReLU(negative_slope=0.01, inplace=True)\n",
      "    )\n",
      "  )\n",
      "  (left_conv_4): ConvBlock(\n",
      "    (block): Sequential(\n",
      "      (0): Conv3d(32, 64, kernel_size=(3, 3, 3), stride=(2, 2, 2), padding=(1, 1, 1))\n",
      "      (1): LeakyReLU(negative_slope=0.01, inplace=True)\n",
      "      (2): Conv3d(64, 64, kernel_size=(3, 3, 3), stride=(1, 1, 1), padding=(1, 1, 1))\n",
      "      (3): LeakyReLU(negative_slope=0.01, inplace=True)\n",
      "    )\n",
      "  )\n",
      "  (deconv_1): ConvTranspose3d(64, 32, kernel_size=(5, 5, 5), stride=(2, 2, 2), padding=(2, 2, 2), output_padding=(1, 0, 0))\n",
      "  (right_conv_1): ConvBlock(\n",
      "    (block): Sequential(\n",
      "      (0): Conv3d(64, 32, kernel_size=(3, 3, 3), stride=(1, 1, 1), padding=(1, 1, 1))\n",
      "      (1): LeakyReLU(negative_slope=0.01, inplace=True)\n",
      "      (2): Conv3d(32, 32, kernel_size=(3, 3, 3), stride=(1, 1, 1), padding=(1, 1, 1))\n",
      "      (3): LeakyReLU(negative_slope=0.01, inplace=True)\n",
      "    )\n",
      "  )\n",
      "  (deconv_2): ConvTranspose3d(32, 16, kernel_size=(5, 5, 5), stride=(2, 2, 2), padding=(2, 2, 2), output_padding=(1, 1, 1))\n",
      "  (right_conv_2): ConvBlock(\n",
      "    (block): Sequential(\n",
      "      (0): Conv3d(32, 16, kernel_size=(3, 3, 3), stride=(1, 1, 1), padding=(1, 1, 1))\n",
      "      (1): LeakyReLU(negative_slope=0.01, inplace=True)\n",
      "      (2): Conv3d(16, 16, kernel_size=(3, 3, 3), stride=(1, 1, 1), padding=(1, 1, 1))\n",
      "      (3): LeakyReLU(negative_slope=0.01, inplace=True)\n",
      "    )\n",
      "  )\n",
      "  (deconv_3): ConvTranspose3d(16, 8, kernel_size=(5, 5, 5), stride=(2, 2, 2), padding=(2, 2, 2), output_padding=(1, 1, 1))\n",
      "  (right_conv_3): ConvBlock(\n",
      "    (block): Sequential(\n",
      "      (0): Conv3d(16, 8, kernel_size=(3, 3, 3), stride=(1, 1, 1), padding=(1, 1, 1))\n",
      "      (1): LeakyReLU(negative_slope=0.01, inplace=True)\n",
      "      (2): Conv3d(8, 8, kernel_size=(3, 3, 3), stride=(1, 1, 1), padding=(1, 1, 1))\n",
      "      (3): LeakyReLU(negative_slope=0.01, inplace=True)\n",
      "    )\n",
      "  )\n",
      "  (deconv_4): ConvTranspose3d(8, 1, kernel_size=(5, 5, 5), stride=(2, 2, 2), padding=(2, 2, 2), output_padding=(1, 1, 1))\n",
      "  (regular): Upsample(size=[80, 1000, 1000], mode=trilinear)\n",
      ")>\n",
      "<bound method Module.parameters of Descriminator(\n",
      "  (reslayers): Sequential(\n",
      "    (0): Conv3d(2, 4, kernel_size=(3, 3, 3), stride=(1, 1, 1), padding=(1, 1, 1), bias=False)\n",
      "    (1): LeakyReLU(negative_slope=0.1, inplace=True)\n",
      "    (2): Sequential(\n",
      "      (0): BasicBlock(\n",
      "        (conv): Sequential(\n",
      "          (0): Conv3d(4, 8, kernel_size=(3, 3, 3), stride=(1, 1, 1), padding=(1, 1, 1), bias=False, padding_mode=replicate)\n",
      "          (1): LeakyReLU(negative_slope=0.1, inplace=True)\n",
      "          (2): Conv3d(8, 8, kernel_size=(3, 3, 3), stride=(2, 2, 2), padding=(1, 1, 1), bias=False, padding_mode=replicate)\n",
      "        )\n",
      "        (shortcut): Sequential(\n",
      "          (0): Conv3d(4, 8, kernel_size=(1, 1, 1), stride=(2, 2, 2), bias=False)\n",
      "        )\n",
      "        (norm): GroupNorm(1, 8, eps=1e-05, affine=True)\n",
      "      )\n",
      "      (1): BasicBlock(\n",
      "        (conv): Sequential(\n",
      "          (0): Conv3d(8, 8, kernel_size=(3, 3, 3), stride=(1, 1, 1), padding=(1, 1, 1), bias=False, padding_mode=replicate)\n",
      "          (1): LeakyReLU(negative_slope=0.1, inplace=True)\n",
      "          (2): Conv3d(8, 8, kernel_size=(3, 3, 3), stride=(2, 2, 2), padding=(1, 1, 1), bias=False, padding_mode=replicate)\n",
      "        )\n",
      "        (shortcut): Sequential(\n",
      "          (0): Conv3d(8, 8, kernel_size=(1, 1, 1), stride=(2, 2, 2), bias=False)\n",
      "        )\n",
      "        (norm): GroupNorm(1, 8, eps=1e-05, affine=True)\n",
      "      )\n",
      "    )\n",
      "    (3): Sequential(\n",
      "      (0): BasicBlock(\n",
      "        (conv): Sequential(\n",
      "          (0): Conv3d(8, 4, kernel_size=(3, 3, 3), stride=(1, 1, 1), padding=(1, 1, 1), bias=False, padding_mode=replicate)\n",
      "          (1): LeakyReLU(negative_slope=0.1, inplace=True)\n",
      "          (2): Conv3d(4, 4, kernel_size=(3, 3, 3), stride=(2, 2, 2), padding=(1, 1, 1), bias=False, padding_mode=replicate)\n",
      "        )\n",
      "        (shortcut): Sequential(\n",
      "          (0): Conv3d(8, 4, kernel_size=(1, 1, 1), stride=(2, 2, 2), bias=False)\n",
      "        )\n",
      "        (norm): GroupNorm(1, 4, eps=1e-05, affine=True)\n",
      "      )\n",
      "      (1): BasicBlock(\n",
      "        (conv): Sequential(\n",
      "          (0): Conv3d(4, 4, kernel_size=(3, 3, 3), stride=(1, 1, 1), padding=(1, 1, 1), bias=False, padding_mode=replicate)\n",
      "          (1): LeakyReLU(negative_slope=0.1, inplace=True)\n",
      "          (2): Conv3d(4, 4, kernel_size=(3, 3, 3), stride=(2, 2, 2), padding=(1, 1, 1), bias=False, padding_mode=replicate)\n",
      "        )\n",
      "        (shortcut): Sequential(\n",
      "          (0): Conv3d(4, 4, kernel_size=(1, 1, 1), stride=(2, 2, 2), bias=False)\n",
      "        )\n",
      "        (norm): GroupNorm(1, 4, eps=1e-05, affine=True)\n",
      "      )\n",
      "    )\n",
      "    (4): Conv3d(4, 1, kernel_size=(3, 3, 3), stride=(1, 2, 2), padding=(1, 1, 1), bias=False)\n",
      "    (5): Sigmoid()\n",
      "  )\n",
      ")>\n",
      "allocated and reserved GPU memory: 0.0025281906127929688, 0.00390625 (GiB)\n"
     ]
    }
   ],
   "source": [
    "Channels = [1, 8, 16, 32, 64, ]\n",
    "nf = 4\n",
    "device_train = torch.device('cuda:0') \n",
    "device_test = torch.device('cuda:0')\n",
    "ckpt_name = [\"CGAN-G.pth\", \"CGAN-D.pth\"]\n",
    "opt.load_model_path = [opt.modelpath+ckpt_name[i] for i in [0,1]]\n",
    "netG, netD, D_size = Model_def(opt, Channels, nf, device_train)"
   ]
  },
  {
   "cell_type": "code",
   "execution_count": 4,
   "metadata": {
    "scrolled": true
   },
   "outputs": [
    {
     "name": "stderr",
     "output_type": "stream",
     "text": [
      "\r",
      "  0%|          | 0/8 [00:00<?, ?it/s]"
     ]
    },
    {
     "name": "stdout",
     "output_type": "stream",
     "text": [
      "../dataset_train_v1/0000Acid_ini Read in 0.12 s\n",
      "../dataset_train_v1/0000Inhibitor Read in 0.12 s\n",
      "--> Mask 0 Read Complete, with dataset size: (1, 1, 80, 1000, 1000), 9 masks left ...\n",
      "\n",
      "../dataset_train_v1/0001Acid_ini Read in 0.54 s\n",
      "../dataset_train_v1/0001Inhibitor Read in 0.70 s\n",
      "--> Mask 1 Read Complete, with dataset size: (2, 1, 80, 1000, 1000), 8 masks left ...\n",
      "\n",
      "../dataset_train_v1/0002Acid_ini Read in 0.72 s\n",
      "../dataset_train_v1/0002Inhibitor Read in 0.73 s\n",
      "--> Mask 2 Read Complete, with dataset size: (3, 1, 80, 1000, 1000), 7 masks left ...\n",
      "\n",
      "../dataset_train_v1/0003Acid_ini Read in 0.73 s\n",
      "../dataset_train_v1/0003Inhibitor Read in 0.72 s\n",
      "--> Mask 3 Read Complete, with dataset size: (4, 1, 80, 1000, 1000), 6 masks left ...\n",
      "\n",
      "../dataset_train_v1/0004Acid_ini Read in 0.72 s\n",
      "../dataset_train_v1/0004Inhibitor Read in 0.74 s\n",
      "--> Mask 4 Read Complete, with dataset size: (5, 1, 80, 1000, 1000), 5 masks left ...\n",
      "\n",
      "../dataset_train_v1/0005Acid_ini Read in 0.75 s\n",
      "../dataset_train_v1/0005Inhibitor Read in 0.70 s\n",
      "--> Mask 5 Read Complete, with dataset size: (6, 1, 80, 1000, 1000), 4 masks left ...\n",
      "\n",
      "../dataset_train_v1/0006Acid_ini Read in 0.75 s\n",
      "../dataset_train_v1/0006Inhibitor Read in 0.74 s\n",
      "--> Mask 6 Read Complete, with dataset size: (7, 1, 80, 1000, 1000), 3 masks left ...\n",
      "\n",
      "../dataset_train_v1/0007Acid_ini Read in 0.77 s\n",
      "../dataset_train_v1/0007Inhibitor Read in 0.76 s\n",
      "--> Mask 7 Read Complete, with dataset size: (8, 1, 80, 1000, 1000), 2 masks left ...\n",
      "\n",
      "../dataset_train_v1/0008Acid_ini Read in 0.75 s\n",
      "../dataset_train_v1/0008Inhibitor Read in 0.78 s\n",
      "--> Mask 8 Read Complete, with dataset size: (9, 1, 80, 1000, 1000), 1 masks left ...\n",
      "\n",
      "../dataset_train_v1/0009Acid_ini Read in 0.75 s\n",
      "../dataset_train_v1/0009Inhibitor Read in 0.79 s\n"
     ]
    },
    {
     "name": "stderr",
     "output_type": "stream",
     "text": [
      "\r",
      " 12%|█▎        | 1/8 [00:33<03:53, 33.30s/it]"
     ]
    },
    {
     "name": "stdout",
     "output_type": "stream",
     "text": [
      "--> Mask 9 Read Complete, with dataset size: (10, 1, 80, 1000, 1000), 0 masks left ...\n",
      "\n",
      "../dataset_train_v1/0010Acid_ini Read in 0.74 s\n",
      "../dataset_train_v1/0010Inhibitor Read in 0.71 s\n",
      "--> Mask 10 Read Complete, with dataset size: (1, 1, 80, 1000, 1000), 9 masks left ...\n",
      "\n",
      "../dataset_train_v1/0011Acid_ini Read in 0.64 s\n",
      "../dataset_train_v1/0011Inhibitor Read in 0.69 s\n",
      "--> Mask 11 Read Complete, with dataset size: (2, 1, 80, 1000, 1000), 8 masks left ...\n",
      "\n",
      "../dataset_train_v1/0012Acid_ini Read in 0.65 s\n",
      "../dataset_train_v1/0012Inhibitor Read in 0.67 s\n",
      "--> Mask 12 Read Complete, with dataset size: (3, 1, 80, 1000, 1000), 7 masks left ...\n",
      "\n",
      "../dataset_train_v1/0013Acid_ini Read in 0.66 s\n",
      "../dataset_train_v1/0013Inhibitor Read in 0.71 s\n",
      "--> Mask 13 Read Complete, with dataset size: (4, 1, 80, 1000, 1000), 6 masks left ...\n",
      "\n",
      "../dataset_train_v1/0014Acid_ini Read in 0.69 s\n",
      "../dataset_train_v1/0014Inhibitor Read in 0.68 s\n",
      "--> Mask 14 Read Complete, with dataset size: (5, 1, 80, 1000, 1000), 5 masks left ...\n",
      "\n",
      "../dataset_train_v1/0015Acid_ini Read in 0.76 s\n",
      "../dataset_train_v1/0015Inhibitor Read in 0.72 s\n",
      "--> Mask 15 Read Complete, with dataset size: (6, 1, 80, 1000, 1000), 4 masks left ...\n",
      "\n",
      "../dataset_train_v1/0016Acid_ini Read in 0.75 s\n",
      "../dataset_train_v1/0016Inhibitor Read in 0.77 s\n",
      "--> Mask 16 Read Complete, with dataset size: (7, 1, 80, 1000, 1000), 3 masks left ...\n",
      "\n",
      "../dataset_train_v1/0017Acid_ini Read in 0.75 s\n",
      "../dataset_train_v1/0017Inhibitor Read in 0.78 s\n",
      "--> Mask 17 Read Complete, with dataset size: (8, 1, 80, 1000, 1000), 2 masks left ...\n",
      "\n",
      "../dataset_train_v1/0018Acid_ini Read in 0.77 s\n",
      "../dataset_train_v1/0018Inhibitor Read in 0.62 s\n",
      "--> Mask 18 Read Complete, with dataset size: (9, 1, 80, 1000, 1000), 1 masks left ...\n",
      "\n",
      "../dataset_train_v1/0019Acid_ini Read in 0.15 s\n",
      "../dataset_train_v1/0019Inhibitor Read in 0.14 s\n"
     ]
    },
    {
     "name": "stderr",
     "output_type": "stream",
     "text": [
      "\r",
      " 25%|██▌       | 2/8 [01:06<03:18, 33.09s/it]"
     ]
    },
    {
     "name": "stdout",
     "output_type": "stream",
     "text": [
      "--> Mask 19 Read Complete, with dataset size: (10, 1, 80, 1000, 1000), 0 masks left ...\n",
      "\n",
      "../dataset_train_v1/0020Acid_ini Read in 0.13 s\n",
      "../dataset_train_v1/0020Inhibitor Read in 0.13 s\n",
      "--> Mask 20 Read Complete, with dataset size: (1, 1, 80, 1000, 1000), 9 masks left ...\n",
      "\n",
      "../dataset_train_v1/0021Acid_ini Read in 0.13 s\n",
      "../dataset_train_v1/0021Inhibitor Read in 0.13 s\n",
      "--> Mask 21 Read Complete, with dataset size: (2, 1, 80, 1000, 1000), 8 masks left ...\n",
      "\n",
      "../dataset_train_v1/0022Acid_ini Read in 0.13 s\n",
      "../dataset_train_v1/0022Inhibitor Read in 0.12 s\n",
      "--> Mask 22 Read Complete, with dataset size: (3, 1, 80, 1000, 1000), 7 masks left ...\n",
      "\n",
      "../dataset_train_v1/0023Acid_ini Read in 0.12 s\n",
      "../dataset_train_v1/0023Inhibitor Read in 0.12 s\n",
      "--> Mask 23 Read Complete, with dataset size: (4, 1, 80, 1000, 1000), 6 masks left ...\n",
      "\n",
      "../dataset_train_v1/0024Acid_ini Read in 0.12 s\n",
      "../dataset_train_v1/0024Inhibitor Read in 0.12 s\n",
      "--> Mask 24 Read Complete, with dataset size: (5, 1, 80, 1000, 1000), 5 masks left ...\n",
      "\n",
      "../dataset_train_v1/0025Acid_ini Read in 0.12 s\n",
      "../dataset_train_v1/0025Inhibitor Read in 0.12 s\n",
      "--> Mask 25 Read Complete, with dataset size: (6, 1, 80, 1000, 1000), 4 masks left ...\n",
      "\n",
      "../dataset_train_v1/0026Acid_ini Read in 0.13 s\n",
      "../dataset_train_v1/0026Inhibitor Read in 0.12 s\n",
      "--> Mask 26 Read Complete, with dataset size: (7, 1, 80, 1000, 1000), 3 masks left ...\n",
      "\n",
      "../dataset_train_v1/0027Acid_ini Read in 0.12 s\n",
      "../dataset_train_v1/0027Inhibitor Read in 0.12 s\n",
      "--> Mask 27 Read Complete, with dataset size: (8, 1, 80, 1000, 1000), 2 masks left ...\n",
      "\n",
      "../dataset_train_v1/0028Acid_ini Read in 0.12 s\n",
      "../dataset_train_v1/0028Inhibitor Read in 0.12 s\n",
      "--> Mask 28 Read Complete, with dataset size: (9, 1, 80, 1000, 1000), 1 masks left ...\n",
      "\n",
      "../dataset_train_v1/0029Acid_ini Read in 0.14 s\n",
      "../dataset_train_v1/0029Inhibitor Read in 0.14 s\n"
     ]
    },
    {
     "name": "stderr",
     "output_type": "stream",
     "text": [
      "\r",
      " 38%|███▊      | 3/8 [01:28<02:20, 28.19s/it]"
     ]
    },
    {
     "name": "stdout",
     "output_type": "stream",
     "text": [
      "--> Mask 29 Read Complete, with dataset size: (10, 1, 80, 1000, 1000), 0 masks left ...\n",
      "\n",
      "../dataset_train_v1/0030Acid_ini Read in 0.13 s\n",
      "../dataset_train_v1/0030Inhibitor Read in 0.13 s\n",
      "--> Mask 30 Read Complete, with dataset size: (1, 1, 80, 1000, 1000), 9 masks left ...\n",
      "\n",
      "../dataset_train_v1/0031Acid_ini Read in 0.13 s\n",
      "../dataset_train_v1/0031Inhibitor Read in 0.13 s\n",
      "--> Mask 31 Read Complete, with dataset size: (2, 1, 80, 1000, 1000), 8 masks left ...\n",
      "\n",
      "../dataset_train_v1/0032Acid_ini Read in 0.14 s\n",
      "../dataset_train_v1/0032Inhibitor Read in 0.12 s\n",
      "--> Mask 32 Read Complete, with dataset size: (3, 1, 80, 1000, 1000), 7 masks left ...\n",
      "\n",
      "../dataset_train_v1/0033Acid_ini Read in 0.12 s\n",
      "../dataset_train_v1/0033Inhibitor Read in 0.42 s\n",
      "--> Mask 33 Read Complete, with dataset size: (4, 1, 80, 1000, 1000), 6 masks left ...\n",
      "\n",
      "../dataset_train_v1/0034Acid_ini Read in 0.42 s\n",
      "../dataset_train_v1/0034Inhibitor Read in 0.37 s\n",
      "--> Mask 34 Read Complete, with dataset size: (5, 1, 80, 1000, 1000), 5 masks left ...\n",
      "\n",
      "../dataset_train_v1/0035Acid_ini Read in 0.42 s\n",
      "../dataset_train_v1/0035Inhibitor Read in 0.51 s\n",
      "--> Mask 35 Read Complete, with dataset size: (6, 1, 80, 1000, 1000), 4 masks left ...\n",
      "\n",
      "../dataset_train_v1/0036Acid_ini Read in 0.60 s\n",
      "../dataset_train_v1/0036Inhibitor Read in 0.47 s\n",
      "--> Mask 36 Read Complete, with dataset size: (7, 1, 80, 1000, 1000), 3 masks left ...\n",
      "\n",
      "../dataset_train_v1/0037Acid_ini Read in 0.42 s\n",
      "../dataset_train_v1/0037Inhibitor Read in 0.39 s\n",
      "--> Mask 37 Read Complete, with dataset size: (8, 1, 80, 1000, 1000), 2 masks left ...\n",
      "\n",
      "../dataset_train_v1/0038Acid_ini Read in 0.43 s\n",
      "../dataset_train_v1/0038Inhibitor Read in 0.54 s\n",
      "--> Mask 38 Read Complete, with dataset size: (9, 1, 80, 1000, 1000), 1 masks left ...\n",
      "\n",
      "../dataset_train_v1/0039Acid_ini Read in 0.47 s\n",
      "../dataset_train_v1/0039Inhibitor Read in 0.46 s\n"
     ]
    },
    {
     "name": "stderr",
     "output_type": "stream",
     "text": [
      "\r",
      " 50%|█████     | 4/8 [01:55<01:50, 27.61s/it]"
     ]
    },
    {
     "name": "stdout",
     "output_type": "stream",
     "text": [
      "--> Mask 39 Read Complete, with dataset size: (10, 1, 80, 1000, 1000), 0 masks left ...\n",
      "\n",
      "../dataset_train_v1/0040Acid_ini Read in 0.46 s\n",
      "../dataset_train_v1/0040Inhibitor Read in 0.60 s\n",
      "--> Mask 40 Read Complete, with dataset size: (1, 1, 80, 1000, 1000), 9 masks left ...\n",
      "\n",
      "../dataset_train_v1/0041Acid_ini Read in 0.38 s\n",
      "../dataset_train_v1/0041Inhibitor Read in 0.42 s\n",
      "--> Mask 41 Read Complete, with dataset size: (2, 1, 80, 1000, 1000), 8 masks left ...\n",
      "\n",
      "../dataset_train_v1/0042Acid_ini Read in 0.48 s\n",
      "../dataset_train_v1/0042Inhibitor Read in 0.36 s\n",
      "--> Mask 42 Read Complete, with dataset size: (3, 1, 80, 1000, 1000), 7 masks left ...\n",
      "\n",
      "../dataset_train_v1/0043Acid_ini Read in 0.52 s\n",
      "../dataset_train_v1/0043Inhibitor Read in 0.49 s\n",
      "--> Mask 43 Read Complete, with dataset size: (4, 1, 80, 1000, 1000), 6 masks left ...\n",
      "\n",
      "../dataset_train_v1/0044Acid_ini Read in 0.42 s\n",
      "../dataset_train_v1/0044Inhibitor Read in 0.52 s\n",
      "--> Mask 44 Read Complete, with dataset size: (5, 1, 80, 1000, 1000), 5 masks left ...\n",
      "\n",
      "../dataset_train_v1/0045Acid_ini Read in 0.56 s\n",
      "../dataset_train_v1/0045Inhibitor Read in 0.19 s\n",
      "--> Mask 45 Read Complete, with dataset size: (6, 1, 80, 1000, 1000), 4 masks left ...\n",
      "\n",
      "../dataset_train_v1/0046Acid_ini Read in 0.13 s\n",
      "../dataset_train_v1/0046Inhibitor Read in 0.13 s\n",
      "--> Mask 46 Read Complete, with dataset size: (7, 1, 80, 1000, 1000), 3 masks left ...\n",
      "\n",
      "../dataset_train_v1/0047Acid_ini Read in 0.13 s\n",
      "../dataset_train_v1/0047Inhibitor Read in 0.13 s\n",
      "--> Mask 47 Read Complete, with dataset size: (8, 1, 80, 1000, 1000), 2 masks left ...\n",
      "\n",
      "../dataset_train_v1/0048Acid_ini Read in 0.13 s\n",
      "../dataset_train_v1/0048Inhibitor Read in 0.13 s\n",
      "--> Mask 48 Read Complete, with dataset size: (9, 1, 80, 1000, 1000), 1 masks left ...\n",
      "\n",
      "../dataset_train_v1/0049Acid_ini Read in 0.13 s\n",
      "../dataset_train_v1/0049Inhibitor Read in 0.13 s\n"
     ]
    },
    {
     "name": "stderr",
     "output_type": "stream",
     "text": [
      "\r",
      " 62%|██████▎   | 5/8 [02:21<01:21, 27.15s/it]"
     ]
    },
    {
     "name": "stdout",
     "output_type": "stream",
     "text": [
      "--> Mask 49 Read Complete, with dataset size: (10, 1, 80, 1000, 1000), 0 masks left ...\n",
      "\n",
      "../dataset_train_v1/0050Acid_ini Read in 0.13 s\n",
      "../dataset_train_v1/0050Inhibitor Read in 0.13 s\n",
      "--> Mask 50 Read Complete, with dataset size: (1, 1, 80, 1000, 1000), 9 masks left ...\n",
      "\n",
      "../dataset_train_v1/0051Acid_ini Read in 0.13 s\n",
      "../dataset_train_v1/0051Inhibitor Read in 0.13 s\n",
      "--> Mask 51 Read Complete, with dataset size: (2, 1, 80, 1000, 1000), 8 masks left ...\n",
      "\n",
      "../dataset_train_v1/0052Acid_ini Read in 0.14 s\n",
      "../dataset_train_v1/0052Inhibitor Read in 0.13 s\n",
      "--> Mask 52 Read Complete, with dataset size: (3, 1, 80, 1000, 1000), 7 masks left ...\n",
      "\n",
      "../dataset_train_v1/0053Acid_ini Read in 0.13 s\n",
      "../dataset_train_v1/0053Inhibitor Read in 0.12 s\n",
      "--> Mask 53 Read Complete, with dataset size: (4, 1, 80, 1000, 1000), 6 masks left ...\n",
      "\n",
      "../dataset_train_v1/0054Acid_ini Read in 0.12 s\n",
      "../dataset_train_v1/0054Inhibitor Read in 0.11 s\n",
      "--> Mask 54 Read Complete, with dataset size: (5, 1, 80, 1000, 1000), 5 masks left ...\n",
      "\n",
      "../dataset_train_v1/0055Acid_ini Read in 0.12 s\n",
      "../dataset_train_v1/0055Inhibitor Read in 0.11 s\n",
      "--> Mask 55 Read Complete, with dataset size: (6, 1, 80, 1000, 1000), 4 masks left ...\n",
      "\n",
      "../dataset_train_v1/0056Acid_ini Read in 0.11 s\n",
      "../dataset_train_v1/0056Inhibitor Read in 0.11 s\n",
      "--> Mask 56 Read Complete, with dataset size: (7, 1, 80, 1000, 1000), 3 masks left ...\n",
      "\n",
      "../dataset_train_v1/0057Acid_ini Read in 0.12 s\n",
      "../dataset_train_v1/0057Inhibitor Read in 0.11 s\n",
      "--> Mask 57 Read Complete, with dataset size: (8, 1, 80, 1000, 1000), 2 masks left ...\n",
      "\n",
      "../dataset_train_v1/0058Acid_ini Read in 0.11 s\n",
      "../dataset_train_v1/0058Inhibitor Read in 0.11 s\n",
      "--> Mask 58 Read Complete, with dataset size: (9, 1, 80, 1000, 1000), 1 masks left ...\n",
      "\n",
      "../dataset_train_v1/0059Acid_ini Read in 0.12 s\n",
      "../dataset_train_v1/0059Inhibitor Read in 0.12 s\n"
     ]
    },
    {
     "name": "stderr",
     "output_type": "stream",
     "text": [
      "\r",
      " 75%|███████▌  | 6/8 [02:43<00:50, 25.50s/it]"
     ]
    },
    {
     "name": "stdout",
     "output_type": "stream",
     "text": [
      "--> Mask 59 Read Complete, with dataset size: (10, 1, 80, 1000, 1000), 0 masks left ...\n",
      "\n",
      "../dataset_train_v1/0060Acid_ini Read in 0.12 s\n",
      "../dataset_train_v1/0060Inhibitor Read in 0.12 s\n",
      "--> Mask 60 Read Complete, with dataset size: (1, 1, 80, 1000, 1000), 9 masks left ...\n",
      "\n",
      "../dataset_train_v1/0061Acid_ini Read in 0.12 s\n",
      "../dataset_train_v1/0061Inhibitor Read in 0.12 s\n",
      "--> Mask 61 Read Complete, with dataset size: (2, 1, 80, 1000, 1000), 8 masks left ...\n",
      "\n",
      "../dataset_train_v1/0062Acid_ini Read in 0.11 s\n",
      "../dataset_train_v1/0062Inhibitor Read in 0.11 s\n",
      "--> Mask 62 Read Complete, with dataset size: (3, 1, 80, 1000, 1000), 7 masks left ...\n",
      "\n",
      "../dataset_train_v1/0063Acid_ini Read in 0.12 s\n",
      "../dataset_train_v1/0063Inhibitor Read in 0.12 s\n",
      "--> Mask 63 Read Complete, with dataset size: (4, 1, 80, 1000, 1000), 6 masks left ...\n",
      "\n",
      "../dataset_train_v1/0064Acid_ini Read in 0.12 s\n",
      "../dataset_train_v1/0064Inhibitor Read in 0.13 s\n",
      "--> Mask 64 Read Complete, with dataset size: (5, 1, 80, 1000, 1000), 5 masks left ...\n",
      "\n",
      "../dataset_train_v1/0065Acid_ini Read in 0.11 s\n",
      "../dataset_train_v1/0065Inhibitor Read in 0.11 s\n",
      "--> Mask 65 Read Complete, with dataset size: (6, 1, 80, 1000, 1000), 4 masks left ...\n",
      "\n",
      "../dataset_train_v1/0066Acid_ini Read in 0.11 s\n",
      "../dataset_train_v1/0066Inhibitor Read in 0.12 s\n",
      "--> Mask 66 Read Complete, with dataset size: (7, 1, 80, 1000, 1000), 3 masks left ...\n",
      "\n",
      "../dataset_train_v1/0067Acid_ini Read in 0.12 s\n",
      "../dataset_train_v1/0067Inhibitor Read in 0.12 s\n",
      "--> Mask 67 Read Complete, with dataset size: (8, 1, 80, 1000, 1000), 2 masks left ...\n",
      "\n",
      "../dataset_train_v1/0068Acid_ini Read in 0.11 s\n",
      "../dataset_train_v1/0068Inhibitor Read in 0.11 s\n",
      "--> Mask 68 Read Complete, with dataset size: (9, 1, 80, 1000, 1000), 1 masks left ...\n",
      "\n",
      "../dataset_train_v1/0069Acid_ini Read in 0.12 s\n",
      "../dataset_train_v1/0069Inhibitor Read in 0.12 s\n"
     ]
    },
    {
     "name": "stderr",
     "output_type": "stream",
     "text": [
      "\r",
      " 88%|████████▊ | 7/8 [03:06<00:24, 24.42s/it]"
     ]
    },
    {
     "name": "stdout",
     "output_type": "stream",
     "text": [
      "--> Mask 69 Read Complete, with dataset size: (10, 1, 80, 1000, 1000), 0 masks left ...\n",
      "\n",
      "../dataset_train_v1/0070Acid_ini Read in 0.12 s\n",
      "../dataset_train_v1/0070Inhibitor Read in 0.11 s\n",
      "--> Mask 70 Read Complete, with dataset size: (1, 1, 80, 1000, 1000), 9 masks left ...\n",
      "\n",
      "../dataset_train_v1/0071Acid_ini Read in 0.12 s\n",
      "../dataset_train_v1/0071Inhibitor Read in 0.12 s\n",
      "--> Mask 71 Read Complete, with dataset size: (2, 1, 80, 1000, 1000), 8 masks left ...\n",
      "\n",
      "../dataset_train_v1/0072Acid_ini Read in 0.12 s\n",
      "../dataset_train_v1/0072Inhibitor Read in 0.11 s\n",
      "--> Mask 72 Read Complete, with dataset size: (3, 1, 80, 1000, 1000), 7 masks left ...\n",
      "\n",
      "../dataset_train_v1/0073Acid_ini Read in 0.12 s\n",
      "../dataset_train_v1/0073Inhibitor Read in 0.11 s\n",
      "--> Mask 73 Read Complete, with dataset size: (4, 1, 80, 1000, 1000), 6 masks left ...\n",
      "\n",
      "../dataset_train_v1/0074Acid_ini Read in 0.11 s\n",
      "../dataset_train_v1/0074Inhibitor Read in 0.13 s\n",
      "--> Mask 74 Read Complete, with dataset size: (5, 1, 80, 1000, 1000), 5 masks left ...\n",
      "\n",
      "../dataset_train_v1/0075Acid_ini Read in 0.13 s\n",
      "../dataset_train_v1/0075Inhibitor Read in 0.13 s\n",
      "--> Mask 75 Read Complete, with dataset size: (6, 1, 80, 1000, 1000), 4 masks left ...\n",
      "\n",
      "../dataset_train_v1/0076Acid_ini Read in 0.13 s\n",
      "../dataset_train_v1/0076Inhibitor Read in 0.13 s\n",
      "--> Mask 76 Read Complete, with dataset size: (7, 1, 80, 1000, 1000), 3 masks left ...\n",
      "\n",
      "../dataset_train_v1/0077Acid_ini Read in 0.13 s\n",
      "../dataset_train_v1/0077Inhibitor Read in 0.13 s\n",
      "--> Mask 77 Read Complete, with dataset size: (8, 1, 80, 1000, 1000), 2 masks left ...\n",
      "\n",
      "../dataset_train_v1/0078Acid_ini Read in 0.13 s\n",
      "../dataset_train_v1/0078Inhibitor Read in 0.13 s\n",
      "--> Mask 78 Read Complete, with dataset size: (9, 1, 80, 1000, 1000), 1 masks left ...\n",
      "\n",
      "../dataset_train_v1/0079Acid_ini Read in 0.13 s\n",
      "../dataset_train_v1/0079Inhibitor Read in 0.13 s\n"
     ]
    },
    {
     "name": "stderr",
     "output_type": "stream",
     "text": [
      "100%|██████████| 8/8 [03:28<00:00, 26.07s/it]\n"
     ]
    },
    {
     "name": "stdout",
     "output_type": "stream",
     "text": [
      "--> Mask 79 Read Complete, with dataset size: (10, 1, 80, 1000, 1000), 0 masks left ...\n",
      "\n"
     ]
    },
    {
     "name": "stderr",
     "output_type": "stream",
     "text": [
      "\r",
      "  0%|          | 0/2 [00:00<?, ?it/s]"
     ]
    },
    {
     "name": "stdout",
     "output_type": "stream",
     "text": [
      "../dataset_train_v1/0080Acid_ini Read in 0.13 s\n",
      "../dataset_train_v1/0080Inhibitor Read in 0.11 s\n",
      "--> Mask 80 Read Complete, with dataset size: (1, 1, 80, 1000, 1000), 9 masks left ...\n",
      "\n",
      "../dataset_train_v1/0081Acid_ini Read in 0.11 s\n",
      "../dataset_train_v1/0081Inhibitor Read in 0.11 s\n",
      "--> Mask 81 Read Complete, with dataset size: (2, 1, 80, 1000, 1000), 8 masks left ...\n",
      "\n",
      "../dataset_train_v1/0082Acid_ini Read in 0.12 s\n",
      "../dataset_train_v1/0082Inhibitor Read in 0.11 s\n",
      "--> Mask 82 Read Complete, with dataset size: (3, 1, 80, 1000, 1000), 7 masks left ...\n",
      "\n",
      "../dataset_train_v1/0083Acid_ini Read in 0.14 s\n",
      "../dataset_train_v1/0083Inhibitor Read in 0.13 s\n",
      "--> Mask 83 Read Complete, with dataset size: (4, 1, 80, 1000, 1000), 6 masks left ...\n",
      "\n",
      "../dataset_train_v1/0084Acid_ini Read in 0.13 s\n",
      "../dataset_train_v1/0084Inhibitor Read in 0.12 s\n",
      "--> Mask 84 Read Complete, with dataset size: (5, 1, 80, 1000, 1000), 5 masks left ...\n",
      "\n",
      "../dataset_train_v1/0085Acid_ini Read in 0.15 s\n",
      "../dataset_train_v1/0085Inhibitor Read in 0.13 s\n",
      "--> Mask 85 Read Complete, with dataset size: (6, 1, 80, 1000, 1000), 4 masks left ...\n",
      "\n",
      "../dataset_train_v1/0086Acid_ini Read in 0.13 s\n",
      "../dataset_train_v1/0086Inhibitor Read in 0.12 s\n",
      "--> Mask 86 Read Complete, with dataset size: (7, 1, 80, 1000, 1000), 3 masks left ...\n",
      "\n",
      "../dataset_train_v1/0087Acid_ini Read in 0.12 s\n",
      "../dataset_train_v1/0087Inhibitor Read in 0.12 s\n",
      "--> Mask 87 Read Complete, with dataset size: (8, 1, 80, 1000, 1000), 2 masks left ...\n",
      "\n",
      "../dataset_train_v1/0088Acid_ini Read in 0.12 s\n",
      "../dataset_train_v1/0088Inhibitor Read in 0.11 s\n",
      "--> Mask 88 Read Complete, with dataset size: (9, 1, 80, 1000, 1000), 1 masks left ...\n",
      "\n",
      "../dataset_train_v1/0089Acid_ini Read in 0.12 s\n",
      "../dataset_train_v1/0089Inhibitor Read in 0.11 s\n"
     ]
    },
    {
     "name": "stderr",
     "output_type": "stream",
     "text": [
      "\r",
      " 50%|█████     | 1/2 [00:22<00:22, 22.35s/it]"
     ]
    },
    {
     "name": "stdout",
     "output_type": "stream",
     "text": [
      "--> Mask 89 Read Complete, with dataset size: (10, 1, 80, 1000, 1000), 0 masks left ...\n",
      "\n",
      "../dataset_train_v1/0090Acid_ini Read in 0.13 s\n",
      "../dataset_train_v1/0090Inhibitor Read in 0.13 s\n",
      "--> Mask 90 Read Complete, with dataset size: (1, 1, 80, 1000, 1000), 9 masks left ...\n",
      "\n",
      "../dataset_train_v1/0091Acid_ini Read in 0.13 s\n",
      "../dataset_train_v1/0091Inhibitor Read in 0.12 s\n",
      "--> Mask 91 Read Complete, with dataset size: (2, 1, 80, 1000, 1000), 8 masks left ...\n",
      "\n",
      "../dataset_train_v1/0092Acid_ini Read in 0.13 s\n",
      "../dataset_train_v1/0092Inhibitor Read in 0.13 s\n",
      "--> Mask 92 Read Complete, with dataset size: (3, 1, 80, 1000, 1000), 7 masks left ...\n",
      "\n",
      "../dataset_train_v1/0093Acid_ini Read in 0.14 s\n",
      "../dataset_train_v1/0093Inhibitor Read in 0.12 s\n",
      "--> Mask 93 Read Complete, with dataset size: (4, 1, 80, 1000, 1000), 6 masks left ...\n",
      "\n",
      "../dataset_train_v1/0094Acid_ini Read in 0.12 s\n",
      "../dataset_train_v1/0094Inhibitor Read in 0.12 s\n",
      "--> Mask 94 Read Complete, with dataset size: (5, 1, 80, 1000, 1000), 5 masks left ...\n",
      "\n",
      "../dataset_train_v1/0095Acid_ini Read in 0.13 s\n",
      "../dataset_train_v1/0095Inhibitor Read in 0.14 s\n",
      "--> Mask 95 Read Complete, with dataset size: (6, 1, 80, 1000, 1000), 4 masks left ...\n",
      "\n",
      "../dataset_train_v1/0096Acid_ini Read in 0.15 s\n",
      "../dataset_train_v1/0096Inhibitor Read in 0.13 s\n",
      "--> Mask 96 Read Complete, with dataset size: (7, 1, 80, 1000, 1000), 3 masks left ...\n",
      "\n",
      "../dataset_train_v1/0097Acid_ini Read in 0.13 s\n",
      "../dataset_train_v1/0097Inhibitor Read in 0.13 s\n",
      "--> Mask 97 Read Complete, with dataset size: (8, 1, 80, 1000, 1000), 2 masks left ...\n",
      "\n",
      "../dataset_train_v1/0098Acid_ini Read in 0.14 s\n",
      "../dataset_train_v1/0098Inhibitor Read in 0.12 s\n",
      "--> Mask 98 Read Complete, with dataset size: (9, 1, 80, 1000, 1000), 1 masks left ...\n",
      "\n",
      "../dataset_train_v1/0099Acid_ini Read in 0.67 s\n",
      "../dataset_train_v1/0099Inhibitor Read in 0.69 s\n"
     ]
    },
    {
     "name": "stderr",
     "output_type": "stream",
     "text": [
      "100%|██████████| 2/2 [00:49<00:00, 24.61s/it]"
     ]
    },
    {
     "name": "stdout",
     "output_type": "stream",
     "text": [
      "--> Mask 99 Read Complete, with dataset size: (10, 1, 80, 1000, 1000), 0 masks left ...\n",
      "\n"
     ]
    },
    {
     "name": "stderr",
     "output_type": "stream",
     "text": [
      "\n"
     ]
    }
   ],
   "source": [
    "dataset_train = dataset_append(opt, opt.dataidx_train, res_trans)\n",
    "dataset_test = dataset_append(opt, opt.dataidx_test, res_trans)"
   ]
  },
  {
   "cell_type": "code",
   "execution_count": 9,
   "metadata": {},
   "outputs": [],
   "source": [
    "def opt_strategy(netG, netD, opt):\n",
    "    optimizerD = torch.optim.Adam(netD.parameters(), lr = 3e-4,)# weight_decay=1e-4)\n",
    "    optimizerG = torch.optim.Adam(netG.parameters(), lr = 1e-3,)\n",
    "    schedulerG = torch.optim.lr_scheduler.StepLR(optimizerG, step_size=50, gamma=0.9)\n",
    "    schedulerD = torch.optim.lr_scheduler.StepLR(optimizerD, step_size=50, gamma=0.9)\n",
    "    return optimizerG, optimizerD, schedulerG, schedulerD"
   ]
  },
  {
   "cell_type": "code",
   "execution_count": 10,
   "metadata": {
    "scrolled": true
   },
   "outputs": [
    {
     "name": "stderr",
     "output_type": "stream",
     "text": [
      "  0%|          | 1/1000 [01:32<25:36:57, 92.31s/it]"
     ]
    },
    {
     "name": "stdout",
     "output_type": "stream",
     "text": [
      "Epoch 0 | LR: 1.00e-03 | Train Loss: 1.16e+00(G) 1.59e-02(D) | Test Loss: 2.52e+01, 4.85e-02, 79.87%\n"
     ]
    },
    {
     "name": "stderr",
     "output_type": "stream",
     "text": [
      "  2%|▏         | 21/1000 [29:51<23:39:01, 86.97s/it]"
     ]
    },
    {
     "name": "stdout",
     "output_type": "stream",
     "text": [
      "Epoch 20 | LR: 1.00e-03 | Train Loss: 1.07e-01(G) 1.60e-02(D) | Test Loss: 1.83e+01, 6.75e-02, 95.68%\n"
     ]
    },
    {
     "name": "stderr",
     "output_type": "stream",
     "text": [
      "  4%|▍         | 41/1000 [58:09<23:08:09, 86.85s/it]"
     ]
    },
    {
     "name": "stdout",
     "output_type": "stream",
     "text": [
      "Epoch 40 | LR: 1.00e-03 | Train Loss: 5.99e-02(G) 1.61e-02(D) | Test Loss: 1.80e+01, 7.16e-02, 94.17%\n"
     ]
    },
    {
     "name": "stderr",
     "output_type": "stream",
     "text": [
      "  6%|▌         | 61/1000 [1:26:28<22:40:30, 86.93s/it]"
     ]
    },
    {
     "name": "stdout",
     "output_type": "stream",
     "text": [
      "Epoch 60 | LR: 9.00e-04 | Train Loss: 3.37e-02(G) 1.62e-02(D) | Test Loss: 1.83e+01, 5.27e-02, 85.98%\n"
     ]
    },
    {
     "name": "stderr",
     "output_type": "stream",
     "text": [
      "  8%|▊         | 81/1000 [1:54:47<22:11:33, 86.94s/it]"
     ]
    },
    {
     "name": "stdout",
     "output_type": "stream",
     "text": [
      "Epoch 80 | LR: 9.00e-04 | Train Loss: 3.71e-02(G) 1.62e-02(D) | Test Loss: 1.83e+01, 5.49e-02, 82.45%\n"
     ]
    },
    {
     "name": "stderr",
     "output_type": "stream",
     "text": [
      " 10%|█         | 101/1000 [2:23:06<21:42:03, 86.90s/it]"
     ]
    },
    {
     "name": "stdout",
     "output_type": "stream",
     "text": [
      "Epoch 100 | LR: 8.10e-04 | Train Loss: 2.35e-02(G) 1.63e-02(D) | Test Loss: 1.86e+01, 4.19e-02, 79.41%\n"
     ]
    },
    {
     "name": "stderr",
     "output_type": "stream",
     "text": [
      " 12%|█▏        | 121/1000 [2:51:23<21:13:08, 86.90s/it]"
     ]
    },
    {
     "name": "stdout",
     "output_type": "stream",
     "text": [
      "Epoch 120 | LR: 8.10e-04 | Train Loss: 2.72e-02(G) 1.63e-02(D) | Test Loss: 1.84e+01, 5.28e-02, 74.57%\n"
     ]
    },
    {
     "name": "stderr",
     "output_type": "stream",
     "text": [
      " 14%|█▍        | 141/1000 [3:19:42<20:44:46, 86.95s/it]"
     ]
    },
    {
     "name": "stdout",
     "output_type": "stream",
     "text": [
      "Epoch 140 | LR: 8.10e-04 | Train Loss: 4.15e-02(G) 1.63e-02(D) | Test Loss: 1.86e+01, 3.88e-02, 63.27%\n"
     ]
    },
    {
     "name": "stderr",
     "output_type": "stream",
     "text": [
      " 16%|█▌        | 161/1000 [3:48:02<20:16:27, 86.99s/it]"
     ]
    },
    {
     "name": "stdout",
     "output_type": "stream",
     "text": [
      "Epoch 160 | LR: 7.29e-04 | Train Loss: 2.42e-02(G) 1.64e-02(D) | Test Loss: 1.89e+01, 3.12e-02, 48.93%\n"
     ]
    },
    {
     "name": "stderr",
     "output_type": "stream",
     "text": [
      " 18%|█▊        | 181/1000 [4:16:19<19:42:33, 86.63s/it]"
     ]
    },
    {
     "name": "stdout",
     "output_type": "stream",
     "text": [
      "Epoch 180 | LR: 7.29e-04 | Train Loss: 2.18e-02(G) 1.64e-02(D) | Test Loss: 1.88e+01, 2.05e-02, 30.24%\n"
     ]
    },
    {
     "name": "stderr",
     "output_type": "stream",
     "text": [
      " 20%|██        | 201/1000 [4:44:38<19:17:11, 86.90s/it]"
     ]
    },
    {
     "name": "stdout",
     "output_type": "stream",
     "text": [
      "Epoch 200 | LR: 6.56e-04 | Train Loss: 2.96e-02(G) 1.64e-02(D) | Test Loss: 1.89e+01, 1.44e-02, 19.97%\n"
     ]
    },
    {
     "name": "stderr",
     "output_type": "stream",
     "text": [
      " 22%|██▏       | 221/1000 [5:12:55<18:47:01, 86.81s/it]"
     ]
    },
    {
     "name": "stdout",
     "output_type": "stream",
     "text": [
      "Epoch 220 | LR: 6.56e-04 | Train Loss: 2.65e-02(G) 1.64e-02(D) | Test Loss: 1.88e+01, 1.19e-02, 17.59%\n"
     ]
    },
    {
     "name": "stderr",
     "output_type": "stream",
     "text": [
      " 24%|██▍       | 241/1000 [5:41:08<18:12:44, 86.38s/it]"
     ]
    },
    {
     "name": "stdout",
     "output_type": "stream",
     "text": [
      "Epoch 240 | LR: 6.56e-04 | Train Loss: 2.64e-02(G) 1.64e-02(D) | Test Loss: 1.89e+01, 8.48e-03, 16.65%\n"
     ]
    },
    {
     "name": "stderr",
     "output_type": "stream",
     "text": [
      " 26%|██▌       | 261/1000 [6:09:17<17:45:34, 86.52s/it]"
     ]
    },
    {
     "name": "stdout",
     "output_type": "stream",
     "text": [
      "Epoch 260 | LR: 5.90e-04 | Train Loss: 2.41e-02(G) 1.64e-02(D) | Test Loss: 1.89e+01, 7.75e-03, 16.60%\n"
     ]
    },
    {
     "name": "stderr",
     "output_type": "stream",
     "text": [
      " 28%|██▊       | 281/1000 [6:37:30<17:17:12, 86.55s/it]"
     ]
    },
    {
     "name": "stdout",
     "output_type": "stream",
     "text": [
      "Epoch 280 | LR: 5.90e-04 | Train Loss: 1.80e-02(G) 1.64e-02(D) | Test Loss: 1.86e+01, 9.37e-03, 13.45%\n",
      "\n",
      "!Model saved at Epoch 280, with Train Loss 1.80e-02(G) | Test Error(Ihb): 9.37e-03(MSE), 13.45%(NRMSE)\n",
      "\n",
      "!Model saved to  ./Ckpts/CGAN-G.pth\n",
      "\n",
      "!Model saved at Epoch 280, with Train Loss 1.64e-02(D) | \n",
      "!Model saved to  ./Ckpts/CGAN-D.pth\n"
     ]
    },
    {
     "name": "stderr",
     "output_type": "stream",
     "text": [
      " 30%|███       | 301/1000 [7:05:41<16:47:32, 86.48s/it]"
     ]
    },
    {
     "name": "stdout",
     "output_type": "stream",
     "text": [
      "Epoch 300 | LR: 5.31e-04 | Train Loss: 1.63e-02(G) 1.64e-02(D) | Test Loss: 1.87e+01, 7.74e-03, 15.67%\n"
     ]
    },
    {
     "name": "stderr",
     "output_type": "stream",
     "text": [
      " 32%|███▏      | 321/1000 [7:33:53<16:19:41, 86.57s/it]"
     ]
    },
    {
     "name": "stdout",
     "output_type": "stream",
     "text": [
      "Epoch 320 | LR: 5.31e-04 | Train Loss: 1.16e-02(G) 1.65e-02(D) | Test Loss: 1.86e+01, 1.01e-02, 11.79%\n",
      "\n",
      "!Model saved at Epoch 320, with Train Loss 1.16e-02(G) | Test Error(Ihb): 1.01e-02(MSE), 11.79%(NRMSE)\n",
      "\n",
      "!Model saved to  ./Ckpts/CGAN-G.pth\n",
      "\n",
      "!Model saved at Epoch 320, with Train Loss 1.65e-02(D) | \n",
      "!Model saved to  ./Ckpts/CGAN-D.pth\n"
     ]
    },
    {
     "name": "stderr",
     "output_type": "stream",
     "text": [
      " 34%|███▍      | 341/1000 [8:02:01<15:48:25, 86.35s/it]"
     ]
    },
    {
     "name": "stdout",
     "output_type": "stream",
     "text": [
      "Epoch 340 | LR: 5.31e-04 | Train Loss: 1.32e-02(G) 1.65e-02(D) | Test Loss: 1.88e+01, 6.63e-03, 12.39%\n"
     ]
    },
    {
     "name": "stderr",
     "output_type": "stream",
     "text": [
      " 36%|███▌      | 361/1000 [8:30:42<16:59:55, 95.77s/it]"
     ]
    },
    {
     "name": "stdout",
     "output_type": "stream",
     "text": [
      "Epoch 360 | LR: 4.78e-04 | Train Loss: 2.71e-02(G) 1.65e-02(D) | Test Loss: 1.86e+01, 9.33e-03, 10.94%\n",
      "\n",
      "!Model saved at Epoch 360, with Train Loss 2.71e-02(G) | Test Error(Ihb): 9.33e-03(MSE), 10.94%(NRMSE)\n",
      "\n",
      "!Model saved to  ./Ckpts/CGAN-G.pth\n",
      "\n",
      "!Model saved at Epoch 360, with Train Loss 1.65e-02(D) | \n",
      "!Model saved to  ./Ckpts/CGAN-D.pth\n"
     ]
    },
    {
     "name": "stderr",
     "output_type": "stream",
     "text": [
      " 38%|███▊      | 381/1000 [8:58:46<14:48:44, 86.15s/it]"
     ]
    },
    {
     "name": "stdout",
     "output_type": "stream",
     "text": [
      "Epoch 380 | LR: 4.78e-04 | Train Loss: 2.41e-02(G) 1.65e-02(D) | Test Loss: 1.87e+01, 7.54e-03, 11.38%\n"
     ]
    },
    {
     "name": "stderr",
     "output_type": "stream",
     "text": [
      " 40%|████      | 401/1000 [9:26:50<14:20:22, 86.18s/it]"
     ]
    },
    {
     "name": "stdout",
     "output_type": "stream",
     "text": [
      "Epoch 400 | LR: 4.30e-04 | Train Loss: 1.82e-02(G) 1.65e-02(D) | Test Loss: 1.86e+01, 6.05e-03, 11.35%\n"
     ]
    },
    {
     "name": "stderr",
     "output_type": "stream",
     "text": [
      " 42%|████▏     | 421/1000 [9:55:04<13:57:15, 86.76s/it]"
     ]
    },
    {
     "name": "stdout",
     "output_type": "stream",
     "text": [
      "Epoch 420 | LR: 4.30e-04 | Train Loss: 1.16e-02(G) 1.65e-02(D) | Test Loss: 1.86e+01, 7.57e-03, 10.53%\n"
     ]
    },
    {
     "name": "stderr",
     "output_type": "stream",
     "text": [
      " 44%|████▍     | 441/1000 [10:23:18<13:27:08, 86.63s/it]"
     ]
    },
    {
     "name": "stdout",
     "output_type": "stream",
     "text": [
      "Epoch 440 | LR: 4.30e-04 | Train Loss: 9.14e-03(G) 1.65e-02(D) | Test Loss: 1.84e+01, 7.70e-03, 11.24%\n"
     ]
    },
    {
     "name": "stderr",
     "output_type": "stream",
     "text": [
      " 46%|████▌     | 461/1000 [10:51:30<12:57:50, 86.59s/it]"
     ]
    },
    {
     "name": "stdout",
     "output_type": "stream",
     "text": [
      "Epoch 460 | LR: 3.87e-04 | Train Loss: 9.83e-03(G) 1.65e-02(D) | Test Loss: 1.84e+01, 7.28e-03, 11.06%\n"
     ]
    },
    {
     "name": "stderr",
     "output_type": "stream",
     "text": [
      " 48%|████▊     | 481/1000 [11:19:41<12:28:05, 86.48s/it]"
     ]
    },
    {
     "name": "stdout",
     "output_type": "stream",
     "text": [
      "Epoch 480 | LR: 3.87e-04 | Train Loss: 1.51e-02(G) 1.65e-02(D) | Test Loss: 1.83e+01, 8.67e-03, 10.07%\n",
      "\n",
      "!Model saved at Epoch 480, with Train Loss 1.51e-02(G) | Test Error(Ihb): 8.67e-03(MSE), 10.07%(NRMSE)\n",
      "\n",
      "!Model saved to  ./Ckpts/CGAN-G.pth\n",
      "\n",
      "!Model saved at Epoch 480, with Train Loss 1.65e-02(D) | \n",
      "!Model saved to  ./Ckpts/CGAN-D.pth\n"
     ]
    },
    {
     "name": "stderr",
     "output_type": "stream",
     "text": [
      " 50%|█████     | 501/1000 [11:47:56<12:01:02, 86.70s/it]"
     ]
    },
    {
     "name": "stdout",
     "output_type": "stream",
     "text": [
      "Epoch 500 | LR: 3.49e-04 | Train Loss: 7.95e-03(G) 1.65e-02(D) | Test Loss: 1.86e+01, 6.16e-03, 9.20%\n",
      "\n",
      "!Model saved at Epoch 500, with Train Loss 7.95e-03(G) | Test Error(Ihb): 6.16e-03(MSE), 9.20%(NRMSE)\n",
      "\n",
      "!Model saved to  ./Ckpts/CGAN-G.pth\n",
      "\n",
      "!Model saved at Epoch 500, with Train Loss 1.65e-02(D) | \n",
      "!Model saved to  ./Ckpts/CGAN-D.pth\n"
     ]
    },
    {
     "name": "stderr",
     "output_type": "stream",
     "text": [
      " 52%|█████▏    | 521/1000 [12:16:12<11:33:12, 86.83s/it]"
     ]
    },
    {
     "name": "stdout",
     "output_type": "stream",
     "text": [
      "Epoch 520 | LR: 3.49e-04 | Train Loss: 9.46e-03(G) 1.65e-02(D) | Test Loss: 1.84e+01, 6.37e-03, 9.31%\n"
     ]
    },
    {
     "name": "stderr",
     "output_type": "stream",
     "text": [
      " 54%|█████▍    | 541/1000 [12:44:28<11:03:32, 86.74s/it]"
     ]
    },
    {
     "name": "stdout",
     "output_type": "stream",
     "text": [
      "Epoch 540 | LR: 3.49e-04 | Train Loss: 1.34e-02(G) 1.65e-02(D) | Test Loss: 1.86e+01, 6.17e-03, 8.69%\n",
      "\n",
      "!Model saved at Epoch 540, with Train Loss 1.34e-02(G) | Test Error(Ihb): 6.17e-03(MSE), 8.69%(NRMSE)\n",
      "\n",
      "!Model saved to  ./Ckpts/CGAN-G.pth\n",
      "\n",
      "!Model saved at Epoch 540, with Train Loss 1.65e-02(D) | \n",
      "!Model saved to  ./Ckpts/CGAN-D.pth\n"
     ]
    },
    {
     "name": "stderr",
     "output_type": "stream",
     "text": [
      " 56%|█████▌    | 561/1000 [13:12:43<10:34:02, 86.66s/it]"
     ]
    },
    {
     "name": "stdout",
     "output_type": "stream",
     "text": [
      "Epoch 560 | LR: 3.14e-04 | Train Loss: 1.15e-02(G) 1.65e-02(D) | Test Loss: 1.86e+01, 4.12e-03, 9.28%\n"
     ]
    },
    {
     "name": "stderr",
     "output_type": "stream",
     "text": [
      " 58%|█████▊    | 581/1000 [13:40:56<10:04:26, 86.55s/it]"
     ]
    },
    {
     "name": "stdout",
     "output_type": "stream",
     "text": [
      "Epoch 580 | LR: 3.14e-04 | Train Loss: 6.82e-03(G) 1.65e-02(D) | Test Loss: 1.86e+01, 5.41e-03, 8.79%\n"
     ]
    },
    {
     "name": "stderr",
     "output_type": "stream",
     "text": [
      " 60%|██████    | 601/1000 [14:09:08<9:35:31, 86.55s/it] "
     ]
    },
    {
     "name": "stdout",
     "output_type": "stream",
     "text": [
      "Epoch 600 | LR: 2.82e-04 | Train Loss: 9.04e-03(G) 1.65e-02(D) | Test Loss: 1.85e+01, 4.21e-03, 9.65%\n"
     ]
    },
    {
     "name": "stderr",
     "output_type": "stream",
     "text": [
      " 62%|██████▏   | 621/1000 [14:37:20<9:06:41, 86.55s/it]"
     ]
    },
    {
     "name": "stdout",
     "output_type": "stream",
     "text": [
      "Epoch 620 | LR: 2.82e-04 | Train Loss: 7.47e-03(G) 1.65e-02(D) | Test Loss: 1.86e+01, 5.39e-03, 8.01%\n",
      "\n",
      "!Model saved at Epoch 620, with Train Loss 7.47e-03(G) | Test Error(Ihb): 5.39e-03(MSE), 8.01%(NRMSE)\n",
      "\n",
      "!Model saved to  ./Ckpts/CGAN-G.pth\n",
      "\n",
      "!Model saved at Epoch 620, with Train Loss 1.65e-02(D) | \n",
      "!Model saved to  ./Ckpts/CGAN-D.pth\n"
     ]
    },
    {
     "name": "stderr",
     "output_type": "stream",
     "text": [
      " 64%|██████▍   | 641/1000 [15:05:32<8:38:03, 86.58s/it]"
     ]
    },
    {
     "name": "stdout",
     "output_type": "stream",
     "text": [
      "Epoch 640 | LR: 2.82e-04 | Train Loss: 5.97e-03(G) 1.65e-02(D) | Test Loss: 1.84e+01, 6.14e-03, 7.71%\n"
     ]
    },
    {
     "name": "stderr",
     "output_type": "stream",
     "text": [
      " 66%|██████▌   | 661/1000 [15:33:45<8:08:40, 86.49s/it]"
     ]
    },
    {
     "name": "stdout",
     "output_type": "stream",
     "text": [
      "Epoch 660 | LR: 2.54e-04 | Train Loss: 8.61e-03(G) 1.65e-02(D) | Test Loss: 1.84e+01, 5.30e-03, 8.03%\n"
     ]
    },
    {
     "name": "stderr",
     "output_type": "stream",
     "text": [
      " 68%|██████▊   | 681/1000 [16:01:57<7:40:04, 86.54s/it]"
     ]
    },
    {
     "name": "stdout",
     "output_type": "stream",
     "text": [
      "Epoch 680 | LR: 2.54e-04 | Train Loss: 9.83e-03(G) 1.65e-02(D) | Test Loss: 1.85e+01, 5.06e-03, 7.87%\n"
     ]
    },
    {
     "name": "stderr",
     "output_type": "stream",
     "text": [
      " 70%|███████   | 701/1000 [16:30:08<7:11:09, 86.52s/it]"
     ]
    },
    {
     "name": "stdout",
     "output_type": "stream",
     "text": [
      "Epoch 700 | LR: 2.29e-04 | Train Loss: 8.17e-03(G) 1.65e-02(D) | Test Loss: 1.89e+01, 4.77e-03, 7.96%\n"
     ]
    },
    {
     "name": "stderr",
     "output_type": "stream",
     "text": [
      " 72%|███████▏  | 721/1000 [16:58:19<6:42:17, 86.52s/it]"
     ]
    },
    {
     "name": "stdout",
     "output_type": "stream",
     "text": [
      "Epoch 720 | LR: 2.29e-04 | Train Loss: 5.64e-03(G) 1.65e-02(D) | Test Loss: 1.91e+01, 5.58e-03, 8.51%\n"
     ]
    },
    {
     "name": "stderr",
     "output_type": "stream",
     "text": [
      " 74%|███████▍  | 741/1000 [17:26:31<6:13:30, 86.53s/it]"
     ]
    },
    {
     "name": "stdout",
     "output_type": "stream",
     "text": [
      "Epoch 740 | LR: 2.29e-04 | Train Loss: 6.04e-03(G) 1.65e-02(D) | Test Loss: 1.92e+01, 6.51e-03, 8.33%\n"
     ]
    },
    {
     "name": "stderr",
     "output_type": "stream",
     "text": [
      " 76%|███████▌  | 761/1000 [17:54:43<5:44:48, 86.56s/it]"
     ]
    },
    {
     "name": "stdout",
     "output_type": "stream",
     "text": [
      "Epoch 760 | LR: 2.06e-04 | Train Loss: 5.78e-03(G) 1.65e-02(D) | Test Loss: 1.92e+01, 5.13e-03, 7.25%\n",
      "\n",
      "!Model saved at Epoch 760, with Train Loss 5.78e-03(G) | Test Error(Ihb): 5.13e-03(MSE), 7.25%(NRMSE)\n",
      "\n",
      "!Model saved to  ./Ckpts/CGAN-G.pth\n",
      "\n",
      "!Model saved at Epoch 760, with Train Loss 1.65e-02(D) | \n",
      "!Model saved to  ./Ckpts/CGAN-D.pth\n"
     ]
    },
    {
     "name": "stderr",
     "output_type": "stream",
     "text": [
      " 78%|███████▊  | 781/1000 [18:22:55<5:16:10, 86.62s/it]"
     ]
    },
    {
     "name": "stdout",
     "output_type": "stream",
     "text": [
      "Epoch 780 | LR: 2.06e-04 | Train Loss: 7.91e-03(G) 1.65e-02(D) | Test Loss: 1.98e+01, 3.59e-03, 7.82%\n"
     ]
    },
    {
     "name": "stderr",
     "output_type": "stream",
     "text": [
      " 80%|████████  | 801/1000 [18:51:08<4:47:05, 86.56s/it]"
     ]
    },
    {
     "name": "stdout",
     "output_type": "stream",
     "text": [
      "Epoch 800 | LR: 1.85e-04 | Train Loss: 8.61e-03(G) 1.65e-02(D) | Test Loss: 1.96e+01, 5.17e-03, 8.20%\n"
     ]
    },
    {
     "name": "stderr",
     "output_type": "stream",
     "text": [
      " 82%|████████▏ | 821/1000 [19:19:20<4:18:18, 86.59s/it]"
     ]
    },
    {
     "name": "stdout",
     "output_type": "stream",
     "text": [
      "Epoch 820 | LR: 1.85e-04 | Train Loss: 8.84e-03(G) 1.65e-02(D) | Test Loss: 2.01e+01, 3.84e-03, 7.42%\n"
     ]
    },
    {
     "name": "stderr",
     "output_type": "stream",
     "text": [
      " 84%|████████▍ | 841/1000 [19:47:34<3:49:37, 86.65s/it]"
     ]
    },
    {
     "name": "stdout",
     "output_type": "stream",
     "text": [
      "Epoch 840 | LR: 1.85e-04 | Train Loss: 8.98e-03(G) 1.65e-02(D) | Test Loss: 1.92e+01, 4.32e-03, 7.22%\n"
     ]
    },
    {
     "name": "stderr",
     "output_type": "stream",
     "text": [
      " 86%|████████▌ | 861/1000 [20:15:47<3:20:28, 86.53s/it]"
     ]
    },
    {
     "name": "stdout",
     "output_type": "stream",
     "text": [
      "Epoch 860 | LR: 1.67e-04 | Train Loss: 7.16e-03(G) 1.65e-02(D) | Test Loss: 1.95e+01, 5.30e-03, 6.94%\n"
     ]
    },
    {
     "name": "stderr",
     "output_type": "stream",
     "text": [
      " 88%|████████▊ | 881/1000 [20:43:59<2:51:46, 86.61s/it]"
     ]
    },
    {
     "name": "stdout",
     "output_type": "stream",
     "text": [
      "Epoch 880 | LR: 1.67e-04 | Train Loss: 7.15e-03(G) 1.65e-02(D) | Test Loss: 1.98e+01, 4.58e-03, 6.92%\n"
     ]
    },
    {
     "name": "stderr",
     "output_type": "stream",
     "text": [
      " 90%|█████████ | 901/1000 [21:12:12<2:22:42, 86.49s/it]"
     ]
    },
    {
     "name": "stdout",
     "output_type": "stream",
     "text": [
      "Epoch 900 | LR: 1.50e-04 | Train Loss: 7.03e-03(G) 1.65e-02(D) | Test Loss: 1.97e+01, 3.71e-03, 7.05%\n"
     ]
    },
    {
     "name": "stderr",
     "output_type": "stream",
     "text": [
      " 92%|█████████▏| 921/1000 [21:40:23<1:53:55, 86.52s/it]"
     ]
    },
    {
     "name": "stdout",
     "output_type": "stream",
     "text": [
      "Epoch 920 | LR: 1.50e-04 | Train Loss: 8.89e-03(G) 1.65e-02(D) | Test Loss: 1.98e+01, 5.11e-03, 6.73%\n",
      "\n",
      "!Model saved at Epoch 920, with Train Loss 8.89e-03(G) | Test Error(Ihb): 5.11e-03(MSE), 6.73%(NRMSE)\n",
      "\n",
      "!Model saved to  ./Ckpts/CGAN-G.pth\n",
      "\n",
      "!Model saved at Epoch 920, with Train Loss 1.65e-02(D) | \n",
      "!Model saved to  ./Ckpts/CGAN-D.pth\n"
     ]
    },
    {
     "name": "stderr",
     "output_type": "stream",
     "text": [
      " 94%|█████████▍| 941/1000 [22:08:36<1:25:23, 86.84s/it]"
     ]
    },
    {
     "name": "stdout",
     "output_type": "stream",
     "text": [
      "Epoch 940 | LR: 1.50e-04 | Train Loss: 8.84e-03(G) 1.65e-02(D) | Test Loss: 1.97e+01, 4.30e-03, 7.70%\n"
     ]
    },
    {
     "name": "stderr",
     "output_type": "stream",
     "text": [
      " 96%|█████████▌| 961/1000 [22:36:54<56:25, 86.81s/it]  "
     ]
    },
    {
     "name": "stdout",
     "output_type": "stream",
     "text": [
      "Epoch 960 | LR: 1.35e-04 | Train Loss: 6.81e-03(G) 1.65e-02(D) | Test Loss: 1.99e+01, 3.10e-03, 8.50%\n"
     ]
    },
    {
     "name": "stderr",
     "output_type": "stream",
     "text": [
      " 98%|█████████▊| 981/1000 [23:05:13<27:33, 87.04s/it]"
     ]
    },
    {
     "name": "stdout",
     "output_type": "stream",
     "text": [
      "Epoch 980 | LR: 1.35e-04 | Train Loss: 7.61e-03(G) 1.65e-02(D) | Test Loss: 1.97e+01, 4.94e-03, 6.51%\n"
     ]
    },
    {
     "name": "stderr",
     "output_type": "stream",
     "text": [
      "100%|██████████| 1000/1000 [23:32:00<00:00, 84.72s/it]\n"
     ]
    }
   ],
   "source": [
    "opt.epochs = 1000\n",
    "optimizerG, optimizerD, schedulerG, schedulerD = opt_strategy(netG, netD, opt)\n",
    "train_log, test_log = train(netG, netD, D_size, optimizerG, optimizerD, schedulerG, schedulerD, opt, dataset_train, \n",
    "                                           device_train, dataset_test, res_trans, ckpt_name, save_check=15)\n",
    "\n",
    "if not os.path.exists(opt.load_model_path[0]):\n",
    "    save(netD, opt.modelpath, ckpt_name[1])\n",
    "    save(netG, opt.modelpath, ckpt_name[0])"
   ]
  },
  {
   "cell_type": "code",
   "execution_count": 12,
   "metadata": {
    "scrolled": true
   },
   "outputs": [
    {
     "name": "stdout",
     "output_type": "stream",
     "text": [
      "Net Initialized\n",
      "!Model load from  ./Ckpts/CGAN-G.pth\n",
      "!Model load from  ./Ckpts/CGAN-D.pth\n",
      "<bound method Module.parameters of Generator(\n",
      "  (left_conv_1): ConvBlock(\n",
      "    (block): Sequential(\n",
      "      (0): Conv3d(1, 8, kernel_size=(3, 3, 3), stride=(2, 2, 2), padding=(1, 1, 1))\n",
      "      (1): LeakyReLU(negative_slope=0.01, inplace=True)\n",
      "      (2): Conv3d(8, 8, kernel_size=(3, 3, 3), stride=(1, 1, 1), padding=(1, 1, 1))\n",
      "      (3): LeakyReLU(negative_slope=0.01, inplace=True)\n",
      "    )\n",
      "  )\n",
      "  (left_conv_2): ConvBlock(\n",
      "    (block): Sequential(\n",
      "      (0): Conv3d(8, 16, kernel_size=(3, 3, 3), stride=(2, 2, 2), padding=(1, 1, 1))\n",
      "      (1): LeakyReLU(negative_slope=0.01, inplace=True)\n",
      "      (2): Conv3d(16, 16, kernel_size=(3, 3, 3), stride=(1, 1, 1), padding=(1, 1, 1))\n",
      "      (3): LeakyReLU(negative_slope=0.01, inplace=True)\n",
      "    )\n",
      "  )\n",
      "  (left_conv_3): ConvBlock(\n",
      "    (block): Sequential(\n",
      "      (0): Conv3d(16, 32, kernel_size=(3, 3, 3), stride=(2, 2, 2), padding=(1, 1, 1))\n",
      "      (1): LeakyReLU(negative_slope=0.01, inplace=True)\n",
      "      (2): Conv3d(32, 32, kernel_size=(3, 3, 3), stride=(1, 1, 1), padding=(1, 1, 1))\n",
      "      (3): LeakyReLU(negative_slope=0.01, inplace=True)\n",
      "    )\n",
      "  )\n",
      "  (left_conv_4): ConvBlock(\n",
      "    (block): Sequential(\n",
      "      (0): Conv3d(32, 64, kernel_size=(3, 3, 3), stride=(2, 2, 2), padding=(1, 1, 1))\n",
      "      (1): LeakyReLU(negative_slope=0.01, inplace=True)\n",
      "      (2): Conv3d(64, 64, kernel_size=(3, 3, 3), stride=(1, 1, 1), padding=(1, 1, 1))\n",
      "      (3): LeakyReLU(negative_slope=0.01, inplace=True)\n",
      "    )\n",
      "  )\n",
      "  (deconv_1): ConvTranspose3d(64, 32, kernel_size=(5, 5, 5), stride=(2, 2, 2), padding=(2, 2, 2), output_padding=(1, 0, 0))\n",
      "  (right_conv_1): ConvBlock(\n",
      "    (block): Sequential(\n",
      "      (0): Conv3d(64, 32, kernel_size=(3, 3, 3), stride=(1, 1, 1), padding=(1, 1, 1))\n",
      "      (1): LeakyReLU(negative_slope=0.01, inplace=True)\n",
      "      (2): Conv3d(32, 32, kernel_size=(3, 3, 3), stride=(1, 1, 1), padding=(1, 1, 1))\n",
      "      (3): LeakyReLU(negative_slope=0.01, inplace=True)\n",
      "    )\n",
      "  )\n",
      "  (deconv_2): ConvTranspose3d(32, 16, kernel_size=(5, 5, 5), stride=(2, 2, 2), padding=(2, 2, 2), output_padding=(1, 1, 1))\n",
      "  (right_conv_2): ConvBlock(\n",
      "    (block): Sequential(\n",
      "      (0): Conv3d(32, 16, kernel_size=(3, 3, 3), stride=(1, 1, 1), padding=(1, 1, 1))\n",
      "      (1): LeakyReLU(negative_slope=0.01, inplace=True)\n",
      "      (2): Conv3d(16, 16, kernel_size=(3, 3, 3), stride=(1, 1, 1), padding=(1, 1, 1))\n",
      "      (3): LeakyReLU(negative_slope=0.01, inplace=True)\n",
      "    )\n",
      "  )\n",
      "  (deconv_3): ConvTranspose3d(16, 8, kernel_size=(5, 5, 5), stride=(2, 2, 2), padding=(2, 2, 2), output_padding=(1, 1, 1))\n",
      "  (right_conv_3): ConvBlock(\n",
      "    (block): Sequential(\n",
      "      (0): Conv3d(16, 8, kernel_size=(3, 3, 3), stride=(1, 1, 1), padding=(1, 1, 1))\n",
      "      (1): LeakyReLU(negative_slope=0.01, inplace=True)\n",
      "      (2): Conv3d(8, 8, kernel_size=(3, 3, 3), stride=(1, 1, 1), padding=(1, 1, 1))\n",
      "      (3): LeakyReLU(negative_slope=0.01, inplace=True)\n",
      "    )\n",
      "  )\n",
      "  (deconv_4): ConvTranspose3d(8, 1, kernel_size=(5, 5, 5), stride=(2, 2, 2), padding=(2, 2, 2), output_padding=(1, 1, 1))\n",
      "  (regular): Upsample(size=[80, 1000, 1000], mode=trilinear)\n",
      ")>\n",
      "<bound method Module.parameters of Descriminator(\n",
      "  (reslayers): Sequential(\n",
      "    (0): Conv3d(2, 4, kernel_size=(3, 3, 3), stride=(1, 1, 1), padding=(1, 1, 1), bias=False)\n",
      "    (1): LeakyReLU(negative_slope=0.1, inplace=True)\n",
      "    (2): Sequential(\n",
      "      (0): BasicBlock(\n",
      "        (conv): Sequential(\n",
      "          (0): Conv3d(4, 8, kernel_size=(3, 3, 3), stride=(1, 1, 1), padding=(1, 1, 1), bias=False, padding_mode=replicate)\n",
      "          (1): LeakyReLU(negative_slope=0.1, inplace=True)\n",
      "          (2): Conv3d(8, 8, kernel_size=(3, 3, 3), stride=(2, 2, 2), padding=(1, 1, 1), bias=False, padding_mode=replicate)\n",
      "        )\n",
      "        (shortcut): Sequential(\n",
      "          (0): Conv3d(4, 8, kernel_size=(1, 1, 1), stride=(2, 2, 2), bias=False)\n",
      "        )\n",
      "        (norm): GroupNorm(1, 8, eps=1e-05, affine=True)\n",
      "      )\n",
      "      (1): BasicBlock(\n",
      "        (conv): Sequential(\n",
      "          (0): Conv3d(8, 8, kernel_size=(3, 3, 3), stride=(1, 1, 1), padding=(1, 1, 1), bias=False, padding_mode=replicate)\n",
      "          (1): LeakyReLU(negative_slope=0.1, inplace=True)\n",
      "          (2): Conv3d(8, 8, kernel_size=(3, 3, 3), stride=(2, 2, 2), padding=(1, 1, 1), bias=False, padding_mode=replicate)\n",
      "        )\n",
      "        (shortcut): Sequential(\n",
      "          (0): Conv3d(8, 8, kernel_size=(1, 1, 1), stride=(2, 2, 2), bias=False)\n",
      "        )\n",
      "        (norm): GroupNorm(1, 8, eps=1e-05, affine=True)\n",
      "      )\n",
      "    )\n",
      "    (3): Sequential(\n",
      "      (0): BasicBlock(\n",
      "        (conv): Sequential(\n",
      "          (0): Conv3d(8, 4, kernel_size=(3, 3, 3), stride=(1, 1, 1), padding=(1, 1, 1), bias=False, padding_mode=replicate)\n",
      "          (1): LeakyReLU(negative_slope=0.1, inplace=True)\n",
      "          (2): Conv3d(4, 4, kernel_size=(3, 3, 3), stride=(2, 2, 2), padding=(1, 1, 1), bias=False, padding_mode=replicate)\n",
      "        )\n",
      "        (shortcut): Sequential(\n",
      "          (0): Conv3d(8, 4, kernel_size=(1, 1, 1), stride=(2, 2, 2), bias=False)\n",
      "        )\n",
      "        (norm): GroupNorm(1, 4, eps=1e-05, affine=True)\n",
      "      )\n",
      "      (1): BasicBlock(\n",
      "        (conv): Sequential(\n",
      "          (0): Conv3d(4, 4, kernel_size=(3, 3, 3), stride=(1, 1, 1), padding=(1, 1, 1), bias=False, padding_mode=replicate)\n",
      "          (1): LeakyReLU(negative_slope=0.1, inplace=True)\n",
      "          (2): Conv3d(4, 4, kernel_size=(3, 3, 3), stride=(2, 2, 2), padding=(1, 1, 1), bias=False, padding_mode=replicate)\n",
      "        )\n",
      "        (shortcut): Sequential(\n",
      "          (0): Conv3d(4, 4, kernel_size=(1, 1, 1), stride=(2, 2, 2), bias=False)\n",
      "        )\n",
      "        (norm): GroupNorm(1, 4, eps=1e-05, affine=True)\n",
      "      )\n",
      "    )\n",
      "    (4): Conv3d(4, 1, kernel_size=(3, 3, 3), stride=(1, 2, 2), padding=(1, 1, 1), bias=False)\n",
      "    (5): Sigmoid()\n",
      "  )\n",
      ")>\n",
      "allocated and reserved GPU memory: 0.012640953063964844, 0.013671875 (GiB)\n"
     ]
    },
    {
     "name": "stderr",
     "output_type": "stream",
     "text": [
      "\r",
      "  0%|          | 0/20 [00:00<?, ?it/s]"
     ]
    },
    {
     "name": "stdout",
     "output_type": "stream",
     "text": [
      "../dataset_train_v1/0080Acid_ini Read in 0.12 s\n",
      "../dataset_train_v1/0080Inhibitor Read in 0.12 s\n",
      "RMSE for label 0: [0.006 0.577]\n",
      "NMSE for label 0: [6.451 1.45 ]\n",
      "NMSE_height for label 0: [6.592 1.386]\n",
      "\n",
      "!Start to clear memory\n"
     ]
    },
    {
     "name": "stderr",
     "output_type": "stream",
     "text": [
      "<<<\n",
      "time:\t0.167653s\n",
      "<<<\n",
      "<<<\n",
      "time:\t0.166839s\n",
      "<<<\n"
     ]
    },
    {
     "name": "stdout",
     "output_type": "stream",
     "text": [
      "\n",
      "!Start to clear memory\n",
      "CD_x error at height 0:\n",
      " [ 0.078  0.162  0.5    0.1   -0.     0.7   -0.1   -0.    -0.041  0.5   -0.1   38.802  0.     0.6\n",
      " -0.1   -0.3   -0.    -0.2   -0.    -0.1  ]\n",
      "CD_y error at height 0:\n",
      " [-0.     0.09   0.484 -0.2   -3.5   -0.695  0.1    1.5    0.1   -0.8    0.6    1.6    0.4   -0.\n",
      "  0.174 -0.1    0.906  1.5   -0.   ]\n",
      "CD_x error at height 8:\n",
      " [-0.063 -0.1    0.364 -0.8   -0.    -0.1   -0.2    1.     0.1    1.1   -0.5   -0.4   -1.     0.\n",
      "  0.8   -0.7    0.     1.4    0.045]\n",
      "CD_y error at height 8:\n",
      " [ 1.     1.2    0.025 -0.216  0.114 -0.038 -0.6   -0.149  0.56   0.1    1.259 -0.4    1.2   -0.081\n",
      "  0.696 -0.045 -1.132 -0.877 -0.559]\n",
      "CD_x error at height 16:\n",
      " [ 0.752 -0.2    0.8   -0.218 -0.1   -0.    -0.2   -0.    -0.     1.7    0.2    0.616  0.9    0.\n",
      "  0.067 -1.4    0.     0.     0.2  ]\n",
      "CD_y error at height 16:\n",
      " [ 1.     0.029  0.499  0.461 -0.    -0.442 -0.    -0.1    0.1    0.134 -0.133 -1.6   -0.057  0.\n",
      " -1.3   -0.4    0.085  0.2   -0.134]\n",
      "CD_x error at height 24:\n",
      " [-0.5   -0.1    0.4   -0.     0.1   -0.852 -0.1   -0.    -0.     1.2   -0.6    0.1    0.5   -0.\n",
      "  1.1   -0.6   -0.     0.8    0.2  ]\n",
      "CD_y error at height 24:\n",
      " [-0.1    0.307 -0.6    0.365 -0.032  0.1   -0.014 -0.2    0.041 -0.    -0.15  -0.1    0.733 -0.044\n",
      "  0.7   -0.01   1.7    0.5    0.1  ]\n",
      "CD_x error at height 32:\n",
      " [-1.2   -1.2    0.5    0.2   -0.     0.038  0.1   -0.    -0.35  -0.3    0.2   -0.4   -0.263 -0.4\n",
      " -0.8   -0.     0.1    0.4    0.9  ]\n",
      "CD_y error at height 32:\n",
      " [-0.2    0.2   -0.1    0.759 -1.3    0.183 -0.1   -0.5   -0.22  -2.246 -0.    -0.     0.72  -0.\n",
      "  0.2    0.2   -0.     0.2   -0.1  ]\n",
      "CD_x error at height 40:\n",
      " [ 0.8 -0.1 -1.3 -0.3  0.2  0.1 -0.3 -0.  -0.2  0.2  0.1 -0.  -0.   0.1 -0.1 -0.4 -0.2  1.   0.5]\n",
      "CD_y error at height 40:\n",
      " [-0.    -0.403 -1.9    0.1   -0.9   -0.021 -0.059 -0.077 -0.    -0.    -0.159  0.149 -0.     0.307\n",
      " -0.1    0.1   -0.1   -0.2   -0.6  ]\n",
      "CD_x error at height 48:\n",
      " [-0.    -0.524  0.2    0.    -0.1   -0.7   -0.     0.162 -0.5   -0.1    0.1   -0.     0.041 -0.179\n",
      "  0.1   -0.    -0.    -0.     3.8  ]\n",
      "CD_y error at height 48:\n",
      " [ 3.8   -0.12  -0.6    0.5    0.376 -0.122 -0.    -0.5   -0.1    0.023 -0.1    0.1   -0.059  0.1\n",
      "  0.103 -0.3    0.    -0.668 -0.   ]\n",
      "CD_x error at height 56:\n",
      " [ 0.1    0.1   -0.    -0.    -1.012 -0.6   -0.8    1.     0.597 -0.     0.1    0.     0.1   -1.1\n",
      " -0.246 -0.1   -0.583  1.1    3.8  ]\n",
      "CD_y error at height 56:\n",
      " [ 3.8   -0.5    0.216 -0.    -1.6    0.1    0.036  0.063 -0.532 -0.     0.    -0.2    0.     0.1\n",
      "  0.3   -0.    -0.218  0.1   -0.   ]\n",
      "CD_x error at height 64:\n",
      " [-0.  -0.1 -0.   0.5 -0.   0.5  0.2 -0.  -0.3  1.2  0.1 -0.   0.2  0.  -0.  -0.  -0.2 -0.   2.7]\n",
      "CD_y error at height 64:\n",
      " [ 3.5    0.1   -0.7   -0.    -0.    -0.    -0.    -0.159 -0.1   -0.    -0.    -0.    -0.4   -0.\n",
      " -0.    -0.    -0.9   -0.48   0.   ]\n"
     ]
    },
    {
     "name": "stderr",
     "output_type": "stream",
     "text": [
      "\r",
      "  5%|▌         | 1/20 [04:45<1:30:21, 285.36s/it]"
     ]
    },
    {
     "name": "stdout",
     "output_type": "stream",
     "text": [
      "Contact 18 in 72-CD_x_pred is redundant, with info [-957.098  927.196   11.301]\n",
      "CD_x error at height 72:\n",
      " [ 1.531  1.9    1.4    1.7    1.145  1.391  0.856  1.2    0.2    1.4    0.3    1.973  2.1    1.\n",
      "  0.4    0.8    1.2    1.3   11.301]\n",
      "Contact 0 in 72-CD_y_pred is redundant, with info [-951.498  922.868    9.328]\n",
      "CD_y error at height 72:\n",
      " [ 9.328  2.1    2.749  2.     2.7    1.3    3.3    2.8   -0.     2.623  3.776  3.138 -0.     3.7\n",
      "  3.     3.     4.4    2.186  2.8  ]\n",
      "CD_RMSE for label 0: [3.02  1.316]\n",
      "../dataset_train_v1/0081Acid_ini Read in 0.13 s\n",
      "../dataset_train_v1/0081Inhibitor Read in 0.13 s\n",
      "RMSE for label 1: [0.006 0.627]\n",
      "NMSE for label 1: [6.656 1.577]\n",
      "NMSE_height for label 1: [6.808 1.513]\n"
     ]
    },
    {
     "name": "stderr",
     "output_type": "stream",
     "text": [
      "<<<\n",
      "time:\t0.162238s\n",
      "<<<\n"
     ]
    },
    {
     "name": "stdout",
     "output_type": "stream",
     "text": [
      "\n",
      "!Start to clear memory\n"
     ]
    },
    {
     "name": "stderr",
     "output_type": "stream",
     "text": [
      "<<<\n",
      "time:\t0.164497s\n",
      "<<<\n"
     ]
    },
    {
     "name": "stdout",
     "output_type": "stream",
     "text": [
      "\n",
      "!Start to clear memory\n",
      "CD_x error at height 0:\n",
      " [-0.1    0.     0.    -0.    -0.1    0.248  1.3    0.1    0.1    0.4   -0.3   -0.     0.469 -0.\n",
      " -1.     0.2    0.8   -0.2    1.2   -2.7  ]\n",
      "CD_y error at height 0:\n",
      " [-0.     0.814  2.8    0.134  1.566 38.652  1.04   1.3    0.1   -0.074 -0.     0.023  0.754  0.245\n",
      "  3.9    0.8    2.1    0.255 -0.    -3.96  -0.153]\n",
      "CD_x error at height 8:\n",
      " [-0.2   -0.1   -0.7   -0.9   -0.1   -0.943  1.3   -1.2    1.3    1.5   -0.    -1.1   -0.    -0.\n",
      "  0.1    0.1   -1.1    0.4   -0.    -3.9  ]\n",
      "CD_y error at height 8:\n",
      " [-0.1    1.647 -0.63   0.046 -0.044  0.796 -0.1    0.332  1.4   -0.     0.043  1.282  0.358 -1.6\n",
      "  0.429 -0.112  0.19  -0.     0.107 -0.2  ]\n",
      "Contact 16 in 16-CD_x_pred is redundant, with info [ 48.152 783.689   1.3  ]\n",
      "CD_x error at height 16:\n",
      " [ 0.1   -0.1    1.4   -0.154 -0.1   -0.237 -0.    -0.1    0.49   0.2   -1.3   -0.5   -0.5   -0.639\n",
      " -0.2    0.8    1.3   -0.174  0.1    0.    -0.   ]\n",
      "CD_y error at height 16:\n",
      " [ 0.2   -0.6   -0.277  0.211 -0.128 -0.033  0.059  0.088  0.539  0.038 -0.068 -0.157  0.166  1.738\n",
      "  1.148  0.     1.3   -0.082  0.056  0.099]\n",
      "CD_x error at height 24:\n",
      " [-0.9   -0.    -0.1   -0.    -0.1   -0.3   -0.063 -0.1   -0.     0.1   -0.2    1.     0.1    0.3\n",
      " -0.     0.1   -1.162  0.     0.4    0.2  ]\n",
      "CD_y error at height 24:\n",
      " [-0.338 -0.1   -0.48  -0.9   -0.057 -0.851 -0.134 -0.1   -0.1   -0.465 -0.029 -0.043  0.333 -0.2\n",
      "  1.8    0.6    0.336  0.1    0.153 -0.9  ]\n",
      "CD_x error at height 32:\n",
      " [-0.    -0.2   -0.1    0.1    0.1   -0.323 -0.1   -0.    -0.1    1.3    1.    -0.2    0.2    1.5\n",
      " -0.5   -0.1   -0.229  0.7   -0.3   -0.2  ]\n",
      "CD_y error at height 32:\n",
      " [ 1.288  0.483  0.143 -0.038  0.147 -0.3   -0.8   -0.1   -0.032  1.659 -0.3   -0.669 -0.4   -0.387\n",
      " -0.334  0.4    0.269 -0.07  -0.    -0.   ]\n",
      "CD_x error at height 40:\n",
      " [ 0.     0.2   -0.    -0.1   -0.    -0.3   -0.    -0.1   -0.    -0.1   -0.     0.063  0.1   -0.\n",
      " -0.     2.    -0.    -0.    -0.     4.1  ]\n",
      "CD_y error at height 40:\n",
      " [ 0.3    0.4   -0.256  0.1   -0.034  0.2    0.742  0.32   0.2    0.022  0.077 -0.1   -0.1    0.707\n",
      " -1.907  0.053 -0.    -0.139  0.     0.5  ]\n",
      "CD_x error at height 48:\n",
      " [-0.   -0.   -0.    0.1  -0.   -0.1   0.1  -0.   -0.1  -0.   -0.   -0.   -0.   -0.   -0.1   0.\n",
      " -0.   -0.9  -0.15  3.9 ]\n",
      "CD_y error at height 48:\n",
      " [ 4.    -0.266 -0.112  0.467 -1.808 -1.1    0.2    0.412 -0.2   -0.883  0.2   -1.4   -0.9   -0.1\n",
      " -1.3   -0.456 -1.1   -0.085 -0.1    0.5  ]\n",
      "CD_x error at height 56:\n",
      " [ 1.     0.    -0.    -0.1    0.3   -0.     0.2    0.1   -0.1   -0.     0.105 -0.    -0.7   -0.\n",
      " -0.    -0.    -0.    -0.    -0.     3.8  ]\n",
      "CD_y error at height 56:\n",
      " [ 6.    -0.251 -0.     0.592 -0.089 -0.8    0.    -0.2   -0.    -0.067 -0.    -0.1   -0.197 -1.4\n",
      " -0.003 -0.1   -0.    -0.1   -0.     0.   ]\n",
      "CD_x error at height 64:\n",
      " [ 0.1    0.1   -0.1   -0.    -0.2    1.    -0.4    0.1    0.1   -0.     0.     0.1   -0.3    0.152\n",
      " -0.     0.167 -0.053  1.2   -0.2    4.1  ]\n",
      "CD_y error at height 64:\n",
      " [ 7.8    0.3   -0.3   -0.    -0.1   -0.1   -0.     0.1   -0.1   -0.     0.1   -0.044 -0.1   -0.1\n",
      " -0.    -0.5   -0.1   -0.    -0.    -0.   ]\n"
     ]
    },
    {
     "name": "stderr",
     "output_type": "stream",
     "text": [
      "\r",
      " 10%|█         | 2/20 [09:30<1:25:37, 285.44s/it]"
     ]
    },
    {
     "name": "stdout",
     "output_type": "stream",
     "text": [
      "Contact 19 in 72-CD_x_pred is redundant, with info [-957.798  939.997    4.4  ]\n",
      "Contact 20 in 72-CD_x_pred is redundant, with info [-956.132  945.097    1.434]\n",
      "CD_x error at height 72:\n",
      " [ 1.5    0.5    0.7    1.5    1.7    0.8    2.4    2.8    0.8    0.     1.3    1.8    1.5    0.237\n",
      "  2.2    1.354 -0.     1.456  0.3    4.4    1.434]\n",
      "Contact 0 in 72-CD_y_pred is redundant, with info [-955.698  934.097   11.101]\n",
      "CD_y error at height 72:\n",
      " [11.101  2.44   3.089  2.6    1.8    2.4    3.4    1.735  3.358 -0.2    2.2   -0.     2.1    2.6\n",
      "  3.2    3.3    1.9    3.633  2.552  2.4  ]\n",
      "CD_RMSE for label 1: [0.971 3.119]\n",
      "../dataset_train_v1/0082Acid_ini Read in 0.13 s\n",
      "../dataset_train_v1/0082Inhibitor Read in 0.12 s\n",
      "RMSE for label 2: [0.004 0.372]\n",
      "NMSE for label 2: [6.894 0.931]\n",
      "NMSE_height for label 2: [6.871 0.883]\n"
     ]
    },
    {
     "name": "stderr",
     "output_type": "stream",
     "text": [
      "<<<\n",
      "time:\t0.160675s\n",
      "<<<\n"
     ]
    },
    {
     "name": "stdout",
     "output_type": "stream",
     "text": [
      "\n",
      "!Start to clear memory\n",
      "\n",
      "!Start to clear memory\n"
     ]
    },
    {
     "name": "stderr",
     "output_type": "stream",
     "text": [
      "<<<\n",
      "time:\t0.152502s\n",
      "<<<\n"
     ]
    },
    {
     "name": "stdout",
     "output_type": "stream",
     "text": [
      "CD_x error at height 0:\n",
      " [ 0.1 -0.5 -0.3  0.2 -0.1  0.1  0.8  0. ]\n",
      "CD_y error at height 0:\n",
      " [ 1.6    0.085  0.1    0.1   -1.9    0.9   -0.1    1.1  ]\n",
      "CD_x error at height 8:\n",
      " [-0.1   -0.     0.3   -0.1    0.6    0.151  0.3   -0.108]\n",
      "CD_y error at height 8:\n",
      " [-0.101  0.6    0.132 -0.099 -0.15   0.038 -0.502 -1.451]\n",
      "CD_x error at height 16:\n",
      " [ 0.3   -0.6   -0.332  0.1   -0.1   -0.     1.011 -0.   ]\n",
      "CD_y error at height 16:\n",
      " [-0.    -0.     0.032  0.093  1.115 -0.334  0.7    2.049]\n",
      "CD_x error at height 24:\n",
      " [-0.2   -1.4   -0.3   -0.1    0.1    0.8    0.2   -0.072]\n",
      "CD_y error at height 24:\n",
      " [ 0.513  0.4    0.7   -0.1   -0.757 -0.1    0.9    0.437]\n",
      "CD_x error at height 32:\n",
      " [-0.    -1.1   -0.5    0.1    0.1   -0.    -1.    -0.188]\n",
      "CD_y error at height 32:\n",
      " [ 0.584  0.179  1.1   -0.596 -1.444  0.495 -0.456 -0.133]\n",
      "CD_x error at height 40:\n",
      " [-0.   1.  -0.1 -0.  -0.   0.8  0.1  0.5]\n",
      "CD_y error at height 40:\n",
      " [ 0.035 -0.1    0.282 -0.     0.1   -0.5    0.247  0.044]\n",
      "CD_x error at height 48:\n",
      " [-0.    -0.8   -0.9   -0.9    0.1   -0.    -0.     1.281]\n",
      "CD_y error at height 48:\n",
      " [ 0.1    0.534 -0.     0.5   -0.    -0.4   -1.2    0.458]\n",
      "CD_x error at height 56:\n",
      " [ 0.    -0.2    0.    -0.271  0.1   -0.06   0.2    0.6  ]\n",
      "CD_y error at height 56:\n",
      " [ 0.7   -0.     0.    -0.     0.3    0.3   -0.301  0.12 ]\n",
      "CD_x error at height 64:\n",
      " [-0.  -0.3  0.1 -0.   0.3 -0.4 -0.  -0. ]\n",
      "CD_y error at height 64:\n",
      " [-0.228 -0.    -0.    -0.     0.1    0.2   -0.3   -0.116]\n"
     ]
    },
    {
     "name": "stderr",
     "output_type": "stream",
     "text": [
      "\r",
      " 15%|█▌        | 3/20 [13:59<1:18:43, 277.87s/it]"
     ]
    },
    {
     "name": "stdout",
     "output_type": "stream",
     "text": [
      "CD_x error at height 72:\n",
      " [ 1.071 -1.029  2.2   -0.     0.9    1.8    1.629  0.1  ]\n",
      "CD_y error at height 72:\n",
      " [ 3.5    3.342  2.54   3.019 -0.047  1.5    2.5    3.878]\n",
      "CD_RMSE for label 2: [0.602 1.063]\n",
      "../dataset_train_v1/0083Acid_ini Read in 0.13 s\n",
      "../dataset_train_v1/0083Inhibitor Read in 0.13 s\n",
      "RMSE for label 3: [0.005 0.525]\n",
      "NMSE for label 3: [6.635 1.319]\n",
      "NMSE_height for label 3: [6.661 1.256]\n"
     ]
    },
    {
     "name": "stderr",
     "output_type": "stream",
     "text": [
      "<<<\n",
      "time:\t0.16165s\n",
      "<<<\n"
     ]
    },
    {
     "name": "stdout",
     "output_type": "stream",
     "text": [
      "\n",
      "!Start to clear memory\n",
      "\n",
      "!Start to clear memory\n"
     ]
    },
    {
     "name": "stderr",
     "output_type": "stream",
     "text": [
      "<<<\n",
      "time:\t0.155016s\n",
      "<<<\n"
     ]
    },
    {
     "name": "stdout",
     "output_type": "stream",
     "text": [
      "CD_x error at height 0:\n",
      " [ 0.1   -0.052 -0.1   -0.1    0.3    0.4    0.8   -0.    -0.     0.1    0.2   -0.4    0.4    0.1\n",
      " -0.   ]\n",
      "CD_y error at height 0:\n",
      " [ 0.9    0.1   -0.1   -0.309  0.445  0.341  0.193  0.124  0.187 -0.06   0.005  0.     0.2    0.2\n",
      " -0.   ]\n",
      "CD_x error at height 8:\n",
      " [-0.    -0.2    1.    -0.1   -0.     0.3    0.177 -1.1   -0.06  -0.    -0.     0.047 -0.    -0.\n",
      "  0.1  ]\n",
      "CD_y error at height 8:\n",
      " [ 0.1   -0.181  0.7   -0.181  0.084 -0.     0.218 -0.239 -0.    -0.2   -0.292 -0.571  0.1   -0.297\n",
      " -0.271]\n",
      "CD_x error at height 16:\n",
      " [ 0.1 -0.  -0.  -0.   0.6 -0.7  0.7 -0.1  0.1 -1.2 -1.2 -1.6 -0.1 -0.1  0. ]\n",
      "CD_y error at height 16:\n",
      " [ 0.122  0.6    0.1   -0.     0.5    0.072 -0.8    1.3    0.297 -0.155 -0.     1.342  0.373  0.253\n",
      " -1.5  ]\n",
      "CD_x error at height 24:\n",
      " [ 0.     0.1   -0.9    0.1    0.1   -0.     1.    -0.1   -0.     0.    -0.256 -0.239  0.061 -0.\n",
      " -0.   ]\n",
      "CD_y error at height 24:\n",
      " [ 0.3   -0.2   -0.666 -0.051 -0.5   -0.5    3.3   -0.1   -0.    -0.045  0.065 -0.016 -0.019  0.193\n",
      " -0.009]\n",
      "CD_x error at height 32:\n",
      " [ 0.1   -0.     0.     0.183 -1.2   -1.3    0.8   -1.1   -0.1   -0.     0.508  0.162  0.4   -0.1\n",
      "  0.1  ]\n",
      "CD_y error at height 32:\n",
      " [ 0.     0.6   -0.    -0.     0.3   -0.006  0.1   -0.1    0.134  2.4   -0.2   -0.072 -0.023 -0.528\n",
      " -1.8  ]\n",
      "CD_x error at height 40:\n",
      " [-0.1  0.1  0.1  0.1 -0.   0.2  0.4 -0.  -0.  -0.8 -0.  -1.5 -1.6 -0.1 -0.1]\n",
      "CD_y error at height 40:\n",
      " [ 0.254 -2.014 -0.192  0.3    0.3    0.047 -0.04   1.752  1.5   -0.3    0.078 -0.1    0.276 -0.126\n",
      " -0.   ]\n",
      "CD_x error at height 48:\n",
      " [-0.    -0.2   -0.     0.054 -0.228 -1.    -0.1   -0.     0.1   -0.9   -0.1   -1.2    0.    -0.\n",
      "  0.   ]\n",
      "CD_y error at height 48:\n",
      " [-0.854  0.343 -0.1   -0.197  0.6   -0.2   -0.021 -0.8    0.2    0.1    0.1   -0.     0.1   -0.\n",
      " -0.   ]\n",
      "CD_x error at height 56:\n",
      " [-0.     0.    -0.    -0.    -0.    -0.7    0.149 -0.436 -0.    -0.9   -0.1   -0.     0.2   -1.1\n",
      "  0.1  ]\n",
      "CD_y error at height 56:\n",
      " [ 0.3   -0.7   -0.1   -0.1   -0.    -0.3    0.    -0.174 -0.9   -0.    -0.4   -0.     1.3   -0.3\n",
      "  0.   ]\n",
      "CD_x error at height 64:\n",
      " [ 1.2  0.1 -0.1  2.6 -2.   1.4 -1.1  1.1 -0.  -0.1 -0.8 -0.  -1.2  0.1  0.5]\n",
      "CD_y error at height 64:\n",
      " [-0.049 -0.2    0.1   -0.316  0.04  -0.    -0.    -0.1    0.358 -1.1   -0.    -0.053 -0.     0.061\n",
      " -0.119]\n"
     ]
    },
    {
     "name": "stderr",
     "output_type": "stream",
     "text": [
      "\r",
      " 20%|██        | 4/20 [18:38<1:14:11, 278.22s/it]"
     ]
    },
    {
     "name": "stdout",
     "output_type": "stream",
     "text": [
      "CD_x error at height 72:\n",
      " [1.748 2.3   1.1   1.062 2.3   2.2   2.127 1.25  0.3   0.4   2.4   0.2   0.9   0.27  1.7  ]\n",
      "CD_y error at height 72:\n",
      " [ 3.64   3.11   2.5    2.8    2.7    2.2    3.4   -0.164  2.161 -0.033  1.5    3.7    0.     3.24\n",
      "  3.2  ]\n",
      "CD_RMSE for label 3: [0.755 1.003]\n",
      "../dataset_train_v1/0084Acid_ini Read in 0.13 s\n",
      "../dataset_train_v1/0084Inhibitor Read in 0.12 s\n",
      "RMSE for label 4: [0.003 0.237]\n",
      "NMSE for label 4: [7.658 0.593]\n",
      "NMSE_height for label 4: [7.243 0.565]\n"
     ]
    },
    {
     "name": "stderr",
     "output_type": "stream",
     "text": [
      "<<<\n",
      "time:\t0.15511s\n",
      "<<<\n"
     ]
    },
    {
     "name": "stdout",
     "output_type": "stream",
     "text": [
      "\n",
      "!Start to clear memory\n",
      "\n",
      "!Start to clear memory\n"
     ]
    },
    {
     "name": "stderr",
     "output_type": "stream",
     "text": [
      "<<<\n",
      "time:\t0.138984s\n",
      "<<<\n"
     ]
    },
    {
     "name": "stdout",
     "output_type": "stream",
     "text": [
      "CD_x error at height 0:\n",
      " [ 0.7 -0.  -0. ]\n",
      "CD_y error at height 0:\n",
      " [0.159 0.174 0.802]\n",
      "CD_x error at height 8:\n",
      " [ 0.1 -1.3 -0. ]\n",
      "CD_y error at height 8:\n",
      " [-0.2    0.129  0.48 ]\n",
      "CD_x error at height 16:\n",
      " [0.1 0.2 0. ]\n",
      "CD_y error at height 16:\n",
      " [-0.   0.3 -0. ]\n",
      "CD_x error at height 24:\n",
      " [ 0.1 -0.3 -0.1]\n",
      "CD_y error at height 24:\n",
      " [-0.1    0.072 -0.1  ]\n",
      "CD_x error at height 32:\n",
      " [-0.339  0.1   -0.7  ]\n",
      "CD_y error at height 32:\n",
      " [ 0.166  0.473 -0.2  ]\n",
      "CD_x error at height 40:\n",
      " [-0.1 -0.6  0.1]\n",
      "CD_y error at height 40:\n",
      " [-0.1    0.048 -0.1  ]\n",
      "CD_x error at height 48:\n",
      " [ 0.1 -0.  -0.2]\n",
      "CD_y error at height 48:\n",
      " [ 0.066 -0.053  0.1  ]\n",
      "CD_x error at height 56:\n",
      " [-0. -0. -0.]\n",
      "CD_y error at height 56:\n",
      " [0.1   0.182 0.4  ]\n",
      "CD_x error at height 64:\n",
      " [-0.   0.   1.2]\n",
      "CD_y error at height 64:\n",
      " [-0.     0.063 -0.104]\n"
     ]
    },
    {
     "name": "stderr",
     "output_type": "stream",
     "text": [
      "\r",
      " 25%|██▌       | 5/20 [23:02<1:08:18, 273.22s/it]"
     ]
    },
    {
     "name": "stdout",
     "output_type": "stream",
     "text": [
      "CD_x error at height 72:\n",
      " [1.412 2.    1.1  ]\n",
      "CD_y error at height 72:\n",
      " [ 1.732 -0.1    2.5  ]\n",
      "CD_RMSE for label 4: [0.634 0.603]\n",
      "../dataset_train_v1/0085Acid_ini Read in 0.12 s\n",
      "../dataset_train_v1/0085Inhibitor Read in 0.12 s\n",
      "RMSE for label 5: [0.004 0.433]\n",
      "NMSE for label 5: [6.621 1.086]\n",
      "NMSE_height for label 5: [6.645 1.034]\n",
      "\n",
      "!Start to clear memory\n"
     ]
    },
    {
     "name": "stderr",
     "output_type": "stream",
     "text": [
      "<<<\n",
      "time:\t0.182402s\n",
      "<<<\n",
      "<<<\n",
      "time:\t0.172759s\n",
      "<<<\n"
     ]
    },
    {
     "name": "stdout",
     "output_type": "stream",
     "text": [
      "\n",
      "!Start to clear memory\n",
      "CD_x error at height 0:\n",
      " [ 0.1   0.8   0.    1.3  -0.1   1.4   0.1  -0.    0.7  -0.28]\n",
      "CD_y error at height 0:\n",
      " [-0.2    0.9    0.06   0.7    1.476  1.6   -0.1    0.2    0.127 -0.   ]\n",
      "CD_x error at height 8:\n",
      " [-0.  -0.1 -0.   0.8 -0.   1.6  0.1 -0.1  0.  -0. ]\n",
      "CD_y error at height 8:\n",
      " [-0.533  1.2   38.602  2.569  0.9   -0.6   -0.1    0.332  0.012  0.08   0.042]\n",
      "CD_x error at height 16:\n",
      " [-0.5    0.1    0.9   -0.088  0.1    0.2    0.1    0.1   -0.2   -0.1  ]\n",
      "CD_y error at height 16:\n",
      " [ 0.    -0.882  1.439 -0.579  0.069  0.545  1.925  0.1    1.278 -0.036]\n",
      "CD_x error at height 24:\n",
      " [ 1.    -1.2   -0.     0.794  0.1   -0.8   -0.1    0.1    0.2    0.4  ]\n",
      "CD_y error at height 24:\n",
      " [-0.527 -0.    -0.1   -0.4   -0.35  -0.8   -0.4    0.623 -0.084 -0.039]\n",
      "CD_x error at height 32:\n",
      " [ 1.1    0.1   -0.442  0.6    0.46   0.1   -0.486 -0.    -0.1   -0.3  ]\n",
      "CD_y error at height 32:\n",
      " [-3.4    0.9   -0.1    0.08   0.385 -0.251  0.898  0.1    0.348 -1.2  ]\n",
      "CD_x error at height 40:\n",
      " [ 0.7 -0.  -1.  -0.2 -1.1  0.  -0.2 -0.4 -0.   1. ]\n",
      "CD_y error at height 40:\n",
      " [-0.     1.437  0.6   -0.2   -0.2    0.235 -0.    -0.1    0.3   -0.196]\n",
      "CD_x error at height 48:\n",
      " [ 0.2   -0.103  0.012 -0.1    0.511  0.    -0.    -0.     0.318 -0.   ]\n",
      "CD_y error at height 48:\n",
      " [ 0.087  0.146  0.561 -1.411 -0.1    0.14   0.1    0.1   -0.268  0.4  ]\n",
      "CD_x error at height 56:\n",
      " [-0.324  0.1    0.1    0.1   -0.    -0.1   -0.    -0.1   -0.1   -0.4  ]\n",
      "CD_y error at height 56:\n",
      " [ 0.062 -0.25   0.2   -0.17  -0.     0.003 -0.1    1.1   -0.     0.3  ]\n",
      "CD_x error at height 64:\n",
      " [ 0.53  -0.2   -0.     0.1   -0.765  0.3   -0.     0.4   -0.    -0.   ]\n",
      "CD_y error at height 64:\n",
      " [ 0.1   -0.1   -0.    -0.2   -0.     0.081  0.     0.     0.1    0.1  ]\n"
     ]
    },
    {
     "name": "stderr",
     "output_type": "stream",
     "text": [
      "\r",
      " 30%|███       | 6/20 [27:34<1:03:36, 272.60s/it]"
     ]
    },
    {
     "name": "stdout",
     "output_type": "stream",
     "text": [
      "CD_x error at height 72:\n",
      " [2.419 1.1   2.2   0.7   1.5   1.9   1.2   1.4   2.3   1.2  ]\n",
      "CD_y error at height 72:\n",
      " [ 1.9    2.2    2.943 -0.581  2.949  2.4    2.8    1.154  3.6    3.753]\n",
      "CD_RMSE for label 5: [0.706 3.988]\n",
      "../dataset_train_v1/0086Acid_ini Read in 0.12 s\n",
      "../dataset_train_v1/0086Inhibitor Read in 0.12 s\n",
      "RMSE for label 6: [0.003 0.292]\n",
      "NMSE for label 6: [9.88 0.73]\n",
      "NMSE_height for label 6: [9.714 0.712]\n",
      "\n",
      "!Start to clear memory\n"
     ]
    },
    {
     "name": "stderr",
     "output_type": "stream",
     "text": [
      "<<<\n",
      "time:\t0.127071s\n",
      "<<<\n"
     ]
    },
    {
     "name": "stdout",
     "output_type": "stream",
     "text": [
      "\n",
      "!Start to clear memory\n"
     ]
    },
    {
     "name": "stderr",
     "output_type": "stream",
     "text": [
      "<<<\n",
      "time:\t0.12456s\n",
      "<<<\n"
     ]
    },
    {
     "name": "stdout",
     "output_type": "stream",
     "text": [
      "CD_x error at height 0:\n",
      " [-0.3   -0.256 -2.1  ]\n",
      "CD_y error at height 0:\n",
      " [ 0.1   -0.7    0.171]\n",
      "CD_x error at height 8:\n",
      " [-1.3 -0.   1. ]\n",
      "CD_y error at height 8:\n",
      " [-1.2   -0.8   -0.119]\n",
      "CD_x error at height 16:\n",
      " [-0.2  0.2  0.1]\n",
      "CD_y error at height 16:\n",
      " [-0.282  0.089 -0.016]\n",
      "CD_x error at height 24:\n",
      " [-0. -0. -0.]\n",
      "CD_y error at height 24:\n",
      " [-0.046 -0.3   -0.556]\n",
      "CD_x error at height 32:\n",
      " [-0.  -0.   0.3]\n",
      "CD_y error at height 32:\n",
      " [ 0.189 -2.642  0.301]\n",
      "CD_x error at height 40:\n",
      " [ 0.1 -0.   0.5]\n",
      "CD_y error at height 40:\n",
      " [-0.683 -0.043  0.748]\n",
      "CD_x error at height 48:\n",
      " [-0.    -0.244  4.3  ]\n",
      "CD_y error at height 48:\n",
      " [ 1.2  0.1 -0.8]\n",
      "CD_x error at height 56:\n",
      " [ 0.1 -0.   3.8]\n",
      "CD_y error at height 56:\n",
      " [ 7.2  0.1 -0.1]\n",
      "CD_x error at height 64:\n",
      " [ 0.7 -0.3  4. ]\n",
      "CD_y error at height 64:\n",
      " [ 8.07  0.   -0.  ]\n"
     ]
    },
    {
     "name": "stderr",
     "output_type": "stream",
     "text": [
      "\r",
      " 35%|███▌      | 7/20 [31:58<58:27, 269.81s/it]  "
     ]
    },
    {
     "name": "stdout",
     "output_type": "stream",
     "text": [
      "Contact 2 in 72-CD_x_pred is redundant, with info [-963.208   79.154    2.91 ]\n",
      "CD_x error at height 72:\n",
      " [2.5  1.1  2.91]\n",
      "Contact 0 in 72-CD_y_pred is redundant, with info [-961.898   77.803    2.551]\n",
      "CD_y error at height 72:\n",
      " [ 2.551 -0.1    2.572]\n",
      "CD_RMSE for label 6: [1.562 2.187]\n",
      "../dataset_train_v1/0087Acid_ini Read in 0.12 s\n",
      "../dataset_train_v1/0087Inhibitor Read in 0.12 s\n",
      "RMSE for label 7: [0.003 0.231]\n",
      "NMSE for label 7: [7.576 0.577]\n",
      "NMSE_height for label 7: [7.163 0.551]\n"
     ]
    },
    {
     "name": "stderr",
     "output_type": "stream",
     "text": [
      "<<<\n",
      "time:\t0.13515s\n",
      "<<<\n"
     ]
    },
    {
     "name": "stdout",
     "output_type": "stream",
     "text": [
      "\n",
      "!Start to clear memory\n",
      "\n",
      "!Start to clear memory\n"
     ]
    },
    {
     "name": "stderr",
     "output_type": "stream",
     "text": [
      "<<<\n",
      "time:\t0.128588s\n",
      "<<<\n"
     ]
    },
    {
     "name": "stdout",
     "output_type": "stream",
     "text": [
      "CD_x error at height 0:\n",
      " [ 1.2  0.1 -0.3]\n",
      "CD_y error at height 0:\n",
      " [-0.     0.066  0.612]\n",
      "CD_x error at height 8:\n",
      " [-0.5   -0.101  0.1  ]\n",
      "CD_y error at height 8:\n",
      " [-0.2    0.386  0.323]\n",
      "CD_x error at height 16:\n",
      " [-0.2    0.1   -0.245]\n",
      "CD_y error at height 16:\n",
      " [-0.129  0.    -2.1  ]\n",
      "CD_x error at height 24:\n",
      " [-0.1 -0.  -0. ]\n",
      "CD_y error at height 24:\n",
      " [-0.    -3.3    0.146]\n",
      "CD_x error at height 32:\n",
      " [-0.  -1.1 -0. ]\n",
      "CD_y error at height 32:\n",
      " [-0.188  0.6   -0.3  ]\n",
      "CD_x error at height 40:\n",
      " [ 0.289 -0.    -0.1  ]\n",
      "CD_y error at height 40:\n",
      " [0.1   0.674 0.3  ]\n",
      "CD_x error at height 48:\n",
      " [ 0.1 -0.  -0.1]\n",
      "CD_y error at height 48:\n",
      " [ 0.  -0.6 -0. ]\n",
      "CD_x error at height 56:\n",
      " [ 0.3 -0.  -0.1]\n",
      "CD_y error at height 56:\n",
      " [-0.167  0.3   -1.3  ]\n",
      "CD_x error at height 64:\n",
      " [-0.  -0.4  0.2]\n",
      "CD_y error at height 64:\n",
      " [-0. -0. -0.]\n"
     ]
    },
    {
     "name": "stderr",
     "output_type": "stream",
     "text": [
      "\r",
      " 40%|████      | 8/20 [36:22<53:37, 268.10s/it]"
     ]
    },
    {
     "name": "stdout",
     "output_type": "stream",
     "text": [
      "CD_x error at height 72:\n",
      " [0.811 0.4   1.3  ]\n",
      "CD_y error at height 72:\n",
      " [2.353 1.641 1.164]\n",
      "CD_RMSE for label 7: [0.45 0.98]\n",
      "../dataset_train_v1/0088Acid_ini Read in 0.12 s\n",
      "../dataset_train_v1/0088Inhibitor Read in 0.12 s\n",
      "RMSE for label 8: [0.004 0.329]\n",
      "NMSE for label 8: [6.928 0.823]\n",
      "NMSE_height for label 8: [6.809 0.781]\n",
      "\n",
      "!Start to clear memory\n"
     ]
    },
    {
     "name": "stderr",
     "output_type": "stream",
     "text": [
      "<<<\n",
      "time:\t0.157394s\n",
      "<<<\n",
      "<<<\n",
      "time:\t0.149151s\n",
      "<<<\n"
     ]
    },
    {
     "name": "stdout",
     "output_type": "stream",
     "text": [
      "\n",
      "!Start to clear memory\n",
      "CD_x error at height 0:\n",
      " [-0.    -0.    -0.     0.    -0.     0.971]\n",
      "CD_y error at height 0:\n",
      " [-0.125 -0.2    0.141  0.1    0.185  0.484]\n",
      "CD_x error at height 8:\n",
      " [-0.   -0.   -0.1  -0.6   0.4  -0.48]\n",
      "CD_y error at height 8:\n",
      " [-0.1    1.3    0.065 -0.263  0.1   -0.957]\n",
      "CD_x error at height 16:\n",
      " [-0.2  -0.1   0.2  -0.1  -0.3  -0.34]\n",
      "CD_y error at height 16:\n",
      " [-0.169  0.055  0.153 -2.936 -0.185  1.941]\n",
      "CD_x error at height 24:\n",
      " [ 0.6 -0.  -0.1 -0.   0.1 -0.1]\n",
      "CD_y error at height 24:\n",
      " [-0.1 -0.  -1.6 -1.6 -0.2 -0. ]\n",
      "CD_x error at height 32:\n",
      " [-0.441 -0.1   -0.1   -0.4    0.1   -0.   ]\n",
      "CD_y error at height 32:\n",
      " [ 0.238  0.167 -0.088 -0.051 -0.02   0.7  ]\n",
      "CD_x error at height 40:\n",
      " [-0.4  -1.3  -0.1  -0.1   0.5  -0.35]\n",
      "CD_y error at height 40:\n",
      " [ 0.9    0.3    0.141 -0.     0.5   -0.147]\n",
      "CD_x error at height 48:\n",
      " [-1.2   -0.952 -0.2    0.    -0.1   -0.2  ]\n",
      "CD_y error at height 48:\n",
      " [ 0.2   -0.     0.111 -0.2    0.1   -0.106]\n",
      "CD_x error at height 56:\n",
      " [ 0.5   -0.    -0.1    0.1    0.179  0.1  ]\n",
      "CD_y error at height 56:\n",
      " [-0.1   -0.    -0.5   -0.079  0.067 -0.9  ]\n",
      "CD_x error at height 64:\n",
      " [ 0.8  0.1 -0.   0.1 -0.1 -1.2]\n",
      "CD_y error at height 64:\n",
      " [-0.  -0.  -0.2  0.2 -0.   0.3]\n"
     ]
    },
    {
     "name": "stderr",
     "output_type": "stream",
     "text": [
      "\r",
      " 45%|████▌     | 9/20 [40:50<49:06, 267.84s/it]"
     ]
    },
    {
     "name": "stdout",
     "output_type": "stream",
     "text": [
      "CD_x error at height 72:\n",
      " [1.7   0.4   1.443 0.2   1.662 0.7  ]\n",
      "CD_y error at height 72:\n",
      " [ 5.     3.5   -0.     3.2    2.9    3.507]\n",
      "CD_RMSE for label 8: [0.552 1.239]\n",
      "../dataset_train_v1/0089Acid_ini Read in 0.12 s\n",
      "../dataset_train_v1/0089Inhibitor Read in 0.12 s\n",
      "RMSE for label 9: [0.004 0.36 ]\n",
      "NMSE for label 9: [6.858 0.901]\n",
      "NMSE_height for label 9: [6.821 0.857]\n",
      "\n",
      "!Start to clear memory\n"
     ]
    },
    {
     "name": "stderr",
     "output_type": "stream",
     "text": [
      "<<<\n",
      "time:\t0.172142s\n",
      "<<<\n"
     ]
    },
    {
     "name": "stdout",
     "output_type": "stream",
     "text": [
      "\n",
      "!Start to clear memory\n"
     ]
    },
    {
     "name": "stderr",
     "output_type": "stream",
     "text": [
      "<<<\n",
      "time:\t0.163086s\n",
      "<<<\n"
     ]
    },
    {
     "name": "stdout",
     "output_type": "stream",
     "text": [
      "CD_x error at height 0:\n",
      " [ 0.654 -0.3   -0.4    0.563 -0.    -0.5    0.   ]\n",
      "CD_y error at height 0:\n",
      " [-0.     0.2   -0.    -0.     1.1   -0.1    0.194]\n",
      "CD_x error at height 8:\n",
      " [-0.  -0.2 -0.3  0.1  0.  -0.  -0. ]\n",
      "CD_y error at height 8:\n",
      " [ 1.009  2.375  0.4   38.176 -0.2   -0.1   -0.094  0.623]\n",
      "CD_x error at height 16:\n",
      " [ 0.1 -0.  -0.   0.4 -0.   0.5 -0. ]\n",
      "CD_y error at height 16:\n",
      " [ 0.14   0.127 -0.313  0.1    1.6    0.172 -0.116]\n",
      "CD_x error at height 24:\n",
      " [ 0.061  0.1    0.7    0.     1.3   -0.2   -0.   ]\n",
      "CD_y error at height 24:\n",
      " [-2.193 -0.    -0.138  0.236 -0.8   -0.135 -0.147]\n",
      "CD_x error at height 32:\n",
      " [-0.4    0.1    1.1    0.073 -0.1   -1.1   -0.1  ]\n",
      "CD_y error at height 32:\n",
      " [ 0.    -0.     0.693  0.132  1.4   -2.3    0.6  ]\n",
      "CD_x error at height 40:\n",
      " [ 0.75   0.8   -0.     0.1   -0.5    0.9    0.074]\n",
      "CD_y error at height 40:\n",
      " [ 1.161  0.9   -0.     0.1    0.     0.2    0.26 ]\n",
      "CD_x error at height 48:\n",
      " [-0.1   -0.5   -0.1   -0.244 -0.1    0.9   -0.2  ]\n",
      "CD_y error at height 48:\n",
      " [-0.614 -0.3    0.046 -0.1    0.1    0.1   -0.   ]\n",
      "CD_x error at height 56:\n",
      " [ 0.26   0.    -0.    -0.     0.251  0.    -0.015]\n",
      "CD_y error at height 56:\n",
      " [ 0.     0.1   -0.    -0.92   0.2   -0.078 -0.   ]\n",
      "CD_x error at height 64:\n",
      " [-0.3   -0.5   -1.038  0.1   -0.     0.1   -0.   ]\n",
      "CD_y error at height 64:\n",
      " [ 0.1 -1.3  0.1  0.1 -0.   0.1 -0. ]\n"
     ]
    },
    {
     "name": "stderr",
     "output_type": "stream",
     "text": [
      "\r",
      " 50%|█████     | 10/20 [45:18<44:39, 267.97s/it]"
     ]
    },
    {
     "name": "stdout",
     "output_type": "stream",
     "text": [
      "CD_x error at height 72:\n",
      " [2.1  0.8  1.7  3.   2.2  2.   0.78]\n",
      "CD_y error at height 72:\n",
      " [2.313 1.7   3.041 2.8   1.736 0.4   2.037]\n",
      "CD_RMSE for label 9: [0.738 4.628]\n",
      "../dataset_train_v1/0090Acid_ini Read in 0.12 s\n",
      "../dataset_train_v1/0090Inhibitor Read in 0.12 s\n",
      "RMSE for label 10: [0.004 0.389]\n",
      "NMSE for label 10: [7.106 0.976]\n",
      "NMSE_height for label 10: [7.114 0.932]\n",
      "\n",
      "!Start to clear memory\n"
     ]
    },
    {
     "name": "stderr",
     "output_type": "stream",
     "text": [
      "<<<\n",
      "time:\t0.16516s\n",
      "<<<\n",
      "<<<\n",
      "time:\t0.153053s\n",
      "<<<\n"
     ]
    },
    {
     "name": "stdout",
     "output_type": "stream",
     "text": [
      "\n",
      "!Start to clear memory\n",
      "CD_x error at height 0:\n",
      " [-0.    -0.     0.1    0.545 -0.341 -0.759  0.2    0.057]\n",
      "CD_y error at height 0:\n",
      " [ 0.1    0.349  0.585  0.3    4.3   -0.6   -0.018  0.9  ]\n",
      "CD_x error at height 8:\n",
      " [-0.644 -0.2   -0.3    0.358  0.3   -0.2    0.063  0.   ]\n",
      "CD_y error at height 8:\n",
      " [-1.037  0.2    0.347  0.406 -2.831 -2.     0.1   -1.   ]\n",
      "CD_x error at height 16:\n",
      " [-0.    -1.49   1.5    1.5    0.4   -0.    -0.083  0.5  ]\n",
      "CD_y error at height 16:\n",
      " [ 0.1    0.1    0.059  0.186 -0.059  1.6    1.3   -0.   ]\n",
      "CD_x error at height 24:\n",
      " [ 0.1   -1.4   -0.3   -1.154 -0.8   -0.    -0.9   -0.2  ]\n",
      "CD_y error at height 24:\n",
      " [-0.8    0.8    0.1   -0.     0.295 -0.    -1.172  1.   ]\n",
      "CD_x error at height 32:\n",
      " [ 0.7  -0.   -1.3   0.7   1.3  -0.   -0.85 -0.3 ]\n",
      "CD_y error at height 32:\n",
      " [-0.164 -1.     0.88   0.019 -0.169 -0.995  0.     0.149]\n",
      "CD_x error at height 40:\n",
      " [ 0.1 -0.1 -0.   0.9  0.3 -0.2  0.1 -0.1]\n",
      "CD_y error at height 40:\n",
      " [-0.9    0.     1.084 -0.    -0.208 -0.2   -0.164 -0.039]\n",
      "CD_x error at height 48:\n",
      " [ 0.  -0.1  0.1 -0.  -0.8  0.2 -1.4 -0. ]\n",
      "CD_y error at height 48:\n",
      " [ 0.488 -0.1    0.8   -0.2   -0.278  0.4   -0.15  -0.4  ]\n",
      "CD_x error at height 56:\n",
      " [-0.     0.064 -0.459 -0.    -1.2   -0.    -0.    -1.2  ]\n",
      "CD_y error at height 56:\n",
      " [ 0.     0.1   -0.1   -0.    -0.     0.499 -0.     0.069]\n",
      "CD_x error at height 64:\n",
      " [ 0.4 -0.   0.2 -0.   0.3  0.1  1.5  0.2]\n",
      "CD_y error at height 64:\n",
      " [-0.1  0.  -0.  -0.  -0.3 -0.   1.7  0. ]\n"
     ]
    },
    {
     "name": "stderr",
     "output_type": "stream",
     "text": [
      "\r",
      " 55%|█████▌    | 11/20 [49:47<40:16, 268.51s/it]"
     ]
    },
    {
     "name": "stdout",
     "output_type": "stream",
     "text": [
      "CD_x error at height 72:\n",
      " [ 3.206  1.6    3.6   -0.3    2.     1.4    0.948  4.1  ]\n",
      "CD_y error at height 72:\n",
      " [3.4   2.336 0.1   2.324 1.2   1.856 4.427 3.823]\n",
      "CD_RMSE for label 10: [0.987 1.193]\n",
      "../dataset_train_v1/0091Acid_ini Read in 0.12 s\n",
      "../dataset_train_v1/0091Inhibitor Read in 0.12 s\n",
      "RMSE for label 11: [0.005 0.447]\n",
      "NMSE for label 11: [6.614 1.122]\n",
      "NMSE_height for label 11: [6.662 1.07 ]\n",
      "\n",
      "!Start to clear memory\n"
     ]
    },
    {
     "name": "stderr",
     "output_type": "stream",
     "text": [
      "<<<\n",
      "time:\t0.185905s\n",
      "<<<\n",
      "<<<\n",
      "time:\t0.174415s\n",
      "<<<\n"
     ]
    },
    {
     "name": "stdout",
     "output_type": "stream",
     "text": [
      "\n",
      "!Start to clear memory\n",
      "CD_x error at height 0:\n",
      " [ 0.3  0.   0.4  0.4 -0.1  0.8  1.1 -0.1  0.4  0.1 -0.1]\n",
      "CD_y error at height 0:\n",
      " [ 0.099 -0.    -0.454  1.2    0.511  0.52  -1.1   -0.1   -0.6   -0.377  0.049]\n",
      "CD_x error at height 8:\n",
      " [ 0.     0.098  0.054  0.228 -0.    -0.1   -1.1   -0.1    0.16   0.023 -0.   ]\n",
      "CD_y error at height 8:\n",
      " [-0.277 -0.1   -0.387  0.068  1.295  1.178 -0.057  1.2   -0.2   -1.142  0.043]\n",
      "CD_x error at height 16:\n",
      " [-0.1 -0.  -0.6  1.   1.2 -0.2 -0.1 -0.  -0.  -0.3 -0.3]\n",
      "CD_y error at height 16:\n",
      " [ 0.199 -0.186  0.172 -0.113 -0.039 -0.1    0.628  0.3   -0.152 -1.    -0.8  ]\n",
      "CD_x error at height 24:\n",
      " [-0.     1.    -1.3    0.6   -0.1   -0.5   -0.5    0.319 -0.3   -0.035  0.1  ]\n",
      "CD_y error at height 24:\n",
      " [-0.7    0.1    1.2   -1.883  0.1    0.087  0.1   -0.1    1.3    0.254  2.2  ]\n",
      "CD_x error at height 32:\n",
      " [-1.4   -0.    -0.1    0.1   -0.3   -0.    -0.2   -0.995 -0.1    0.8    0.1  ]\n",
      "CD_y error at height 32:\n",
      " [-0.083  0.017 -0.035 -0.048 -0.053 -0.177  0.696  0.684  0.257 -1.342 -0.2  ]\n",
      "CD_x error at height 40:\n",
      " [-0.  -1.3 -0.2 -0.   1.2  0.1  0.8  0.4  0.6 -0.1 -0.1]\n",
      "CD_y error at height 40:\n",
      " [-0.     0.7    1.1   -0.215  0.3   -1.529  0.164  1.5    0.1    0.5   -0.4  ]\n",
      "CD_x error at height 48:\n",
      " [-0.9   -0.     0.1   -0.1   -0.    -0.7   -0.1   -0.    -0.    -0.242  0.1  ]\n",
      "CD_y error at height 48:\n",
      " [-0.028 -0.1   -0.075  0.    -2.4   -0.8    0.5   -0.11   0.1    1.1    0.1  ]\n",
      "CD_x error at height 56:\n",
      " [ 0.1   -0.8   -0.1   -0.416 -1.    -0.    -0.    -0.    -0.    -0.139  0.15 ]\n",
      "CD_y error at height 56:\n",
      " [ 0.6   -0.1   -0.134  0.9   -0.099 -0.224 -0.1    0.059  0.1   -0.    -1.6  ]\n",
      "CD_x error at height 64:\n",
      " [ 0.9    0.4   -0.     0.2   -0.2   -0.1    0.3    0.1   -0.    -0.088 -0.3  ]\n",
      "CD_y error at height 64:\n",
      " [-0.1    0.008  0.1   -0.    -1.    -0.1    0.1   -0.    -0.     0.1    0.28 ]\n"
     ]
    },
    {
     "name": "stderr",
     "output_type": "stream",
     "text": [
      "\r",
      " 60%|██████    | 12/20 [54:20<35:57, 269.66s/it]"
     ]
    },
    {
     "name": "stdout",
     "output_type": "stream",
     "text": [
      "CD_x error at height 72:\n",
      " [1.559 1.5   1.606 1.8   1.406 0.8   1.4   2.    2.1   2.    2.836]\n",
      "CD_y error at height 72:\n",
      " [ 1.611  2.6   -0.     2.9    2.5    2.6    2.7    1.733  3.323  2.3    1.9  ]\n",
      "CD_RMSE for label 11: [0.731 0.991]\n",
      "../dataset_train_v1/0092Acid_ini Read in 0.12 s\n",
      "../dataset_train_v1/0092Inhibitor Read in 0.12 s\n",
      "RMSE for label 12: [0.003 0.305]\n",
      "NMSE for label 12: [7.676 0.763]\n",
      "NMSE_height for label 12: [7.563 0.722]\n",
      "\n",
      "!Start to clear memory\n"
     ]
    },
    {
     "name": "stderr",
     "output_type": "stream",
     "text": [
      "<<<\n",
      "time:\t0.136585s\n",
      "<<<\n"
     ]
    },
    {
     "name": "stdout",
     "output_type": "stream",
     "text": [
      "\n",
      "!Start to clear memory\n"
     ]
    },
    {
     "name": "stderr",
     "output_type": "stream",
     "text": [
      "<<<\n",
      "time:\t0.143531s\n",
      "<<<\n"
     ]
    },
    {
     "name": "stdout",
     "output_type": "stream",
     "text": [
      "CD_x error at height 0:\n",
      " [-0.   0.2 -0.1  0.8  0.1]\n",
      "CD_y error at height 0:\n",
      " [ 0.186 -0.001 -0.298  0.029  0.565]\n",
      "CD_x error at height 8:\n",
      " [-0.2   -0.    -0.141  0.4   -0.8  ]\n",
      "CD_y error at height 8:\n",
      " [-2.161 -0.552  1.67  -0.082 -0.188]\n",
      "CD_x error at height 16:\n",
      " [-0.   0.1 -0.1  0.1 -0.2]\n",
      "CD_y error at height 16:\n",
      " [-0.1    0.1    0.635  0.1   -0.1  ]\n",
      "CD_x error at height 24:\n",
      " [-0.  -0.  -0.   1.   0.1]\n",
      "CD_y error at height 24:\n",
      " [ 0.067 -0.1    0.1   -0.212 -0.   ]\n",
      "CD_x error at height 32:\n",
      " [1.2 0.1 0.1 0.5 0.1]\n",
      "CD_y error at height 32:\n",
      " [-0.2    0.2   -1.1    0.1    0.304]\n",
      "CD_x error at height 40:\n",
      " [ 0.1   -0.246 -0.2    0.009 -0.   ]\n",
      "CD_y error at height 40:\n",
      " [ 0.1   -1.6   -0.459 -0.151  0.058]\n",
      "CD_x error at height 48:\n",
      " [ 0.     0.1   -0.413 -0.    -0.   ]\n",
      "CD_y error at height 48:\n",
      " [ 0.7 -0.6 -0.2 -0.  -0. ]\n",
      "CD_x error at height 56:\n",
      " [ 0.6 -0.   0.  -0.3  0.1]\n",
      "CD_y error at height 56:\n",
      " [-0.    -1.7   -0.    -0.015 -0.   ]\n",
      "CD_x error at height 64:\n",
      " [0.9   0.352 0.847 1.4   0.4  ]\n",
      "CD_y error at height 64:\n",
      " [-0.    -0.018 -0.     0.    -0.1  ]\n"
     ]
    },
    {
     "name": "stderr",
     "output_type": "stream",
     "text": [
      "\r",
      " 65%|██████▌   | 13/20 [58:46<31:20, 268.59s/it]"
     ]
    },
    {
     "name": "stdout",
     "output_type": "stream",
     "text": [
      "CD_x error at height 72:\n",
      " [1.872 1.8   2.    3.    0.716]\n",
      "CD_y error at height 72:\n",
      " [3.251 2.8   3.3   3.037 2.711]\n",
      "CD_RMSE for label 12: [0.763 1.119]\n",
      "../dataset_train_v1/0093Acid_ini Read in 0.11 s\n",
      "../dataset_train_v1/0093Inhibitor Read in 0.11 s\n",
      "RMSE for label 13: [0.005 0.452]\n",
      "NMSE for label 13: [6.624 1.135]\n",
      "NMSE_height for label 13: [6.677 1.082]\n",
      "\n",
      "!Start to clear memory\n"
     ]
    },
    {
     "name": "stderr",
     "output_type": "stream",
     "text": [
      "<<<\n",
      "time:\t0.163236s\n",
      "<<<\n"
     ]
    },
    {
     "name": "stdout",
     "output_type": "stream",
     "text": [
      "\n",
      "!Start to clear memory\n"
     ]
    },
    {
     "name": "stderr",
     "output_type": "stream",
     "text": [
      "<<<\n",
      "time:\t0.166771s\n",
      "<<<\n"
     ]
    },
    {
     "name": "stdout",
     "output_type": "stream",
     "text": [
      "Contact 9 in 0-CD_x_label is redundant, with info [ 20.151 387.569   1.1  ]\n",
      "CD_x error at height 0:\n",
      " [ 0.    -0.    -0.1    0.     0.2    0.     0.733  0.6    1.3   -1.1    0.1   -0.    38.102]\n",
      "CD_y error at height 0:\n",
      " [ 1.5    1.1    0.756  1.1   -0.3    0.98   1.159  0.143  0.2   -0.217 -0.956]\n",
      "CD_x error at height 8:\n",
      " [-1.4   -0.    -0.    -0.3    1.     1.7    0.034  1.043  0.2   -0.9   -0.949]\n",
      "CD_y error at height 8:\n",
      " [-3.377  0.177  0.4    1.1    1.2   -0.306  0.448 -0.149 -0.6    0.7    0.149]\n",
      "CD_x error at height 16:\n",
      " [-0.1   -0.     0.535  1.4    0.1   -0.334  0.    -0.114  0.    -0.055 -1.4  ]\n",
      "CD_y error at height 16:\n",
      " [ 0.074  0.535  0.1    0.202 -0.1    0.177  1.858 -0.155 -0.1    1.2    0.4  ]\n",
      "CD_x error at height 24:\n",
      " [ 0.1   -0.6   -0.    -0.    -0.4    0.7    0.6    0.2    0.335  0.    -0.5  ]\n",
      "CD_y error at height 24:\n",
      " [-0.    -0.1    0.024 -0.    -1.9   -0.4   -0.657 -1.9    0.2   -0.313 -0.   ]\n",
      "CD_x error at height 32:\n",
      " [ 0.5   -0.5   -0.     0.171 -0.182  0.6    0.1    0.5   -0.2   -1.6   -0.8  ]\n",
      "CD_y error at height 32:\n",
      " [-0.053 -0.8   -0.1   -1.9   -0.055  0.02   0.3   -0.4   -0.1   -0.086  0.286]\n",
      "CD_x error at height 40:\n",
      " [ 0.    -0.1    0.    -0.    -0.7   -0.9   -0.    -1.4   -0.154 -0.9   -0.1  ]\n",
      "CD_y error at height 40:\n",
      " [-0.4    0.1   -0.    -0.048  0.799  0.536 -0.053 -0.     1.4   -1.7    0.005]\n",
      "CD_x error at height 48:\n",
      " [-0.2   -1.046  0.2   -0.9    0.9   -0.4    0.1    0.1   -0.1   -0.8   -1.2  ]\n",
      "CD_y error at height 48:\n",
      " [ 0.57  -0.2   -0.3   -0.     0.     0.871  1.2    0.293 -0.3   -0.    -0.   ]\n",
      "CD_x error at height 56:\n",
      " [-0.1    1.    -0.022 -0.7    0.    -0.1    0.1   -0.8   -0.     0.1   -0.071]\n",
      "CD_y error at height 56:\n",
      " [-0.3    0.043 -0.     0.    -0.241  0.405 -0.568 -0.1   -0.    -0.2   -0.013]\n",
      "CD_x error at height 64:\n",
      " [-0.2 -0.3  1.   0.9 -0.   0.3 -0.  -0.1 -0.1 -0.   0. ]\n",
      "CD_y error at height 64:\n",
      " [-0.    -0.028 -0.8   -0.2   -0.727 -0.9   -0.201  0.1   -0.6   -0.1   -0.   ]\n"
     ]
    },
    {
     "name": "stderr",
     "output_type": "stream",
     "text": [
      "\r",
      " 70%|███████   | 14/20 [1:03:18<26:58, 269.75s/it]"
     ]
    },
    {
     "name": "stdout",
     "output_type": "stream",
     "text": [
      "CD_x error at height 72:\n",
      " [ 0.149  1.6    0.8   -0.     2.6   -0.8    1.5    1.1    1.     1.     1.7  ]\n",
      "CD_y error at height 72:\n",
      " [ 2.6    3.2    1.6    2.5    2.458 -0.     0.3   -0.5    2.3    2.2    3.   ]\n",
      "CD_RMSE for label 13: [3.669 0.979]\n",
      "../dataset_train_v1/0094Acid_ini Read in 0.12 s\n",
      "../dataset_train_v1/0094Inhibitor Read in 0.12 s\n",
      "RMSE for label 14: [0.008 0.743]\n",
      "NMSE for label 14: [9.793 1.865]\n",
      "NMSE_height for label 14: [9.746 1.792]\n",
      "\n",
      "!Start to clear memory\n"
     ]
    },
    {
     "name": "stderr",
     "output_type": "stream",
     "text": [
      "<<<\n",
      "time:\t0.168119s\n",
      "<<<\n"
     ]
    },
    {
     "name": "stdout",
     "output_type": "stream",
     "text": [
      "\n",
      "!Start to clear memory\n"
     ]
    },
    {
     "name": "stderr",
     "output_type": "stream",
     "text": [
      "<<<\n",
      "time:\t0.176475s\n",
      "<<<\n"
     ]
    },
    {
     "name": "stdout",
     "output_type": "stream",
     "text": [
      "Contact 16 in 0-CD_x_pred is redundant, with info [644.382 889.094   3.54 ]\n",
      "Contact 17 in 0-CD_x_pred is redundant, with info [652.553 893.195   4.03 ]\n",
      "Contact 18 in 0-CD_x_pred is redundant, with info [660.883 897.295   3.3  ]\n",
      "Contact 19 in 0-CD_x_pred is redundant, with info [666.083 901.395   2.7  ]\n",
      "Contact 20 in 0-CD_x_pred is redundant, with info [669.783 906.795   2.6  ]\n",
      "Contact 21 in 0-CD_x_pred is redundant, with info [584.718 918.096   1.962]\n",
      "CD_x error at height 0:\n",
      " [  0.      0.      0.1     1.      0.1     0.     -0.1     0.1     0.1     0.1     0.1     0.\n",
      "   0.122   0.1     0.1     1.5     3.54    4.03    3.3     2.7     2.6     1.962   1.318 -12.483\n",
      "  -3.175]\n",
      "Contact 13 in 0-CD_y_label is redundant, with info [636.982 922.196   1.   ]\n",
      "CD_y error at height 0:\n",
      " [ 0.2    0.2    2.3    0.178 -0.1   -0.372  1.05  -0.006 -0.548 -0.114  2.5   -0.    38.902 -1.\n",
      " 22.601 -0.    -0.042 -0.    -0.1  ]\n",
      "Contact 12 in 8-CD_x_pred is redundant, with info [655.071 703.285  16.513]\n",
      "CD_x error at height 8:\n",
      " [  0.2     0.      0.1    -0.4    -1.3     0.1     0.2     0.     -0.5    -1.      0.      0.1\n",
      "  16.513   0.      0.024  -0.4   -38.313   0.189]\n",
      "Contact 12 in 8-CD_y_label is redundant, with info [631.682 922.196   1.   ]\n",
      "CD_y error at height 8:\n",
      " [ 0.028  0.055 -0.045 -0.086  1.16   0.1    1.3    0.062 -0.05   0.75  -0.     1.1   -1.    20.901\n",
      "  0.328 -0.8   -0.98  -0.866]\n",
      "CD_x error at height 16:\n",
      " [ 0.4 -0.   0.1 -0.9 -0.   0.   1.6 -0.1  1.   0.5 -0.1  1.5  1.4  0.5  1.8 -0. ]\n",
      "CD_y error at height 16:\n",
      " [-0.916 -0.9    0.1    0.025  1.03  -2.3   -0.1   -0.    -0.2   -0.3    0.1    0.    -0.9   -0.7\n",
      " -0.3   -0.188]\n",
      "CD_x error at height 24:\n",
      " [-0.    -0.    -1.3    0.7   -0.2    0.5   -0.     0.1   -0.355 -0.     1.    -0.7   -0.1    0.2\n",
      " -0.7   -5.9  ]\n",
      "CD_y error at height 24:\n",
      " [  1.8     0.223  -0.2     0.331   0.      0.202   0.5     1.14    2.71    0.37    0.     -0.054\n",
      " -34.802 -30.935  -0.075  -1.1    -0.25    0.1  ]\n",
      "CD_x error at height 32:\n",
      " [  0.     -1.5    -1.1    -1.1    -0.025   0.      0.     -0.1    -0.      1.3     0.     -0.\n",
      "   0.      1.2     0.1   -11.249 -38.734]\n",
      "CD_y error at height 32:\n",
      " [-0.1   -0.1   -0.008 -0.23   3.7    0.2   -0.6    0.1   -1.5    0.416  0.073  0.2   38.902 36.551\n",
      " 29.567 -0.2   -0.007 -0.1    0.2  ]\n",
      "Contact 16 in 40-CD_x_label is redundant, with info [615.597 904.795  10.285]\n",
      "CD_x error at height 40:\n",
      " [  0.3    -1.1     0.     -0.2     0.1     0.369   0.     -0.7    -0.011   0.8    -0.1    -0.\n",
      "   1.     -0.      0.5    -7.7   -10.285]\n",
      "Contact 12 in 40-CD_y_label is redundant, with info [625.281 899.67    5.725]\n",
      "CD_y error at height 40:\n",
      " [-0.449  0.073 -0.049 -0.759 -0.5    0.004 -0.     0.073 -0.2    0.7   -0.581 -4.7   -5.725 -0.117\n",
      "  0.1   -0.778  0.2  ]\n",
      "CD_x error at height 48:\n",
      " [-0.    -0.2   -0.     0.     0.1   -0.183  0.1   -0.1   -0.    -0.1    1.2    0.2    0.1   -0.1\n",
      " -0.2   -6.8  ]\n",
      "CD_y error at height 48:\n",
      " [ -0.1     1.89   -0.2    -0.3    -0.     -0.046  -0.      0.208  -0.4     0.009  -0.917 -11.201\n",
      "  -0.2    -0.1     0.1    -0.255]\n",
      "CD_x error at height 56:\n",
      " [-0.    -0.1   -0.056 -0.     0.1    1.     0.    -0.1   -0.7   -0.    -1.     1.2   -0.     0.1\n",
      "  0.1   -5.8  ]\n",
      "CD_y error at height 56:\n",
      " [-0.1   -0.1   -0.1   -0.4   -0.2   -0.1    0.138 -0.7   -0.157 -0.    -0.232 -9.255 -0.343  0.2\n",
      "  0.    -0.   ]\n",
      "CD_x error at height 64:\n",
      " [-0.     0.1    0.1   -0.9   -0.     0.2    0.2   -0.1   -0.889 -2.     1.     0.     0.1   -0.1\n",
      "  0.   ]\n",
      "CD_y error at height 64:\n",
      " [-0.    -0.    -1.    -0.    -0.1   -0.    -0.    -0.5    0.368  0.1   -0.1   -0.2   -0.1    0.\n",
      " -0.   ]\n"
     ]
    },
    {
     "name": "stderr",
     "output_type": "stream",
     "text": [
      "\r",
      " 75%|███████▌  | 15/20 [1:07:57<22:41, 272.29s/it]"
     ]
    },
    {
     "name": "stdout",
     "output_type": "stream",
     "text": [
      "CD_x error at height 72:\n",
      " [1.9   0.7   0.73  1.318 1.9   1.5   0.2   3.1   0.853 1.2   3.2   1.5   0.7   1.2   0.5  ]\n",
      "CD_y error at height 72:\n",
      " [ 2.4    3.5    2.732  2.8   -0.    -0.9   -0.     3.445  2.6    1.9    2.7    2.4    3.4    2.962\n",
      "  3.4  ]\n",
      "CD_RMSE for label 14: [4.812 7.213]\n",
      "../dataset_train_v1/0095Acid_ini Read in 0.13 s\n",
      "../dataset_train_v1/0095Inhibitor Read in 0.13 s\n",
      "RMSE for label 15: [0.005 0.507]\n",
      "NMSE for label 15: [6.505 1.272]\n",
      "NMSE_height for label 15: [6.51  1.209]\n",
      "\n",
      "!Start to clear memory\n"
     ]
    },
    {
     "name": "stderr",
     "output_type": "stream",
     "text": [
      "<<<\n",
      "time:\t0.148682s\n",
      "<<<\n",
      "<<<\n",
      "time:\t0.15818s\n",
      "<<<\n"
     ]
    },
    {
     "name": "stdout",
     "output_type": "stream",
     "text": [
      "\n",
      "!Start to clear memory\n",
      "CD_x error at height 0:\n",
      " [ -0.1    -0.1     1.7     0.      0.5     1.1    -0.2    -0.472   0.      0.     -1.177   0.4\n",
      "   0.1   -38.406]\n",
      "CD_y error at height 0:\n",
      " [-0.    -0.663  0.416  3.9    3.189  0.052 -0.1   -1.448  0.2   -0.1    0.564 -0.08   1.7  ]\n",
      "CD_x error at height 8:\n",
      " [ 0.13   0.1    0.42  -0.4   -0.1    2.    -0.    -0.041  0.528 -0.1   -0.1   -0.     0.   ]\n",
      "CD_y error at height 8:\n",
      " [ 0.133 -3.     0.913 -0.565 -1.463 -0.251 -1.2    0.113  0.05   0.069 -0.3   -0.     0.7  ]\n",
      "CD_x error at height 16:\n",
      " [ 0.     0.1   -0.    -0.    -0.195 -0.4   -1.    -0.349 -0.9    0.79  -0.    -0.2   -0.3  ]\n",
      "CD_y error at height 16:\n",
      " [ 0.021 -0.079  0.234  0.295 -0.1    0.029 -0.595  0.4   -1.6   -0.     0.399  0.4    0.4  ]\n",
      "CD_x error at height 24:\n",
      " [ 0.   0.1  0.2 -0.  -0.   0.5  0.1  0.  -0.  -0.  -0.   0.1 -0. ]\n",
      "CD_y error at height 24:\n",
      " [ 0.1    0.221 -1.093  1.5    0.7   -1.411 -0.2   -0.018 -0.036 -0.    -1.8   -0.053  0.142]\n",
      "CD_x error at height 32:\n",
      " [ 0.  -0.   1.4  0.1 -0.1 -0.  -0.1 -0.1 -0.1 -0.   0.1 -0.   1.3]\n",
      "CD_y error at height 32:\n",
      " [-0.012  0.3    0.639  0.111  0.049  0.1   -0.777  0.231 -0.1   -0.035 -0.     1.334 -0.1  ]\n",
      "CD_x error at height 40:\n",
      " [ 0.   1.4  0.1  0.1 -0.   0.3 -0.  -0.5 -0.  -0.  -0.2 -0.5 -0.3]\n",
      "CD_y error at height 40:\n",
      " [ 0.211  0.406  0.253  0.359 -0.3   -2.355  0.4    0.1   -0.    -0.9   -0.051 -0.051  0.1  ]\n",
      "CD_x error at height 48:\n",
      " [-0.1   -0.1    0.3   -0.    -0.     0.859 -0.     0.1    0.1   -0.     0.093 -0.    -0.1  ]\n",
      "CD_y error at height 48:\n",
      " [ 0.2   -0.049 -0.334  0.507  0.3    2.2   -0.106  0.046  0.106  0.442 -0.041 -0.1   -0.468]\n",
      "CD_x error at height 56:\n",
      " [-0.     0.1   -0.1   -0.    -0.298  0.     0.044 -0.1   -0.1   -0.    -0.2    0.8   -0.3  ]\n",
      "CD_y error at height 56:\n",
      " [ 0.1    0.545 -0.    -0.1    0.2   -0.1   -0.1   -0.     0.9    0.032 -1.05  -0.    -0.346]\n",
      "CD_x error at height 64:\n",
      " [-0.    -0.    -0.2   -0.     0.1   -1.1    0.    -0.05  -0.151 -0.    -0.2   -0.6   -0.1  ]\n",
      "CD_y error at height 64:\n",
      " [-0.679 -0.     0.    -0.     0.3    0.1   -0.     0.    -0.1   -0.    -0.3   -0.3   -0.1  ]\n"
     ]
    },
    {
     "name": "stderr",
     "output_type": "stream",
     "text": [
      "\r",
      " 80%|████████  | 16/20 [1:12:34<18:14, 273.72s/it]"
     ]
    },
    {
     "name": "stdout",
     "output_type": "stream",
     "text": [
      "CD_x error at height 72:\n",
      " [ 1.6   1.1   0.4   1.47  0.3   0.6   1.4   1.8   0.9  -0.6   1.3  -0.5   1.4 ]\n",
      "CD_y error at height 72:\n",
      " [3.4   3.    1.345 0.133 2.361 0.352 2.1   1.2   1.145 3.2   0.8   1.1   3.7  ]\n",
      "CD_RMSE for label 15: [3.402 1.033]\n",
      "../dataset_train_v1/0096Acid_ini Read in 0.14 s\n",
      "../dataset_train_v1/0096Inhibitor Read in 0.14 s\n",
      "RMSE for label 16: [0.006 0.65 ]\n",
      "NMSE for label 16: [6.523 1.636]\n",
      "NMSE_height for label 16: [6.686 1.567]\n"
     ]
    },
    {
     "name": "stderr",
     "output_type": "stream",
     "text": [
      "<<<\n",
      "time:\t0.171469s\n",
      "<<<\n"
     ]
    },
    {
     "name": "stdout",
     "output_type": "stream",
     "text": [
      "\n",
      "!Start to clear memory\n"
     ]
    },
    {
     "name": "stderr",
     "output_type": "stream",
     "text": [
      "<<<\n",
      "time:\t0.174251s\n",
      "<<<\n"
     ]
    },
    {
     "name": "stdout",
     "output_type": "stream",
     "text": [
      "\n",
      "!Start to clear memory\n",
      "CD_x error at height 0:\n",
      " [-0.    -0.     0.131 -0.    -0.1    0.1    0.3   -0.1    1.3    0.1    0.1   -0.    -0.6    0.168\n",
      "  0.1   -0.1    0.1   -0.    -0.    -0.3    0.1    1.4    0.1  ]\n",
      "CD_y error at height 0:\n",
      " [-0.717  1.076  1.361  0.     1.1   -0.063  0.1    0.658  1.2    0.114 -0.039  0.2   -0.047 -0.827\n",
      "  0.135  0.954  0.046  0.964 -0.    -0.062 -0.2    0.029 -0.1  ]\n",
      "CD_x error at height 8:\n",
      " [-0.135  0.3   -0.    -0.    -1.3   -1.3   -0.7   -0.328 -0.137 -1.1    0.763 -1.6   -1.5   -0.2\n",
      "  0.1    0.5   -1.3    0.1   -0.138 -0.    -0.325  1.8   -0.1  ]\n",
      "CD_y error at height 8:\n",
      " [ 1.023 -1.23   0.086  0.2   -0.889  0.183  0.759  0.1    0.095  0.3   -0.191 -0.006 -0.1   -0.\n",
      "  2.3    0.044  0.253 -0.046 -0.652 -0.41  -0.271 -0.07  -0.2  ]\n",
      "CD_x error at height 16:\n",
      " [-0.3   -0.2   -0.1   -0.     0.1   -0.    -0.077 -1.4    0.1   -1.3    0.1   -1.1   -0.064 -0.231\n",
      "  0.1    0.3   -0.044 -0.128 -0.7   -0.     0.1    0.5   -0.1  ]\n",
      "CD_y error at height 16:\n",
      " [-0.04  -0.    -0.875 -0.8   -0.8   -0.3   -0.     0.5   -0.    -0.462  0.1   -2.862  0.335 -0.028\n",
      " -0.    -0.116 -0.012 -0.213 -0.143 -1.9    0.151  0.1   -0.   ]\n",
      "CD_x error at height 24:\n",
      " [-0.2    0.6   -0.    -0.    -0.1    0.274 -0.4   -0.2    0.1   -0.     0.1   -0.1   -0.7    0.\n",
      "  1.     1.     1.    -0.     0.1    0.1    0.2    0.218 -0.   ]\n",
      "CD_y error at height 24:\n",
      " [ 0.216  1.392  0.362 -0.024  0.1    0.391  1.1    1.133 -0.1    1.861  0.931 -0.     0.278  0.963\n",
      " -2.3   -1.4   -0.     0.    -0.106 -0.269  0.042 -1.2   -1.   ]\n",
      "CD_x error at height 32:\n",
      " [ 0.2   0.1  -1.3   0.1  -0.2   0.1   0.6  -0.   -1.3   0.8  -1.1  -0.1   0.1   0.   -1.   -1.3\n",
      " -0.   -0.1   0.1  -0.7  -0.1  -0.31 -0.  ]\n",
      "CD_y error at height 32:\n",
      " [ 0.083  0.8   -0.3    0.7   -0.992 -0.     0.243 -0.    -0.     0.034 -0.1    2.8   -0.1   -2.1\n",
      "  0.2   -0.1    0.2    0.159  0.2   -0.7    0.    -0.1   -0.   ]\n",
      "CD_x error at height 40:\n",
      " [ 0.2  0.1 -0.6 -0.  -0.  -0.  -0.3 -0.  -0.7  1.1 -1.2  0.1  0.1 -0.1  0.1 -0.  -0.  -0.5 -0.\n",
      "  0.  -0.4  1.2 -0. ]\n",
      "CD_y error at height 40:\n",
      " [-0.299  0.015  0.286 -0.1    0.2   -0.     0.197 -1.147  0.3    0.149  0.049  0.2    0.068 -0.1\n",
      "  2.342 -0.    -0.2    0.001 -0.9   -0.358 -0.1   -0.    -0.207]\n",
      "CD_x error at height 48:\n",
      " [-0.1   -0.878  0.9   -0.1   -0.4    0.4    0.1    0.2    0.138  0.1    1.7   -0.2    1.3    0.1\n",
      "  0.     0.4   -0.    -0.1    0.     0.368  0.1    0.7   -0.284]\n",
      "CD_y error at height 48:\n",
      " [-0.     0.345 -0.    -0.1    0.4    0.1   -0.139 -0.4   -0.649  0.2   -1.943  0.    -0.1    0.7\n",
      " -0.086 -0.    -0.7   -0.1   -0.2    0.11  -0.     2.3    0.031]\n",
      "CD_x error at height 56:\n",
      " [ 0.7    1.2   -0.    -0.    -0.8    0.1    0.1   -0.     0.3   -0.1    1.5    0.053  0.9    1.\n",
      " -0.1   -0.1    0.7    1.1   -0.    -0.2    0.2    0.8    1.9  ]\n",
      "CD_y error at height 56:\n",
      " [-0.     0.2   -0.    -0.1    2.2    0.2   -0.     0.8   -0.234 -0.    -0.     0.6    0.229  1.3\n",
      " -0.8    0.1    0.    -0.055  0.2   -0.3    0.1    2.3   -0.   ]\n",
      "CD_x error at height 64:\n",
      " [ 2.6  -0.    1.3   0.16 -0.    0.3  -0.    0.1  -0.    1.2   0.4  -0.   -0.3   1.1  -0.1   0.5\n",
      " -0.    0.1   1.1   0.1  -0.9  -0.    0.7 ]\n",
      "CD_y error at height 64:\n",
      " [-0.    -0.1   -0.405 -0.548  0.3   -0.     1.018 -1.    -0.071  0.1   -1.2   -0.    -0.     0.6\n",
      "  0.1    0.1    0.    -0.16  -0.4   -0.9   -0.104  3.7    0.026]\n"
     ]
    },
    {
     "name": "stderr",
     "output_type": "stream",
     "text": [
      "\r",
      " 85%|████████▌ | 17/20 [1:17:25<13:56, 278.93s/it]"
     ]
    },
    {
     "name": "stdout",
     "output_type": "stream",
     "text": [
      "CD_x error at height 72:\n",
      " [1.5   1.699 1.543 0.6   0.826 2.    4.    0.6   0.758 1.3   1.018 0.5   1.945 0.993 1.6   0.5\n",
      " 1.6   3.4   1.6   1.2   0.4   4.2  ]\n",
      "CD_y error at height 72:\n",
      " [ 3.     2.675  2.913  4.5    4.636 -0.     2.16   3.8    1.2   -0.3    3.1    1.9    2.559  3.3\n",
      "  0.6    2.244  3.3    2.349  2.332  2.215  2.146  3.3  ]\n",
      "CD_RMSE for label 16: [0.825 1.119]\n",
      "../dataset_train_v1/0097Acid_ini Read in 0.14 s\n",
      "../dataset_train_v1/0097Inhibitor Read in 0.13 s\n",
      "RMSE for label 17: [0.006 0.559]\n",
      "NMSE for label 17: [6.549 1.404]\n",
      "NMSE_height for label 17: [6.694 1.345]\n"
     ]
    },
    {
     "name": "stderr",
     "output_type": "stream",
     "text": [
      "<<<\n",
      "time:\t0.163338s\n",
      "<<<\n"
     ]
    },
    {
     "name": "stdout",
     "output_type": "stream",
     "text": [
      "\n",
      "!Start to clear memory\n",
      "\n",
      "!Start to clear memory\n"
     ]
    },
    {
     "name": "stderr",
     "output_type": "stream",
     "text": [
      "<<<\n",
      "time:\t0.165704s\n",
      "<<<\n"
     ]
    },
    {
     "name": "stdout",
     "output_type": "stream",
     "text": [
      "Contact 15 in 0-CD_x_pred is redundant, with info [ 89.654 779.689   1.   ]\n",
      "Contact 16 in 0-CD_x_pred is redundant, with info [ 80.154 786.389   2.1  ]\n",
      "Contact 17 in 0-CD_x_pred is redundant, with info [ 70.354 787.989   1.4  ]\n",
      "CD_x error at height 0:\n",
      " [-0.1    0.1   -0.047  0.1    0.     0.    -0.1    0.7    0.5    0.1    0.4    0.9   -0.3    0.463\n",
      " -1.872  1.     2.1    1.4    0.159  0.2  ]\n",
      "CD_y error at height 0:\n",
      " [-0.2    0.2    0.097  0.116  1.2    1.248  0.056  0.045  0.284 -0.165 -0.1   -0.1    0.15   0.462\n",
      "  1.    -0.051 -0.5  ]\n",
      "CD_x error at height 8:\n",
      " [ 0.1    0.8   -0.     0.2    0.1   -0.    -0.1   -0.2   -0.    -0.    -0.3    0.044 -0.1    0.9\n",
      " -0.243 37.902  0.1   -0.   ]\n",
      "CD_y error at height 8:\n",
      " [ 0.363 -0.028  0.045  0.445  0.428  0.403  0.    -0.022  0.214 -0.1   -0.2    1.659  0.081 -0.\n",
      "  0.142  0.377 -0.148]\n",
      "CD_x error at height 16:\n",
      " [  0.     -0.1    -1.1    -0.1    -0.      0.522   0.187   0.1    -0.2     0.1     0.9    -0.1\n",
      "   0.3     0.9    -1.4    -0.1   -38.802   0.1  ]\n",
      "Contact 7 in 16-CD_y_label is redundant, with info [ 63.953 788.089   1.   ]\n",
      "CD_y error at height 16:\n",
      " [-0.1    0.1   -1.118  0.095 -0.1    0.     0.153 -1.    -0.2    1.3    0.1   -0.     0.434 -0.1\n",
      " -1.8   -0.3   -0.06   0.1  ]\n",
      "CD_x error at height 24:\n",
      " [-0.     0.5   -0.053  0.1    0.1   -1.5   -0.227  1.1    0.762 -1.     1.2   -0.454 -0.     0.04\n",
      " -0.     0.1   -1.   ]\n",
      "CD_y error at height 24:\n",
      " [ 1.6   -0.9   -0.052  0.079  0.3   -2.4    0.513 -0.41   0.2   -0.32   0.1   -0.046  0.492  1.219\n",
      " -0.3   -1.5    0.776]\n",
      "CD_x error at height 32:\n",
      " [-0.     0.1   -0.727 -0.035 -0.1   -0.9   -0.     1.3    0.6   -1.1   -1.4   -0.4    0.2   -0.2\n",
      "  0.3    0.    -0.1  ]\n",
      "CD_y error at height 32:\n",
      " [ 0.     0.041  0.195  0.37  -0.     0.1   -1.696 -4.    -0.     0.1    0.279  1.1   -0.    -0.075\n",
      " -0.432 -0.1   -0.69 ]\n",
      "CD_x error at height 40:\n",
      " [ 0.1   -0.    -0.1    0.2   -0.1    0.051 -0.1    0.1   -0.4    0.3   -0.2    1.    -1.     0.1\n",
      " -0.    -0.    -0.05 ]\n",
      "CD_y error at height 40:\n",
      " [-0.456  0.3   -0.8    0.08  -0.018  0.2   -0.1    0.056 -0.1    0.9   -0.141  1.461 -0.176  0.2\n",
      " -0.08   0.018  0.098]\n",
      "CD_x error at height 48:\n",
      " [ 0.    -0.     0.1   -0.8    0.1    0.378 -0.2   -0.     0.2    0.4   -0.2    0.1   -0.3    1.\n",
      "  0.    -0.     0.18 ]\n",
      "CD_y error at height 48:\n",
      " [-0.079 -0.2   -0.11  -0.8   -0.    -0.487  0.     0.1   -0.152 -0.078 -0.084  0.7   -0.168 -0.642\n",
      " -2.2   -0.025 -0.15 ]\n",
      "CD_x error at height 56:\n",
      " [ 0.3    0.     1.5   -0.1   -0.     0.5   -1.    -0.1    0.4    0.2   -0.    -0.074 -0.6   -0.\n",
      "  0.016 -0.     0.088]\n",
      "CD_y error at height 56:\n",
      " [-0.123  0.9    0.    -0.     0.211 -0.1   -0.     0.1   -0.     0.1   -0.    -0.135 -0.     0.2\n",
      " -0.6    0.1   -0.2  ]\n",
      "CD_x error at height 64:\n",
      " [ 1.5 -0.2 -0.   0.1  0.1 -0.  -0.   1.3  0.2  1.   1.   0.9  0.1 -0.2 -0.  -0.1 -0.1]\n",
      "CD_y error at height 64:\n",
      " [-0.     0.1   -0.3   -0.    -0.    -0.     0.     0.     2.1   -0.1   -0.    -0.    -0.062 -0.\n",
      "  0.8   -0.396  0.4  ]\n"
     ]
    },
    {
     "name": "stderr",
     "output_type": "stream",
     "text": [
      "\r",
      " 90%|█████████ | 18/20 [1:22:08<09:20, 280.15s/it]"
     ]
    },
    {
     "name": "stdout",
     "output_type": "stream",
     "text": [
      "CD_x error at height 72:\n",
      " [3.046 1.    1.1   1.5   2.939 1.644 1.506 1.032 0.8   0.849 0.607 0.951 1.139 0.816 1.1   1.3\n",
      " 0.9  ]\n",
      "CD_y error at height 72:\n",
      " [ 1.942  2.542  0.8    3.4    2.3    1.689  1.2   -0.047  3.63   2.75   2.1    2.273  2.9    2.296\n",
      "  2.8    3.3    1.982]\n",
      "CD_RMSE for label 17: [4.161 0.991]\n",
      "../dataset_train_v1/0098Acid_ini Read in 0.13 s\n",
      "../dataset_train_v1/0098Inhibitor Read in 0.12 s\n",
      "RMSE for label 18: [0.006 0.615]\n",
      "NMSE for label 18: [6.643 1.547]\n",
      "NMSE_height for label 18: [6.716 1.475]\n",
      "\n",
      "!Start to clear memory\n"
     ]
    },
    {
     "name": "stderr",
     "output_type": "stream",
     "text": [
      "<<<\n",
      "time:\t0.167049s\n",
      "<<<\n"
     ]
    },
    {
     "name": "stdout",
     "output_type": "stream",
     "text": [
      "\n",
      "!Start to clear memory\n"
     ]
    },
    {
     "name": "stderr",
     "output_type": "stream",
     "text": [
      "<<<\n",
      "time:\t0.163533s\n",
      "<<<\n"
     ]
    },
    {
     "name": "stdout",
     "output_type": "stream",
     "text": [
      "Contact 18 in 0-CD_x_label is redundant, with info [347.567 877.994   9.1  ]\n",
      "CD_x error at height 0:\n",
      " [ 0.4    0.1   -0.1    0.1   -1.2   -0.1   -0.1    0.127  0.142 -0.     1.1   -0.3   -0.    -1.1\n",
      " -0.4   -0.     0.154  0.016 -9.1   -0.   ]\n",
      "Contact 13 in 0-CD_y_label is redundant, with info [351.968 871.736  14.058]\n",
      "CD_y error at height 0:\n",
      " [ -0.1     0.8    -0.3     0.267   0.      0.176  -0.      1.151   0.226  -0.      1.1    -0.787\n",
      "   0.624 -14.058  -0.044  -0.2     1.6     0.073   0.503   0.1  ]\n",
      "Contact 18 in 8-CD_x_label is redundant, with info [348.967 877.794   6.4  ]\n",
      "CD_x error at height 8:\n",
      " [-0.7   -0.1   -0.941 -2.2   -0.13  -0.1   -0.    -0.1   -0.022 -1.4   -0.6   -0.1   -0.3   -0.1\n",
      " -0.1    0.2   -0.195 -0.06  -6.4    1.2  ]\n",
      "Contact 13 in 8-CD_y_label is redundant, with info [351.568 873.767  10.228]\n",
      "CD_y error at height 8:\n",
      " [ -0.07    0.491   0.7     0.553   0.212  -0.522  -0.1    -0.115   0.04    0.158  -0.15    0.19\n",
      "   1.4   -10.228   1.828   1.596  -0.316   0.1    -1.023  -0.133]\n",
      "CD_x error at height 16:\n",
      " [ 0.8   -0.2    0.8   -0.     0.1    0.074 -0.1    1.    -1.001 -0.     0.479 -0.1   -0.     0.135\n",
      "  0.075 -0.     0.1    0.1   -0.   ]\n",
      "CD_y error at height 16:\n",
      " [-0.     0.043  0.751  0.336  0.1    0.1   -0.9   -0.1   -0.637  1.     1.1    0.034  0.222 -0.\n",
      " -0.071 -0.113 -1.174  0.1   -0.1  ]\n",
      "CD_x error at height 24:\n",
      " [ 0.42   0.1   -0.    -0.    -3.    -0.    -1.2   -0.3   -0.6    0.1    0.1   -0.4    0.059 -0.\n",
      " -0.4   -0.4   -0.    -0.095 -1.4  ]\n",
      "CD_y error at height 24:\n",
      " [-0.4   -0.169  0.071  0.282  0.    -0.677  0.7    2.945  0.022 -0.    -1.325 -0.195 -1.4    0.331\n",
      "  0.076 -0.    -0.     0.1   -0.517]\n",
      "CD_x error at height 32:\n",
      " [ 1.2   -0.     0.4   -0.4   -0.2    0.1   -0.1   -0.1    0.1   -0.     1.3   -0.1   -0.    -0.1\n",
      "  1.    -0.422  0.3   -0.8   -0.1  ]\n",
      "CD_y error at height 32:\n",
      " [ 0.2    0.243  0.3    0.037  0.049 -0.     0.3    0.1    0.264 -2.2   -1.8   -0.944  0.4   -0.229\n",
      " -0.5   -0.    -0.     0.41  -0.072]\n",
      "CD_x error at height 40:\n",
      " [ 0.1   -1.     0.954 -0.1   -0.644  0.    -0.1   -0.6   -0.2   -0.     0.151 -0.    -0.8    0.9\n",
      " -0.9   -0.019 -0.3   -0.    -0.6  ]\n",
      "CD_y error at height 40:\n",
      " [ 0.249  0.1    0.6    0.125 -0.217  0.021 -0.152 -0.064  0.105 -1.163 -0.049  0.038  1.071  0.5\n",
      "  0.26   0.54   0.3    0.1    0.15 ]\n",
      "CD_x error at height 48:\n",
      " [ 0.     0.8    0.1   -0.     0.034 -0.     0.1   -0.1   -1.1    1.     0.2   -0.1    0.1   -0.\n",
      "  0.384 -0.128 -0.1   -1.1    0.844]\n",
      "CD_y error at height 48:\n",
      " [ 0.053 -1.1    0.268  0.185 -0.9    0.012  0.078  0.198  0.104 -0.     0.1   -0.    -0.151 -0.\n",
      " -0.2    0.1   -0.     0.2    0.   ]\n",
      "CD_x error at height 56:\n",
      " [ 0.1    0.    -0.    -0.215  0.3   -0.1   -0.286  1.3    0.4   -0.    -0.2    0.1   -0.     0.\n",
      " -0.1   -0.8    0.3   -0.    -0.   ]\n",
      "CD_y error at height 56:\n",
      " [ 0.1    0.2    0.865 -0.7   -0.1    0.1    0.2    0.061 -0.233 -0.138 -0.4    0.148  0.057 -0.1\n",
      "  0.004 -0.2    0.1    0.1    0.1  ]\n",
      "CD_x error at height 64:\n",
      " [ 0.1    0.4    0.2   -1.264 -0.2    0.579  0.4   -0.    -0.    -0.2    0.4   -0.1   -0.     0.4\n",
      "  0.1    0.1    0.    -0.9   -0.2  ]\n",
      "CD_y error at height 64:\n",
      " [ 0.141 -0.     0.468 -0.1    0.    -0.    -0.     0.     0.     0.55  -0.7    0.004 -0.     0.1\n",
      "  0.3   -0.077 -0.    -0.2   -0.   ]\n"
     ]
    },
    {
     "name": "stderr",
     "output_type": "stream",
     "text": [
      "\r",
      " 95%|█████████▌| 19/20 [1:26:55<04:42, 282.18s/it]"
     ]
    },
    {
     "name": "stdout",
     "output_type": "stream",
     "text": [
      "CD_x error at height 72:\n",
      " [3.4   1.8   2.3   0.9   1.9   1.2   0.418 0.2   0.6   1.8   2.545 0.6   0.9   2.5   1.3   0.5\n",
      " 0.9   1.1   1.6  ]\n",
      "CD_y error at height 72:\n",
      " [ 3.281  4.121  2.1    3.9    3.4    1.8    3.077  2.8    0.4   -0.1    0.2    0.662 -0.047  2.3\n",
      "  2.4    2.2    2.162  4.     1.561]\n",
      "CD_RMSE for label 18: [1.09  1.577]\n",
      "../dataset_train_v1/0099Acid_ini Read in 0.13 s\n",
      "../dataset_train_v1/0099Inhibitor Read in 0.13 s\n",
      "RMSE for label 19: [0.003 0.308]\n",
      "NMSE for label 19: [6.938 0.77 ]\n",
      "NMSE_height for label 19: [6.731 0.735]\n",
      "\n",
      "!Start to clear memory\n"
     ]
    },
    {
     "name": "stderr",
     "output_type": "stream",
     "text": [
      "<<<\n",
      "time:\t0.170566s\n",
      "<<<\n"
     ]
    },
    {
     "name": "stdout",
     "output_type": "stream",
     "text": [
      "\n",
      "!Start to clear memory\n"
     ]
    },
    {
     "name": "stderr",
     "output_type": "stream",
     "text": [
      "<<<\n",
      "time:\t0.160079s\n",
      "<<<\n"
     ]
    },
    {
     "name": "stdout",
     "output_type": "stream",
     "text": [
      "CD_x error at height 0:\n",
      " [-0.     0.3   -0.1   -0.099 -0.   ]\n",
      "CD_y error at height 0:\n",
      " [0.212 0.1   0.31  0.9   0.6  ]\n",
      "CD_x error at height 8:\n",
      " [ 0.1   -0.1    0.1    0.2   -0.132]\n",
      "CD_y error at height 8:\n",
      " [ 0.252  0.096  0.117 -0.784  2.4  ]\n",
      "CD_x error at height 16:\n",
      " [-0.8   -0.3   -0.     0.6   -0.171]\n",
      "CD_y error at height 16:\n",
      " [-1.5   -0.2   -0.     0.413 -0.022]\n",
      "CD_x error at height 24:\n",
      " [ 0.7 -0.4  0.1 -1.4 -0.1]\n",
      "CD_y error at height 24:\n",
      " [-0.1   -0.275  1.965 -0.    -0.8  ]\n",
      "CD_x error at height 32:\n",
      " [-1.2 -1.1 -0.2  0.1 -0. ]\n",
      "CD_y error at height 32:\n",
      " [ 0.1   -0.4   -0.961 -0.07  -0.137]\n",
      "CD_x error at height 40:\n",
      " [-0.054  1.3   -0.616 -0.1    0.178]\n",
      "CD_y error at height 40:\n",
      " [ 0.1   -0.     0.012  0.6    1.103]\n",
      "CD_x error at height 48:\n",
      " [ 0.4  1.3  0.9 -0.   1. ]\n",
      "CD_y error at height 48:\n",
      " [ 0.06  -0.3    0.106 -0.866 -0.8  ]\n",
      "CD_x error at height 56:\n",
      " [ 0.2  0.5  1.  -0.  -0. ]\n",
      "CD_y error at height 56:\n",
      " [ 0.3   -0.1   -0.1    0.146 -1.9  ]\n",
      "CD_x error at height 64:\n",
      " [ 0.467  0.1    1.2   -0.1    0.1  ]\n",
      "CD_y error at height 64:\n",
      " [ 0.    -0.278 -0.52   0.3   -0.   ]\n"
     ]
    },
    {
     "name": "stderr",
     "output_type": "stream",
     "text": [
      "100%|██████████| 20/20 [1:31:22<00:00, 274.10s/it]"
     ]
    },
    {
     "name": "stdout",
     "output_type": "stream",
     "text": [
      "CD_x error at height 72:\n",
      " [-0.1    2.2    2.664  2.2    0.5  ]\n",
      "CD_y error at height 72:\n",
      " [ 2.3   1.5  -0.    1.4   2.41]\n",
      "CD_RMSE for label 19: [0.805 0.878]\n",
      "CD Error: [1.562 1.861]\n",
      "RMSE(Mean, Std): [0.005 0.448] [0.001 0.144]\n",
      "NMSE(Mean, Std): [7.156 1.124] [0.966 0.363]\n",
      "NMSE_height: [[24.843 14.02  10.46   9.767  7.898  6.782  6.266  5.992  6.361  5.488  5.666  5.491  5.613\n",
      "   4.916  5.287  4.937  4.923  4.515  4.837  4.524 ...  6.249  5.549  6.971  5.571  7.763  6.295\n",
      "   8.569  7.06   9.18   8.002 10.384  9.71  14.125 15.061 19.203 19.839 17.607 15.91  17.846\n",
      "  19.502]\n",
      " [ 3.051  1.792  1.871  1.308  1.495  1.304  1.284  1.172  1.323  1.103  1.146  1.098  1.157\n",
      "   0.971  1.093  0.956  0.985  0.866  0.995  0.877 ...  0.972  0.864  1.053  0.81   1.098  0.794\n",
      "   1.105  0.908  1.063  0.864  1.113  1.004  1.332  1.04   1.538  1.637  1.497  1.612  1.487\n",
      "   0.904]]\n",
      "Top Error (mean): [15.919  1.316]\n"
     ]
    },
    {
     "name": "stderr",
     "output_type": "stream",
     "text": [
      "\n"
     ]
    },
    {
     "data": {
      "image/png": "[encoded data removed]",
      "text/plain": [
       "<Figure size 1152x576 with 1 Axes>"
      ]
     },
     "metadata": {
      "needs_background": "light"
     },
     "output_type": "display_data"
    },
    {
     "name": "stdout",
     "output_type": "stream",
     "text": [
      "Mean runtime: 0.5362152934074402\n",
      "RMSE(Ihb, rate): [0.005 0.448]\n",
      "NRMSE(Ihb, rate): [7.156 1.124]\n",
      "CD Error(x, y): [1.562 1.861]\n"
     ]
    }
   ],
   "source": [
    "netG, _, _ = Model_def(opt, Channels, nf, device_train, load_model=True)\n",
    "Runtime, RMSE, NMSE, NMSE_height, CD_err_x, CD_err_y, CD_RMSE = evaluate(opt, netG, device_train, res_trans, RDevelop)\n",
    "print(\"Mean runtime:\", np.mean(Runtime))\n",
    "print(\"RMSE(Ihb, rate):\", np.mean(RMSE,axis=-1))\n",
    "print(\"NRMSE(Ihb, rate):\", np.mean(NMSE,axis=-1))\n",
    "print(\"CD Error(x, y):\", np.mean(CD_RMSE,axis=-1))"
   ]
  },
  {
   "cell_type": "code",
   "execution_count": 13,
   "metadata": {},
   "outputs": [
    {
     "data": {
      "image/png": "[encoded data removed]",
      "text/plain": [
       "<Figure size 720x432 with 1 Axes>"
      ]
     },
     "metadata": {
      "needs_background": "light"
     },
     "output_type": "display_data"
    }
   ],
   "source": [
    "Err_x, Err_y = np.array([]), np.array([])\n",
    "for tmp in range(len(CD_err_x)):\n",
    "    Err_x = np.append(Err_x, np.array(CD_err_x[tmp]).flatten())\n",
    "    Err_y = np.append(Err_y, np.array(CD_err_y[tmp]).flatten())\n",
    "\n",
    "np.savetxt(opt.respath+\"CDErr-x_cgan.csv\", Err_x.flatten(), delimiter=' ')\n",
    "np.savetxt(opt.respath+\"CDErr-y_cgan.csv\", Err_y.flatten(), delimiter=' ')\n",
    "from utils.Res_plot import CD_errXY_plot\n",
    "CD_errXY_plot(Err_x, Err_y, \"CGAN's \")"
   ]
  },
  {
   "cell_type": "code",
   "execution_count": null,
   "metadata": {},
   "outputs": [],
   "source": []
  }
 ],
 "metadata": {
  "kernelspec": {
   "display_name": "Python 3 (ipykernel)",
   "language": "python",
   "name": "python3"
  },
  "language_info": {
   "codemirror_mode": {
    "name": "ipython",
    "version": 3
   },
   "file_extension": ".py",
   "mimetype": "text/x-python",
   "name": "python",
   "nbconvert_exporter": "python",
   "pygments_lexer": "ipython3",
   "version": "3.8.10"
  },
  "vp": {
   "vp_config_version": "1.0.0",
   "vp_menu_width": 273,
   "vp_note_display": false,
   "vp_note_width": 0,
   "vp_position": {
    "width": 278
   },
   "vp_section_display": false,
   "vp_signature": "VisualPython"
  }
 },
 "nbformat": 4,
 "nbformat_minor": 2
}
