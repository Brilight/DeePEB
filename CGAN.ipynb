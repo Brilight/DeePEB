{
 "cells": [
  {
   "cell_type": "code",
   "execution_count": 1,
   "metadata": {},
   "outputs": [],
   "source": [
    "import math\n",
    "import time\n",
    "import csv\n",
    "import os\n",
    "os.environ[\"CUDA_DEVICE_ORDER\"] = \"PCI_BUS_ID\"\n",
    "os.environ['CUDA_VISIBLE_DEVICES']=\"2\"\n",
    "os.environ['CUDA_LAUNCH_BLOCKING'] = '1'\n",
    "\n",
    "import numpy as np\n",
    "import torch \n",
    "import torch.nn as nn\n",
    "import torch.utils.data as data\n",
    "import torch.nn.functional as F\n",
    "\n",
    "torch.manual_seed(105)\n",
    "np.random.seed(42)\n",
    "np.set_printoptions(suppress=True, precision=3, threshold=40, linewidth=100, edgeitems=20)  \n",
    "\n",
    "torch.backends.cudnn.deterministic = True\n",
    "torch.backends.cudnn.benchmark = True\n",
    "\n",
    "import itertools\n",
    "from tqdm import trange, tqdm\n",
    "import matplotlib.pyplot as plt\n",
    "import importlib\n",
    "%matplotlib inline\n",
    "\n",
    "'''\n",
    "If curious about the detailed realization of certain module(s) below, try:\n",
    "    print(*inspect.getsource(Module).split('\\n'), sep='\\n')\n",
    "to get its source code.\n",
    "'''\n",
    "from Model.CGAN import Descriminator, Generator\n",
    "from Train.train_CGAN import train\n",
    "from Datas.data_load import dataset_append\n",
    "from Test.Evaluate import evaluate\n",
    "from utils.Save_and_load import save, load\n",
    "from configs import opt, res_trans, RDevelop"
   ]
  },
  {
   "cell_type": "code",
   "execution_count": 2,
   "metadata": {},
   "outputs": [],
   "source": [
    "def Model_def(opt, Channels, nf, device_train, load_model=False):\n",
    "    '''\n",
    "    Define (and load saved) model \n",
    "    '''\n",
    "    netG = Generator(Channels, 5) \n",
    "    netD = Descriminator(1+1,nf)\n",
    "    netG.initialize(); netD.initialize()\n",
    "    if load_model:\n",
    "        netG = load(netG, opt.load_model_path[0])\n",
    "        netD = load(netD, opt.load_model_path[1])\n",
    "    print(netG.parameters)\n",
    "    print(netD.parameters)\n",
    "    D_size = netD(torch.rand(1,2,*opt.Resmax)).shape\n",
    "    \n",
    "    if device_train.type == 'cuda':\n",
    "        torch.cuda.empty_cache()\n",
    "        netG = netG.to(device_train)\n",
    "        netD = netD.to(device_train)\n",
    "        print(\"allocated and reserved GPU memory: {}, {} (GiB)\".format(\n",
    "                torch.cuda.memory_allocated()/(1024**3), torch.cuda.memory_reserved()/(1024**3)))\n",
    "    return netG, netD, D_size"
   ]
  },
  {
   "cell_type": "code",
   "execution_count": 3,
   "metadata": {},
   "outputs": [
    {
     "name": "stdout",
     "output_type": "stream",
     "text": [
      "Net Initialized\n",
      "<bound method Module.parameters of Generator(\n",
      "  (left_conv_1): ConvBlock(\n",
      "    (block): Sequential(\n",
      "      (0): Conv3d(1, 8, kernel_size=(3, 3, 3), stride=(2, 2, 2), padding=(1, 1, 1))\n",
      "      (1): LeakyReLU(negative_slope=0.01, inplace=True)\n",
      "      (2): Conv3d(8, 8, kernel_size=(3, 3, 3), stride=(1, 1, 1), padding=(1, 1, 1))\n",
      "      (3): LeakyReLU(negative_slope=0.01, inplace=True)\n",
      "    )\n",
      "  )\n",
      "  (left_conv_2): ConvBlock(\n",
      "    (block): Sequential(\n",
      "      (0): Conv3d(8, 16, kernel_size=(3, 3, 3), stride=(2, 2, 2), padding=(1, 1, 1))\n",
      "      (1): LeakyReLU(negative_slope=0.01, inplace=True)\n",
      "      (2): Conv3d(16, 16, kernel_size=(3, 3, 3), stride=(1, 1, 1), padding=(1, 1, 1))\n",
      "      (3): LeakyReLU(negative_slope=0.01, inplace=True)\n",
      "    )\n",
      "  )\n",
      "  (left_conv_3): ConvBlock(\n",
      "    (block): Sequential(\n",
      "      (0): Conv3d(16, 32, kernel_size=(3, 3, 3), stride=(2, 2, 2), padding=(1, 1, 1))\n",
      "      (1): LeakyReLU(negative_slope=0.01, inplace=True)\n",
      "      (2): Conv3d(32, 32, kernel_size=(3, 3, 3), stride=(1, 1, 1), padding=(1, 1, 1))\n",
      "      (3): LeakyReLU(negative_slope=0.01, inplace=True)\n",
      "    )\n",
      "  )\n",
      "  (left_conv_4): ConvBlock(\n",
      "    (block): Sequential(\n",
      "      (0): Conv3d(32, 64, kernel_size=(3, 3, 3), stride=(2, 2, 2), padding=(1, 1, 1))\n",
      "      (1): LeakyReLU(negative_slope=0.01, inplace=True)\n",
      "      (2): Conv3d(64, 64, kernel_size=(3, 3, 3), stride=(1, 1, 1), padding=(1, 1, 1))\n",
      "      (3): LeakyReLU(negative_slope=0.01, inplace=True)\n",
      "    )\n",
      "  )\n",
      "  (deconv_1): ConvTranspose3d(64, 32, kernel_size=(5, 5, 5), stride=(2, 2, 2), padding=(2, 2, 2), output_padding=(1, 0, 0))\n",
      "  (right_conv_1): ConvBlock(\n",
      "    (block): Sequential(\n",
      "      (0): Conv3d(64, 32, kernel_size=(3, 3, 3), stride=(1, 1, 1), padding=(1, 1, 1))\n",
      "      (1): LeakyReLU(negative_slope=0.01, inplace=True)\n",
      "      (2): Conv3d(32, 32, kernel_size=(3, 3, 3), stride=(1, 1, 1), padding=(1, 1, 1))\n",
      "      (3): LeakyReLU(negative_slope=0.01, inplace=True)\n",
      "    )\n",
      "  )\n",
      "  (deconv_2): ConvTranspose3d(32, 16, kernel_size=(5, 5, 5), stride=(2, 2, 2), padding=(2, 2, 2), output_padding=(1, 1, 1))\n",
      "  (right_conv_2): ConvBlock(\n",
      "    (block): Sequential(\n",
      "      (0): Conv3d(32, 16, kernel_size=(3, 3, 3), stride=(1, 1, 1), padding=(1, 1, 1))\n",
      "      (1): LeakyReLU(negative_slope=0.01, inplace=True)\n",
      "      (2): Conv3d(16, 16, kernel_size=(3, 3, 3), stride=(1, 1, 1), padding=(1, 1, 1))\n",
      "      (3): LeakyReLU(negative_slope=0.01, inplace=True)\n",
      "    )\n",
      "  )\n",
      "  (deconv_3): ConvTranspose3d(16, 8, kernel_size=(5, 5, 5), stride=(2, 2, 2), padding=(2, 2, 2), output_padding=(1, 1, 1))\n",
      "  (right_conv_3): ConvBlock(\n",
      "    (block): Sequential(\n",
      "      (0): Conv3d(16, 8, kernel_size=(3, 3, 3), stride=(1, 1, 1), padding=(1, 1, 1))\n",
      "      (1): LeakyReLU(negative_slope=0.01, inplace=True)\n",
      "      (2): Conv3d(8, 8, kernel_size=(3, 3, 3), stride=(1, 1, 1), padding=(1, 1, 1))\n",
      "      (3): LeakyReLU(negative_slope=0.01, inplace=True)\n",
      "    )\n",
      "  )\n",
      "  (deconv_4): ConvTranspose3d(8, 1, kernel_size=(5, 5, 5), stride=(2, 2, 2), padding=(2, 2, 2), output_padding=(1, 1, 1))\n",
      "  (regular): Upsample(size=[80, 1000, 1000], mode=trilinear)\n",
      ")>\n",
      "<bound method Module.parameters of Descriminator(\n",
      "  (reslayers): Sequential(\n",
      "    (0): Conv3d(2, 4, kernel_size=(3, 3, 3), stride=(1, 1, 1), padding=(1, 1, 1), bias=False)\n",
      "    (1): LeakyReLU(negative_slope=0.1, inplace=True)\n",
      "    (2): Sequential(\n",
      "      (0): BasicBlock(\n",
      "        (conv): Sequential(\n",
      "          (0): Conv3d(4, 8, kernel_size=(3, 3, 3), stride=(1, 1, 1), padding=(1, 1, 1), bias=False, padding_mode=replicate)\n",
      "          (1): LeakyReLU(negative_slope=0.1, inplace=True)\n",
      "          (2): Conv3d(8, 8, kernel_size=(3, 3, 3), stride=(2, 2, 2), padding=(1, 1, 1), bias=False, padding_mode=replicate)\n",
      "        )\n",
      "        (shortcut): Sequential(\n",
      "          (0): Conv3d(4, 8, kernel_size=(1, 1, 1), stride=(2, 2, 2), bias=False)\n",
      "        )\n",
      "        (norm): GroupNorm(1, 8, eps=1e-05, affine=True)\n",
      "      )\n",
      "      (1): BasicBlock(\n",
      "        (conv): Sequential(\n",
      "          (0): Conv3d(8, 8, kernel_size=(3, 3, 3), stride=(1, 1, 1), padding=(1, 1, 1), bias=False, padding_mode=replicate)\n",
      "          (1): LeakyReLU(negative_slope=0.1, inplace=True)\n",
      "          (2): Conv3d(8, 8, kernel_size=(3, 3, 3), stride=(2, 2, 2), padding=(1, 1, 1), bias=False, padding_mode=replicate)\n",
      "        )\n",
      "        (shortcut): Sequential(\n",
      "          (0): Conv3d(8, 8, kernel_size=(1, 1, 1), stride=(2, 2, 2), bias=False)\n",
      "        )\n",
      "        (norm): GroupNorm(1, 8, eps=1e-05, affine=True)\n",
      "      )\n",
      "    )\n",
      "    (3): Sequential(\n",
      "      (0): BasicBlock(\n",
      "        (conv): Sequential(\n",
      "          (0): Conv3d(8, 4, kernel_size=(3, 3, 3), stride=(1, 1, 1), padding=(1, 1, 1), bias=False, padding_mode=replicate)\n",
      "          (1): LeakyReLU(negative_slope=0.1, inplace=True)\n",
      "          (2): Conv3d(4, 4, kernel_size=(3, 3, 3), stride=(2, 2, 2), padding=(1, 1, 1), bias=False, padding_mode=replicate)\n",
      "        )\n",
      "        (shortcut): Sequential(\n",
      "          (0): Conv3d(8, 4, kernel_size=(1, 1, 1), stride=(2, 2, 2), bias=False)\n",
      "        )\n",
      "        (norm): GroupNorm(1, 4, eps=1e-05, affine=True)\n",
      "      )\n",
      "      (1): BasicBlock(\n",
      "        (conv): Sequential(\n",
      "          (0): Conv3d(4, 4, kernel_size=(3, 3, 3), stride=(1, 1, 1), padding=(1, 1, 1), bias=False, padding_mode=replicate)\n",
      "          (1): LeakyReLU(negative_slope=0.1, inplace=True)\n",
      "          (2): Conv3d(4, 4, kernel_size=(3, 3, 3), stride=(2, 2, 2), padding=(1, 1, 1), bias=False, padding_mode=replicate)\n",
      "        )\n",
      "        (shortcut): Sequential(\n",
      "          (0): Conv3d(4, 4, kernel_size=(1, 1, 1), stride=(2, 2, 2), bias=False)\n",
      "        )\n",
      "        (norm): GroupNorm(1, 4, eps=1e-05, affine=True)\n",
      "      )\n",
      "    )\n",
      "    (4): Conv3d(4, 1, kernel_size=(3, 3, 3), stride=(1, 2, 2), padding=(1, 1, 1), bias=False)\n",
      "    (5): Sigmoid()\n",
      "  )\n",
      ")>\n",
      "allocated and reserved GPU memory: 0.0025281906127929688, 0.00390625 (GiB)\n"
     ]
    }
   ],
   "source": [
    "Channels = [1, 8, 16, 32, 64, ]\n",
    "nf = 4\n",
    "device_train = torch.device('cuda:0') \n",
    "device_test = torch.device('cuda:0')\n",
    "ckpt_name = [\"CGAN-G.pth\", \"CGAN-D.pth\"]\n",
    "opt.load_model_path = [opt.modelpath+ckpt_name[i] for i in [0,1]]\n",
    "netG, netD, D_size = Model_def(opt, Channels, nf, device_train)"
   ]
  },
  {
   "cell_type": "code",
   "execution_count": 4,
   "metadata": {
    "scrolled": true
   },
   "outputs": [
    {
     "name": "stderr",
     "output_type": "stream",
     "text": [
      "\r",
      "  0%|          | 0/8 [00:00<?, ?it/s]"
     ]
    },
    {
     "name": "stdout",
     "output_type": "stream",
     "text": [
      "../dataset_train_v1/0000Acid_ini Read in 0.12 s\n",
      "../dataset_train_v1/0000Inhibitor Read in 0.12 s\n",
      "--> Mask 0 Read Complete, with dataset size: (1, 1, 80, 1000, 1000), 9 masks left ...\n",
      "\n",
      "../dataset_train_v1/0001Acid_ini Read in 0.54 s\n",
      "../dataset_train_v1/0001Inhibitor Read in 0.70 s\n",
      "--> Mask 1 Read Complete, with dataset size: (2, 1, 80, 1000, 1000), 8 masks left ...\n",
      "\n",
      "../dataset_train_v1/0002Acid_ini Read in 0.72 s\n",
      "../dataset_train_v1/0002Inhibitor Read in 0.73 s\n",
      "--> Mask 2 Read Complete, with dataset size: (3, 1, 80, 1000, 1000), 7 masks left ...\n",
      "\n",
      "../dataset_train_v1/0003Acid_ini Read in 0.73 s\n",
      "../dataset_train_v1/0003Inhibitor Read in 0.72 s\n",
      "--> Mask 3 Read Complete, with dataset size: (4, 1, 80, 1000, 1000), 6 masks left ...\n",
      "\n",
      "../dataset_train_v1/0004Acid_ini Read in 0.72 s\n",
      "../dataset_train_v1/0004Inhibitor Read in 0.74 s\n",
      "--> Mask 4 Read Complete, with dataset size: (5, 1, 80, 1000, 1000), 5 masks left ...\n",
      "\n",
      "../dataset_train_v1/0005Acid_ini Read in 0.75 s\n",
      "../dataset_train_v1/0005Inhibitor Read in 0.70 s\n",
      "--> Mask 5 Read Complete, with dataset size: (6, 1, 80, 1000, 1000), 4 masks left ...\n",
      "\n",
      "../dataset_train_v1/0006Acid_ini Read in 0.75 s\n",
      "../dataset_train_v1/0006Inhibitor Read in 0.74 s\n",
      "--> Mask 6 Read Complete, with dataset size: (7, 1, 80, 1000, 1000), 3 masks left ...\n",
      "\n",
      "../dataset_train_v1/0007Acid_ini Read in 0.77 s\n",
      "../dataset_train_v1/0007Inhibitor Read in 0.76 s\n",
      "--> Mask 7 Read Complete, with dataset size: (8, 1, 80, 1000, 1000), 2 masks left ...\n",
      "\n",
      "../dataset_train_v1/0008Acid_ini Read in 0.75 s\n",
      "../dataset_train_v1/0008Inhibitor Read in 0.78 s\n",
      "--> Mask 8 Read Complete, with dataset size: (9, 1, 80, 1000, 1000), 1 masks left ...\n",
      "\n",
      "../dataset_train_v1/0009Acid_ini Read in 0.75 s\n",
      "../dataset_train_v1/0009Inhibitor Read in 0.79 s\n"
     ]
    },
    {
     "name": "stderr",
     "output_type": "stream",
     "text": [
      "\r",
      " 12%|█▎        | 1/8 [00:33<03:53, 33.30s/it]"
     ]
    },
    {
     "name": "stdout",
     "output_type": "stream",
     "text": [
      "--> Mask 9 Read Complete, with dataset size: (10, 1, 80, 1000, 1000), 0 masks left ...\n",
      "\n",
      "../dataset_train_v1/0010Acid_ini Read in 0.74 s\n",
      "../dataset_train_v1/0010Inhibitor Read in 0.71 s\n",
      "--> Mask 10 Read Complete, with dataset size: (1, 1, 80, 1000, 1000), 9 masks left ...\n",
      "\n",
      "../dataset_train_v1/0011Acid_ini Read in 0.64 s\n",
      "../dataset_train_v1/0011Inhibitor Read in 0.69 s\n",
      "--> Mask 11 Read Complete, with dataset size: (2, 1, 80, 1000, 1000), 8 masks left ...\n",
      "\n",
      "../dataset_train_v1/0012Acid_ini Read in 0.65 s\n",
      "../dataset_train_v1/0012Inhibitor Read in 0.67 s\n",
      "--> Mask 12 Read Complete, with dataset size: (3, 1, 80, 1000, 1000), 7 masks left ...\n",
      "\n",
      "../dataset_train_v1/0013Acid_ini Read in 0.66 s\n",
      "../dataset_train_v1/0013Inhibitor Read in 0.71 s\n",
      "--> Mask 13 Read Complete, with dataset size: (4, 1, 80, 1000, 1000), 6 masks left ...\n",
      "\n",
      "../dataset_train_v1/0014Acid_ini Read in 0.69 s\n",
      "../dataset_train_v1/0014Inhibitor Read in 0.68 s\n",
      "--> Mask 14 Read Complete, with dataset size: (5, 1, 80, 1000, 1000), 5 masks left ...\n",
      "\n",
      "../dataset_train_v1/0015Acid_ini Read in 0.76 s\n",
      "../dataset_train_v1/0015Inhibitor Read in 0.72 s\n",
      "--> Mask 15 Read Complete, with dataset size: (6, 1, 80, 1000, 1000), 4 masks left ...\n",
      "\n",
      "../dataset_train_v1/0016Acid_ini Read in 0.75 s\n",
      "../dataset_train_v1/0016Inhibitor Read in 0.77 s\n",
      "--> Mask 16 Read Complete, with dataset size: (7, 1, 80, 1000, 1000), 3 masks left ...\n",
      "\n",
      "../dataset_train_v1/0017Acid_ini Read in 0.75 s\n",
      "../dataset_train_v1/0017Inhibitor Read in 0.78 s\n",
      "--> Mask 17 Read Complete, with dataset size: (8, 1, 80, 1000, 1000), 2 masks left ...\n",
      "\n",
      "../dataset_train_v1/0018Acid_ini Read in 0.77 s\n",
      "../dataset_train_v1/0018Inhibitor Read in 0.62 s\n",
      "--> Mask 18 Read Complete, with dataset size: (9, 1, 80, 1000, 1000), 1 masks left ...\n",
      "\n",
      "../dataset_train_v1/0019Acid_ini Read in 0.15 s\n",
      "../dataset_train_v1/0019Inhibitor Read in 0.14 s\n"
     ]
    },
    {
     "name": "stderr",
     "output_type": "stream",
     "text": [
      "\r",
      " 25%|██▌       | 2/8 [01:06<03:18, 33.09s/it]"
     ]
    },
    {
     "name": "stdout",
     "output_type": "stream",
     "text": [
      "--> Mask 19 Read Complete, with dataset size: (10, 1, 80, 1000, 1000), 0 masks left ...\n",
      "\n",
      "../dataset_train_v1/0020Acid_ini Read in 0.13 s\n",
      "../dataset_train_v1/0020Inhibitor Read in 0.13 s\n",
      "--> Mask 20 Read Complete, with dataset size: (1, 1, 80, 1000, 1000), 9 masks left ...\n",
      "\n",
      "../dataset_train_v1/0021Acid_ini Read in 0.13 s\n",
      "../dataset_train_v1/0021Inhibitor Read in 0.13 s\n",
      "--> Mask 21 Read Complete, with dataset size: (2, 1, 80, 1000, 1000), 8 masks left ...\n",
      "\n",
      "../dataset_train_v1/0022Acid_ini Read in 0.13 s\n",
      "../dataset_train_v1/0022Inhibitor Read in 0.12 s\n",
      "--> Mask 22 Read Complete, with dataset size: (3, 1, 80, 1000, 1000), 7 masks left ...\n",
      "\n",
      "../dataset_train_v1/0023Acid_ini Read in 0.12 s\n",
      "../dataset_train_v1/0023Inhibitor Read in 0.12 s\n",
      "--> Mask 23 Read Complete, with dataset size: (4, 1, 80, 1000, 1000), 6 masks left ...\n",
      "\n",
      "../dataset_train_v1/0024Acid_ini Read in 0.12 s\n",
      "../dataset_train_v1/0024Inhibitor Read in 0.12 s\n",
      "--> Mask 24 Read Complete, with dataset size: (5, 1, 80, 1000, 1000), 5 masks left ...\n",
      "\n",
      "../dataset_train_v1/0025Acid_ini Read in 0.12 s\n",
      "../dataset_train_v1/0025Inhibitor Read in 0.12 s\n",
      "--> Mask 25 Read Complete, with dataset size: (6, 1, 80, 1000, 1000), 4 masks left ...\n",
      "\n",
      "../dataset_train_v1/0026Acid_ini Read in 0.13 s\n",
      "../dataset_train_v1/0026Inhibitor Read in 0.12 s\n",
      "--> Mask 26 Read Complete, with dataset size: (7, 1, 80, 1000, 1000), 3 masks left ...\n",
      "\n",
      "../dataset_train_v1/0027Acid_ini Read in 0.12 s\n",
      "../dataset_train_v1/0027Inhibitor Read in 0.12 s\n",
      "--> Mask 27 Read Complete, with dataset size: (8, 1, 80, 1000, 1000), 2 masks left ...\n",
      "\n",
      "../dataset_train_v1/0028Acid_ini Read in 0.12 s\n",
      "../dataset_train_v1/0028Inhibitor Read in 0.12 s\n",
      "--> Mask 28 Read Complete, with dataset size: (9, 1, 80, 1000, 1000), 1 masks left ...\n",
      "\n",
      "../dataset_train_v1/0029Acid_ini Read in 0.14 s\n",
      "../dataset_train_v1/0029Inhibitor Read in 0.14 s\n"
     ]
    },
    {
     "name": "stderr",
     "output_type": "stream",
     "text": [
      "\r",
      " 38%|███▊      | 3/8 [01:28<02:20, 28.19s/it]"
     ]
    },
    {
     "name": "stdout",
     "output_type": "stream",
     "text": [
      "--> Mask 29 Read Complete, with dataset size: (10, 1, 80, 1000, 1000), 0 masks left ...\n",
      "\n",
      "../dataset_train_v1/0030Acid_ini Read in 0.13 s\n",
      "../dataset_train_v1/0030Inhibitor Read in 0.13 s\n",
      "--> Mask 30 Read Complete, with dataset size: (1, 1, 80, 1000, 1000), 9 masks left ...\n",
      "\n",
      "../dataset_train_v1/0031Acid_ini Read in 0.13 s\n",
      "../dataset_train_v1/0031Inhibitor Read in 0.13 s\n",
      "--> Mask 31 Read Complete, with dataset size: (2, 1, 80, 1000, 1000), 8 masks left ...\n",
      "\n",
      "../dataset_train_v1/0032Acid_ini Read in 0.14 s\n",
      "../dataset_train_v1/0032Inhibitor Read in 0.12 s\n",
      "--> Mask 32 Read Complete, with dataset size: (3, 1, 80, 1000, 1000), 7 masks left ...\n",
      "\n",
      "../dataset_train_v1/0033Acid_ini Read in 0.12 s\n",
      "../dataset_train_v1/0033Inhibitor Read in 0.42 s\n",
      "--> Mask 33 Read Complete, with dataset size: (4, 1, 80, 1000, 1000), 6 masks left ...\n",
      "\n",
      "../dataset_train_v1/0034Acid_ini Read in 0.42 s\n",
      "../dataset_train_v1/0034Inhibitor Read in 0.37 s\n",
      "--> Mask 34 Read Complete, with dataset size: (5, 1, 80, 1000, 1000), 5 masks left ...\n",
      "\n",
      "../dataset_train_v1/0035Acid_ini Read in 0.42 s\n",
      "../dataset_train_v1/0035Inhibitor Read in 0.51 s\n",
      "--> Mask 35 Read Complete, with dataset size: (6, 1, 80, 1000, 1000), 4 masks left ...\n",
      "\n",
      "../dataset_train_v1/0036Acid_ini Read in 0.60 s\n",
      "../dataset_train_v1/0036Inhibitor Read in 0.47 s\n",
      "--> Mask 36 Read Complete, with dataset size: (7, 1, 80, 1000, 1000), 3 masks left ...\n",
      "\n",
      "../dataset_train_v1/0037Acid_ini Read in 0.42 s\n",
      "../dataset_train_v1/0037Inhibitor Read in 0.39 s\n",
      "--> Mask 37 Read Complete, with dataset size: (8, 1, 80, 1000, 1000), 2 masks left ...\n",
      "\n",
      "../dataset_train_v1/0038Acid_ini Read in 0.43 s\n",
      "../dataset_train_v1/0038Inhibitor Read in 0.54 s\n",
      "--> Mask 38 Read Complete, with dataset size: (9, 1, 80, 1000, 1000), 1 masks left ...\n",
      "\n",
      "../dataset_train_v1/0039Acid_ini Read in 0.47 s\n",
      "../dataset_train_v1/0039Inhibitor Read in 0.46 s\n"
     ]
    },
    {
     "name": "stderr",
     "output_type": "stream",
     "text": [
      "\r",
      " 50%|█████     | 4/8 [01:55<01:50, 27.61s/it]"
     ]
    },
    {
     "name": "stdout",
     "output_type": "stream",
     "text": [
      "--> Mask 39 Read Complete, with dataset size: (10, 1, 80, 1000, 1000), 0 masks left ...\n",
      "\n",
      "../dataset_train_v1/0040Acid_ini Read in 0.46 s\n",
      "../dataset_train_v1/0040Inhibitor Read in 0.60 s\n",
      "--> Mask 40 Read Complete, with dataset size: (1, 1, 80, 1000, 1000), 9 masks left ...\n",
      "\n",
      "../dataset_train_v1/0041Acid_ini Read in 0.38 s\n",
      "../dataset_train_v1/0041Inhibitor Read in 0.42 s\n",
      "--> Mask 41 Read Complete, with dataset size: (2, 1, 80, 1000, 1000), 8 masks left ...\n",
      "\n",
      "../dataset_train_v1/0042Acid_ini Read in 0.48 s\n",
      "../dataset_train_v1/0042Inhibitor Read in 0.36 s\n",
      "--> Mask 42 Read Complete, with dataset size: (3, 1, 80, 1000, 1000), 7 masks left ...\n",
      "\n",
      "../dataset_train_v1/0043Acid_ini Read in 0.52 s\n",
      "../dataset_train_v1/0043Inhibitor Read in 0.49 s\n",
      "--> Mask 43 Read Complete, with dataset size: (4, 1, 80, 1000, 1000), 6 masks left ...\n",
      "\n",
      "../dataset_train_v1/0044Acid_ini Read in 0.42 s\n",
      "../dataset_train_v1/0044Inhibitor Read in 0.52 s\n",
      "--> Mask 44 Read Complete, with dataset size: (5, 1, 80, 1000, 1000), 5 masks left ...\n",
      "\n",
      "../dataset_train_v1/0045Acid_ini Read in 0.56 s\n",
      "../dataset_train_v1/0045Inhibitor Read in 0.19 s\n",
      "--> Mask 45 Read Complete, with dataset size: (6, 1, 80, 1000, 1000), 4 masks left ...\n",
      "\n",
      "../dataset_train_v1/0046Acid_ini Read in 0.13 s\n",
      "../dataset_train_v1/0046Inhibitor Read in 0.13 s\n",
      "--> Mask 46 Read Complete, with dataset size: (7, 1, 80, 1000, 1000), 3 masks left ...\n",
      "\n",
      "../dataset_train_v1/0047Acid_ini Read in 0.13 s\n",
      "../dataset_train_v1/0047Inhibitor Read in 0.13 s\n",
      "--> Mask 47 Read Complete, with dataset size: (8, 1, 80, 1000, 1000), 2 masks left ...\n",
      "\n",
      "../dataset_train_v1/0048Acid_ini Read in 0.13 s\n",
      "../dataset_train_v1/0048Inhibitor Read in 0.13 s\n",
      "--> Mask 48 Read Complete, with dataset size: (9, 1, 80, 1000, 1000), 1 masks left ...\n",
      "\n",
      "../dataset_train_v1/0049Acid_ini Read in 0.13 s\n",
      "../dataset_train_v1/0049Inhibitor Read in 0.13 s\n"
     ]
    },
    {
     "name": "stderr",
     "output_type": "stream",
     "text": [
      "\r",
      " 62%|██████▎   | 5/8 [02:21<01:21, 27.15s/it]"
     ]
    },
    {
     "name": "stdout",
     "output_type": "stream",
     "text": [
      "--> Mask 49 Read Complete, with dataset size: (10, 1, 80, 1000, 1000), 0 masks left ...\n",
      "\n",
      "../dataset_train_v1/0050Acid_ini Read in 0.13 s\n",
      "../dataset_train_v1/0050Inhibitor Read in 0.13 s\n",
      "--> Mask 50 Read Complete, with dataset size: (1, 1, 80, 1000, 1000), 9 masks left ...\n",
      "\n",
      "../dataset_train_v1/0051Acid_ini Read in 0.13 s\n",
      "../dataset_train_v1/0051Inhibitor Read in 0.13 s\n",
      "--> Mask 51 Read Complete, with dataset size: (2, 1, 80, 1000, 1000), 8 masks left ...\n",
      "\n",
      "../dataset_train_v1/0052Acid_ini Read in 0.14 s\n",
      "../dataset_train_v1/0052Inhibitor Read in 0.13 s\n",
      "--> Mask 52 Read Complete, with dataset size: (3, 1, 80, 1000, 1000), 7 masks left ...\n",
      "\n",
      "../dataset_train_v1/0053Acid_ini Read in 0.13 s\n",
      "../dataset_train_v1/0053Inhibitor Read in 0.12 s\n",
      "--> Mask 53 Read Complete, with dataset size: (4, 1, 80, 1000, 1000), 6 masks left ...\n",
      "\n",
      "../dataset_train_v1/0054Acid_ini Read in 0.12 s\n",
      "../dataset_train_v1/0054Inhibitor Read in 0.11 s\n",
      "--> Mask 54 Read Complete, with dataset size: (5, 1, 80, 1000, 1000), 5 masks left ...\n",
      "\n",
      "../dataset_train_v1/0055Acid_ini Read in 0.12 s\n",
      "../dataset_train_v1/0055Inhibitor Read in 0.11 s\n",
      "--> Mask 55 Read Complete, with dataset size: (6, 1, 80, 1000, 1000), 4 masks left ...\n",
      "\n",
      "../dataset_train_v1/0056Acid_ini Read in 0.11 s\n",
      "../dataset_train_v1/0056Inhibitor Read in 0.11 s\n",
      "--> Mask 56 Read Complete, with dataset size: (7, 1, 80, 1000, 1000), 3 masks left ...\n",
      "\n",
      "../dataset_train_v1/0057Acid_ini Read in 0.12 s\n",
      "../dataset_train_v1/0057Inhibitor Read in 0.11 s\n",
      "--> Mask 57 Read Complete, with dataset size: (8, 1, 80, 1000, 1000), 2 masks left ...\n",
      "\n",
      "../dataset_train_v1/0058Acid_ini Read in 0.11 s\n",
      "../dataset_train_v1/0058Inhibitor Read in 0.11 s\n",
      "--> Mask 58 Read Complete, with dataset size: (9, 1, 80, 1000, 1000), 1 masks left ...\n",
      "\n",
      "../dataset_train_v1/0059Acid_ini Read in 0.12 s\n",
      "../dataset_train_v1/0059Inhibitor Read in 0.12 s\n"
     ]
    },
    {
     "name": "stderr",
     "output_type": "stream",
     "text": [
      "\r",
      " 75%|███████▌  | 6/8 [02:43<00:50, 25.50s/it]"
     ]
    },
    {
     "name": "stdout",
     "output_type": "stream",
     "text": [
      "--> Mask 59 Read Complete, with dataset size: (10, 1, 80, 1000, 1000), 0 masks left ...\n",
      "\n",
      "../dataset_train_v1/0060Acid_ini Read in 0.12 s\n",
      "../dataset_train_v1/0060Inhibitor Read in 0.12 s\n",
      "--> Mask 60 Read Complete, with dataset size: (1, 1, 80, 1000, 1000), 9 masks left ...\n",
      "\n",
      "../dataset_train_v1/0061Acid_ini Read in 0.12 s\n",
      "../dataset_train_v1/0061Inhibitor Read in 0.12 s\n",
      "--> Mask 61 Read Complete, with dataset size: (2, 1, 80, 1000, 1000), 8 masks left ...\n",
      "\n",
      "../dataset_train_v1/0062Acid_ini Read in 0.11 s\n",
      "../dataset_train_v1/0062Inhibitor Read in 0.11 s\n",
      "--> Mask 62 Read Complete, with dataset size: (3, 1, 80, 1000, 1000), 7 masks left ...\n",
      "\n",
      "../dataset_train_v1/0063Acid_ini Read in 0.12 s\n",
      "../dataset_train_v1/0063Inhibitor Read in 0.12 s\n",
      "--> Mask 63 Read Complete, with dataset size: (4, 1, 80, 1000, 1000), 6 masks left ...\n",
      "\n",
      "../dataset_train_v1/0064Acid_ini Read in 0.12 s\n",
      "../dataset_train_v1/0064Inhibitor Read in 0.13 s\n",
      "--> Mask 64 Read Complete, with dataset size: (5, 1, 80, 1000, 1000), 5 masks left ...\n",
      "\n",
      "../dataset_train_v1/0065Acid_ini Read in 0.11 s\n",
      "../dataset_train_v1/0065Inhibitor Read in 0.11 s\n",
      "--> Mask 65 Read Complete, with dataset size: (6, 1, 80, 1000, 1000), 4 masks left ...\n",
      "\n",
      "../dataset_train_v1/0066Acid_ini Read in 0.11 s\n",
      "../dataset_train_v1/0066Inhibitor Read in 0.12 s\n",
      "--> Mask 66 Read Complete, with dataset size: (7, 1, 80, 1000, 1000), 3 masks left ...\n",
      "\n",
      "../dataset_train_v1/0067Acid_ini Read in 0.12 s\n",
      "../dataset_train_v1/0067Inhibitor Read in 0.12 s\n",
      "--> Mask 67 Read Complete, with dataset size: (8, 1, 80, 1000, 1000), 2 masks left ...\n",
      "\n",
      "../dataset_train_v1/0068Acid_ini Read in 0.11 s\n",
      "../dataset_train_v1/0068Inhibitor Read in 0.11 s\n",
      "--> Mask 68 Read Complete, with dataset size: (9, 1, 80, 1000, 1000), 1 masks left ...\n",
      "\n",
      "../dataset_train_v1/0069Acid_ini Read in 0.12 s\n",
      "../dataset_train_v1/0069Inhibitor Read in 0.12 s\n"
     ]
    },
    {
     "name": "stderr",
     "output_type": "stream",
     "text": [
      "\r",
      " 88%|████████▊ | 7/8 [03:06<00:24, 24.42s/it]"
     ]
    },
    {
     "name": "stdout",
     "output_type": "stream",
     "text": [
      "--> Mask 69 Read Complete, with dataset size: (10, 1, 80, 1000, 1000), 0 masks left ...\n",
      "\n",
      "../dataset_train_v1/0070Acid_ini Read in 0.12 s\n",
      "../dataset_train_v1/0070Inhibitor Read in 0.11 s\n",
      "--> Mask 70 Read Complete, with dataset size: (1, 1, 80, 1000, 1000), 9 masks left ...\n",
      "\n",
      "../dataset_train_v1/0071Acid_ini Read in 0.12 s\n",
      "../dataset_train_v1/0071Inhibitor Read in 0.12 s\n",
      "--> Mask 71 Read Complete, with dataset size: (2, 1, 80, 1000, 1000), 8 masks left ...\n",
      "\n",
      "../dataset_train_v1/0072Acid_ini Read in 0.12 s\n",
      "../dataset_train_v1/0072Inhibitor Read in 0.11 s\n",
      "--> Mask 72 Read Complete, with dataset size: (3, 1, 80, 1000, 1000), 7 masks left ...\n",
      "\n",
      "../dataset_train_v1/0073Acid_ini Read in 0.12 s\n",
      "../dataset_train_v1/0073Inhibitor Read in 0.11 s\n",
      "--> Mask 73 Read Complete, with dataset size: (4, 1, 80, 1000, 1000), 6 masks left ...\n",
      "\n",
      "../dataset_train_v1/0074Acid_ini Read in 0.11 s\n",
      "../dataset_train_v1/0074Inhibitor Read in 0.13 s\n",
      "--> Mask 74 Read Complete, with dataset size: (5, 1, 80, 1000, 1000), 5 masks left ...\n",
      "\n",
      "../dataset_train_v1/0075Acid_ini Read in 0.13 s\n",
      "../dataset_train_v1/0075Inhibitor Read in 0.13 s\n",
      "--> Mask 75 Read Complete, with dataset size: (6, 1, 80, 1000, 1000), 4 masks left ...\n",
      "\n",
      "../dataset_train_v1/0076Acid_ini Read in 0.13 s\n",
      "../dataset_train_v1/0076Inhibitor Read in 0.13 s\n",
      "--> Mask 76 Read Complete, with dataset size: (7, 1, 80, 1000, 1000), 3 masks left ...\n",
      "\n",
      "../dataset_train_v1/0077Acid_ini Read in 0.13 s\n",
      "../dataset_train_v1/0077Inhibitor Read in 0.13 s\n",
      "--> Mask 77 Read Complete, with dataset size: (8, 1, 80, 1000, 1000), 2 masks left ...\n",
      "\n",
      "../dataset_train_v1/0078Acid_ini Read in 0.13 s\n",
      "../dataset_train_v1/0078Inhibitor Read in 0.13 s\n",
      "--> Mask 78 Read Complete, with dataset size: (9, 1, 80, 1000, 1000), 1 masks left ...\n",
      "\n",
      "../dataset_train_v1/0079Acid_ini Read in 0.13 s\n",
      "../dataset_train_v1/0079Inhibitor Read in 0.13 s\n"
     ]
    },
    {
     "name": "stderr",
     "output_type": "stream",
     "text": [
      "100%|██████████| 8/8 [03:28<00:00, 26.07s/it]\n"
     ]
    },
    {
     "name": "stdout",
     "output_type": "stream",
     "text": [
      "--> Mask 79 Read Complete, with dataset size: (10, 1, 80, 1000, 1000), 0 masks left ...\n",
      "\n"
     ]
    },
    {
     "name": "stderr",
     "output_type": "stream",
     "text": [
      "\r",
      "  0%|          | 0/2 [00:00<?, ?it/s]"
     ]
    },
    {
     "name": "stdout",
     "output_type": "stream",
     "text": [
      "../dataset_train_v1/0080Acid_ini Read in 0.13 s\n",
      "../dataset_train_v1/0080Inhibitor Read in 0.11 s\n",
      "--> Mask 80 Read Complete, with dataset size: (1, 1, 80, 1000, 1000), 9 masks left ...\n",
      "\n",
      "../dataset_train_v1/0081Acid_ini Read in 0.11 s\n",
      "../dataset_train_v1/0081Inhibitor Read in 0.11 s\n",
      "--> Mask 81 Read Complete, with dataset size: (2, 1, 80, 1000, 1000), 8 masks left ...\n",
      "\n",
      "../dataset_train_v1/0082Acid_ini Read in 0.12 s\n",
      "../dataset_train_v1/0082Inhibitor Read in 0.11 s\n",
      "--> Mask 82 Read Complete, with dataset size: (3, 1, 80, 1000, 1000), 7 masks left ...\n",
      "\n",
      "../dataset_train_v1/0083Acid_ini Read in 0.14 s\n",
      "../dataset_train_v1/0083Inhibitor Read in 0.13 s\n",
      "--> Mask 83 Read Complete, with dataset size: (4, 1, 80, 1000, 1000), 6 masks left ...\n",
      "\n",
      "../dataset_train_v1/0084Acid_ini Read in 0.13 s\n",
      "../dataset_train_v1/0084Inhibitor Read in 0.12 s\n",
      "--> Mask 84 Read Complete, with dataset size: (5, 1, 80, 1000, 1000), 5 masks left ...\n",
      "\n",
      "../dataset_train_v1/0085Acid_ini Read in 0.15 s\n",
      "../dataset_train_v1/0085Inhibitor Read in 0.13 s\n",
      "--> Mask 85 Read Complete, with dataset size: (6, 1, 80, 1000, 1000), 4 masks left ...\n",
      "\n",
      "../dataset_train_v1/0086Acid_ini Read in 0.13 s\n",
      "../dataset_train_v1/0086Inhibitor Read in 0.12 s\n",
      "--> Mask 86 Read Complete, with dataset size: (7, 1, 80, 1000, 1000), 3 masks left ...\n",
      "\n",
      "../dataset_train_v1/0087Acid_ini Read in 0.12 s\n",
      "../dataset_train_v1/0087Inhibitor Read in 0.12 s\n",
      "--> Mask 87 Read Complete, with dataset size: (8, 1, 80, 1000, 1000), 2 masks left ...\n",
      "\n",
      "../dataset_train_v1/0088Acid_ini Read in 0.12 s\n",
      "../dataset_train_v1/0088Inhibitor Read in 0.11 s\n",
      "--> Mask 88 Read Complete, with dataset size: (9, 1, 80, 1000, 1000), 1 masks left ...\n",
      "\n",
      "../dataset_train_v1/0089Acid_ini Read in 0.12 s\n",
      "../dataset_train_v1/0089Inhibitor Read in 0.11 s\n"
     ]
    },
    {
     "name": "stderr",
     "output_type": "stream",
     "text": [
      "\r",
      " 50%|█████     | 1/2 [00:22<00:22, 22.35s/it]"
     ]
    },
    {
     "name": "stdout",
     "output_type": "stream",
     "text": [
      "--> Mask 89 Read Complete, with dataset size: (10, 1, 80, 1000, 1000), 0 masks left ...\n",
      "\n",
      "../dataset_train_v1/0090Acid_ini Read in 0.13 s\n",
      "../dataset_train_v1/0090Inhibitor Read in 0.13 s\n",
      "--> Mask 90 Read Complete, with dataset size: (1, 1, 80, 1000, 1000), 9 masks left ...\n",
      "\n",
      "../dataset_train_v1/0091Acid_ini Read in 0.13 s\n",
      "../dataset_train_v1/0091Inhibitor Read in 0.12 s\n",
      "--> Mask 91 Read Complete, with dataset size: (2, 1, 80, 1000, 1000), 8 masks left ...\n",
      "\n",
      "../dataset_train_v1/0092Acid_ini Read in 0.13 s\n",
      "../dataset_train_v1/0092Inhibitor Read in 0.13 s\n",
      "--> Mask 92 Read Complete, with dataset size: (3, 1, 80, 1000, 1000), 7 masks left ...\n",
      "\n",
      "../dataset_train_v1/0093Acid_ini Read in 0.14 s\n",
      "../dataset_train_v1/0093Inhibitor Read in 0.12 s\n",
      "--> Mask 93 Read Complete, with dataset size: (4, 1, 80, 1000, 1000), 6 masks left ...\n",
      "\n",
      "../dataset_train_v1/0094Acid_ini Read in 0.12 s\n",
      "../dataset_train_v1/0094Inhibitor Read in 0.12 s\n",
      "--> Mask 94 Read Complete, with dataset size: (5, 1, 80, 1000, 1000), 5 masks left ...\n",
      "\n",
      "../dataset_train_v1/0095Acid_ini Read in 0.13 s\n",
      "../dataset_train_v1/0095Inhibitor Read in 0.14 s\n",
      "--> Mask 95 Read Complete, with dataset size: (6, 1, 80, 1000, 1000), 4 masks left ...\n",
      "\n",
      "../dataset_train_v1/0096Acid_ini Read in 0.15 s\n",
      "../dataset_train_v1/0096Inhibitor Read in 0.13 s\n",
      "--> Mask 96 Read Complete, with dataset size: (7, 1, 80, 1000, 1000), 3 masks left ...\n",
      "\n",
      "../dataset_train_v1/0097Acid_ini Read in 0.13 s\n",
      "../dataset_train_v1/0097Inhibitor Read in 0.13 s\n",
      "--> Mask 97 Read Complete, with dataset size: (8, 1, 80, 1000, 1000), 2 masks left ...\n",
      "\n",
      "../dataset_train_v1/0098Acid_ini Read in 0.14 s\n",
      "../dataset_train_v1/0098Inhibitor Read in 0.12 s\n",
      "--> Mask 98 Read Complete, with dataset size: (9, 1, 80, 1000, 1000), 1 masks left ...\n",
      "\n",
      "../dataset_train_v1/0099Acid_ini Read in 0.67 s\n",
      "../dataset_train_v1/0099Inhibitor Read in 0.69 s\n"
     ]
    },
    {
     "name": "stderr",
     "output_type": "stream",
     "text": [
      "100%|██████████| 2/2 [00:49<00:00, 24.61s/it]"
     ]
    },
    {
     "name": "stdout",
     "output_type": "stream",
     "text": [
      "--> Mask 99 Read Complete, with dataset size: (10, 1, 80, 1000, 1000), 0 masks left ...\n",
      "\n"
     ]
    },
    {
     "name": "stderr",
     "output_type": "stream",
     "text": [
      "\n"
     ]
    }
   ],
   "source": [
    "dataset_train = dataset_append(opt, opt.dataidx_train, res_trans)\n",
    "dataset_test = dataset_append(opt, opt.dataidx_test, res_trans)"
   ]
  },
  {
   "cell_type": "code",
   "execution_count": 5,
   "metadata": {},
   "outputs": [],
   "source": [
    "def opt_strategy(netG, netD, opt):\n",
    "    optimizerD = torch.optim.Adam(netD.parameters(), lr = 3e-4,)# weight_decay=1e-4)\n",
    "    optimizerG = torch.optim.Adam(netG.parameters(), lr = 1e-3,)\n",
    "    schedulerG = torch.optim.lr_scheduler.StepLR(optimizerG, step_size=50, gamma=0.9)\n",
    "    schedulerD = torch.optim.lr_scheduler.StepLR(optimizerD, step_size=50, gamma=0.9)\n",
    "    return optimizerG, optimizerD, schedulerG, schedulerD"
   ]
  },
  {
   "cell_type": "code",
   "execution_count": 10,
   "metadata": {
    "scrolled": true
   },
   "outputs": [
    {
     "name": "stderr",
     "output_type": "stream",
     "text": [
      "  0%|          | 1/1000 [01:32<25:36:57, 92.31s/it]"
     ]
    },
    {
     "name": "stdout",
     "output_type": "stream",
     "text": [
      "Epoch 0 | LR: 1.00e-03 | Train Loss: 1.16e+00(G) 1.59e-02(D) | Test Loss: 2.52e+01, 4.85e-02, 79.87%\n"
     ]
    },
    {
     "name": "stderr",
     "output_type": "stream",
     "text": [
      "  2%|▏         | 21/1000 [29:51<23:39:01, 86.97s/it]"
     ]
    },
    {
     "name": "stdout",
     "output_type": "stream",
     "text": [
      "Epoch 20 | LR: 1.00e-03 | Train Loss: 1.07e-01(G) 1.60e-02(D) | Test Loss: 1.83e+01, 6.75e-02, 95.68%\n"
     ]
    },
    {
     "name": "stderr",
     "output_type": "stream",
     "text": [
      "  4%|▍         | 41/1000 [58:09<23:08:09, 86.85s/it]"
     ]
    },
    {
     "name": "stdout",
     "output_type": "stream",
     "text": [
      "Epoch 40 | LR: 1.00e-03 | Train Loss: 5.99e-02(G) 1.61e-02(D) | Test Loss: 1.80e+01, 7.16e-02, 94.17%\n"
     ]
    },
    {
     "name": "stderr",
     "output_type": "stream",
     "text": [
      "  6%|▌         | 61/1000 [1:26:28<22:40:30, 86.93s/it]"
     ]
    },
    {
     "name": "stdout",
     "output_type": "stream",
     "text": [
      "Epoch 60 | LR: 9.00e-04 | Train Loss: 3.37e-02(G) 1.62e-02(D) | Test Loss: 1.83e+01, 5.27e-02, 85.98%\n"
     ]
    },
    {
     "name": "stderr",
     "output_type": "stream",
     "text": [
      "  8%|▊         | 81/1000 [1:54:47<22:11:33, 86.94s/it]"
     ]
    },
    {
     "name": "stdout",
     "output_type": "stream",
     "text": [
      "Epoch 80 | LR: 9.00e-04 | Train Loss: 3.71e-02(G) 1.62e-02(D) | Test Loss: 1.83e+01, 5.49e-02, 82.45%\n"
     ]
    },
    {
     "name": "stderr",
     "output_type": "stream",
     "text": [
      " 10%|█         | 101/1000 [2:23:06<21:42:03, 86.90s/it]"
     ]
    },
    {
     "name": "stdout",
     "output_type": "stream",
     "text": [
      "Epoch 100 | LR: 8.10e-04 | Train Loss: 2.35e-02(G) 1.63e-02(D) | Test Loss: 1.86e+01, 4.19e-02, 79.41%\n"
     ]
    },
    {
     "name": "stderr",
     "output_type": "stream",
     "text": [
      " 12%|█▏        | 121/1000 [2:51:23<21:13:08, 86.90s/it]"
     ]
    },
    {
     "name": "stdout",
     "output_type": "stream",
     "text": [
      "Epoch 120 | LR: 8.10e-04 | Train Loss: 2.72e-02(G) 1.63e-02(D) | Test Loss: 1.84e+01, 5.28e-02, 74.57%\n"
     ]
    },
    {
     "name": "stderr",
     "output_type": "stream",
     "text": [
      " 14%|█▍        | 141/1000 [3:19:42<20:44:46, 86.95s/it]"
     ]
    },
    {
     "name": "stdout",
     "output_type": "stream",
     "text": [
      "Epoch 140 | LR: 8.10e-04 | Train Loss: 4.15e-02(G) 1.63e-02(D) | Test Loss: 1.86e+01, 3.88e-02, 63.27%\n"
     ]
    },
    {
     "name": "stderr",
     "output_type": "stream",
     "text": [
      " 16%|█▌        | 161/1000 [3:48:02<20:16:27, 86.99s/it]"
     ]
    },
    {
     "name": "stdout",
     "output_type": "stream",
     "text": [
      "Epoch 160 | LR: 7.29e-04 | Train Loss: 2.42e-02(G) 1.64e-02(D) | Test Loss: 1.89e+01, 3.12e-02, 48.93%\n"
     ]
    },
    {
     "name": "stderr",
     "output_type": "stream",
     "text": [
      " 18%|█▊        | 181/1000 [4:16:19<19:42:33, 86.63s/it]"
     ]
    },
    {
     "name": "stdout",
     "output_type": "stream",
     "text": [
      "Epoch 180 | LR: 7.29e-04 | Train Loss: 2.18e-02(G) 1.64e-02(D) | Test Loss: 1.88e+01, 2.05e-02, 30.24%\n"
     ]
    },
    {
     "name": "stderr",
     "output_type": "stream",
     "text": [
      " 20%|██        | 201/1000 [4:44:38<19:17:11, 86.90s/it]"
     ]
    },
    {
     "name": "stdout",
     "output_type": "stream",
     "text": [
      "Epoch 200 | LR: 6.56e-04 | Train Loss: 2.96e-02(G) 1.64e-02(D) | Test Loss: 1.89e+01, 1.44e-02, 19.97%\n"
     ]
    },
    {
     "name": "stderr",
     "output_type": "stream",
     "text": [
      " 22%|██▏       | 221/1000 [5:12:55<18:47:01, 86.81s/it]"
     ]
    },
    {
     "name": "stdout",
     "output_type": "stream",
     "text": [
      "Epoch 220 | LR: 6.56e-04 | Train Loss: 2.65e-02(G) 1.64e-02(D) | Test Loss: 1.88e+01, 1.19e-02, 17.59%\n"
     ]
    },
    {
     "name": "stderr",
     "output_type": "stream",
     "text": [
      " 24%|██▍       | 241/1000 [5:41:08<18:12:44, 86.38s/it]"
     ]
    },
    {
     "name": "stdout",
     "output_type": "stream",
     "text": [
      "Epoch 240 | LR: 6.56e-04 | Train Loss: 2.64e-02(G) 1.64e-02(D) | Test Loss: 1.89e+01, 8.48e-03, 16.65%\n"
     ]
    },
    {
     "name": "stderr",
     "output_type": "stream",
     "text": [
      " 26%|██▌       | 261/1000 [6:09:17<17:45:34, 86.52s/it]"
     ]
    },
    {
     "name": "stdout",
     "output_type": "stream",
     "text": [
      "Epoch 260 | LR: 5.90e-04 | Train Loss: 2.41e-02(G) 1.64e-02(D) | Test Loss: 1.89e+01, 7.75e-03, 16.60%\n"
     ]
    },
    {
     "name": "stderr",
     "output_type": "stream",
     "text": [
      " 28%|██▊       | 281/1000 [6:37:30<17:17:12, 86.55s/it]"
     ]
    },
    {
     "name": "stdout",
     "output_type": "stream",
     "text": [
      "Epoch 280 | LR: 5.90e-04 | Train Loss: 1.80e-02(G) 1.64e-02(D) | Test Loss: 1.86e+01, 9.37e-03, 13.45%\n",
      "\n",
      "!Model saved at Epoch 280, with Train Loss 1.80e-02(G) | Test Error(Ihb): 9.37e-03(MSE), 13.45%(NRMSE)\n",
      "\n",
      "!Model saved to  ./Ckpts/CGAN-G.pth\n",
      "\n",
      "!Model saved at Epoch 280, with Train Loss 1.64e-02(D) | \n",
      "!Model saved to  ./Ckpts/CGAN-D.pth\n"
     ]
    },
    {
     "name": "stderr",
     "output_type": "stream",
     "text": [
      " 30%|███       | 301/1000 [7:05:41<16:47:32, 86.48s/it]"
     ]
    },
    {
     "name": "stdout",
     "output_type": "stream",
     "text": [
      "Epoch 300 | LR: 5.31e-04 | Train Loss: 1.63e-02(G) 1.64e-02(D) | Test Loss: 1.87e+01, 7.74e-03, 15.67%\n"
     ]
    },
    {
     "name": "stderr",
     "output_type": "stream",
     "text": [
      " 32%|███▏      | 321/1000 [7:33:53<16:19:41, 86.57s/it]"
     ]
    },
    {
     "name": "stdout",
     "output_type": "stream",
     "text": [
      "Epoch 320 | LR: 5.31e-04 | Train Loss: 1.16e-02(G) 1.65e-02(D) | Test Loss: 1.86e+01, 1.01e-02, 11.79%\n",
      "\n",
      "!Model saved at Epoch 320, with Train Loss 1.16e-02(G) | Test Error(Ihb): 1.01e-02(MSE), 11.79%(NRMSE)\n",
      "\n",
      "!Model saved to  ./Ckpts/CGAN-G.pth\n",
      "\n",
      "!Model saved at Epoch 320, with Train Loss 1.65e-02(D) | \n",
      "!Model saved to  ./Ckpts/CGAN-D.pth\n"
     ]
    },
    {
     "name": "stderr",
     "output_type": "stream",
     "text": [
      " 34%|███▍      | 341/1000 [8:02:01<15:48:25, 86.35s/it]"
     ]
    },
    {
     "name": "stdout",
     "output_type": "stream",
     "text": [
      "Epoch 340 | LR: 5.31e-04 | Train Loss: 1.32e-02(G) 1.65e-02(D) | Test Loss: 1.88e+01, 6.63e-03, 12.39%\n"
     ]
    },
    {
     "name": "stderr",
     "output_type": "stream",
     "text": [
      " 36%|███▌      | 361/1000 [8:30:42<16:59:55, 95.77s/it]"
     ]
    },
    {
     "name": "stdout",
     "output_type": "stream",
     "text": [
      "Epoch 360 | LR: 4.78e-04 | Train Loss: 2.71e-02(G) 1.65e-02(D) | Test Loss: 1.86e+01, 9.33e-03, 10.94%\n",
      "\n",
      "!Model saved at Epoch 360, with Train Loss 2.71e-02(G) | Test Error(Ihb): 9.33e-03(MSE), 10.94%(NRMSE)\n",
      "\n",
      "!Model saved to  ./Ckpts/CGAN-G.pth\n",
      "\n",
      "!Model saved at Epoch 360, with Train Loss 1.65e-02(D) | \n",
      "!Model saved to  ./Ckpts/CGAN-D.pth\n"
     ]
    },
    {
     "name": "stderr",
     "output_type": "stream",
     "text": [
      " 38%|███▊      | 381/1000 [8:58:46<14:48:44, 86.15s/it]"
     ]
    },
    {
     "name": "stdout",
     "output_type": "stream",
     "text": [
      "Epoch 380 | LR: 4.78e-04 | Train Loss: 2.41e-02(G) 1.65e-02(D) | Test Loss: 1.87e+01, 7.54e-03, 11.38%\n"
     ]
    },
    {
     "name": "stderr",
     "output_type": "stream",
     "text": [
      " 40%|████      | 401/1000 [9:26:50<14:20:22, 86.18s/it]"
     ]
    },
    {
     "name": "stdout",
     "output_type": "stream",
     "text": [
      "Epoch 400 | LR: 4.30e-04 | Train Loss: 1.82e-02(G) 1.65e-02(D) | Test Loss: 1.86e+01, 6.05e-03, 11.35%\n"
     ]
    },
    {
     "name": "stderr",
     "output_type": "stream",
     "text": [
      " 42%|████▏     | 421/1000 [9:55:04<13:57:15, 86.76s/it]"
     ]
    },
    {
     "name": "stdout",
     "output_type": "stream",
     "text": [
      "Epoch 420 | LR: 4.30e-04 | Train Loss: 1.16e-02(G) 1.65e-02(D) | Test Loss: 1.86e+01, 7.57e-03, 10.53%\n"
     ]
    },
    {
     "name": "stderr",
     "output_type": "stream",
     "text": [
      " 44%|████▍     | 441/1000 [10:23:18<13:27:08, 86.63s/it]"
     ]
    },
    {
     "name": "stdout",
     "output_type": "stream",
     "text": [
      "Epoch 440 | LR: 4.30e-04 | Train Loss: 9.14e-03(G) 1.65e-02(D) | Test Loss: 1.84e+01, 7.70e-03, 11.24%\n"
     ]
    },
    {
     "name": "stderr",
     "output_type": "stream",
     "text": [
      " 46%|████▌     | 461/1000 [10:51:30<12:57:50, 86.59s/it]"
     ]
    },
    {
     "name": "stdout",
     "output_type": "stream",
     "text": [
      "Epoch 460 | LR: 3.87e-04 | Train Loss: 9.83e-03(G) 1.65e-02(D) | Test Loss: 1.84e+01, 7.28e-03, 11.06%\n"
     ]
    },
    {
     "name": "stderr",
     "output_type": "stream",
     "text": [
      " 48%|████▊     | 481/1000 [11:19:41<12:28:05, 86.48s/it]"
     ]
    },
    {
     "name": "stdout",
     "output_type": "stream",
     "text": [
      "Epoch 480 | LR: 3.87e-04 | Train Loss: 1.51e-02(G) 1.65e-02(D) | Test Loss: 1.83e+01, 8.67e-03, 10.07%\n",
      "\n",
      "!Model saved at Epoch 480, with Train Loss 1.51e-02(G) | Test Error(Ihb): 8.67e-03(MSE), 10.07%(NRMSE)\n",
      "\n",
      "!Model saved to  ./Ckpts/CGAN-G.pth\n",
      "\n",
      "!Model saved at Epoch 480, with Train Loss 1.65e-02(D) | \n",
      "!Model saved to  ./Ckpts/CGAN-D.pth\n"
     ]
    },
    {
     "name": "stderr",
     "output_type": "stream",
     "text": [
      " 50%|█████     | 501/1000 [11:47:56<12:01:02, 86.70s/it]"
     ]
    },
    {
     "name": "stdout",
     "output_type": "stream",
     "text": [
      "Epoch 500 | LR: 3.49e-04 | Train Loss: 7.95e-03(G) 1.65e-02(D) | Test Loss: 1.86e+01, 6.16e-03, 9.20%\n",
      "\n",
      "!Model saved at Epoch 500, with Train Loss 7.95e-03(G) | Test Error(Ihb): 6.16e-03(MSE), 9.20%(NRMSE)\n",
      "\n",
      "!Model saved to  ./Ckpts/CGAN-G.pth\n",
      "\n",
      "!Model saved at Epoch 500, with Train Loss 1.65e-02(D) | \n",
      "!Model saved to  ./Ckpts/CGAN-D.pth\n"
     ]
    },
    {
     "name": "stderr",
     "output_type": "stream",
     "text": [
      " 52%|█████▏    | 521/1000 [12:16:12<11:33:12, 86.83s/it]"
     ]
    },
    {
     "name": "stdout",
     "output_type": "stream",
     "text": [
      "Epoch 520 | LR: 3.49e-04 | Train Loss: 9.46e-03(G) 1.65e-02(D) | Test Loss: 1.84e+01, 6.37e-03, 9.31%\n"
     ]
    },
    {
     "name": "stderr",
     "output_type": "stream",
     "text": [
      " 54%|█████▍    | 541/1000 [12:44:28<11:03:32, 86.74s/it]"
     ]
    },
    {
     "name": "stdout",
     "output_type": "stream",
     "text": [
      "Epoch 540 | LR: 3.49e-04 | Train Loss: 1.34e-02(G) 1.65e-02(D) | Test Loss: 1.86e+01, 6.17e-03, 8.69%\n",
      "\n",
      "!Model saved at Epoch 540, with Train Loss 1.34e-02(G) | Test Error(Ihb): 6.17e-03(MSE), 8.69%(NRMSE)\n",
      "\n",
      "!Model saved to  ./Ckpts/CGAN-G.pth\n",
      "\n",
      "!Model saved at Epoch 540, with Train Loss 1.65e-02(D) | \n",
      "!Model saved to  ./Ckpts/CGAN-D.pth\n"
     ]
    },
    {
     "name": "stderr",
     "output_type": "stream",
     "text": [
      " 56%|█████▌    | 561/1000 [13:12:43<10:34:02, 86.66s/it]"
     ]
    },
    {
     "name": "stdout",
     "output_type": "stream",
     "text": [
      "Epoch 560 | LR: 3.14e-04 | Train Loss: 1.15e-02(G) 1.65e-02(D) | Test Loss: 1.86e+01, 4.12e-03, 9.28%\n"
     ]
    },
    {
     "name": "stderr",
     "output_type": "stream",
     "text": [
      " 58%|█████▊    | 581/1000 [13:40:56<10:04:26, 86.55s/it]"
     ]
    },
    {
     "name": "stdout",
     "output_type": "stream",
     "text": [
      "Epoch 580 | LR: 3.14e-04 | Train Loss: 6.82e-03(G) 1.65e-02(D) | Test Loss: 1.86e+01, 5.41e-03, 8.79%\n"
     ]
    },
    {
     "name": "stderr",
     "output_type": "stream",
     "text": [
      " 60%|██████    | 601/1000 [14:09:08<9:35:31, 86.55s/it] "
     ]
    },
    {
     "name": "stdout",
     "output_type": "stream",
     "text": [
      "Epoch 600 | LR: 2.82e-04 | Train Loss: 9.04e-03(G) 1.65e-02(D) | Test Loss: 1.85e+01, 4.21e-03, 9.65%\n"
     ]
    },
    {
     "name": "stderr",
     "output_type": "stream",
     "text": [
      " 62%|██████▏   | 621/1000 [14:37:20<9:06:41, 86.55s/it]"
     ]
    },
    {
     "name": "stdout",
     "output_type": "stream",
     "text": [
      "Epoch 620 | LR: 2.82e-04 | Train Loss: 7.47e-03(G) 1.65e-02(D) | Test Loss: 1.86e+01, 5.39e-03, 8.01%\n",
      "\n",
      "!Model saved at Epoch 620, with Train Loss 7.47e-03(G) | Test Error(Ihb): 5.39e-03(MSE), 8.01%(NRMSE)\n",
      "\n",
      "!Model saved to  ./Ckpts/CGAN-G.pth\n",
      "\n",
      "!Model saved at Epoch 620, with Train Loss 1.65e-02(D) | \n",
      "!Model saved to  ./Ckpts/CGAN-D.pth\n"
     ]
    },
    {
     "name": "stderr",
     "output_type": "stream",
     "text": [
      " 64%|██████▍   | 641/1000 [15:05:32<8:38:03, 86.58s/it]"
     ]
    },
    {
     "name": "stdout",
     "output_type": "stream",
     "text": [
      "Epoch 640 | LR: 2.82e-04 | Train Loss: 5.97e-03(G) 1.65e-02(D) | Test Loss: 1.84e+01, 6.14e-03, 7.71%\n"
     ]
    },
    {
     "name": "stderr",
     "output_type": "stream",
     "text": [
      " 66%|██████▌   | 661/1000 [15:33:45<8:08:40, 86.49s/it]"
     ]
    },
    {
     "name": "stdout",
     "output_type": "stream",
     "text": [
      "Epoch 660 | LR: 2.54e-04 | Train Loss: 8.61e-03(G) 1.65e-02(D) | Test Loss: 1.84e+01, 5.30e-03, 8.03%\n"
     ]
    },
    {
     "name": "stderr",
     "output_type": "stream",
     "text": [
      " 68%|██████▊   | 681/1000 [16:01:57<7:40:04, 86.54s/it]"
     ]
    },
    {
     "name": "stdout",
     "output_type": "stream",
     "text": [
      "Epoch 680 | LR: 2.54e-04 | Train Loss: 9.83e-03(G) 1.65e-02(D) | Test Loss: 1.85e+01, 5.06e-03, 7.87%\n"
     ]
    },
    {
     "name": "stderr",
     "output_type": "stream",
     "text": [
      " 70%|███████   | 701/1000 [16:30:08<7:11:09, 86.52s/it]"
     ]
    },
    {
     "name": "stdout",
     "output_type": "stream",
     "text": [
      "Epoch 700 | LR: 2.29e-04 | Train Loss: 8.17e-03(G) 1.65e-02(D) | Test Loss: 1.89e+01, 4.77e-03, 7.96%\n"
     ]
    },
    {
     "name": "stderr",
     "output_type": "stream",
     "text": [
      " 72%|███████▏  | 721/1000 [16:58:19<6:42:17, 86.52s/it]"
     ]
    },
    {
     "name": "stdout",
     "output_type": "stream",
     "text": [
      "Epoch 720 | LR: 2.29e-04 | Train Loss: 5.64e-03(G) 1.65e-02(D) | Test Loss: 1.91e+01, 5.58e-03, 8.51%\n"
     ]
    },
    {
     "name": "stderr",
     "output_type": "stream",
     "text": [
      " 74%|███████▍  | 741/1000 [17:26:31<6:13:30, 86.53s/it]"
     ]
    },
    {
     "name": "stdout",
     "output_type": "stream",
     "text": [
      "Epoch 740 | LR: 2.29e-04 | Train Loss: 6.04e-03(G) 1.65e-02(D) | Test Loss: 1.92e+01, 6.51e-03, 8.33%\n"
     ]
    },
    {
     "name": "stderr",
     "output_type": "stream",
     "text": [
      " 76%|███████▌  | 761/1000 [17:54:43<5:44:48, 86.56s/it]"
     ]
    },
    {
     "name": "stdout",
     "output_type": "stream",
     "text": [
      "Epoch 760 | LR: 2.06e-04 | Train Loss: 5.78e-03(G) 1.65e-02(D) | Test Loss: 1.92e+01, 5.13e-03, 7.25%\n",
      "\n",
      "!Model saved at Epoch 760, with Train Loss 5.78e-03(G) | Test Error(Ihb): 5.13e-03(MSE), 7.25%(NRMSE)\n",
      "\n",
      "!Model saved to  ./Ckpts/CGAN-G.pth\n",
      "\n",
      "!Model saved at Epoch 760, with Train Loss 1.65e-02(D) | \n",
      "!Model saved to  ./Ckpts/CGAN-D.pth\n"
     ]
    },
    {
     "name": "stderr",
     "output_type": "stream",
     "text": [
      " 78%|███████▊  | 781/1000 [18:22:55<5:16:10, 86.62s/it]"
     ]
    },
    {
     "name": "stdout",
     "output_type": "stream",
     "text": [
      "Epoch 780 | LR: 2.06e-04 | Train Loss: 7.91e-03(G) 1.65e-02(D) | Test Loss: 1.98e+01, 3.59e-03, 7.82%\n"
     ]
    },
    {
     "name": "stderr",
     "output_type": "stream",
     "text": [
      " 80%|████████  | 801/1000 [18:51:08<4:47:05, 86.56s/it]"
     ]
    },
    {
     "name": "stdout",
     "output_type": "stream",
     "text": [
      "Epoch 800 | LR: 1.85e-04 | Train Loss: 8.61e-03(G) 1.65e-02(D) | Test Loss: 1.96e+01, 5.17e-03, 8.20%\n"
     ]
    },
    {
     "name": "stderr",
     "output_type": "stream",
     "text": [
      " 82%|████████▏ | 821/1000 [19:19:20<4:18:18, 86.59s/it]"
     ]
    },
    {
     "name": "stdout",
     "output_type": "stream",
     "text": [
      "Epoch 820 | LR: 1.85e-04 | Train Loss: 8.84e-03(G) 1.65e-02(D) | Test Loss: 2.01e+01, 3.84e-03, 7.42%\n"
     ]
    },
    {
     "name": "stderr",
     "output_type": "stream",
     "text": [
      " 84%|████████▍ | 841/1000 [19:47:34<3:49:37, 86.65s/it]"
     ]
    },
    {
     "name": "stdout",
     "output_type": "stream",
     "text": [
      "Epoch 840 | LR: 1.85e-04 | Train Loss: 8.98e-03(G) 1.65e-02(D) | Test Loss: 1.92e+01, 4.32e-03, 7.22%\n"
     ]
    },
    {
     "name": "stderr",
     "output_type": "stream",
     "text": [
      " 86%|████████▌ | 861/1000 [20:15:47<3:20:28, 86.53s/it]"
     ]
    },
    {
     "name": "stdout",
     "output_type": "stream",
     "text": [
      "Epoch 860 | LR: 1.67e-04 | Train Loss: 7.16e-03(G) 1.65e-02(D) | Test Loss: 1.95e+01, 5.30e-03, 6.94%\n"
     ]
    },
    {
     "name": "stderr",
     "output_type": "stream",
     "text": [
      " 88%|████████▊ | 881/1000 [20:43:59<2:51:46, 86.61s/it]"
     ]
    },
    {
     "name": "stdout",
     "output_type": "stream",
     "text": [
      "Epoch 880 | LR: 1.67e-04 | Train Loss: 7.15e-03(G) 1.65e-02(D) | Test Loss: 1.98e+01, 4.58e-03, 6.92%\n"
     ]
    },
    {
     "name": "stderr",
     "output_type": "stream",
     "text": [
      " 90%|█████████ | 901/1000 [21:12:12<2:22:42, 86.49s/it]"
     ]
    },
    {
     "name": "stdout",
     "output_type": "stream",
     "text": [
      "Epoch 900 | LR: 1.50e-04 | Train Loss: 7.03e-03(G) 1.65e-02(D) | Test Loss: 1.97e+01, 3.71e-03, 7.05%\n"
     ]
    },
    {
     "name": "stderr",
     "output_type": "stream",
     "text": [
      " 92%|█████████▏| 921/1000 [21:40:23<1:53:55, 86.52s/it]"
     ]
    },
    {
     "name": "stdout",
     "output_type": "stream",
     "text": [
      "Epoch 920 | LR: 1.50e-04 | Train Loss: 8.89e-03(G) 1.65e-02(D) | Test Loss: 1.98e+01, 5.11e-03, 6.73%\n",
      "\n",
      "!Model saved at Epoch 920, with Train Loss 8.89e-03(G) | Test Error(Ihb): 5.11e-03(MSE), 6.73%(NRMSE)\n",
      "\n",
      "!Model saved to  ./Ckpts/CGAN-G.pth\n",
      "\n",
      "!Model saved at Epoch 920, with Train Loss 1.65e-02(D) | \n",
      "!Model saved to  ./Ckpts/CGAN-D.pth\n"
     ]
    },
    {
     "name": "stderr",
     "output_type": "stream",
     "text": [
      " 94%|█████████▍| 941/1000 [22:08:36<1:25:23, 86.84s/it]"
     ]
    },
    {
     "name": "stdout",
     "output_type": "stream",
     "text": [
      "Epoch 940 | LR: 1.50e-04 | Train Loss: 8.84e-03(G) 1.65e-02(D) | Test Loss: 1.97e+01, 4.30e-03, 7.70%\n"
     ]
    },
    {
     "name": "stderr",
     "output_type": "stream",
     "text": [
      " 96%|█████████▌| 961/1000 [22:36:54<56:25, 86.81s/it]  "
     ]
    },
    {
     "name": "stdout",
     "output_type": "stream",
     "text": [
      "Epoch 960 | LR: 1.35e-04 | Train Loss: 6.81e-03(G) 1.65e-02(D) | Test Loss: 1.99e+01, 3.10e-03, 8.50%\n"
     ]
    },
    {
     "name": "stderr",
     "output_type": "stream",
     "text": [
      " 98%|█████████▊| 981/1000 [23:05:13<27:33, 87.04s/it]"
     ]
    },
    {
     "name": "stdout",
     "output_type": "stream",
     "text": [
      "Epoch 980 | LR: 1.35e-04 | Train Loss: 7.61e-03(G) 1.65e-02(D) | Test Loss: 1.97e+01, 4.94e-03, 6.51%\n"
     ]
    },
    {
     "name": "stderr",
     "output_type": "stream",
     "text": [
      "100%|██████████| 1000/1000 [23:32:00<00:00, 84.72s/it]\n"
     ]
    }
   ],
   "source": [
    "opt.epochs = 1000\n",
    "optimizerG, optimizerD, schedulerG, schedulerD = opt_strategy(netG, netD, opt)\n",
    "train_log, test_log = train(netG, netD, D_size, optimizerG, optimizerD, schedulerG, schedulerD, opt, dataset_train, \n",
    "                                           device_train, dataset_test, res_trans, ckpt_name, save_check=15)\n",
    "\n",
    "if not os.path.exists(opt.load_model_path[0]):\n",
    "    save(netD, opt.modelpath, ckpt_name[1])\n",
    "    save(netG, opt.modelpath, ckpt_name[0])"
   ]
  },
  {
   "cell_type": "code",
   "execution_count": 11,
   "metadata": {
    "scrolled": true
   },
   "outputs": [
    {
     "name": "stdout",
     "output_type": "stream",
     "text": [
      "Net Initialized\n",
      "!Model load from  ./Ckpts/CGAN-G.pth\n",
      "!Model load from  ./Ckpts/CGAN-D.pth\n",
      "<bound method Module.parameters of Generator(\n",
      "  (left_conv_1): ConvBlock(\n",
      "    (block): Sequential(\n",
      "      (0): Conv3d(1, 8, kernel_size=(3, 3, 3), stride=(2, 2, 2), padding=(1, 1, 1))\n",
      "      (1): LeakyReLU(negative_slope=0.01, inplace=True)\n",
      "      (2): Conv3d(8, 8, kernel_size=(3, 3, 3), stride=(1, 1, 1), padding=(1, 1, 1))\n",
      "      (3): LeakyReLU(negative_slope=0.01, inplace=True)\n",
      "    )\n",
      "  )\n",
      "  (left_conv_2): ConvBlock(\n",
      "    (block): Sequential(\n",
      "      (0): Conv3d(8, 16, kernel_size=(3, 3, 3), stride=(2, 2, 2), padding=(1, 1, 1))\n",
      "      (1): LeakyReLU(negative_slope=0.01, inplace=True)\n",
      "      (2): Conv3d(16, 16, kernel_size=(3, 3, 3), stride=(1, 1, 1), padding=(1, 1, 1))\n",
      "      (3): LeakyReLU(negative_slope=0.01, inplace=True)\n",
      "    )\n",
      "  )\n",
      "  (left_conv_3): ConvBlock(\n",
      "    (block): Sequential(\n",
      "      (0): Conv3d(16, 32, kernel_size=(3, 3, 3), stride=(2, 2, 2), padding=(1, 1, 1))\n",
      "      (1): LeakyReLU(negative_slope=0.01, inplace=True)\n",
      "      (2): Conv3d(32, 32, kernel_size=(3, 3, 3), stride=(1, 1, 1), padding=(1, 1, 1))\n",
      "      (3): LeakyReLU(negative_slope=0.01, inplace=True)\n",
      "    )\n",
      "  )\n",
      "  (left_conv_4): ConvBlock(\n",
      "    (block): Sequential(\n",
      "      (0): Conv3d(32, 64, kernel_size=(3, 3, 3), stride=(2, 2, 2), padding=(1, 1, 1))\n",
      "      (1): LeakyReLU(negative_slope=0.01, inplace=True)\n",
      "      (2): Conv3d(64, 64, kernel_size=(3, 3, 3), stride=(1, 1, 1), padding=(1, 1, 1))\n",
      "      (3): LeakyReLU(negative_slope=0.01, inplace=True)\n",
      "    )\n",
      "  )\n",
      "  (deconv_1): ConvTranspose3d(64, 32, kernel_size=(5, 5, 5), stride=(2, 2, 2), padding=(2, 2, 2), output_padding=(1, 0, 0))\n",
      "  (right_conv_1): ConvBlock(\n",
      "    (block): Sequential(\n",
      "      (0): Conv3d(64, 32, kernel_size=(3, 3, 3), stride=(1, 1, 1), padding=(1, 1, 1))\n",
      "      (1): LeakyReLU(negative_slope=0.01, inplace=True)\n",
      "      (2): Conv3d(32, 32, kernel_size=(3, 3, 3), stride=(1, 1, 1), padding=(1, 1, 1))\n",
      "      (3): LeakyReLU(negative_slope=0.01, inplace=True)\n",
      "    )\n",
      "  )\n",
      "  (deconv_2): ConvTranspose3d(32, 16, kernel_size=(5, 5, 5), stride=(2, 2, 2), padding=(2, 2, 2), output_padding=(1, 1, 1))\n",
      "  (right_conv_2): ConvBlock(\n",
      "    (block): Sequential(\n",
      "      (0): Conv3d(32, 16, kernel_size=(3, 3, 3), stride=(1, 1, 1), padding=(1, 1, 1))\n",
      "      (1): LeakyReLU(negative_slope=0.01, inplace=True)\n",
      "      (2): Conv3d(16, 16, kernel_size=(3, 3, 3), stride=(1, 1, 1), padding=(1, 1, 1))\n",
      "      (3): LeakyReLU(negative_slope=0.01, inplace=True)\n",
      "    )\n",
      "  )\n",
      "  (deconv_3): ConvTranspose3d(16, 8, kernel_size=(5, 5, 5), stride=(2, 2, 2), padding=(2, 2, 2), output_padding=(1, 1, 1))\n",
      "  (right_conv_3): ConvBlock(\n",
      "    (block): Sequential(\n",
      "      (0): Conv3d(16, 8, kernel_size=(3, 3, 3), stride=(1, 1, 1), padding=(1, 1, 1))\n",
      "      (1): LeakyReLU(negative_slope=0.01, inplace=True)\n",
      "      (2): Conv3d(8, 8, kernel_size=(3, 3, 3), stride=(1, 1, 1), padding=(1, 1, 1))\n",
      "      (3): LeakyReLU(negative_slope=0.01, inplace=True)\n",
      "    )\n",
      "  )\n",
      "  (deconv_4): ConvTranspose3d(8, 1, kernel_size=(5, 5, 5), stride=(2, 2, 2), padding=(2, 2, 2), output_padding=(1, 1, 1))\n",
      "  (regular): Upsample(size=[80, 1000, 1000], mode=trilinear)\n",
      ")>\n",
      "<bound method Module.parameters of Descriminator(\n",
      "  (reslayers): Sequential(\n",
      "    (0): Conv3d(2, 4, kernel_size=(3, 3, 3), stride=(1, 1, 1), padding=(1, 1, 1), bias=False)\n",
      "    (1): LeakyReLU(negative_slope=0.1, inplace=True)\n",
      "    (2): Sequential(\n",
      "      (0): BasicBlock(\n",
      "        (conv): Sequential(\n",
      "          (0): Conv3d(4, 8, kernel_size=(3, 3, 3), stride=(1, 1, 1), padding=(1, 1, 1), bias=False, padding_mode=replicate)\n",
      "          (1): LeakyReLU(negative_slope=0.1, inplace=True)\n",
      "          (2): Conv3d(8, 8, kernel_size=(3, 3, 3), stride=(2, 2, 2), padding=(1, 1, 1), bias=False, padding_mode=replicate)\n",
      "        )\n",
      "        (shortcut): Sequential(\n",
      "          (0): Conv3d(4, 8, kernel_size=(1, 1, 1), stride=(2, 2, 2), bias=False)\n",
      "        )\n",
      "        (norm): GroupNorm(1, 8, eps=1e-05, affine=True)\n",
      "      )\n",
      "      (1): BasicBlock(\n",
      "        (conv): Sequential(\n",
      "          (0): Conv3d(8, 8, kernel_size=(3, 3, 3), stride=(1, 1, 1), padding=(1, 1, 1), bias=False, padding_mode=replicate)\n",
      "          (1): LeakyReLU(negative_slope=0.1, inplace=True)\n",
      "          (2): Conv3d(8, 8, kernel_size=(3, 3, 3), stride=(2, 2, 2), padding=(1, 1, 1), bias=False, padding_mode=replicate)\n",
      "        )\n",
      "        (shortcut): Sequential(\n",
      "          (0): Conv3d(8, 8, kernel_size=(1, 1, 1), stride=(2, 2, 2), bias=False)\n",
      "        )\n",
      "        (norm): GroupNorm(1, 8, eps=1e-05, affine=True)\n",
      "      )\n",
      "    )\n",
      "    (3): Sequential(\n",
      "      (0): BasicBlock(\n",
      "        (conv): Sequential(\n",
      "          (0): Conv3d(8, 4, kernel_size=(3, 3, 3), stride=(1, 1, 1), padding=(1, 1, 1), bias=False, padding_mode=replicate)\n",
      "          (1): LeakyReLU(negative_slope=0.1, inplace=True)\n",
      "          (2): Conv3d(4, 4, kernel_size=(3, 3, 3), stride=(2, 2, 2), padding=(1, 1, 1), bias=False, padding_mode=replicate)\n",
      "        )\n",
      "        (shortcut): Sequential(\n",
      "          (0): Conv3d(8, 4, kernel_size=(1, 1, 1), stride=(2, 2, 2), bias=False)\n",
      "        )\n",
      "        (norm): GroupNorm(1, 4, eps=1e-05, affine=True)\n",
      "      )\n",
      "      (1): BasicBlock(\n",
      "        (conv): Sequential(\n",
      "          (0): Conv3d(4, 4, kernel_size=(3, 3, 3), stride=(1, 1, 1), padding=(1, 1, 1), bias=False, padding_mode=replicate)\n",
      "          (1): LeakyReLU(negative_slope=0.1, inplace=True)\n",
      "          (2): Conv3d(4, 4, kernel_size=(3, 3, 3), stride=(2, 2, 2), padding=(1, 1, 1), bias=False, padding_mode=replicate)\n",
      "        )\n",
      "        (shortcut): Sequential(\n",
      "          (0): Conv3d(4, 4, kernel_size=(1, 1, 1), stride=(2, 2, 2), bias=False)\n",
      "        )\n",
      "        (norm): GroupNorm(1, 4, eps=1e-05, affine=True)\n",
      "      )\n",
      "    )\n",
      "    (4): Conv3d(4, 1, kernel_size=(3, 3, 3), stride=(1, 2, 2), padding=(1, 1, 1), bias=False)\n",
      "    (5): Sigmoid()\n",
      "  )\n",
      ")>\n",
      "allocated and reserved GPU memory: 0.0050563812255859375, 0.005859375 (GiB)\n"
     ]
    },
    {
     "name": "stderr",
     "output_type": "stream",
     "text": [
      "\r",
      "  0%|          | 0/20 [00:00<?, ?it/s]"
     ]
    },
    {
     "name": "stdout",
     "output_type": "stream",
     "text": [
      "../dataset_train_v1/0080Acid_ini Read in 0.13 s\n",
      "../dataset_train_v1/0080Inhibitor Read in 0.14 s\n",
      "RMSE for label 0: [0.006 0.577]\n",
      "NMSE for label 0: [6.451 1.45 ]\n",
      "NMSE_height for label 0: [6.592 1.386]\n"
     ]
    },
    {
     "name": "stderr",
     "output_type": "stream",
     "text": [
      "<<<\n",
      "time:\t0.764146s\n",
      "<<<\n",
      "<<<\n",
      "time:\t0.746092s\n",
      "<<<\n"
     ]
    },
    {
     "name": "stdout",
     "output_type": "stream",
     "text": [
      "\n",
      "!Start to clear memory\n",
      "CD_x error at height 0:\n",
      " [  0.14   -3.02   -3.1    -4.28   -0.28   -3.34   -2.78  -10.861  -3.58   -3.98    4.     -8.04\n",
      "  -4.5    -4.58    0.12   -4.08    1.36    0.24   -3.32 ]\n",
      "CD_y error at height 0:\n",
      " [-10.62  -4.46  -2.28   0.14  -0.12   0.1   -0.12   0.12   0.44   0.28   0.04   0.24   0.42  -0.3\n",
      "   0.48  -0.06  -0.34  -3.26   0.4 ]\n",
      "CD_x error at height 8:\n",
      " [-0.14 -0.14  1.74 -0.3  -0.06  0.7  -2.4  -0.02  1.44 -0.12  0.52 -0.92 -0.8   0.46  0.54  0.48\n",
      "  0.82  0.2   0.02]\n",
      "CD_y error at height 8:\n",
      " [ 0.74  0.94 -0.36 -0.72 -0.52  0.56 -0.02  0.02 -0.22  0.06  0.88 -0.72 -0.28 -0.3  -1.22 -0.08\n",
      "  0.04  0.02  0.3 ]\n",
      "CD_x error at height 16:\n",
      " [-0.32 -0.   -0.36  0.34 -0.1   0.28  1.08  0.12 -0.34 -1.3  -3.18 -1.   -0.06  0.38 -0.9   0.16\n",
      " -0.02  0.06 -3.42]\n",
      "CD_y error at height 16:\n",
      " [ 1.92  0.36  0.34  1.22  0.1  -0.76 -0.22  0.14 -0.12 -0.12 -0.    0.04  0.16  1.32  0.06  0.4\n",
      " -0.1  -0.16 -0.12]\n",
      "CD_x error at height 24:\n",
      " [-1.76 -0.84  0.02 -4.36  1.34  0.16 -0.02 -2.14  0.14 -0.14  0.52  1.28 -0.68 -1.1   0.18  1.42\n",
      "  1.12  0.22  1.74]\n",
      "CD_y error at height 24:\n",
      " [ 1.5  -0.54  0.08  0.08  0.1  -0.6   0.14  0.06 -0.08 -0.06 -0.2   0.3   1.48 -0.02 -0.02  0.3\n",
      "  0.24 -0.04 -0.14]\n",
      "CD_x error at height 32:\n",
      " [-4.16 -0.1   1.38 -0.02 -0.22  2.04  2.72  0.04 -1.78 -0.34 -8.16 -0.6   0.68 -1.18 -0.22  0.02\n",
      "  0.02  2.68  2.88]\n",
      "CD_y error at height 32:\n",
      " [-0.04  1.38  0.2   0.16  0.34 -0.18 -0.1  -0.22 -0.46  0.24  0.06  0.28  0.68 -0.92  0.52 -0.1\n",
      "  0.12 -0.42  0.08]\n",
      "CD_x error at height 40:\n",
      " [ 0.08  3.3   4.8  -0.62  1.16 -3.32 -0.02 -0.64  0.54  1.56  3.62 -3.08  0.42 -2.2   0.04  0.94\n",
      " -0.58 -0.16  6.1 ]\n",
      "CD_y error at height 40:\n",
      " [ 0.7  -1.54  0.08 -0.42  0.24  0.22 -3.2   0.4  -0.18 -0.04  0.24 -1.26 -0.4   0.04  0.66  0.82\n",
      " -0.24  0.26 -0.16]\n",
      "CD_x error at height 48:\n",
      " [ 1.86 -0.48 -6.94  0.02  0.96 -0.04  0.46  2.46  0.32  0.76 -0.24 -1.54  3.02  2.26 -0.22 -0.38\n",
      " -0.    0.24  6.  ]\n",
      "CD_y error at height 48:\n",
      " [ 2.9  -0.14 -2.18 -0.1  -0.06 -0.16  0.36  0.78 -0.26 -0.24  0.12  5.38 -0.16 -0.08  0.24 -0.24\n",
      " -1.26  0.32  0.08]\n",
      "CD_x error at height 56:\n",
      " [-0.24  0.5   3.88 -0.   -1.98  3.14 -0.38  0.58 -0.28 -1.24 -2.46 -0.1   0.4  -2.14 -0.    0.76\n",
      "  1.16  2.24  4.52]\n",
      "CD_y error at height 56:\n",
      " [-0.48  1.04  0.48  0.26 -0.06  0.08 -5.04  0.64 -0.02 -0.04  0.14  0.4  -0.6  -0.12  0.06 -3.2\n",
      "  2.    2.28  0.16]\n",
      "CD_x error at height 64:\n",
      " [-0.22 -0.02 -0.2   0.3  -0.86  0.08  0.2  -0.   -0.02  1.94  0.18 -0.42  0.   -0.1   0.06 -0.32\n",
      " -0.06  0.78  3.58]\n",
      "CD_y error at height 64:\n",
      " [ 1.62  2.12  0.04 -0.4  -0.14 -1.5   2.74 -0.98 -0.02 -0.44 -0.24 -0.12  2.2   0.04  0.08 -0.36\n",
      " -0.02  2.14  0.14]\n"
     ]
    },
    {
     "name": "stderr",
     "output_type": "stream",
     "text": [
      "\r",
      "  5%|▌         | 1/20 [45:02<14:15:43, 2702.29s/it]"
     ]
    },
    {
     "name": "stdout",
     "output_type": "stream",
     "text": [
      "CD_x error at height 72:\n",
      " [-0.02  1.06  1.5   1.38  0.66  1.62  0.84  0.5  -0.32  0.02  0.08  2.44  1.42  0.96 -0.26  0.78\n",
      "  0.26  0.8 ]\n",
      "CD_y error at height 72:\n",
      " [ 1.54  1.12  2.2   1.94  0.46  2.06  1.7   0.74  0.5  -0.    2.04  0.3   1.88  2.08  0.16  0.38\n",
      " -0.74  2.08]\n",
      "CD_RMSE for label 0: [2.17  1.356]\n",
      "../dataset_train_v1/0081Acid_ini Read in 0.17 s\n",
      "../dataset_train_v1/0081Inhibitor Read in 0.17 s\n",
      "RMSE for label 1: [0.006 0.627]\n",
      "NMSE for label 1: [6.656 1.577]\n",
      "NMSE_height for label 1: [6.808 1.513]\n"
     ]
    },
    {
     "name": "stderr",
     "output_type": "stream",
     "text": [
      "<<<\n",
      "time:\t0.693045s\n",
      "<<<\n"
     ]
    },
    {
     "name": "stdout",
     "output_type": "stream",
     "text": [
      "\n",
      "!Start to clear memory\n"
     ]
    },
    {
     "name": "stderr",
     "output_type": "stream",
     "text": [
      "<<<\n",
      "time:\t0.66486s\n",
      "<<<\n"
     ]
    },
    {
     "name": "stdout",
     "output_type": "stream",
     "text": [
      "\n",
      "!Start to clear memory\n",
      "CD_x error at height 0:\n",
      " [ -3.9    -3.78   -1.32   -2.82   -7.9     0.72   -0.22   -1.58   -4.16   -0.44   -7.54    0.26\n",
      "  -0.4    -4.     -7.46   -0.06   -0.18  -10.701  -3.88  -15.181]\n",
      "CD_y error at height 0:\n",
      " [ 1.2  -8.4  -0.34  0.48  0.22  0.08 -0.06 -3.74 -0.38  0.12 -0.16  0.46 -0.16 -0.22  0.08 -0.34\n",
      "  0.36 -0.2  -3.08 -0.04]\n",
      "CD_x error at height 8:\n",
      " [ 4.72  0.64 -0.76 -1.3  -1.02  3.12 -0.82  4.26 -0.38  0.1   0.12 -0.46  0.1  -0.   -1.16 -0.08\n",
      " -0.04 -0.4   0.4  -4.46]\n",
      "CD_y error at height 8:\n",
      " [ 0.32  0.38  0.28  0.96  0.22 -0.48  0.3   1.26  0.08  0.14 -0.24 -0.3   0.12  0.08  1.04  0.58\n",
      " -0.16  0.28  0.44 -0.66]\n",
      "CD_x error at height 16:\n",
      " [-0.14  0.72  3.9  -1.54 -3.04  0.58 -2.94  4.02  0.1  -0.12 -0.64  0.08 -0.22  0.48  0.84  0.02\n",
      "  0.1  -4.22 -0.6  -2.54]\n",
      "CD_y error at height 16:\n",
      " [ 1.86 -0.34 -0.12  0.12  0.1   0.26  0.04  1.1  -0.08 -0.7   0.16  0.44  0.08 -0.02  0.9   0.32\n",
      " -0.02 -1.04 -0.18 -1.28]\n",
      "CD_x error at height 24:\n",
      " [-1.04  0.64 -0.14  0.14  0.12 -0.06  4.28  4.08  2.06  0.1  -0.5   0.02 -0.18  0.82 -1.    2.52\n",
      " -0.2  -0.16 -2.28 -0.46]\n",
      "CD_y error at height 24:\n",
      " [ 3.72 -0.14 -0.48  0.    0.26  0.3  -0.82 -0.48  0.06  0.16 -0.7  -0.72 -0.1  -0.42 -0.56  0.04\n",
      "  0.46  0.2   0.5  -0.04]\n",
      "CD_x error at height 32:\n",
      " [ 4.06 -0.22  1.14  0.46  0.3  -1.14  1.42  4.06  2.12 -0.   -0.02 -0.52  2.   -0.64 -0.06  1.26\n",
      " -0.14  0.04  0.28  0.3 ]\n",
      "CD_y error at height 32:\n",
      " [ 6.84 -0.68 -0.64 -0.86  0.04 -0.78 -0.84 -0.22 -0.32 -0.    0.44  0.12 -0.2   0.14 -0.   -0.3\n",
      " -0.24 -0.12 -0.38 -0.06]\n",
      "CD_x error at height 40:\n",
      " [ 4.02 -0.14  0.14 -1.06  0.26  1.42 -0.48  4.28  0.12 -5.14 -0.38 -0.46 -0.18  5.52  0.04  2.02\n",
      " -0.9  -2.24 -0.16  0.14]\n",
      "CD_y error at height 40:\n",
      " [ 0.2   1.06 -0.12 -0.36 -0.   -0.12  0.8  -2.96 -0.28 -0.8   0.18 -0.    0.54 -0.3   0.38 -0.12\n",
      " -0.3   1.46  0.26  0.16]\n",
      "CD_x error at height 48:\n",
      " [ 0.26 -0.18 -0.64 -4.2  -0.12  1.14  1.44  1.9  -1.52 -3.66  0.6  -1.1   0.04 -0.22  2.84  3.2\n",
      " -0.02 -2.56  0.04  4.34]\n",
      "CD_y error at height 48:\n",
      " [ 4.1   0.36  0.18 -0.78 -0.72 -1.04  0.68  0.38  0.22 -0.02  0.78  0.04  0.22  0.24  0.6  -0.\n",
      "  0.08 -0.22 -0.04  0.4 ]\n",
      "CD_x error at height 56:\n",
      " [-1.   -0.7  -1.12  0.14 -0.34 -0.2  -0.68  0.72 -0.46 -1.4   3.62 -0.14 -0.56  0.26  2.14  3.12\n",
      "  1.64  2.76  0.12  3.82]\n",
      "CD_y error at height 56:\n",
      " [ 4.9   0.16 -0.58 -0.94  0.42  0.18 -3.16  1.28  0.02 -0.4  -0.08 -0.3   0.4  -0.22  0.06 -0.1\n",
      "  1.42  1.32  1.1   3.32]\n",
      "CD_x error at height 64:\n",
      " [-0.04 -0.24 -1.46  2.42 -0.68  0.24 -1.84  0.78 -0.22 -0.06 -3.5  -0.04 -0.84  0.06 -0.54 -0.04\n",
      "  0.92  0.34  0.34  3.36]\n",
      "CD_y error at height 64:\n",
      " [ 7.28  2.22 -0.16 -0.52  0.96 -0.14 -2.56 -0.08  0.1  -0.94  1.44 -1.54 -0.34 -0.16 -0.12  0.4\n",
      " -0.06  0.02 -1.36  1.6 ]\n"
     ]
    },
    {
     "name": "stderr",
     "output_type": "stream",
     "text": [
      "\r",
      " 10%|█         | 2/20 [1:30:31<13:35:25, 2718.08s/it]"
     ]
    },
    {
     "name": "stdout",
     "output_type": "stream",
     "text": [
      "Contact 19 in 72-CD_x_pred is redundant, with info [-956.618  939.997    1.34 ]\n",
      "CD_x error at height 72:\n",
      " [ 1.22 -0.42  0.36  0.7   1.16  1.18  1.52  2.2   0.3   1.18  0.54  0.52  0.74 -0.1   1.68  0.46\n",
      "  2.94  1.52 -0.44  1.34]\n",
      "Contact 0 in 72-CD_y_pred is redundant, with info [-955.998  939.377    1.56 ]\n",
      "CD_y error at height 72:\n",
      " [1.56 1.32 0.9  1.28 1.   2.94 2.02 0.88 1.9  0.68 2.12 2.58 1.32 2.58 2.78 1.06 0.46 2.36 1.44\n",
      " 0.76]\n",
      "CD_RMSE for label 1: [2.438 1.425]\n",
      "../dataset_train_v1/0082Acid_ini Read in 0.23 s\n",
      "../dataset_train_v1/0082Inhibitor Read in 0.27 s\n",
      "RMSE for label 2: [0.004 0.372]\n",
      "NMSE for label 2: [6.894 0.931]\n",
      "NMSE_height for label 2: [6.871 0.883]\n",
      "\n",
      "!Start to clear memory\n"
     ]
    },
    {
     "name": "stderr",
     "output_type": "stream",
     "text": [
      "<<<\n",
      "time:\t0.82895s\n",
      "<<<\n"
     ]
    },
    {
     "name": "stdout",
     "output_type": "stream",
     "text": [
      "\n",
      "!Start to clear memory\n"
     ]
    },
    {
     "name": "stderr",
     "output_type": "stream",
     "text": [
      "<<<\n",
      "time:\t0.648571s\n",
      "<<<\n"
     ]
    },
    {
     "name": "stdout",
     "output_type": "stream",
     "text": [
      "CD_x error at height 0:\n",
      " [ -1.04  -11.441 -11.821  -3.8     1.24    0.32   -6.84   -4.9  ]\n",
      "CD_y error at height 0:\n",
      " [-4.16 -4.98 -4.36 -0.22  0.34  0.2   0.4   0.16]\n",
      "CD_x error at height 8:\n",
      " [4.94 0.54 0.26 0.44 1.32 3.88 0.42 0.12]\n",
      "CD_y error at height 8:\n",
      " [ 0.04 -0.04 -0.18 -0.    0.16  0.48  0.2  -0.08]\n",
      "CD_x error at height 16:\n",
      " [-3.26  6.3  -0.78  0.54 -0.12  6.26 -1.04  3.72]\n",
      "CD_y error at height 16:\n",
      " [-0.98  0.06  0.26  0.28  0.    0.48 -0.22  0.06]\n",
      "CD_x error at height 24:\n",
      " [ 3.38  1.84 -0.96  4.66 -1.08  0.06  0.64 -1.1 ]\n",
      "CD_y error at height 24:\n",
      " [ 0.12 -1.06  0.6   0.52  0.42  0.04  0.08  0.26]\n",
      "CD_x error at height 32:\n",
      " [-1.64  0.64 -0.48  0.94 -4.78  6.78 -0.64  4.12]\n",
      "CD_y error at height 32:\n",
      " [-0.5   1.18  0.1  -0.5  -0.18 -0.54  0.02  0.18]\n",
      "CD_x error at height 40:\n",
      " [ 5.54 -0.46 -0.8   8.56 -0.86 -1.26 -0.26 -4.12]\n",
      "CD_y error at height 40:\n",
      " [ 0.26 -0.3   0.02  1.14 -0.04 -1.2   0.38  0.06]\n",
      "CD_x error at height 48:\n",
      " [-2.28  3.32 -0.62  0.44 -2.44  5.28 -1.26 -1.72]\n",
      "CD_y error at height 48:\n",
      " [ 0.24 -0.04  0.08  0.4   0.02  0.16  0.54  0.2 ]\n",
      "CD_x error at height 56:\n",
      " [ 0.32 -0.1  -0.14  2.36 -6.26  1.86  2.68  0.44]\n",
      "CD_y error at height 56:\n",
      " [ 4.14  2.86  0.32 -1.06 -0.54  0.42  2.14  0.28]\n",
      "CD_x error at height 64:\n",
      " [-1.5  -0.    0.18  0.3   0.36  0.08 -0.14 -0.58]\n",
      "CD_y error at height 64:\n",
      " [-0.18  1.9   0.2   1.54  0.26  0.24 -0.4  -0.42]\n"
     ]
    },
    {
     "name": "stderr",
     "output_type": "stream",
     "text": [
      "\r",
      " 15%|█▌        | 3/20 [2:15:19<12:46:12, 2704.26s/it]"
     ]
    },
    {
     "name": "stdout",
     "output_type": "stream",
     "text": [
      "CD_x error at height 72:\n",
      " [ 0.66 -1.6   1.5   0.1   0.14  1.18  0.78  0.44]\n",
      "CD_y error at height 72:\n",
      " [1.06 1.74 0.86 1.84 2.56 1.04 1.14 2.64]\n",
      "CD_RMSE for label 2: [3.32  1.292]\n",
      "../dataset_train_v1/0083Acid_ini Read in 0.61 s\n",
      "../dataset_train_v1/0083Inhibitor Read in 0.61 s\n",
      "RMSE for label 3: [0.005 0.525]\n",
      "NMSE for label 3: [6.635 1.319]\n",
      "NMSE_height for label 3: [6.661 1.256]\n"
     ]
    },
    {
     "name": "stderr",
     "output_type": "stream",
     "text": [
      "<<<\n",
      "time:\t0.827884s\n",
      "<<<\n"
     ]
    },
    {
     "name": "stdout",
     "output_type": "stream",
     "text": [
      "\n",
      "!Start to clear memory\n",
      "\n",
      "!Start to clear memory\n"
     ]
    },
    {
     "name": "stderr",
     "output_type": "stream",
     "text": [
      "<<<\n",
      "time:\t0.418137s\n",
      "<<<\n"
     ]
    },
    {
     "name": "stdout",
     "output_type": "stream",
     "text": [
      "CD_x error at height 0:\n",
      " [ -7.6    -7.12   -5.14  -11.561  -3.38   -4.6     5.36   -2.96   -4.08   -3.92    0.32   -3.18\n",
      "  -3.18   -8.26    0.36 ]\n",
      "CD_y error at height 0:\n",
      " [-2.32 -2.58 -0.02 -2.56 -0.02  0.3  -0.04 -0.26 -4.08  0.14  0.22 -3.8  -0.06 -0.04 -0.1 ]\n",
      "CD_x error at height 8:\n",
      " [-0.04  4.14 -0.06 -0.04 -0.72  2.96  0.16  0.02  0.1   0.46 -0.76  0.22 -0.34 -0.   -4.18]\n",
      "CD_y error at height 8:\n",
      " [-0.58  0.1   0.02 -0.1   0.14  0.18 -0.12 -0.08  0.34 -0.22 -0.2  -0.52  0.06 -0.04 -0.7 ]\n",
      "CD_x error at height 16:\n",
      " [ 0.12  4.5  -0.64  0.12 -0.56  2.66 -0.12  0.06 -3.9  -0.14  0.06 -0.1  -0.22  0.12  0.  ]\n",
      "CD_y error at height 16:\n",
      " [-1.16 -0.5   0.12 -0.08  0.16  0.74  0.28  0.14  0.16  0.02  0.24  0.18 -0.   -0.32 -0.2 ]\n",
      "CD_x error at height 24:\n",
      " [ 3.96  4.54  0.36  0.16 -0.92 -1.02  3.68  0.02  0.24 -0.06 -0.   -3.28 -0.54 -0.38  0.34]\n",
      "CD_y error at height 24:\n",
      " [-0.04 -0.56  0.02  0.26  0.56 -0.78  0.04 -0.12 -0.64  0.04  0.02  0.2   0.48 -0.04 -0.06]\n",
      "CD_x error at height 32:\n",
      " [-0.42  0.94 -0.16  0.42 -3.9   3.2  -0.82  2.18  0.2  -0.8  -0.04 -4.1  -3.36 -0.84  1.04]\n",
      "CD_y error at height 32:\n",
      " [ 0.34 -0.44 -0.5   0.24 -0.24 -0.   -0.14 -0.34  0.26 -0.22  0.1  -0.38  0.4  -0.02 -0.22]\n",
      "CD_x error at height 40:\n",
      " [ 2.08  0.9  -0.32  0.34  1.64 -0.86  0.96  6.74  0.4   2.3   0.02 -0.3   0.5  -1.08 -1.06]\n",
      "CD_y error at height 40:\n",
      " [-0.48 -0.   -0.84  0.4  -1.22  0.04  0.84 -0.28  0.02 -0.14 -0.7   1.5  -0.14  0.   -0.26]\n",
      "CD_x error at height 48:\n",
      " [ 2.04  0.3  -0.16  0.06 -2.76  3.38 -2.9  -1.02 -2.74  0.64  0.36  2.32  3.56  2.88 -2.2 ]\n",
      "CD_y error at height 48:\n",
      " [ 0.56  0.12  0.58 -1.42 -0.38  0.86  0.32  0.04  2.26  0.16  0.38  0.16  0.54 -0.28 -0.56]\n",
      "CD_x error at height 56:\n",
      " [ 1.84  0.96  0.48 -0.32 -0.8  -0.68  0.16  0.42 -0.28 -0.82  1.08 -1.3   5.14  0.1   3.42]\n",
      "CD_y error at height 56:\n",
      " [ 2.44  0.66 -0.28  0.34  0.18 -1.36 -0.   -0.04 -3.82 -0.1   0.02  2.12  0.36  2.54  0.02]\n",
      "CD_x error at height 64:\n",
      " [ 0.26 -0.54 -0.24  1.84  0.34  0.28  2.    0.14 -1.46  0.2  -0.24 -0.08  0.46  0.18  0.46]\n",
      "CD_y error at height 64:\n",
      " [ 1.64 -0.42 -0.96  0.08  1.06  0.58  0.42  0.36 -1.84  0.02 -0.3   2.2   0.06  0.72 -0.56]\n"
     ]
    },
    {
     "name": "stderr",
     "output_type": "stream",
     "text": [
      "\r",
      " 20%|██        | 4/20 [3:00:32<12:02:03, 2707.69s/it]"
     ]
    },
    {
     "name": "stdout",
     "output_type": "stream",
     "text": [
      "CD_x error at height 72:\n",
      " [ 1.02  2.64  1.7   0.66  3.    0.88  2.26  1.06  0.66  0.26  0.84 -0.44  0.66 -0.24  1.62]\n",
      "CD_y error at height 72:\n",
      " [2.28 1.62 1.04 1.12 1.74 1.44 0.84 1.82 1.14 1.94 2.38 3.24 1.12 2.58 1.56]\n",
      "CD_RMSE for label 3: [2.448 1.073]\n",
      "../dataset_train_v1/0084Acid_ini Read in 0.17 s\n",
      "../dataset_train_v1/0084Inhibitor Read in 0.15 s\n",
      "RMSE for label 4: [0.003 0.237]\n",
      "NMSE for label 4: [7.658 0.593]\n",
      "NMSE_height for label 4: [7.243 0.565]\n",
      "\n",
      "!Start to clear memory\n"
     ]
    },
    {
     "name": "stderr",
     "output_type": "stream",
     "text": [
      "<<<\n",
      "time:\t0.7939s\n",
      "<<<\n"
     ]
    },
    {
     "name": "stdout",
     "output_type": "stream",
     "text": [
      "\n",
      "!Start to clear memory\n"
     ]
    },
    {
     "name": "stderr",
     "output_type": "stream",
     "text": [
      "<<<\n",
      "time:\t0.699396s\n",
      "<<<\n"
     ]
    },
    {
     "name": "stdout",
     "output_type": "stream",
     "text": [
      "CD_x error at height 0:\n",
      " [-4.    3.4  -2.66]\n",
      "CD_y error at height 0:\n",
      " [0.08 0.26 0.28]\n",
      "CD_x error at height 8:\n",
      " [0.14 2.42 2.14]\n",
      "CD_y error at height 8:\n",
      " [ 0.28 -0.08  0.14]\n",
      "CD_x error at height 16:\n",
      " [-0.08  3.32 -0.18]\n",
      "CD_y error at height 16:\n",
      " [-0.04 -0.7   0.06]\n",
      "CD_x error at height 24:\n",
      " [-0.1  -4.46  0.12]\n",
      "CD_y error at height 24:\n",
      " [-0.06  0.32  0.26]\n",
      "CD_x error at height 32:\n",
      " [-0.54  3.98  2.46]\n",
      "CD_y error at height 32:\n",
      " [0.02 0.06 0.04]\n",
      "CD_x error at height 40:\n",
      " [-6.68  3.12 -0.12]\n",
      "CD_y error at height 40:\n",
      " [-0.28  0.04  0.4 ]\n",
      "CD_x error at height 48:\n",
      " [ 0.6  -1.22 -0.28]\n",
      "CD_y error at height 48:\n",
      " [0.24 0.42 0.28]\n",
      "CD_x error at height 56:\n",
      " [-2.36  2.26  2.48]\n",
      "CD_y error at height 56:\n",
      " [ 1.92 -0.16  0.12]\n",
      "CD_x error at height 64:\n",
      " [-0.78  3.26  1.  ]\n",
      "CD_y error at height 64:\n",
      " [ 2.86  0.58 -0.54]\n"
     ]
    },
    {
     "name": "stderr",
     "output_type": "stream",
     "text": [
      "\r",
      " 25%|██▌       | 5/20 [3:45:11<11:14:21, 2697.43s/it]"
     ]
    },
    {
     "name": "stdout",
     "output_type": "stream",
     "text": [
      "CD_x error at height 72:\n",
      " [0.3  1.46 1.  ]\n",
      "CD_y error at height 72:\n",
      " [1.64 0.82 0.94]\n",
      "CD_RMSE for label 4: [2.496 0.78 ]\n",
      "../dataset_train_v1/0085Acid_ini Read in 0.15 s\n",
      "../dataset_train_v1/0085Inhibitor Read in 0.15 s\n",
      "RMSE for label 5: [0.004 0.433]\n",
      "NMSE for label 5: [6.621 1.086]\n",
      "NMSE_height for label 5: [6.645 1.034]\n",
      "\n",
      "!Start to clear memory\n"
     ]
    },
    {
     "name": "stderr",
     "output_type": "stream",
     "text": [
      "<<<\n",
      "time:\t0.796254s\n",
      "<<<\n"
     ]
    },
    {
     "name": "stdout",
     "output_type": "stream",
     "text": [
      "\n",
      "!Start to clear memory\n"
     ]
    },
    {
     "name": "stderr",
     "output_type": "stream",
     "text": [
      "<<<\n",
      "time:\t0.762438s\n",
      "<<<\n"
     ]
    },
    {
     "name": "stdout",
     "output_type": "stream",
     "text": [
      "CD_x error at height 0:\n",
      " [-7.6  -3.08 -0.62 -0.8  -3.96  0.08 -7.64 -1.1  -2.72 -2.86]\n",
      "CD_y error at height 0:\n",
      " [ 0.44  0.62  0.06  0.14  0.1   1.06 -0.1  -3.46 -0.94 -0.1 ]\n",
      "CD_x error at height 8:\n",
      " [-3.54  3.6   1.4   2.5   1.1   0.54  0.06  0.86  0.32 -0.28]\n",
      "CD_y error at height 8:\n",
      " [ 0.16  0.68  0.12 -0.28 -0.06  0.44  0.04 -0.26 -0.28  0.34]\n",
      "CD_x error at height 16:\n",
      " [ 2.3  -4.14 -1.52 -0.    0.1  -0.34  3.46 -0.5   1.78 -0.2 ]\n",
      "CD_y error at height 16:\n",
      " [-0.26  0.84 -0.04  0.36 -0.4  -0.   -0.52 -0.04 -0.86 -0.62]\n",
      "CD_x error at height 24:\n",
      " [-3.68  0.24 -0.1   4.8   0.04  0.18 -1.36 -3.42 -0.84  0.06]\n",
      "CD_y error at height 24:\n",
      " [ 0.28 -0.18 -0.24  0.26 -0.34  0.1   0.76 -0.12  0.7  -0.46]\n",
      "CD_x error at height 32:\n",
      " [ 0.76 -1.1  -0.2   4.66  0.46  0.16  0.4  -0.08 -0.28 -1.18]\n",
      "CD_y error at height 32:\n",
      " [ 0.68  0.54 -0.    0.1  -0.08 -0.1  -0.08 -0.14 -0.   -0.08]\n",
      "CD_x error at height 40:\n",
      " [-1.52  5.28  0.52  4.88  1.68  4.04  1.26  1.58 -0.36  4.2 ]\n",
      "CD_y error at height 40:\n",
      " [-0.12 -0.16 -0.22  0.44  0.22  0.1   0.24 -0.68  0.16  0.44]\n",
      "CD_x error at height 48:\n",
      " [ 1.86 -0.24 -1.84  0.48 -1.12  5.98 -0.34  0.06 -0.    1.48]\n",
      "CD_y error at height 48:\n",
      " [-0.08  0.12  1.4   0.64  0.38  0.16  0.08 -0.42  0.36 -0.7 ]\n",
      "CD_x error at height 56:\n",
      " [-0.24  1.7  -0.26 -3.52 -0.34 -0.92 -0.02 -0.34  0.24 -1.66]\n",
      "CD_y error at height 56:\n",
      " [ 0.64 -0.22  0.38 -0.16  0.86  2.56 -0.5   3.02  2.22  0.3 ]\n",
      "CD_x error at height 64:\n",
      " [-0.5   0.06  0.72  1.32 -0.12 -1.1  -1.   -0.18  1.04  1.72]\n",
      "CD_y error at height 64:\n",
      " [-0.76  1.16  0.02  0.12  0.18 -0.02  0.38  2.32  0.06  0.36]\n"
     ]
    },
    {
     "name": "stderr",
     "output_type": "stream",
     "text": [
      "\r",
      " 30%|███       | 6/20 [4:28:43<10:22:37, 2668.42s/it]"
     ]
    },
    {
     "name": "stdout",
     "output_type": "stream",
     "text": [
      "CD_x error at height 72:\n",
      " [1.28 2.2  1.3  0.6  0.98 0.6  0.76 0.82 1.12 0.88]\n",
      "CD_y error at height 72:\n",
      " [ 0.7  -0.4   1.24  0.64  1.62  0.66  1.98  0.44  0.26  0.8 ]\n",
      "CD_RMSE for label 5: [2.225 0.809]\n",
      "../dataset_train_v1/0086Acid_ini Read in 0.77 s\n",
      "../dataset_train_v1/0086Inhibitor Read in 0.79 s\n",
      "RMSE for label 6: [0.003 0.292]\n",
      "NMSE for label 6: [9.88 0.73]\n",
      "NMSE_height for label 6: [9.714 0.712]\n"
     ]
    },
    {
     "name": "stderr",
     "output_type": "stream",
     "text": [
      "<<<\n",
      "time:\t0.810488s\n",
      "<<<\n"
     ]
    },
    {
     "name": "stdout",
     "output_type": "stream",
     "text": [
      "\n",
      "!Start to clear memory\n",
      "\n",
      "!Start to clear memory\n"
     ]
    },
    {
     "name": "stderr",
     "output_type": "stream",
     "text": [
      "<<<\n",
      "time:\t0.682856s\n",
      "<<<\n"
     ]
    },
    {
     "name": "stdout",
     "output_type": "stream",
     "text": [
      "CD_x error at height 0:\n",
      " [  0.74   -3.44  -12.981]\n",
      "CD_y error at height 0:\n",
      " [-29.081  -0.04    0.24 ]\n",
      "CD_x error at height 8:\n",
      " [-0.06  0.28  2.28]\n",
      "CD_y error at height 8:\n",
      " [-5.54 -0.06  0.02]\n",
      "CD_x error at height 16:\n",
      " [-0.2   0.08  2.4 ]\n",
      "CD_y error at height 16:\n",
      " [-0.42  0.24  1.1 ]\n",
      "CD_x error at height 24:\n",
      " [ 0.82 -0.56 -0.34]\n",
      "CD_y error at height 24:\n",
      " [3.22 0.24 1.32]\n",
      "CD_x error at height 32:\n",
      " [ 0.06 -2.08 -1.2 ]\n",
      "CD_y error at height 32:\n",
      " [ 5.9  -0.14  1.16]\n",
      "CD_x error at height 40:\n",
      " [ 0.06   2.42   5.62  18.761]\n",
      "CD_y error at height 40:\n",
      " [4.32 0.12 0.34]\n",
      "CD_x error at height 48:\n",
      " [0.46 0.58 4.52]\n",
      "CD_y error at height 48:\n",
      " [ 6.58 -0.4   2.8 ]\n",
      "CD_x error at height 56:\n",
      " [ 0.44 -5.66  3.66]\n",
      "CD_y error at height 56:\n",
      " [ 7.82  0.26 -0.6 ]\n",
      "CD_x error at height 64:\n",
      " [3.08 0.06 2.3 ]\n",
      "CD_y error at height 64:\n",
      " [ 8.34  2.34 -2.74]\n"
     ]
    },
    {
     "name": "stderr",
     "output_type": "stream",
     "text": [
      "\r",
      " 35%|███▌      | 7/20 [5:12:03<9:33:18, 2646.00s/it] "
     ]
    },
    {
     "name": "stdout",
     "output_type": "stream",
     "text": [
      "CD_x error at height 72:\n",
      " [ 1.76 -0.12]\n",
      "CD_y error at height 72:\n",
      " [0.4  0.58]\n",
      "CD_RMSE for label 6: [4.736 6.273]\n",
      "../dataset_train_v1/0087Acid_ini Read in 0.76 s\n",
      "../dataset_train_v1/0087Inhibitor Read in 0.77 s\n",
      "RMSE for label 7: [0.003 0.231]\n",
      "NMSE for label 7: [7.576 0.577]\n",
      "NMSE_height for label 7: [7.163 0.551]\n"
     ]
    },
    {
     "name": "stderr",
     "output_type": "stream",
     "text": [
      "<<<\n",
      "time:\t0.809702s\n",
      "<<<\n"
     ]
    },
    {
     "name": "stdout",
     "output_type": "stream",
     "text": [
      "\n",
      "!Start to clear memory\n"
     ]
    },
    {
     "name": "stderr",
     "output_type": "stream",
     "text": [
      "<<<\n",
      "time:\t0.564947s\n",
      "<<<\n"
     ]
    },
    {
     "name": "stdout",
     "output_type": "stream",
     "text": [
      "\n",
      "!Start to clear memory\n",
      "CD_x error at height 0:\n",
      " [-8.18 -4.14 -4.34]\n",
      "CD_y error at height 0:\n",
      " [ 0.84  0.02 -0.2 ]\n",
      "CD_x error at height 8:\n",
      " [ 0.32 -1.26  0.94]\n",
      "CD_y error at height 8:\n",
      " [ 0.3   0.08 -0.46]\n",
      "CD_x error at height 16:\n",
      " [-3.1   0.02 -0.3 ]\n",
      "CD_y error at height 16:\n",
      " [ 0.48 -0.18  0.52]\n",
      "CD_x error at height 24:\n",
      " [ 0.38 -0.72 -0.16]\n",
      "CD_y error at height 24:\n",
      " [-0.66  0.16  0.04]\n",
      "CD_x error at height 32:\n",
      " [ 0.12  0.2  -0.22]\n",
      "CD_y error at height 32:\n",
      " [ 0.12 -0.16 -0.48]\n",
      "CD_x error at height 40:\n",
      " [-0.24 -1.02  4.6 ]\n",
      "CD_y error at height 40:\n",
      " [ 0.02  0.02 -0.24]\n",
      "CD_x error at height 48:\n",
      " [-0.02 -0.44  0.68]\n",
      "CD_y error at height 48:\n",
      " [-0.04 -0.14  0.06]\n",
      "CD_x error at height 56:\n",
      " [0.7  0.36 2.68]\n",
      "CD_y error at height 56:\n",
      " [ 3.38 -0.46  2.76]\n",
      "CD_x error at height 64:\n",
      " [ 1.14 -0.72  0.06]\n",
      "CD_y error at height 64:\n",
      " [ 1.    2.92 -0.34]\n"
     ]
    },
    {
     "name": "stderr",
     "output_type": "stream",
     "text": [
      "\r",
      " 40%|████      | 8/20 [5:55:41<8:47:24, 2637.07s/it]"
     ]
    },
    {
     "name": "stdout",
     "output_type": "stream",
     "text": [
      "CD_x error at height 72:\n",
      " [0.8  0.9  1.78]\n",
      "CD_y error at height 72:\n",
      " [ 1.1   1.16 -0.46]\n",
      "CD_RMSE for label 7: [2.259 1.066]\n",
      "../dataset_train_v1/0088Acid_ini Read in 0.80 s\n",
      "../dataset_train_v1/0088Inhibitor Read in 0.81 s\n",
      "RMSE for label 8: [0.004 0.329]\n",
      "NMSE for label 8: [6.928 0.823]\n",
      "NMSE_height for label 8: [6.809 0.781]\n"
     ]
    },
    {
     "name": "stderr",
     "output_type": "stream",
     "text": [
      "<<<\n",
      "time:\t0.773994s\n",
      "<<<\n"
     ]
    },
    {
     "name": "stdout",
     "output_type": "stream",
     "text": [
      "\n",
      "!Start to clear memory\n"
     ]
    },
    {
     "name": "stderr",
     "output_type": "stream",
     "text": [
      "<<<\n",
      "time:\t0.642973s\n",
      "<<<\n"
     ]
    },
    {
     "name": "stdout",
     "output_type": "stream",
     "text": [
      "\n",
      "!Start to clear memory\n",
      "CD_x error at height 0:\n",
      " [ -8.28   -6.24  -11.501  -3.9     0.78   -3.32 ]\n",
      "CD_y error at height 0:\n",
      " [-2.12 -0.12  0.02  0.26 -0.24  0.12]\n",
      "CD_x error at height 8:\n",
      " [ 0.2  -1.58 -0.12  0.1   1.18 -1.06]\n",
      "CD_y error at height 8:\n",
      " [ 0.56  0.18  0.1   0.12 -1.04  0.16]\n",
      "CD_x error at height 16:\n",
      " [-0.8  -1.92 -0.28  0.24  1.8   0.2 ]\n",
      "CD_y error at height 16:\n",
      " [ 0.48 -0.24  0.08  0.04 -0.04 -0.18]\n",
      "CD_x error at height 24:\n",
      " [ 4.2   0.2  -0.38  0.26  1.14  4.48]\n",
      "CD_y error at height 24:\n",
      " [ 0.04 -0.2   0.02  0.04  0.48 -0.1 ]\n",
      "CD_x error at height 32:\n",
      " [ 0.82  0.8  -3.62 -3.02  5.54  2.1 ]\n",
      "CD_y error at height 32:\n",
      " [-0.24 -0.38  0.4   0.06 -0.1  -1.18]\n",
      "CD_x error at height 40:\n",
      " [-0.04  1.2   0.44 -1.26  0.62 -0.22]\n",
      "CD_y error at height 40:\n",
      " [-0.7   0.3  -0.22 -1.82 -0.32 -0.14]\n",
      "CD_x error at height 48:\n",
      " [ 1.08 -1.78  0.68 -1.16  6.88 -3.32]\n",
      "CD_y error at height 48:\n",
      " [ 0.08 -0.02 -0.12 -0.58 -1.8   0.08]\n",
      "CD_x error at height 56:\n",
      " [ 1.32 -1.04  0.24 -2.92  1.58 -0.86]\n",
      "CD_y error at height 56:\n",
      " [ 2.36 -0.4   0.48  0.    0.34  0.46]\n",
      "CD_x error at height 64:\n",
      " [ 0.96 -0.14 -0.04 -0.2  -0.04 -0.16]\n",
      "CD_y error at height 64:\n",
      " [ 2.74  0.2  -0.08 -0.66 -0.3   2.94]\n"
     ]
    },
    {
     "name": "stderr",
     "output_type": "stream",
     "text": [
      "\r",
      " 45%|████▌     | 9/20 [6:39:08<8:01:45, 2627.78s/it]"
     ]
    },
    {
     "name": "stdout",
     "output_type": "stream",
     "text": [
      "CD_x error at height 72:\n",
      " [0.64 0.14 0.04 0.88 0.18 0.38]\n",
      "CD_y error at height 72:\n",
      " [1.28 0.04 0.28 1.66 2.34 2.36]\n",
      "CD_RMSE for label 8: [2.777 0.955]\n",
      "../dataset_train_v1/0089Acid_ini Read in 0.77 s\n",
      "../dataset_train_v1/0089Inhibitor Read in 0.78 s\n",
      "RMSE for label 9: [0.004 0.36 ]\n",
      "NMSE for label 9: [6.858 0.901]\n",
      "NMSE_height for label 9: [6.821 0.857]\n",
      "\n",
      "!Start to clear memory\n"
     ]
    },
    {
     "name": "stderr",
     "output_type": "stream",
     "text": [
      "<<<\n",
      "time:\t0.77462s\n",
      "<<<\n"
     ]
    },
    {
     "name": "stdout",
     "output_type": "stream",
     "text": [
      "\n",
      "!Start to clear memory\n"
     ]
    },
    {
     "name": "stderr",
     "output_type": "stream",
     "text": [
      "<<<\n",
      "time:\t0.808792s\n",
      "<<<\n"
     ]
    },
    {
     "name": "stdout",
     "output_type": "stream",
     "text": [
      "CD_x error at height 0:\n",
      " [-4.18 -3.32 -0.9  -0.2  -4.54  2.06 -0.66]\n",
      "CD_y error at height 0:\n",
      " [-0.02  0.38  0.2   0.36  0.06  1.36  0.18]\n",
      "CD_x error at height 8:\n",
      " [ 2.78 -0.92  0.6  -0.2  -1.32 -0.24 -0.9 ]\n",
      "CD_y error at height 8:\n",
      " [ 0.02  0.04  0.8   0.22  0.14 -0.02  0.1 ]\n",
      "CD_x error at height 16:\n",
      " [ 4.64  4.2   4.6  -0.12  1.02 -0.08 -1.68]\n",
      "CD_y error at height 16:\n",
      " [-0.36 -0.32 -1.72  0.06  0.48  0.06 -0.88]\n",
      "CD_x error at height 24:\n",
      " [ 5.02  4.94  0.08  0.12  1.12  1.62 -0.02]\n",
      "CD_y error at height 24:\n",
      " [ 0.92 -0.26  0.34  0.24  0.28 -0.12 -0.56]\n",
      "CD_x error at height 32:\n",
      " [ 1.22 -0.84 -4.52  0.08 -7.9   1.86 -0.76]\n",
      "CD_y error at height 32:\n",
      " [-0.86 -0.36 -0.94 -0.04  0.06  0.42  0.14]\n",
      "CD_x error at height 40:\n",
      " [ 5.02 -0.48  2.84  0.02 -0.42 -1.34  0.96]\n",
      "CD_y error at height 40:\n",
      " [-0.18  0.26  0.8   0.02 -0.4  -1.18  0.36]\n",
      "CD_x error at height 48:\n",
      " [ 2.06 -0.1  -0.3   1.22 -0.08  0.28  2.06]\n",
      "CD_y error at height 48:\n",
      " [-1.04 -0.28 -1.74  2.24 -0.34 -1.92 -0.66]\n",
      "CD_x error at height 56:\n",
      " [ 2.84 -0.64 -3.98 -0.3  -0.44  0.08  3.02]\n",
      "CD_y error at height 56:\n",
      " [-1.22  0.06 -0.2   2.82  0.08  0.5   0.48]\n",
      "CD_x error at height 64:\n",
      " [-0.94  0.14  1.04  0.32 -0.44  0.2  -0.04]\n",
      "CD_y error at height 64:\n",
      " [ 1.74 -0.64  0.08  3.06 -1.12  0.22  0.04]\n"
     ]
    },
    {
     "name": "stderr",
     "output_type": "stream",
     "text": [
      "\r",
      " 50%|█████     | 10/20 [7:22:46<7:17:27, 2624.76s/it]"
     ]
    },
    {
     "name": "stdout",
     "output_type": "stream",
     "text": [
      "CD_x error at height 72:\n",
      " [ 1.72 -0.42  0.9   1.22  1.22  0.84  0.84]\n",
      "CD_y error at height 72:\n",
      " [0.18 0.32 1.34 0.78 1.32 0.36 1.1 ]\n",
      "CD_RMSE for label 9: [2.28  0.896]\n",
      "../dataset_train_v1/0090Acid_ini Read in 0.72 s\n",
      "../dataset_train_v1/0090Inhibitor Read in 0.73 s\n",
      "RMSE for label 10: [0.004 0.389]\n",
      "NMSE for label 10: [7.106 0.976]\n",
      "NMSE_height for label 10: [7.114 0.932]\n"
     ]
    },
    {
     "name": "stderr",
     "output_type": "stream",
     "text": [
      "<<<\n",
      "time:\t0.75413s\n",
      "<<<\n"
     ]
    },
    {
     "name": "stdout",
     "output_type": "stream",
     "text": [
      "\n",
      "!Start to clear memory\n",
      "\n",
      "!Start to clear memory\n"
     ]
    },
    {
     "name": "stderr",
     "output_type": "stream",
     "text": [
      "<<<\n",
      "time:\t0.767049s\n",
      "<<<\n"
     ]
    },
    {
     "name": "stdout",
     "output_type": "stream",
     "text": [
      "CD_x error at height 0:\n",
      " [-6.66 -9.18  2.44 -2.48 -4.18 -3.62 -0.14 -8.86]\n",
      "CD_y error at height 0:\n",
      " [-7.32 -4.16 -0.14  0.22  0.04 -2.24 -3.78  0.28]\n",
      "CD_x error at height 8:\n",
      " [-1.28  0.02  2.96  1.16  0.04  0.12 -0.02  0.78]\n",
      "CD_y error at height 8:\n",
      " [-1.04 -0.8   0.18 -0.68  0.3  -0.02  0.82 -0.3 ]\n",
      "CD_x error at height 16:\n",
      " [ 1.74 -1.66 -0.76 -0.26  0.08  4.   -0.14  1.34]\n",
      "CD_y error at height 16:\n",
      " [-1.68  0.14 -0.34 -0.7   0.06 -0.92  0.2   0.08]\n",
      "CD_x error at height 24:\n",
      " [ 3.28  0.5   0.6  -1.46 -0.08  0.62  3.06 -4.26]\n",
      "CD_y error at height 24:\n",
      " [-0.18 -1.18 -0.42  0.   -0.34  0.84  0.02  2.16]\n",
      "CD_x error at height 32:\n",
      " [3.86 1.3  2.82 0.1  0.48 0.48 0.7  1.08]\n",
      "CD_y error at height 32:\n",
      " [-0.88  0.2   0.14  0.32 -0.08  0.1  -1.26 -0.06]\n",
      "CD_x error at height 40:\n",
      " [-2.5   1.22  1.   -0.28 -1.32 -0.46 -2.06 -3.06]\n",
      "CD_y error at height 40:\n",
      " [-0.12  0.06  0.82  0.22 -0.14 -0.16  0.3  -0.2 ]\n",
      "CD_x error at height 48:\n",
      " [-0.94  0.16  4.92  0.84  2.96  0.2   2.    5.96]\n",
      "CD_y error at height 48:\n",
      " [-3.06  2.62 -0.14  0.48 -0.   -1.22 -3.46 -1.74]\n",
      "CD_x error at height 56:\n",
      " [ 1.94  1.16  0.12 -1.64  2.5  -0.2  -3.76  1.08]\n",
      "CD_y error at height 56:\n",
      " [ 0.28  2.02 -0.52 -0.92 -0.26  3.28 -0.12  0.52]\n",
      "CD_x error at height 64:\n",
      " [ 0.16 -0.14  0.24  0.6   0.3  -0.8   1.08 -0.2 ]\n",
      "CD_y error at height 64:\n",
      " [-0.36 -0.4   0.18  0.28  0.16  1.96  0.5  -0.18]\n"
     ]
    },
    {
     "name": "stderr",
     "output_type": "stream",
     "text": [
      "\r",
      " 55%|█████▌    | 11/20 [8:06:19<6:33:10, 2621.20s/it]"
     ]
    },
    {
     "name": "stdout",
     "output_type": "stream",
     "text": [
      "CD_x error at height 72:\n",
      " [3.1  1.64 2.36 0.08 1.7  0.04 1.   2.22]\n",
      "CD_y error at height 72:\n",
      " [ 2.58 -0.08  0.56  1.12  0.52  0.78  1.28  0.38]\n",
      "CD_RMSE for label 10: [2.529 1.471]\n",
      "../dataset_train_v1/0091Acid_ini Read in 0.79 s\n",
      "../dataset_train_v1/0091Inhibitor Read in 0.79 s\n",
      "RMSE for label 11: [0.005 0.447]\n",
      "NMSE for label 11: [6.614 1.122]\n",
      "NMSE_height for label 11: [6.662 1.07 ]\n",
      "\n",
      "!Start to clear memory\n"
     ]
    },
    {
     "name": "stderr",
     "output_type": "stream",
     "text": [
      "<<<\n",
      "time:\t0.613149s\n",
      "<<<\n",
      "<<<\n",
      "time:\t0.60647s\n",
      "<<<\n"
     ]
    },
    {
     "name": "stdout",
     "output_type": "stream",
     "text": [
      "\n",
      "!Start to clear memory\n",
      "CD_x error at height 0:\n",
      " [-8.1  -4.2  -3.98 -8.76 -3.78 -3.98 -4.4   2.72 -0.16  0.08  1.12]\n",
      "CD_y error at height 0:\n",
      " [-0.54  0.52 -0.1   0.3   0.46  0.24  1.04  0.38 -0.1   0.04 -1.98]\n",
      "CD_x error at height 8:\n",
      " [ 0.12  2.42  1.66 -0.94 -0.24  5.24 -0.06  0.22 -5.28 -3.4  -0.5 ]\n",
      "CD_y error at height 8:\n",
      " [ 1.62 -0.    0.02 -0.16  0.08 -0.76  1.62  0.38 -0.42  0.58 -0.1 ]\n",
      "CD_x error at height 16:\n",
      " [-0.62  0.2   5.64  0.06 -0.14  3.28 -0.12  0.02 -3.56 -0.06  1.08]\n",
      "CD_y error at height 16:\n",
      " [-0.1  -0.28  0.16  0.16  1.56  0.66  0.16 -0.04 -0.08 -0.06 -0.78]\n",
      "CD_x error at height 24:\n",
      " [-2.34 -1.04 -2.64 -0.98 -2.9   0.36  2.8  -2.54  0.56 -2.56 -0.02]\n",
      "CD_y error at height 24:\n",
      " [ 0.22  0.1   1.16  0.08 -0.26 -0.62 -0.38  0.54  0.46  0.32  0.06]\n",
      "CD_x error at height 32:\n",
      " [ 1.5   4.54 -1.5  -2.06 -0.2  -0.58  2.54 -1.96  0.6   1.8  -0.48]\n",
      "CD_y error at height 32:\n",
      " [ 0.58 -1.38 -0.92  0.86 -0.   -0.02 -0.1   0.8  -0.44 -1.92  0.06]\n",
      "CD_x error at height 40:\n",
      " [-0.06 -0.92 -5.02  0.08  0.8   0.84  0.7   1.64 -1.   -0.96  0.1 ]\n",
      "CD_y error at height 40:\n",
      " [-0.38  0.56  0.32 -0.64  0.4  -0.06 -0.   -0.28  0.4   0.02  0.26]\n",
      "CD_x error at height 48:\n",
      " [-2.38  4.92  1.04 -6.28 -0.8   0.02 -1.38  0.98  0.5   0.76  3.44]\n",
      "CD_y error at height 48:\n",
      " [-0.1   0.6   0.18  0.74  0.08  0.42  0.26  0.28 -1.02 -0.12  0.38]\n",
      "CD_x error at height 56:\n",
      " [-0.64 -1.14 -0.36  1.46 -0.12 -1.54  0.46 -0.38  4.52  0.54 -0.7 ]\n",
      "CD_y error at height 56:\n",
      " [ 4.5   2.54  2.84 -0.26  0.22  1.88  0.84 -0.06 -0.56 -0.08  2.18]\n",
      "CD_x error at height 64:\n",
      " [-0.1  -0.26 -0.04 -0.3  -0.4  -0.1   0.54  0.02  0.5   0.02 -0.22]\n",
      "CD_y error at height 64:\n",
      " [ 1.6   0.98 -0.62 -1.   -0.   -1.2   0.6   0.58  0.52  0.38  1.2 ]\n"
     ]
    },
    {
     "name": "stderr",
     "output_type": "stream",
     "text": [
      "\r",
      " 60%|██████    | 12/20 [8:49:55<5:49:15, 2619.43s/it]"
     ]
    },
    {
     "name": "stdout",
     "output_type": "stream",
     "text": [
      "CD_x error at height 72:\n",
      " [-0.7   0.34  0.64  0.4   1.1   0.1   0.92  1.34  2.38  1.28  2.  ]\n",
      "CD_y error at height 72:\n",
      " [ 1.02  1.88  2.08  0.42  2.32  1.48 -0.26  0.68  0.44  1.2   2.02]\n",
      "CD_RMSE for label 11: [2.374 0.987]\n",
      "../dataset_train_v1/0092Acid_ini Read in 0.75 s\n",
      "../dataset_train_v1/0092Inhibitor Read in 0.73 s\n",
      "RMSE for label 12: [0.003 0.305]\n",
      "NMSE for label 12: [7.676 0.763]\n",
      "NMSE_height for label 12: [7.563 0.722]\n",
      "\n",
      "!Start to clear memory\n"
     ]
    },
    {
     "name": "stderr",
     "output_type": "stream",
     "text": [
      "<<<\n",
      "time:\t0.55855s\n",
      "<<<\n"
     ]
    },
    {
     "name": "stdout",
     "output_type": "stream",
     "text": [
      "\n",
      "!Start to clear memory\n"
     ]
    },
    {
     "name": "stderr",
     "output_type": "stream",
     "text": [
      "<<<\n",
      "time:\t0.686443s\n",
      "<<<\n"
     ]
    },
    {
     "name": "stdout",
     "output_type": "stream",
     "text": [
      "CD_x error at height 0:\n",
      " [-6.68 -4.08 -4.6  -4.24 -7.6 ]\n",
      "CD_y error at height 0:\n",
      " [-3.92  0.66  0.98  0.04 -4.16]\n",
      "CD_x error at height 8:\n",
      " [ 3.64  0.78  0.08  0.08 -0.92]\n",
      "CD_y error at height 8:\n",
      " [-0.44  0.08  0.06 -0.   -0.18]\n",
      "CD_x error at height 16:\n",
      " [-0.78 -0.    0.2   0.1  -0.2 ]\n",
      "CD_y error at height 16:\n",
      " [ 0.48  0.1  -0.24  0.06 -0.1 ]\n",
      "CD_x error at height 24:\n",
      " [7.14 0.1  2.14 1.08 1.26]\n",
      "CD_y error at height 24:\n",
      " [ 0.44 -0.22  0.6   0.02 -0.06]\n",
      "CD_x error at height 32:\n",
      " [ 0.4  -0.48 -2.04 -0.54 -0.3 ]\n",
      "CD_y error at height 32:\n",
      " [ 0.06 -0.   -0.28 -0.56 -0.02]\n",
      "CD_x error at height 40:\n",
      " [ 0.92  2.24 -0.8  -0.52  0.86]\n",
      "CD_y error at height 40:\n",
      " [ 1.5   0.06  0.64  2.6  -0.1 ]\n",
      "CD_x error at height 48:\n",
      " [ 0.86 -1.56  1.48  6.22  0.22]\n",
      "CD_y error at height 48:\n",
      " [-0.06  0.18 -0.2   1.58  4.16]\n",
      "CD_x error at height 56:\n",
      " [2.2  1.32 1.14 0.74 0.06]\n",
      "CD_y error at height 56:\n",
      " [ 2.88 -0.08  0.34 -1.64 -0.44]\n",
      "CD_x error at height 64:\n",
      " [ 0.2   1.94 -1.32  2.02 -0.54]\n",
      "CD_y error at height 64:\n",
      " [ 1.98  0.64  0.24 -0.28 -0.  ]\n"
     ]
    },
    {
     "name": "stderr",
     "output_type": "stream",
     "text": [
      "\r",
      " 65%|██████▌   | 13/20 [9:32:54<5:04:10, 2607.28s/it]"
     ]
    },
    {
     "name": "stdout",
     "output_type": "stream",
     "text": [
      "CD_x error at height 72:\n",
      " [1.76 2.18 0.56 2.12 0.94]\n",
      "CD_y error at height 72:\n",
      " [0.74 1.88 1.02 0.44 1.28]\n",
      "CD_RMSE for label 12: [2.531 1.324]\n",
      "../dataset_train_v1/0093Acid_ini Read in 0.75 s\n",
      "../dataset_train_v1/0093Inhibitor Read in 0.69 s\n",
      "RMSE for label 13: [0.005 0.452]\n",
      "NMSE for label 13: [6.624 1.135]\n",
      "NMSE_height for label 13: [6.677 1.082]\n"
     ]
    },
    {
     "name": "stderr",
     "output_type": "stream",
     "text": [
      "<<<\n",
      "time:\t0.67146s\n",
      "<<<\n"
     ]
    },
    {
     "name": "stdout",
     "output_type": "stream",
     "text": [
      "\n",
      "!Start to clear memory\n"
     ]
    },
    {
     "name": "stderr",
     "output_type": "stream",
     "text": [
      "<<<\n",
      "time:\t0.709079s\n",
      "<<<\n"
     ]
    },
    {
     "name": "stdout",
     "output_type": "stream",
     "text": [
      "\n",
      "!Start to clear memory\n",
      "CD_x error at height 0:\n",
      " [  2.06   -6.6    -4.88    0.18  -12.581  -4.1    -3.64    0.8     0.12    0.02   -3.26 ]\n",
      "CD_y error at height 0:\n",
      " [-2.78  0.1  -0.08 -3.26  0.2  -0.1   0.02  0.36  0.42  0.64  0.36]\n",
      "CD_x error at height 8:\n",
      " [ 7.2   2.68 -0.   -3.86  0.06 -0.52 -0.58  2.9   0.16  0.36 -0.28]\n",
      "CD_y error at height 8:\n",
      " [-0.28 -0.34 -0.08 -0.    0.1  -0.36  0.56 -0.46  0.5   0.02 -0.  ]\n",
      "CD_x error at height 16:\n",
      " [-0.76  0.18  1.2  -2.6   0.42  0.66  0.26  3.92  0.06  0.46  2.44]\n",
      "CD_y error at height 16:\n",
      " [-0.06 -0.14  0.7  -0.04 -0.22 -0.08 -0.22  0.12  0.16  0.1   0.28]\n",
      "CD_x error at height 24:\n",
      " [-0.66 -1.56 -0.1   2.44  3.12  0.1  -0.42 -3.62 -1.46  0.3  -0.4 ]\n",
      "CD_y error at height 24:\n",
      " [ 0.46  0.2   0.4  -0.48  0.34  0.2   1.04  0.92 -0.26 -0.    0.5 ]\n",
      "CD_x error at height 32:\n",
      " [-0.72 -0.06  2.8   0.26 -0.38  0.46  0.7  -3.4   4.88  0.54 -0.24]\n",
      "CD_y error at height 32:\n",
      " [-0.36 -0.04 -0.04  0.1   0.32 -0.14 -0.58  0.4  -0.04 -1.72  0.88]\n",
      "CD_x error at height 40:\n",
      " [-0.4  -0.52  0.32  0.96  0.12  1.02 -2.18  0.18  3.38 -1.56  4.72]\n",
      "CD_y error at height 40:\n",
      " [ 1.42  0.52 -0.36  0.58 -0.24  0.4  -0.14  0.02  0.24  0.14 -0.5 ]\n",
      "CD_x error at height 48:\n",
      " [-0.62 -0.74 -0.02  0.1   0.36 -2.94  0.2  -0.2   0.32 -0.58  0.36]\n",
      "CD_y error at height 48:\n",
      " [-0.2   0.78 -1.64  0.12 -0.    0.14  0.12 -0.76  0.3   0.9   0.46]\n",
      "CD_x error at height 56:\n",
      " [-0.44 -2.58  0.2  -0.   -0.06 -0.9   2.52  2.6   3.26  3.3   1.48]\n",
      "CD_y error at height 56:\n",
      " [-1.    2.08  2.98  0.4   3.04 -0.8  -0.02  0.26  0.12  0.22 -1.2 ]\n",
      "CD_x error at height 64:\n",
      " [ 0.82 -0.74 -0.94  0.86  0.12  0.24  0.54 -0.96 -0.9   0.3  -0.96]\n",
      "CD_y error at height 64:\n",
      " [-0.1   0.64  0.42 -1.14  0.14  0.04  0.12 -0.36 -2.14  0.26 -1.42]\n"
     ]
    },
    {
     "name": "stderr",
     "output_type": "stream",
     "text": [
      "\r",
      " 70%|███████   | 14/20 [10:16:33<4:21:05, 2610.86s/it]"
     ]
    },
    {
     "name": "stdout",
     "output_type": "stream",
     "text": [
      "CD_x error at height 72:\n",
      " [ 0.68 -0.04  0.98  2.08 -1.28  1.02  2.18  0.34  0.76  0.72  2.1 ]\n",
      "CD_y error at height 72:\n",
      " [ 0.54  1.7   0.82  1.38 -0.38  0.28  0.88  2.38  0.16  1.72  2.28]\n",
      "CD_RMSE for label 13: [2.312 0.916]\n",
      "../dataset_train_v1/0094Acid_ini Read in 0.71 s\n",
      "../dataset_train_v1/0094Inhibitor Read in 0.67 s\n",
      "RMSE for label 14: [0.008 0.743]\n",
      "NMSE for label 14: [9.793 1.865]\n",
      "NMSE_height for label 14: [9.746 1.792]\n",
      "\n",
      "!Start to clear memory\n"
     ]
    },
    {
     "name": "stderr",
     "output_type": "stream",
     "text": [
      "<<<\n",
      "time:\t0.790248s\n",
      "<<<\n"
     ]
    },
    {
     "name": "stdout",
     "output_type": "stream",
     "text": [
      "\n",
      "!Start to clear memory\n"
     ]
    },
    {
     "name": "stderr",
     "output_type": "stream",
     "text": [
      "<<<\n",
      "time:\t0.737881s\n",
      "<<<\n"
     ]
    },
    {
     "name": "stdout",
     "output_type": "stream",
     "text": [
      "Contact 12 in 0-CD_x_pred is redundant, with info [654.603 708.185  13.601]\n",
      "CD_x error at height 0:\n",
      " [-0.6   -1.22  -2.04  -3.56  -0.5   -1.34  -3.12   1.56  -0.12  -0.12  -3.96   1.28  13.601 -3.38\n",
      "  1.28   0.04   0.24 ]\n",
      "Contact 12 in 0-CD_y_pred is redundant, with info [663.783 697.305  17.281]\n",
      "CD_y error at height 0:\n",
      " [ 0.1   -0.22   0.08  -0.28   0.06   0.12   0.98  -0.04   0.5   -0.26   0.02   0.76  17.281  0.36\n",
      "  0.8   -3.66  -0.02 ]\n",
      "Contact 12 in 8-CD_x_pred is redundant, with info [657.743 704.585  12.381]\n",
      "CD_x error at height 8:\n",
      " [ 4.04  -0.22   3.84  -1.2    5.18  -0.36   4.02   2.44   0.    -0.84   0.92   1.84  12.381  0.7\n",
      "  0.16   2.84  -0.76 ]\n",
      "Contact 16 in 8-CD_y_pred is redundant, with info [665.483 696.945  13.181]\n",
      "CD_y error at height 8:\n",
      " [  0.04   -0.34    0.06   -1.     -0.08   -0.44    0.12    0.48    0.22    0.04   -0.18   -0.1\n",
      " -48.202 -48.162 -48.182 -45.422  13.181 -42.422  -0.26   -0.1    -1.12    0.3  ]\n",
      "CD_x error at height 16:\n",
      " [-1.08  2.06 -0.14  0.82 -0.16  4.68 -0.12  0.66  0.6   1.16  0.08  0.82 -0.16  1.64  1.14 -1.22]\n",
      "Contact 15 in 16-CD_y_label is redundant, with info [652.683 916.456   1.18 ]\n",
      "CD_y error at height 16:\n",
      " [-0.42  -2.96   0.04   0.26   0.16   0.2    0.08  -0.18   0.52   0.18  -0.64   1.26  48.582 48.442\n",
      " 48.802 -1.18  42.202  0.82   0.54  -0.26  -0.06 ]\n",
      "CD_x error at height 24:\n",
      " [  1.36   -0.22    0.38   -3.58    0.      7.42    3.64   -0.84   -0.56    2.7     0.94   -1.88\n",
      "   0.44   -0.2    -2.7   -18.701 -48.302 -47.742 -47.662 -47.942 -41.262 -48.722]\n",
      "CD_y error at height 24:\n",
      " [ 0.34  0.32  0.46 -0.28  0.4   0.26 -0.02 -0.02 -0.32  1.94 -0.38  0.02  0.    0.54  0.42 -0.04]\n",
      "CD_x error at height 32:\n",
      " [  4.76   -1.66   -0.12    2.02   -0.36   -1.58   -3.96    0.18   -0.1    -0.06    0.2     0.32\n",
      "  -0.2    -0.58   -0.06  -11.081]\n",
      "CD_y error at height 32:\n",
      " [ 0.12 -0.16 -0.56  0.04  0.42 -0.44  0.24  0.02  0.86  0.08 -0.7  -6.4   0.34 -0.88  0.94  0.1 ]\n",
      "Contact 16 in 40-CD_x_label is redundant, with info [615.281 900.695   8.54 ]\n",
      "CD_x error at height 40:\n",
      " [ 2.16  1.94 -0.58 -1.48  0.18  0.24 -0.12  1.38  2.06  0.32 -0.2   0.42  0.38  0.08 -0.26 -7.58\n",
      " -8.54]\n",
      "CD_y error at height 40:\n",
      " [  0.34   -0.08    0.46    0.16    0.32    0.06   -0.74   -0.42    0.5     0.92   -0.3   -13.861\n",
      "   0.1     0.36    0.02   -0.02 ]\n",
      "CD_x error at height 48:\n",
      " [ 6.76 -1.82 -0.08  1.78  1.5  -0.02 -1.96  8.48 -1.8  -0.4   0.32  3.08 -0.82  0.5  -3.9  -5.96]\n",
      "CD_y error at height 48:\n",
      " [  2.32   -0.16    1.08   -0.06    0.1    -1.46   -0.46    0.32   -0.24   -0.16    0.26  -10.121\n",
      "   0.14    0.04   -0.4     6.08 ]\n",
      "CD_x error at height 56:\n",
      " [ -0.26    2.46   -0.06   -0.04   -3.16    0.3    -0.36    0.46   -0.18   -1.54   -0.26   -0.48\n",
      "   0.04   -1.02    2.02   -5.7   -12.601]\n",
      "CD_y error at height 56:\n",
      " [ 4.26  2.   -0.86  0.52 -1.34  0.62 -0.68  0.54  0.62 -0.78  3.6  -9.06  1.72 -0.48  0.12  2.56]\n",
      "CD_x error at height 64:\n",
      " [-0.2   0.02 -1.26 -0.22  0.02  0.28  0.84  0.64 -0.12  0.44 -0.38  0.16  0.64 -1.62 -0.38]\n",
      "CD_y error at height 64:\n",
      " [ 0.   -0.98 -0.94 -0.64 -0.02 -0.38 -0.16  0.1  -0.04  1.68 -0.38  3.1  -0.58  0.44  0.04]\n"
     ]
    },
    {
     "name": "stderr",
     "output_type": "stream",
     "text": [
      "\r",
      " 75%|███████▌  | 15/20 [11:01:28<3:39:40, 2636.13s/it]"
     ]
    },
    {
     "name": "stdout",
     "output_type": "stream",
     "text": [
      "CD_x error at height 72:\n",
      " [ 0.68  0.52  1.72 -0.06  2.62  1.84  0.32  3.54  0.38  1.34  2.4   0.3   0.84  0.3   0.82]\n",
      "CD_y error at height 72:\n",
      " [1.38 2.14 1.68 1.04 2.38 0.36 2.96 0.78 0.6  0.7  1.08 1.22 1.74 1.72 0.94]\n",
      "CD_RMSE for label 14: [ 9.455 11.056]\n",
      "../dataset_train_v1/0095Acid_ini Read in 0.75 s\n",
      "../dataset_train_v1/0095Inhibitor Read in 0.69 s\n",
      "RMSE for label 15: [0.005 0.507]\n",
      "NMSE for label 15: [6.505 1.272]\n",
      "NMSE_height for label 15: [6.51  1.209]\n"
     ]
    },
    {
     "name": "stderr",
     "output_type": "stream",
     "text": [
      "<<<\n",
      "time:\t0.865548s\n",
      "<<<\n"
     ]
    },
    {
     "name": "stdout",
     "output_type": "stream",
     "text": [
      "\n",
      "!Start to clear memory\n",
      "\n",
      "!Start to clear memory\n"
     ]
    },
    {
     "name": "stderr",
     "output_type": "stream",
     "text": [
      "<<<\n",
      "time:\t0.743256s\n",
      "<<<\n"
     ]
    },
    {
     "name": "stdout",
     "output_type": "stream",
     "text": [
      "CD_x error at height 0:\n",
      " [-4.2   1.    2.98 -4.12  0.02 -0.38 -4.24 -0.24 -0.16  0.12 -5.62 -0.46  0.58]\n",
      "CD_y error at height 0:\n",
      " [-0.28 -0.08 -0.08  1.    0.24  0.7   0.36 -0.14 -0.12  0.78 -0.22 -0.    0.24]\n",
      "CD_x error at height 8:\n",
      " [-0.02  1.76  1.28 -0.78  0.28  2.7  -0.18 -0.16 -0.14 -0.88 -0.14 -0.92  0.92]\n",
      "CD_y error at height 8:\n",
      " [ 0.2   0.44 -0.26  0.62  0.58 -0.14  0.18  0.02  1.22  0.86  0.02  0.08 -0.02]\n",
      "CD_x error at height 16:\n",
      " [-0.52  4.18  3.    0.04  0.12 -0.32  1.98  0.08  0.32 -0.02 -0.1   5.06  2.52]\n",
      "CD_y error at height 16:\n",
      " [-0.3  -0.1   0.26 -0.54 -0.06  0.02  0.04  0.6   0.06  0.56 -0.4   0.68 -0.64]\n",
      "CD_x error at height 24:\n",
      " [-0.06  0.7   0.44 -0.02 -1.06  1.26  0.08 -0.    3.76 -0.04  0.32  3.32  0.44]\n",
      "CD_y error at height 24:\n",
      " [ 0.34  0.28 -0.    0.06  0.14  0.08 -0.1  -0.02  0.26 -0.16  0.02  0.12  0.02]\n",
      "CD_x error at height 32:\n",
      " [-0.1  -0.78 -0.64  6.04 -3.84 -4.88  4.22  0.24  2.8  -0.7  -1.58  1.64  0.38]\n",
      "CD_y error at height 32:\n",
      " [-0.42 -0.46  0.36  0.04 -0.04  0.14 -0.22 -0.04  0.02 -0.08 -0.66 -0.06 -0.04]\n",
      "CD_x error at height 40:\n",
      " [ 1.46 -0.44 -0.16  3.72 -2.1  -0.44 -3.36 -0.24 -1.26 -0.26 -0.6  -0.32  0.2 ]\n",
      "CD_y error at height 40:\n",
      " [-0.54 -0.12  0.04  0.06 -0.9  -0.42 -0.04 -0.3   0.28  0.76  0.08 -0.24 -0.68]\n",
      "CD_x error at height 48:\n",
      " [-0.14 -3.64  0.62  2.58  2.74  2.36  0.84  0.88 -0.34 -8.64  1.38  1.26 -4.1 ]\n",
      "CD_y error at height 48:\n",
      " [ 0.54 -0.8  -0.22 -0.12  0.36 -0.18 -0.46  0.22  1.34  0.48  2.88  0.28  0.24]\n",
      "CD_x error at height 56:\n",
      " [-1.36  5.04  1.34  2.48  1.88 -1.2  -0.14 -3.4  -0.06 -0.6  -2.32  0.76 -2.12]\n",
      "CD_y error at height 56:\n",
      " [-3.18 -0.02  2.62 -0.34  0.14  0.12  0.06 -0.36 -0.22  0.3   0.18  0.24 -0.04]\n",
      "CD_x error at height 64:\n",
      " [-0.06 -0.4  -0.14  0.22  0.66 -0.   -1.14  0.9   0.08  0.2  -0.24 -0.1  -0.34]\n",
      "CD_y error at height 64:\n",
      " [ 0.96  0.32  1.28  1.92 -1.2  -0.4  -0.3   1.44 -0.64 -0.42 -0.7  -1.04  0.1 ]\n"
     ]
    },
    {
     "name": "stderr",
     "output_type": "stream",
     "text": [
      "\r",
      " 80%|████████  | 16/20 [11:44:44<2:54:56, 2624.05s/it]"
     ]
    },
    {
     "name": "stdout",
     "output_type": "stream",
     "text": [
      "CD_x error at height 72:\n",
      " [ 0.72 -0.78  0.18  1.1   0.3  -0.06  0.88  1.46  0.68  0.14  1.14 -1.56  1.42]\n",
      "CD_y error at height 72:\n",
      " [0.6  1.4  0.   0.46 1.1  1.32 1.72 0.64 1.56 2.36 0.94 1.28 2.88]\n",
      "CD_RMSE for label 15: [2.059 0.791]\n",
      "../dataset_train_v1/0096Acid_ini Read in 0.70 s\n",
      "../dataset_train_v1/0096Inhibitor Read in 0.72 s\n",
      "RMSE for label 16: [0.006 0.65 ]\n",
      "NMSE for label 16: [6.523 1.636]\n",
      "NMSE_height for label 16: [6.686 1.567]\n"
     ]
    },
    {
     "name": "stderr",
     "output_type": "stream",
     "text": [
      "<<<\n",
      "time:\t0.829378s\n",
      "<<<\n"
     ]
    },
    {
     "name": "stdout",
     "output_type": "stream",
     "text": [
      "\n",
      "!Start to clear memory\n",
      "\n",
      "!Start to clear memory\n"
     ]
    },
    {
     "name": "stderr",
     "output_type": "stream",
     "text": [
      "<<<\n",
      "time:\t0.748593s\n",
      "<<<\n"
     ]
    },
    {
     "name": "stdout",
     "output_type": "stream",
     "text": [
      "CD_x error at height 0:\n",
      " [ -7.24   -2.78   -3.74   -3.1    -6.54    0.52    2.88    0.34   -4.42   -7.92   -7.56   -3.22\n",
      "  -2.86    0.36   -2.58  -12.061  -0.08   -4.14   -2.     -0.4    -0.06   -3.08   -6.04 ]\n",
      "CD_y error at height 0:\n",
      " [  0.2    -0.06   -0.54   -3.66   -5.76   -0.22    0.02    0.36    1.58   -0.04   -0.24    0.56\n",
      "   0.4     0.34    0.3     0.06    0.18    0.04   -0.06    0.16    0.42  -12.181  -3.94 ]\n",
      "CD_x error at height 8:\n",
      " [ 0.22  1.7   0.1   0.18 -0.16 -1.68  3.02 -0.32  0.26 -4.18  5.98  3.44  1.46  0.22  0.2  -0.14\n",
      "  0.92 -0.52 -0.28 -1.6   0.86  0.84  5.94]\n",
      "CD_y error at height 8:\n",
      " [ 0.72  0.04  0.6  -0.14 -0.06  0.12  0.1   0.34 -0.62  0.2  -0.08 -0.6  -0.06 -0.18 -0.22 -0.18\n",
      " -0.    0.28 -0.04  0.68  0.06 -0.96 -0.9 ]\n",
      "CD_x error at height 16:\n",
      " [-0.54  0.02  0.84  2.    0.12  4.98  2.82  0.26  0.3   2.38  1.42  0.7   0.68  1.9   0.14 -0.36\n",
      "  0.1  -0.44 -1.5  -1.6   0.1   0.9   7.48]\n",
      "CD_y error at height 16:\n",
      " [-0.6  -0.18 -0.   -1.38  3.32  0.14 -0.84 -0.06 -0.6  -0.02  0.14 -0.28 -0.18 -0.18  0.14  1.36\n",
      "  0.34  0.    0.16  0.32 -0.16 -2.12 -2.42]\n",
      "CD_x error at height 24:\n",
      " [-0.6  -0.1  -0.34  0.14  1.56  4.    1.08  0.56 -3.62  4.54 -0.32  0.22  0.02  3.06  1.2  -0.06\n",
      " -1.26 -0.02  2.12 -1.22  0.04  0.06  3.9 ]\n",
      "CD_y error at height 24:\n",
      " [ 0.68 -0.08  0.08  0.32 -1.16  0.   -0.18 -0.24  0.28  0.16  0.4   0.08  0.32  0.1   1.88 -0.12\n",
      " -0.58  0.    2.26  0.38 -0.64  2.24  0.  ]\n",
      "CD_x error at height 32:\n",
      " [-0.22  4.76 -1.3   0.18 -1.5  -4.28  1.86  0.02  0.08 -1.14  0.8   3.22  5.14  2.76 -0.64 -0.1\n",
      "  3.12 -1.16 -4.22 -0.54  0.1   0.62  1.52]\n",
      "CD_y error at height 32:\n",
      " [ 0.22 -0.86  0.   -0.28  0.4   0.02  0.18  0.7  -0.72 -0.08 -0.   -1.06 -0.1  -0.86  0.8  -0.2\n",
      "  0.12 -0.24  0.74 -0.28  0.02 -0.92 -0.66]\n",
      "CD_x error at height 40:\n",
      " [ 0.62 -0.14  3.04 -8.18 -0.    0.62 -1.08 -0.6   2.56  0.54  0.74  4.08  3.34  5.02  2.42  0.04\n",
      "  0.    0.12  1.98  0.46  0.8   0.42  2.9 ]\n",
      "CD_y error at height 40:\n",
      " [-0.14 -1.2   0.88 -0.02  3.2   0.06 -0.6  -0.02  0.38 -0.34 -0.12  0.74  0.04  0.86  0.16  0.72\n",
      "  0.44  0.02  0.3   0.3  -0.02 -0.12  0.54]\n",
      "CD_x error at height 48:\n",
      " [ 0.12 -6.   -0.02 -4.54 -1.2   0.66  0.32  0.08  0.38  1.38  5.04 -0.72  0.1   2.26  2.88 -0.98\n",
      " -0.04  0.5   3.34  4.98  1.5  -0.24 -0.  ]\n",
      "CD_y error at height 48:\n",
      " [ 0.74  1.22 -0.18 -2.96 -0.02  0.4   0.62 -0.06  0.62  0.08 -0.84 -0.74  1.14 -0.56 -0.94 -0.02\n",
      " -0.    0.1  -0.2  -0.86  0.08  3.84  0.4 ]\n",
      "CD_x error at height 56:\n",
      " [ 0.62  1.56  0.48 -0.82 -1.92 -1.84 -0.76  0.5   0.32  1.4   0.68  0.34  2.68 -0.34  1.78  2.64\n",
      "  2.2  -0.52  0.22  2.52  1.88  1.4   2.98]\n",
      "CD_y error at height 56:\n",
      " [-0.2  -0.08  2.32  0.56  1.46  1.42 -1.14  1.8  -0.46  0.32  0.38 -0.08 -3.6   0.62 -0.34  0.04\n",
      "  0.38 -0.14 -0.06  0.86  0.4   0.82  1.12]\n",
      "CD_x error at height 64:\n",
      " [ 2.98 -2.76  0.36  0.24  0.58 -1.1  -0.38  0.64  0.08 -0.04  0.6  -1.22 -1.28 -0.84 -0.26  0.44\n",
      " -0.1   0.46 -0.88  0.1  -0.24 -0.18  1.12]\n",
      "CD_y error at height 64:\n",
      " [ 0.1  -1.62  2.08 -0.74  0.68 -0.46 -0.06 -0.46  2.68  1.7  -0.14 -0.54 -0.52 -1.3   3.62  0.36\n",
      " -0.02 -1.3   2.02  0.2   1.62  3.32  3.46]\n"
     ]
    },
    {
     "name": "stderr",
     "output_type": "stream",
     "text": [
      "\r",
      " 85%|████████▌ | 17/20 [12:31:48<2:14:12, 2684.23s/it]"
     ]
    },
    {
     "name": "stdout",
     "output_type": "stream",
     "text": [
      "CD_x error at height 72:\n",
      " [ 0.52  1.14  0.62  0.44 -0.06  2.    1.12  0.78  1.02  1.5   0.08  0.76  0.66  0.68  0.98 -0.64\n",
      "  1.56  2.4   1.64  1.5   0.16  4.42]\n",
      "CD_y error at height 72:\n",
      " [ 1.84  0.94  1.76  4.1   4.44  1.26  1.96  2.2   0.18  0.34  0.04  1.9   0.96  2.66  1.04  0.66\n",
      "  1.   -0.22 -0.04  1.18  0.82  2.86]\n",
      "CD_RMSE for label 16: [2.464 1.465]\n",
      "../dataset_train_v1/0097Acid_ini Read in 0.71 s\n",
      "../dataset_train_v1/0097Inhibitor Read in 0.66 s\n",
      "RMSE for label 17: [0.006 0.559]\n",
      "NMSE for label 17: [6.549 1.404]\n",
      "NMSE_height for label 17: [6.694 1.345]\n"
     ]
    },
    {
     "name": "stderr",
     "output_type": "stream",
     "text": [
      "<<<\n",
      "time:\t0.848176s\n",
      "<<<\n"
     ]
    },
    {
     "name": "stdout",
     "output_type": "stream",
     "text": [
      "\n",
      "!Start to clear memory\n",
      "\n",
      "!Start to clear memory\n"
     ]
    },
    {
     "name": "stderr",
     "output_type": "stream",
     "text": [
      "<<<\n",
      "time:\t0.797528s\n",
      "<<<\n"
     ]
    },
    {
     "name": "stdout",
     "output_type": "stream",
     "text": [
      "CD_x error at height 0:\n",
      " [-12.061  -4.42    1.14   -1.84   -0.56    0.52   -3.34   -3.98   -3.98  -11.941  -7.6    -2.14\n",
      "  -6.34   -6.72    3.48    1.     -7.16 ]\n",
      "CD_y error at height 0:\n",
      " [ 0.   -0.44  0.2   1.06  0.46  0.54 -0.12 -0.   -8.24 -0.04  0.48 -0.06 -0.18  0.5   0.14 -0.22\n",
      " -0.02]\n",
      "CD_x error at height 8:\n",
      " [-0.54  0.06 -1.66 -0.12  1.64  3.4  -0.16  4.26  0.14 -5.04 -0.66  0.22  4.18 -1.18  2.24  0.12\n",
      "  0.02]\n",
      "CD_y error at height 8:\n",
      " [-0.   -0.02  0.26 -0.02  0.54  0.36 -0.3   0.88  0.04  0.36  1.34  0.36 -0.26  0.02 -0.18  0.54\n",
      "  0.02]\n",
      "CD_x error at height 16:\n",
      " [ 2.06 -0.7   0.38  0.4   7.   -0.04 -0.1   4.04 -3.04  0.3   4.06  0.06 -0.82 -2.84  1.12  0.16\n",
      " -0.02]\n",
      "CD_y error at height 16:\n",
      " [-0.26  0.12 -0.14  0.54 -0.18  0.02  0.04  0.24  0.06 -0.22 -0.08  0.36 -0.44  0.02 -0.34  0.28\n",
      "  0.32]\n",
      "CD_x error at height 24:\n",
      " [-0.88  0.44  0.16 -0.18  2.7   0.96  0.14  0.2  -0.3  -1.02 -4.16  0.62 -4.22 -0.56  1.24  2.5\n",
      "  0.44]\n",
      "CD_y error at height 24:\n",
      " [-0.12 -0.2   0.4   0.92 -0.44  0.16  0.3  -0.04 -0.1  -1.08  0.02 -0.16  0.68  0.04 -0.24 -1.4\n",
      "  0.22]\n",
      "CD_x error at height 32:\n",
      " [-0.22  3.8   0.02  0.56  6.4   1.    4.04 -0.3   0.22 -0.04  1.78  1.88  2.38  1.5   2.22 -0.02\n",
      "  0.32]\n",
      "CD_y error at height 32:\n",
      " [-1.34 -0.66  0.22  0.92  0.04 -0.04 -0.86 -0.06 -0.24 -0.5  -0.12  0.1   0.14  0.22  0.58 -0.04\n",
      "  2.42]\n",
      "CD_x error at height 40:\n",
      " [ 0.26 -0.06 -0.04 -1.12  1.62  1.9   0.06  1.66  0.04  0.12  0.54  7.2   0.6  -0.64 -2.84  0.04\n",
      "  0.88]\n",
      "CD_y error at height 40:\n",
      " [ 1.02 -0.38  0.26  0.16 -0.36  0.08  0.82 -0.32  2.24 -3.74 -0.02 -0.26  0.08 -0.32  0.28  0.06\n",
      "  0.5 ]\n",
      "CD_x error at height 48:\n",
      " [ 1.68  2.8  -1.56 -0.08  2.54 -0.6  -0.38 -1.46  0.5   0.9  -2.2   6.14  0.48 -1.7  -1.06 -0.28\n",
      "  2.12]\n",
      "CD_y error at height 48:\n",
      " [ 0.58 -0.8  -0.38  1.2  -0.1  -0.12 -0.5   0.22  0.44 -0.24  0.16 -0.02 -0.18 -0.86  0.1   0.82\n",
      " -0.34]\n",
      "CD_x error at height 56:\n",
      " [ 0.16  2.54 -1.62 -0.08  0.7  -2.74  0.44 -0.62  0.1  -0.04  0.08 -1.38  1.42  2.92  1.06 -0.08\n",
      " -0.36]\n",
      "CD_y error at height 56:\n",
      " [ 0.86  3.48 -0.86  0.88 -0.44  3.14 -0.28  0.04  0.04  0.12 -0.22  0.26  1.08  0.64 -1.9   0.36\n",
      "  0.22]\n",
      "CD_x error at height 64:\n",
      " [-0.08 -0.18 -0.08 -0.18 -0.   -0.06 -0.68  0.12 -0.36  0.28 -0.78 -1.54  0.02 -0.54 -0.24 -0.14\n",
      " -2.82]\n",
      "CD_y error at height 64:\n",
      " [ 0.08  2.88  0.32 -0.6   1.82  0.2   0.54  0.2   2.88 -1.18 -0.    1.2   0.58  0.16 -0.16  0.04\n",
      "  0.14]\n"
     ]
    },
    {
     "name": "stderr",
     "output_type": "stream",
     "text": [
      "\r",
      " 90%|█████████ | 18/20 [13:15:17<1:28:43, 2661.52s/it]"
     ]
    },
    {
     "name": "stdout",
     "output_type": "stream",
     "text": [
      "CD_x error at height 72:\n",
      " [ 1.92  0.46  0.74  1.2   2.34  0.54  1.88  1.1   0.26  0.72  0.86  0.88  1.62  1.    0.82 -0.08\n",
      "  0.2 ]\n",
      "CD_y error at height 72:\n",
      " [1.7  1.38 1.64 1.9  1.26 1.24 0.2  0.6  3.   1.   2.34 0.6  0.12 0.54 0.98 0.42 0.32]\n",
      "CD_RMSE for label 17: [2.566 1.094]\n",
      "../dataset_train_v1/0098Acid_ini Read in 0.74 s\n",
      "../dataset_train_v1/0098Inhibitor Read in 0.73 s\n",
      "RMSE for label 18: [0.006 0.615]\n",
      "NMSE for label 18: [6.643 1.547]\n",
      "NMSE_height for label 18: [6.716 1.475]\n",
      "\n",
      "!Start to clear memory\n"
     ]
    },
    {
     "name": "stderr",
     "output_type": "stream",
     "text": [
      "<<<\n",
      "time:\t0.798579s\n",
      "<<<\n"
     ]
    },
    {
     "name": "stdout",
     "output_type": "stream",
     "text": [
      "\n",
      "!Start to clear memory\n"
     ]
    },
    {
     "name": "stderr",
     "output_type": "stream",
     "text": [
      "<<<\n",
      "time:\t0.767351s\n",
      "<<<\n"
     ]
    },
    {
     "name": "stdout",
     "output_type": "stream",
     "text": [
      "Contact 18 in 0-CD_x_label is redundant, with info [348.887 879.694   5.78 ]\n",
      "CD_x error at height 0:\n",
      " [ 0.06 -4.42 -3.76  0.06  0.1  -3.98 -3.02  0.56 -3.86 -5.1  -7.92  0.06  2.64 -4.56  0.8  -1.04\n",
      "  0.34 -0.2  -5.78 -0.32]\n",
      "Contact 13 in 0-CD_y_label is redundant, with info [352.068 873.054  11.001]\n",
      "CD_y error at height 0:\n",
      " [ -0.42   -0.14   -3.1     3.62   -1.1     0.34   -0.1     0.08   -0.04    0.44    0.1    -0.2\n",
      "   0.44  -11.001  -0.12    0.4    -1.44   -4.26   -4.02    0.48 ]\n",
      "Contact 18 in 8-CD_x_label is redundant, with info [349.867 878.194   4.44 ]\n",
      "Contact 19 in 8-CD_x_label is redundant, with info [350.888 882.594   1.18 ]\n",
      "CD_x error at height 8:\n",
      " [ 0.02  0.16 -1.04  0.26 -0.9  -0.12 -0.22 -0.26  2.56 -0.74  0.18  1.76 -2.6  -0.18  2.26  1.26\n",
      " -1.62 -0.   -4.44 -1.18  0.12]\n",
      "Contact 13 in 8-CD_y_label is redundant, with info [351.968 874.494   8.16 ]\n",
      "CD_y error at height 8:\n",
      " [-0.04 -0.36  0.38 -0.32 -0.06  0.28  0.46  0.18  0.32 -0.04 -0.04  0.28  0.52 -8.16 -0.04  0.88\n",
      "  0.74 -0.24 -0.16  0.14]\n",
      "CD_x error at height 16:\n",
      " [ 0.2  -0.92  0.94 -0.18 -0.82  0.36  4.86  0.02  2.96  3.64 -0.08  3.   -0.46 -0.06 -0.   -0.5\n",
      "  0.62 -0.02 -0.36]\n",
      "CD_y error at height 16:\n",
      " [ 0.12 -0.46  0.12 -0.   -0.1  -0.5   0.1   0.32 -0.64 -0.02 -0.04 -0.06  0.82  0.06  0.16 -0.08\n",
      "  0.22 -0.3  -0.24]\n",
      "CD_x error at height 24:\n",
      " [-0.64 -0.36 -3.62 -0.1   0.08  1.16 -2.32  0.16  3.16 -0.48  2.7   0.26  0.24  0.66  1.2   0.54\n",
      "  1.64  0.04 -0.  ]\n",
      "CD_y error at height 24:\n",
      " [ 0.1  -0.08 -0.1  -0.52  0.24  0.02  0.62 -0.04 -0.12  0.34  0.06 -0.66 -0.3   0.38  0.06 -0.02\n",
      " -0.04 -0.04  2.76]\n",
      "CD_x error at height 32:\n",
      " [-0.12  1.76 -5.68  0.04  0.1   1.08  2.76 -1.24 -5.1   0.54 -0.   -4.12  0.54  2.04  1.56  0.74\n",
      " -0.86  0.2  -0.06]\n",
      "CD_y error at height 32:\n",
      " [ 0.54  0.3  -0.08 -1.54 -0.2  -0.28  2.54  1.18 -0.14  0.6  -0.46 -0.06  0.06 -0.16  0.44  0.1\n",
      " -0.06 -0.32 -0.14]\n",
      "CD_x error at height 40:\n",
      " [ 3.86 -0.66 -0.   -1.54  2.66  0.9  -0.96 -1.18 -5.1  -1.96  1.18 -2.5   2.58 -3.92 -1.5  -1.2\n",
      "  0.04 -0.18  0.08]\n",
      "CD_y error at height 40:\n",
      " [ 0.2   0.12  0.82  0.54 -0.1   0.48  0.3  -0.66 -0.2  -0.12  0.14  0.18 -0.16 -0.74  0.02  0.48\n",
      " -1.3   0.24 -4.06]\n",
      "CD_x error at height 48:\n",
      " [ 4.16  0.44  1.    3.44  2.16  0.24  0.02  0.36 -1.54 -0.76 -2.18 -1.96  0.9   1.54 -0.12 -1.58\n",
      "  3.4  -2.6   0.5 ]\n",
      "CD_y error at height 48:\n",
      " [ 0.08 -0.44 -0.12 -0.04  0.96 -0.48  0.18 -0.08 -0.48  0.2   0.2   0.14  0.48 -0.22 -0.66  0.02\n",
      "  0.54  0.36 -1.  ]\n",
      "CD_x error at height 56:\n",
      " [ 2.32  0.82  0.76 -3.4  -4.06  0.82  1.6   0.52 -0.42  0.62  0.04  1.04  3.56  2.4  -0.48 -3.18\n",
      "  0.02  4.14  0.12]\n",
      "CD_y error at height 56:\n",
      " [-0.6   0.9   0.16  0.66  0.1   1.06 -0.12  3.5  -0.66 -0.04 -0.2  -0.28  0.26  2.04 -0.5  -0.32\n",
      " -0.6   2.04  0.04]\n",
      "CD_x error at height 64:\n",
      " [-0.44  0.86  0.92  0.52  0.08  1.9   0.2  -0.36 -0.04  0.72 -0.16  0.48  0.08  0.34  0.02 -0.52\n",
      "  1.06 -0.12  0.12]\n",
      "CD_y error at height 64:\n",
      " [-1.28  0.46 -0.48  1.64 -0.32 -0.72 -0.08 -1.08  1.66 -0.18 -1.18  1.16 -0.4   0.24  0.74 -2.58\n",
      "  0.62  1.64 -3.16]\n"
     ]
    },
    {
     "name": "stderr",
     "output_type": "stream",
     "text": [
      "\r",
      " 95%|█████████▌| 19/20 [13:58:42<44:04, 2644.78s/it]  "
     ]
    },
    {
     "name": "stdout",
     "output_type": "stream",
     "text": [
      "CD_x error at height 72:\n",
      " [2.38 1.52 1.94 1.74 1.18 1.04 0.02 0.46 0.78 1.24 2.44 0.56 1.42 2.2  1.98 0.48 0.6  1.72 1.9 ]\n",
      "CD_y error at height 72:\n",
      " [1.46 1.58 2.18 0.42 1.62 0.84 2.4  1.42 0.74 2.1  1.16 0.42 0.78 0.56 0.86 0.88 2.46 0.76 1.2 ]\n",
      "CD_RMSE for label 18: [2.002 1.433]\n",
      "../dataset_train_v1/0099Acid_ini Read in 0.77 s\n",
      "../dataset_train_v1/0099Inhibitor Read in 0.71 s\n",
      "RMSE for label 19: [0.003 0.308]\n",
      "NMSE for label 19: [6.938 0.77 ]\n",
      "NMSE_height for label 19: [6.731 0.735]\n",
      "\n",
      "!Start to clear memory\n"
     ]
    },
    {
     "name": "stderr",
     "output_type": "stream",
     "text": [
      "<<<\n",
      "time:\t0.803628s\n",
      "<<<\n",
      "<<<\n",
      "time:\t0.707646s\n",
      "<<<\n"
     ]
    },
    {
     "name": "stdout",
     "output_type": "stream",
     "text": [
      "\n",
      "!Start to clear memory\n",
      "CD_x error at height 0:\n",
      " [-1.34 -0.14 -3.64  0.98 -3.42]\n",
      "CD_y error at height 0:\n",
      " [0.28 0.52 0.16 0.04 0.12]\n",
      "CD_x error at height 8:\n",
      " [ 2.48  0.74 -1.34 -0.06  0.66]\n",
      "CD_y error at height 8:\n",
      " [ 0.42 -0.32 -0.   -0.22  0.02]\n",
      "CD_x error at height 16:\n",
      " [0.58 0.4  0.44 0.22 0.38]\n",
      "CD_y error at height 16:\n",
      " [-0.    0.28  1.06 -0.74  0.  ]\n",
      "CD_x error at height 24:\n",
      " [3.04 0.34 0.02 1.56 0.3 ]\n",
      "CD_y error at height 24:\n",
      " [ 0.36 -0.   -0.02 -0.16 -0.28]\n",
      "CD_x error at height 32:\n",
      " [-1.14  0.66  0.06 -1.42 -1.4 ]\n",
      "CD_y error at height 32:\n",
      " [ 3.2  -0.14 -0.46 -0.24  0.2 ]\n",
      "CD_x error at height 40:\n",
      " [-2.32 -3.14 -0.   -0.22  1.64]\n",
      "CD_y error at height 40:\n",
      " [ 1.18  0.02 -0.28  0.06  0.2 ]\n",
      "CD_x error at height 48:\n",
      " [ 0.1   0.92  0.28  2.2  -1.46]\n",
      "CD_y error at height 48:\n",
      " [ 0.02 -0.18 -0.28  0.94  0.12]\n",
      "CD_x error at height 56:\n",
      " [-1.42  0.1  -0.28  0.38  3.06]\n",
      "CD_y error at height 56:\n",
      " [-0.5  -0.78 -0.4  -0.4  -0.02]\n",
      "CD_x error at height 64:\n",
      " [-0.2  -0.24 -2.36 -0.94 -0.26]\n",
      "CD_y error at height 64:\n",
      " [ 0.1  -0.26  0.08  2.28 -0.16]\n"
     ]
    },
    {
     "name": "stderr",
     "output_type": "stream",
     "text": [
      "100%|██████████| 20/20 [14:41:21<00:00, 2644.06s/it]"
     ]
    },
    {
     "name": "stdout",
     "output_type": "stream",
     "text": [
      "CD_x error at height 72:\n",
      " [-0.    2.88  2.4   2.56  0.52]\n",
      "CD_y error at height 72:\n",
      " [ 0.6   1.    1.14 -0.    1.66]\n",
      "CD_RMSE for label 19: [1.55  0.744]\n",
      "CD Error: [2.849 1.86 ]\n",
      "RMSE(Mean, Std): [0.005 0.448] [0.001 0.144]\n",
      "NMSE(Mean, Std): [7.156 1.124] [0.966 0.363]\n",
      "NMSE_height: [[24.843 14.02  10.46   9.767  7.898  6.782  6.266  5.992  6.361  5.488  5.666  5.491  5.613\n",
      "   4.916  5.287  4.937  4.923  4.515  4.837  4.524 ...  6.249  5.549  6.971  5.571  7.763  6.295\n",
      "   8.569  7.06   9.18   8.002 10.384  9.71  14.125 15.061 19.203 19.839 17.607 15.91  17.846\n",
      "  19.502]\n",
      " [ 3.051  1.792  1.871  1.308  1.495  1.304  1.284  1.172  1.323  1.103  1.146  1.098  1.157\n",
      "   0.971  1.093  0.956  0.985  0.866  0.995  0.877 ...  0.972  0.864  1.053  0.81   1.098  0.794\n",
      "   1.105  0.908  1.063  0.864  1.113  1.004  1.332  1.04   1.538  1.637  1.497  1.612  1.487\n",
      "   0.904]]\n",
      "Top Error (mean): [15.919  1.316]\n"
     ]
    },
    {
     "name": "stderr",
     "output_type": "stream",
     "text": [
      "\n"
     ]
    },
    {
     "name": "stdout",
     "output_type": "stream",
     "text": [
      "Mean runtime: 1.1188590049743652\n",
      "RMSE(Ihb, rate): [0.005 0.448]\n",
      "NRMSE(Ihb, rate): [7.156 1.124]\n",
      "CD Error(x, y): [2.849 1.86 ]\n"
     ]
    }
   ],
   "source": [
    "netG, _, _ = Model_def(opt, Channels, nf, device_train, load_model=True)\n",
    "Runtime, RMSE, NMSE, NMSE_height, CD_err_x, CD_err_y, CD_RMSE = evaluate(opt, netG, device_train, res_trans, RDevelop)\n",
    "print(\"Mean runtime:\", np.mean(Runtime))\n",
    "print(\"RMSE(Ihb, rate):\", np.mean(RMSE,axis=-1))\n",
    "print(\"NRMSE(Ihb, rate):\", np.mean(NMSE,axis=-1))\n",
    "print(\"CD Error(x, y):\", np.mean(CD_RMSE,axis=-1))"
   ]
  },
  {
   "cell_type": "code",
   "execution_count": 12,
   "metadata": {},
   "outputs": [],
   "source": [
    "Err_x, Err_y = np.array([]), np.array([])\n",
    "for tmp in range(len(CD_err_x)):\n",
    "    Err_x = np.append(Err_x, np.array(CD_err_x[tmp]).flatten())\n",
    "    Err_y = np.append(Err_y, np.array(CD_err_y[tmp]).flatten())\n",
    "\n",
    "np.savetxt(opt.respath+\"CDErr-x_cgan.csv\", Err_x.flatten(), delimiter=' ')\n",
    "np.savetxt(opt.respath+\"CDErr-y_cgan.csv\", Err_y.flatten(), delimiter=' ')\n",
    "from utils.Res_plot import CD_errXY_plot\n",
    "CD_errXY_plot(Err_x, Err_y, \"CGAN's \")"
   ]
  },
  {
   "cell_type": "code",
   "execution_count": 13,
   "metadata": {},
   "outputs": [
    {
     "data": {
      "image/png": "[encoded data removed]",
      "text/plain": [
       "<Figure size 720x432 with 1 Axes>"
      ]
     },
     "metadata": {
      "needs_background": "light"
     },
     "output_type": "display_data"
    }
   ],
   "source": [
    "%matplotlib inline\n",
    "CD_errXY_plot(Err_x, Err_y, \"CGAN's \")"
   ]
  }
 ],
 "metadata": {
  "kernelspec": {
   "display_name": "Python 3 (ipykernel)",
   "language": "python",
   "name": "python3"
  },
  "language_info": {
   "codemirror_mode": {
    "name": "ipython",
    "version": 3
   },
   "file_extension": ".py",
   "mimetype": "text/x-python",
   "name": "python",
   "nbconvert_exporter": "python",
   "pygments_lexer": "ipython3",
   "version": "3.8.10"
  },
  "vp": {
   "vp_config_version": "1.0.0",
   "vp_menu_width": 273,
   "vp_note_display": false,
   "vp_note_width": 0,
   "vp_position": {
    "width": 278
   },
   "vp_section_display": false,
   "vp_signature": "VisualPython"
  }
 },
 "nbformat": 4,
 "nbformat_minor": 2
}
