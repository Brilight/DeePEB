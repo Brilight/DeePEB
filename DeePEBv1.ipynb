{
 "cells": [
  {
   "cell_type": "code",
   "execution_count": 1,
   "metadata": {},
   "outputs": [],
   "source": [
    "import math\n",
    "import time\n",
    "import csv\n",
    "import os\n",
    "os.environ[\"CUDA_DEVICE_ORDER\"] = \"PCI_BUS_ID\"\n",
    "os.environ['CUDA_VISIBLE_DEVICES']=\"4\"\n",
    "os.environ['CUDA_LAUNCH_BLOCKING']=\"1\"\n",
    "\n",
    "import numpy as np\n",
    "import torch \n",
    "import torch.nn as nn\n",
    "import torch.utils.data as data\n",
    "import torch.nn.functional as F\n",
    "\n",
    "torch.manual_seed(42)\n",
    "torch.cuda.manual_seed_all(42)\n",
    "np.random.seed(42)\n",
    "\n",
    "import itertools\n",
    "from tqdm import trange, tqdm\n",
    "import importlib\n",
    "import matplotlib.pyplot as plt\n",
    "\n",
    "from configs import opt, res_trans, RDevelop\n",
    "from Datas.data_load import dataset_append\n",
    "from Model.DeePEB_v1 import SpectralConv3d, DeePEB\n",
    "from utils.Save_and_load import save, load\n",
    "from Train.train_v1 import train\n",
    "from Test.Evaluate import evaluate"
   ]
  },
  {
   "cell_type": "code",
   "execution_count": 2,
   "metadata": {
    "scrolled": true
   },
   "outputs": [],
   "source": [
    "Resmin, Resmax = [-1000,-1000,0], [80,1000,1000]\n",
    "masktest = 80\n",
    "h, k_c, c_sat, D_norm, t_f = 0.027, 0.9, 0.9, 70*70/2/90, 90\n",
    "datapath, modelpath = opt.datapath, opt.modelpath\n",
    "ckptname =\"DeePEBv1.pth\"\n",
    "ckptpath =  modelpath+ckptname"
   ]
  },
  {
   "cell_type": "code",
   "execution_count": 3,
   "metadata": {},
   "outputs": [],
   "source": [
    "def Model_def(mode_xy, mode_z, channels, layers, hf_channels, ckptpath=None):\n",
    "    model = DeePEB([device0, device1], mode_z, mode_xy, mode_xy, channels, layers, hf_channels)\n",
    "    model.initialize()\n",
    "    if ckptpath is not None:\n",
    "        ckpt = torch.load(ckptpath, map_location='cpu')\n",
    "        model.load_state_dict(ckpt)\n",
    "    print(model.parameters)\n",
    "    torch.cuda.empty_cache()\n",
    "    print(torch.cuda.memory_allocated()/1024/1024/1024, torch.cuda.memory_reserved()/1024/1024/1024)\n",
    "    return model"
   ]
  },
  {
   "cell_type": "code",
   "execution_count": 4,
   "metadata": {
    "scrolled": true
   },
   "outputs": [
    {
     "name": "stdout",
     "output_type": "stream",
     "text": [
      "Net Initialized\n",
      "<bound method Module.parameters of DeePEB(\n",
      "  (dsp): Sequential(\n",
      "    (0): Conv3d(1, 1, kernel_size=(3, 3, 3), stride=(1, 2, 2), padding=(1, 1, 1), padding_mode=replicate)\n",
      "  )\n",
      "  (fn0): Sequential(\n",
      "    (0): Linear(in_features=1, out_features=25, bias=True)\n",
      "  )\n",
      "  (activation): LeakyReLU(negative_slope=0.01, inplace=True)\n",
      "  (conv1): SpectralConv3d()\n",
      "  (w1): Sequential(\n",
      "    (0): Conv3d(25, 25, kernel_size=(1, 1, 1), stride=(1, 1, 1))\n",
      "  )\n",
      "  (fn1): Sequential(\n",
      "    (0): Linear(in_features=25, out_features=64, bias=True)\n",
      "  )\n",
      "  (fn2): Sequential(\n",
      "    (0): Linear(in_features=64, out_features=1, bias=True)\n",
      "  )\n",
      "  (usp): Sequential(\n",
      "    (0): Upsample(scale_factor=(1.0, 2.0, 2.0), mode=trilinear)\n",
      "  )\n",
      "  (hf0): Sequential(\n",
      "    (0): Conv3d(1, 10, kernel_size=(1, 1, 1), stride=(1, 1, 1))\n",
      "    (1): LeakyReLU(negative_slope=0.01, inplace=True)\n",
      "    (2): Conv3d(10, 1, kernel_size=(1, 1, 1), stride=(1, 1, 1))\n",
      "  )\n",
      "  (hf1): Sequential(\n",
      "    (0): Conv3d(1, 1, kernel_size=(3, 3, 3), stride=(1, 1, 1), padding=(1, 1, 1), padding_mode=replicate)\n",
      "    (1): LeakyReLU(negative_slope=0.01, inplace=True)\n",
      "    (2): Conv3d(1, 1, kernel_size=(3, 3, 3), stride=(1, 1, 1), padding=(1, 1, 1), padding_mode=replicate)\n",
      "  )\n",
      "  (hf2): Sequential(\n",
      "    (0): Conv3d(1, 1, kernel_size=(3, 3, 3), stride=(1, 1, 1), padding=(2, 2, 2), dilation=(2, 2, 2), padding_mode=replicate)\n",
      "    (1): LeakyReLU(negative_slope=0.01, inplace=True)\n",
      "    (2): Conv3d(1, 1, kernel_size=(3, 3, 3), stride=(1, 1, 1), padding=(2, 2, 2), dilation=(2, 2, 2), padding_mode=replicate)\n",
      "  )\n",
      "  (hf3): Sequential(\n",
      "    (0): Conv3d(1, 1, kernel_size=(1, 5, 5), stride=(1, 1, 1), padding=(0, 2, 2), padding_mode=replicate)\n",
      "    (1): LeakyReLU(negative_slope=0.01, inplace=True)\n",
      "    (2): Conv3d(1, 1, kernel_size=(1, 5, 5), stride=(1, 1, 1), padding=(0, 2, 2), padding_mode=replicate)\n",
      "  )\n",
      ")>\n",
      "1.862666130065918 1.869140625\n"
     ]
    }
   ],
   "source": [
    "mode_xy, mode_z = 50, 40\n",
    "device0 = device1 = torch.device('cuda:0')\n",
    "channels = 25\n",
    "layers = 1\n",
    "hf_channels = 10\n",
    "batch_size = 30\n",
    "model = Model_def(mode_xy, mode_z, channels, layers, hf_channels, ckptpath)"
   ]
  },
  {
   "cell_type": "code",
   "execution_count": 5,
   "metadata": {
    "scrolled": true
   },
   "outputs": [
    {
     "name": "stderr",
     "output_type": "stream",
     "text": [
      "\r",
      "  0%|          | 0/8 [00:00<?, ?it/s]"
     ]
    },
    {
     "name": "stdout",
     "output_type": "stream",
     "text": [
      "../dataset_train_v1/0000Acid_ini Read in 0.15 s\n",
      "../dataset_train_v1/0000Inhibitor Read in 0.15 s\n",
      "--> Mask 0 Read Complete, with dataset size: (1, 1, 80, 1000, 1000), 9 masks left ...\n",
      "\n",
      "../dataset_train_v1/0001Acid_ini Read in 0.15 s\n",
      "../dataset_train_v1/0001Inhibitor Read in 0.14 s\n",
      "--> Mask 1 Read Complete, with dataset size: (2, 1, 80, 1000, 1000), 8 masks left ...\n",
      "\n",
      "../dataset_train_v1/0002Acid_ini Read in 0.13 s\n",
      "../dataset_train_v1/0002Inhibitor Read in 0.13 s\n",
      "--> Mask 2 Read Complete, with dataset size: (3, 1, 80, 1000, 1000), 7 masks left ...\n",
      "\n",
      "../dataset_train_v1/0003Acid_ini Read in 0.12 s\n",
      "../dataset_train_v1/0003Inhibitor Read in 0.12 s\n",
      "--> Mask 3 Read Complete, with dataset size: (4, 1, 80, 1000, 1000), 6 masks left ...\n",
      "\n",
      "../dataset_train_v1/0004Acid_ini Read in 0.12 s\n",
      "../dataset_train_v1/0004Inhibitor Read in 0.12 s\n",
      "--> Mask 4 Read Complete, with dataset size: (5, 1, 80, 1000, 1000), 5 masks left ...\n",
      "\n",
      "../dataset_train_v1/0005Acid_ini Read in 0.12 s\n",
      "../dataset_train_v1/0005Inhibitor Read in 0.11 s\n",
      "--> Mask 5 Read Complete, with dataset size: (6, 1, 80, 1000, 1000), 4 masks left ...\n",
      "\n",
      "../dataset_train_v1/0006Acid_ini Read in 0.12 s\n",
      "../dataset_train_v1/0006Inhibitor Read in 0.11 s\n",
      "--> Mask 6 Read Complete, with dataset size: (7, 1, 80, 1000, 1000), 3 masks left ...\n",
      "\n",
      "../dataset_train_v1/0007Acid_ini Read in 0.11 s\n",
      "../dataset_train_v1/0007Inhibitor Read in 0.11 s\n",
      "--> Mask 7 Read Complete, with dataset size: (8, 1, 80, 1000, 1000), 2 masks left ...\n",
      "\n",
      "../dataset_train_v1/0008Acid_ini Read in 0.11 s\n",
      "../dataset_train_v1/0008Inhibitor Read in 0.11 s\n",
      "--> Mask 8 Read Complete, with dataset size: (9, 1, 80, 1000, 1000), 1 masks left ...\n",
      "\n",
      "../dataset_train_v1/0009Acid_ini Read in 0.11 s\n",
      "../dataset_train_v1/0009Inhibitor Read in 0.11 s\n"
     ]
    },
    {
     "name": "stderr",
     "output_type": "stream",
     "text": [
      "\r",
      " 12%|█▎        | 1/8 [00:22<02:35, 22.19s/it]"
     ]
    },
    {
     "name": "stdout",
     "output_type": "stream",
     "text": [
      "--> Mask 9 Read Complete, with dataset size: (10, 1, 80, 1000, 1000), 0 masks left ...\n",
      "\n",
      "../dataset_train_v1/0010Acid_ini Read in 0.11 s\n",
      "../dataset_train_v1/0010Inhibitor Read in 0.11 s\n",
      "--> Mask 10 Read Complete, with dataset size: (1, 1, 80, 1000, 1000), 9 masks left ...\n",
      "\n",
      "../dataset_train_v1/0011Acid_ini Read in 0.11 s\n",
      "../dataset_train_v1/0011Inhibitor Read in 0.11 s\n",
      "--> Mask 11 Read Complete, with dataset size: (2, 1, 80, 1000, 1000), 8 masks left ...\n",
      "\n",
      "../dataset_train_v1/0012Acid_ini Read in 0.11 s\n",
      "../dataset_train_v1/0012Inhibitor Read in 0.11 s\n",
      "--> Mask 12 Read Complete, with dataset size: (3, 1, 80, 1000, 1000), 7 masks left ...\n",
      "\n",
      "../dataset_train_v1/0013Acid_ini Read in 0.11 s\n",
      "../dataset_train_v1/0013Inhibitor Read in 0.11 s\n",
      "--> Mask 13 Read Complete, with dataset size: (4, 1, 80, 1000, 1000), 6 masks left ...\n",
      "\n",
      "../dataset_train_v1/0014Acid_ini Read in 0.11 s\n",
      "../dataset_train_v1/0014Inhibitor Read in 0.11 s\n",
      "--> Mask 14 Read Complete, with dataset size: (5, 1, 80, 1000, 1000), 5 masks left ...\n",
      "\n",
      "../dataset_train_v1/0015Acid_ini Read in 0.11 s\n",
      "../dataset_train_v1/0015Inhibitor Read in 0.11 s\n",
      "--> Mask 15 Read Complete, with dataset size: (6, 1, 80, 1000, 1000), 4 masks left ...\n",
      "\n",
      "../dataset_train_v1/0016Acid_ini Read in 0.11 s\n",
      "../dataset_train_v1/0016Inhibitor Read in 0.11 s\n",
      "--> Mask 16 Read Complete, with dataset size: (7, 1, 80, 1000, 1000), 3 masks left ...\n",
      "\n",
      "../dataset_train_v1/0017Acid_ini Read in 0.11 s\n",
      "../dataset_train_v1/0017Inhibitor Read in 0.12 s\n",
      "--> Mask 17 Read Complete, with dataset size: (8, 1, 80, 1000, 1000), 2 masks left ...\n",
      "\n",
      "../dataset_train_v1/0018Acid_ini Read in 0.11 s\n",
      "../dataset_train_v1/0018Inhibitor Read in 0.11 s\n",
      "--> Mask 18 Read Complete, with dataset size: (9, 1, 80, 1000, 1000), 1 masks left ...\n",
      "\n",
      "../dataset_train_v1/0019Acid_ini Read in 0.12 s\n",
      "../dataset_train_v1/0019Inhibitor Read in 0.11 s\n"
     ]
    },
    {
     "name": "stderr",
     "output_type": "stream",
     "text": [
      "\r",
      " 25%|██▌       | 2/8 [00:44<02:12, 22.11s/it]"
     ]
    },
    {
     "name": "stdout",
     "output_type": "stream",
     "text": [
      "--> Mask 19 Read Complete, with dataset size: (10, 1, 80, 1000, 1000), 0 masks left ...\n",
      "\n",
      "../dataset_train_v1/0020Acid_ini Read in 0.11 s\n",
      "../dataset_train_v1/0020Inhibitor Read in 0.11 s\n",
      "--> Mask 20 Read Complete, with dataset size: (1, 1, 80, 1000, 1000), 9 masks left ...\n",
      "\n",
      "../dataset_train_v1/0021Acid_ini Read in 0.11 s\n",
      "../dataset_train_v1/0021Inhibitor Read in 0.11 s\n",
      "--> Mask 21 Read Complete, with dataset size: (2, 1, 80, 1000, 1000), 8 masks left ...\n",
      "\n",
      "../dataset_train_v1/0022Acid_ini Read in 0.11 s\n",
      "../dataset_train_v1/0022Inhibitor Read in 0.11 s\n",
      "--> Mask 22 Read Complete, with dataset size: (3, 1, 80, 1000, 1000), 7 masks left ...\n",
      "\n",
      "../dataset_train_v1/0023Acid_ini Read in 0.11 s\n",
      "../dataset_train_v1/0023Inhibitor Read in 0.11 s\n",
      "--> Mask 23 Read Complete, with dataset size: (4, 1, 80, 1000, 1000), 6 masks left ...\n",
      "\n",
      "../dataset_train_v1/0024Acid_ini Read in 0.11 s\n",
      "../dataset_train_v1/0024Inhibitor Read in 0.11 s\n",
      "--> Mask 24 Read Complete, with dataset size: (5, 1, 80, 1000, 1000), 5 masks left ...\n",
      "\n",
      "../dataset_train_v1/0025Acid_ini Read in 0.11 s\n",
      "../dataset_train_v1/0025Inhibitor Read in 0.11 s\n",
      "--> Mask 25 Read Complete, with dataset size: (6, 1, 80, 1000, 1000), 4 masks left ...\n",
      "\n",
      "../dataset_train_v1/0026Acid_ini Read in 0.11 s\n",
      "../dataset_train_v1/0026Inhibitor Read in 0.11 s\n",
      "--> Mask 26 Read Complete, with dataset size: (7, 1, 80, 1000, 1000), 3 masks left ...\n",
      "\n",
      "../dataset_train_v1/0027Acid_ini Read in 0.12 s\n",
      "../dataset_train_v1/0027Inhibitor Read in 0.11 s\n",
      "--> Mask 27 Read Complete, with dataset size: (8, 1, 80, 1000, 1000), 2 masks left ...\n",
      "\n",
      "../dataset_train_v1/0028Acid_ini Read in 0.11 s\n",
      "../dataset_train_v1/0028Inhibitor Read in 0.11 s\n",
      "--> Mask 28 Read Complete, with dataset size: (9, 1, 80, 1000, 1000), 1 masks left ...\n",
      "\n",
      "../dataset_train_v1/0029Acid_ini Read in 0.11 s\n",
      "../dataset_train_v1/0029Inhibitor Read in 0.11 s\n"
     ]
    },
    {
     "name": "stderr",
     "output_type": "stream",
     "text": [
      "\r",
      " 38%|███▊      | 3/8 [01:06<01:50, 22.08s/it]"
     ]
    },
    {
     "name": "stdout",
     "output_type": "stream",
     "text": [
      "--> Mask 29 Read Complete, with dataset size: (10, 1, 80, 1000, 1000), 0 masks left ...\n",
      "\n",
      "../dataset_train_v1/0030Acid_ini Read in 0.11 s\n",
      "../dataset_train_v1/0030Inhibitor Read in 0.11 s\n",
      "--> Mask 30 Read Complete, with dataset size: (1, 1, 80, 1000, 1000), 9 masks left ...\n",
      "\n",
      "../dataset_train_v1/0031Acid_ini Read in 0.11 s\n",
      "../dataset_train_v1/0031Inhibitor Read in 0.11 s\n",
      "--> Mask 31 Read Complete, with dataset size: (2, 1, 80, 1000, 1000), 8 masks left ...\n",
      "\n",
      "../dataset_train_v1/0032Acid_ini Read in 0.11 s\n",
      "../dataset_train_v1/0032Inhibitor Read in 0.11 s\n",
      "--> Mask 32 Read Complete, with dataset size: (3, 1, 80, 1000, 1000), 7 masks left ...\n",
      "\n",
      "../dataset_train_v1/0033Acid_ini Read in 0.11 s\n",
      "../dataset_train_v1/0033Inhibitor Read in 0.11 s\n",
      "--> Mask 33 Read Complete, with dataset size: (4, 1, 80, 1000, 1000), 6 masks left ...\n",
      "\n",
      "../dataset_train_v1/0034Acid_ini Read in 0.11 s\n",
      "../dataset_train_v1/0034Inhibitor Read in 0.11 s\n",
      "--> Mask 34 Read Complete, with dataset size: (5, 1, 80, 1000, 1000), 5 masks left ...\n",
      "\n",
      "../dataset_train_v1/0035Acid_ini Read in 0.12 s\n",
      "../dataset_train_v1/0035Inhibitor Read in 0.11 s\n",
      "--> Mask 35 Read Complete, with dataset size: (6, 1, 80, 1000, 1000), 4 masks left ...\n",
      "\n",
      "../dataset_train_v1/0036Acid_ini Read in 0.11 s\n",
      "../dataset_train_v1/0036Inhibitor Read in 0.11 s\n",
      "--> Mask 36 Read Complete, with dataset size: (7, 1, 80, 1000, 1000), 3 masks left ...\n",
      "\n",
      "../dataset_train_v1/0037Acid_ini Read in 0.11 s\n",
      "../dataset_train_v1/0037Inhibitor Read in 0.11 s\n",
      "--> Mask 37 Read Complete, with dataset size: (8, 1, 80, 1000, 1000), 2 masks left ...\n",
      "\n",
      "../dataset_train_v1/0038Acid_ini Read in 0.11 s\n",
      "../dataset_train_v1/0038Inhibitor Read in 0.11 s\n",
      "--> Mask 38 Read Complete, with dataset size: (9, 1, 80, 1000, 1000), 1 masks left ...\n",
      "\n",
      "../dataset_train_v1/0039Acid_ini Read in 0.11 s\n",
      "../dataset_train_v1/0039Inhibitor Read in 0.11 s\n"
     ]
    },
    {
     "name": "stderr",
     "output_type": "stream",
     "text": [
      "\r",
      " 50%|█████     | 4/8 [01:28<01:28, 22.07s/it]"
     ]
    },
    {
     "name": "stdout",
     "output_type": "stream",
     "text": [
      "--> Mask 39 Read Complete, with dataset size: (10, 1, 80, 1000, 1000), 0 masks left ...\n",
      "\n",
      "../dataset_train_v1/0040Acid_ini Read in 0.11 s\n",
      "../dataset_train_v1/0040Inhibitor Read in 0.11 s\n",
      "--> Mask 40 Read Complete, with dataset size: (1, 1, 80, 1000, 1000), 9 masks left ...\n",
      "\n",
      "../dataset_train_v1/0041Acid_ini Read in 0.11 s\n",
      "../dataset_train_v1/0041Inhibitor Read in 0.11 s\n",
      "--> Mask 41 Read Complete, with dataset size: (2, 1, 80, 1000, 1000), 8 masks left ...\n",
      "\n",
      "../dataset_train_v1/0042Acid_ini Read in 0.11 s\n",
      "../dataset_train_v1/0042Inhibitor Read in 0.12 s\n",
      "--> Mask 42 Read Complete, with dataset size: (3, 1, 80, 1000, 1000), 7 masks left ...\n",
      "\n",
      "../dataset_train_v1/0043Acid_ini Read in 0.11 s\n",
      "../dataset_train_v1/0043Inhibitor Read in 0.11 s\n",
      "--> Mask 43 Read Complete, with dataset size: (4, 1, 80, 1000, 1000), 6 masks left ...\n",
      "\n",
      "../dataset_train_v1/0044Acid_ini Read in 0.11 s\n",
      "../dataset_train_v1/0044Inhibitor Read in 0.11 s\n",
      "--> Mask 44 Read Complete, with dataset size: (5, 1, 80, 1000, 1000), 5 masks left ...\n",
      "\n",
      "../dataset_train_v1/0045Acid_ini Read in 0.11 s\n",
      "../dataset_train_v1/0045Inhibitor Read in 0.11 s\n",
      "--> Mask 45 Read Complete, with dataset size: (6, 1, 80, 1000, 1000), 4 masks left ...\n",
      "\n",
      "../dataset_train_v1/0046Acid_ini Read in 0.11 s\n",
      "../dataset_train_v1/0046Inhibitor Read in 0.11 s\n",
      "--> Mask 46 Read Complete, with dataset size: (7, 1, 80, 1000, 1000), 3 masks left ...\n",
      "\n",
      "../dataset_train_v1/0047Acid_ini Read in 0.11 s\n",
      "../dataset_train_v1/0047Inhibitor Read in 0.11 s\n",
      "--> Mask 47 Read Complete, with dataset size: (8, 1, 80, 1000, 1000), 2 masks left ...\n",
      "\n",
      "../dataset_train_v1/0048Acid_ini Read in 0.11 s\n",
      "../dataset_train_v1/0048Inhibitor Read in 0.11 s\n",
      "--> Mask 48 Read Complete, with dataset size: (9, 1, 80, 1000, 1000), 1 masks left ...\n",
      "\n",
      "../dataset_train_v1/0049Acid_ini Read in 0.11 s\n",
      "../dataset_train_v1/0049Inhibitor Read in 0.11 s\n"
     ]
    },
    {
     "name": "stderr",
     "output_type": "stream",
     "text": [
      "\r",
      " 62%|██████▎   | 5/8 [01:50<01:06, 22.05s/it]"
     ]
    },
    {
     "name": "stdout",
     "output_type": "stream",
     "text": [
      "--> Mask 49 Read Complete, with dataset size: (10, 1, 80, 1000, 1000), 0 masks left ...\n",
      "\n",
      "../dataset_train_v1/0050Acid_ini Read in 0.11 s\n",
      "../dataset_train_v1/0050Inhibitor Read in 0.11 s\n",
      "--> Mask 50 Read Complete, with dataset size: (1, 1, 80, 1000, 1000), 9 masks left ...\n",
      "\n",
      "../dataset_train_v1/0051Acid_ini Read in 0.11 s\n",
      "../dataset_train_v1/0051Inhibitor Read in 0.11 s\n",
      "--> Mask 51 Read Complete, with dataset size: (2, 1, 80, 1000, 1000), 8 masks left ...\n",
      "\n",
      "../dataset_train_v1/0052Acid_ini Read in 0.11 s\n",
      "../dataset_train_v1/0052Inhibitor Read in 0.11 s\n",
      "--> Mask 52 Read Complete, with dataset size: (3, 1, 80, 1000, 1000), 7 masks left ...\n",
      "\n",
      "../dataset_train_v1/0053Acid_ini Read in 0.11 s\n",
      "../dataset_train_v1/0053Inhibitor Read in 0.11 s\n",
      "--> Mask 53 Read Complete, with dataset size: (4, 1, 80, 1000, 1000), 6 masks left ...\n",
      "\n",
      "../dataset_train_v1/0054Acid_ini Read in 0.11 s\n",
      "../dataset_train_v1/0054Inhibitor Read in 0.11 s\n",
      "--> Mask 54 Read Complete, with dataset size: (5, 1, 80, 1000, 1000), 5 masks left ...\n",
      "\n",
      "../dataset_train_v1/0055Acid_ini Read in 0.11 s\n",
      "../dataset_train_v1/0055Inhibitor Read in 0.11 s\n",
      "--> Mask 55 Read Complete, with dataset size: (6, 1, 80, 1000, 1000), 4 masks left ...\n",
      "\n",
      "../dataset_train_v1/0056Acid_ini Read in 0.11 s\n",
      "../dataset_train_v1/0056Inhibitor Read in 0.11 s\n",
      "--> Mask 56 Read Complete, with dataset size: (7, 1, 80, 1000, 1000), 3 masks left ...\n",
      "\n",
      "../dataset_train_v1/0057Acid_ini Read in 0.11 s\n",
      "../dataset_train_v1/0057Inhibitor Read in 0.11 s\n",
      "--> Mask 57 Read Complete, with dataset size: (8, 1, 80, 1000, 1000), 2 masks left ...\n",
      "\n",
      "../dataset_train_v1/0058Acid_ini Read in 0.12 s\n",
      "../dataset_train_v1/0058Inhibitor Read in 0.11 s\n",
      "--> Mask 58 Read Complete, with dataset size: (9, 1, 80, 1000, 1000), 1 masks left ...\n",
      "\n",
      "../dataset_train_v1/0059Acid_ini Read in 0.11 s\n",
      "../dataset_train_v1/0059Inhibitor Read in 0.11 s\n"
     ]
    },
    {
     "name": "stderr",
     "output_type": "stream",
     "text": [
      "\r",
      " 75%|███████▌  | 6/8 [02:12<00:43, 21.99s/it]"
     ]
    },
    {
     "name": "stdout",
     "output_type": "stream",
     "text": [
      "--> Mask 59 Read Complete, with dataset size: (10, 1, 80, 1000, 1000), 0 masks left ...\n",
      "\n",
      "../dataset_train_v1/0060Acid_ini Read in 0.11 s\n",
      "../dataset_train_v1/0060Inhibitor Read in 0.11 s\n",
      "--> Mask 60 Read Complete, with dataset size: (1, 1, 80, 1000, 1000), 9 masks left ...\n",
      "\n",
      "../dataset_train_v1/0061Acid_ini Read in 0.11 s\n",
      "../dataset_train_v1/0061Inhibitor Read in 0.11 s\n",
      "--> Mask 61 Read Complete, with dataset size: (2, 1, 80, 1000, 1000), 8 masks left ...\n",
      "\n",
      "../dataset_train_v1/0062Acid_ini Read in 0.11 s\n",
      "../dataset_train_v1/0062Inhibitor Read in 0.11 s\n",
      "--> Mask 62 Read Complete, with dataset size: (3, 1, 80, 1000, 1000), 7 masks left ...\n",
      "\n",
      "../dataset_train_v1/0063Acid_ini Read in 0.11 s\n",
      "../dataset_train_v1/0063Inhibitor Read in 0.12 s\n",
      "--> Mask 63 Read Complete, with dataset size: (4, 1, 80, 1000, 1000), 6 masks left ...\n",
      "\n",
      "../dataset_train_v1/0064Acid_ini Read in 0.11 s\n",
      "../dataset_train_v1/0064Inhibitor Read in 0.11 s\n",
      "--> Mask 64 Read Complete, with dataset size: (5, 1, 80, 1000, 1000), 5 masks left ...\n",
      "\n",
      "../dataset_train_v1/0065Acid_ini Read in 0.11 s\n",
      "../dataset_train_v1/0065Inhibitor Read in 0.12 s\n",
      "--> Mask 65 Read Complete, with dataset size: (6, 1, 80, 1000, 1000), 4 masks left ...\n",
      "\n",
      "../dataset_train_v1/0066Acid_ini Read in 0.11 s\n",
      "../dataset_train_v1/0066Inhibitor Read in 0.11 s\n",
      "--> Mask 66 Read Complete, with dataset size: (7, 1, 80, 1000, 1000), 3 masks left ...\n",
      "\n",
      "../dataset_train_v1/0067Acid_ini Read in 0.11 s\n",
      "../dataset_train_v1/0067Inhibitor Read in 0.11 s\n",
      "--> Mask 67 Read Complete, with dataset size: (8, 1, 80, 1000, 1000), 2 masks left ...\n",
      "\n",
      "../dataset_train_v1/0068Acid_ini Read in 0.11 s\n",
      "../dataset_train_v1/0068Inhibitor Read in 0.11 s\n",
      "--> Mask 68 Read Complete, with dataset size: (9, 1, 80, 1000, 1000), 1 masks left ...\n",
      "\n",
      "../dataset_train_v1/0069Acid_ini Read in 0.11 s\n",
      "../dataset_train_v1/0069Inhibitor Read in 0.11 s\n"
     ]
    },
    {
     "name": "stderr",
     "output_type": "stream",
     "text": [
      "\r",
      " 88%|████████▊ | 7/8 [02:34<00:21, 21.97s/it]"
     ]
    },
    {
     "name": "stdout",
     "output_type": "stream",
     "text": [
      "--> Mask 69 Read Complete, with dataset size: (10, 1, 80, 1000, 1000), 0 masks left ...\n",
      "\n",
      "../dataset_train_v1/0070Acid_ini Read in 0.11 s\n",
      "../dataset_train_v1/0070Inhibitor Read in 0.11 s\n",
      "--> Mask 70 Read Complete, with dataset size: (1, 1, 80, 1000, 1000), 9 masks left ...\n",
      "\n",
      "../dataset_train_v1/0071Acid_ini Read in 0.11 s\n",
      "../dataset_train_v1/0071Inhibitor Read in 0.11 s\n",
      "--> Mask 71 Read Complete, with dataset size: (2, 1, 80, 1000, 1000), 8 masks left ...\n",
      "\n",
      "../dataset_train_v1/0072Acid_ini Read in 0.11 s\n",
      "../dataset_train_v1/0072Inhibitor Read in 0.11 s\n",
      "--> Mask 72 Read Complete, with dataset size: (3, 1, 80, 1000, 1000), 7 masks left ...\n",
      "\n",
      "../dataset_train_v1/0073Acid_ini Read in 0.11 s\n",
      "../dataset_train_v1/0073Inhibitor Read in 0.11 s\n",
      "--> Mask 73 Read Complete, with dataset size: (4, 1, 80, 1000, 1000), 6 masks left ...\n",
      "\n",
      "../dataset_train_v1/0074Acid_ini Read in 0.11 s\n",
      "../dataset_train_v1/0074Inhibitor Read in 0.11 s\n",
      "--> Mask 74 Read Complete, with dataset size: (5, 1, 80, 1000, 1000), 5 masks left ...\n",
      "\n",
      "../dataset_train_v1/0075Acid_ini Read in 0.11 s\n",
      "../dataset_train_v1/0075Inhibitor Read in 0.11 s\n",
      "--> Mask 75 Read Complete, with dataset size: (6, 1, 80, 1000, 1000), 4 masks left ...\n",
      "\n",
      "../dataset_train_v1/0076Acid_ini Read in 0.13 s\n",
      "../dataset_train_v1/0076Inhibitor Read in 0.11 s\n",
      "--> Mask 76 Read Complete, with dataset size: (7, 1, 80, 1000, 1000), 3 masks left ...\n",
      "\n",
      "../dataset_train_v1/0077Acid_ini Read in 0.11 s\n",
      "../dataset_train_v1/0077Inhibitor Read in 0.11 s\n",
      "--> Mask 77 Read Complete, with dataset size: (8, 1, 80, 1000, 1000), 2 masks left ...\n",
      "\n",
      "../dataset_train_v1/0078Acid_ini Read in 0.11 s\n",
      "../dataset_train_v1/0078Inhibitor Read in 0.11 s\n",
      "--> Mask 78 Read Complete, with dataset size: (9, 1, 80, 1000, 1000), 1 masks left ...\n",
      "\n",
      "../dataset_train_v1/0079Acid_ini Read in 0.11 s\n",
      "../dataset_train_v1/0079Inhibitor Read in 0.11 s\n"
     ]
    },
    {
     "name": "stderr",
     "output_type": "stream",
     "text": [
      "100%|██████████| 8/8 [02:55<00:00, 22.00s/it]\n"
     ]
    },
    {
     "name": "stdout",
     "output_type": "stream",
     "text": [
      "--> Mask 79 Read Complete, with dataset size: (10, 1, 80, 1000, 1000), 0 masks left ...\n",
      "\n"
     ]
    },
    {
     "name": "stderr",
     "output_type": "stream",
     "text": [
      "\r",
      "  0%|          | 0/2 [00:00<?, ?it/s]"
     ]
    },
    {
     "name": "stdout",
     "output_type": "stream",
     "text": [
      "../dataset_train_v1/0080Acid_ini Read in 0.14 s\n",
      "../dataset_train_v1/0080Inhibitor Read in 0.13 s\n",
      "--> Mask 80 Read Complete, with dataset size: (1, 1, 80, 1000, 1000), 9 masks left ...\n",
      "\n",
      "../dataset_train_v1/0081Acid_ini Read in 0.15 s\n",
      "../dataset_train_v1/0081Inhibitor Read in 0.15 s\n",
      "--> Mask 81 Read Complete, with dataset size: (2, 1, 80, 1000, 1000), 8 masks left ...\n",
      "\n",
      "../dataset_train_v1/0082Acid_ini Read in 0.15 s\n",
      "../dataset_train_v1/0082Inhibitor Read in 0.15 s\n",
      "--> Mask 82 Read Complete, with dataset size: (3, 1, 80, 1000, 1000), 7 masks left ...\n",
      "\n",
      "../dataset_train_v1/0083Acid_ini Read in 0.15 s\n",
      "../dataset_train_v1/0083Inhibitor Read in 0.14 s\n",
      "--> Mask 83 Read Complete, with dataset size: (4, 1, 80, 1000, 1000), 6 masks left ...\n",
      "\n",
      "../dataset_train_v1/0084Acid_ini Read in 0.15 s\n",
      "../dataset_train_v1/0084Inhibitor Read in 0.15 s\n",
      "--> Mask 84 Read Complete, with dataset size: (5, 1, 80, 1000, 1000), 5 masks left ...\n",
      "\n",
      "../dataset_train_v1/0085Acid_ini Read in 0.15 s\n",
      "../dataset_train_v1/0085Inhibitor Read in 0.15 s\n",
      "--> Mask 85 Read Complete, with dataset size: (6, 1, 80, 1000, 1000), 4 masks left ...\n",
      "\n",
      "../dataset_train_v1/0086Acid_ini Read in 0.15 s\n",
      "../dataset_train_v1/0086Inhibitor Read in 0.14 s\n",
      "--> Mask 86 Read Complete, with dataset size: (7, 1, 80, 1000, 1000), 3 masks left ...\n",
      "\n",
      "../dataset_train_v1/0087Acid_ini Read in 0.15 s\n",
      "../dataset_train_v1/0087Inhibitor Read in 0.15 s\n",
      "--> Mask 87 Read Complete, with dataset size: (8, 1, 80, 1000, 1000), 2 masks left ...\n",
      "\n",
      "../dataset_train_v1/0088Acid_ini Read in 0.15 s\n",
      "../dataset_train_v1/0088Inhibitor Read in 0.15 s\n",
      "--> Mask 88 Read Complete, with dataset size: (9, 1, 80, 1000, 1000), 1 masks left ...\n",
      "\n",
      "../dataset_train_v1/0089Acid_ini Read in 0.15 s\n",
      "../dataset_train_v1/0089Inhibitor Read in 0.14 s\n"
     ]
    },
    {
     "name": "stderr",
     "output_type": "stream",
     "text": [
      "\r",
      " 50%|█████     | 1/2 [00:22<00:22, 22.65s/it]"
     ]
    },
    {
     "name": "stdout",
     "output_type": "stream",
     "text": [
      "--> Mask 89 Read Complete, with dataset size: (10, 1, 80, 1000, 1000), 0 masks left ...\n",
      "\n",
      "../dataset_train_v1/0090Acid_ini Read in 0.14 s\n",
      "../dataset_train_v1/0090Inhibitor Read in 0.13 s\n",
      "--> Mask 90 Read Complete, with dataset size: (1, 1, 80, 1000, 1000), 9 masks left ...\n",
      "\n",
      "../dataset_train_v1/0091Acid_ini Read in 0.15 s\n",
      "../dataset_train_v1/0091Inhibitor Read in 0.13 s\n",
      "--> Mask 91 Read Complete, with dataset size: (2, 1, 80, 1000, 1000), 8 masks left ...\n",
      "\n",
      "../dataset_train_v1/0092Acid_ini Read in 0.15 s\n",
      "../dataset_train_v1/0092Inhibitor Read in 0.13 s\n",
      "--> Mask 92 Read Complete, with dataset size: (3, 1, 80, 1000, 1000), 7 masks left ...\n",
      "\n",
      "../dataset_train_v1/0093Acid_ini Read in 0.15 s\n",
      "../dataset_train_v1/0093Inhibitor Read in 0.13 s\n",
      "--> Mask 93 Read Complete, with dataset size: (4, 1, 80, 1000, 1000), 6 masks left ...\n",
      "\n",
      "../dataset_train_v1/0094Acid_ini Read in 0.14 s\n",
      "../dataset_train_v1/0094Inhibitor Read in 0.13 s\n",
      "--> Mask 94 Read Complete, with dataset size: (5, 1, 80, 1000, 1000), 5 masks left ...\n",
      "\n",
      "../dataset_train_v1/0095Acid_ini Read in 0.14 s\n",
      "../dataset_train_v1/0095Inhibitor Read in 0.13 s\n",
      "--> Mask 95 Read Complete, with dataset size: (6, 1, 80, 1000, 1000), 4 masks left ...\n",
      "\n",
      "../dataset_train_v1/0096Acid_ini Read in 0.15 s\n",
      "../dataset_train_v1/0096Inhibitor Read in 0.15 s\n",
      "--> Mask 96 Read Complete, with dataset size: (7, 1, 80, 1000, 1000), 3 masks left ...\n",
      "\n",
      "../dataset_train_v1/0097Acid_ini Read in 0.15 s\n",
      "../dataset_train_v1/0097Inhibitor Read in 0.14 s\n",
      "--> Mask 97 Read Complete, with dataset size: (8, 1, 80, 1000, 1000), 2 masks left ...\n",
      "\n",
      "../dataset_train_v1/0098Acid_ini Read in 0.15 s\n",
      "../dataset_train_v1/0098Inhibitor Read in 0.13 s\n",
      "--> Mask 98 Read Complete, with dataset size: (9, 1, 80, 1000, 1000), 1 masks left ...\n",
      "\n",
      "../dataset_train_v1/0099Acid_ini Read in 0.15 s\n",
      "../dataset_train_v1/0099Inhibitor Read in 0.14 s\n"
     ]
    },
    {
     "name": "stderr",
     "output_type": "stream",
     "text": [
      "100%|██████████| 2/2 [00:45<00:00, 22.53s/it]"
     ]
    },
    {
     "name": "stdout",
     "output_type": "stream",
     "text": [
      "--> Mask 99 Read Complete, with dataset size: (10, 1, 80, 1000, 1000), 0 masks left ...\n",
      "\n"
     ]
    },
    {
     "name": "stderr",
     "output_type": "stream",
     "text": [
      "\n"
     ]
    }
   ],
   "source": [
    "dataset_train = dataset_append(opt, opt.dataidx_train, res_trans)\n",
    "dataset_test = dataset_append(opt, opt.dataidx_test, res_trans) "
   ]
  },
  {
   "cell_type": "code",
   "execution_count": 6,
   "metadata": {},
   "outputs": [],
   "source": [
    "def opt_strategy(model, times=0):\n",
    "    LR = 1e-3 #*0.5**(times//5)\n",
    "    optimizer = torch.optim.Adam(model.parameters(), lr=LR,)# weight_decay=1e-4)\n",
    "    scheduler = None\n",
    "    #optimizer = torch.optim.SGD(model.parameters(), lr=1e-4, momentum=0.8, )\n",
    "    #scheduler = torch.optim.lr_scheduler.CosineAnnealingLR(optimizer, T_max=50, eta_min=1e-5)\n",
    "    scheduler = torch.optim.lr_scheduler.StepLR(optimizer, step_size=50, gamma=0.8)\n",
    "    return optimizer, scheduler"
   ]
  },
  {
   "cell_type": "code",
   "execution_count": 7,
   "metadata": {
    "scrolled": true
   },
   "outputs": [
    {
     "name": "stderr",
     "output_type": "stream",
     "text": [
      "\r",
      "  0%|          | 0/500 [00:00<?, ?it/s]"
     ]
    },
    {
     "name": "stdout",
     "output_type": "stream",
     "text": [
      "Epoch 0 | LR: 1.00e-03 | Train Loss: 3.39e-03 | Test Loss: 7.29e-01, 4.31e-03, 9.18%\n",
      "\n",
      "!Model saved at Epoch 0, with Train Loss 3.39e-03(Total) | Test Error(Ihb): 4.31e-03(MSE), 9.18%(NRMSE)\n",
      "\n"
     ]
    },
    {
     "name": "stderr",
     "output_type": "stream",
     "text": [
      "\r",
      "  0%|          | 1/500 [01:21<11:19:37, 81.72s/it]"
     ]
    },
    {
     "name": "stdout",
     "output_type": "stream",
     "text": [
      "!Model saved to  ./Ckpts/DeePEBv1.pth\n"
     ]
    },
    {
     "name": "stderr",
     "output_type": "stream",
     "text": [
      "  4%|▍         | 20/500 [22:35<8:33:53, 64.24s/it] "
     ]
    },
    {
     "name": "stdout",
     "output_type": "stream",
     "text": [
      "Epoch 20 | LR: 1.00e-03 | Train Loss: 2.68e-03 | Test Loss: 4.43e-01, 4.76e-03, 6.03%\n",
      "\n",
      "!Model saved at Epoch 20, with Train Loss 2.68e-03(Total) | Test Error(Ihb): 4.76e-03(MSE), 6.03%(NRMSE)\n",
      "\n"
     ]
    },
    {
     "name": "stderr",
     "output_type": "stream",
     "text": [
      "\r",
      "  4%|▍         | 21/500 [23:53<9:05:04, 68.28s/it]"
     ]
    },
    {
     "name": "stdout",
     "output_type": "stream",
     "text": [
      "!Model saved to  ./Ckpts/DeePEBv1.pth\n"
     ]
    },
    {
     "name": "stderr",
     "output_type": "stream",
     "text": [
      "  8%|▊         | 40/500 [45:32<8:42:30, 68.15s/it]"
     ]
    },
    {
     "name": "stdout",
     "output_type": "stream",
     "text": [
      "Epoch 40 | LR: 1.00e-03 | Train Loss: 4.46e-03 | Test Loss: 3.62e-01, 4.14e-03, 5.63%\n",
      "\n",
      "!Model saved at Epoch 40, with Train Loss 4.46e-03(Total) | Test Error(Ihb): 4.14e-03(MSE), 5.63%(NRMSE)\n",
      "\n"
     ]
    },
    {
     "name": "stderr",
     "output_type": "stream",
     "text": [
      "\r",
      "  8%|▊         | 41/500 [46:58<9:21:20, 73.38s/it]"
     ]
    },
    {
     "name": "stdout",
     "output_type": "stream",
     "text": [
      "!Model saved to  ./Ckpts/DeePEBv1.pth\n"
     ]
    },
    {
     "name": "stderr",
     "output_type": "stream",
     "text": [
      " 12%|█▏        | 60/500 [1:08:16<8:08:06, 66.56s/it]"
     ]
    },
    {
     "name": "stdout",
     "output_type": "stream",
     "text": [
      "Epoch 60 | LR: 8.00e-04 | Train Loss: 3.85e-03 | Test Loss: 4.71e-01, 3.26e-03, 4.82%\n",
      "\n",
      "!Model saved at Epoch 60, with Train Loss 3.85e-03(Total) | Test Error(Ihb): 3.26e-03(MSE), 4.82%(NRMSE)\n",
      "\n"
     ]
    },
    {
     "name": "stderr",
     "output_type": "stream",
     "text": [
      "\r",
      " 12%|█▏        | 61/500 [1:09:35<8:35:42, 70.48s/it]"
     ]
    },
    {
     "name": "stdout",
     "output_type": "stream",
     "text": [
      "!Model saved to  ./Ckpts/DeePEBv1.pth\n"
     ]
    },
    {
     "name": "stderr",
     "output_type": "stream",
     "text": [
      " 16%|█▌        | 81/500 [1:32:13<8:14:52, 70.87s/it]"
     ]
    },
    {
     "name": "stdout",
     "output_type": "stream",
     "text": [
      "Epoch 80 | LR: 8.00e-04 | Train Loss: 2.66e-03 | Test Loss: 1.33e+00, 6.03e-03, 7.81%\n"
     ]
    },
    {
     "name": "stderr",
     "output_type": "stream",
     "text": [
      " 20%|██        | 101/500 [1:54:54<7:45:37, 70.02s/it]"
     ]
    },
    {
     "name": "stdout",
     "output_type": "stream",
     "text": [
      "Epoch 100 | LR: 6.40e-04 | Train Loss: 2.53e-03 | Test Loss: 8.35e-01, 3.66e-03, 4.87%\n"
     ]
    },
    {
     "name": "stderr",
     "output_type": "stream",
     "text": [
      " 24%|██▍       | 121/500 [2:18:09<7:25:42, 70.56s/it]"
     ]
    },
    {
     "name": "stdout",
     "output_type": "stream",
     "text": [
      "Epoch 120 | LR: 6.40e-04 | Train Loss: 1.02e-03 | Test Loss: 6.68e-01, 5.58e-03, 6.41%\n"
     ]
    },
    {
     "name": "stderr",
     "output_type": "stream",
     "text": [
      " 28%|██▊       | 140/500 [2:38:27<6:36:40, 66.11s/it]"
     ]
    },
    {
     "name": "stdout",
     "output_type": "stream",
     "text": [
      "Epoch 140 | LR: 6.40e-04 | Train Loss: 3.02e-03 | Test Loss: 1.80e-01, 1.81e-03, 3.40%\n",
      "\n",
      "!Model saved at Epoch 140, with Train Loss 3.02e-03(Total) | Test Error(Ihb): 1.81e-03(MSE), 3.40%(NRMSE)\n",
      "\n"
     ]
    },
    {
     "name": "stderr",
     "output_type": "stream",
     "text": [
      "\r",
      " 28%|██▊       | 141/500 [2:39:52<7:10:20, 71.92s/it]"
     ]
    },
    {
     "name": "stdout",
     "output_type": "stream",
     "text": [
      "!Model saved to  ./Ckpts/DeePEBv1.pth\n"
     ]
    },
    {
     "name": "stderr",
     "output_type": "stream",
     "text": [
      " 32%|███▏      | 161/500 [3:02:01<6:32:48, 69.52s/it]"
     ]
    },
    {
     "name": "stdout",
     "output_type": "stream",
     "text": [
      "Epoch 160 | LR: 5.12e-04 | Train Loss: 1.74e-03 | Test Loss: 2.27e-01, 2.51e-03, 4.61%\n"
     ]
    },
    {
     "name": "stderr",
     "output_type": "stream",
     "text": [
      " 36%|███▌      | 181/500 [3:23:57<6:01:53, 68.07s/it]"
     ]
    },
    {
     "name": "stdout",
     "output_type": "stream",
     "text": [
      "Epoch 180 | LR: 5.12e-04 | Train Loss: 3.30e-03 | Test Loss: 9.54e-01, 4.82e-03, 5.59%\n"
     ]
    },
    {
     "name": "stderr",
     "output_type": "stream",
     "text": [
      " 40%|████      | 201/500 [3:46:25<5:51:45, 70.59s/it]"
     ]
    },
    {
     "name": "stdout",
     "output_type": "stream",
     "text": [
      "Epoch 200 | LR: 4.10e-04 | Train Loss: 1.21e-03 | Test Loss: 1.45e+00, 6.72e-03, 8.78%\n"
     ]
    },
    {
     "name": "stderr",
     "output_type": "stream",
     "text": [
      " 44%|████▍     | 221/500 [4:08:48<5:21:09, 69.07s/it]"
     ]
    },
    {
     "name": "stdout",
     "output_type": "stream",
     "text": [
      "Epoch 220 | LR: 4.10e-04 | Train Loss: 8.14e-04 | Test Loss: 3.78e-01, 3.02e-03, 5.13%\n"
     ]
    },
    {
     "name": "stderr",
     "output_type": "stream",
     "text": [
      " 48%|████▊     | 241/500 [4:30:23<4:50:17, 67.25s/it]"
     ]
    },
    {
     "name": "stdout",
     "output_type": "stream",
     "text": [
      "Epoch 240 | LR: 4.10e-04 | Train Loss: 2.32e-03 | Test Loss: 3.86e-01, 3.05e-03, 5.02%\n"
     ]
    },
    {
     "name": "stderr",
     "output_type": "stream",
     "text": [
      " 52%|█████▏    | 261/500 [4:52:00<4:29:13, 67.59s/it]"
     ]
    },
    {
     "name": "stdout",
     "output_type": "stream",
     "text": [
      "Epoch 260 | LR: 3.28e-04 | Train Loss: 1.81e-03 | Test Loss: 1.96e-01, 2.41e-03, 3.99%\n"
     ]
    },
    {
     "name": "stderr",
     "output_type": "stream",
     "text": [
      " 56%|█████▌    | 281/500 [5:13:35<4:05:01, 67.13s/it]"
     ]
    },
    {
     "name": "stdout",
     "output_type": "stream",
     "text": [
      "Epoch 280 | LR: 3.28e-04 | Train Loss: 1.41e-03 | Test Loss: 1.60e-01, 1.64e-03, 3.91%\n"
     ]
    },
    {
     "name": "stderr",
     "output_type": "stream",
     "text": [
      " 60%|██████    | 301/500 [5:34:56<3:42:04, 66.96s/it]"
     ]
    },
    {
     "name": "stdout",
     "output_type": "stream",
     "text": [
      "Epoch 300 | LR: 2.62e-04 | Train Loss: 7.93e-04 | Test Loss: 2.49e-01, 2.94e-03, 4.02%\n"
     ]
    },
    {
     "name": "stderr",
     "output_type": "stream",
     "text": [
      " 64%|██████▍   | 321/500 [5:56:21<3:19:52, 66.99s/it]"
     ]
    },
    {
     "name": "stdout",
     "output_type": "stream",
     "text": [
      "Epoch 320 | LR: 2.62e-04 | Train Loss: 7.01e-04 | Test Loss: 6.01e-01, 4.48e-03, 5.37%\n"
     ]
    },
    {
     "name": "stderr",
     "output_type": "stream",
     "text": [
      " 68%|██████▊   | 341/500 [6:18:04<3:02:49, 68.99s/it]"
     ]
    },
    {
     "name": "stdout",
     "output_type": "stream",
     "text": [
      "Epoch 340 | LR: 2.62e-04 | Train Loss: 2.57e-03 | Test Loss: 4.07e-01, 4.00e-03, 5.66%\n"
     ]
    },
    {
     "name": "stderr",
     "output_type": "stream",
     "text": [
      " 72%|███████▏  | 361/500 [6:39:26<2:35:31, 67.13s/it]"
     ]
    },
    {
     "name": "stdout",
     "output_type": "stream",
     "text": [
      "Epoch 360 | LR: 2.10e-04 | Train Loss: 1.49e-03 | Test Loss: 1.87e-01, 2.25e-03, 3.89%\n"
     ]
    },
    {
     "name": "stderr",
     "output_type": "stream",
     "text": [
      " 76%|███████▌  | 381/500 [7:01:02<2:11:25, 66.27s/it]"
     ]
    },
    {
     "name": "stdout",
     "output_type": "stream",
     "text": [
      "Epoch 380 | LR: 2.10e-04 | Train Loss: 2.20e-03 | Test Loss: 8.40e-01, 3.48e-03, 4.83%\n"
     ]
    },
    {
     "name": "stderr",
     "output_type": "stream",
     "text": [
      " 80%|████████  | 401/500 [7:23:14<1:52:47, 68.36s/it]"
     ]
    },
    {
     "name": "stdout",
     "output_type": "stream",
     "text": [
      "Epoch 400 | LR: 1.68e-04 | Train Loss: 2.22e-03 | Test Loss: 1.25e+00, 5.32e-03, 7.34%\n"
     ]
    },
    {
     "name": "stderr",
     "output_type": "stream",
     "text": [
      " 84%|████████▍ | 421/500 [7:45:28<1:31:08, 69.22s/it]"
     ]
    },
    {
     "name": "stdout",
     "output_type": "stream",
     "text": [
      "Epoch 420 | LR: 1.68e-04 | Train Loss: 5.97e-04 | Test Loss: 6.22e-01, 4.60e-03, 5.82%\n"
     ]
    },
    {
     "name": "stderr",
     "output_type": "stream",
     "text": [
      " 88%|████████▊ | 441/500 [8:06:51<1:05:39, 66.77s/it]"
     ]
    },
    {
     "name": "stdout",
     "output_type": "stream",
     "text": [
      "Epoch 440 | LR: 1.68e-04 | Train Loss: 5.69e-04 | Test Loss: 1.21e+00, 5.00e-03, 6.68%\n"
     ]
    },
    {
     "name": "stderr",
     "output_type": "stream",
     "text": [
      " 92%|█████████▏| 461/500 [8:28:44<45:00, 69.26s/it]  "
     ]
    },
    {
     "name": "stdout",
     "output_type": "stream",
     "text": [
      "Epoch 460 | LR: 1.34e-04 | Train Loss: 7.81e-04 | Test Loss: 3.39e-01, 2.55e-03, 4.76%\n"
     ]
    },
    {
     "name": "stderr",
     "output_type": "stream",
     "text": [
      " 96%|█████████▌| 481/500 [8:50:05<21:06, 66.67s/it]"
     ]
    },
    {
     "name": "stdout",
     "output_type": "stream",
     "text": [
      "Epoch 480 | LR: 1.34e-04 | Train Loss: 6.69e-04 | Test Loss: 3.93e-01, 4.37e-03, 5.78%\n"
     ]
    },
    {
     "name": "stderr",
     "output_type": "stream",
     "text": [
      "100%|██████████| 500/500 [9:10:15<00:00, 66.03s/it]\n"
     ]
    }
   ],
   "source": [
    "TotLoss = lambda pred,label: ((pred-label)**2).max()\n",
    "optimizer, scheduler = opt_strategy(model)\n",
    "train_log, test_log, lr_log = train(model, optimizer, scheduler, opt, dataset_train, device0,\n",
    "                                           dataset_test, res_trans, ckptname, TotLoss=TotLoss)\n",
    "plt.plot(np.mean(train_log.reshape(-1,opt.batch_size),axis=-1));plt.yscale(\"log\");plt.show()"
   ]
  },
  {
   "cell_type": "code",
   "execution_count": 8,
   "metadata": {
    "scrolled": true
   },
   "outputs": [
    {
     "name": "stderr",
     "output_type": "stream",
     "text": [
      "\r",
      "  0%|          | 0/20 [00:00<?, ?it/s]"
     ]
    },
    {
     "name": "stdout",
     "output_type": "stream",
     "text": [
      "../dataset_train_v1/0080Acid_ini Read in 0.68 s\n",
      "../dataset_train_v1/0080Inhibitor Read in 0.67 s\n",
      "RMSE for label 0: [0.005 0.651]\n",
      "NMSE for label 0: [5.793 1.637]\n",
      "NMSE_height for label 0: [6.044 1.616]\n",
      "\n",
      "!Start to clear memory\n"
     ]
    },
    {
     "name": "stderr",
     "output_type": "stream",
     "text": [
      "<<<\n",
      "time:\t0.440626s\n",
      "<<<\n"
     ]
    },
    {
     "name": "stdout",
     "output_type": "stream",
     "text": [
      "\n",
      "!Start to clear memory\n"
     ]
    },
    {
     "name": "stderr",
     "output_type": "stream",
     "text": [
      "<<<\n",
      "time:\t0.429884s\n",
      "<<<\n"
     ]
    },
    {
     "name": "stdout",
     "output_type": "stream",
     "text": [
      "CD_x error at height 0:\n",
      " [-0.04 -0.04  0.34 -0.09 -0.03  0.04  0.06 -0.   -0.07  0.01  0.05  0.07  0.    0.02 -0.39 -0.06\n",
      " -0.15  0.52 -0.58]\n",
      "CD_y error at height 0:\n",
      " [-0.1  -0.03 -0.11 -0.   -0.08 -0.36 -0.03 -0.    0.04 -0.91  0.26  0.11  0.02 -0.18  0.03 -0.1\n",
      "  0.06  0.02  0.  ]\n",
      "CD_x error at height 8:\n",
      " [-0.05 -0.02 -0.03  1.   -0.01  0.04  1.02  0.27 -0.14 -0.31 -0.    0.19  0.14 -0.49  0.42  0.05\n",
      " -0.08  0.16 -0.63]\n",
      "CD_y error at height 8:\n",
      " [-0.04 -0.02 -0.09  0.1   0.12 -0.19  0.01 -0.01 -1.81 -0.01 -0.03 -0.12 -0.01  0.14 -0.04  0.01\n",
      "  0.05  0.1  -0.01]\n",
      "CD_x error at height 16:\n",
      " [-0.98 -0.04  0.05  0.11 -0.01 -0.04  3.68  1.07  0.04 -0.06  0.02 -2.25  0.06 -0.07  0.14 -0.05\n",
      " -0.13  0.05 -0.11]\n",
      "CD_y error at height 16:\n",
      " [-0.16  0.38  0.11 -0.07  0.09  0.1  -0.19 -0.57  0.05 -0.04  0.01 -0.05  0.03  0.14 -0.03 -0.03\n",
      " -0.12 -0.01 -0.09]\n",
      "CD_x error at height 24:\n",
      " [ 0.46 -0.27 -0.87 -0.07  0.08  0.03  1.03 -0.28  0.04 -0.06 -0.64  0.94  0.11 -1.1   0.48 -0.01\n",
      "  0.13 -0.06 -0.18]\n",
      "CD_y error at height 24:\n",
      " [-4.1  -0.67  0.29 -0.05  0.1   0.05 -0.02 -0.26 -0.22  0.01  0.08  0.32  0.11 -0.08  0.04  0.1\n",
      "  0.04  0.04  0.01]\n",
      "CD_x error at height 32:\n",
      " [-0.11 -0.01  0.01  0.66 -0.05 -0.02  0.17 -0.37 -0.    0.02 -0.95  0.56  0.18 -0.05 -0.23 -0.13\n",
      " -0.62 -0.05  0.12]\n",
      "CD_y error at height 32:\n",
      " [ 1.01  0.04 -0.    0.    0.38  0.12 -0.05  0.01 -0.01  0.05 -0.01  0.31 -0.37 -0.05 -0.18  0.14\n",
      " -0.01 -0.05  0.05]\n",
      "CD_x error at height 40:\n",
      " [-1.59 -3.86 -0.03 -0.87 -1.04  0.09 -0.22 -3.98 -0.    0.98  0.    1.83  1.08 -0.6   0.1  -0.33\n",
      "  0.15 -0.08 -0.  ]\n",
      "CD_y error at height 40:\n",
      " [ 0.81 -0.1   0.03 -0.   -0.06 -0.02 -0.04 -0.02  0.06 -0.07 -0.03 -0.24  0.24 -0.02 -0.07  0.01\n",
      "  0.11 -0.   -0.1 ]\n",
      "CD_x error at height 48:\n",
      " [ 0.11 -0.98 -0.17 -0.03 -1.3   0.05 -0.87  2.78  0.01 -0.91  0.75 -3.63  0.4   1.79  0.26  0.12\n",
      "  0.38  0.47 -0.17]\n",
      "CD_y error at height 48:\n",
      " [ 2.17 -0.18 -0.07 -0.02  0.02 -0.08  0.46 -0.07 -0.   -0.09 -0.04 -0.05  0.11  0.03 -0.03  0.05\n",
      " -0.11 -0.   -0.04]\n",
      "CD_x error at height 56:\n",
      " [-2.79 -1.37  0.46  0.61  0.22  0.07 -0.52  0.73  1.36 -0.82  0.02 -0.12 -0.98 -2.94  2.11 -0.87\n",
      "  2.06  0.43 -0.48]\n",
      "CD_y error at height 56:\n",
      " [-0.53 -0.7   2.41 -3.11  0.17 -0.03  0.08  0.1   0.15 -0.59 -0.64  0.61  0.02  0.01  0.18  0.11\n",
      "  0.51  0.75  0.02]\n",
      "CD_x error at height 64:\n",
      " [-2.51  0.12 -0.23  1.04  0.05  0.82 -0.11  0.02 -0.01  1.57  0.68 -0.36  2.46 -0.29  0.08 -2.92\n",
      "  0.13  0.83 -1.08]\n",
      "CD_y error at height 64:\n",
      " [-2.74 -0.19  2.82 -0.83  0.54  0.71  2.4  -0.77  0.01 -1.07 -0.62  1.92 -0.77  0.22 -0.36  0.03\n",
      " -1.32  1.38  1.14]\n"
     ]
    },
    {
     "name": "stderr",
     "output_type": "stream",
     "text": [
      "\r",
      "  5%|▌         | 1/20 [56:30<17:53:45, 3390.81s/it]"
     ]
    },
    {
     "name": "stdout",
     "output_type": "stream",
     "text": [
      "CD_x error at height 72:\n",
      " [-3.43 -2.04 -1.23  0.35  0.49  0.97 -1.26 -0.14 -2.99 -0.68  0.39  1.21  0.36 -1.89  1.18 -3.26\n",
      " -0.23  1.66]\n",
      "CD_y error at height 72:\n",
      " [-0.54  0.41 -2.01  1.53 -0.12 -0.18 -2.23  1.05 -1.91 -1.86  0.41 -2.64  0.22 -2.68 -1.28 -0.95\n",
      "  1.16  1.03]\n",
      "CD_RMSE for label 0: [1.063 0.804]\n",
      "../dataset_train_v1/0081Acid_ini Read in 0.69 s\n",
      "../dataset_train_v1/0081Inhibitor Read in 0.68 s\n",
      "RMSE for label 1: [0.006 0.753]\n",
      "NMSE for label 1: [6.767 1.894]\n",
      "NMSE_height for label 1: [6.895 1.866]\n",
      "\n",
      "!Start to clear memory\n"
     ]
    },
    {
     "name": "stderr",
     "output_type": "stream",
     "text": [
      "<<<\n",
      "time:\t0.437917s\n",
      "<<<\n",
      "<<<\n",
      "time:\t0.441237s\n",
      "<<<\n"
     ]
    },
    {
     "name": "stdout",
     "output_type": "stream",
     "text": [
      "\n",
      "!Start to clear memory\n",
      "CD_x error at height 0:\n",
      " [ 0.03  0.07 -0.02  0.14  0.12 -0.02 -0.62  4.07 -0.05 -0.03 -0.03  0.18 -0.13 -0.09  0.05 -0.04\n",
      " -0.    0.14  0.05  2.03]\n",
      "CD_y error at height 0:\n",
      " [-0.13  3.55  0.02 -0.04  0.09  0.07  0.01 -0.18  0.05 -0.18 -0.48 -0.45  0.03 -0.06 -0.04  0.17\n",
      "  0.01  0.1   0.01  0.03]\n",
      "CD_x error at height 8:\n",
      " [-0.05 -0.81 -0.08  0.1   0.11 -0.12 -0.58  3.82 -0.08 -0.   -0.06  0.21  0.13 -0.02  0.05  0.04\n",
      " -0.01  0.24 -0.07  0.72]\n",
      "CD_y error at height 8:\n",
      " [ 6.34 -0.04  0.14 -0.    0.07  0.06  0.37  0.16  0.07 -0.07 -0.19 -0.24 -0.1  -0.03  0.09  0.11\n",
      " -0.01  0.15  0.05  0.11]\n",
      "CD_x error at height 16:\n",
      " [ 0.05 -0.15  0.37  0.13  0.12 -0.09 -0.13  4.05  0.22  0.05 -0.44 -0.12 -0.02 -0.11  0.08  0.08\n",
      "  0.07  0.02  0.    1.97]\n",
      "CD_y error at height 16:\n",
      " [ 6.54 -0.04 -0.   -0.02 -0.22 -0.04  0.15  0.19 -0.6  -0.22  0.01 -0.04 -0.1  -0.03  0.58 -0.04\n",
      "  0.06  0.02 -0.   -0.  ]\n",
      "CD_x error at height 24:\n",
      " [-0.11  0.01 -0.03 -0.22 -0.11  0.93  0.08  3.21  0.77 -0.03 -0.25  0.05 -0.06  0.49 -0.39  0.02\n",
      " -0.    0.79 -0.    3.23]\n",
      "CD_y error at height 24:\n",
      " [ 4.17  0.14  0.22  0.02  0.01 -0.04 -0.06  0.02  0.01 -0.01 -0.03 -0.02  0.08 -0.03 -0.   -0.04\n",
      "  0.06  0.03  0.06 -0.09]\n",
      "CD_x error at height 32:\n",
      " [ 0.03 -2.05  1.11  0.27  0.89 -0.15  0.02  2.99  3.27 -0.01  1.1  -1.49 -0.12 -0.12  0.81  0.08\n",
      " -0.    0.72 -0.06  0.12]\n",
      "CD_y error at height 32:\n",
      " [-0.01  4.13 -0.49 -0.02 -0.09  0.01  0.12 -0.45  0.02 -0.04  0.19 -0.13 -0.09 -0.   -0.09  0.07\n",
      " -0.02 -0.    0.    0.1 ]\n",
      "CD_x error at height 40:\n",
      " [ 2.78  0.99  0.15  3.58 -2.54  0.62  0.64  1.48 -0.1  -3.48 -1.21 -0.43 -0.05 -1.21 -2.09  0.18\n",
      "  0.01  0.75 -0.06  3.85]\n",
      "CD_y error at height 40:\n",
      " [ 3.42  0.04  0.48  0.11  0.    0.02  0.09  0.11  0.02 -0.17 -0.04  0.01  0.68 -0.01  0.01  0.04\n",
      " -0.02 -0.03 -0.   -0.01]\n",
      "CD_x error at height 48:\n",
      " [-0.6   2.29  1.66 -0.72  2.37  2.72 -0.    0.5   1.09 -0.98  2.35  0.57 -2.08 -0.03  3.56  0.16\n",
      " -0.02  2.44 -0.98  2.6 ]\n",
      "CD_y error at height 48:\n",
      " [ 6.64  0.04  0.47  0.04 -0.02 -0.05  0.45  0.09  0.03 -0.06 -0.14 -0.02  0.09 -0.23  0.15 -0.11\n",
      " -0.03 -0.   -0.01 -0.03]\n",
      "CD_x error at height 56:\n",
      " [ 0.33 -1.9   1.02 -0.56  0.8   0.92 -0.77  2.88  3.47 -0.91  1.08  0.51 -0.7   0.42  0.76  2.93\n",
      " -0.35  0.55  0.03  4.41]\n",
      "CD_y error at height 56:\n",
      " [ 4.71  3.71  0.06 -0.05  0.02  0.37 -0.01  0.86  0.13 -0.    0.   -0.22  0.05  0.14 -0.03 -0.05\n",
      "  2.62  1.76  0.07  2.85]\n",
      "CD_x error at height 64:\n",
      " [ 0.36  1.74  4.32  0.86  1.91  3.42 -0.28  1.27  0.82 -0.22  1.96  0.88  0.03 -0.01  0.9   0.74\n",
      " -0.7   3.19  0.37  4.96]\n",
      "CD_y error at height 64:\n",
      " [ 5.37  5.1   0.28  0.14 -0.5   3.37  1.93 -0.01  1.1   2.08  2.44 -0.3   1.06  0.56  0.95  0.23\n",
      "  2.27  3.94  0.77  2.22]\n"
     ]
    },
    {
     "name": "stderr",
     "output_type": "stream",
     "text": [
      "\r",
      " 10%|█         | 2/20 [1:52:12<16:48:38, 3362.14s/it]"
     ]
    },
    {
     "name": "stdout",
     "output_type": "stream",
     "text": [
      "CD_x error at height 72:\n",
      " [-1.56 -1.08  2.43  0.25  0.25  2.49 -0.22  1.78  2.94 -0.33 -0.33 -0.05 -0.72 -0.63 -1.75  0.86\n",
      " -2.7   2.1  -0.69]\n",
      "CD_y error at height 72:\n",
      " [ 1.15 -0.31 -0.61 -3.14  3.01  4.57 -0.26 -1.9   0.25  3.15  1.98 -0.22  0.25  1.1  -0.38 -1.53\n",
      "  3.4  -0.7   0.56]\n",
      "CD_RMSE for label 1: [1.462 1.471]\n",
      "../dataset_train_v1/0082Acid_ini Read in 0.74 s\n",
      "../dataset_train_v1/0082Inhibitor Read in 0.74 s\n",
      "RMSE for label 2: [0.002 0.288]\n",
      "NMSE for label 2: [3.466 0.723]\n",
      "NMSE_height for label 2: [3.735 0.714]\n",
      "\n",
      "!Start to clear memory\n"
     ]
    },
    {
     "name": "stderr",
     "output_type": "stream",
     "text": [
      "<<<\n",
      "time:\t0.427761s\n",
      "<<<\n",
      "<<<\n",
      "time:\t0.414597s\n",
      "<<<\n"
     ]
    },
    {
     "name": "stdout",
     "output_type": "stream",
     "text": [
      "\n",
      "!Start to clear memory\n",
      "CD_x error at height 0:\n",
      " [ 0.25 -0.1  -0.76  0.03  0.04  0.11 -0.02 -0.05]\n",
      "CD_y error at height 0:\n",
      " [ 0.09 -0.28 -0.02 -0.01  0.22 -0.31  0.05 -0.3 ]\n",
      "CD_x error at height 8:\n",
      " [ 0.19  0.32  0.12 -0.04  0.05 -0.02  0.04  0.22]\n",
      "CD_y error at height 8:\n",
      " [ 0.02 -0.07 -0.02  0.03 -0.04 -0.31  0.06  0.15]\n",
      "CD_x error at height 16:\n",
      " [ 0.71  0.02  0.07  0.59 -0.17 -0.28  0.25 -0.08]\n",
      "CD_y error at height 16:\n",
      " [-0.    0.04  0.01  0.04 -0.   -0.23  0.06 -0.13]\n",
      "CD_x error at height 24:\n",
      " [ 0.34 -0.01 -0.2  -0.33 -0.04 -0.46  1.   -0.01]\n",
      "CD_y error at height 24:\n",
      " [ 0.01  0.09 -0.04 -0.08 -0.09 -0.33 -0.02 -0.09]\n",
      "CD_x error at height 32:\n",
      " [ 0.16 -0.2   0.49  2.12  0.42  0.62  2.3   0.76]\n",
      "CD_y error at height 32:\n",
      " [-0.01  0.03 -0.03  0.19  0.06  0.13 -0.22 -0.02]\n",
      "CD_x error at height 40:\n",
      " [-0.01 -1.12  0.03 -0.01  0.11 -0.04  0.11  0.07]\n",
      "CD_y error at height 40:\n",
      " [ 0.03  0.03  0.07  0.02  0.02  0.02 -0.07  0.04]\n",
      "CD_x error at height 48:\n",
      " [ 0.02  2.29 -1.43 -0.   -4.16  0.76 -0.03  0.04]\n",
      "CD_y error at height 48:\n",
      " [-0.23  0.63  0.08  0.55 -0.02 -0.06 -0.34 -0.05]\n",
      "CD_x error at height 56:\n",
      " [ 0.21 -2.05  0.02 -0.16  0.21 -0.08  0.58 -0.09]\n",
      "CD_y error at height 56:\n",
      " [ 0.    0.4   0.24  1.01  0.01 -1.21  0.    0.08]\n",
      "CD_x error at height 64:\n",
      " [ 0.08  0.18  0.12 -1.24  0.64  0.25  0.2   0.26]\n",
      "CD_y error at height 64:\n",
      " [ 2.44  0.52  2.89  0.75  0.29  0.26 -1.49 -0.32]\n"
     ]
    },
    {
     "name": "stderr",
     "output_type": "stream",
     "text": [
      "\r",
      " 15%|█▌        | 3/20 [2:43:34<15:16:20, 3234.13s/it]"
     ]
    },
    {
     "name": "stdout",
     "output_type": "stream",
     "text": [
      "CD_x error at height 72:\n",
      " [ 1.07 -3.47 -0.39 -3.94 -0.67 -0.61  1.21 -2.53]\n",
      "CD_y error at height 72:\n",
      " [ 1.16 -0.38 -0.75  1.63 -0.53 -1.69 -3.58 -4.38]\n",
      "CD_RMSE for label 2: [1.034 0.879]\n",
      "../dataset_train_v1/0083Acid_ini Read in 0.72 s\n",
      "../dataset_train_v1/0083Inhibitor Read in 0.73 s\n",
      "RMSE for label 3: [0.005 0.623]\n",
      "NMSE for label 3: [6.175 1.564]\n",
      "NMSE_height for label 3: [6.508 1.554]\n",
      "\n",
      "!Start to clear memory\n"
     ]
    },
    {
     "name": "stderr",
     "output_type": "stream",
     "text": [
      "<<<\n",
      "time:\t0.448508s\n",
      "<<<\n"
     ]
    },
    {
     "name": "stdout",
     "output_type": "stream",
     "text": [
      "\n",
      "!Start to clear memory\n"
     ]
    },
    {
     "name": "stderr",
     "output_type": "stream",
     "text": [
      "<<<\n",
      "time:\t0.429594s\n",
      "<<<\n"
     ]
    },
    {
     "name": "stdout",
     "output_type": "stream",
     "text": [
      "CD_x error at height 0:\n",
      " [-0.08  2.48  0.02 -0.02 -1.04  0.1   0.73  0.02 -0.18 -0.01  0.11  0.57  0.12 -0.03 -0.02]\n",
      "CD_y error at height 0:\n",
      " [-0.    0.08 -0.22  0.08  0.07 -0.17 -0.16  0.36  0.13 -0.08  0.04  0.23  0.02  0.01  0.07]\n",
      "CD_x error at height 8:\n",
      " [-0.    3.    0.04 -0.05 -3.06  0.07  2.63  0.97  0.02 -0.14 -0.59 -0.02  0.06  0.02  0.03]\n",
      "CD_y error at height 8:\n",
      " [-0.06 -0.15 -0.05 -0.03 -0.01 -0.61  0.01 -0.06  0.05  0.07 -0.15  0.02 -0.26  0.03  0.04]\n",
      "CD_x error at height 16:\n",
      " [-0.61  2.58 -0.06 -0.12 -0.99 -0.02 -0.01  0.65  0.13 -0.25 -0.93 -0.38 -0.4   0.12 -0.58]\n",
      "CD_y error at height 16:\n",
      " [-0.13 -0.11  0.1   0.01 -0.05  0.74  0.03 -0.26  0.03 -0.13 -0.14  0.12  0.03 -0.01  0.08]\n",
      "CD_x error at height 24:\n",
      " [-1.35  2.15 -0.22  0.37 -0.42  0.06  3.16  1.05 -3.81 -0.39  0.11  0.1  -0.09  0.41 -0.66]\n",
      "CD_y error at height 24:\n",
      " [ 0.01  0.08 -0.07 -0.05 -0.   -0.11  0.02  0.04 -0.09 -0.01 -0.08 -0.03 -0.14 -0.03 -0.22]\n",
      "CD_x error at height 32:\n",
      " [-0.1   0.05 -2.11  1.39  0.2  -0.11 -0.24 -0.28  0.26  0.04 -0.64 -0.01  0.4   0.94 -1.58]\n",
      "CD_y error at height 32:\n",
      " [-0.06 -0.22 -0.01  0.09  0.06 -0.03 -0.03 -0.08 -0.02  0.16  0.15  0.    0.06 -0.12 -0.04]\n",
      "CD_x error at height 40:\n",
      " [-0.24  0.54 -0.    0.68 -0.71 -0.97  2.85  0.24  0.43 -0.33 -3.06 -0.03 -2.98  0.35 -0.04]\n",
      "CD_y error at height 40:\n",
      " [-0.    0.14  0.1   0.11  0.07  0.07 -0.07 -0.18 -0.02 -0.29 -0.09 -0.04  0.05 -0.25  0.08]\n",
      "CD_x error at height 48:\n",
      " [-2.44 -0.2  -2.02 -1.85  0.45 -0.78  0.78  1.21 -2.    1.31  0.71 -0.77 -0.39  2.98 -3.26]\n",
      "CD_y error at height 48:\n",
      " [ 0.15  0.08  0.05  0.04  0.04 -0.    0.27 -0.15  0.8  -0.1   0.33  0.02  0.03 -0.01  0.06]\n",
      "CD_x error at height 56:\n",
      " [-0.49 -0.02  0.04 -1.14  0.1  -0.21 -0.18  0.11 -0.96  0.62  3.07  0.05  0.02  0.83 -0.83]\n",
      "CD_y error at height 56:\n",
      " [-3.05  0.87 -1.14 -3.58 -0.03  0.96  0.11  0.11 -0.82 -0.03  0.01 -1.61 -0.04  0.24 -0.26]\n",
      "CD_x error at height 64:\n",
      " [-0.32 -2.17 -0.04 -0.07  0.96  1.5  -1.22  0.54 -2.57  0.97  0.09  0.04 -2.74  3.2  -2.64]\n",
      "CD_y error at height 64:\n",
      " [-1.9   2.72  0.67 -3.25  2.12  0.97  0.67  0.32 -1.81 -0.36  0.29 -1.1   0.8  -0.28 -0.43]\n"
     ]
    },
    {
     "name": "stderr",
     "output_type": "stream",
     "text": [
      "\r",
      " 20%|██        | 4/20 [3:37:16<14:21:07, 3229.20s/it]"
     ]
    },
    {
     "name": "stdout",
     "output_type": "stream",
     "text": [
      "CD_x error at height 72:\n",
      " [-4.54 -2.53 -0.27 -3.32 -0.06 -0.31 -3.33 -0.74 -0.13  0.08 -0.94 -0.57 -2.3   3.9  -2.4 ]\n",
      "CD_y error at height 72:\n",
      " [-4.91  2.42 -0.38 -4.27 -1.7   0.15  0.36 -4.62 -3.21  1.7  -0.19 -4.9   0.27 -3.57 -1.42]\n",
      "CD_RMSE for label 3: [1.399 1.125]\n",
      "../dataset_train_v1/0084Acid_ini Read in 0.72 s\n",
      "../dataset_train_v1/0084Inhibitor Read in 0.72 s\n",
      "RMSE for label 4: [0.001 0.145]\n",
      "NMSE for label 4: [3.024 0.363]\n",
      "NMSE_height for label 4: [3.174 0.355]\n"
     ]
    },
    {
     "name": "stderr",
     "output_type": "stream",
     "text": [
      "<<<\n",
      "time:\t0.413684s\n",
      "<<<\n"
     ]
    },
    {
     "name": "stdout",
     "output_type": "stream",
     "text": [
      "\n",
      "!Start to clear memory\n"
     ]
    },
    {
     "name": "stderr",
     "output_type": "stream",
     "text": [
      "<<<\n",
      "time:\t0.415286s\n",
      "<<<\n"
     ]
    },
    {
     "name": "stdout",
     "output_type": "stream",
     "text": [
      "\n",
      "!Start to clear memory\n",
      "CD_x error at height 0:\n",
      " [-0.04  0.02  0.04]\n",
      "CD_y error at height 0:\n",
      " [-0.02 -0.03  0.03]\n",
      "CD_x error at height 8:\n",
      " [-0.   -0.13  0.6 ]\n",
      "CD_y error at height 8:\n",
      " [ 0.09  0.03 -0.01]\n",
      "CD_x error at height 16:\n",
      " [ 0.07  0.62 -0.57]\n",
      "CD_y error at height 16:\n",
      " [-0.04 -0.14 -0.01]\n",
      "CD_x error at height 24:\n",
      " [-0.07  0.06 -0.86]\n",
      "CD_y error at height 24:\n",
      " [ 0.1   0.05 -0.01]\n",
      "CD_x error at height 32:\n",
      " [-0.    0.04  3.36]\n",
      "CD_y error at height 32:\n",
      " [ 0.01 -0.01  0.09]\n",
      "CD_x error at height 40:\n",
      " [-0.09  0.39  0.05]\n",
      "CD_y error at height 40:\n",
      " [ 0.07 -0.12  0.01]\n",
      "CD_x error at height 48:\n",
      " [-0.02 -0.02 -0.64]\n",
      "CD_y error at height 48:\n",
      " [ 0.02 -0.    0.08]\n",
      "CD_x error at height 56:\n",
      " [-1.43  0.15  1.34]\n",
      "CD_y error at height 56:\n",
      " [-0.01 -0.03 -0.06]\n",
      "CD_x error at height 64:\n",
      " [-0.39  0.21  0.39]\n",
      "CD_y error at height 64:\n",
      " [1.64 0.57 0.54]\n"
     ]
    },
    {
     "name": "stderr",
     "output_type": "stream",
     "text": [
      "\r",
      " 25%|██▌       | 5/20 [4:26:41<13:03:28, 3133.90s/it]"
     ]
    },
    {
     "name": "stdout",
     "output_type": "stream",
     "text": [
      "CD_x error at height 72:\n",
      " [-1.32 -1.19 -0.37]\n",
      "CD_y error at height 72:\n",
      " [-1.25 -0.67 -0.34]\n",
      "CD_RMSE for label 4: [0.841 0.429]\n",
      "../dataset_train_v1/0085Acid_ini Read in 0.69 s\n",
      "../dataset_train_v1/0085Inhibitor Read in 0.65 s\n",
      "RMSE for label 5: [0.002 0.279]\n",
      "NMSE for label 5: [3.006 0.7  ]\n",
      "NMSE_height for label 5: [3.259 0.689]\n",
      "\n",
      "!Start to clear memory\n"
     ]
    },
    {
     "name": "stderr",
     "output_type": "stream",
     "text": [
      "<<<\n",
      "time:\t0.450549s\n",
      "<<<\n"
     ]
    },
    {
     "name": "stdout",
     "output_type": "stream",
     "text": [
      "\n",
      "!Start to clear memory\n"
     ]
    },
    {
     "name": "stderr",
     "output_type": "stream",
     "text": [
      "<<<\n",
      "time:\t0.431166s\n",
      "<<<\n"
     ]
    },
    {
     "name": "stdout",
     "output_type": "stream",
     "text": [
      "CD_x error at height 0:\n",
      " [-0.03  0.02 -0.06 -0.03  2.81 -0.19 -0.03  0.2  -0.12 -0.96]\n",
      "CD_y error at height 0:\n",
      " [ 0.02 -0.03  0.09  0.05 -0.    0.02  0.01 -0.02 -0.01  0.02]\n",
      "CD_x error at height 8:\n",
      " [ 0.45  0.15  0.05 -0.08 -0.04  0.05 -0.11 -0.14 -0.03 -0.91]\n",
      "CD_y error at height 8:\n",
      " [ 0.28 -0.07  0.03  0.03 -0.1   0.02  0.01 -0.02  0.02 -0.06]\n",
      "CD_x error at height 16:\n",
      " [ 0.08 -0.03  0.01  0.07  0.02  0.11 -0.13 -0.13  0.43  0.82]\n",
      "CD_y error at height 16:\n",
      " [ 0.02 -0.   -0.01  0.36 -0.06  0.01  0.03  0.12 -0.12  0.01]\n",
      "CD_x error at height 24:\n",
      " [ 0.01 -0.03  0.18  0.03  2.67  0.14  0.02 -0.71 -0.57  0.19]\n",
      "CD_y error at height 24:\n",
      " [ 0.01  0.02 -0.09 -0.   -0.    0.06  0.    0.03  0.03  0.  ]\n",
      "CD_x error at height 32:\n",
      " [ 0.69 -1.49 -2.95 -0.76  0.15 -1.72 -0.07 -0.3  -2.95 -0.48]\n",
      "CD_y error at height 32:\n",
      " [-0.   -0.03  0.18 -0.   -0.27 -0.39  0.07  0.04 -0.04 -0.01]\n",
      "CD_x error at height 40:\n",
      " [ 0.03 -0.17 -0.78  1.21  4.67 -0.13 -4.05  0.34 -0.06  2.04]\n",
      "CD_y error at height 40:\n",
      " [ 0.02  0.01 -0.05  0.29 -0.17  0.38  0.03 -0.03 -0.08  0.01]\n",
      "CD_x error at height 48:\n",
      " [-1.54 -0.25  0.5  -0.07  0.03 -0.   -0.32 -1.07 -0.12  0.66]\n",
      "CD_y error at height 48:\n",
      " [ 0.02  0.11 -0.01  0.14 -0.01 -0.24  0.06  0.13 -0.04 -0.06]\n",
      "CD_x error at height 56:\n",
      " [-1.1  -1.02  0.03 -0.   -0.18 -0.95 -2.58 -0.04  0.04 -0.23]\n",
      "CD_y error at height 56:\n",
      " [ 0.05  0.03 -0.03 -0.   -0.41 -0.12  0.26  0.    0.31 -0.56]\n",
      "CD_x error at height 64:\n",
      " [ 0.13 -0.21  1.52  0.22  0.46  0.11 -0.92  0.18  0.45  1.92]\n",
      "CD_y error at height 64:\n",
      " [ 0.45 -0.88  0.09  0.61  0.39 -0.07  1.71  0.03  0.29 -0.11]\n"
     ]
    },
    {
     "name": "stderr",
     "output_type": "stream",
     "text": [
      "\r",
      " 30%|███       | 6/20 [5:17:12<12:03:08, 3099.15s/it]"
     ]
    },
    {
     "name": "stdout",
     "output_type": "stream",
     "text": [
      "CD_x error at height 72:\n",
      " [-0.84 -2.53 -2.08 -0.55 -0.83 -2.24 -0.58 -0.57 -2.03 -1.11]\n",
      "CD_y error at height 72:\n",
      " [-1.29 -3.36 -1.83 -1.61 -2.74 -0.74 -1.32 -1.45 -2.02 -3.04]\n",
      "CD_RMSE for label 5: [1.152 0.709]\n",
      "../dataset_train_v1/0086Acid_ini Read in 0.72 s\n",
      "../dataset_train_v1/0086Inhibitor Read in 0.73 s\n",
      "RMSE for label 6: [0.002 0.19 ]\n",
      "NMSE for label 6: [5.024 0.476]\n",
      "NMSE_height for label 6: [5.1  0.46]\n"
     ]
    },
    {
     "name": "stderr",
     "output_type": "stream",
     "text": [
      "<<<\n",
      "time:\t0.399185s\n",
      "<<<\n"
     ]
    },
    {
     "name": "stdout",
     "output_type": "stream",
     "text": [
      "\n",
      "!Start to clear memory\n"
     ]
    },
    {
     "name": "stderr",
     "output_type": "stream",
     "text": [
      "<<<\n",
      "time:\t0.390682s\n",
      "<<<\n"
     ]
    },
    {
     "name": "stdout",
     "output_type": "stream",
     "text": [
      "\n",
      "!Start to clear memory\n",
      "CD_x error at height 0:\n",
      " [-0.02 -0.57 -0.21]\n",
      "CD_y error at height 0:\n",
      " [-2.8   0.04  0.2 ]\n",
      "CD_x error at height 8:\n",
      " [-0.11  0.17  0.95]\n",
      "CD_y error at height 8:\n",
      " [-0.17  0.01 -0.01]\n",
      "CD_x error at height 16:\n",
      " [ 0.01 -2.66  1.01]\n",
      "CD_y error at height 16:\n",
      " [0.58 0.02 0.39]\n",
      "CD_x error at height 24:\n",
      " [-0.12  0.04  0.98]\n",
      "CD_y error at height 24:\n",
      " [ 3.28 -0.18  0.25]\n",
      "CD_x error at height 32:\n",
      " [-0.02 -0.04  3.08]\n",
      "CD_y error at height 32:\n",
      " [ 5.29  0.01 -0.04]\n",
      "CD_x error at height 40:\n",
      " [-0.   -0.96  2.97]\n",
      "CD_y error at height 40:\n",
      " [ 1.29  0.05 -0.05]\n",
      "CD_x error at height 48:\n",
      " [-1.41  0.93  1.68]\n",
      "CD_y error at height 48:\n",
      " [ 5.54 -0.05 -0.02]\n",
      "CD_x error at height 56:\n",
      " [-0.54 -0.23  3.54]\n",
      "CD_y error at height 56:\n",
      " [ 4.35 -0.    0.15]\n",
      "CD_x error at height 64:\n",
      " [ 1.44 -0.02  1.91]\n",
      "CD_y error at height 64:\n",
      " [5.65 1.81 0.62]\n"
     ]
    },
    {
     "name": "stderr",
     "output_type": "stream",
     "text": [
      "\r",
      " 35%|███▌      | 7/20 [6:09:11<11:12:50, 3105.46s/it]"
     ]
    },
    {
     "name": "stdout",
     "output_type": "stream",
     "text": [
      "CD_x error at height 72:\n",
      " [-0.47 -1.25]\n",
      "CD_y error at height 72:\n",
      " [-0.88 -0.06]\n",
      "CD_RMSE for label 6: [1.386 2.157]\n",
      "../dataset_train_v1/0087Acid_ini Read in 0.73 s\n",
      "../dataset_train_v1/0087Inhibitor Read in 0.73 s\n",
      "RMSE for label 7: [0.001 0.183]\n",
      "NMSE for label 7: [3.8   0.458]\n",
      "NMSE_height for label 7: [4.003 0.452]\n"
     ]
    },
    {
     "name": "stderr",
     "output_type": "stream",
     "text": [
      "<<<\n",
      "time:\t0.397383s\n",
      "<<<\n"
     ]
    },
    {
     "name": "stdout",
     "output_type": "stream",
     "text": [
      "\n",
      "!Start to clear memory\n"
     ]
    },
    {
     "name": "stderr",
     "output_type": "stream",
     "text": [
      "<<<\n",
      "time:\t0.41363s\n",
      "<<<\n"
     ]
    },
    {
     "name": "stdout",
     "output_type": "stream",
     "text": [
      "\n",
      "!Start to clear memory\n",
      "CD_x error at height 0:\n",
      " [-0.16  0.14  0.25]\n",
      "CD_y error at height 0:\n",
      " [-0.    0.05  0.14]\n",
      "CD_x error at height 8:\n",
      " [-0.08  0.08  0.  ]\n",
      "CD_y error at height 8:\n",
      " [ 0.07  0.02 -0.03]\n",
      "CD_x error at height 16:\n",
      " [-0.03 -0.18 -0.51]\n",
      "CD_y error at height 16:\n",
      " [ 0.11  0.04 -0.05]\n",
      "CD_x error at height 24:\n",
      " [ 0.01 -0.34  0.07]\n",
      "CD_y error at height 24:\n",
      " [-0.05 -0.05  0.04]\n",
      "CD_x error at height 32:\n",
      " [-0.27 -1.66 -0.15]\n",
      "CD_y error at height 32:\n",
      " [-0.03  0.    0.13]\n",
      "CD_x error at height 40:\n",
      " [-0.    0.73 -0.99]\n",
      "CD_y error at height 40:\n",
      " [ 0.06 -0.02 -0.03]\n",
      "CD_x error at height 48:\n",
      " [ 0.4  -0.09  1.05]\n",
      "CD_y error at height 48:\n",
      " [-0.06  0.01  0.25]\n",
      "CD_x error at height 56:\n",
      " [-0.88 -2.05  2.82]\n",
      "CD_y error at height 56:\n",
      " [-0.05 -0.19  2.04]\n",
      "CD_x error at height 64:\n",
      " [ 1.76 -0.75  0.61]\n",
      "CD_y error at height 64:\n",
      " [-1.19 -0.06  2.62]\n"
     ]
    },
    {
     "name": "stderr",
     "output_type": "stream",
     "text": [
      "\r",
      " 40%|████      | 8/20 [7:00:45<10:20:22, 3101.91s/it]"
     ]
    },
    {
     "name": "stdout",
     "output_type": "stream",
     "text": [
      "CD_x error at height 72:\n",
      " [-0.98 -3.78  2.61]\n",
      "CD_y error at height 72:\n",
      " [-0.37 -2.41  1.8 ]\n",
      "CD_RMSE for label 7: [1.227 0.853]\n",
      "../dataset_train_v1/0088Acid_ini Read in 0.71 s\n",
      "../dataset_train_v1/0088Inhibitor Read in 0.72 s\n",
      "RMSE for label 8: [0.002 0.219]\n",
      "NMSE for label 8: [3.047 0.548]\n",
      "NMSE_height for label 8: [3.218 0.544]\n"
     ]
    },
    {
     "name": "stderr",
     "output_type": "stream",
     "text": [
      "<<<\n",
      "time:\t0.411251s\n",
      "<<<\n"
     ]
    },
    {
     "name": "stdout",
     "output_type": "stream",
     "text": [
      "\n",
      "!Start to clear memory\n",
      "\n",
      "!Start to clear memory\n"
     ]
    },
    {
     "name": "stderr",
     "output_type": "stream",
     "text": [
      "<<<\n",
      "time:\t0.420428s\n",
      "<<<\n"
     ]
    },
    {
     "name": "stdout",
     "output_type": "stream",
     "text": [
      "CD_x error at height 0:\n",
      " [ 0.51  0.   -0.03 -0.2   0.04 -2.89]\n",
      "CD_y error at height 0:\n",
      " [ 0.06 -0.02  0.04 -0.   -0.09 -0.01]\n",
      "CD_x error at height 8:\n",
      " [ 0.12 -0.01  0.62 -0.21 -0.1  -0.57]\n",
      "CD_y error at height 8:\n",
      " [ 0.07  0.21  0.01  0.02  0.14 -0.05]\n",
      "CD_x error at height 16:\n",
      " [ 0.16  0.06  0.85 -0.31  0.01  0.01]\n",
      "CD_y error at height 16:\n",
      " [-0.02  0.01 -0.05  0.06 -0.23 -0.  ]\n",
      "CD_x error at height 24:\n",
      " [ 0.06 -0.74  0.14  0.05 -0.01  0.15]\n",
      "CD_y error at height 24:\n",
      " [-0.03 -0.01 -0.03 -0.07 -0.05 -0.09]\n",
      "CD_x error at height 32:\n",
      " [ 0.18  0.47  3.62 -0.44 -0.06  3.06]\n",
      "CD_y error at height 32:\n",
      " [-0.05  0.01 -0.02 -0.05  0.1   0.17]\n",
      "CD_x error at height 40:\n",
      " [-0.44  0.07 -0.66 -0.45  0.85 -0.06]\n",
      "CD_y error at height 40:\n",
      " [-0.02  0.14  0.02 -0.03  0.02  0.03]\n",
      "CD_x error at height 48:\n",
      " [-0.35 -0.04  3.74 -0.44  0.79  0.25]\n",
      "CD_y error at height 48:\n",
      " [ 0.08  0.   -0.01 -0.03  0.03 -0.08]\n",
      "CD_x error at height 56:\n",
      " [-1.67 -0.27  1.21 -0.15 -0.03 -0.09]\n",
      "CD_y error at height 56:\n",
      " [ 0.43 -0.    0.11 -0.07  0.   -0.12]\n",
      "CD_x error at height 64:\n",
      " [ 1.91  1.2  -0.04  0.44  0.01  0.99]\n",
      "CD_y error at height 64:\n",
      " [ 2.06 -0.09  0.23  1.08  0.15  0.33]\n"
     ]
    },
    {
     "name": "stderr",
     "output_type": "stream",
     "text": [
      "\r",
      " 45%|████▌     | 9/20 [7:52:17<9:28:05, 3098.66s/it] "
     ]
    },
    {
     "name": "stdout",
     "output_type": "stream",
     "text": [
      "CD_x error at height 72:\n",
      " [-0.19 -0.36 -3.04 -1.13 -1.57  0.76]\n",
      "CD_y error at height 72:\n",
      " [-0.38 -2.56 -0.92  1.52 -1.2  -0.67]\n",
      "CD_RMSE for label 8: [1.116 0.545]\n",
      "../dataset_train_v1/0089Acid_ini Read in 0.69 s\n",
      "../dataset_train_v1/0089Inhibitor Read in 0.69 s\n",
      "RMSE for label 9: [0.002 0.304]\n",
      "NMSE for label 9: [3.99  0.761]\n",
      "NMSE_height for label 9: [4.203 0.751]\n",
      "\n",
      "!Start to clear memory\n"
     ]
    },
    {
     "name": "stderr",
     "output_type": "stream",
     "text": [
      "<<<\n",
      "time:\t0.430236s\n",
      "<<<\n",
      "<<<\n",
      "time:\t0.46953s\n",
      "<<<\n"
     ]
    },
    {
     "name": "stdout",
     "output_type": "stream",
     "text": [
      "\n",
      "!Start to clear memory\n",
      "CD_x error at height 0:\n",
      " [ 0.83 -0.12 -0.02 -0.6  -0.37 -0.64 -0.1 ]\n",
      "CD_y error at height 0:\n",
      " [-0.15  0.26  0.1  -0.07  0.09 -0.01  0.07]\n",
      "CD_x error at height 8:\n",
      " [ 0.91 -0.02  0.11 -0.05  1.07  0.23 -0.77]\n",
      "CD_y error at height 8:\n",
      " [-0.22  0.44 -0.14 -0.21 -0.05  0.07  0.04]\n",
      "CD_x error at height 16:\n",
      " [ 0.83 -0.11  0.06 -0.2  -0.07 -0.05 -0.69]\n",
      "CD_y error at height 16:\n",
      " [-0.   -0.05  0.04  0.04 -0.02 -0.04 -0.01]\n",
      "CD_x error at height 24:\n",
      " [ 0.11 -0.04 -0.73 -0.19  0.29 -0.88  0.22]\n",
      "CD_y error at height 24:\n",
      " [ 0.02 -0.31  0.05 -0.01 -0.08  0.    0.02]\n",
      "CD_x error at height 32:\n",
      " [ 0.4  -0.   -3.67  0.08  0.    0.36 -2.47]\n",
      "CD_y error at height 32:\n",
      " [-0.01  0.01 -0.06  0.07  0.08  0.24 -0.  ]\n",
      "CD_x error at height 40:\n",
      " [ 0.08 -0.15 -1.55  2.23 -3.31 -0.45 -0.56]\n",
      "CD_y error at height 40:\n",
      " [ 0.08 -0.02 -0.17  0.03  0.02  0.05 -0.09]\n",
      "CD_x error at height 48:\n",
      " [ 3.06  0.84 -0.98  0.58  0.76 -1.73 -0.71]\n",
      "CD_y error at height 48:\n",
      " [-0.04 -0.48  0.12 -0.08  0.02 -0.    0.1 ]\n",
      "CD_x error at height 56:\n",
      " [-0.02  0.01 -2.94  0.6   0.81 -2.37 -2.59]\n",
      "CD_y error at height 56:\n",
      " [-0.02 -0.09  0.33  0.75  0.57  0.41  0.36]\n",
      "CD_x error at height 64:\n",
      " [ 0.67  0.04  0.63  2.3  -0.53 -0.13  0.04]\n",
      "CD_y error at height 64:\n",
      " [-0.14  0.5   0.72  2.66  1.98  0.38  0.41]\n"
     ]
    },
    {
     "name": "stderr",
     "output_type": "stream",
     "text": [
      "\r",
      " 50%|█████     | 10/20 [8:44:19<8:37:38, 3105.81s/it]"
     ]
    },
    {
     "name": "stdout",
     "output_type": "stream",
     "text": [
      "CD_x error at height 72:\n",
      " [ 0.42 -1.79 -0.79 -2.43  0.54 -1.52 -1.27]\n",
      "CD_y error at height 72:\n",
      " [-3.39 -0.53 -2.25  1.73 -0.1   0.16 -1.51]\n",
      "CD_RMSE for label 9: [1.217 0.722]\n",
      "../dataset_train_v1/0090Acid_ini Read in 0.72 s\n",
      "../dataset_train_v1/0090Inhibitor Read in 0.72 s\n",
      "RMSE for label 10: [0.003 0.399]\n",
      "NMSE for label 10: [5.342 1.   ]\n",
      "NMSE_height for label 10: [5.71  0.992]\n"
     ]
    },
    {
     "name": "stderr",
     "output_type": "stream",
     "text": [
      "<<<\n",
      "time:\t0.430246s\n",
      "<<<\n"
     ]
    },
    {
     "name": "stdout",
     "output_type": "stream",
     "text": [
      "\n",
      "!Start to clear memory\n"
     ]
    },
    {
     "name": "stderr",
     "output_type": "stream",
     "text": [
      "<<<\n",
      "time:\t0.42069s\n",
      "<<<\n"
     ]
    },
    {
     "name": "stdout",
     "output_type": "stream",
     "text": [
      "\n",
      "!Start to clear memory\n",
      "CD_x error at height 0:\n",
      " [ 1.01  0.24  0.7  -0.04  0.29  0.05 -0.07  3.07]\n",
      "CD_y error at height 0:\n",
      " [-0.01 -0.08  0.07  0.05 -0.07  0.02  0.11  0.13]\n",
      "CD_x error at height 8:\n",
      " [ 0.67 -0.5  -0.14  0.33 -0.03  0.08 -0.1  -2.53]\n",
      "CD_y error at height 8:\n",
      " [-0.07 -1.96 -0.06  0.08  0.02  0.03 -0.   -0.01]\n",
      "CD_x error at height 16:\n",
      " [-3.01 -2.96  0.06  0.04 -0.07  0.09 -0.51  2.27]\n",
      "CD_y error at height 16:\n",
      " [ 0.22  0.13  0.3   0.04  0.02 -0.01  0.04  0.14]\n",
      "CD_x error at height 24:\n",
      " [ 0.26 -2.   -0.21 -0.36 -0.03 -0.03 -0.16 -4.53]\n",
      "CD_y error at height 24:\n",
      " [-0.08 -0.07 -0.11 -0.07 -0.08 -0.07 -0.    0.28]\n",
      "CD_x error at height 32:\n",
      " [-0.05  0.04  2.91  0.15 -0.   -0.05  0.78  0.41]\n",
      "CD_y error at height 32:\n",
      " [-0.    0.15  0.06  0.01 -0.24  0.11 -0.2  -0.04]\n",
      "CD_x error at height 40:\n",
      " [-0.57  1.45 -4.22 -2.29 -0.02 -0.27 -0.75  0.05]\n",
      "CD_y error at height 40:\n",
      " [ 0.01 -0.04  0.03 -0.04  0.01  0.12 -0.96  0.04]\n",
      "CD_x error at height 48:\n",
      " [-2.47 -2.92 -2.41  0.13  1.99  0.15 -2.54  3.89]\n",
      "CD_y error at height 48:\n",
      " [ 0.02  0.8  -0.03 -0.11  0.1   0.29 -2.3  -0.05]\n",
      "CD_x error at height 56:\n",
      " [-1.11 -0.83 -5.39 -1.51  0.87  2.34 -1.15 -1.03]\n",
      "CD_y error at height 56:\n",
      " [ 0.42  1.43  0.02 -0.1  -0.03 -0.95 -1.05 -1.94]\n",
      "CD_x error at height 64:\n",
      " [-2.06 -2.14 -1.77 -0.05 -0.11 -0.48 -1.39  0.26]\n",
      "CD_y error at height 64:\n",
      " [ 0.04 -1.32 -0.14  0.07  1.2  -1.05 -1.28 -2.92]\n"
     ]
    },
    {
     "name": "stderr",
     "output_type": "stream",
     "text": [
      "\r",
      " 55%|█████▌    | 11/20 [9:35:07<7:43:14, 3088.28s/it]"
     ]
    },
    {
     "name": "stdout",
     "output_type": "stream",
     "text": [
      "CD_x error at height 72:\n",
      " [-1.91 -3.04 -7.55 -2.45 -1.97 -0.76 -3.18 -2.5 ]\n",
      "CD_y error at height 72:\n",
      " [-2.16 -2.17 -2.12 -2.65 -0.75 -3.96 -7.   -4.06]\n",
      "CD_RMSE for label 10: [1.938 1.306]\n",
      "../dataset_train_v1/0091Acid_ini Read in 0.71 s\n",
      "../dataset_train_v1/0091Inhibitor Read in 0.72 s\n",
      "RMSE for label 11: [0.003 0.401]\n",
      "NMSE for label 11: [4.158 1.006]\n",
      "NMSE_height for label 11: [4.322 0.994]\n",
      "\n",
      "!Start to clear memory\n"
     ]
    },
    {
     "name": "stderr",
     "output_type": "stream",
     "text": [
      "<<<\n",
      "time:\t0.434264s\n",
      "<<<\n"
     ]
    },
    {
     "name": "stdout",
     "output_type": "stream",
     "text": [
      "\n",
      "!Start to clear memory\n"
     ]
    },
    {
     "name": "stderr",
     "output_type": "stream",
     "text": [
      "<<<\n",
      "time:\t0.428783s\n",
      "<<<\n"
     ]
    },
    {
     "name": "stdout",
     "output_type": "stream",
     "text": [
      "CD_x error at height 0:\n",
      " [ 0.06 -0.26 -0.04  0.07 -0.13 -0.04 -0.02  0.03 -0.02 -0.03  0.12]\n",
      "CD_y error at height 0:\n",
      " [-0.03 -0.13  0.02  0.11  0.88 -0.06  0.08  0.42 -0.04 -0.02 -0.18]\n",
      "CD_x error at height 24:\n",
      " [-0.54  1.76  0.33  0.05 -0.07 -0.23  2.21 -2.56 -0.    0.04  0.01]\n",
      "CD_y error at height 24:\n",
      " [-0.   -0.   -0.03  0.07 -0.01  0.01  0.22  0.1   0.32 -0.11  0.02]\n",
      "CD_x error at height 32:\n",
      " [ 3.16 -0.16 -0.03  0.01 -0.    0.05 -1.66  0.48  0.02  0.81  1.  ]\n",
      "CD_y error at height 32:\n",
      " [-0.01 -0.09 -0.01  0.01 -0.15  0.05  0.06  0.28 -0.03 -0.09 -0.01]\n",
      "CD_x error at height 40:\n",
      " [ 1.1   0.68  0.91 -0.46  0.12  1.49  0.59  3.54 -2.33 -0.78  0.25]\n",
      "CD_y error at height 40:\n",
      " [ 0.01  0.01  0.03 -0.01  0.2   0.43  0.05 -0.24  0.1  -0.21 -0.02]\n",
      "CD_x error at height 48:\n",
      " [-0.03 -2.7   0.48 -1.49 -0.01 -0.03 -0.38  0.91 -0.06 -1.28 -3.22]\n",
      "CD_y error at height 48:\n",
      " [-0.21  1.   -0.01  0.01  0.15 -0.08 -0.03  0.01 -0.07 -0.01  0.25]\n",
      "CD_x error at height 56:\n",
      " [-0.   -0.95  0.14  1.79 -0.22 -0.58  0.4   0.1   0.02 -0.52  1.92]\n",
      "CD_y error at height 56:\n",
      " [-0.07  0.92  0.26 -0.11 -0.16  0.68 -0.04 -0.08  2.33 -0.7   0.11]\n",
      "CD_x error at height 64:\n",
      " [ 0.26  0.11  0.07  0.08 -0.42 -0.14  2.23  0.29 -0.34 -0.05 -1.42]\n",
      "CD_y error at height 64:\n",
      " [ 0.32  0.47 -1.5   0.89  0.12  0.69  0.84 -1.69  0.62  0.07 -1.21]\n"
     ]
    },
    {
     "name": "stderr",
     "output_type": "stream",
     "text": [
      "\r",
      " 60%|██████    | 12/20 [10:25:54<6:50:06, 3075.76s/it]"
     ]
    },
    {
     "name": "stdout",
     "output_type": "stream",
     "text": [
      "CD_x error at height 72:\n",
      " [ 0.78 -2.39 -0.34 -0.73 -3.34 -1.35 -1.33 -1.66 -2.94 -2.43 -2.17]\n",
      "CD_y error at height 72:\n",
      " [-1.76 -3.66 -3.76 -0.84 -0.59 -2.1  -1.86 -1.5   0.4  -2.69 -5.03]\n",
      "CD_RMSE for label 11: [1.12  0.927]\n",
      "../dataset_train_v1/0092Acid_ini Read in 0.73 s\n",
      "../dataset_train_v1/0092Inhibitor Read in 0.73 s\n",
      "RMSE for label 12: [0.002 0.246]\n",
      "NMSE for label 12: [4.288 0.616]\n",
      "NMSE_height for label 12: [4.492 0.601]\n",
      "\n",
      "!Start to clear memory\n"
     ]
    },
    {
     "name": "stderr",
     "output_type": "stream",
     "text": [
      "<<<\n",
      "time:\t0.40028s\n",
      "<<<\n",
      "<<<\n",
      "time:\t0.405003s\n",
      "<<<\n"
     ]
    },
    {
     "name": "stdout",
     "output_type": "stream",
     "text": [
      "\n",
      "!Start to clear memory\n",
      "CD_x error at height 0:\n",
      " [ 0.17  0.11  0.05 -0.07 -1.23]\n",
      "CD_y error at height 0:\n",
      " [-0.08  0.38 -0.09 -0.16  0.02]\n",
      "CD_x error at height 8:\n",
      " [-0.03 -0.21  0.07 -0.03 -1.09]\n",
      "CD_y error at height 8:\n",
      " [ 0.01 -0.04 -0.   -0.38  0.01]\n",
      "CD_x error at height 16:\n",
      " [-0.2  -0.29  0.61  0.09 -0.66]\n",
      "CD_y error at height 16:\n",
      " [ 0.02  0.14 -0.02  0.12  0.03]\n",
      "CD_x error at height 24:\n",
      " [-0.6  -0.2   0.57 -0.1   1.12]\n",
      "CD_y error at height 24:\n",
      " [-0.01 -0.08 -0.22 -0.04  0.02]\n",
      "CD_x error at height 32:\n",
      " [-0.09 -0.04 -1.29  1.01  0.3 ]\n",
      "CD_y error at height 32:\n",
      " [-0.09 -0.   -0.   -0.06  0.02]\n",
      "CD_x error at height 40:\n",
      " [ 2.55 -0.07  0.05  0.71  0.73]\n",
      "CD_y error at height 40:\n",
      " [ 0.11  0.05  0.07  0.05 -0.02]\n",
      "CD_x error at height 48:\n",
      " [ 1.27 -0.37 -0.41 -0.51  0.5 ]\n",
      "CD_y error at height 48:\n",
      " [-0.01 -0.06 -0.04  0.04  2.81]\n",
      "CD_x error at height 56:\n",
      " [ 2.68 -0.09 -0.67  0.55 -0.08]\n",
      "CD_y error at height 56:\n",
      " [0.58 0.35 0.11 0.64 0.46]\n",
      "CD_x error at height 64:\n",
      " [ 2.82  0.58 -0.59  1.86  1.07]\n",
      "CD_y error at height 64:\n",
      " [ 0.1   0.23 -0.1   0.53  1.32]\n"
     ]
    },
    {
     "name": "stderr",
     "output_type": "stream",
     "text": [
      "\r",
      " 65%|██████▌   | 13/20 [11:15:52<5:56:04, 3052.09s/it]"
     ]
    },
    {
     "name": "stdout",
     "output_type": "stream",
     "text": [
      "CD_x error at height 72:\n",
      " [ 2.29 -0.36 -2.63 -0.07 -2.17]\n",
      "CD_y error at height 72:\n",
      " [-2.78  0.77 -2.97 -0.49  3.02]\n",
      "CD_RMSE for label 12: [1.065 0.872]\n",
      "../dataset_train_v1/0093Acid_ini Read in 0.77 s\n",
      "../dataset_train_v1/0093Inhibitor Read in 0.72 s\n",
      "RMSE for label 13: [0.002 0.332]\n",
      "NMSE for label 13: [3.439 0.833]\n",
      "NMSE_height for label 13: [3.641 0.824]\n",
      "\n",
      "!Start to clear memory\n"
     ]
    },
    {
     "name": "stderr",
     "output_type": "stream",
     "text": [
      "<<<\n",
      "time:\t0.401334s\n",
      "<<<\n"
     ]
    },
    {
     "name": "stdout",
     "output_type": "stream",
     "text": [
      "\n",
      "!Start to clear memory\n"
     ]
    },
    {
     "name": "stderr",
     "output_type": "stream",
     "text": [
      "<<<\n",
      "time:\t0.403136s\n",
      "<<<\n"
     ]
    },
    {
     "name": "stdout",
     "output_type": "stream",
     "text": [
      "CD_x error at height 0:\n",
      " [ 0.24  0.05  0.66 -0.04 -0.13 -0.26  0.2   0.03 -0.02  0.24  0.2 ]\n",
      "CD_y error at height 0:\n",
      " [-0.05 -0.04  0.31 -0.03 -0.16  0.01  0.39  0.4   0.05  0.01  0.04]\n",
      "CD_x error at height 8:\n",
      " [-0.   -0.    0.05 -0.06 -0.62 -0.19  0.62 -0.01  0.25  0.06 -0.26]\n",
      "CD_y error at height 8:\n",
      " [ 0.03 -0.09 -0.1  -0.44 -0.1  -0.1   0.02  0.02 -0.17  0.09 -0.02]\n",
      "CD_x error at height 16:\n",
      " [-0.01 -0.05 -0.59  0.76 -0.32  0.2  -0.33  0.43 -0.01 -0.16  0.83]\n",
      "CD_y error at height 16:\n",
      " [-0.04  0.01  0.    0.02  0.01 -0.11 -0.12  0.02  0.04  0.01  0.08]\n",
      "CD_x error at height 24:\n",
      " [-0.   -0.09 -1.1   3.6  -0.04  0.31 -0.11 -0.02 -0.02 -0.05 -0.52]\n",
      "CD_y error at height 24:\n",
      " [-0.03  0.01 -0.   -0.02  0.04  0.09 -0.1   0.03  0.03 -0.12  0.06]\n",
      "CD_x error at height 32:\n",
      " [ 0.14 -0.19  0.92  0.12 -0.1  -2.09  2.28 -0.09  0.63 -0.56  0.08]\n",
      "CD_y error at height 32:\n",
      " [ 0.02 -0.03  0.15  0.01 -0.14 -0.    0.23  0.01 -0.06  0.18  0.13]\n",
      "CD_x error at height 40:\n",
      " [ 0.3  -0.31  0.09  0.57  0.83  2.83 -0.51 -0.23  0.01  0.83  0.18]\n",
      "CD_y error at height 40:\n",
      " [-0.16 -0.05 -0.15  0.08  0.02  0.03  0.11  0.06 -0.08  0.2   0.03]\n",
      "CD_x error at height 48:\n",
      " [ 0.03  0.03  0.03  0.28  0.1  -0.06 -0.15  0.96  0.45  0.42  2.67]\n",
      "CD_y error at height 48:\n",
      " [-0.12 -0.01  0.58  0.02  0.04 -0.06 -0.09  0.12  0.01 -0.24 -0.07]\n",
      "CD_x error at height 56:\n",
      " [ 0.02 -0.01  0.01 -0.03 -0.03 -0.06 -0.01 -0.83  0.75  0.37 -0.89]\n",
      "CD_y error at height 56:\n",
      " [ 0.92  0.81 -0.08  0.03  0.05  0.02  0.03 -0.04  0.22  0.01  0.07]\n",
      "CD_x error at height 64:\n",
      " [-0.62 -0.05  0.43 -0.57  2.58  0.54  0.21 -0.71  0.02 -4.36  0.15]\n",
      "CD_y error at height 64:\n",
      " [ 1.04  0.1   1.46  0.13  1.02 -0.53 -0.62 -0.26 -0.45  0.97  0.4 ]\n"
     ]
    },
    {
     "name": "stderr",
     "output_type": "stream",
     "text": [
      "\r",
      " 70%|███████   | 14/20 [12:06:49<5:05:21, 3053.59s/it]"
     ]
    },
    {
     "name": "stdout",
     "output_type": "stream",
     "text": [
      "CD_x error at height 72:\n",
      " [-2.62 -0.47 -0.47 -1.98  0.66 -1.03 -0.82 -2.05 -0.23 -1.26 -4.69]\n",
      "CD_y error at height 72:\n",
      " [-0.64  0.95 -1.37 -2.65 -0.08 -2.86 -4.29 -1.75 -1.27 -3.1  -1.15]\n",
      "CD_RMSE for label 13: [1.041 0.75 ]\n",
      "../dataset_train_v1/0094Acid_ini Read in 0.76 s\n",
      "../dataset_train_v1/0094Inhibitor Read in 0.71 s\n",
      "RMSE for label 14: [0.011 0.883]\n",
      "NMSE for label 14: [13.557  2.219]\n",
      "NMSE_height for label 14: [12.619  2.091]\n",
      "\n",
      "!Start to clear memory\n"
     ]
    },
    {
     "name": "stderr",
     "output_type": "stream",
     "text": [
      "<<<\n",
      "time:\t0.435132s\n",
      "<<<\n",
      "<<<\n",
      "time:\t0.419204s\n",
      "<<<\n"
     ]
    },
    {
     "name": "stdout",
     "output_type": "stream",
     "text": [
      "\n",
      "!Start to clear memory\n",
      "CD_x error at height 0:\n",
      " [ 0.56 -0.66 -0.08  0.81 -0.02 -0.09  0.08 -0.09  0.06  0.05  0.09 -0.63 -0.1  -0.03  0.15  0.37]\n",
      "Contact 12 in 0-CD_y_label is redundant, with info [596.84  916.538   1.22 ]\n",
      "Contact 13 in 0-CD_y_label is redundant, with info [638.841 920.438   1.23 ]\n",
      "CD_y error at height 0:\n",
      " [ 0.04 -0.02 -0.15 -0.35 -0.18 -0.23 -0.12  0.05  0.08 -0.14 -0.26  0.07 -1.22 -1.23 -5.55  0.04\n",
      " -0.26 -0.    0.04]\n",
      "CD_x error at height 8:\n",
      " [  0.16   0.47  -0.26  -0.38   0.01  -0.     0.17  -0.17   0.12   0.1   -0.04  -0.11   0.18  -0.04\n",
      "  -0.03 -17.36]\n",
      "CD_y error at height 8:\n",
      " [-0.43 -0.02 -0.17 -0.09 -0.17  0.21  0.09  0.15 -0.01 -0.11  0.03 -0.   -0.03 -0.01  0.09 -0.01]\n",
      "CD_x error at height 16:\n",
      " [ -0.09  -0.1   -1.06  -0.31   0.2   -2.1   -0.05   0.13   0.05  -0.12  -0.07   0.05   0.01  -0.04\n",
      "  -0.49 -21.12]\n",
      "Contact 12 in 16-CD_y_label is redundant, with info [610.84  920.438   1.34 ]\n",
      "Contact 13 in 16-CD_y_label is redundant, with info [620.191 920.398   1.39 ]\n",
      "Contact 14 in 16-CD_y_label is redundant, with info [652.641 916.438   1.24 ]\n",
      "Contact 15 in 16-CD_y_label is redundant, with info [659.241 907.128   6.84 ]\n",
      "CD_y error at height 16:\n",
      " [ 0.06 -0.06  0.13 -0.04 -0.02 -0.02  0.   -0.09 -0.09 -0.18 -0.1   0.1  -1.34 -1.39 -1.24 -6.84\n",
      " -0.11 -0.38  0.08 -0.1 ]\n",
      "CD_x error at height 24:\n",
      " [  0.17   -0.96   -1.12    0.04    0.84    0.03    0.07   -0.06    0.96    0.03   -0.06    0.03\n",
      "  -0.26   -0.07    0.02  -28.021]\n",
      "Contact 12 in 24-CD_y_label is redundant, with info [629.291 916.428   1.27 ]\n",
      "Contact 13 in 24-CD_y_label is redundant, with info [653.791 906.638   4.52 ]\n",
      "CD_y error at height 24:\n",
      " [  0.39   0.32  -0.04  -0.24   0.05  -0.96   0.27  -0.01   0.05  -0.02   0.02 -13.72  -1.27  -4.52\n",
      "   0.01  -0.02  -0.1   -0.07]\n",
      "Contact 15 in 32-CD_x_label is redundant, with info [605.87  905.898  36.611]\n",
      "CD_x error at height 32:\n",
      " [  0.04   -2.31   -2.26   -0.     -0.09   -0.42   -1.58   -0.52    0.02   -0.11    0.06   -1.07\n",
      "  -0.05    0.03   -2.17  -36.611]\n",
      "CD_y error at height 32:\n",
      " [ -0.06    0.01    0.01   -0.07    0.19    0.      0.11   -0.01    0.      0.01    0.01  -25.791\n",
      "  -0.11    0.12   -0.     -0.01 ]\n",
      "Contact 16 in 40-CD_x_label is redundant, with info [615.43  901.048   8.53 ]\n",
      "CD_x error at height 40:\n",
      " [  0.28   -0.08   -0.96   -0.8     0.04    0.11    0.01   -0.22    0.4    -0.07   -0.68   -0.69\n",
      "  -0.     -0.31    0.34  -25.191  -8.53 ]\n",
      "CD_y error at height 40:\n",
      " [  0.01   -0.08   -0.09    0.04   -0.05   -0.     -0.02    0.01   -0.13   -0.06   -0.01  -42.181\n",
      "   0.1    -0.08   -0.09   -0.   ]\n",
      "Contact 15 in 48-CD_x_label is redundant, with info [589.88  842.946  21.821]\n",
      "CD_x error at height 48:\n",
      " [ -0.55   -2.32   -0.21   -0.27   -0.16   -4.79   -1.09   -0.01    0.01   -0.08    0.02   -0.21\n",
      "   0.24   -0.5     0.02  -21.821]\n",
      "Contact 11 in 48-CD_y_label is redundant, with info [602.59  829.096  33.301]\n",
      "CD_y error at height 48:\n",
      " [ -0.63   -0.      0.1    -0.      0.01   -0.18   -0.03   -0.12   -0.17   -0.11   -0.1   -33.301\n",
      "  -0.02    0.07    0.04    0.02 ]\n",
      "Contact 15 in 56-CD_x_label is redundant, with info [593.92  842.746  13.79 ]\n",
      "CD_x error at height 56:\n",
      " [ -1.09  -0.64  -2.16  -0.08  -0.07  -1.98  -0.98   0.52  -0.    -0.76   0.69  -0.02  -0.04  -0.38\n",
      "  -0.   -13.79]\n",
      "Contact 11 in 56-CD_y_label is redundant, with info [601.39  833.076  20.741]\n",
      "CD_y error at height 56:\n",
      " [  0.52   -0.45   -1.21   -0.61   -0.01    0.09   -0.03   -0.09   -0.17   -0.08    1.92  -20.741\n",
      "  -0.38   -1.01   -0.3     1.28 ]\n",
      "CD_x error at height 64:\n",
      " [-0.16 -2.34 -2.87 -1.63 -0.32 -0.16 -1.53 -0.02 -1.06 -1.03  1.44 -0.16 -0.11 -0.64 -0.04]\n",
      "CD_y error at height 64:\n",
      " [-0.24 -1.63 -0.78 -0.35 -1.89 -0.13 -0.01 -0.01 -0.47 -0.75  1.53  0.34 -1.05  0.01 -0.19]\n"
     ]
    },
    {
     "name": "stderr",
     "output_type": "stream",
     "text": [
      "\r",
      " 75%|███████▌  | 15/20 [12:57:31<4:14:10, 3050.02s/it]"
     ]
    },
    {
     "name": "stdout",
     "output_type": "stream",
     "text": [
      "CD_x error at height 72:\n",
      " [-1.94 -1.92 -2.48 -1.19 -1.4  -1.36 -5.4  -2.83 -0.83 -1.72 -1.78 -2.13 -2.81 -3.39 -1.26]\n",
      "CD_y error at height 72:\n",
      " [-3.5  -6.05 -4.02 -3.34 -2.9  -2.04 -1.06 -1.84 -2.7  -2.75 -0.66 -2.32 -5.14 -2.66 -2.97]\n",
      "CD_RMSE for label 14: [5.282 5.167]\n",
      "../dataset_train_v1/0095Acid_ini Read in 0.70 s\n",
      "../dataset_train_v1/0095Inhibitor Read in 0.72 s\n",
      "RMSE for label 15: [0.006 0.68 ]\n",
      "NMSE for label 15: [7.108 1.707]\n",
      "NMSE_height for label 15: [7.459 1.701]\n",
      "\n",
      "!Start to clear memory\n"
     ]
    },
    {
     "name": "stderr",
     "output_type": "stream",
     "text": [
      "<<<\n",
      "time:\t0.456394s\n",
      "<<<\n",
      "<<<\n",
      "time:\t0.430475s\n",
      "<<<\n"
     ]
    },
    {
     "name": "stdout",
     "output_type": "stream",
     "text": [
      "\n",
      "!Start to clear memory\n",
      "CD_x error at height 0:\n",
      " [ 0.2   0.03 -0.04  0.02  0.04  0.25  0.05 -0.05  0.05  0.08 -0.03  0.13 -0.05]\n",
      "CD_y error at height 0:\n",
      " [-0.03 -0.01 -0.25 -0.06  0.36 -0.22 -0.02  0.07 -0.03 -0.06  0.03 -0.01 -0.23]\n",
      "CD_x error at height 8:\n",
      " [-0.01  0.19 -0.02 -0.04  0.03  0.04 -0.24  0.01 -0.05  0.01 -0.03  0.52 -0.05]\n",
      "CD_y error at height 8:\n",
      " [-0.03  0.16  0.09  0.28 -0.01  0.02  0.06  0.1  -0.    0.04 -0.08 -0.01 -0.39]\n",
      "CD_x error at height 16:\n",
      " [-0.1  -0.07  0.04  0.1   0.04 -0.01 -0.08  0.04 -0.01  0.09  0.03  0.06  0.08]\n",
      "CD_y error at height 16:\n",
      " [-0.18 -0.02  0.07  0.19 -0.12  0.18  0.06  0.02 -0.06 -0.03  0.02  0.07 -0.04]\n",
      "CD_x error at height 24:\n",
      " [-0.03 -0.14 -0.18 -0.14 -0.01  0.03  0.09 -0.15 -0.    0.13 -0.11  0.07 -0.06]\n",
      "CD_y error at height 24:\n",
      " [ 0.01 -0.12  0.05  0.09  0.02 -0.   -0.02  0.05 -0.09 -0.01  0.04 -0.03  0.05]\n",
      "CD_x error at height 32:\n",
      " [-0.62  0.01 -0.06 -0.    0.02 -0.    0.01  0.19  0.01 -0.01  0.79 -0.88 -0.  ]\n",
      "CD_y error at height 32:\n",
      " [-0.02  0.06  0.32  0.03  0.02  0.01  0.03 -0.01  0.06 -0.02 -0.1   0.02  0.03]\n",
      "CD_x error at height 40:\n",
      " [-1.67 -2.91  0.02 -0.97  0.01 -1.78 -3.08 -1.06 -1.05 -0.34 -1.3   0.1   0.03]\n",
      "CD_y error at height 40:\n",
      " [ 0.05 -0.08  0.01 -0.01  0.18 -0.1   0.06 -0.03  0.02  0.02  0.08 -0.04  0.02]\n",
      "CD_x error at height 48:\n",
      " [-1.39  0.15 -0.16 -0.01  0.64  0.53 -0.   -2.73 -0.97 -3.83 -0.    1.05 -0.03]\n",
      "CD_y error at height 48:\n",
      " [ 0.09 -0.09  0.49 -0.01  0.01 -0.04  0.01  0.22  0.04  0.21 -0.08 -0.   -0.05]\n",
      "CD_x error at height 56:\n",
      " [-1.43 -0.54  1.98 -0.95 -2.86 -1.48 -0.47 -0.75 -0.27 -3.91  1.52 -0.45 -0.33]\n",
      "CD_y error at height 56:\n",
      " [-0.76  0.01  0.02 -0.   -0.01  0.05 -0.14  0.34 -0.01 -1.26 -0.16  0.03  0.06]\n",
      "CD_x error at height 64:\n",
      " [-1.07 -0.18 -0.17 -0.57 -0.64 -3.32 -1.83 -0.13 -3.09 -2.57  0.36 -2.64 -1.13]\n",
      "CD_y error at height 64:\n",
      " [ 0.86  0.62 -0.73  0.08 -1.05 -3.   -2.37 -1.52 -0.13 -1.03 -0.9   1.27  0.05]\n"
     ]
    },
    {
     "name": "stderr",
     "output_type": "stream",
     "text": [
      "\r",
      " 80%|████████  | 16/20 [13:49:25<3:24:38, 3069.51s/it]"
     ]
    },
    {
     "name": "stdout",
     "output_type": "stream",
     "text": [
      "CD_x error at height 72:\n",
      " [-4.23 -1.42 -1.36 -3.3  -4.44 -3.95 -3.87 -4.12 -5.16 -5.62  0.11 -3.38 -2.35]\n",
      "CD_y error at height 72:\n",
      " [-3.99 -0.19 -4.94 -3.36 -4.93 -5.38 -3.06 -7.04 -1.89 -5.59 -4.2  -3.06 -2.25]\n",
      "CD_RMSE for label 15: [1.546 1.408]\n",
      "../dataset_train_v1/0096Acid_ini Read in 0.71 s\n",
      "../dataset_train_v1/0096Inhibitor Read in 0.70 s\n",
      "RMSE for label 16: [0.006 0.753]\n",
      "NMSE for label 16: [6.277 1.895]\n",
      "NMSE_height for label 16: [6.425 1.864]\n",
      "\n",
      "!Start to clear memory\n"
     ]
    },
    {
     "name": "stderr",
     "output_type": "stream",
     "text": [
      "<<<\n",
      "time:\t0.419575s\n",
      "<<<\n"
     ]
    },
    {
     "name": "stdout",
     "output_type": "stream",
     "text": [
      "\n",
      "!Start to clear memory\n"
     ]
    },
    {
     "name": "stderr",
     "output_type": "stream",
     "text": [
      "<<<\n",
      "time:\t0.449561s\n",
      "<<<\n"
     ]
    },
    {
     "name": "stdout",
     "output_type": "stream",
     "text": [
      "CD_x error at height 0:\n",
      " [-0.15 -0.49  0.03  0.34  0.13  0.16 -0.58  0.19 -0.04 -0.07  1.02 -0.06 -0.07  0.11 -0.36 -0.57\n",
      " -0.09 -0.   -0.13 -0.07 -0.06 -0.05  4.08]\n",
      "CD_y error at height 0:\n",
      " [-0.    0.01  0.1  -0.01 -0.02 -0.52  0.01  0.3   0.02  0.25 -0.06  0.04  0.45  0.03 -0.08 -0.02\n",
      " -0.02 -0.13 -0.16 -0.07  0.05 -0.1   0.1 ]\n",
      "CD_x error at height 8:\n",
      " [ 0.15 -0.01 -0.17  0.21  0.14  0.57  3.   -0.17 -0.05 -0.    0.01  0.03  0.28  0.09 -0.89  0.07\n",
      "  0.15  0.04 -0.13 -0.81 -0.09 -0.01  4.1 ]\n",
      "CD_y error at height 8:\n",
      " [ 0.02  0.02  0.01  0.04 -0.36  0.05  0.02  0.12  0.08 -0.06  0.09  0.05  0.01  0.07 -0.01 -0.09\n",
      "  0.06  0.04 -0.09 -0.46  0.02 -0.55  0.15]\n",
      "CD_x error at height 16:\n",
      " [ 0.18  0.03 -0.65  0.62 -0.01  0.86 -0.19  0.21 -0.02  0.91 -0.02 -0.2  -0.04  0.34 -0.95 -0.01\n",
      " -0.03 -0.1  -0.08  0.1  -0.    0.01  0.15]\n",
      "CD_y error at height 16:\n",
      " [ 0.37  0.05  0.01 -0.01 -0.07 -0.01 -0.01 -0.09  0.14 -0.03 -0.1  -0.39 -0.11  0.41 -0.01 -0.16\n",
      "  0.03  0.01  0.1  -0.06  0.15  0.06  0.  ]\n",
      "CD_x error at height 24:\n",
      " [-0.02  0.13  1.   -0.02 -0.48 -0.27 -0.16 -0.04  0.02 -0.01 -0.11  0.12 -0.02  0.24 -0.56  2.34\n",
      "  0.49 -0.11  0.11  0.8  -0.15 -0.01  0.39]\n",
      "CD_y error at height 24:\n",
      " [ 0.07 -0.01  0.07  0.   -0.03 -0.1   0.08 -0.08  0.03  0.01 -0.07 -0.01  0.3  -0.01  0.39 -0.14\n",
      "  0.1   0.06 -0.09  0.05 -0.12  2.82 -0.01]\n",
      "CD_x error at height 32:\n",
      " [ 0.38  3.   -1.44  0.02 -0.   -4.    0.33  0.19 -0.04  0.05  0.78  0.15  0.25 -0.07 -0.34 -0.06\n",
      " -0.05  0.13 -0.24 -0.97 -0.78  0.52 -0.23]\n",
      "CD_y error at height 32:\n",
      " [ 0.08  0.04  0.13 -0.09  0.37 -0.12 -0.43  0.04  0.04  0.01  0.02  0.02 -0.05  0.01 -0.15 -0.19\n",
      " -0.   -0.1   0.93 -0.06 -0.09 -0.24  0.15]\n",
      "CD_x error at height 40:\n",
      " [ 1.07  1.    0.77 -3.01 -0.93  0.61 -0.1  -0.2   3.71  0.07  3.02 -0.03 -0.82 -0.03  0.69 -0.01\n",
      " -0.04 -2.49  0.07  0.19 -1.81  0.3   1.36]\n",
      "CD_y error at height 40:\n",
      " [ 0.02 -0.12 -0.   -0.07 -0.7   0.08  0.12  0.01 -0.02  0.03 -0.04 -0.06  0.04  0.02  0.11 -0.02\n",
      "  0.01  0.08 -0.59 -0.57  0.04  1.41  0.04]\n",
      "CD_x error at height 48:\n",
      " [ 0.1  -2.56 -0.23 -0.5   1.01  3.17  0.26 -0.48  1.48 -0.64 -0.08 -1.05 -0.02  0.53 -0.05  0.01\n",
      " -1.19 -0.13  0.22  3.23 -1.33  0.42  0.31]\n",
      "CD_y error at height 48:\n",
      " [-0.03  0.02  0.01  1.13 -0.01 -0.03  0.05 -0.02 -0.04 -0.01  0.01 -0.    0.08 -0.    0.03 -0.01\n",
      " -0.    0.09 -0.14  0.02  0.01  3.12 -0.13]\n",
      "CD_x error at height 56:\n",
      " [ 2.79  0.67 -0.44 -0.07 -0.63  0.61  3.94 -3.2   1.03 -1.05  2.03 -0.95 -0.55 -0.83 -0.06  0.09\n",
      " -2.26 -0.48  0.1   0.03  2.19  1.85 -0.17]\n",
      "CD_y error at height 56:\n",
      " [-0.   -0.05  1.59  0.88 -0.75 -0.01 -0.56  0.9  -0.01  0.06  0.04 -0.02  0.23 -0.01 -0.03  0.\n",
      "  2.29  0.23 -0.14 -1.9  -0.32  0.84  2.12]\n",
      "CD_x error at height 64:\n",
      " [ 3.58 -1.96  2.33  0.14 -0.74  0.39 -0.29  1.23  1.21  0.07  0.89 -0.81  0.02 -0.84 -0.82  0.18\n",
      " -1.95  0.09  0.43  1.06 -2.1  -0.82 -2.33]\n",
      "CD_y error at height 64:\n",
      " [-0.58  0.53  2.67  0.7  -2.41  0.36  0.1   0.63  0.82  2.19 -1.42  0.98  1.91 -0.4   2.22  1.13\n",
      "  2.19  2.37  0.04 -2.47 -0.81  3.15  3.25]\n"
     ]
    },
    {
     "name": "stderr",
     "output_type": "stream",
     "text": [
      "\r",
      " 85%|████████▌ | 17/20 [14:44:37<2:37:06, 3142.21s/it]"
     ]
    },
    {
     "name": "stdout",
     "output_type": "stream",
     "text": [
      "CD_x error at height 72:\n",
      " [-2.74  0.6  -0.18 -1.34 -0.65  1.23 -1.68  1.73 -2.09  1.5  -1.04  0.39  0.21 -4.22 -0.39 -1.28\n",
      " -0.61 -0.47 -0.43 -0.96 -2.67 -7.65]\n",
      "CD_y error at height 72:\n",
      " [-2.99  0.16  0.88 -2.46 -7.12  0.78 -3.54 -0.86 -0.07 -0.49 -0.62  1.29 -0.84 -2.4   0.68  2.52\n",
      " -0.01 -0.31 -0.06 -5.57 -3.03  3.13]\n",
      "CD_RMSE for label 16: [1.3  1.07]\n",
      "../dataset_train_v1/0097Acid_ini Read in 0.72 s\n",
      "../dataset_train_v1/0097Inhibitor Read in 0.71 s\n",
      "RMSE for label 17: [0.005 0.639]\n",
      "NMSE for label 17: [5.996 1.606]\n",
      "NMSE_height for label 17: [6.257 1.589]\n",
      "\n",
      "!Start to clear memory\n"
     ]
    },
    {
     "name": "stderr",
     "output_type": "stream",
     "text": [
      "<<<\n",
      "time:\t0.435902s\n",
      "<<<\n",
      "<<<\n",
      "time:\t0.453066s\n",
      "<<<\n"
     ]
    },
    {
     "name": "stdout",
     "output_type": "stream",
     "text": [
      "\n",
      "!Start to clear memory\n",
      "CD_x error at height 0:\n",
      " [-0.03  0.01 -0.07 -0.62  0.02  0.08  0.08 -0.06  0.31 -0.04  0.07  0.03  0.02 -0.04 -0.14  0.03\n",
      "  0.12]\n",
      "CD_y error at height 0:\n",
      " [ 0.07 -0.02  0.02 -0.04 -0.1  -0.04  0.24 -0.02 -0.    0.24 -0.22 -0.02 -0.07 -0.14  0.05 -0.27\n",
      " -0.02]\n",
      "CD_x error at height 8:\n",
      " [-0.27  0.02 -0.07 -0.19  0.09 -0.02  0.06 -0.5   0.25 -0.03  0.09  0.05  0.06 -0.05 -0.21 -0.33\n",
      "  0.05]\n",
      "CD_y error at height 8:\n",
      " [ 0.01 -0.07  0.6   0.05 -0.03 -0.12 -0.04  0.09  0.03  0.22 -0.32 -0.02  0.   -0.    0.07  0.14\n",
      "  0.08]\n",
      "CD_x error at height 16:\n",
      " [ 1.98 -0.01 -0.01 -0.03  0.03  0.11  1.06 -0.06 -0.    0.14  0.11 -0.02  0.14  0.19 -0.23 -0.13\n",
      "  0.2 ]\n",
      "CD_y error at height 16:\n",
      " [-0.08 -0.13 -0.41 -0.01 -0.1  -0.23 -0.02  0.93 -0.07  0.21 -0.07 -0.01 -0.07  0.08  0.32 -0.04\n",
      "  0.09]\n",
      "CD_x error at height 24:\n",
      " [-0.63 -2.68  0.01 -0.15  0.07  0.11  1.11  0.01 -0.    2.31  0.02 -0.05  0.05 -0.28  0.22  0.44\n",
      " -3.53]\n",
      "CD_y error at height 24:\n",
      " [-0.01  0.1   0.1  -0.04 -0.01 -0.04  0.21  0.07  0.03 -0.06  0.13 -0.06  0.22 -0.18  0.   -0.3\n",
      "  0.18]\n",
      "CD_x error at height 32:\n",
      " [ 1.39 -0.77 -0.07  3.18  0.54 -0.02 -0.09 -0.05 -0.04  2.46  1.07 -0.06 -0.    2.18 -0.06 -0.2\n",
      " -0.08]\n",
      "CD_y error at height 32:\n",
      " [ 0.01 -0.03  0.11 -0.03  0.02  0.05 -0.04 -0.14 -0.05 -0.17  0.06  0.02 -0.    0.1   0.33 -0.37\n",
      "  0.47]\n",
      "CD_x error at height 40:\n",
      " [-1.31 -0.97  0.08 -0.62  3.58 -0.72  0.98 -0.63 -0.01  0.51 -2.79  3.17 -2.2  -0.16  0.    0.02\n",
      " -0.9 ]\n",
      "CD_y error at height 40:\n",
      " [ 0.2   0.08 -0.01 -0.01  0.02 -0.43 -0.07  0.11 -1.56 -0.25 -0.04  0.03  0.16 -0.03  0.38 -0.24\n",
      "  0.27]\n",
      "CD_x error at height 48:\n",
      " [-0.12 -2.38 -1.53 -2.52 -0.61 -0.5  -1.61 -3.05  0.08  0.31 -0.51  0.05  0.95 -0.46 -0.45  0.07\n",
      "  1.29]\n",
      "CD_y error at height 48:\n",
      " [ 0.4  -0.06  0.05 -0.    0.    0.08 -0.01  0.04 -2.51 -0.07 -0.79  0.03 -0.07 -0.05  0.3   0.04\n",
      "  0.24]\n",
      "CD_x error at height 56:\n",
      " [-0.51 -1.71 -0.43 -0.35  0.1  -0.22 -0.69 -0.14  0.03  2.15 -0.73 -0.31 -0.78 -0.53 -0.69 -0.\n",
      "  0.02]\n",
      "CD_y error at height 56:\n",
      " [ 0.16  1.5  -0.03 -0.02  0.01  0.93 -0.06  0.   -0.07 -0.4  -3.16  0.17 -1.55 -0.02  0.73 -0.17\n",
      "  0.29]\n",
      "CD_x error at height 64:\n",
      " [ 0.81 -3.08  0.05 -1.58  0.54 -0.76 -1.68 -0.79 -0.04  2.42 -0.21  1.06 -0.95  1.54 -0.79  0.03\n",
      "  0.4 ]\n",
      "CD_y error at height 64:\n",
      " [-0.69  2.79 -1.81  0.01  0.05  1.1   0.5  -0.    1.6  -2.2  -2.08  1.07 -2.71 -0.    2.22 -2.02\n",
      "  0.16]\n"
     ]
    },
    {
     "name": "stderr",
     "output_type": "stream",
     "text": [
      "\r",
      " 90%|█████████ | 18/20 [15:38:24<1:45:35, 3167.83s/it]"
     ]
    },
    {
     "name": "stdout",
     "output_type": "stream",
     "text": [
      "CD_x error at height 72:\n",
      " [ 2.44 -4.07  0.89 -2.49  1.31 -3.17  1.23 -3.54 -1.38  2.2  -4.35 -2.49 -2.73 -1.55 -0.18 -2.28\n",
      " -1.2 ]\n",
      "CD_y error at height 72:\n",
      " [-2.86  2.5  -1.72 -2.61  2.06  2.13 -2.68 -0.52  2.01 -5.5  -1.96 -3.75 -5.74 -2.07  1.74 -2.58\n",
      " -1.28]\n",
      "CD_RMSE for label 17: [1.266 1.12 ]\n",
      "../dataset_train_v1/0098Acid_ini Read in 0.73 s\n",
      "../dataset_train_v1/0098Inhibitor Read in 0.73 s\n",
      "RMSE for label 18: [0.006 0.719]\n",
      "NMSE for label 18: [6.744 1.808]\n",
      "NMSE_height for label 18: [6.76  1.784]\n",
      "\n",
      "!Start to clear memory\n"
     ]
    },
    {
     "name": "stderr",
     "output_type": "stream",
     "text": [
      "<<<\n",
      "time:\t0.435948s\n",
      "<<<\n"
     ]
    },
    {
     "name": "stdout",
     "output_type": "stream",
     "text": [
      "\n",
      "!Start to clear memory\n"
     ]
    },
    {
     "name": "stderr",
     "output_type": "stream",
     "text": [
      "<<<\n",
      "time:\t0.462419s\n",
      "<<<\n"
     ]
    },
    {
     "name": "stdout",
     "output_type": "stream",
     "text": [
      "Contact 18 in 0-CD_x_label is redundant, with info [348.864 879.947   5.78 ]\n",
      "CD_x error at height 0:\n",
      " [-0.2   0.04 -0.   -0.12  0.13 -0.29 -2.66 -0.18  0.09  0.03  0.35  0.02 -0.03  0.06 -0.02  0.03\n",
      "  0.23  0.1  -5.78 -0.08]\n",
      "Contact 12 in 0-CD_y_label is redundant, with info [352.084 873.037  11.01 ]\n",
      "CD_y error at height 0:\n",
      " [ -0.17  -0.08   0.02  -0.     0.05   0.17  -0.02  -0.11  -0.03   0.46   0.15  -0.01 -11.01   0.06\n",
      "  -0.02   0.2    0.04   0.08   0.07   0.36]\n",
      "Contact 18 in 8-CD_x_label is redundant, with info [349.874 878.247   4.43 ]\n",
      "Contact 19 in 8-CD_x_label is redundant, with info [350.904 882.597   1.17 ]\n",
      "CD_x error at height 8:\n",
      " [ 0.01 -0.02  0.05  0.19  0.1  -0.37 -0.02  0.05  0.33  0.9   0.38 -0.01  0.9  -0.1   0.01  0.17\n",
      "  0.1  -0.01 -4.43 -1.17 -0.09]\n",
      "Contact 12 in 8-CD_y_label is redundant, with info [352.184 874.347   8.16 ]\n",
      "CD_y error at height 8:\n",
      " [-0.04  0.03  0.02 -0.11 -0.02 -0.09  0.13 -0.06  0.05  0.39 -0.03 -0.12 -8.16 -0.    0.    0.25\n",
      " -0.06 -0.02 -0.02  0.15]\n",
      "CD_x error at height 16:\n",
      " [-0.57 -0.04 -0.04  0.31  0.12 -0.04  0.14  0.03  0.08  2.53 -0.05  0.07  0.16  0.08  0.02  0.02\n",
      " -0.03 -0.02 -0.16]\n",
      "CD_y error at height 16:\n",
      " [-0.   -0.24  0.05  0.08  0.15 -0.36  0.02 -0.04 -0.03 -0.03  0.04 -0.29  0.07 -0.05 -0.01  0.06\n",
      "  0.01 -0.01  0.54]\n",
      "CD_x error at height 24:\n",
      " [-0.14 -0.05 -0.03  0.06 -1.19  0.22  0.71 -0.03 -0.17  0.67  1.59 -0.16 -0.28 -0.1  -1.01 -0.04\n",
      " -0.02 -0.01 -0.14]\n",
      "CD_y error at height 24:\n",
      " [-0.01 -0.03 -0.39  0.25 -0.01 -0.21  0.01 -0.3  -0.01 -0.03  0.07 -0.01 -0.03  0.2   0.05  0.03\n",
      "  0.09 -0.19  0.56]\n",
      "CD_x error at height 32:\n",
      " [-2.48 -1.46  0.08 -0.46 -1.36  0.65 -0.05 -0.02 -2.64  0.76  0.47 -0.06 -4.    2.52  0.07  0.38\n",
      " -0.04 -0.04 -0.15]\n",
      "CD_y error at height 32:\n",
      " [-0.   -0.11  0.07  0.02  0.07  0.13 -0.04 -0.12  0.28  0.14 -0.05 -0.14  0.05 -0.02  0.3   0.11\n",
      " -0.36  0.11 -0.02]\n",
      "CD_x error at height 40:\n",
      " [ 1.17 -0.77 -0.04 -0.08  0.1   0.66  0.2  -0.51 -1.08  1.93 -0.07 -0.03 -0.99 -0.83 -2.9   0.19\n",
      " -0.06  0.08 -2.93]\n",
      "CD_y error at height 40:\n",
      " [ 0.03  0.22 -0.12  0.06  0.11  0.02 -0.48 -0.21 -0.57  0.01  0.03  0.03  0.06 -0.13  0.26  0.06\n",
      "  0.06  0.04  0.05]\n",
      "CD_x error at height 48:\n",
      " [-0.07  4.38 -3.16  1.17 -0.32 -0.28 -0.01 -0.14 -1.02  0.98  0.14 -1.34  2.96  1.02  0.21 -1.03\n",
      " -0.54  0.64 -2.6 ]\n",
      "CD_y error at height 48:\n",
      " [ 0.05 -0.16 -0.18 -0.06 -0.35 -0.1   0.1   0.11 -0.11 -0.06 -0.    0.1   0.02 -0.32  0.07 -0.15\n",
      " -0.3   0.07  0.03]\n",
      "CD_x error at height 56:\n",
      " [ 0.66 -2.93 -0.75 -1.67  0.47 -2.29 -0.6  -2.97 -0.29  1.07  0.47  0.91 -0.04  3.45  0.03 -3.34\n",
      " -0.35  1.88 -0.94]\n",
      "CD_y error at height 56:\n",
      " [ 0.07  0.4  -0.02 -0.13  1.13 -0.07  0.96 -0.02 -0.08 -0.18  0.1  -0.01  0.01  1.13  0.01 -0.98\n",
      " -0.06  0.56  2.76]\n",
      "CD_x error at height 64:\n",
      " [ 0.93  1.77 -1.02  0.58  2.64 -0.48 -2.12 -2.66 -0.03  0.87 -0.38  0.43 -0.91  1.01  0.   -0.36\n",
      " -1.52  0.36 -0.35]\n",
      "CD_y error at height 64:\n",
      " [-0.74 -0.92 -1.03 -0.7   1.96  0.28  1.74 -0.1   0.83 -0.01 -0.57 -1.14 -2.45  0.36  1.79 -0.68\n",
      " -2.02  1.65  2.44]\n"
     ]
    },
    {
     "name": "stderr",
     "output_type": "stream",
     "text": [
      "\r",
      " 95%|█████████▌| 19/20 [16:33:11<53:23, 3203.70s/it]  "
     ]
    },
    {
     "name": "stdout",
     "output_type": "stream",
     "text": [
      "CD_x error at height 72:\n",
      " [ 0.3  -1.9  -3.15 -1.08  0.76 -0.65 -3.17 -4.06 -0.71  0.69 -4.74 -1.23 -2.83  1.47 -0.18 -4.45\n",
      " -2.73  0.36 -1.2 ]\n",
      "CD_y error at height 72:\n",
      " [-5.78 -3.37 -4.97 -3.87  1.18 -0.11  1.98 -2.45 -2.28 -0.17 -1.34 -3.81 -2.12 -1.78 -2.11 -2.3\n",
      " -0.59  0.32  1.53]\n",
      "CD_RMSE for label 18: [1.422 1.4  ]\n",
      "../dataset_train_v1/0099Acid_ini Read in 0.74 s\n",
      "../dataset_train_v1/0099Inhibitor Read in 0.73 s\n",
      "RMSE for label 19: [0.002 0.222]\n",
      "NMSE for label 19: [3.397 0.556]\n",
      "NMSE_height for label 19: [3.639 0.554]\n",
      "\n",
      "!Start to clear memory\n"
     ]
    },
    {
     "name": "stderr",
     "output_type": "stream",
     "text": [
      "<<<\n",
      "time:\t0.400349s\n",
      "<<<\n",
      "<<<\n",
      "time:\t0.423298s\n",
      "<<<\n"
     ]
    },
    {
     "name": "stdout",
     "output_type": "stream",
     "text": [
      "\n",
      "!Start to clear memory\n",
      "CD_x error at height 0:\n",
      " [ 0.1  -0.02  0.14 -0.11  0.01]\n",
      "CD_y error at height 0:\n",
      " [0.05 0.41 0.22 0.08 0.1 ]\n",
      "CD_x error at height 8:\n",
      " [ 0.95  1.06 -0.01  0.02  0.05]\n",
      "CD_y error at height 8:\n",
      " [0.33 0.01 0.11 0.02 0.14]\n",
      "CD_x error at height 16:\n",
      " [-0.    0.06  0.09  0.59  0.54]\n",
      "CD_y error at height 16:\n",
      " [-0.    0.06  0.03 -0.4   0.06]\n",
      "CD_x error at height 24:\n",
      " [ 0.3   0.17 -0.31  0.87  0.19]\n",
      "CD_y error at height 24:\n",
      " [-0.03 -0.06 -0.2  -0.03  0.08]\n",
      "CD_x error at height 32:\n",
      " [-0.11 -0.4  -0.63  0.18  0.47]\n",
      "CD_y error at height 32:\n",
      " [-0.01  0.04  0.04 -0.01 -0.02]\n",
      "CD_x error at height 40:\n",
      " [-0.97 -0.6  -0.01 -0.01 -0.67]\n",
      "CD_y error at height 40:\n",
      " [-0.01  0.02  0.19  0.04 -0.02]\n",
      "CD_x error at height 48:\n",
      " [-0.71  0.86 -2.35 -0.88  2.07]\n",
      "CD_y error at height 48:\n",
      " [ 0.01 -0.15 -0.09  0.04 -0.05]\n",
      "CD_x error at height 56:\n",
      " [-0.15 -2.15 -0.01 -0.35  0.42]\n",
      "CD_y error at height 56:\n",
      " [ 1.61 -1.68  0.04 -0.06 -0.02]\n",
      "CD_x error at height 64:\n",
      " [-0.26  0.35 -1.25 -1.16  2.42]\n",
      "CD_y error at height 64:\n",
      " [ 0.61 -0.58  0.31  0.64  0.56]\n"
     ]
    },
    {
     "name": "stderr",
     "output_type": "stream",
     "text": [
      "100%|██████████| 20/20 [17:26:40<00:00, 3140.03s/it]"
     ]
    },
    {
     "name": "stdout",
     "output_type": "stream",
     "text": [
      "CD_x error at height 72:\n",
      " [-1.39 -2.14 -0.62 -0.76 -0.46]\n",
      "CD_y error at height 72:\n",
      " [-0.36 -3.3  -0.74 -0.47  0.53]\n",
      "CD_RMSE for label 19: [0.891 0.628]\n",
      "CD Error: [1.438 1.217]\n",
      "RMSE(Mean, Std): [0.004 0.446] [0.003 0.232]\n",
      "NMSE(Mean, Std): [5.22  1.119] [2.349 0.584]\n",
      "NMSE_height: [[5.062 5.061 5.051 5.047 5.045 5.032 5.022 5.024 5.025 5.032 5.033 5.032 5.036 5.05  5.067 5.069\n",
      "  5.069 5.072 5.082 5.083 ... 5.301 5.344 5.352 5.417 5.366 5.485 5.523 5.555 5.66  5.708 5.886\n",
      "  5.935 6.175 6.377 6.682 6.889 7.102 7.464 7.669 7.983]\n",
      " [1.284 1.284 1.281 1.279 1.278 1.274 1.274 1.275 1.275 1.275 1.273 1.271 1.268 1.266 1.266 1.262\n",
      "  1.258 1.253 1.248 1.243 ... 0.953 0.94  0.932 0.92  0.893 0.87  0.847 0.831 0.813 0.803 0.833\n",
      "  0.866 0.894 0.935 0.979 0.982 0.855 0.748 0.639 0.622]]\n",
      "Top Error (mean): [6.816 0.835]\n"
     ]
    },
    {
     "name": "stderr",
     "output_type": "stream",
     "text": [
      "\n"
     ]
    },
    {
     "name": "stdout",
     "output_type": "stream",
     "text": [
      "Mean runtime: 0.9514372229576111\n",
      "RMSE(Ihb, rate): [0.004 0.446]\n",
      "NRMSE(Ihb, rate): [5.22  1.119]\n",
      "CD Error(x, y): [1.438 1.217]\n"
     ]
    }
   ],
   "source": [
    "Runtime, RMSE, NMSE, _, CD_err_x, CD_err_y, CD_RMSE = evaluate(opt, model, device0, res_trans, RDevelop)\n",
    "print(\"Mean runtime:\", np.mean(Runtime))\n",
    "print(\"RMSE(Ihb, rate):\", np.mean(RMSE,axis=-1))\n",
    "print(\"NRMSE(Ihb, rate):\", np.mean(NMSE,axis=-1))\n",
    "print(\"CD Error(x, y):\", np.mean(CD_RMSE,axis=-1))"
   ]
  },
  {
   "cell_type": "code",
   "execution_count": 9,
   "metadata": {},
   "outputs": [
    {
     "data": {
      "image/png": "[encoded data removed]",
      "text/plain": [
       "<Figure size 720x432 with 1 Axes>"
      ]
     },
     "metadata": {
      "needs_background": "light"
     },
     "output_type": "display_data"
    }
   ],
   "source": [
    "Err_x, Err_y = np.array([]), np.array([])\n",
    "for tmp in range(len(CD_err_x)):\n",
    "    Err_x = np.append(Err_x, np.array(CD_err_x[tmp]).flatten())\n",
    "    Err_y = np.append(Err_y, np.array(CD_err_y[tmp]).flatten())\n",
    "\n",
    "np.savetxt(opt.respath+\"CDErr-x_deepeb.csv\", Err_x.flatten(), delimiter=' ')\n",
    "np.savetxt(opt.respath+\"CDErr-y_deepeb.csv\", Err_y.flatten(), delimiter=' ')\n",
    "from utils.Res_plot import CD_errXY_plot\n",
    "%matplotlib inline\n",
    "CD_errXY_plot(Err_x, Err_y, \"DeePEB's \")"
   ]
  },
  {
   "cell_type": "code",
   "execution_count": null,
   "metadata": {},
   "outputs": [],
   "source": []
  }
 ],
 "metadata": {
  "kernelspec": {
   "display_name": "Python 3 (ipykernel)",
   "language": "python",
   "name": "python3"
  },
  "language_info": {
   "codemirror_mode": {
    "name": "ipython",
    "version": 3
   },
   "file_extension": ".py",
   "mimetype": "text/x-python",
   "name": "python",
   "nbconvert_exporter": "python",
   "pygments_lexer": "ipython3",
   "version": "3.8.10"
  },
  "vp": {
   "vp_config_version": "1.0.0",
   "vp_menu_width": 273,
   "vp_note_display": false,
   "vp_note_width": 0,
   "vp_position": {
    "width": 278
   },
   "vp_section_display": false,
   "vp_signature": "VisualPython"
  }
 },
 "nbformat": 4,
 "nbformat_minor": 4
}
