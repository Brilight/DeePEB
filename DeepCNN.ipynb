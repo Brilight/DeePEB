{
 "cells": [
  {
   "cell_type": "code",
   "execution_count": 1,
   "metadata": {
    "scrolled": true
   },
   "outputs": [],
   "source": [
    "import math\n",
    "import time\n",
    "import csv\n",
    "import os\n",
    "os.environ[\"CUDA_DEVICE_ORDER\"] = \"PCI_BUS_ID\"\n",
    "os.environ['CUDA_VISIBLE_DEVICES']=\"2\"\n",
    "os.environ['CUDA_LAUNCH_BLOCKING'] = '1'\n",
    "\n",
    "import numpy as np\n",
    "import torch \n",
    "import torch.nn as nn\n",
    "import torch.utils.data as data\n",
    "import torch.nn.functional as F\n",
    "\n",
    "torch.manual_seed(105)\n",
    "np.random.seed(42)\n",
    "np.set_printoptions(suppress=True, precision=3, threshold=40, linewidth=100, edgeitems=20)  \n",
    "\n",
    "torch.backends.cudnn.deterministic = True\n",
    "torch.backends.cudnn.benchmark = True\n",
    "#torch.backends.cudnn.enabled = False \n",
    "#Note:This cmd will lead to illegal memory runtime error (or sth. else concerning memory) if added...\n",
    "#Note:But it doesn't hurt on the other server, and the other models... damns\n",
    "\n",
    "import itertools\n",
    "from tqdm import trange, tqdm\n",
    "import matplotlib.pyplot as plt\n",
    "import importlib\n",
    "%matplotlib inline\n",
    "\n",
    "'''\n",
    "If curious about the detailed realization of certain module(s) below, try:\n",
    "    print(*inspect.getsource(Module).split('\\n'), sep='\\n')\n",
    "to get its source code.\n",
    "'''\n",
    "from Model.DeepCNN import ResNet\n",
    "from Train.train_v1 import train\n",
    "from Datas.data_load import dataset_append\n",
    "from Test.Evaluate import evaluate\n",
    "from utils.Save_and_load import save, load\n",
    "from configs import opt, res_trans, RDevelop"
   ]
  },
  {
   "cell_type": "code",
   "execution_count": 2,
   "metadata": {},
   "outputs": [],
   "source": [
    "def Model_def(opt, Channels, device_train, load_model):\n",
    "    '''\n",
    "    Define (and load saved) model \n",
    "    '''\n",
    "    model = ResNet(Channels, bias=True)\n",
    "    model.initialize()\n",
    "    if load_model:\n",
    "        model = load(model, opt.load_model_path)\n",
    "    print(model.parameters)\n",
    "    \n",
    "    if device_train.type == 'cuda':\n",
    "        torch.cuda.empty_cache()\n",
    "        model = model.to(device_train)\n",
    "        print(\"allocated and reserved GPU memory: {}, {} (GiB)\".format(\n",
    "                torch.cuda.memory_allocated()/(1024**3), torch.cuda.memory_reserved()/(1024**3)))\n",
    "    return model"
   ]
  },
  {
   "cell_type": "code",
   "execution_count": 3,
   "metadata": {
    "scrolled": true
   },
   "outputs": [
    {
     "name": "stdout",
     "output_type": "stream",
     "text": [
      "Net Initialized\n",
      "<bound method Module.parameters of ResNet(\n",
      "  (conv1): Sequential(\n",
      "    (0): Conv3d(1, 2, kernel_size=(3, 3, 3), stride=(1, 1, 1), padding=(1, 1, 1))\n",
      "    (1): LeakyReLU(negative_slope=0.01, inplace=True)\n",
      "  )\n",
      "  (reslayers): Sequential(\n",
      "    (0): Sequential(\n",
      "      (0): BasicBlock(\n",
      "        (conv): Sequential(\n",
      "          (0): Conv3d(2, 2, kernel_size=(3, 3, 3), stride=(1, 1, 1), padding=(1, 1, 1), padding_mode=replicate)\n",
      "          (1): LeakyReLU(negative_slope=0.01, inplace=True)\n",
      "          (2): Conv3d(2, 2, kernel_size=(3, 3, 3), stride=(1, 1, 1), padding=(1, 1, 1), padding_mode=replicate)\n",
      "        )\n",
      "        (shortcut): Sequential()\n",
      "      )\n",
      "      (1): BasicBlock(\n",
      "        (conv): Sequential(\n",
      "          (0): Conv3d(2, 2, kernel_size=(3, 3, 3), stride=(1, 1, 1), padding=(1, 1, 1), padding_mode=replicate)\n",
      "          (1): LeakyReLU(negative_slope=0.01, inplace=True)\n",
      "          (2): Conv3d(2, 2, kernel_size=(3, 3, 3), stride=(1, 1, 1), padding=(1, 1, 1), padding_mode=replicate)\n",
      "        )\n",
      "        (shortcut): Sequential()\n",
      "      )\n",
      "    )\n",
      "    (1): Sequential(\n",
      "      (0): BasicBlock(\n",
      "        (conv): Sequential(\n",
      "          (0): Conv3d(2, 4, kernel_size=(3, 3, 3), stride=(1, 1, 1), padding=(1, 1, 1), padding_mode=replicate)\n",
      "          (1): LeakyReLU(negative_slope=0.01, inplace=True)\n",
      "          (2): Conv3d(4, 4, kernel_size=(3, 3, 3), stride=(1, 1, 1), padding=(1, 1, 1), padding_mode=replicate)\n",
      "        )\n",
      "        (shortcut): Sequential(\n",
      "          (0): Conv3d(2, 4, kernel_size=(1, 1, 1), stride=(1, 1, 1), bias=False)\n",
      "        )\n",
      "      )\n",
      "      (1): BasicBlock(\n",
      "        (conv): Sequential(\n",
      "          (0): Conv3d(4, 4, kernel_size=(3, 3, 3), stride=(1, 1, 1), padding=(1, 1, 1), padding_mode=replicate)\n",
      "          (1): LeakyReLU(negative_slope=0.01, inplace=True)\n",
      "          (2): Conv3d(4, 4, kernel_size=(3, 3, 3), stride=(1, 1, 1), padding=(1, 1, 1), padding_mode=replicate)\n",
      "        )\n",
      "        (shortcut): Sequential()\n",
      "      )\n",
      "    )\n",
      "    (2): Sequential(\n",
      "      (0): BasicBlock(\n",
      "        (conv): Sequential(\n",
      "          (0): Conv3d(4, 6, kernel_size=(3, 3, 3), stride=(1, 1, 1), padding=(1, 1, 1), padding_mode=replicate)\n",
      "          (1): LeakyReLU(negative_slope=0.01, inplace=True)\n",
      "          (2): Conv3d(6, 6, kernel_size=(3, 3, 3), stride=(1, 1, 1), padding=(1, 1, 1), padding_mode=replicate)\n",
      "        )\n",
      "        (shortcut): Sequential(\n",
      "          (0): Conv3d(4, 6, kernel_size=(1, 1, 1), stride=(1, 1, 1), bias=False)\n",
      "        )\n",
      "      )\n",
      "      (1): BasicBlock(\n",
      "        (conv): Sequential(\n",
      "          (0): Conv3d(6, 6, kernel_size=(3, 3, 3), stride=(1, 1, 1), padding=(1, 1, 1), padding_mode=replicate)\n",
      "          (1): LeakyReLU(negative_slope=0.01, inplace=True)\n",
      "          (2): Conv3d(6, 6, kernel_size=(3, 3, 3), stride=(1, 1, 1), padding=(1, 1, 1), padding_mode=replicate)\n",
      "        )\n",
      "        (shortcut): Sequential()\n",
      "      )\n",
      "    )\n",
      "  )\n",
      "  (conv2): Sequential(\n",
      "    (0): Conv3d(6, 1, kernel_size=(1, 1, 1), stride=(1, 1, 1))\n",
      "  )\n",
      ")>\n",
      "allocated and reserved GPU memory: 3.147125244140625e-05, 0.001953125 (GiB)\n"
     ]
    }
   ],
   "source": [
    "Channels = [2, 4, 6]\n",
    "device_train = torch.device('cuda:0') \n",
    "device_test = torch.device('cuda:0')\n",
    "ckpt_name = \"ResNet.pth\"\n",
    "opt.load_model_path = opt.modelpath+ckpt_name\n",
    "model = Model_def(opt, Channels, device_train, False)"
   ]
  },
  {
   "cell_type": "code",
   "execution_count": 4,
   "metadata": {
    "scrolled": true
   },
   "outputs": [
    {
     "name": "stderr",
     "output_type": "stream",
     "text": [
      "\r",
      "  0%|          | 0/8 [00:00<?, ?it/s]"
     ]
    },
    {
     "name": "stdout",
     "output_type": "stream",
     "text": [
      "../dataset_train_v1/0000Acid_ini Read in 0.74 s\n",
      "../dataset_train_v1/0000Inhibitor Read in 0.69 s\n",
      "--> Mask 0 Read Complete, with dataset size: (1, 1, 80, 1000, 1000), 9 masks left ...\n",
      "\n",
      "../dataset_train_v1/0001Acid_ini Read in 0.70 s\n",
      "../dataset_train_v1/0001Inhibitor Read in 0.69 s\n",
      "--> Mask 1 Read Complete, with dataset size: (2, 1, 80, 1000, 1000), 8 masks left ...\n",
      "\n",
      "../dataset_train_v1/0002Acid_ini Read in 0.68 s\n",
      "../dataset_train_v1/0002Inhibitor Read in 0.67 s\n",
      "--> Mask 2 Read Complete, with dataset size: (3, 1, 80, 1000, 1000), 7 masks left ...\n",
      "\n",
      "../dataset_train_v1/0003Acid_ini Read in 0.69 s\n",
      "../dataset_train_v1/0003Inhibitor Read in 0.73 s\n",
      "--> Mask 3 Read Complete, with dataset size: (4, 1, 80, 1000, 1000), 6 masks left ...\n",
      "\n",
      "../dataset_train_v1/0004Acid_ini Read in 0.67 s\n",
      "../dataset_train_v1/0004Inhibitor Read in 0.68 s\n",
      "--> Mask 4 Read Complete, with dataset size: (5, 1, 80, 1000, 1000), 5 masks left ...\n",
      "\n",
      "../dataset_train_v1/0005Acid_ini Read in 0.69 s\n",
      "../dataset_train_v1/0005Inhibitor Read in 0.69 s\n",
      "--> Mask 5 Read Complete, with dataset size: (6, 1, 80, 1000, 1000), 4 masks left ...\n",
      "\n",
      "../dataset_train_v1/0006Acid_ini Read in 0.66 s\n",
      "../dataset_train_v1/0006Inhibitor Read in 0.67 s\n",
      "--> Mask 6 Read Complete, with dataset size: (7, 1, 80, 1000, 1000), 3 masks left ...\n",
      "\n",
      "../dataset_train_v1/0007Acid_ini Read in 0.73 s\n",
      "../dataset_train_v1/0007Inhibitor Read in 0.67 s\n",
      "--> Mask 7 Read Complete, with dataset size: (8, 1, 80, 1000, 1000), 2 masks left ...\n",
      "\n",
      "../dataset_train_v1/0008Acid_ini Read in 0.69 s\n",
      "../dataset_train_v1/0008Inhibitor Read in 0.70 s\n",
      "--> Mask 8 Read Complete, with dataset size: (9, 1, 80, 1000, 1000), 1 masks left ...\n",
      "\n",
      "../dataset_train_v1/0009Acid_ini Read in 0.72 s\n",
      "../dataset_train_v1/0009Inhibitor Read in 0.69 s\n"
     ]
    },
    {
     "name": "stderr",
     "output_type": "stream",
     "text": [
      "\r",
      " 12%|█▎        | 1/8 [00:35<04:06, 35.23s/it]"
     ]
    },
    {
     "name": "stdout",
     "output_type": "stream",
     "text": [
      "--> Mask 9 Read Complete, with dataset size: (10, 1, 80, 1000, 1000), 0 masks left ...\n",
      "\n",
      "../dataset_train_v1/0010Acid_ini Read in 0.71 s\n",
      "../dataset_train_v1/0010Inhibitor Read in 0.67 s\n",
      "--> Mask 10 Read Complete, with dataset size: (1, 1, 80, 1000, 1000), 9 masks left ...\n",
      "\n",
      "../dataset_train_v1/0011Acid_ini Read in 0.71 s\n",
      "../dataset_train_v1/0011Inhibitor Read in 0.66 s\n",
      "--> Mask 11 Read Complete, with dataset size: (2, 1, 80, 1000, 1000), 8 masks left ...\n",
      "\n",
      "../dataset_train_v1/0012Acid_ini Read in 0.71 s\n",
      "../dataset_train_v1/0012Inhibitor Read in 0.70 s\n",
      "--> Mask 12 Read Complete, with dataset size: (3, 1, 80, 1000, 1000), 7 masks left ...\n",
      "\n",
      "../dataset_train_v1/0013Acid_ini Read in 0.71 s\n",
      "../dataset_train_v1/0013Inhibitor Read in 0.78 s\n",
      "--> Mask 13 Read Complete, with dataset size: (4, 1, 80, 1000, 1000), 6 masks left ...\n",
      "\n",
      "../dataset_train_v1/0014Acid_ini Read in 0.75 s\n",
      "../dataset_train_v1/0014Inhibitor Read in 0.69 s\n",
      "--> Mask 14 Read Complete, with dataset size: (5, 1, 80, 1000, 1000), 5 masks left ...\n",
      "\n",
      "../dataset_train_v1/0015Acid_ini Read in 0.69 s\n",
      "../dataset_train_v1/0015Inhibitor Read in 0.76 s\n",
      "--> Mask 15 Read Complete, with dataset size: (6, 1, 80, 1000, 1000), 4 masks left ...\n",
      "\n",
      "../dataset_train_v1/0016Acid_ini Read in 0.67 s\n",
      "../dataset_train_v1/0016Inhibitor Read in 0.72 s\n",
      "--> Mask 16 Read Complete, with dataset size: (7, 1, 80, 1000, 1000), 3 masks left ...\n",
      "\n",
      "../dataset_train_v1/0017Acid_ini Read in 0.70 s\n",
      "../dataset_train_v1/0017Inhibitor Read in 0.68 s\n",
      "--> Mask 17 Read Complete, with dataset size: (8, 1, 80, 1000, 1000), 2 masks left ...\n",
      "\n",
      "../dataset_train_v1/0018Acid_ini Read in 0.70 s\n",
      "../dataset_train_v1/0018Inhibitor Read in 0.68 s\n",
      "--> Mask 18 Read Complete, with dataset size: (9, 1, 80, 1000, 1000), 1 masks left ...\n",
      "\n",
      "../dataset_train_v1/0019Acid_ini Read in 0.68 s\n",
      "../dataset_train_v1/0019Inhibitor Read in 0.67 s\n"
     ]
    },
    {
     "name": "stderr",
     "output_type": "stream",
     "text": [
      "\r",
      " 25%|██▌       | 2/8 [01:10<03:32, 35.44s/it]"
     ]
    },
    {
     "name": "stdout",
     "output_type": "stream",
     "text": [
      "--> Mask 19 Read Complete, with dataset size: (10, 1, 80, 1000, 1000), 0 masks left ...\n",
      "\n",
      "../dataset_train_v1/0020Acid_ini Read in 0.67 s\n",
      "../dataset_train_v1/0020Inhibitor Read in 0.68 s\n",
      "--> Mask 20 Read Complete, with dataset size: (1, 1, 80, 1000, 1000), 9 masks left ...\n",
      "\n",
      "../dataset_train_v1/0021Acid_ini Read in 0.66 s\n",
      "../dataset_train_v1/0021Inhibitor Read in 0.67 s\n",
      "--> Mask 21 Read Complete, with dataset size: (2, 1, 80, 1000, 1000), 8 masks left ...\n",
      "\n",
      "../dataset_train_v1/0022Acid_ini Read in 0.69 s\n",
      "../dataset_train_v1/0022Inhibitor Read in 0.70 s\n",
      "--> Mask 22 Read Complete, with dataset size: (3, 1, 80, 1000, 1000), 7 masks left ...\n",
      "\n",
      "../dataset_train_v1/0023Acid_ini Read in 0.71 s\n",
      "../dataset_train_v1/0023Inhibitor Read in 0.67 s\n",
      "--> Mask 23 Read Complete, with dataset size: (4, 1, 80, 1000, 1000), 6 masks left ...\n",
      "\n",
      "../dataset_train_v1/0024Acid_ini Read in 0.69 s\n",
      "../dataset_train_v1/0024Inhibitor Read in 0.70 s\n",
      "--> Mask 24 Read Complete, with dataset size: (5, 1, 80, 1000, 1000), 5 masks left ...\n",
      "\n",
      "../dataset_train_v1/0025Acid_ini Read in 0.71 s\n",
      "../dataset_train_v1/0025Inhibitor Read in 0.72 s\n",
      "--> Mask 25 Read Complete, with dataset size: (6, 1, 80, 1000, 1000), 4 masks left ...\n",
      "\n",
      "../dataset_train_v1/0026Acid_ini Read in 0.71 s\n",
      "../dataset_train_v1/0026Inhibitor Read in 0.70 s\n",
      "--> Mask 26 Read Complete, with dataset size: (7, 1, 80, 1000, 1000), 3 masks left ...\n",
      "\n",
      "../dataset_train_v1/0027Acid_ini Read in 0.70 s\n",
      "../dataset_train_v1/0027Inhibitor Read in 0.72 s\n",
      "--> Mask 27 Read Complete, with dataset size: (8, 1, 80, 1000, 1000), 2 masks left ...\n",
      "\n",
      "../dataset_train_v1/0028Acid_ini Read in 0.72 s\n",
      "../dataset_train_v1/0028Inhibitor Read in 0.72 s\n",
      "--> Mask 28 Read Complete, with dataset size: (9, 1, 80, 1000, 1000), 1 masks left ...\n",
      "\n",
      "../dataset_train_v1/0029Acid_ini Read in 0.70 s\n",
      "../dataset_train_v1/0029Inhibitor Read in 0.68 s\n"
     ]
    },
    {
     "name": "stderr",
     "output_type": "stream",
     "text": [
      "\r",
      " 38%|███▊      | 3/8 [01:46<02:56, 35.35s/it]"
     ]
    },
    {
     "name": "stdout",
     "output_type": "stream",
     "text": [
      "--> Mask 29 Read Complete, with dataset size: (10, 1, 80, 1000, 1000), 0 masks left ...\n",
      "\n",
      "../dataset_train_v1/0030Acid_ini Read in 0.68 s\n",
      "../dataset_train_v1/0030Inhibitor Read in 0.69 s\n",
      "--> Mask 30 Read Complete, with dataset size: (1, 1, 80, 1000, 1000), 9 masks left ...\n",
      "\n",
      "../dataset_train_v1/0031Acid_ini Read in 0.69 s\n",
      "../dataset_train_v1/0031Inhibitor Read in 0.67 s\n",
      "--> Mask 31 Read Complete, with dataset size: (2, 1, 80, 1000, 1000), 8 masks left ...\n",
      "\n",
      "../dataset_train_v1/0032Acid_ini Read in 0.70 s\n",
      "../dataset_train_v1/0032Inhibitor Read in 0.71 s\n",
      "--> Mask 32 Read Complete, with dataset size: (3, 1, 80, 1000, 1000), 7 masks left ...\n",
      "\n",
      "../dataset_train_v1/0033Acid_ini Read in 0.73 s\n",
      "../dataset_train_v1/0033Inhibitor Read in 0.69 s\n",
      "--> Mask 33 Read Complete, with dataset size: (4, 1, 80, 1000, 1000), 6 masks left ...\n",
      "\n",
      "../dataset_train_v1/0034Acid_ini Read in 0.71 s\n",
      "../dataset_train_v1/0034Inhibitor Read in 0.70 s\n",
      "--> Mask 34 Read Complete, with dataset size: (5, 1, 80, 1000, 1000), 5 masks left ...\n",
      "\n",
      "../dataset_train_v1/0035Acid_ini Read in 0.70 s\n",
      "../dataset_train_v1/0035Inhibitor Read in 0.71 s\n",
      "--> Mask 35 Read Complete, with dataset size: (6, 1, 80, 1000, 1000), 4 masks left ...\n",
      "\n",
      "../dataset_train_v1/0036Acid_ini Read in 0.73 s\n",
      "../dataset_train_v1/0036Inhibitor Read in 0.71 s\n",
      "--> Mask 36 Read Complete, with dataset size: (7, 1, 80, 1000, 1000), 3 masks left ...\n",
      "\n",
      "../dataset_train_v1/0037Acid_ini Read in 0.69 s\n",
      "../dataset_train_v1/0037Inhibitor Read in 0.75 s\n",
      "--> Mask 37 Read Complete, with dataset size: (8, 1, 80, 1000, 1000), 2 masks left ...\n",
      "\n",
      "../dataset_train_v1/0038Acid_ini Read in 0.70 s\n",
      "../dataset_train_v1/0038Inhibitor Read in 0.73 s\n",
      "--> Mask 38 Read Complete, with dataset size: (9, 1, 80, 1000, 1000), 1 masks left ...\n",
      "\n",
      "../dataset_train_v1/0039Acid_ini Read in 0.67 s\n",
      "../dataset_train_v1/0039Inhibitor Read in 0.68 s\n"
     ]
    },
    {
     "name": "stderr",
     "output_type": "stream",
     "text": [
      "\r",
      " 50%|█████     | 4/8 [02:21<02:21, 35.49s/it]"
     ]
    },
    {
     "name": "stdout",
     "output_type": "stream",
     "text": [
      "--> Mask 39 Read Complete, with dataset size: (10, 1, 80, 1000, 1000), 0 masks left ...\n",
      "\n",
      "../dataset_train_v1/0040Acid_ini Read in 0.69 s\n",
      "../dataset_train_v1/0040Inhibitor Read in 0.76 s\n",
      "--> Mask 40 Read Complete, with dataset size: (1, 1, 80, 1000, 1000), 9 masks left ...\n",
      "\n",
      "../dataset_train_v1/0041Acid_ini Read in 0.71 s\n",
      "../dataset_train_v1/0041Inhibitor Read in 0.76 s\n",
      "--> Mask 41 Read Complete, with dataset size: (2, 1, 80, 1000, 1000), 8 masks left ...\n",
      "\n",
      "../dataset_train_v1/0042Acid_ini Read in 0.70 s\n",
      "../dataset_train_v1/0042Inhibitor Read in 0.70 s\n",
      "--> Mask 42 Read Complete, with dataset size: (3, 1, 80, 1000, 1000), 7 masks left ...\n",
      "\n",
      "../dataset_train_v1/0043Acid_ini Read in 0.72 s\n",
      "../dataset_train_v1/0043Inhibitor Read in 0.72 s\n",
      "--> Mask 43 Read Complete, with dataset size: (4, 1, 80, 1000, 1000), 6 masks left ...\n",
      "\n",
      "../dataset_train_v1/0044Acid_ini Read in 0.69 s\n",
      "../dataset_train_v1/0044Inhibitor Read in 0.66 s\n",
      "--> Mask 44 Read Complete, with dataset size: (5, 1, 80, 1000, 1000), 5 masks left ...\n",
      "\n",
      "../dataset_train_v1/0045Acid_ini Read in 0.69 s\n",
      "../dataset_train_v1/0045Inhibitor Read in 0.68 s\n",
      "--> Mask 45 Read Complete, with dataset size: (6, 1, 80, 1000, 1000), 4 masks left ...\n",
      "\n",
      "../dataset_train_v1/0046Acid_ini Read in 0.68 s\n",
      "../dataset_train_v1/0046Inhibitor Read in 0.67 s\n",
      "--> Mask 46 Read Complete, with dataset size: (7, 1, 80, 1000, 1000), 3 masks left ...\n",
      "\n",
      "../dataset_train_v1/0047Acid_ini Read in 0.69 s\n",
      "../dataset_train_v1/0047Inhibitor Read in 0.68 s\n",
      "--> Mask 47 Read Complete, with dataset size: (8, 1, 80, 1000, 1000), 2 masks left ...\n",
      "\n",
      "../dataset_train_v1/0048Acid_ini Read in 0.68 s\n",
      "../dataset_train_v1/0048Inhibitor Read in 0.67 s\n",
      "--> Mask 48 Read Complete, with dataset size: (9, 1, 80, 1000, 1000), 1 masks left ...\n",
      "\n",
      "../dataset_train_v1/0049Acid_ini Read in 0.74 s\n",
      "../dataset_train_v1/0049Inhibitor Read in 0.66 s\n"
     ]
    },
    {
     "name": "stderr",
     "output_type": "stream",
     "text": [
      "\r",
      " 62%|██████▎   | 5/8 [02:57<01:46, 35.52s/it]"
     ]
    },
    {
     "name": "stdout",
     "output_type": "stream",
     "text": [
      "--> Mask 49 Read Complete, with dataset size: (10, 1, 80, 1000, 1000), 0 masks left ...\n",
      "\n",
      "../dataset_train_v1/0050Acid_ini Read in 0.70 s\n",
      "../dataset_train_v1/0050Inhibitor Read in 0.70 s\n",
      "--> Mask 50 Read Complete, with dataset size: (1, 1, 80, 1000, 1000), 9 masks left ...\n",
      "\n",
      "../dataset_train_v1/0051Acid_ini Read in 0.69 s\n",
      "../dataset_train_v1/0051Inhibitor Read in 0.70 s\n",
      "--> Mask 51 Read Complete, with dataset size: (2, 1, 80, 1000, 1000), 8 masks left ...\n",
      "\n",
      "../dataset_train_v1/0052Acid_ini Read in 0.70 s\n",
      "../dataset_train_v1/0052Inhibitor Read in 0.71 s\n",
      "--> Mask 52 Read Complete, with dataset size: (3, 1, 80, 1000, 1000), 7 masks left ...\n",
      "\n",
      "../dataset_train_v1/0053Acid_ini Read in 0.73 s\n",
      "../dataset_train_v1/0053Inhibitor Read in 0.67 s\n",
      "--> Mask 53 Read Complete, with dataset size: (4, 1, 80, 1000, 1000), 6 masks left ...\n",
      "\n",
      "../dataset_train_v1/0054Acid_ini Read in 0.70 s\n",
      "../dataset_train_v1/0054Inhibitor Read in 0.72 s\n",
      "--> Mask 54 Read Complete, with dataset size: (5, 1, 80, 1000, 1000), 5 masks left ...\n",
      "\n",
      "../dataset_train_v1/0055Acid_ini Read in 0.67 s\n",
      "../dataset_train_v1/0055Inhibitor Read in 0.67 s\n",
      "--> Mask 55 Read Complete, with dataset size: (6, 1, 80, 1000, 1000), 4 masks left ...\n",
      "\n",
      "../dataset_train_v1/0056Acid_ini Read in 0.69 s\n",
      "../dataset_train_v1/0056Inhibitor Read in 0.73 s\n",
      "--> Mask 56 Read Complete, with dataset size: (7, 1, 80, 1000, 1000), 3 masks left ...\n",
      "\n",
      "../dataset_train_v1/0057Acid_ini Read in 0.71 s\n",
      "../dataset_train_v1/0057Inhibitor Read in 0.70 s\n",
      "--> Mask 57 Read Complete, with dataset size: (8, 1, 80, 1000, 1000), 2 masks left ...\n",
      "\n",
      "../dataset_train_v1/0058Acid_ini Read in 0.69 s\n",
      "../dataset_train_v1/0058Inhibitor Read in 0.68 s\n",
      "--> Mask 58 Read Complete, with dataset size: (9, 1, 80, 1000, 1000), 1 masks left ...\n",
      "\n",
      "../dataset_train_v1/0059Acid_ini Read in 0.72 s\n",
      "../dataset_train_v1/0059Inhibitor Read in 0.74 s\n"
     ]
    },
    {
     "name": "stderr",
     "output_type": "stream",
     "text": [
      "\r",
      " 75%|███████▌  | 6/8 [03:37<01:14, 37.07s/it]"
     ]
    },
    {
     "name": "stdout",
     "output_type": "stream",
     "text": [
      "--> Mask 59 Read Complete, with dataset size: (10, 1, 80, 1000, 1000), 0 masks left ...\n",
      "\n",
      "../dataset_train_v1/0060Acid_ini Read in 0.67 s\n",
      "../dataset_train_v1/0060Inhibitor Read in 0.57 s\n",
      "--> Mask 60 Read Complete, with dataset size: (1, 1, 80, 1000, 1000), 9 masks left ...\n",
      "\n",
      "../dataset_train_v1/0061Acid_ini Read in 0.82 s\n",
      "../dataset_train_v1/0061Inhibitor Read in 0.82 s\n",
      "--> Mask 61 Read Complete, with dataset size: (2, 1, 80, 1000, 1000), 8 masks left ...\n",
      "\n",
      "../dataset_train_v1/0062Acid_ini Read in 0.71 s\n",
      "../dataset_train_v1/0062Inhibitor Read in 0.70 s\n",
      "--> Mask 62 Read Complete, with dataset size: (3, 1, 80, 1000, 1000), 7 masks left ...\n",
      "\n",
      "../dataset_train_v1/0063Acid_ini Read in 0.97 s\n",
      "../dataset_train_v1/0063Inhibitor Read in 0.86 s\n",
      "--> Mask 63 Read Complete, with dataset size: (4, 1, 80, 1000, 1000), 6 masks left ...\n",
      "\n",
      "../dataset_train_v1/0064Acid_ini Read in 0.80 s\n",
      "../dataset_train_v1/0064Inhibitor Read in 0.73 s\n",
      "--> Mask 64 Read Complete, with dataset size: (5, 1, 80, 1000, 1000), 5 masks left ...\n",
      "\n",
      "../dataset_train_v1/0065Acid_ini Read in 0.85 s\n",
      "../dataset_train_v1/0065Inhibitor Read in 0.80 s\n",
      "--> Mask 65 Read Complete, with dataset size: (6, 1, 80, 1000, 1000), 4 masks left ...\n",
      "\n",
      "../dataset_train_v1/0066Acid_ini Read in 0.95 s\n",
      "../dataset_train_v1/0066Inhibitor Read in 0.93 s\n",
      "--> Mask 66 Read Complete, with dataset size: (7, 1, 80, 1000, 1000), 3 masks left ...\n",
      "\n",
      "../dataset_train_v1/0067Acid_ini Read in 0.69 s\n",
      "../dataset_train_v1/0067Inhibitor Read in 0.15 s\n",
      "--> Mask 67 Read Complete, with dataset size: (8, 1, 80, 1000, 1000), 2 masks left ...\n",
      "\n",
      "../dataset_train_v1/0068Acid_ini Read in 0.15 s\n",
      "../dataset_train_v1/0068Inhibitor Read in 0.16 s\n",
      "--> Mask 68 Read Complete, with dataset size: (9, 1, 80, 1000, 1000), 1 masks left ...\n",
      "\n",
      "../dataset_train_v1/0069Acid_ini Read in 0.15 s\n",
      "../dataset_train_v1/0069Inhibitor Read in 0.15 s\n"
     ]
    },
    {
     "name": "stderr",
     "output_type": "stream",
     "text": [
      "\r",
      " 88%|████████▊ | 7/8 [04:25<00:40, 40.81s/it]"
     ]
    },
    {
     "name": "stdout",
     "output_type": "stream",
     "text": [
      "--> Mask 69 Read Complete, with dataset size: (10, 1, 80, 1000, 1000), 0 masks left ...\n",
      "\n",
      "../dataset_train_v1/0070Acid_ini Read in 0.17 s\n",
      "../dataset_train_v1/0070Inhibitor Read in 0.17 s\n",
      "--> Mask 70 Read Complete, with dataset size: (1, 1, 80, 1000, 1000), 9 masks left ...\n",
      "\n",
      "../dataset_train_v1/0071Acid_ini Read in 0.15 s\n",
      "../dataset_train_v1/0071Inhibitor Read in 0.15 s\n",
      "--> Mask 71 Read Complete, with dataset size: (2, 1, 80, 1000, 1000), 8 masks left ...\n",
      "\n",
      "../dataset_train_v1/0072Acid_ini Read in 0.15 s\n",
      "../dataset_train_v1/0072Inhibitor Read in 0.16 s\n",
      "--> Mask 72 Read Complete, with dataset size: (3, 1, 80, 1000, 1000), 7 masks left ...\n",
      "\n",
      "../dataset_train_v1/0073Acid_ini Read in 0.15 s\n",
      "../dataset_train_v1/0073Inhibitor Read in 0.14 s\n",
      "--> Mask 73 Read Complete, with dataset size: (4, 1, 80, 1000, 1000), 6 masks left ...\n",
      "\n",
      "../dataset_train_v1/0074Acid_ini Read in 0.16 s\n",
      "../dataset_train_v1/0074Inhibitor Read in 0.16 s\n",
      "--> Mask 74 Read Complete, with dataset size: (5, 1, 80, 1000, 1000), 5 masks left ...\n",
      "\n",
      "../dataset_train_v1/0075Acid_ini Read in 0.15 s\n",
      "../dataset_train_v1/0075Inhibitor Read in 0.15 s\n",
      "--> Mask 75 Read Complete, with dataset size: (6, 1, 80, 1000, 1000), 4 masks left ...\n",
      "\n",
      "../dataset_train_v1/0076Acid_ini Read in 0.71 s\n",
      "../dataset_train_v1/0076Inhibitor Read in 0.71 s\n",
      "--> Mask 76 Read Complete, with dataset size: (7, 1, 80, 1000, 1000), 3 masks left ...\n",
      "\n",
      "../dataset_train_v1/0077Acid_ini Read in 0.71 s\n",
      "../dataset_train_v1/0077Inhibitor Read in 0.73 s\n",
      "--> Mask 77 Read Complete, with dataset size: (8, 1, 80, 1000, 1000), 2 masks left ...\n",
      "\n",
      "../dataset_train_v1/0078Acid_ini Read in 0.72 s\n",
      "../dataset_train_v1/0078Inhibitor Read in 0.71 s\n",
      "--> Mask 78 Read Complete, with dataset size: (9, 1, 80, 1000, 1000), 1 masks left ...\n",
      "\n",
      "../dataset_train_v1/0079Acid_ini Read in 0.69 s\n",
      "../dataset_train_v1/0079Inhibitor Read in 0.72 s\n"
     ]
    },
    {
     "name": "stderr",
     "output_type": "stream",
     "text": [
      "100%|██████████| 8/8 [05:08<00:00, 38.51s/it]\n"
     ]
    },
    {
     "name": "stdout",
     "output_type": "stream",
     "text": [
      "--> Mask 79 Read Complete, with dataset size: (10, 1, 80, 1000, 1000), 0 masks left ...\n",
      "\n"
     ]
    },
    {
     "name": "stderr",
     "output_type": "stream",
     "text": [
      "\r",
      "  0%|          | 0/2 [00:00<?, ?it/s]"
     ]
    },
    {
     "name": "stdout",
     "output_type": "stream",
     "text": [
      "../dataset_train_v1/0080Acid_ini Read in 0.72 s\n",
      "../dataset_train_v1/0080Inhibitor Read in 0.73 s\n",
      "--> Mask 80 Read Complete, with dataset size: (1, 1, 80, 1000, 1000), 9 masks left ...\n",
      "\n",
      "../dataset_train_v1/0081Acid_ini Read in 0.75 s\n",
      "../dataset_train_v1/0081Inhibitor Read in 0.89 s\n",
      "--> Mask 81 Read Complete, with dataset size: (2, 1, 80, 1000, 1000), 8 masks left ...\n",
      "\n",
      "../dataset_train_v1/0082Acid_ini Read in 0.51 s\n",
      "../dataset_train_v1/0082Inhibitor Read in 0.56 s\n",
      "--> Mask 82 Read Complete, with dataset size: (3, 1, 80, 1000, 1000), 7 masks left ...\n",
      "\n",
      "../dataset_train_v1/0083Acid_ini Read in 0.15 s\n",
      "../dataset_train_v1/0083Inhibitor Read in 0.15 s\n",
      "--> Mask 83 Read Complete, with dataset size: (4, 1, 80, 1000, 1000), 6 masks left ...\n",
      "\n",
      "../dataset_train_v1/0084Acid_ini Read in 0.75 s\n",
      "../dataset_train_v1/0084Inhibitor Read in 0.64 s\n",
      "--> Mask 84 Read Complete, with dataset size: (5, 1, 80, 1000, 1000), 5 masks left ...\n",
      "\n",
      "../dataset_train_v1/0085Acid_ini Read in 0.17 s\n",
      "../dataset_train_v1/0085Inhibitor Read in 0.17 s\n",
      "--> Mask 85 Read Complete, with dataset size: (6, 1, 80, 1000, 1000), 4 masks left ...\n",
      "\n",
      "../dataset_train_v1/0086Acid_ini Read in 0.74 s\n",
      "../dataset_train_v1/0086Inhibitor Read in 0.73 s\n",
      "--> Mask 86 Read Complete, with dataset size: (7, 1, 80, 1000, 1000), 3 masks left ...\n",
      "\n",
      "../dataset_train_v1/0087Acid_ini Read in 0.75 s\n",
      "../dataset_train_v1/0087Inhibitor Read in 0.71 s\n",
      "--> Mask 87 Read Complete, with dataset size: (8, 1, 80, 1000, 1000), 2 masks left ...\n",
      "\n",
      "../dataset_train_v1/0088Acid_ini Read in 0.73 s\n",
      "../dataset_train_v1/0088Inhibitor Read in 0.72 s\n",
      "--> Mask 88 Read Complete, with dataset size: (9, 1, 80, 1000, 1000), 1 masks left ...\n",
      "\n",
      "../dataset_train_v1/0089Acid_ini Read in 0.70 s\n",
      "../dataset_train_v1/0089Inhibitor Read in 0.72 s\n"
     ]
    },
    {
     "name": "stderr",
     "output_type": "stream",
     "text": [
      "\r",
      " 50%|█████     | 1/2 [00:46<00:46, 46.00s/it]"
     ]
    },
    {
     "name": "stdout",
     "output_type": "stream",
     "text": [
      "--> Mask 89 Read Complete, with dataset size: (10, 1, 80, 1000, 1000), 0 masks left ...\n",
      "\n",
      "../dataset_train_v1/0090Acid_ini Read in 0.70 s\n",
      "../dataset_train_v1/0090Inhibitor Read in 0.70 s\n",
      "--> Mask 90 Read Complete, with dataset size: (1, 1, 80, 1000, 1000), 9 masks left ...\n",
      "\n",
      "../dataset_train_v1/0091Acid_ini Read in 0.70 s\n",
      "../dataset_train_v1/0091Inhibitor Read in 0.69 s\n",
      "--> Mask 91 Read Complete, with dataset size: (2, 1, 80, 1000, 1000), 8 masks left ...\n",
      "\n",
      "../dataset_train_v1/0092Acid_ini Read in 0.71 s\n",
      "../dataset_train_v1/0092Inhibitor Read in 0.75 s\n",
      "--> Mask 92 Read Complete, with dataset size: (3, 1, 80, 1000, 1000), 7 masks left ...\n",
      "\n",
      "../dataset_train_v1/0093Acid_ini Read in 0.77 s\n",
      "../dataset_train_v1/0093Inhibitor Read in 0.69 s\n",
      "--> Mask 93 Read Complete, with dataset size: (4, 1, 80, 1000, 1000), 6 masks left ...\n",
      "\n",
      "../dataset_train_v1/0094Acid_ini Read in 0.75 s\n",
      "../dataset_train_v1/0094Inhibitor Read in 0.71 s\n",
      "--> Mask 94 Read Complete, with dataset size: (5, 1, 80, 1000, 1000), 5 masks left ...\n",
      "\n",
      "../dataset_train_v1/0095Acid_ini Read in 0.74 s\n",
      "../dataset_train_v1/0095Inhibitor Read in 0.71 s\n",
      "--> Mask 95 Read Complete, with dataset size: (6, 1, 80, 1000, 1000), 4 masks left ...\n",
      "\n",
      "../dataset_train_v1/0096Acid_ini Read in 0.70 s\n",
      "../dataset_train_v1/0096Inhibitor Read in 0.70 s\n",
      "--> Mask 96 Read Complete, with dataset size: (7, 1, 80, 1000, 1000), 3 masks left ...\n",
      "\n",
      "../dataset_train_v1/0097Acid_ini Read in 0.73 s\n",
      "../dataset_train_v1/0097Inhibitor Read in 0.68 s\n",
      "--> Mask 97 Read Complete, with dataset size: (8, 1, 80, 1000, 1000), 2 masks left ...\n",
      "\n",
      "../dataset_train_v1/0098Acid_ini Read in 0.73 s\n",
      "../dataset_train_v1/0098Inhibitor Read in 0.72 s\n",
      "--> Mask 98 Read Complete, with dataset size: (9, 1, 80, 1000, 1000), 1 masks left ...\n",
      "\n",
      "../dataset_train_v1/0099Acid_ini Read in 0.73 s\n",
      "../dataset_train_v1/0099Inhibitor Read in 0.69 s\n"
     ]
    },
    {
     "name": "stderr",
     "output_type": "stream",
     "text": [
      "100%|██████████| 2/2 [01:32<00:00, 46.32s/it]"
     ]
    },
    {
     "name": "stdout",
     "output_type": "stream",
     "text": [
      "--> Mask 99 Read Complete, with dataset size: (10, 1, 80, 1000, 1000), 0 masks left ...\n",
      "\n"
     ]
    },
    {
     "name": "stderr",
     "output_type": "stream",
     "text": [
      "\n"
     ]
    }
   ],
   "source": [
    "dataset_train = dataset_append(opt, opt.dataidx_train, res_trans)\n",
    "dataset_test = dataset_append(opt, opt.dataidx_test, res_trans) "
   ]
  },
  {
   "cell_type": "code",
   "execution_count": 5,
   "metadata": {},
   "outputs": [],
   "source": [
    "def opt_strategy(model, opt):\n",
    "    LR = 1e-3\n",
    "    optimizer = torch.optim.Adam(model.parameters(), lr=LR,)# weight_decay=1e-4)\n",
    "    scheduler = None\n",
    "    #scheduler = torch.optim.lr_scheduler.CosineAnnealingLR(optimizer, T_max=100, eta_min=1e-4)\n",
    "    scheduler = torch.optim.lr_scheduler.StepLR(optimizer, step_size=100, gamma=0.8)\n",
    "    return optimizer, scheduler "
   ]
  },
  {
   "cell_type": "code",
   "execution_count": 6,
   "metadata": {
    "collapsed": true
   },
   "outputs": [
    {
     "name": "stderr",
     "output_type": "stream",
     "text": [
      "  0%|          | 1/1500 [02:30<62:36:04, 150.34s/it]"
     ]
    },
    {
     "name": "stdout",
     "output_type": "stream",
     "text": [
      "Epoch 0 | LR: 1.00e-03 | Train Loss: 6.22e-02 | Test Loss: 1.54e+01, 4.72e-02, 97.12%\n"
     ]
    },
    {
     "name": "stderr",
     "output_type": "stream",
     "text": [
      "  1%|▏         | 21/1500 [28:24<33:11:08, 80.78s/it]"
     ]
    },
    {
     "name": "stdout",
     "output_type": "stream",
     "text": [
      "Epoch 20 | LR: 1.00e-03 | Train Loss: 4.46e-03 | Test Loss: 1.82e+01, 7.45e-02, 98.85%\n"
     ]
    },
    {
     "name": "stderr",
     "output_type": "stream",
     "text": [
      "  3%|▎         | 41/1500 [54:36<32:32:47, 80.31s/it]"
     ]
    },
    {
     "name": "stdout",
     "output_type": "stream",
     "text": [
      "Epoch 40 | LR: 1.00e-03 | Train Loss: 8.16e-03 | Test Loss: 2.11e+01, 7.04e-02, 99.75%\n"
     ]
    },
    {
     "name": "stderr",
     "output_type": "stream",
     "text": [
      "  4%|▍         | 61/1500 [1:20:31<32:09:37, 80.46s/it]"
     ]
    },
    {
     "name": "stdout",
     "output_type": "stream",
     "text": [
      "Epoch 60 | LR: 1.00e-03 | Train Loss: 6.40e-03 | Test Loss: 2.11e+01, 6.13e-02, 99.75%\n"
     ]
    },
    {
     "name": "stderr",
     "output_type": "stream",
     "text": [
      "  5%|▌         | 81/1500 [1:46:33<31:20:30, 79.51s/it]"
     ]
    },
    {
     "name": "stdout",
     "output_type": "stream",
     "text": [
      "Epoch 80 | LR: 1.00e-03 | Train Loss: 7.51e-03 | Test Loss: 2.10e+01, 6.79e-02, 99.68%\n"
     ]
    },
    {
     "name": "stderr",
     "output_type": "stream",
     "text": [
      "  7%|▋         | 101/1500 [2:12:23<31:08:58, 80.16s/it]"
     ]
    },
    {
     "name": "stdout",
     "output_type": "stream",
     "text": [
      "Epoch 100 | LR: 7.00e-04 | Train Loss: 4.75e-03 | Test Loss: 1.99e+01, 7.07e-02, 99.39%\n"
     ]
    },
    {
     "name": "stderr",
     "output_type": "stream",
     "text": [
      "  8%|▊         | 121/1500 [2:38:18<30:30:18, 79.64s/it]"
     ]
    },
    {
     "name": "stdout",
     "output_type": "stream",
     "text": [
      "Epoch 120 | LR: 7.00e-04 | Train Loss: 1.61e-03 | Test Loss: 1.84e+01, 8.56e-02, 98.54%\n"
     ]
    },
    {
     "name": "stderr",
     "output_type": "stream",
     "text": [
      "  9%|▉         | 141/1500 [3:04:10<30:08:11, 79.83s/it]"
     ]
    },
    {
     "name": "stdout",
     "output_type": "stream",
     "text": [
      "Epoch 140 | LR: 7.00e-04 | Train Loss: 5.04e-03 | Test Loss: 1.72e+01, 5.07e-02, 97.35%\n"
     ]
    },
    {
     "name": "stderr",
     "output_type": "stream",
     "text": [
      " 11%|█         | 161/1500 [3:30:02<29:48:07, 80.13s/it]"
     ]
    },
    {
     "name": "stdout",
     "output_type": "stream",
     "text": [
      "Epoch 160 | LR: 7.00e-04 | Train Loss: 3.35e-03 | Test Loss: 1.69e+01, 5.18e-02, 96.76%\n"
     ]
    },
    {
     "name": "stderr",
     "output_type": "stream",
     "text": [
      " 12%|█▏        | 181/1500 [3:56:12<29:11:05, 79.66s/it]"
     ]
    },
    {
     "name": "stdout",
     "output_type": "stream",
     "text": [
      "Epoch 180 | LR: 7.00e-04 | Train Loss: 4.66e-03 | Test Loss: 1.66e+01, 7.86e-02, 95.97%\n"
     ]
    },
    {
     "name": "stderr",
     "output_type": "stream",
     "text": [
      " 13%|█▎        | 201/1500 [4:22:06<28:51:30, 79.98s/it]"
     ]
    },
    {
     "name": "stdout",
     "output_type": "stream",
     "text": [
      "Epoch 200 | LR: 4.90e-04 | Train Loss: 2.39e-03 | Test Loss: 1.58e+01, 6.90e-02, 94.97%\n"
     ]
    },
    {
     "name": "stderr",
     "output_type": "stream",
     "text": [
      " 15%|█▍        | 221/1500 [4:48:08<28:17:21, 79.63s/it]"
     ]
    },
    {
     "name": "stdout",
     "output_type": "stream",
     "text": [
      "Epoch 220 | LR: 4.90e-04 | Train Loss: 1.22e-03 | Test Loss: 1.50e+01, 5.36e-02, 93.56%\n"
     ]
    },
    {
     "name": "stderr",
     "output_type": "stream",
     "text": [
      " 16%|█▌        | 241/1500 [5:14:01<28:03:06, 80.21s/it]"
     ]
    },
    {
     "name": "stdout",
     "output_type": "stream",
     "text": [
      "Epoch 240 | LR: 4.90e-04 | Train Loss: 3.34e-03 | Test Loss: 1.42e+01, 5.41e-02, 89.55%\n"
     ]
    },
    {
     "name": "stderr",
     "output_type": "stream",
     "text": [
      " 17%|█▋        | 261/1500 [5:39:48<27:16:45, 79.26s/it]"
     ]
    },
    {
     "name": "stdout",
     "output_type": "stream",
     "text": [
      "Epoch 260 | LR: 4.90e-04 | Train Loss: 3.85e-03 | Test Loss: 1.31e+01, 5.24e-02, 86.98%\n"
     ]
    },
    {
     "name": "stderr",
     "output_type": "stream",
     "text": [
      " 19%|█▊        | 281/1500 [6:05:43<26:45:04, 79.00s/it]"
     ]
    },
    {
     "name": "stdout",
     "output_type": "stream",
     "text": [
      "Epoch 280 | LR: 4.90e-04 | Train Loss: 1.65e-03 | Test Loss: 1.22e+01, 3.53e-02, 83.97%\n"
     ]
    },
    {
     "name": "stderr",
     "output_type": "stream",
     "text": [
      " 20%|██        | 301/1500 [6:31:19<26:15:59, 78.87s/it]"
     ]
    },
    {
     "name": "stdout",
     "output_type": "stream",
     "text": [
      "Epoch 300 | LR: 3.43e-04 | Train Loss: 8.86e-04 | Test Loss: 1.23e+01, 5.58e-02, 81.31%\n"
     ]
    },
    {
     "name": "stderr",
     "output_type": "stream",
     "text": [
      " 21%|██▏       | 321/1500 [6:57:03<25:48:48, 78.82s/it]"
     ]
    },
    {
     "name": "stdout",
     "output_type": "stream",
     "text": [
      "Epoch 320 | LR: 3.43e-04 | Train Loss: 7.34e-04 | Test Loss: 1.23e+01, 6.00e-02, 79.80%\n"
     ]
    },
    {
     "name": "stderr",
     "output_type": "stream",
     "text": [
      " 23%|██▎       | 341/1500 [7:24:06<29:24:09, 91.33s/it]"
     ]
    },
    {
     "name": "stdout",
     "output_type": "stream",
     "text": [
      "Epoch 340 | LR: 3.43e-04 | Train Loss: 2.64e-03 | Test Loss: 1.20e+01, 5.20e-02, 78.78%\n"
     ]
    },
    {
     "name": "stderr",
     "output_type": "stream",
     "text": [
      " 24%|██▍       | 361/1500 [7:49:32<24:47:29, 78.36s/it]"
     ]
    },
    {
     "name": "stdout",
     "output_type": "stream",
     "text": [
      "Epoch 360 | LR: 3.43e-04 | Train Loss: 2.26e-03 | Test Loss: 1.19e+01, 4.44e-02, 77.76%\n"
     ]
    },
    {
     "name": "stderr",
     "output_type": "stream",
     "text": [
      " 25%|██▌       | 381/1500 [8:16:39<24:42:52, 79.51s/it]"
     ]
    },
    {
     "name": "stdout",
     "output_type": "stream",
     "text": [
      "Epoch 380 | LR: 3.43e-04 | Train Loss: 2.26e-03 | Test Loss: 1.18e+01, 5.23e-02, 76.78%\n"
     ]
    },
    {
     "name": "stderr",
     "output_type": "stream",
     "text": [
      " 27%|██▋       | 401/1500 [8:42:10<23:53:26, 78.26s/it]"
     ]
    },
    {
     "name": "stdout",
     "output_type": "stream",
     "text": [
      "Epoch 400 | LR: 2.40e-04 | Train Loss: 2.47e-03 | Test Loss: 1.17e+01, 4.83e-02, 75.90%\n"
     ]
    },
    {
     "name": "stderr",
     "output_type": "stream",
     "text": [
      " 28%|██▊       | 421/1500 [9:07:45<23:40:20, 78.98s/it]"
     ]
    },
    {
     "name": "stdout",
     "output_type": "stream",
     "text": [
      "Epoch 420 | LR: 2.40e-04 | Train Loss: 6.06e-04 | Test Loss: 1.15e+01, 5.69e-02, 75.24%\n"
     ]
    },
    {
     "name": "stderr",
     "output_type": "stream",
     "text": [
      " 29%|██▉       | 441/1500 [9:37:15<29:15:55, 99.49s/it] "
     ]
    },
    {
     "name": "stdout",
     "output_type": "stream",
     "text": [
      "Epoch 440 | LR: 2.40e-04 | Train Loss: 6.12e-04 | Test Loss: 1.16e+01, 4.92e-02, 74.67%\n"
     ]
    },
    {
     "name": "stderr",
     "output_type": "stream",
     "text": [
      " 31%|███       | 461/1500 [10:02:47<23:13:02, 80.45s/it]"
     ]
    },
    {
     "name": "stdout",
     "output_type": "stream",
     "text": [
      "Epoch 460 | LR: 2.40e-04 | Train Loss: 1.20e-03 | Test Loss: 1.15e+01, 3.65e-02, 73.85%\n"
     ]
    },
    {
     "name": "stderr",
     "output_type": "stream",
     "text": [
      " 32%|███▏      | 481/1500 [10:28:29<22:21:35, 78.99s/it]"
     ]
    },
    {
     "name": "stdout",
     "output_type": "stream",
     "text": [
      "Epoch 480 | LR: 2.40e-04 | Train Loss: 5.60e-04 | Test Loss: 1.16e+01, 5.49e-02, 73.26%\n"
     ]
    },
    {
     "name": "stderr",
     "output_type": "stream",
     "text": [
      " 33%|███▎      | 501/1500 [10:54:05<21:53:26, 78.89s/it]"
     ]
    },
    {
     "name": "stdout",
     "output_type": "stream",
     "text": [
      "Epoch 500 | LR: 1.68e-04 | Train Loss: 9.33e-04 | Test Loss: 1.13e+01, 5.91e-02, 72.60%\n"
     ]
    },
    {
     "name": "stderr",
     "output_type": "stream",
     "text": [
      " 35%|███▍      | 521/1500 [11:19:43<21:27:39, 78.92s/it]"
     ]
    },
    {
     "name": "stdout",
     "output_type": "stream",
     "text": [
      "Epoch 520 | LR: 1.68e-04 | Train Loss: 2.65e-03 | Test Loss: 1.07e+01, 4.31e-02, 72.11%\n"
     ]
    },
    {
     "name": "stderr",
     "output_type": "stream",
     "text": [
      " 36%|███▌      | 541/1500 [11:45:22<21:07:10, 79.28s/it]"
     ]
    },
    {
     "name": "stdout",
     "output_type": "stream",
     "text": [
      "Epoch 540 | LR: 1.68e-04 | Train Loss: 2.64e-03 | Test Loss: 1.09e+01, 4.62e-02, 71.60%\n"
     ]
    },
    {
     "name": "stderr",
     "output_type": "stream",
     "text": [
      " 37%|███▋      | 561/1500 [12:10:57<20:33:45, 78.83s/it]"
     ]
    },
    {
     "name": "stdout",
     "output_type": "stream",
     "text": [
      "Epoch 560 | LR: 1.68e-04 | Train Loss: 2.00e-03 | Test Loss: 1.07e+01, 4.17e-02, 70.90%\n"
     ]
    },
    {
     "name": "stderr",
     "output_type": "stream",
     "text": [
      " 39%|███▊      | 581/1500 [12:36:32<20:07:50, 78.86s/it]"
     ]
    },
    {
     "name": "stdout",
     "output_type": "stream",
     "text": [
      "Epoch 580 | LR: 1.68e-04 | Train Loss: 1.54e-03 | Test Loss: 1.07e+01, 4.73e-02, 67.99%\n"
     ]
    },
    {
     "name": "stderr",
     "output_type": "stream",
     "text": [
      " 40%|████      | 601/1500 [13:02:06<19:41:34, 78.86s/it]"
     ]
    },
    {
     "name": "stdout",
     "output_type": "stream",
     "text": [
      "Epoch 600 | LR: 1.18e-04 | Train Loss: 4.63e-04 | Test Loss: 1.02e+01, 3.99e-02, 65.26%\n"
     ]
    },
    {
     "name": "stderr",
     "output_type": "stream",
     "text": [
      " 41%|████▏     | 621/1500 [13:27:41<19:15:18, 78.86s/it]"
     ]
    },
    {
     "name": "stdout",
     "output_type": "stream",
     "text": [
      "Epoch 620 | LR: 1.18e-04 | Train Loss: 4.73e-04 | Test Loss: 1.06e+01, 3.19e-02, 64.55%\n"
     ]
    },
    {
     "name": "stderr",
     "output_type": "stream",
     "text": [
      " 43%|████▎     | 641/1500 [13:53:15<18:49:48, 78.92s/it]"
     ]
    },
    {
     "name": "stdout",
     "output_type": "stream",
     "text": [
      "Epoch 640 | LR: 1.18e-04 | Train Loss: 1.39e-03 | Test Loss: 1.01e+01, 4.50e-02, 64.31%\n"
     ]
    },
    {
     "name": "stderr",
     "output_type": "stream",
     "text": [
      " 44%|████▍     | 661/1500 [14:18:54<18:28:01, 79.24s/it]"
     ]
    },
    {
     "name": "stdout",
     "output_type": "stream",
     "text": [
      "Epoch 660 | LR: 1.18e-04 | Train Loss: 1.55e-03 | Test Loss: 1.05e+01, 4.41e-02, 64.41%\n"
     ]
    },
    {
     "name": "stderr",
     "output_type": "stream",
     "text": [
      " 45%|████▌     | 681/1500 [14:44:36<18:01:02, 79.20s/it]"
     ]
    },
    {
     "name": "stdout",
     "output_type": "stream",
     "text": [
      "Epoch 680 | LR: 1.18e-04 | Train Loss: 9.02e-04 | Test Loss: 1.04e+01, 3.89e-02, 64.15%\n"
     ]
    },
    {
     "name": "stderr",
     "output_type": "stream",
     "text": [
      " 47%|████▋     | 701/1500 [15:10:16<17:33:22, 79.10s/it]"
     ]
    },
    {
     "name": "stdout",
     "output_type": "stream",
     "text": [
      "Epoch 700 | LR: 8.24e-05 | Train Loss: 9.65e-04 | Test Loss: 1.02e+01, 4.64e-02, 64.24%\n"
     ]
    },
    {
     "name": "stderr",
     "output_type": "stream",
     "text": [
      " 48%|████▊     | 721/1500 [15:36:05<17:10:58, 79.41s/it]"
     ]
    },
    {
     "name": "stdout",
     "output_type": "stream",
     "text": [
      "Epoch 720 | LR: 8.24e-05 | Train Loss: 2.03e-03 | Test Loss: 1.03e+01, 3.56e-02, 64.11%\n"
     ]
    },
    {
     "name": "stderr",
     "output_type": "stream",
     "text": [
      " 49%|████▉     | 741/1500 [16:01:50<16:45:47, 79.51s/it]"
     ]
    },
    {
     "name": "stdout",
     "output_type": "stream",
     "text": [
      "Epoch 740 | LR: 8.24e-05 | Train Loss: 4.57e-04 | Test Loss: 1.04e+01, 4.52e-02, 64.05%\n"
     ]
    },
    {
     "name": "stderr",
     "output_type": "stream",
     "text": [
      " 51%|█████     | 761/1500 [16:27:38<16:17:57, 79.40s/it]"
     ]
    },
    {
     "name": "stdout",
     "output_type": "stream",
     "text": [
      "Epoch 760 | LR: 8.24e-05 | Train Loss: 1.95e-03 | Test Loss: 1.01e+01, 3.81e-02, 64.10%\n"
     ]
    },
    {
     "name": "stderr",
     "output_type": "stream",
     "text": [
      " 52%|█████▏    | 781/1500 [16:53:27<15:52:46, 79.51s/it]"
     ]
    },
    {
     "name": "stdout",
     "output_type": "stream",
     "text": [
      "Epoch 780 | LR: 8.24e-05 | Train Loss: 4.87e-04 | Test Loss: 1.05e+01, 5.60e-02, 64.18%\n"
     ]
    },
    {
     "name": "stderr",
     "output_type": "stream",
     "text": [
      " 53%|█████▎    | 801/1500 [17:19:12<15:24:21, 79.34s/it]"
     ]
    },
    {
     "name": "stdout",
     "output_type": "stream",
     "text": [
      "Epoch 800 | LR: 5.76e-05 | Train Loss: 6.81e-04 | Test Loss: 1.05e+01, 5.03e-02, 64.14%\n"
     ]
    },
    {
     "name": "stderr",
     "output_type": "stream",
     "text": [
      " 55%|█████▍    | 821/1500 [17:44:58<14:58:46, 79.42s/it]"
     ]
    },
    {
     "name": "stdout",
     "output_type": "stream",
     "text": [
      "Epoch 820 | LR: 5.76e-05 | Train Loss: 3.59e-04 | Test Loss: 1.07e+01, 3.92e-02, 64.09%\n"
     ]
    },
    {
     "name": "stderr",
     "output_type": "stream",
     "text": [
      " 56%|█████▌    | 841/1500 [18:10:44<14:31:58, 79.39s/it]"
     ]
    },
    {
     "name": "stdout",
     "output_type": "stream",
     "text": [
      "Epoch 840 | LR: 5.76e-05 | Train Loss: 5.59e-04 | Test Loss: 1.06e+01, 4.63e-02, 64.02%\n"
     ]
    },
    {
     "name": "stderr",
     "output_type": "stream",
     "text": [
      " 57%|█████▋    | 861/1500 [18:36:30<14:04:49, 79.33s/it]"
     ]
    },
    {
     "name": "stdout",
     "output_type": "stream",
     "text": [
      "Epoch 860 | LR: 5.76e-05 | Train Loss: 2.26e-03 | Test Loss: 1.03e+01, 4.55e-02, 64.08%\n"
     ]
    },
    {
     "name": "stderr",
     "output_type": "stream",
     "text": [
      " 59%|█████▊    | 881/1500 [19:02:13<13:36:52, 79.18s/it]"
     ]
    },
    {
     "name": "stdout",
     "output_type": "stream",
     "text": [
      "Epoch 880 | LR: 5.76e-05 | Train Loss: 1.04e-03 | Test Loss: 1.02e+01, 3.66e-02, 64.06%\n"
     ]
    },
    {
     "name": "stderr",
     "output_type": "stream",
     "text": [
      " 60%|██████    | 901/1500 [19:27:57<13:11:30, 79.28s/it]"
     ]
    },
    {
     "name": "stdout",
     "output_type": "stream",
     "text": [
      "Epoch 900 | LR: 4.04e-05 | Train Loss: 5.58e-04 | Test Loss: 1.03e+01, 4.33e-02, 64.06%\n"
     ]
    },
    {
     "name": "stderr",
     "output_type": "stream",
     "text": [
      " 61%|██████▏   | 921/1500 [19:53:43<12:45:02, 79.28s/it]"
     ]
    },
    {
     "name": "stdout",
     "output_type": "stream",
     "text": [
      "Epoch 920 | LR: 4.04e-05 | Train Loss: 5.35e-04 | Test Loss: 1.03e+01, 4.67e-02, 63.91%\n"
     ]
    },
    {
     "name": "stderr",
     "output_type": "stream",
     "text": [
      " 63%|██████▎   | 941/1500 [20:19:28<12:19:24, 79.36s/it]"
     ]
    },
    {
     "name": "stdout",
     "output_type": "stream",
     "text": [
      "Epoch 940 | LR: 4.04e-05 | Train Loss: 6.74e-04 | Test Loss: 1.01e+01, 3.55e-02, 63.91%\n"
     ]
    },
    {
     "name": "stderr",
     "output_type": "stream",
     "text": [
      " 64%|██████▍   | 961/1500 [20:45:13<11:52:25, 79.31s/it]"
     ]
    },
    {
     "name": "stdout",
     "output_type": "stream",
     "text": [
      "Epoch 960 | LR: 4.04e-05 | Train Loss: 4.73e-04 | Test Loss: 1.02e+01, 3.98e-02, 64.05%\n"
     ]
    },
    {
     "name": "stderr",
     "output_type": "stream",
     "text": [
      " 65%|██████▌   | 981/1500 [21:11:03<11:29:11, 79.67s/it]"
     ]
    },
    {
     "name": "stdout",
     "output_type": "stream",
     "text": [
      "Epoch 980 | LR: 4.04e-05 | Train Loss: 5.61e-04 | Test Loss: 1.06e+01, 4.46e-02, 63.98%\n"
     ]
    },
    {
     "name": "stderr",
     "output_type": "stream",
     "text": [
      " 67%|██████▋   | 1001/1500 [21:37:02<11:05:57, 80.08s/it]"
     ]
    },
    {
     "name": "stdout",
     "output_type": "stream",
     "text": [
      "Epoch 1000 | LR: 2.82e-05 | Train Loss: 1.14e-03 | Test Loss: 1.03e+01, 3.88e-02, 63.91%\n"
     ]
    },
    {
     "name": "stderr",
     "output_type": "stream",
     "text": [
      " 68%|██████▊   | 1021/1500 [22:03:05<10:40:36, 80.24s/it]"
     ]
    },
    {
     "name": "stdout",
     "output_type": "stream",
     "text": [
      "Epoch 1020 | LR: 2.82e-05 | Train Loss: 1.09e-03 | Test Loss: 1.06e+01, 4.53e-02, 63.95%\n"
     ]
    },
    {
     "name": "stderr",
     "output_type": "stream",
     "text": [
      " 69%|██████▉   | 1041/1500 [22:37:50<14:29:34, 113.67s/it]"
     ]
    },
    {
     "name": "stdout",
     "output_type": "stream",
     "text": [
      "Epoch 1040 | LR: 2.82e-05 | Train Loss: 2.15e-03 | Test Loss: 1.04e+01, 4.87e-02, 63.93%\n"
     ]
    },
    {
     "name": "stderr",
     "output_type": "stream",
     "text": [
      " 71%|███████   | 1061/1500 [23:14:55<13:50:32, 113.51s/it]"
     ]
    },
    {
     "name": "stdout",
     "output_type": "stream",
     "text": [
      "Epoch 1060 | LR: 2.82e-05 | Train Loss: 3.50e-04 | Test Loss: 1.04e+01, 3.93e-02, 63.92%\n"
     ]
    },
    {
     "name": "stderr",
     "output_type": "stream",
     "text": [
      " 72%|███████▏  | 1081/1500 [23:52:00<13:11:50, 113.39s/it]"
     ]
    },
    {
     "name": "stdout",
     "output_type": "stream",
     "text": [
      "Epoch 1080 | LR: 2.82e-05 | Train Loss: 4.63e-04 | Test Loss: 1.06e+01, 4.26e-02, 63.99%\n"
     ]
    },
    {
     "name": "stderr",
     "output_type": "stream",
     "text": [
      " 73%|███████▎  | 1101/1500 [24:29:09<12:42:07, 114.60s/it]"
     ]
    },
    {
     "name": "stdout",
     "output_type": "stream",
     "text": [
      "Epoch 1100 | LR: 1.98e-05 | Train Loss: 6.89e-04 | Test Loss: 1.00e+01, 3.38e-02, 63.90%\n"
     ]
    },
    {
     "name": "stderr",
     "output_type": "stream",
     "text": [
      " 75%|███████▍  | 1121/1500 [25:25:36<19:37:16, 186.38s/it]"
     ]
    },
    {
     "name": "stdout",
     "output_type": "stream",
     "text": [
      "Epoch 1120 | LR: 1.98e-05 | Train Loss: 3.47e-04 | Test Loss: 1.04e+01, 4.53e-02, 63.93%\n"
     ]
    },
    {
     "name": "stderr",
     "output_type": "stream",
     "text": [
      " 76%|███████▌  | 1141/1500 [26:23:59<17:41:14, 177.37s/it]"
     ]
    },
    {
     "name": "stdout",
     "output_type": "stream",
     "text": [
      "Epoch 1140 | LR: 1.98e-05 | Train Loss: 2.06e-03 | Test Loss: 1.05e+01, 3.94e-02, 63.90%\n"
     ]
    },
    {
     "name": "stderr",
     "output_type": "stream",
     "text": [
      " 77%|███████▋  | 1161/1500 [27:23:29<17:10:50, 182.45s/it]"
     ]
    },
    {
     "name": "stdout",
     "output_type": "stream",
     "text": [
      "Epoch 1160 | LR: 1.98e-05 | Train Loss: 8.77e-04 | Test Loss: 1.02e+01, 4.08e-02, 63.96%\n"
     ]
    },
    {
     "name": "stderr",
     "output_type": "stream",
     "text": [
      " 79%|███████▊  | 1181/1500 [28:25:25<16:18:29, 184.04s/it]"
     ]
    },
    {
     "name": "stdout",
     "output_type": "stream",
     "text": [
      "Epoch 1180 | LR: 1.98e-05 | Train Loss: 1.25e-03 | Test Loss: 1.01e+01, 4.34e-02, 63.85%\n"
     ]
    },
    {
     "name": "stderr",
     "output_type": "stream",
     "text": [
      " 80%|████████  | 1201/1500 [29:08:55<9:32:56, 114.97s/it] "
     ]
    },
    {
     "name": "stdout",
     "output_type": "stream",
     "text": [
      "Epoch 1200 | LR: 1.38e-05 | Train Loss: 1.98e-03 | Test Loss: 1.02e+01, 4.63e-02, 63.95%\n"
     ]
    },
    {
     "name": "stderr",
     "output_type": "stream",
     "text": [
      " 81%|████████▏ | 1221/1500 [29:46:03<8:48:20, 113.62s/it]"
     ]
    },
    {
     "name": "stdout",
     "output_type": "stream",
     "text": [
      "Epoch 1220 | LR: 1.38e-05 | Train Loss: 5.76e-04 | Test Loss: 1.01e+01, 4.40e-02, 63.78%\n"
     ]
    },
    {
     "name": "stderr",
     "output_type": "stream",
     "text": [
      " 83%|████████▎ | 1241/1500 [30:23:05<8:09:25, 113.38s/it]"
     ]
    },
    {
     "name": "stdout",
     "output_type": "stream",
     "text": [
      "Epoch 1240 | LR: 1.38e-05 | Train Loss: 1.44e-03 | Test Loss: 9.84e+00, 3.35e-02, 63.83%\n"
     ]
    },
    {
     "name": "stderr",
     "output_type": "stream",
     "text": [
      " 84%|████████▍ | 1261/1500 [31:00:07<7:31:53, 113.45s/it]"
     ]
    },
    {
     "name": "stdout",
     "output_type": "stream",
     "text": [
      "Epoch 1260 | LR: 1.38e-05 | Train Loss: 1.08e-03 | Test Loss: 1.04e+01, 3.14e-02, 63.81%\n"
     ]
    },
    {
     "name": "stderr",
     "output_type": "stream",
     "text": [
      " 85%|████████▌ | 1281/1500 [31:37:08<6:53:53, 113.39s/it]"
     ]
    },
    {
     "name": "stdout",
     "output_type": "stream",
     "text": [
      "Epoch 1280 | LR: 1.38e-05 | Train Loss: 1.42e-03 | Test Loss: 1.05e+01, 4.48e-02, 63.88%\n"
     ]
    },
    {
     "name": "stderr",
     "output_type": "stream",
     "text": [
      " 87%|████████▋ | 1301/1500 [32:14:12<6:16:27, 113.50s/it]"
     ]
    },
    {
     "name": "stdout",
     "output_type": "stream",
     "text": [
      "Epoch 1300 | LR: 9.69e-06 | Train Loss: 1.60e-03 | Test Loss: 1.03e+01, 3.24e-02, 63.86%\n"
     ]
    },
    {
     "name": "stderr",
     "output_type": "stream",
     "text": [
      " 88%|████████▊ | 1321/1500 [32:51:15<5:37:38, 113.17s/it]"
     ]
    },
    {
     "name": "stdout",
     "output_type": "stream",
     "text": [
      "Epoch 1320 | LR: 9.69e-06 | Train Loss: 4.68e-04 | Test Loss: 1.07e+01, 5.49e-02, 63.91%\n"
     ]
    },
    {
     "name": "stderr",
     "output_type": "stream",
     "text": [
      " 89%|████████▉ | 1341/1500 [33:27:39<4:33:18, 103.13s/it]"
     ]
    },
    {
     "name": "stdout",
     "output_type": "stream",
     "text": [
      "Epoch 1340 | LR: 9.69e-06 | Train Loss: 1.14e-03 | Test Loss: 1.03e+01, 3.44e-02, 64.05%\n"
     ]
    },
    {
     "name": "stderr",
     "output_type": "stream",
     "text": [
      " 91%|█████████ | 1361/1500 [33:53:24<3:03:50, 79.35s/it] "
     ]
    },
    {
     "name": "stdout",
     "output_type": "stream",
     "text": [
      "Epoch 1360 | LR: 9.69e-06 | Train Loss: 1.03e-03 | Test Loss: 1.11e+01, 5.46e-02, 63.91%\n"
     ]
    },
    {
     "name": "stderr",
     "output_type": "stream",
     "text": [
      " 92%|█████████▏| 1381/1500 [34:19:10<2:37:27, 79.39s/it]"
     ]
    },
    {
     "name": "stdout",
     "output_type": "stream",
     "text": [
      "Epoch 1380 | LR: 9.69e-06 | Train Loss: 8.80e-04 | Test Loss: 1.02e+01, 4.26e-02, 63.81%\n"
     ]
    },
    {
     "name": "stderr",
     "output_type": "stream",
     "text": [
      " 93%|█████████▎| 1401/1500 [34:44:55<2:11:04, 79.44s/it]"
     ]
    },
    {
     "name": "stdout",
     "output_type": "stream",
     "text": [
      "Epoch 1400 | LR: 6.78e-06 | Train Loss: 1.74e-03 | Test Loss: 9.92e+00, 3.50e-02, 63.91%\n"
     ]
    },
    {
     "name": "stderr",
     "output_type": "stream",
     "text": [
      " 95%|█████████▍| 1421/1500 [35:10:40<1:44:28, 79.35s/it]"
     ]
    },
    {
     "name": "stdout",
     "output_type": "stream",
     "text": [
      "Epoch 1420 | LR: 6.78e-06 | Train Loss: 1.98e-03 | Test Loss: 1.04e+01, 4.63e-02, 63.83%\n"
     ]
    },
    {
     "name": "stderr",
     "output_type": "stream",
     "text": [
      " 96%|█████████▌| 1441/1500 [35:36:25<1:18:00, 79.34s/it]"
     ]
    },
    {
     "name": "stdout",
     "output_type": "stream",
     "text": [
      "Epoch 1440 | LR: 6.78e-06 | Train Loss: 7.73e-04 | Test Loss: 1.03e+01, 4.71e-02, 63.77%\n"
     ]
    },
    {
     "name": "stderr",
     "output_type": "stream",
     "text": [
      " 97%|█████████▋| 1461/1500 [36:02:10<51:35, 79.36s/it]  "
     ]
    },
    {
     "name": "stdout",
     "output_type": "stream",
     "text": [
      "Epoch 1460 | LR: 6.78e-06 | Train Loss: 6.64e-04 | Test Loss: 1.03e+01, 4.18e-02, 63.83%\n"
     ]
    },
    {
     "name": "stderr",
     "output_type": "stream",
     "text": [
      " 99%|█████████▊| 1481/1500 [36:27:55<25:07, 79.33s/it]"
     ]
    },
    {
     "name": "stdout",
     "output_type": "stream",
     "text": [
      "Epoch 1480 | LR: 6.78e-06 | Train Loss: 5.41e-04 | Test Loss: 1.05e+01, 5.52e-02, 63.98%\n"
     ]
    },
    {
     "name": "stderr",
     "output_type": "stream",
     "text": [
      "100%|██████████| 1500/1500 [36:52:14<00:00, 88.49s/it]\n"
     ]
    }
   ],
   "source": [
    "TotLoss = nn.MSELoss()\n",
    "opt.epochs = 1500\n",
    "optimizer, scheduler = opt_strategy(model, opt)\n",
    "train_log, test_log, lr_log = train(model, optimizer, scheduler, opt, dataset_train, device_train,\n",
    "                                           dataset_test, res_trans, ckpt_name, TotLoss=TotLoss)\n",
    "if not os.path.exists(opt.load_model_path):\n",
    "    save(model, opt.modelpath, ckpt_name)"
   ]
  },
  {
   "cell_type": "code",
   "execution_count": 7,
   "metadata": {
    "scrolled": true
   },
   "outputs": [
    {
     "name": "stdout",
     "output_type": "stream",
     "text": [
      "Net Initialized\n",
      "!Model load from  ./Ckpts/ResNet.pth\n",
      "<bound method Module.parameters of ResNet(\n",
      "  (conv1): Sequential(\n",
      "    (0): Conv3d(1, 2, kernel_size=(3, 3, 3), stride=(1, 1, 1), padding=(1, 1, 1))\n",
      "    (1): LeakyReLU(negative_slope=0.01, inplace=True)\n",
      "  )\n",
      "  (reslayers): Sequential(\n",
      "    (0): Sequential(\n",
      "      (0): BasicBlock(\n",
      "        (conv): Sequential(\n",
      "          (0): Conv3d(2, 2, kernel_size=(3, 3, 3), stride=(1, 1, 1), padding=(1, 1, 1), padding_mode=replicate)\n",
      "          (1): LeakyReLU(negative_slope=0.01, inplace=True)\n",
      "          (2): Conv3d(2, 2, kernel_size=(3, 3, 3), stride=(1, 1, 1), padding=(1, 1, 1), padding_mode=replicate)\n",
      "        )\n",
      "        (shortcut): Sequential()\n",
      "      )\n",
      "      (1): BasicBlock(\n",
      "        (conv): Sequential(\n",
      "          (0): Conv3d(2, 2, kernel_size=(3, 3, 3), stride=(1, 1, 1), padding=(1, 1, 1), padding_mode=replicate)\n",
      "          (1): LeakyReLU(negative_slope=0.01, inplace=True)\n",
      "          (2): Conv3d(2, 2, kernel_size=(3, 3, 3), stride=(1, 1, 1), padding=(1, 1, 1), padding_mode=replicate)\n",
      "        )\n",
      "        (shortcut): Sequential()\n",
      "      )\n",
      "    )\n",
      "    (1): Sequential(\n",
      "      (0): BasicBlock(\n",
      "        (conv): Sequential(\n",
      "          (0): Conv3d(2, 4, kernel_size=(3, 3, 3), stride=(1, 1, 1), padding=(1, 1, 1), padding_mode=replicate)\n",
      "          (1): LeakyReLU(negative_slope=0.01, inplace=True)\n",
      "          (2): Conv3d(4, 4, kernel_size=(3, 3, 3), stride=(1, 1, 1), padding=(1, 1, 1), padding_mode=replicate)\n",
      "        )\n",
      "        (shortcut): Sequential(\n",
      "          (0): Conv3d(2, 4, kernel_size=(1, 1, 1), stride=(1, 1, 1), bias=False)\n",
      "        )\n",
      "      )\n",
      "      (1): BasicBlock(\n",
      "        (conv): Sequential(\n",
      "          (0): Conv3d(4, 4, kernel_size=(3, 3, 3), stride=(1, 1, 1), padding=(1, 1, 1), padding_mode=replicate)\n",
      "          (1): LeakyReLU(negative_slope=0.01, inplace=True)\n",
      "          (2): Conv3d(4, 4, kernel_size=(3, 3, 3), stride=(1, 1, 1), padding=(1, 1, 1), padding_mode=replicate)\n",
      "        )\n",
      "        (shortcut): Sequential()\n",
      "      )\n",
      "    )\n",
      "    (2): Sequential(\n",
      "      (0): BasicBlock(\n",
      "        (conv): Sequential(\n",
      "          (0): Conv3d(4, 6, kernel_size=(3, 3, 3), stride=(1, 1, 1), padding=(1, 1, 1), padding_mode=replicate)\n",
      "          (1): LeakyReLU(negative_slope=0.01, inplace=True)\n",
      "          (2): Conv3d(6, 6, kernel_size=(3, 3, 3), stride=(1, 1, 1), padding=(1, 1, 1), padding_mode=replicate)\n",
      "        )\n",
      "        (shortcut): Sequential(\n",
      "          (0): Conv3d(4, 6, kernel_size=(1, 1, 1), stride=(1, 1, 1), bias=False)\n",
      "        )\n",
      "      )\n",
      "      (1): BasicBlock(\n",
      "        (conv): Sequential(\n",
      "          (0): Conv3d(6, 6, kernel_size=(3, 3, 3), stride=(1, 1, 1), padding=(1, 1, 1), padding_mode=replicate)\n",
      "          (1): LeakyReLU(negative_slope=0.01, inplace=True)\n",
      "          (2): Conv3d(6, 6, kernel_size=(3, 3, 3), stride=(1, 1, 1), padding=(1, 1, 1), padding_mode=replicate)\n",
      "        )\n",
      "        (shortcut): Sequential()\n",
      "      )\n",
      "    )\n",
      "  )\n",
      "  (conv2): Sequential(\n",
      "    (0): Conv3d(6, 1, kernel_size=(1, 1, 1), stride=(1, 1, 1))\n",
      "  )\n",
      ")>\n",
      "allocated and reserved GPU memory: 0.00015735626220703125, 0.001953125 (GiB)\n"
     ]
    },
    {
     "name": "stderr",
     "output_type": "stream",
     "text": [
      "\r",
      "  0%|          | 0/20 [00:00<?, ?it/s]"
     ]
    },
    {
     "name": "stdout",
     "output_type": "stream",
     "text": [
      "../dataset_train_v1/0080Acid_ini Read in 0.90 s\n",
      "../dataset_train_v1/0080Inhibitor Read in 0.88 s\n",
      "RMSE for label 0: [0.01  0.866]\n",
      "NMSE for label 0: [11.629  2.176]\n",
      "NMSE_height for label 0: [12.403  1.916]\n"
     ]
    },
    {
     "name": "stderr",
     "output_type": "stream",
     "text": [
      "<<<\n",
      "time:\t0.418694s\n",
      "<<<\n",
      "<<<\n",
      "time:\t0.411809s\n",
      "<<<\n"
     ]
    },
    {
     "name": "stdout",
     "output_type": "stream",
     "text": [
      "\n",
      "!Start to clear memory\n",
      "CD_x error at height 0:\n",
      " [ 0.68  1.12  0.74 -1.12 -0.74  0.4  -1.56 -4.64  0.56  0.14  3.08 -4.48 -3.96  0.08  0.18 -0.38\n",
      "  1.3  -0.24  1.02]\n",
      "CD_y error at height 0:\n",
      " [-7.8  -1.78 -1.68  0.24  0.28  0.26 -0.14  0.16  0.28  0.36  0.4   0.32 -0.3  -0.06 -0.   -0.32\n",
      " -0.16 -0.46  0.5 ]\n",
      "CD_x error at height 8:\n",
      " [-0.12 -0.    2.9   0.36 -0.04  0.54  0.92  0.1   1.44 -0.08  4.64 -0.32  0.32  0.18 -0.36 -0.58\n",
      "  1.1   0.22 -0.04]\n",
      "CD_y error at height 8:\n",
      " [ 0.7   0.46  0.06 -0.04 -0.5   0.4   0.4   0.06 -0.06  0.7   0.66  0.28 -0.32  0.12  0.1   0.34\n",
      "  0.14 -0.04 -0.16]\n",
      "CD_x error at height 16:\n",
      " [-0.18 -0.48 -0.12  4.64 -0.98  0.14  0.98  1.18 -0.04  0.02 -0.2   0.02  0.12  0.3  -0.5  -0.5\n",
      "  0.88  0.08 -0.34]\n",
      "CD_y error at height 16:\n",
      " [ 1.2   0.28  0.08  1.12 -0.12 -0.1   0.2   0.16  0.18  0.02 -0.    0.42 -0.1   1.62  0.12  0.76\n",
      " -0.78  0.14 -0.18]\n",
      "CD_x error at height 24:\n",
      " [ 1.44  3.02  0.08  0.1   3.18 -0.14  2.1  -0.06 -0.66 -0.14 -3.9  -0.44  0.3  -0.34 -0.3   1.36\n",
      "  0.08  0.08  6.68]\n",
      "CD_y error at height 24:\n",
      " [ 1.38  0.4   0.72  0.06 -0.16 -0.02  0.3  -0.02 -0.18 -0.52  0.02  0.4   1.94 -0.02  0.04  0.16\n",
      "  0.12 -0.3   0.1 ]\n",
      "CD_x error at height 32:\n",
      " [-0.94  0.06 -0.2  -0.48  0.22  0.62  2.62  1.96 -0.22  0.04 -1.44 -0.98 -0.02 -0.16 -0.08 -0.12\n",
      "  0.76  2.86  5.16]\n",
      "CD_y error at height 32:\n",
      " [-0.14  1.38  0.22  0.08  0.66  0.02 -0.28 -1.52 -0.04  0.2  -1.26  0.26  1.08 -1.02  0.44  0.14\n",
      "  0.5   0.38 -0.02]\n",
      "CD_x error at height 40:\n",
      " [-0.92 -0.04  6.02 -1.56 -0.2   0.34 -1.14  0.08 -1.14  2.22  7.82  2.5   0.34  0.3  -0.36  2.96\n",
      " -0.52 -0.8   5.58]\n",
      "CD_y error at height 40:\n",
      " [ 0.7  -0.08 -0.22 -0.38  0.22  0.04  0.04 -0.38 -0.26 -0.12  0.06 -0.1  -0.22  0.28  0.64  0.26\n",
      " -0.42  0.3   0.08]\n",
      "CD_x error at height 48:\n",
      " [-3.02  1.78  0.72  0.04 -5.66  0.12  0.78  5.68  0.4   0.7   1.   -0.    4.4  -0.76  2.46 -1.78\n",
      "  1.    5.2   5.92]\n",
      "CD_y error at height 48:\n",
      " [ 2.48 -0.16 -4.96  0.7  -0.   -0.18 -0.42  1.3  -0.14 -0.16  0.14  5.32 -0.02 -0.38  0.22  0.14\n",
      " -0.06  0.28 -0.16]\n",
      "CD_x error at height 56:\n",
      " [ 3.8   3.66  5.02  1.1  -1.    4.6   2.42  1.94 -0.44  0.2  -0.92  0.02  0.9   0.14  3.94 -2.06\n",
      "  1.88  4.84  7.24]\n",
      "CD_y error at height 56:\n",
      " [ 1.62  0.4  -0.72 -0.22  0.32  0.1   0.14 -0.4   0.24 -0.02  0.06  0.14  0.34 -0.    0.24 -0.34\n",
      " -1.76  0.78  0.16]\n",
      "CD_x error at height 64:\n",
      " [-0.02  1.46  1.34  1.34  0.32  1.14  0.9  -0.44  0.16  6.02  1.    1.14  3.16  0.04 -0.44 -0.7\n",
      "  1.28 -3.08  6.62]\n",
      "CD_y error at height 64:\n",
      " [ 1.54  0.06 -0.82 -0.2  -0.02 -1.4  -0.04 -1.64 -0.02 -0.5  -0.8  -0.12 -0.28 -0.26 -0.   -0.64\n",
      " -1.78  0.64 -0.32]\n"
     ]
    },
    {
     "name": "stderr",
     "output_type": "stream",
     "text": [
      "\r",
      "  5%|▌         | 1/20 [43:08<13:39:33, 2588.07s/it]"
     ]
    },
    {
     "name": "stdout",
     "output_type": "stream",
     "text": [
      "Contact 18 in 72-CD_x_pred is redundant, with info [-952.898  927.896    5.78 ]\n",
      "CD_x error at height 72:\n",
      " [1.84 0.86 2.24 1.3  1.06 3.78 3.02 1.68 1.6  0.96 1.48 2.14 1.62 0.86 1.64 3.12 0.52 3.92 5.78]\n",
      "Contact 0 in 72-CD_y_pred is redundant, with info [-949.997  925.496    5.02 ]\n",
      "CD_y error at height 72:\n",
      " [ 5.02  1.62 -1.18  0.96 -0.24  0.22 -0.7   0.58 -0.14 -0.38 -1.14 -0.02  0.44 -1.06 -1.26 -1.16\n",
      "  0.04 -0.98  0.98]\n",
      "CD_RMSE for label 0: [2.315 1.069]\n",
      "../dataset_train_v1/0081Acid_ini Read in 0.82 s\n",
      "../dataset_train_v1/0081Inhibitor Read in 0.79 s\n",
      "RMSE for label 1: [0.011 0.92 ]\n",
      "NMSE for label 1: [11.53   2.315]\n",
      "NMSE_height for label 1: [12.549  2.069]\n"
     ]
    },
    {
     "name": "stderr",
     "output_type": "stream",
     "text": [
      "<<<\n",
      "time:\t0.439459s\n",
      "<<<\n"
     ]
    },
    {
     "name": "stdout",
     "output_type": "stream",
     "text": [
      "\n",
      "!Start to clear memory\n"
     ]
    },
    {
     "name": "stderr",
     "output_type": "stream",
     "text": [
      "<<<\n",
      "time:\t0.543408s\n",
      "<<<\n"
     ]
    },
    {
     "name": "stdout",
     "output_type": "stream",
     "text": [
      "\n",
      "!Start to clear memory\n",
      "CD_x error at height 0:\n",
      " [-0.48 -1.22 -0.54  0.1  -1.44  0.32 -1.66  0.24 -2.76  3.24 -0.94  1.24  0.04 -0.16 -0.82 -0.78\n",
      " -0.   -3.8  -0.68 -6.72]\n",
      "CD_y error at height 0:\n",
      " [-1.2  -3.92 -0.1   0.2  -0.42  0.1  -1.64 -0.62  0.   -0.14  0.02  0.58 -0.08 -0.02 -0.06  0.06\n",
      "  0.46 -0.1  -1.5   0.2 ]\n",
      "CD_x error at height 8:\n",
      " [ 3.16  0.36 -0.32 -0.02 -0.02  4.3  -0.32  4.3  -0.66  0.08  1.4   1.34 -0.12  0.18 -0.3  -0.06\n",
      "  0.1   0.02  0.56 -1.12]\n",
      "CD_y error at height 8:\n",
      " [ 5.44  0.38  0.04  1.38  0.14 -0.    0.54  0.52 -0.12  0.14  0.2  -0.18 -0.26  0.12  1.26  1.58\n",
      "  0.12  0.22  0.44  0.06]\n",
      "CD_x error at height 16:\n",
      " [-0.1   0.42  4.02 -0.8  -0.14  0.94  1.16  4.14  0.42 -0.14  0.14  0.66  0.04  0.54  0.74  0.74\n",
      "  0.12 -1.   -0.24  0.86]\n",
      "CD_y error at height 16:\n",
      " [ 5.38  0.04 -0.06  0.14 -0.02  0.26 -0.16  0.44 -0.06 -0.    0.04  0.36  0.18  0.5   0.98 -1.18\n",
      "  0.06  0.2  -0.06 -0.02]\n",
      "CD_x error at height 24:\n",
      " [-0.02  0.7  -1.32 -0.94 -0.1  -0.56  1.04 -3.7   2.66 -0.28  0.72  0.04 -0.34 -3.6   0.02  3.4\n",
      "  0.34 -0.04  0.12  2.84]\n",
      "CD_y error at height 24:\n",
      " [ 4.72 -0.8  -0.54 -0.22  0.24  0.38 -1.1   0.24  0.42  0.04 -0.08 -0.22 -0.18 -0.02 -0.12  0.06\n",
      "  0.5   0.34 -0.38 -0.26]\n",
      "CD_x error at height 32:\n",
      " [ 5.98  1.46  0.04  0.68  1.34  0.1   3.54 -0.26 -0.74 -0.14  1.26 -0.66  2.02 -0.06 -3.22  1.48\n",
      "  0.04 -0.04 -1.66  2.74]\n",
      "CD_y error at height 32:\n",
      " [ 6.9  -0.5  -0.46 -0.76  0.32  0.2   0.22 -0.04  0.14 -0.44  0.02 -0.16 -0.3  -0.18  0.02 -0.1\n",
      "  0.04  0.22 -0.14  0.02]\n",
      "CD_x error at height 40:\n",
      " [-1.08  0.12 -0.32  3.38 -0.24 -1.2  -0.02 -0.16 -5.48 -0.5  -2.9  -0.22  0.94  6.86  0.16  2.9\n",
      "  0.56 -0.24  0.    4.7 ]\n",
      "CD_y error at height 40:\n",
      " [ 3.5   1.06  0.48  0.12 -0.16  0.08 -0.   -0.28 -0.24 -0.12  0.12  0.12  0.2   0.28 -0.22  0.48\n",
      " -0.24  1.4  -0.12  0.2 ]\n",
      "CD_x error at height 48:\n",
      " [ 0.22  1.2  -0.84 -1.58  2.82  2.38  0.26 -0.38 -1.24  0.28  6.54  3.34 -1.06  0.84  7.48  4.36\n",
      "  0.22  1.5  -0.    5.18]\n",
      "CD_y error at height 48:\n",
      " [ 7.94 -2.26  0.28 -0.   -1.16 -0.36  0.48  0.38 -0.28 -0.98  0.12 -0.22 -1.92 -0.02  0.96 -0.\n",
      "  0.12  0.28 -0.22  0.44]\n",
      "CD_x error at height 56:\n",
      " [ 2.28  0.98 -1.02 -0.    1.02  2.06 -0.34 -2.34  4.88 -0.   -0.64  0.96 -0.56  2.84  3.1   4.76\n",
      "  1.48  0.96  0.14  6.92]\n",
      "CD_y error at height 56:\n",
      " [ 9.64 -0.94  0.02  0.12  0.02 -0.    0.42  0.68  0.02  0.06 -0.16 -0.66  0.6  -0.56 -0.02 -0.\n",
      "  0.24  1.   -0.    1.88]\n",
      "CD_x error at height 64:\n",
      " [ 0.38 -0.64  1.7   4.04  2.34  4.42  1.42  3.08  0.34  2.1   1.46  3.36 -0.64  0.52  1.02  3.1\n",
      "  1.8   1.24  0.42  5.84]\n",
      "CD_y error at height 64:\n",
      " [ 8.7  -0.16 -0.12 -0.92  0.02 -0.08  0.4  -0.08 -0.78 -0.62  0.58 -4.08  0.42 -0.06 -0.68  0.06\n",
      " -0.56 -0.24 -3.12 -0.6 ]\n"
     ]
    },
    {
     "name": "stderr",
     "output_type": "stream",
     "text": [
      "\r",
      " 10%|█         | 2/20 [1:26:05<12:54:37, 2582.09s/it]"
     ]
    },
    {
     "name": "stdout",
     "output_type": "stream",
     "text": [
      "Contact 19 in 72-CD_x_pred is redundant, with info [-958.178  939.497    7.96 ]\n",
      "CD_x error at height 72:\n",
      " [2.   1.36 1.46 1.28 0.88 1.74 0.54 2.94 2.08 1.26 2.4  2.36 1.06 0.58 1.2  1.84 3.8  1.76 0.9\n",
      " 7.96]\n",
      "Contact 0 in 72-CD_y_pred is redundant, with info [-953.998  934.617    9.62 ]\n",
      "CD_y error at height 72:\n",
      " [ 9.62  0.86  0.12 -1.1  -3.04 -0.26  0.72  0.52 -0.18  0.78  1.2  -0.72  1.08  3.3   0.18 -1.02\n",
      " -0.38  0.   -0.46  0.24]\n",
      "CD_RMSE for label 1: [2.261 1.712]\n",
      "../dataset_train_v1/0082Acid_ini Read in 0.77 s\n",
      "../dataset_train_v1/0082Inhibitor Read in 0.80 s\n",
      "RMSE for label 2: [0.006 0.532]\n",
      "NMSE for label 2: [11.262  1.334]\n",
      "NMSE_height for label 2: [12.141  1.146]\n",
      "\n",
      "!Start to clear memory\n"
     ]
    },
    {
     "name": "stderr",
     "output_type": "stream",
     "text": [
      "<<<\n",
      "time:\t0.53934s\n",
      "<<<\n"
     ]
    },
    {
     "name": "stdout",
     "output_type": "stream",
     "text": [
      "\n",
      "!Start to clear memory\n"
     ]
    },
    {
     "name": "stderr",
     "output_type": "stream",
     "text": [
      "<<<\n",
      "time:\t0.439222s\n",
      "<<<\n"
     ]
    },
    {
     "name": "stdout",
     "output_type": "stream",
     "text": [
      "CD_x error at height 0:\n",
      " [ 5.76 -4.32 -5.14 -0.9   1.42  4.36 -2.92 -0.88]\n",
      "CD_y error at height 0:\n",
      " [-1.88 -3.74 -0.18 -2.74  0.36 -0.04  0.48  0.06]\n",
      "CD_x error at height 8:\n",
      " [ 6.4   0.24 -0.3   0.76  1.2   4.08  0.34 -0.3 ]\n",
      "CD_y error at height 8:\n",
      " [-0.14  0.1  -0.74 -0.    0.04 -0.06  0.2  -0.28]\n",
      "CD_x error at height 16:\n",
      " [-2.14  6.02  0.02  0.04 -0.26  3.66  0.04  4.8 ]\n",
      "CD_y error at height 16:\n",
      " [ 0.08  0.08  0.04  0.58 -0.02 -0.12  0.1   0.14]\n",
      "CD_x error at height 24:\n",
      " [ 4.76  1.9  -0.12  6.14 -1.3   0.72  0.4  -1.22]\n",
      "CD_y error at height 24:\n",
      " [ 0.   -0.78  1.24  0.8  -0.2   0.16 -0.04  0.2 ]\n",
      "CD_x error at height 32:\n",
      " [-0.3   0.32  0.38 -0.48  0.44  8.86 -0.    4.16]\n",
      "CD_y error at height 32:\n",
      " [ 0.18  1.26 -0.    1.24  0.3  -1.2   0.3  -0.32]\n",
      "CD_x error at height 40:\n",
      " [ 3.92  0.1  -0.    9.76  1.26  0.9  -0.56  0.04]\n",
      "CD_y error at height 40:\n",
      " [ 0.02 -0.96  0.36  0.34  0.18 -0.02  0.64  0.04]\n",
      "CD_x error at height 48:\n",
      " [ 2.46  5.34  4.12  0.48 -3.4   4.84  2.96 -1.88]\n",
      "CD_y error at height 48:\n",
      " [-0.76 -0.36  0.1  -0.12  0.62  0.08 -0.72  0.88]\n",
      "CD_x error at height 56:\n",
      " [0.16 0.06 0.2  4.94 0.44 3.08 4.22 0.18]\n",
      "CD_y error at height 56:\n",
      " [ 1.12 -1.04  0.4  -0.08 -0.4   0.22  2.46  0.2 ]\n",
      "CD_x error at height 64:\n",
      " [2.24 1.02 1.5  3.48 1.34 0.64 1.08 1.08]\n",
      "CD_y error at height 64:\n",
      " [-0.16 -1.72 -0.14  2.2   0.08 -0.04 -0.04 -0.44]\n"
     ]
    },
    {
     "name": "stderr",
     "output_type": "stream",
     "text": [
      "\r",
      " 15%|█▌        | 3/20 [2:08:37<12:07:36, 2568.02s/it]"
     ]
    },
    {
     "name": "stdout",
     "output_type": "stream",
     "text": [
      "CD_x error at height 72:\n",
      " [1.66 1.76 2.14 0.76 0.82 3.   2.4  1.48]\n",
      "CD_y error at height 72:\n",
      " [ 1.42  0.66 -0.1   0.8   0.36  1.52  0.52 -0.76]\n",
      "CD_RMSE for label 2: [3.019 0.877]\n",
      "../dataset_train_v1/0083Acid_ini Read in 0.17 s\n",
      "../dataset_train_v1/0083Inhibitor Read in 0.16 s\n",
      "RMSE for label 3: [0.009 0.756]\n",
      "NMSE for label 3: [11.48   1.898]\n",
      "NMSE_height for label 3: [12.126  1.644]\n"
     ]
    },
    {
     "name": "stderr",
     "output_type": "stream",
     "text": [
      "<<<\n",
      "time:\t0.571469s\n",
      "<<<\n"
     ]
    },
    {
     "name": "stdout",
     "output_type": "stream",
     "text": [
      "\n",
      "!Start to clear memory\n"
     ]
    },
    {
     "name": "stderr",
     "output_type": "stream",
     "text": [
      "<<<\n",
      "time:\t0.490876s\n",
      "<<<\n"
     ]
    },
    {
     "name": "stdout",
     "output_type": "stream",
     "text": [
      "\n",
      "!Start to clear memory\n",
      "CD_x error at height 0:\n",
      " [-3.92  0.   -4.1  -4.02  3.52  0.2   5.1  -3.02  0.04  0.34  0.58 -0.26  0.88 -3.36  1.54]\n",
      "CD_y error at height 0:\n",
      " [-2.02 -0.26 -0.02  0.14 -0.06 -0.32  0.1  -0.06  0.16  0.02  0.4  -2.08  0.02 -0.1  -0.04]\n",
      "CD_x error at height 8:\n",
      " [-0.22  4.24 -0.04 -0.16 -0.18  3.1   0.22  0.06 -0.56  0.4   0.42  0.54  0.06 -1.08  0.18]\n",
      "CD_y error at height 8:\n",
      " [ 0.18 -0.04 -0.46 -0.04 -0.2   0.18  0.06  0.08  0.4   0.04 -0.06 -0.72  0.06 -0.34  0.04]\n",
      "CD_x error at height 16:\n",
      " [ 0.06  3.62 -0.04  0.1   0.08  3.24 -0.88  0.06 -0.4  -0.14 -2.54  0.28 -0.92 -0.9   0.16]\n",
      "CD_y error at height 16:\n",
      " [ 0.06 -0.54 -0.16 -0.24  0.48  1.06 -0.14  0.24  0.38  0.12  0.28  0.08 -0.02 -0.08 -0.12]\n",
      "CD_x error at height 24:\n",
      " [ 2.74  2.98 -0.16 -0.72 -0.96 -0.08  3.52 -1.04 -0.12 -3.12 -5.   -1.52 -0.7   0.26 -4.36]\n",
      "CD_y error at height 24:\n",
      " [-0.    0.1   0.08  0.18  0.4  -0.02  0.68 -0.18 -1.16 -0.22 -0.08  0.06  0.24 -0.32  0.04]\n",
      "CD_x error at height 32:\n",
      " [-0.52  0.7  -0.04  2.54  0.32  3.92 -0.06  3.88  0.28 -0.   -4.22 -1.7  -0.22  1.34 -2.58]\n",
      "CD_y error at height 32:\n",
      " [ 1.42 -1.02 -0.04  0.8  -0.1  -0.1  -0.2   0.18  0.12  0.1   0.38 -0.36  0.44 -0.02 -0.14]\n",
      "CD_x error at height 40:\n",
      " [-1.02  0.04  0.    1.56  1.32  0.1  -0.04  9.2  -4.5   1.86 -3.28 -0.4  -2.34 -0.02  1.32]\n",
      "CD_y error at height 40:\n",
      " [-1.22 -0.34 -0.4   0.16 -0.12  0.06  0.48  0.2  -0.22 -0.16  0.5   1.4  -0.04  0.02  0.3 ]\n",
      "CD_x error at height 48:\n",
      " [ 2.26  1.84  2.08  0.08  2.76  2.    2.6   2.9  -1.8   2.62  0.78  0.16  3.7  -1.   -1.02]\n",
      "CD_y error at height 48:\n",
      " [-0.34 -0.54  0.16 -0.18 -0.    0.36  0.4   0.3  -0.88  0.26  0.42 -0.52  0.22 -0.04  0.02]\n",
      "CD_x error at height 56:\n",
      " [ 1.56  3.26  2.96  0.92 -2.98  0.22  1.84  0.46 -0.74  0.44  3.4   2.04  9.08  3.98  4.06]\n",
      "CD_y error at height 56:\n",
      " [-0.12  0.98  0.28  0.26 -0.22  0.42  0.08 -0.2   1.4  -0.46  0.04 -0.8   0.32 -0.24 -0.14]\n",
      "CD_x error at height 64:\n",
      " [ 2.94  0.16  1.6   4.94  1.72  2.62  6.54  3.16 -0.54  1.46 -0.8   2.    2.94 -0.04  1.36]\n",
      "CD_y error at height 64:\n",
      " [-1.16  0.48 -1.4  -0.02  1.16 -0.1   0.14  0.48 -0.1  -0.6   0.12 -0.32  0.6  -0.88 -0.28]\n"
     ]
    },
    {
     "name": "stderr",
     "output_type": "stream",
     "text": [
      "\r",
      " 20%|██        | 4/20 [2:51:47<11:27:09, 2576.84s/it]"
     ]
    },
    {
     "name": "stdout",
     "output_type": "stream",
     "text": [
      "CD_x error at height 72:\n",
      " [1.3  2.3  1.66 1.16 1.54 1.16 3.86 1.3  2.9  1.24 1.34 0.6  5.   2.36 2.52]\n",
      "CD_y error at height 72:\n",
      " [-0.16  0.58 -0.04  0.14  1.52  0.14  0.36  1.3   0.74  2.   -0.48 -0.2   0.6  -0.22 -0.46]\n",
      "CD_RMSE for label 3: [2.435 0.556]\n",
      "../dataset_train_v1/0084Acid_ini Read in 0.16 s\n",
      "../dataset_train_v1/0084Inhibitor Read in 0.15 s\n",
      "RMSE for label 4: [0.004 0.353]\n",
      "NMSE for label 4: [11.332  0.882]\n",
      "NMSE_height for label 4: [12.186  0.778]\n"
     ]
    },
    {
     "name": "stderr",
     "output_type": "stream",
     "text": [
      "<<<\n",
      "time:\t0.528088s\n",
      "<<<\n"
     ]
    },
    {
     "name": "stdout",
     "output_type": "stream",
     "text": [
      "\n",
      "!Start to clear memory\n"
     ]
    },
    {
     "name": "stderr",
     "output_type": "stream",
     "text": [
      "<<<\n",
      "time:\t0.540438s\n",
      "<<<\n"
     ]
    },
    {
     "name": "stdout",
     "output_type": "stream",
     "text": [
      "\n",
      "!Start to clear memory\n",
      "CD_x error at height 0:\n",
      " [ 0.14  2.54 -2.9 ]\n",
      "CD_y error at height 0:\n",
      " [-0.9   0.24 -0.06]\n",
      "CD_x error at height 8:\n",
      " [0.24 3.3  2.08]\n",
      "CD_y error at height 8:\n",
      " [ 0.14 -0.42  0.1 ]\n",
      "CD_x error at height 16:\n",
      " [-0.46  3.   -0.28]\n",
      "CD_y error at height 16:\n",
      " [-0.    0.22  0.32]\n",
      "CD_x error at height 24:\n",
      " [-0.16 -4.2   0.3 ]\n",
      "CD_y error at height 24:\n",
      " [-0.22 -0.1   0.48]\n",
      "CD_x error at height 32:\n",
      " [0.04 8.3  0.08]\n",
      "CD_y error at height 32:\n",
      " [-0.18 -0.08  0.1 ]\n",
      "CD_x error at height 40:\n",
      " [ 1.46 -0.48 -0.  ]\n",
      "CD_y error at height 40:\n",
      " [ 0.02  0.2  -0.02]\n",
      "CD_x error at height 48:\n",
      " [ 1.48  0.22 -2.94]\n",
      "CD_y error at height 48:\n",
      " [ 0.18 -0.12  0.06]\n",
      "CD_x error at height 56:\n",
      " [0.92 2.44 3.62]\n",
      "CD_y error at height 56:\n",
      " [ 0.1  -0.4  -0.02]\n",
      "CD_x error at height 64:\n",
      " [0.16 5.4  1.54]\n",
      "CD_y error at height 64:\n",
      " [ 0.62  0.9  -0.58]\n"
     ]
    },
    {
     "name": "stderr",
     "output_type": "stream",
     "text": [
      "\r",
      " 25%|██▌       | 5/20 [3:34:49<10:44:40, 2578.68s/it]"
     ]
    },
    {
     "name": "stdout",
     "output_type": "stream",
     "text": [
      "CD_x error at height 72:\n",
      " [0.38 2.38 2.3 ]\n",
      "CD_y error at height 72:\n",
      " [0.04 0.22 0.1 ]\n",
      "CD_RMSE for label 4: [2.594 0.338]\n",
      "../dataset_train_v1/0085Acid_ini Read in 0.15 s\n",
      "../dataset_train_v1/0085Inhibitor Read in 0.15 s\n",
      "RMSE for label 5: [0.008 0.651]\n",
      "NMSE for label 5: [11.959  1.633]\n",
      "NMSE_height for label 5: [12.52   1.429]\n",
      "\n",
      "!Start to clear memory\n"
     ]
    },
    {
     "name": "stderr",
     "output_type": "stream",
     "text": [
      "<<<\n",
      "time:\t0.599511s\n",
      "<<<\n",
      "<<<\n",
      "time:\t0.659539s\n",
      "<<<\n"
     ]
    },
    {
     "name": "stdout",
     "output_type": "stream",
     "text": [
      "\n",
      "!Start to clear memory\n",
      "CD_x error at height 0:\n",
      " [ 0.62  0.26  3.1   3.12  0.12  0.08 -0.22 -3.62 -0.34  0.14]\n",
      "CD_y error at height 0:\n",
      " [-0.1   0.6  -0.3   0.42 -0.36  1.28  0.02 -1.44 -0.18 -0.12]\n",
      "CD_x error at height 8:\n",
      " [-0.64  7.58  1.48  3.06  1.    0.54  0.12 -0.12  0.14 -0.  ]\n",
      "CD_y error at height 8:\n",
      " [ 0.18  0.8   0.16  0.1  -0.44  0.36  0.14  0.02 -0.14  0.46]\n",
      "CD_x error at height 16:\n",
      " [ 1.86 -0.92 -3.96 -0.   -0.06 -0.22  3.28 -0.74  1.76  0.46]\n",
      "CD_y error at height 16:\n",
      " [-0.34  0.76  0.04  0.62 -0.68 -0.16 -0.02 -0.08  0.06  0.12]\n",
      "CD_x error at height 24:\n",
      " [-0.98  1.1   0.5   5.38  0.04  0.14 -1.06  0.72 -1.14 -3.96]\n",
      "CD_y error at height 24:\n",
      " [ 1.3  -0.16  0.52 -0.1  -0.04  0.1   0.12 -0.1   0.46  0.26]\n",
      "CD_x error at height 32:\n",
      " [ 1.04  0.04  0.8   5.32  0.46  0.08  0.82 -0.12  0.08  0.16]\n",
      "CD_y error at height 32:\n",
      " [ 0.74  0.58 -0.16 -0.04 -0.38  0.08  0.02 -0.22 -0.08 -0.72]\n",
      "CD_x error at height 40:\n",
      " [-0.68  4.88 -0.2   1.96  1.86  3.8   4.44  1.02 -0.06  1.78]\n",
      "CD_y error at height 40:\n",
      " [ 0.6  -0.38 -1.12  0.64 -0.52  0.1   0.14 -0.82  1.22  0.  ]\n",
      "CD_x error at height 48:\n",
      " [ 1.82  0.02  2.96  2.12 -1.12  2.92  1.22  3.02  1.06  4.8 ]\n",
      "CD_y error at height 48:\n",
      " [ 0.1   0.08  1.3   0.7  -0.14 -0.12 -0.38  0.08  0.12  0.18]\n",
      "CD_x error at height 56:\n",
      " [ 0.2   4.08 -0.18  2.34 -0.68  1.12  0.02  0.28 -0.58  1.5 ]\n",
      "CD_y error at height 56:\n",
      " [ 0.06 -0.46  0.38  0.04  0.68  2.58  0.06  0.14  1.24  0.52]\n",
      "CD_x error at height 64:\n",
      " [3.16 2.58 1.46 1.84 0.46 2.84 3.28 0.94 3.7  1.8 ]\n",
      "CD_y error at height 64:\n",
      " [-3.02 -0.62 -0.26 -0.2  -1.9  -2.26  0.34 -0.1  -0.52 -0.46]\n"
     ]
    },
    {
     "name": "stderr",
     "output_type": "stream",
     "text": [
      "\r",
      " 30%|███       | 6/20 [4:18:01<10:02:46, 2583.31s/it]"
     ]
    },
    {
     "name": "stdout",
     "output_type": "stream",
     "text": [
      "CD_x error at height 72:\n",
      " [1.06 2.32 1.   0.5  0.88 1.36 1.2  0.82 0.74 0.9 ]\n",
      "CD_y error at height 72:\n",
      " [-1.92 -0.9  -1.56 -0.06 -2.4  -0.32  0.46 -0.58 -0.32  0.22]\n",
      "CD_RMSE for label 5: [2.122 0.776]\n",
      "../dataset_train_v1/0086Acid_ini Read in 0.15 s\n",
      "../dataset_train_v1/0086Inhibitor Read in 0.15 s\n",
      "RMSE for label 6: [0.004 0.416]\n",
      "NMSE for label 6: [13.861  1.04 ]\n",
      "NMSE_height for label 6: [15.884  1.004]\n"
     ]
    },
    {
     "name": "stderr",
     "output_type": "stream",
     "text": [
      "<<<\n",
      "time:\t0.481151s\n",
      "<<<\n"
     ]
    },
    {
     "name": "stdout",
     "output_type": "stream",
     "text": [
      "\n",
      "!Start to clear memory\n"
     ]
    },
    {
     "name": "stderr",
     "output_type": "stream",
     "text": [
      "<<<\n",
      "time:\t0.450872s\n",
      "<<<\n"
     ]
    },
    {
     "name": "stdout",
     "output_type": "stream",
     "text": [
      "\n",
      "!Start to clear memory\n",
      "CD_x error at height 0:\n",
      " [ 1.    0.72 -6.2 ]\n",
      "CD_y error at height 0:\n",
      " [-16.541   0.1     0.42 ]\n",
      "CD_x error at height 8:\n",
      " [-0.08  0.5   0.34]\n",
      "CD_y error at height 8:\n",
      " [0.38 0.04 0.04]\n",
      "CD_x error at height 16:\n",
      " [ 1.12 -0.2  -0.72]\n",
      "CD_y error at height 16:\n",
      " [0.52 0.36 0.94]\n",
      "CD_x error at height 24:\n",
      " [ 1.28 -0.22 -3.14]\n",
      "CD_y error at height 24:\n",
      " [3.2  0.24 1.04]\n",
      "CD_x error at height 32:\n",
      " [0.96 0.58 0.12]\n",
      "CD_y error at height 32:\n",
      " [6.2  0.4  1.24]\n",
      "CD_x error at height 40:\n",
      " [-0.04   2.58   6.98  20.121]\n",
      "CD_y error at height 40:\n",
      " [7.88 0.22 0.12]\n",
      "CD_x error at height 48:\n",
      " [0.7  0.66 7.18]\n",
      "CD_y error at height 48:\n",
      " [11.321 -0.78   2.14 ]\n",
      "CD_x error at height 56:\n",
      " [0.48 0.66 4.06]\n",
      "CD_y error at height 56:\n",
      " [11.181  0.32  -0.06 ]\n",
      "CD_x error at height 64:\n",
      " [4.76 1.1  7.84]\n",
      "CD_y error at height 64:\n",
      " [12.321  2.3   -2.8  ]\n"
     ]
    },
    {
     "name": "stderr",
     "output_type": "stream",
     "text": [
      "\r",
      " 35%|███▌      | 7/20 [5:00:53<9:18:54, 2579.58s/it] "
     ]
    },
    {
     "name": "stdout",
     "output_type": "stream",
     "text": [
      "Contact 2 in 72-CD_x_pred is redundant, with info [-963.798   80.054    6.9  ]\n",
      "Contact 3 in 72-CD_x_pred is redundant, with info [-961.498   87.354    1.38 ]\n",
      "CD_x error at height 72:\n",
      " [3.12 0.3  6.9  1.38]\n",
      "Contact 0 in 72-CD_y_pred is redundant, with info [-960.398   73.734   13.681]\n",
      "CD_y error at height 72:\n",
      " [13.681  0.34  -1.1  ]\n",
      "CD_RMSE for label 6: [4.775 5.776]\n",
      "../dataset_train_v1/0087Acid_ini Read in 0.16 s\n",
      "../dataset_train_v1/0087Inhibitor Read in 0.16 s\n",
      "RMSE for label 7: [0.004 0.343]\n",
      "NMSE for label 7: [11.172  0.857]\n",
      "NMSE_height for label 7: [12.101  0.75 ]\n"
     ]
    },
    {
     "name": "stderr",
     "output_type": "stream",
     "text": [
      "<<<\n",
      "time:\t0.491536s\n",
      "<<<\n"
     ]
    },
    {
     "name": "stdout",
     "output_type": "stream",
     "text": [
      "\n",
      "!Start to clear memory\n",
      "\n",
      "!Start to clear memory\n"
     ]
    },
    {
     "name": "stderr",
     "output_type": "stream",
     "text": [
      "<<<\n",
      "time:\t0.476798s\n",
      "<<<\n"
     ]
    },
    {
     "name": "stdout",
     "output_type": "stream",
     "text": [
      "CD_x error at height 0:\n",
      " [-1.06  0.2   0.1 ]\n",
      "CD_y error at height 0:\n",
      " [ 1.1  -0.06 -0.58]\n",
      "CD_x error at height 8:\n",
      " [-0.62  0.02  0.88]\n",
      "CD_y error at height 8:\n",
      " [ 0.38  0.08 -0.34]\n",
      "CD_x error at height 16:\n",
      " [-0.02 -0.58 -0.16]\n",
      "CD_y error at height 16:\n",
      " [ 0.2   0.4  -0.16]\n",
      "CD_x error at height 24:\n",
      " [ 1.62  0.16 -0.64]\n",
      "CD_y error at height 24:\n",
      " [-0.86  0.4  -0.94]\n",
      "CD_x error at height 32:\n",
      " [ 0.76 -3.44 -0.12]\n",
      "CD_y error at height 32:\n",
      " [ 0.16 -0.1  -1.72]\n",
      "CD_x error at height 40:\n",
      " [ 2.06 -4.06  7.32]\n",
      "CD_y error at height 40:\n",
      " [-0.12  0.66 -0.72]\n",
      "CD_x error at height 48:\n",
      " [ 1.22 -3.44  1.72]\n",
      "CD_y error at height 48:\n",
      " [-0.06  0.04 -3.54]\n",
      "CD_x error at height 56:\n",
      " [1.74 1.72 2.78]\n",
      "CD_y error at height 56:\n",
      " [2.44 0.08 0.3 ]\n",
      "CD_x error at height 64:\n",
      " [ 2.88 -0.    0.92]\n",
      "CD_y error at height 64:\n",
      " [ 0.02 -0.2  -1.14]\n"
     ]
    },
    {
     "name": "stderr",
     "output_type": "stream",
     "text": [
      "\r",
      " 40%|████      | 8/20 [5:43:46<8:35:30, 2577.55s/it]"
     ]
    },
    {
     "name": "stdout",
     "output_type": "stream",
     "text": [
      "CD_x error at height 72:\n",
      " [3.3  1.72 2.86]\n",
      "CD_y error at height 72:\n",
      " [ 0.48  1.02 -1.38]\n",
      "CD_RMSE for label 7: [2.263 1.015]\n",
      "../dataset_train_v1/0088Acid_ini Read in 0.16 s\n",
      "../dataset_train_v1/0088Inhibitor Read in 0.15 s\n",
      "RMSE for label 8: [0.006 0.464]\n",
      "NMSE for label 8: [10.874  1.161]\n",
      "NMSE_height for label 8: [11.708  0.986]\n",
      "\n",
      "!Start to clear memory\n"
     ]
    },
    {
     "name": "stderr",
     "output_type": "stream",
     "text": [
      "<<<\n",
      "time:\t0.518694s\n",
      "<<<\n"
     ]
    },
    {
     "name": "stdout",
     "output_type": "stream",
     "text": [
      "\n",
      "!Start to clear memory\n"
     ]
    },
    {
     "name": "stderr",
     "output_type": "stream",
     "text": [
      "<<<\n",
      "time:\t0.496049s\n",
      "<<<\n"
     ]
    },
    {
     "name": "stdout",
     "output_type": "stream",
     "text": [
      "CD_x error at height 0:\n",
      " [-2.68 -1.94 -5.1   0.16  1.42 -0.84]\n",
      "CD_y error at height 0:\n",
      " [-1.02 -0.    0.02  0.28 -0.08 -0.4 ]\n",
      "CD_x error at height 8:\n",
      " [ 0.58 -0.6  -0.86  0.22  1.2   0.02]\n",
      "CD_y error at height 8:\n",
      " [ 0.46  0.2   0.1   0.14  0.16 -0.02]\n",
      "CD_x error at height 16:\n",
      " [ 0.14 -0.42  1.46  0.5   3.16 -0.  ]\n",
      "CD_y error at height 16:\n",
      " [ 0.36  0.18  0.08 -0.4   0.76 -0.08]\n",
      "CD_x error at height 24:\n",
      " [ 3.84  0.9  -0.98  0.56  4.66  1.02]\n",
      "CD_y error at height 24:\n",
      " [ 0.04 -0.    0.22 -0.44  0.44  0.22]\n",
      "CD_x error at height 32:\n",
      " [ 3.22  2.04 -5.36 -0.22  8.54 -0.76]\n",
      "CD_y error at height 32:\n",
      " [ 0.04 -0.08  0.2   0.2  -0.22 -1.02]\n",
      "CD_x error at height 40:\n",
      " [-1.48   0.34   0.28  -0.08   9.921  0.2  ]\n",
      "CD_y error at height 40:\n",
      " [ 0.02  0.28 -0.1  -0.1  -1.28 -0.  ]\n",
      "CD_x error at height 48:\n",
      " [ 4.06  2.8   4.64 -0.24  5.24  2.16]\n",
      "CD_y error at height 48:\n",
      " [-0.54 -0.22 -0.42 -0.18 -0.64  0.12]\n",
      "CD_x error at height 56:\n",
      " [4.3  1.56 1.48 2.04 3.14 2.68]\n",
      "CD_y error at height 56:\n",
      " [-1.18 -0.46  0.06  0.16 -1.06  0.1 ]\n",
      "CD_x error at height 64:\n",
      " [ 1.92  2.1   2.36 -0.06  1.18  0.98]\n",
      "CD_y error at height 64:\n",
      " [ 0.46  0.12 -0.04 -0.52  0.06  2.92]\n"
     ]
    },
    {
     "name": "stderr",
     "output_type": "stream",
     "text": [
      "\r",
      " 45%|████▌     | 9/20 [6:27:42<7:55:52, 2595.72s/it]"
     ]
    },
    {
     "name": "stdout",
     "output_type": "stream",
     "text": [
      "CD_x error at height 72:\n",
      " [1.22 0.98 1.24 1.56 0.88 1.74]\n",
      "CD_y error at height 72:\n",
      " [ 0.08  0.96  0.34  0.6  -1.   -0.2 ]\n",
      "CD_RMSE for label 8: [2.772 0.593]\n",
      "../dataset_train_v1/0089Acid_ini Read in 0.15 s\n",
      "../dataset_train_v1/0089Inhibitor Read in 0.15 s\n",
      "RMSE for label 9: [0.006 0.523]\n",
      "NMSE for label 9: [11.243  1.311]\n",
      "NMSE_height for label 9: [12.06  1.13]\n",
      "\n",
      "!Start to clear memory\n"
     ]
    },
    {
     "name": "stderr",
     "output_type": "stream",
     "text": [
      "<<<\n",
      "time:\t0.432152s\n",
      "<<<\n",
      "<<<\n",
      "time:\t0.448304s\n",
      "<<<\n"
     ]
    },
    {
     "name": "stdout",
     "output_type": "stream",
     "text": [
      "\n",
      "!Start to clear memory\n",
      "CD_x error at height 0:\n",
      " [-1.9   0.06 -0.02 -0.   -0.7   1.2   0.4 ]\n",
      "CD_y error at height 0:\n",
      " [-0.12  0.54 -0.36 -0.32  0.08  1.34  0.12]\n",
      "CD_x error at height 8:\n",
      " [ 3.46  0.14  0.5   0.16 -1.1   0.72  0.4 ]\n",
      "CD_y error at height 8:\n",
      " [ 0.   -0.28  0.8   0.28  0.38  0.3   0.02]\n",
      "CD_x error at height 16:\n",
      " [ 4.78  4.34  4.54 -0.26 -0.56  0.1  -0.1 ]\n",
      "CD_y error at height 16:\n",
      " [-0.34 -0.04 -0.12 -0.   -0.    0.14  0.04]\n",
      "CD_x error at height 24:\n",
      " [ 5.34  5.22 -0.34  0.02 -2.2  -3.78 -0.64]\n",
      "CD_y error at height 24:\n",
      " [ 0.8  -0.06  0.2   0.2   0.8  -0.14 -0.38]\n",
      "CD_x error at height 32:\n",
      " [ 6.64 -0.34 -0.6   0.52 -4.12  2.66 -0.38]\n",
      "CD_y error at height 32:\n",
      " [-0.36  0.26 -0.42  0.06  0.06  0.54 -0.24]\n",
      "CD_x error at height 40:\n",
      " [ 3.84  3.42  1.84 -1.42  0.18  1.4   0.56]\n",
      "CD_y error at height 40:\n",
      " [ 0.06 -0.28 -0.06  0.12 -0.06 -0.34  0.22]\n",
      "CD_x error at height 48:\n",
      " [ 3.34 -2.22  2.06  2.74 -1.22 -0.    1.08]\n",
      "CD_y error at height 48:\n",
      " [-0.18 -0.16 -0.48  2.92 -0.2  -0.28  0.3 ]\n",
      "CD_x error at height 56:\n",
      " [ 4.1   2.4  -4.54  0.68  0.78 -0.22  5.12]\n",
      "CD_y error at height 56:\n",
      " [-0.58  0.04 -0.48 -0.78  0.72  0.52  0.46]\n",
      "CD_x error at height 64:\n",
      " [0.68 0.32 3.56 3.3  1.   3.4  3.62]\n",
      "CD_y error at height 64:\n",
      " [-1.44 -1.28 -1.32  0.5  -0.8  -0.7  -0.44]\n"
     ]
    },
    {
     "name": "stderr",
     "output_type": "stream",
     "text": [
      "\r",
      " 50%|█████     | 10/20 [7:13:39<7:20:54, 2645.46s/it]"
     ]
    },
    {
     "name": "stdout",
     "output_type": "stream",
     "text": [
      "CD_x error at height 72:\n",
      " [1.   1.6  2.   1.08 1.32 0.66 2.16]\n",
      "CD_y error at height 72:\n",
      " [-1.76 -1.08  0.56 -0.96  0.5  -0.88 -0.18]\n",
      "CD_RMSE for label 9: [2.471 0.664]\n",
      "../dataset_train_v1/0090Acid_ini Read in 0.15 s\n",
      "../dataset_train_v1/0090Inhibitor Read in 0.15 s\n",
      "RMSE for label 10: [0.007 0.56 ]\n",
      "NMSE for label 10: [11.613  1.404]\n",
      "NMSE_height for label 10: [12.54   1.232]\n",
      "\n",
      "!Start to clear memory\n"
     ]
    },
    {
     "name": "stderr",
     "output_type": "stream",
     "text": [
      "<<<\n",
      "time:\t0.42203s\n",
      "<<<\n"
     ]
    },
    {
     "name": "stdout",
     "output_type": "stream",
     "text": [
      "\n",
      "!Start to clear memory\n"
     ]
    },
    {
     "name": "stderr",
     "output_type": "stream",
     "text": [
      "<<<\n",
      "time:\t0.414906s\n",
      "<<<\n"
     ]
    },
    {
     "name": "stdout",
     "output_type": "stream",
     "text": [
      "CD_x error at height 0:\n",
      " [-4.18 -5.06  3.1   0.6  -0.4   0.64 -0.1   1.52]\n",
      "CD_y error at height 0:\n",
      " [-2.36 -1.78 -0.04 -3.64  0.2  -1.58 -1.42 -1.42]\n",
      "CD_x error at height 8:\n",
      " [ 0.9   0.12  3.14  1.32 -0.68  0.1   0.14  3.3 ]\n",
      "CD_y error at height 8:\n",
      " [ 0.14 -0.12  0.16  0.66  0.24 -0.22  0.2  -0.56]\n",
      "CD_x error at height 16:\n",
      " [ 2.66 -1.76  0.2  -0.36 -0.    3.46 -0.06  1.36]\n",
      "CD_y error at height 16:\n",
      " [ 0.28  0.12 -0.58  0.08 -0.18 -0.7   0.22 -1.02]\n",
      "CD_x error at height 24:\n",
      " [ 1.82 -3.18  0.42 -0.28 -0.22 -0.22  2.3  -0.14]\n",
      "CD_y error at height 24:\n",
      " [-0.22 -0.08 -0.06  0.08 -0.22  0.84  0.12  2.2 ]\n",
      "CD_x error at height 32:\n",
      " [ 3.76 -1.36  3.18  3.56  0.56 -1.6   0.76 -0.04]\n",
      "CD_y error at height 32:\n",
      " [-0.62 -0.7  -0.04 -0.04  0.02 -0.06  0.02 -0.06]\n",
      "CD_x error at height 40:\n",
      " [ 2.4   4.06 -2.58 -0.56 -0.68 -2.46  0.28  2.14]\n",
      "CD_y error at height 40:\n",
      " [-0.18 -0.28  0.8  -0.   -0.1   0.52  0.1  -0.66]\n",
      "CD_x error at height 48:\n",
      " [-0.48 -1.16  6.38  0.44  3.52 -0.9   2.18  5.62]\n",
      "CD_y error at height 48:\n",
      " [-0.    2.58  0.12  0.26  0.    0.22  0.28  2.58]\n",
      "CD_x error at height 56:\n",
      " [ 0.54 -0.88 -0.22  1.28  5.36  3.16  0.52  1.84]\n",
      "CD_y error at height 56:\n",
      " [ 0.38  1.12  0.1  -0.16 -1.04 -0.58 -0.54 -1.78]\n",
      "CD_x error at height 64:\n",
      " [ 0.84  1.44  2.8  -0.72  1.34  0.92  4.54  0.06]\n",
      "CD_y error at height 64:\n",
      " [-0.64 -0.2   0.2   0.22  0.22  0.16 -1.   -0.48]\n"
     ]
    },
    {
     "name": "stderr",
     "output_type": "stream",
     "text": [
      "\r",
      " 55%|█████▌    | 11/20 [7:56:41<6:33:54, 2626.10s/it]"
     ]
    },
    {
     "name": "stdout",
     "output_type": "stream",
     "text": [
      "CD_x error at height 72:\n",
      " [1.   1.86 2.82 2.24 3.18 0.42 1.2  1.7 ]\n",
      "CD_y error at height 72:\n",
      " [ 0.02  0.14  0.22  0.84 -0.76  0.6   1.36  0.16]\n",
      "CD_RMSE for label 10: [2.262 0.9  ]\n",
      "../dataset_train_v1/0091Acid_ini Read in 0.15 s\n",
      "../dataset_train_v1/0091Inhibitor Read in 0.15 s\n",
      "RMSE for label 11: [0.008 0.666]\n",
      "NMSE for label 11: [11.599  1.671]\n",
      "NMSE_height for label 11: [12.254  1.451]\n",
      "\n",
      "!Start to clear memory\n"
     ]
    },
    {
     "name": "stderr",
     "output_type": "stream",
     "text": [
      "<<<\n",
      "time:\t0.44384s\n",
      "<<<\n",
      "<<<\n",
      "time:\t0.430076s\n",
      "<<<\n"
     ]
    },
    {
     "name": "stdout",
     "output_type": "stream",
     "text": [
      "\n",
      "!Start to clear memory\n",
      "CD_x error at height 0:\n",
      " [-3.72 -2.62  0.34  0.04  0.48  0.04 -3.22  3.28 -0.14  0.14  1.14]\n",
      "CD_y error at height 0:\n",
      " [-0.14 -0.56  0.2   0.44  0.58  0.26  0.84  0.08  0.02  0.34 -1.42]\n",
      "CD_x error at height 8:\n",
      " [-0.66  2.32  1.52 -0.04  0.56  5.1  -0.48 -0.24 -0.18 -0.26 -0.38]\n",
      "CD_y error at height 8:\n",
      " [ 1.58  0.08  0.4   0.06 -0.1  -0.02  1.72  0.52  0.02  0.32  0.14]\n",
      "CD_x error at height 16:\n",
      " [-0.36 -0.36  5.18  0.2  -0.04  2.7   0.46 -0.62  0.    0.66  0.96]\n",
      "CD_y error at height 16:\n",
      " [-0.24 -0.48 -0.02 -0.14  1.4   0.96  0.08 -0.16 -0.6  -1.64  0.6 ]\n",
      "CD_x error at height 24:\n",
      " [-4.6   2.1  -0.12 -0.06  0.34  0.24 -0.58 -0.46  0.68  3.24 -0.46]\n",
      "CD_y error at height 24:\n",
      " [-2.94 -0.56  0.3   0.9  -0.02 -0.02 -0.3   0.86 -0.1   0.3  -0.08]\n",
      "CD_x error at height 32:\n",
      " [-1.16  0.18 -0.56  3.16 -0.26 -0.02  1.64 -1.9   5.24  0.36 -1.12]\n",
      "CD_y error at height 32:\n",
      " [ 0.16  0.2  -0.16  0.28  0.32 -0.3   0.14  0.5   0.06 -2.28  0.06]\n",
      "CD_x error at height 40:\n",
      " [ 1.52 -4.4   0.02 -3.86  1.12  4.22  1.06  0.68 -6.02  0.24 -0.72]\n",
      "CD_y error at height 40:\n",
      " [-0.16 -2.4   0.34  0.8  -0.06  0.32  0.02  0.14  0.48 -0.36 -0.04]\n",
      "CD_x error at height 48:\n",
      " [-0.64  5.04 -1.3   1.96 -0.16  0.22  2.4   1.56  0.62  0.22  0.92]\n",
      "CD_y error at height 48:\n",
      " [-0.52 -0.32 -0.94  0.5   0.12  0.38  0.58  0.24 -0.38 -1.16  0.9 ]\n",
      "CD_x error at height 56:\n",
      " [-4.1   0.14  2.78  4.3  -1.12 -0.    3.66  5.22  8.82  3.02  1.88]\n",
      "CD_y error at height 56:\n",
      " [ 2.82  0.74  2.06 -0.02 -0.2   2.4   0.06 -0.1  -0.4   0.28  1.62]\n",
      "CD_x error at height 64:\n",
      " [ 3.02  1.    3.78 -0.7  -0.2   1.02  2.58  2.74  4.84  0.2   1.  ]\n",
      "CD_y error at height 64:\n",
      " [ 0.48  0.38 -1.12 -1.76 -0.34 -1.3  -2.16 -0.12  0.46  0.04 -2.46]\n"
     ]
    },
    {
     "name": "stderr",
     "output_type": "stream",
     "text": [
      "\r",
      " 60%|██████    | 12/20 [8:39:51<5:48:40, 2615.12s/it]"
     ]
    },
    {
     "name": "stdout",
     "output_type": "stream",
     "text": [
      "CD_x error at height 72:\n",
      " [2.02 1.38 1.68 0.92 1.7  1.22 2.62 1.34 4.04 1.66 1.18]\n",
      "CD_y error at height 72:\n",
      " [ 0.36  1.14 -0.78 -0.24 -0.64  0.08 -0.52 -0.18  0.12 -0.62 -2.06]\n",
      "CD_RMSE for label 11: [2.369 0.909]\n",
      "../dataset_train_v1/0092Acid_ini Read in 0.15 s\n",
      "../dataset_train_v1/0092Inhibitor Read in 0.15 s\n",
      "RMSE for label 12: [0.005 0.424]\n",
      "NMSE for label 12: [11.441  1.062]\n",
      "NMSE_height for label 12: [12.575  0.917]\n"
     ]
    },
    {
     "name": "stderr",
     "output_type": "stream",
     "text": [
      "<<<\n",
      "time:\t0.425934s\n",
      "<<<\n"
     ]
    },
    {
     "name": "stdout",
     "output_type": "stream",
     "text": [
      "\n",
      "!Start to clear memory\n",
      "\n",
      "!Start to clear memory\n"
     ]
    },
    {
     "name": "stderr",
     "output_type": "stream",
     "text": [
      "<<<\n",
      "time:\t0.408548s\n",
      "<<<\n"
     ]
    },
    {
     "name": "stdout",
     "output_type": "stream",
     "text": [
      "CD_x error at height 0:\n",
      " [-3.34 -3.36 -5.36  0.18 -4.8 ]\n",
      "CD_y error at height 0:\n",
      " [-0.16 -0.6   0.88  0.24 -5.04]\n",
      "CD_x error at height 8:\n",
      " [ 3.66  0.88  0.08  0.04 -0.1 ]\n",
      "CD_y error at height 8:\n",
      " [-0.14 -0.16 -0.06  0.04 -0.48]\n",
      "CD_x error at height 16:\n",
      " [-1.44  0.    0.2  -0.34  0.34]\n",
      "CD_y error at height 16:\n",
      " [ 0.62 -0.46  0.08  0.36 -0.06]\n",
      "CD_x error at height 24:\n",
      " [4.82 0.22 0.06 1.38 0.82]\n",
      "CD_y error at height 24:\n",
      " [-0.02 -0.08 -0.52 -0.12  0.86]\n",
      "CD_x error at height 32:\n",
      " [ 1.12 -0.6  -1.96  0.9   0.02]\n",
      "CD_y error at height 32:\n",
      " [ 0.06  0.06  0.7  -0.58  0.1 ]\n",
      "CD_x error at height 40:\n",
      " [ 3.46 -0.84 -2.42 -2.2   0.6 ]\n",
      "CD_y error at height 40:\n",
      " [ 1.6  -0.58 -0.38  1.74 -0.2 ]\n",
      "CD_x error at height 48:\n",
      " [1.48 0.54 4.98 6.26 3.08]\n",
      "CD_y error at height 48:\n",
      " [-0.1   0.3  -0.38  1.06  4.16]\n",
      "CD_x error at height 56:\n",
      " [ 3.76  1.34  2.14  0.82 -0.92]\n",
      "CD_y error at height 56:\n",
      " [ 0.5  -1.9   1.14  0.18 -0.16]\n",
      "CD_x error at height 64:\n",
      " [2.76 6.6  1.3  2.96 1.58]\n",
      "CD_y error at height 64:\n",
      " [-1.28  0.28 -0.36 -1.12 -0.16]\n"
     ]
    },
    {
     "name": "stderr",
     "output_type": "stream",
     "text": [
      "\r",
      " 65%|██████▌   | 13/20 [9:25:02<5:08:29, 2644.18s/it]"
     ]
    },
    {
     "name": "stdout",
     "output_type": "stream",
     "text": [
      "CD_x error at height 72:\n",
      " [1.36 3.54 0.92 2.72 1.1 ]\n",
      "CD_y error at height 72:\n",
      " [0.24 2.1  0.26 0.1  0.42]\n",
      "CD_RMSE for label 12: [2.579 1.161]\n",
      "../dataset_train_v1/0093Acid_ini Read in 0.15 s\n",
      "../dataset_train_v1/0093Inhibitor Read in 0.15 s\n",
      "RMSE for label 13: [0.008 0.629]\n",
      "NMSE for label 13: [11.569  1.578]\n",
      "NMSE_height for label 13: [12.165  1.342]\n"
     ]
    },
    {
     "name": "stderr",
     "output_type": "stream",
     "text": [
      "<<<\n",
      "time:\t0.446533s\n",
      "<<<\n"
     ]
    },
    {
     "name": "stdout",
     "output_type": "stream",
     "text": [
      "\n",
      "!Start to clear memory\n",
      "\n",
      "!Start to clear memory\n"
     ]
    },
    {
     "name": "stderr",
     "output_type": "stream",
     "text": [
      "<<<\n",
      "time:\t0.410194s\n",
      "<<<\n"
     ]
    },
    {
     "name": "stdout",
     "output_type": "stream",
     "text": [
      "CD_x error at height 0:\n",
      " [ 1.88  0.52 -3.28  4.88 -5.24 -3.22  0.06  1.78  0.02  0.4   4.2 ]\n",
      "CD_y error at height 0:\n",
      " [-0.78 -0.36  0.24 -0.18 -0.42 -0.12 -0.08  0.36  0.58  0.64  0.66]\n",
      "CD_x error at height 8:\n",
      " [ 6.54  4.32  0.22 -0.22 -0.84  0.4   0.08  5.22  0.06  0.84 -0.12]\n",
      "CD_y error at height 8:\n",
      " [ 0.12  0.04  0.14  0.98  0.12 -0.12  0.78  0.32  0.08  0.02 -0.4 ]\n",
      "CD_x error at height 16:\n",
      " [ 0.2  -0.6   1.76  0.08 -1.28  0.54 -0.2   3.98  0.12  0.56  2.24]\n",
      "CD_y error at height 16:\n",
      " [-0.28 -1.42  0.54  0.26  0.16  0.1   0.28  0.18  0.1   0.36  0.02]\n",
      "CD_x error at height 24:\n",
      " [-0.7   0.34  0.02  5.    2.12  0.34 -0.02 -0.02  0.    0.16  0.74]\n",
      "CD_y error at height 24:\n",
      " [ 0.34  0.12  0.66  0.1  -0.04  0.16  0.82  0.74  0.1   0.02 -0.26]\n",
      "CD_x error at height 32:\n",
      " [-0.68  0.02  1.54 -0.1  -0.1   0.6  -0.    1.26  0.5   0.12 -0.56]\n",
      "CD_y error at height 32:\n",
      " [-0.24 -0.48 -0.18  0.26 -0.6   0.1  -0.02 -0.02 -0.16  0.28  0.72]\n",
      "CD_x error at height 40:\n",
      " [ 0.16  0.1  -0.2   1.56 -0.44  0.96  0.16  0.1   3.98 -0.24  4.64]\n",
      "CD_y error at height 40:\n",
      " [ 1.68  0.12 -0.1   0.64 -0.04  0.16  0.12 -0.2   0.06 -0.38  0.06]\n",
      "CD_x error at height 48:\n",
      " [-0.88 -0.06 -1.32 -0.16  0.18 -2.4   1.86  3.82 -0.86 -0.18  5.14]\n",
      "CD_y error at height 48:\n",
      " [-0.42  0.46  0.    0.14 -0.32 -0.8   0.76 -0.   -0.2   0.46 -0.68]\n",
      "CD_x error at height 56:\n",
      " [ 1.2  -0.52  2.68 -1.22  2.86 -0.18  4.26  3.9   3.48  4.24  2.08]\n",
      "CD_y error at height 56:\n",
      " [ 0.28  1.18  1.4   0.36  2.88  0.1  -0.14 -0.26  0.28 -0.04 -0.42]\n",
      "CD_x error at height 64:\n",
      " [ 1.94  0.4  -0.96  3.14  0.02  0.98  0.58  2.84  1.22  3.    0.76]\n",
      "CD_y error at height 64:\n",
      " [ 0.38 -0.1   0.2  -1.24 -0.16 -0.1  -0.68 -0.26 -0.66  0.04 -0.46]\n"
     ]
    },
    {
     "name": "stderr",
     "output_type": "stream",
     "text": [
      "\r",
      " 70%|███████   | 14/20 [10:08:09<4:22:40, 2626.75s/it]"
     ]
    },
    {
     "name": "stdout",
     "output_type": "stream",
     "text": [
      "CD_x error at height 72:\n",
      " [2.3  2.32 1.3  2.34 2.4  2.86 3.54 1.42 2.34 1.78 2.66]\n",
      "CD_y error at height 72:\n",
      " [ 0.6   0.58  0.1   0.64 -0.4  -1.64 -1.3   0.34  0.14  0.14  0.34]\n",
      "CD_RMSE for label 13: [2.192 0.582]\n",
      "../dataset_train_v1/0094Acid_ini Read in 0.14 s\n",
      "../dataset_train_v1/0094Inhibitor Read in 0.14 s\n",
      "RMSE for label 14: [0.013 0.98 ]\n",
      "NMSE for label 14: [15.229  2.461]\n",
      "NMSE_height for label 14: [16.348  2.256]\n"
     ]
    },
    {
     "name": "stderr",
     "output_type": "stream",
     "text": [
      "<<<\n",
      "time:\t0.422946s\n",
      "<<<\n"
     ]
    },
    {
     "name": "stdout",
     "output_type": "stream",
     "text": [
      "\n",
      "!Start to clear memory\n",
      "\n",
      "!Start to clear memory\n"
     ]
    },
    {
     "name": "stderr",
     "output_type": "stream",
     "text": [
      "<<<\n",
      "time:\t0.411799s\n",
      "<<<\n"
     ]
    },
    {
     "name": "stdout",
     "output_type": "stream",
     "text": [
      "Contact 12 in 0-CD_x_pred is redundant, with info [651.043 705.485  25.001]\n",
      "CD_x error at height 0:\n",
      " [-1.24   1.4   -0.52   1.66   0.2    2.38  -0.24   0.1    0.6   -0.12   4.22   0.28  25.001  1.26\n",
      "  0.42   0.5    0.24 ]\n",
      "Contact 12 in 0-CD_y_pred is redundant, with info [665.683 690.245  25.701]\n",
      "CD_y error at height 0:\n",
      " [ 0.22   0.02   0.08  -0.04  -0.     0.24   1.12   0.62   0.08  -0.84  -0.42   0.96  25.701 -0.34\n",
      " -0.14  -0.78   0.46 ]\n",
      "Contact 12 in 8-CD_x_pred is redundant, with info [654.303 704.085  20.401]\n",
      "CD_x error at height 8:\n",
      " [ 4.22   0.28   4.04   1.34   0.04   3.28   5.18  -0.14   3.2    1.54   4.4    0.04  20.401  3.06\n",
      " -0.04   0.58   0.06 ]\n",
      "Contact 12 in 8-CD_y_pred is redundant, with info [670.584 693.705  17.701]\n",
      "CD_y error at height 8:\n",
      " [ -0.22   -0.04    0.12    0.08    0.      1.08    0.18    0.5     0.2    -0.4     0.02    0.16\n",
      "  17.701 -38.522   0.3     0.1    -0.06    0.36 ]\n",
      "CD_x error at height 16:\n",
      " [-0.12  1.92 -0.08  2.02  0.04  4.6   0.22  1.66  0.54 -0.02 -0.12  3.88 -0.4   1.34 -0.54 -0.28]\n",
      "Contact 15 in 16-CD_y_label is redundant, with info [652.683 916.456   1.18 ]\n",
      "CD_y error at height 16:\n",
      " [ 0.36   0.08  -0.16   0.24  -0.06   0.4   -0.62  -0.24   0.16  -0.    -0.    -0.2   47.122 46.982\n",
      " 47.342 -1.18  40.742  0.6    0.38  -0.56  -0.16 ]\n",
      "CD_x error at height 24:\n",
      " [  3.18   -0.04    0.5     2.84    7.      1.8    -0.16   -0.82    1.6    -0.38    2.94    1.74\n",
      "  -0.46    0.14   -0.56  -21.061 -39.382]\n",
      "CD_y error at height 24:\n",
      " [ 0.24  0.1   0.06  0.06  0.26  0.24 -0.14 -0.24  0.42  2.14  0.12  0.08 -0.1  -0.08  0.32  0.16]\n",
      "CD_x error at height 32:\n",
      " [  5.14   -0.02    1.34    3.48    0.28    0.46   -0.7     0.1    -1.88   -0.12   -0.3     0.28\n",
      "   0.12   -0.4     0.02  -11.941]\n",
      "CD_y error at height 32:\n",
      " [  0.44    0.16   -0.56   -0.32    0.32    0.06    0.38   -0.14    0.96    0.02   -0.24  -10.021\n",
      "   0.2    -0.36    0.16    0.04 ]\n",
      "Contact 16 in 40-CD_x_label is redundant, with info [615.281 900.695   8.54 ]\n",
      "CD_x error at height 40:\n",
      " [ 0.54  0.4   0.28 -0.4  -0.   -0.4   2.36  0.78  2.46 -0.02  1.12 -0.52  0.14  0.16 -2.66 -7.56\n",
      " -8.54]\n",
      "CD_y error at height 40:\n",
      " [  0.22   -0.12   -0.16    0.2     0.28    0.02   -0.      0.06    0.3     0.5    -0.84  -13.861\n",
      "  -0.18   -0.2     0.06   -1.04 ]\n",
      "CD_x error at height 48:\n",
      " [ 5.56  3.66 -0.54  1.54  3.08  0.08  0.82  5.68 -0.22  0.1   0.64  2.12  0.58  0.68 -3.62 -3.9 ]\n",
      "CD_y error at height 48:\n",
      " [ 2.52   0.66  -0.02  -0.06   0.06   1.02  -1.22  -0.04  -0.36  -1.88  -0.02  -8.861  0.16   0.08\n",
      " -0.94   4.9  ]\n",
      "CD_x error at height 56:\n",
      " [ 2.36  1.96  3.16  2.9   0.22  2.64  0.28 -0.04  4.9   2.34  1.4   0.7  -0.18 -1.34 -0.12 -1.98]\n",
      "CD_y error at height 56:\n",
      " [ 5.76 -1.3  -0.16  1.4  -0.84 -0.34 -0.02  0.08  0.24 -0.98 -0.06 -4.68 -1.04 -0.46 -0.5   0.84]\n",
      "CD_x error at height 64:\n",
      " [ 3.22  0.46 -0.9   2.32 -0.12  2.74  2.02  1.88  0.42  0.56  1.54  5.02  3.98  3.16  1.26]\n",
      "CD_y error at height 64:\n",
      " [-0.46  0.54 -1.42 -1.28 -1.98 -0.54 -0.3  -0.78 -0.   -1.72 -0.54  1.66 -0.64 -0.86 -1.3 ]\n"
     ]
    },
    {
     "name": "stderr",
     "output_type": "stream",
     "text": [
      "\r",
      " 75%|███████▌  | 15/20 [10:51:19<3:37:58, 2615.66s/it]"
     ]
    },
    {
     "name": "stdout",
     "output_type": "stream",
     "text": [
      "CD_x error at height 72:\n",
      " [0.78 1.08 2.28 1.78 2.9  1.96 1.42 3.04 2.4  2.8  2.44 2.9  3.44 3.24 1.58]\n",
      "CD_y error at height 72:\n",
      " [ 0.96  0.52 -1.26 -0.66 -2.46 -0.24 -0.16  0.58 -0.48 -1.66 -0.4   1.16 -1.22 -1.32 -0.48]\n",
      "CD_RMSE for label 14: [4.987 8.256]\n",
      "../dataset_train_v1/0095Acid_ini Read in 0.16 s\n",
      "../dataset_train_v1/0095Inhibitor Read in 0.15 s\n",
      "RMSE for label 15: [0.009 0.755]\n",
      "NMSE for label 15: [11.566  1.896]\n",
      "NMSE_height for label 15: [12.187  1.658]\n"
     ]
    },
    {
     "name": "stderr",
     "output_type": "stream",
     "text": [
      "<<<\n",
      "time:\t0.418649s\n",
      "<<<\n"
     ]
    },
    {
     "name": "stdout",
     "output_type": "stream",
     "text": [
      "\n",
      "!Start to clear memory\n"
     ]
    },
    {
     "name": "stderr",
     "output_type": "stream",
     "text": [
      "<<<\n",
      "time:\t0.440876s\n",
      "<<<\n"
     ]
    },
    {
     "name": "stdout",
     "output_type": "stream",
     "text": [
      "\n",
      "!Start to clear memory\n",
      "CD_x error at height 0:\n",
      " [ 0.14  5.16  2.74  0.14  0.1   0.04 -0.02 -0.26 -0.9   0.04 -1.22  2.5   0.6 ]\n",
      "CD_y error at height 0:\n",
      " [-0.08 -0.06 -0.1   1.06  0.26  0.64  0.22  0.18  0.04  0.4  -0.04  0.1   0.1 ]\n",
      "CD_x error at height 8:\n",
      " [-0.54  5.5   0.94  0.02  0.24  2.4  -0.72  0.94 -0.44  0.52  0.1   1.62  0.98]\n",
      "CD_y error at height 8:\n",
      " [ 0.14  0.    0.26  0.46  0.46  0.14  0.14  0.26  1.5   0.9  -0.26  0.36 -0.22]\n",
      "CD_x error at height 16:\n",
      " [ 3.14  5.04  2.52 -0.6  -0.36 -2.94  2.08  0.08  0.46  0.26  0.06  5.12  2.5 ]\n",
      "CD_y error at height 16:\n",
      " [-0.12 -0.08  0.04  0.3  -0.22  0.34  0.08  0.34 -0.22  0.4  -0.08  1.16 -0.42]\n",
      "CD_x error at height 24:\n",
      " [-0.04  4.44  0.4  -0.3  -0.46 -2.18 -0.02 -0.1   4.12  0.36 -4.06  3.2  -0.02]\n",
      "CD_y error at height 24:\n",
      " [ 0.54  0.46  0.16 -0.18  0.18  0.12 -0.14  0.32  0.22 -0.82  0.08  0.12 -0.42]\n",
      "CD_x error at height 32:\n",
      " [-0.26  3.46 -0.02  5.54 -3.06 -0.32  3.86 -0.36  2.88 -0.38  3.9   2.06  0.12]\n",
      "CD_y error at height 32:\n",
      " [-0.24 -0.38  0.08  0.04  0.02  0.18 -0.64  0.08 -0.12 -0.38  0.56 -0.   -0.16]\n",
      "CD_x error at height 40:\n",
      " [-2.08 -3.02 -0.06  7.26  0.46 -3.04 -0.3  -1.84 -4.96 -0.86 -0.82 -0.16 -2.72]\n",
      "CD_y error at height 40:\n",
      " [ 0.72 -0.1  -0.14  0.18 -0.94 -0.22 -0.18 -0.28  0.54  0.34 -0.28 -0.22 -0.1 ]\n",
      "CD_x error at height 48:\n",
      " [ 1.34 -3.58 -0.82  3.52  3.9  -0.48 -0.02  3.7  -3.38 -1.88  1.74 -3.2  -0.1 ]\n",
      "CD_y error at height 48:\n",
      " [ 0.74 -0.78 -0.24  0.06  0.22 -0.26 -1.68  0.08  1.04  0.08  3.32 -0.3   0.02]\n",
      "CD_x error at height 56:\n",
      " [ 2.32  7.9   2.68  2.76  3.02  2.06 -0.12  0.14  4.32 -0.38  1.12  3.56  1.18]\n",
      "CD_y error at height 56:\n",
      " [-1.9  -0.28  2.14 -1.22 -0.   -0.18  0.16 -0.34 -0.14  1.4  -0.02 -0.08  0.08]\n",
      "CD_x error at height 64:\n",
      " [ 1.38 -1.12  0.86 -0.54  1.66  1.18  1.02  3.74  0.66  3.62  1.2  -0.22  3.54]\n",
      "CD_y error at height 64:\n",
      " [ 0.18  0.32 -1.1   1.14 -0.34 -0.7  -0.92 -0.88 -0.34 -1.38 -1.02  0.12  0.16]\n"
     ]
    },
    {
     "name": "stderr",
     "output_type": "stream",
     "text": [
      "\r",
      " 80%|████████  | 16/20 [11:34:29<2:53:51, 2607.99s/it]"
     ]
    },
    {
     "name": "stdout",
     "output_type": "stream",
     "text": [
      "CD_x error at height 72:\n",
      " [0.86 1.22 1.46 1.3  1.04 0.96 1.42 1.68 1.88 0.84 1.42 1.02 3.1 ]\n",
      "CD_y error at height 72:\n",
      " [-1.14  0.98 -0.1   0.4   0.44 -0.42 -0.08 -0.18 -0.52 -0.66  0.06 -1.84  0.24]\n",
      "CD_RMSE for label 15: [2.396 0.657]\n",
      "../dataset_train_v1/0096Acid_ini Read in 0.15 s\n",
      "../dataset_train_v1/0096Inhibitor Read in 0.15 s\n",
      "RMSE for label 16: [0.011 0.947]\n",
      "NMSE for label 16: [11.547  2.384]\n",
      "NMSE_height for label 16: [12.384  2.088]\n",
      "\n",
      "!Start to clear memory\n"
     ]
    },
    {
     "name": "stderr",
     "output_type": "stream",
     "text": [
      "<<<\n",
      "time:\t0.446199s\n",
      "<<<\n"
     ]
    },
    {
     "name": "stdout",
     "output_type": "stream",
     "text": [
      "\n",
      "!Start to clear memory\n"
     ]
    },
    {
     "name": "stderr",
     "output_type": "stream",
     "text": [
      "<<<\n",
      "time:\t0.434025s\n",
      "<<<\n"
     ]
    },
    {
     "name": "stdout",
     "output_type": "stream",
     "text": [
      "CD_x error at height 0:\n",
      " [-1.84 -1.2  -2.62  1.08  0.54  4.3   2.62  0.18  0.2  -3.82 -1.98  0.74  0.58 -0.1   1.64 -3.86\n",
      "  0.12  0.02  0.78  0.26  1.08  1.2   2.8 ]\n",
      "CD_y error at height 0:\n",
      " [ -0.86   -0.62   -0.5    -4.28   -3.32   -1.04   -0.02    0.26    1.46    0.04   -0.16    0.24\n",
      "   0.42    0.3     0.28    0.28   -0.56    0.12    0.06   -0.12    0.28  -10.401  -2.44 ]\n",
      "CD_x error at height 8:\n",
      " [ 4.56  1.38  0.08  0.46 -0.52  3.14  3.16  0.3   0.16 -0.08  5.84  3.38  1.78  0.22 -0.18  0.04\n",
      "  1.18  0.2  -0.2   0.04  1.24  1.32  7.24]\n",
      "CD_y error at height 8:\n",
      " [ 0.78  0.02  0.68  0.16 -2.08  0.28  0.12  0.42 -0.42  0.38  0.02 -0.08  0.12  0.02  0.04 -0.2\n",
      " -0.1   0.26 -0.26  0.28  0.08 -0.8  -1.08]\n",
      "CD_x error at height 16:\n",
      " [-0.12 -1.8   0.66  1.9  -0.14  5.06  2.52  0.32 -0.4   2.96  0.82  0.38  0.08  2.12 -0.06  0.12\n",
      " -0.16 -0.64  0.2   0.22 -1.46  0.1   8.38]\n",
      "CD_y error at height 16:\n",
      " [-0.06 -0.24  0.08  0.1   1.44 -0.26 -0.    0.2   0.32  0.12  0.08 -0.1  -0.42 -0.5  -0.32  0.82\n",
      "  0.2  -0.06  0.16  0.46 -0.8  -0.52 -0.62]\n",
      "CD_x error at height 24:\n",
      " [ 0.06 -0.14  0.88 -0.48  3.56  4.2   1.72  0.66 -0.28  1.98  0.08  0.22 -0.04  3.9   0.98 -0.36\n",
      "  0.1   0.16  0.9  -0.46  0.02  0.14  4.66]\n",
      "CD_y error at height 24:\n",
      " [ 0.54 -0.4   0.2  -0.44  0.02  0.    0.06 -0.2   0.28  0.18 -0.   -0.14 -0.1  -0.02  1.88 -0.04\n",
      "  0.1   0.16  2.08  0.02 -1.14  1.8   0.24]\n",
      "CD_x error at height 32:\n",
      " [-0.18 -2.82  0.26  0.06 -0.02 -1.02  2.08 -0.22  0.16  3.86  0.84  2.88  0.9   4.04  0.04 -0.22\n",
      "  1.92  0.32 -0.3  -0.   -0.    0.76  4.42]\n",
      "CD_y error at height 32:\n",
      " [ 0.32 -0.04  0.18 -0.    0.4   0.1  -0.8   0.5  -0.08  0.16  0.42  0.08 -0.   -0.94  0.96 -0.24\n",
      "  0.16 -0.48 -0.24 -0.12 -0.3   1.08  0.24]\n",
      "CD_x error at height 40:\n",
      " [ 3.1  -3.72  4.72  0.02 -0.52  0.54 -0.16 -0.16  2.56  1.22  0.42  3.68  4.26  6.06  3.52  0.12\n",
      " -0.16  0.1   4.04  0.16  0.26  0.12  1.44]\n",
      "CD_y error at height 40:\n",
      " [-0.22  0.22  0.94 -0.58  2.54 -0.72 -0.74 -0.16  0.5  -0.08  0.1   0.58 -0.12  1.2   0.28  0.28\n",
      " -0.42 -0.08 -0.24  1.02 -0.08 -0.36  2.84]\n",
      "CD_x error at height 48:\n",
      " [ 1.12 -6.58 -2.82 -0.1   0.96  4.74  2.68 -1.4   0.46  2.74  3.86  3.8  -2.    1.46 -0.22 -0.02\n",
      " -0.22  0.94  3.88  1.2   0.04  3.02  2.68]\n",
      "CD_y error at height 48:\n",
      " [ 1.06 -0.3  -0.46  0.4  -0.46  0.28  0.46 -0.64  0.82  0.24 -0.9  -0.18  0.26 -0.5  -0.54  0.04\n",
      " -1.   -0.02 -3.52  1.14 -0.04  3.82 -0.4 ]\n",
      "CD_x error at height 56:\n",
      " [ 3.82 -0.46 -0.16 -0.12  2.28  1.46  1.62  2.36  0.42  1.52  1.74  1.34  1.86 -0.42  4.26  1.86\n",
      "  2.78 -0.14  0.48  4.78  5.12  4.98  2.82]\n",
      "CD_y error at height 56:\n",
      " [-0.32 -0.3   0.86  0.6   0.8   1.96 -0.82  2.32  0.22 -0.56  0.22  0.04 -0.06 -0.18 -0.94  0.\n",
      " -0.22 -0.2  -2.   -0.32 -1.24  1.62  4.04]\n",
      "CD_x error at height 64:\n",
      " [ 4.54  0.94  4.66  1.82  1.94  0.96  0.72  1.88  0.62  1.    2.54  2.12 -1.86  2.54  0.48  0.7\n",
      " -3.    1.92  4.54  5.86  0.02  0.96  3.64]\n",
      "CD_y error at height 64:\n",
      " [-0.4  -0.96 -0.48 -0.12  0.14 -0.54 -0.6  -0.72  0.3  -0.16 -0.76 -1.78 -0.48 -0.06  4.34 -0.4\n",
      " -0.06 -0.64 -0.28 -0.74 -1.1   3.48  3.78]\n"
     ]
    },
    {
     "name": "stderr",
     "output_type": "stream",
     "text": [
      "\r",
      " 85%|████████▌ | 17/20 [12:18:41<2:11:03, 2621.23s/it]"
     ]
    },
    {
     "name": "stdout",
     "output_type": "stream",
     "text": [
      "CD_x error at height 72:\n",
      " [1.94 1.02 1.16 0.74 1.14 1.7  1.74 1.64 2.26 3.6  2.94 1.82 3.36 1.7  0.44 1.94 2.   1.96 1.8\n",
      " 1.64 1.26 4.52]\n",
      "CD_y error at height 72:\n",
      " [ 0.06  0.26 -0.16  0.52  3.94  0.46  0.46 -0.64  0.44  0.04  0.28 -1.18  0.8   0.3   1.76 -0.7\n",
      " -0.54 -0.56 -0.62 -0.9  -1.22  3.78]\n",
      "CD_RMSE for label 16: [2.335 1.267]\n",
      "../dataset_train_v1/0097Acid_ini Read in 0.15 s\n",
      "../dataset_train_v1/0097Inhibitor Read in 0.13 s\n",
      "RMSE for label 17: [0.01  0.813]\n",
      "NMSE for label 17: [11.468  2.042]\n",
      "NMSE_height for label 17: [12.299  1.788]\n",
      "\n",
      "!Start to clear memory\n"
     ]
    },
    {
     "name": "stderr",
     "output_type": "stream",
     "text": [
      "<<<\n",
      "time:\t0.54876s\n",
      "<<<\n"
     ]
    },
    {
     "name": "stdout",
     "output_type": "stream",
     "text": [
      "\n",
      "!Start to clear memory\n"
     ]
    },
    {
     "name": "stderr",
     "output_type": "stream",
     "text": [
      "<<<\n",
      "time:\t0.458426s\n",
      "<<<\n"
     ]
    },
    {
     "name": "stdout",
     "output_type": "stream",
     "text": [
      "CD_x error at height 0:\n",
      " [-5.3  -2.96  0.8   3.8   2.12  1.12 -2.98  1.12 -0.76 -5.04  0.16  0.94  1.52 -4.36  3.54 -0.02\n",
      " -4.8 ]\n",
      "CD_y error at height 0:\n",
      " [-0.88 -1.74  0.16 -0.24 -0.34  0.64 -0.5  -0.02 -5.7  -0.24  0.5   0.16 -0.14  0.4   0.14  0.12\n",
      "  0.26]\n",
      "CD_x error at height 8:\n",
      " [-0.1   0.3  -0.34 -0.44  3.22  4.2   0.26  3.44 -0.56 -0.24 -0.08  1.16  2.44  0.4   2.48  0.08\n",
      "  0.32]\n",
      "CD_y error at height 8:\n",
      " [-0.1  -0.08  0.14 -1.16  0.48  0.22 -0.06  0.62 -0.12 -0.16  1.16  0.1  -0.   -0.68 -0.06  0.58\n",
      "  0.02]\n",
      "CD_x error at height 16:\n",
      " [ 3.78 -0.68  0.36  0.38  6.9  -0.02  1.28  4.28  0.04 -1.1   3.02  1.08  0.56  0.08 -0.08 -0.1\n",
      "  0.64]\n",
      "CD_y error at height 16:\n",
      " [-0.16  0.2  -0.58 -0.54 -0.    0.04  0.04  0.22  0.12 -1.92 -0.46  0.3  -0.04 -0.2   0.12  0.18\n",
      "  0.36]\n",
      "CD_x error at height 24:\n",
      " [ 0.56  0.78 -0.98 -1.12  5.48  0.72  1.74 -0.24 -0.06 -1.02  0.08  1.56  0.    0.24  3.44  2.28\n",
      " -2.32]\n",
      "CD_y error at height 24:\n",
      " [-0.04 -0.3   0.38  0.34  0.1   0.12 -0.32 -0.06 -0.12 -0.26  0.3  -0.28  0.7  -0.02  0.06 -0.26\n",
      " -1.12]\n",
      "CD_x error at height 32:\n",
      " [-3.96  0.08  0.04  2.6   4.6   1.26  3.42 -0.    0.38  0.8   0.64  2.96 -0.02 -0.08  3.38 -0.04\n",
      "  1.58]\n",
      "CD_y error at height 32:\n",
      " [ 0.28 -0.1   0.34  1.08  0.02 -0.   -0.12 -0.32 -0.5   0.22 -0.08 -0.16  0.14  0.02 -2.18  0.16\n",
      "  2.96]\n",
      "CD_x error at height 40:\n",
      " [ 1.14 -0.02 -1.28 -0.46  2.88  2.28  1.54  1.28 -4.52 -1.94 -0.44  8.22 -2.26  1.86  0.86 -0.3\n",
      "  0.36]\n",
      "CD_y error at height 40:\n",
      " [ 0.06  1.24 -0.3   0.12 -0.66  0.52  1.2  -0.3   0.94 -0.1  -0.64 -0.16  0.32 -0.06  0.12 -0.7\n",
      "  0.4 ]\n",
      "CD_x error at height 48:\n",
      " [ 3.32  2.96 -2.02 -0.02 -2.6   2.64  0.12  0.9  -0.98 -0.36  3.48  5.42  0.   -0.06 -1.32 -0.66\n",
      "  5.72]\n",
      "CD_y error at height 48:\n",
      " [ 0.58  0.04 -0.54  1.1  -0.28 -2.42  0.04  0.12  0.28 -1.88 -0.22  0.02 -0.06  0.1   0.18  0.88\n",
      " -0.08]\n",
      "CD_x error at height 56:\n",
      " [ 1.2   1.36 -1.06  2.56 -0.18  0.04  1.26  0.04 -0.22  0.04  2.8   0.1   1.    1.78 -1.34  2.62\n",
      "  1.5 ]\n",
      "CD_y error at height 56:\n",
      " [ 1.46  0.6  -0.96 -0.5  -0.48  3.38 -0.   -0.02  0.32 -0.14  1.84 -0.02 -1.8   0.44 -0.62 -0.\n",
      " -0.28]\n",
      "CD_x error at height 64:\n",
      " [-0.26  2.22  2.36  0.34  0.66  1.06 -0.7   0.6  -0.34  3.82  2.3   1.62  1.8   1.52 -0.96  0.26\n",
      "  4.36]\n",
      "CD_y error at height 64:\n",
      " [-0.1   0.48 -0.16 -0.32  1.32 -0.   -0.02  0.12  0.54 -2.04  0.9  -1.1  -2.72  0.5  -2.   -0.84\n",
      "  0.32]\n"
     ]
    },
    {
     "name": "stderr",
     "output_type": "stream",
     "text": [
      "\r",
      " 90%|█████████ | 18/20 [13:02:40<1:27:33, 2626.55s/it]"
     ]
    },
    {
     "name": "stdout",
     "output_type": "stream",
     "text": [
      "CD_x error at height 72:\n",
      " [3.34 1.64 0.92 2.02 1.76 0.82 2.74 2.   0.56 1.28 1.88 1.18 2.46 2.06 0.34 1.18 2.1 ]\n",
      "CD_y error at height 72:\n",
      " [ 0.44  0.34 -0.98 -0.56 -0.18  0.82 -1.2  -0.2   2.48 -0.48  1.36 -1.26 -0.7   1.   -1.56 -0.62\n",
      "  0.36]\n",
      "CD_RMSE for label 17: [2.218 0.923]\n",
      "../dataset_train_v1/0098Acid_ini Read in 0.15 s\n",
      "../dataset_train_v1/0098Inhibitor Read in 0.15 s\n",
      "RMSE for label 18: [0.011 0.91 ]\n",
      "NMSE for label 18: [11.662  2.287]\n",
      "NMSE_height for label 18: [12.432  2.011]\n"
     ]
    },
    {
     "name": "stderr",
     "output_type": "stream",
     "text": [
      "<<<\n",
      "time:\t0.482549s\n",
      "<<<\n"
     ]
    },
    {
     "name": "stdout",
     "output_type": "stream",
     "text": [
      "\n",
      "!Start to clear memory\n",
      "\n",
      "!Start to clear memory\n"
     ]
    },
    {
     "name": "stderr",
     "output_type": "stream",
     "text": [
      "<<<\n",
      "time:\t0.603392s\n",
      "<<<\n"
     ]
    },
    {
     "name": "stdout",
     "output_type": "stream",
     "text": [
      "Contact 18 in 0-CD_x_label is redundant, with info [348.887 879.694   5.78 ]\n",
      "CD_x error at height 0:\n",
      " [ 0.32 -0.9   2.66  0.18 -0.76  0.12  1.2   0.38  0.12 -2.1  -3.98  0.42  2.52 -1.28  0.02  0.02\n",
      "  0.32  0.32 -5.78  0.02]\n",
      "Contact 13 in 0-CD_y_label is redundant, with info [352.068 873.054  11.001]\n",
      "CD_y error at height 0:\n",
      " [ -1.82   -0.86   -2.04    3.56   -1.42    0.56    0.1    -2.5    -0.02    0.4     0.26   -0.1\n",
      "   0.22  -11.001  -0.04    0.04    0.66   -0.76    0.06    0.68 ]\n",
      "CD_x error at height 8:\n",
      " [-2.1  -0.64  0.18  0.28 -0.04  0.08 -0.28 -0.08  2.96  2.76  0.56  1.48  1.44  0.24  1.86  1.38\n",
      "  0.04  0.2   4.74  8.   -0.14]\n",
      "CD_y error at height 8:\n",
      " [-0.74  -0.     0.48  -0.18   0.04   0.54   0.54   0.46   0.22  -0.38  -0.     0.22   0.72   9.641\n",
      " -0.14   0.68   0.5    0.14  -0.14  -0.24 ]\n",
      "Contact 18 in 16-CD_x_pred is redundant, with info [350.988 875.594   6.46 ]\n",
      "CD_x error at height 16:\n",
      " [-1.24 -1.06  1.92  0.36  0.2  -0.5   4.88  0.16  3.16  3.14  0.12  3.82 -0.4   0.16 -0.66 -0.02\n",
      "  0.5  -0.26  6.46  0.58]\n",
      "Contact 13 in 16-CD_y_pred is redundant, with info [354.368 870.073  10.821]\n",
      "CD_y error at height 16:\n",
      " [-0.04  -0.08   0.1    0.08   0.    -0.26  -0.02   0.66  -0.76  -0.26  -0.18   0.     0.74  10.821\n",
      "  0.4   -0.04   0.     0.08   0.3    0.6  ]\n",
      "CD_x error at height 24:\n",
      " [ 0.38  0.18 -0.26 -0.62 -0.28  1.    0.24  0.16  2.9  -0.58 -0.88 -2.38 -0.    0.5   0.56  0.34\n",
      "  0.92 -0.14  1.04]\n",
      "CD_y error at height 24:\n",
      " [-0.06  0.12  0.02 -0.88  0.84 -0.1   0.64  0.22  0.    0.2   0.4   0.04  0.04  0.08 -0.04  0.22\n",
      " -0.06 -0.08  2.5 ]\n",
      "CD_x error at height 32:\n",
      " [-0.14  1.86 -0.06  0.08  0.5   1.7   3.74 -1.18  0.04 -0.08  1.16 -4.26  0.78  2.12  1.    0.28\n",
      "  0.04 -2.02 -0.14]\n",
      "CD_y error at height 32:\n",
      " [-0.18  0.18 -0.08 -0.08  0.06  0.18  2.92  1.   -0.48  0.68 -0.12 -0.08 -0.16 -0.12  0.32  0.16\n",
      " -0.06  0.16 -0.04]\n",
      "CD_x error at height 40:\n",
      " [-0.14  1.22  0.88 -0.06 -1.7   1.48  2.7  -1.34  0.1   1.6   0.32 -0.46 -0.64  2.64 -0.76 -0.46\n",
      " -0.24 -0.28 -0.64]\n",
      "CD_y error at height 40:\n",
      " [ 0.24 -0.22 -0.26 -0.02  0.08  0.36  0.38 -0.46 -0.26 -0.1  -0.34  0.12 -0.7   0.26  0.02  0.32\n",
      " -0.08 -1.42 -0.16]\n",
      "CD_x error at height 48:\n",
      " [ 3.6   1.02  0.64 -1.02  1.44  2.1   0.68 -0.52 -1.42 -0.16  2.96  0.48  6.28  3.12  3.22 -0.22\n",
      " -0.18 -2.94 -0.42]\n",
      "CD_y error at height 48:\n",
      " [-0.02 -0.36 -0.08 -1.36  0.94  0.68 -1.24 -0.12 -0.    0.54  0.12 -0.08  0.38 -0.12 -0.02  0.1\n",
      "  0.58  0.36 -0.28]\n",
      "CD_x error at height 56:\n",
      " [ 1.74  2.9   2.74  0.92  1.32  0.3   3.14  0.9  -0.12  1.14  0.9   0.86  3.72  6.36  0.46  0.06\n",
      " -3.02  4.72 -1.42]\n",
      "CD_y error at height 56:\n",
      " [ 1.26  0.16 -0.   -0.68  0.3   0.62  0.36  0.54 -0.56 -0.   -0.12 -0.48  0.12 -0.04 -0.12  0.06\n",
      " -0.56 -0.32 -0.86]\n",
      "CD_x error at height 64:\n",
      " [ 1.52  1.84  1.74  2.44  0.54  5.78  1.02 -0.22 -0.04  2.58  2.28  0.52  0.1   0.7   2.72  0.18\n",
      "  5.76  0.48  2.84]\n",
      "CD_y error at height 64:\n",
      " [-0.24 -1.86 -0.54 -1.42 -0.38 -0.94  0.78 -0.24 -1.98 -0.36 -0.2  -1.56 -1.74 -1.62 -0.4  -3.1\n",
      "  0.54 -0.96 -2.4 ]\n"
     ]
    },
    {
     "name": "stderr",
     "output_type": "stream",
     "text": [
      "\r",
      " 95%|█████████▌| 19/20 [13:46:37<43:49, 2629.61s/it]  "
     ]
    },
    {
     "name": "stdout",
     "output_type": "stream",
     "text": [
      "CD_x error at height 72:\n",
      " [0.52 1.3  0.7  1.14 3.12 0.74 2.28 0.9  1.5  0.86 1.54 1.12 2.08 2.46 2.44 1.02 1.46 1.94 2.64]\n",
      "CD_y error at height 72:\n",
      " [ 0.84 -1.28 -2.42 -0.46 -1.26 -1.72  2.5  -1.3  -0.4   2.16  0.16 -0.26 -0.86 -0.28  0.38  0.04\n",
      "  1.28 -0.52 -1.06]\n",
      "CD_RMSE for label 18: [2.019 1.556]\n",
      "../dataset_train_v1/0099Acid_ini Read in 0.15 s\n",
      "../dataset_train_v1/0099Inhibitor Read in 0.15 s\n",
      "RMSE for label 19: [0.005 0.463]\n",
      "NMSE for label 19: [11.332  1.159]\n",
      "NMSE_height for label 19: [12.058  1.031]\n"
     ]
    },
    {
     "name": "stderr",
     "output_type": "stream",
     "text": [
      "<<<\n",
      "time:\t0.537908s\n",
      "<<<\n"
     ]
    },
    {
     "name": "stdout",
     "output_type": "stream",
     "text": [
      "\n",
      "!Start to clear memory\n",
      "\n",
      "!Start to clear memory\n"
     ]
    },
    {
     "name": "stderr",
     "output_type": "stream",
     "text": [
      "<<<\n",
      "time:\t0.551714s\n",
      "<<<\n"
     ]
    },
    {
     "name": "stdout",
     "output_type": "stream",
     "text": [
      "CD_x error at height 0:\n",
      " [-0.32 -0.92  0.54  1.14 -0.28]\n",
      "CD_y error at height 0:\n",
      " [ 0.02  0.38  0.18 -0.16  0.26]\n",
      "CD_x error at height 8:\n",
      " [ 3.04 -0.08  0.1   0.28  0.68]\n",
      "CD_y error at height 8:\n",
      " [ 0.36  0.1   0.24 -0.04  0.02]\n",
      "CD_x error at height 16:\n",
      " [-0.18  0.72  0.38  0.38  0.82]\n",
      "CD_y error at height 16:\n",
      " [-0.82  0.24  0.56  0.12 -0.34]\n",
      "CD_x error at height 24:\n",
      " [ 2.42 -2.38 -0.    0.22  0.3 ]\n",
      "CD_y error at height 24:\n",
      " [-0.58 -0.76  0.06  0.02  0.08]\n",
      "CD_x error at height 32:\n",
      " [ 0.08  0.82 -2.44  0.28  0.16]\n",
      "CD_y error at height 32:\n",
      " [ 2.56 -0.04 -0.4   0.04 -0.98]\n",
      "CD_x error at height 40:\n",
      " [-2.24 -4.34  0.1  -0.06  0.04]\n",
      "CD_y error at height 40:\n",
      " [-0.34 -0.   -0.28 -1.24 -0.36]\n",
      "CD_x error at height 48:\n",
      " [-4.48  1.58  0.74  2.54  2.42]\n",
      "CD_y error at height 48:\n",
      " [-0.04  0.1   0.02  0.54  0.06]\n",
      "CD_x error at height 56:\n",
      " [ 0.44 -2.26  3.36  2.06  4.36]\n",
      "CD_y error at height 56:\n",
      " [ 0.04 -0.62 -0.12 -0.04  0.08]\n",
      "CD_x error at height 64:\n",
      " [-0.38  1.14  1.66  3.76  3.02]\n",
      "CD_y error at height 64:\n",
      " [-0.22 -1.3   0.04  0.06  0.04]\n"
     ]
    },
    {
     "name": "stderr",
     "output_type": "stream",
     "text": [
      "100%|██████████| 20/20 [14:29:46<00:00, 2609.31s/it]"
     ]
    },
    {
     "name": "stdout",
     "output_type": "stream",
     "text": [
      "CD_x error at height 72:\n",
      " [2.64 3.66 3.08 3.3  2.8 ]\n",
      "CD_y error at height 72:\n",
      " [ 0.24  0.46 -0.12 -0.88 -0.5 ]\n",
      "CD_RMSE for label 19: [2.037 0.563]\n",
      "CD Error: [2.621 1.508]\n",
      "RMSE(Mean, Std): [0.008 0.649] [0.003 0.204]\n",
      "NMSE(Mean, Std): [11.768  1.628] [0.975 0.514]\n",
      "NMSE_height: [[22.967 17.961 15.726 17.647 17.234 15.744 14.335 13.242 12.314 11.476 10.712 10.021  9.403\n",
      "   8.853  8.368  7.944  7.574  7.253  6.977  6.739 ...  8.858  9.563 10.412 11.422 12.609 13.99\n",
      "  15.576 17.382 19.42  21.708 24.256 27.117 30.418 33.727 35.032 33.216 33.269 43.312 59.734\n",
      "  73.982]\n",
      " [ 3.401  2.692  2.314  2.682  2.67   2.483  2.303  2.161  2.036  1.918  1.807  1.703  1.606\n",
      "   1.518  1.441  1.373  1.313  1.26   1.214  1.174 ...  0.955  0.928  0.912  0.905  0.925  0.97\n",
      "   1.028  1.102  1.187  1.271  1.358  1.444  1.526  1.528  1.19   0.882  2.148  3.428  4.358\n",
      "   4.943]]\n",
      "Top Error (mean): [39.406  2.28 ]\n"
     ]
    },
    {
     "name": "stderr",
     "output_type": "stream",
     "text": [
      "\n"
     ]
    },
    {
     "name": "stdout",
     "output_type": "stream",
     "text": [
      "Mean runtime: 0.9399727940559387\n",
      "RMSE(Ihb, rate): [0.008 0.649]\n",
      "NRMSE(Ihb, rate): [11.768  1.628]\n",
      "CD Error(x, y): [2.621 1.508]\n"
     ]
    }
   ],
   "source": [
    "model = Model_def(opt, Channels, device_train, True)\n",
    "Runtime, RMSE, NMSE, _, CD_err_x, CD_err_y, CD_RMSE = evaluate(opt, model, device_train, res_trans, RDevelop)\n",
    "print(\"Mean runtime:\", np.mean(Runtime))\n",
    "print(\"RMSE(Ihb, rate):\", np.mean(RMSE,axis=-1))\n",
    "print(\"NRMSE(Ihb, rate):\", np.mean(NMSE,axis=-1))\n",
    "print(\"CD Error(x, y):\", np.mean(CD_RMSE,axis=-1))"
   ]
  },
  {
   "cell_type": "code",
   "execution_count": 10,
   "metadata": {},
   "outputs": [
    {
     "data": {
      "image/png": "[encoded data removed]",
      "text/plain": [
       "<Figure size 720x432 with 1 Axes>"
      ]
     },
     "metadata": {
      "needs_background": "light"
     },
     "output_type": "display_data"
    }
   ],
   "source": [
    "Err_x, Err_y = np.array([]), np.array([])\n",
    "for tmp in range(len(CD_err_x)):\n",
    "    Err_x = np.append(Err_x, np.array(CD_err_x[tmp]).flatten())\n",
    "    Err_y = np.append(Err_y, np.array(CD_err_y[tmp]).flatten())\n",
    "\n",
    "np.savetxt(opt.respath+\"CDErr-x_deepCNN.csv\", Err_x.flatten(), delimiter=' ')\n",
    "np.savetxt(opt.respath+\"CDErr-y_deepCNN.csv\", Err_y.flatten(), delimiter=' ')\n",
    "from utils.Res_plot import CD_errXY_plot\n",
    "%matplotlib inline\n",
    "CD_errXY_plot(Err_x, Err_y, \"DeePCNN's \")"
   ]
  },
  {
   "cell_type": "code",
   "execution_count": null,
   "metadata": {},
   "outputs": [],
   "source": []
  }
 ],
 "metadata": {
  "kernelspec": {
   "display_name": "Python 3 (ipykernel)",
   "language": "python",
   "name": "python3"
  },
  "language_info": {
   "codemirror_mode": {
    "name": "ipython",
    "version": 3
   },
   "file_extension": ".py",
   "mimetype": "text/x-python",
   "name": "python",
   "nbconvert_exporter": "python",
   "pygments_lexer": "ipython3",
   "version": "3.8.10"
  },
  "vp": {
   "vp_config_version": "1.0.0",
   "vp_menu_width": 273,
   "vp_note_display": false,
   "vp_note_width": 0,
   "vp_position": {
    "width": 278
   },
   "vp_section_display": false,
   "vp_signature": "VisualPython"
  }
 },
 "nbformat": 4,
 "nbformat_minor": 2
}
