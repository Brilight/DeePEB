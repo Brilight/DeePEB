{
 "cells": [
  {
   "cell_type": "code",
   "execution_count": 1,
   "metadata": {
    "scrolled": true
   },
   "outputs": [],
   "source": [
    "import math\n",
    "import time\n",
    "import csv\n",
    "import os\n",
    "os.environ[\"CUDA_DEVICE_ORDER\"] = \"PCI_BUS_ID\"\n",
    "os.environ['CUDA_VISIBLE_DEVICES']=\"1\"\n",
    "os.environ['CUDA_LAUNCH_BLOCKING'] = '1'\n",
    "\n",
    "import numpy as np\n",
    "import torch \n",
    "import torch.nn as nn\n",
    "import torch.utils.data as data\n",
    "import torch.nn.functional as F\n",
    "\n",
    "torch.manual_seed(105)\n",
    "np.random.seed(42)\n",
    "np.set_printoptions(suppress=True, precision=3, threshold=40, linewidth=100, edgeitems=20)  \n",
    "\n",
    "torch.backends.cudnn.deterministic = True\n",
    "torch.backends.cudnn.benchmark = True\n",
    "#torch.backends.cudnn.enabled = False \n",
    "#Note:This cmd will lead to illegal memory runtime error (or sth. else concerning memory) if added...\n",
    "#Note:But it doesn't hurt on the other server, and the other models... damns\n",
    "\n",
    "import itertools\n",
    "from tqdm import trange, tqdm\n",
    "import matplotlib.pyplot as plt\n",
    "import importlib\n",
    "%matplotlib inline\n",
    "\n",
    "'''\n",
    "If curious about the detailed realization of certain module(s) below, try:\n",
    "    print(*inspect.getsource(Module).split('\\n'), sep='\\n')\n",
    "to get its source code.\n",
    "'''\n",
    "from Model.DeepCNN import ResNet\n",
    "from Train.train_v1 import train\n",
    "from Datas.data_load import dataset_append\n",
    "from Test.Evaluate import evaluate\n",
    "from utils.Save_and_load import save, load\n",
    "from configs import opt, res_trans, RDevelop"
   ]
  },
  {
   "cell_type": "code",
   "execution_count": 2,
   "metadata": {},
   "outputs": [],
   "source": [
    "def Model_def(opt, Channels, device_train, load_model):\n",
    "    '''\n",
    "    Define (and load saved) model \n",
    "    '''\n",
    "    model = ResNet(Channels, bias=True)\n",
    "    model.initialize()\n",
    "    if load_model:\n",
    "        model = load(model, opt.load_model_path)\n",
    "    print(model.parameters)\n",
    "    \n",
    "    if device_train.type == 'cuda':\n",
    "        torch.cuda.empty_cache()\n",
    "        model = model.to(device_train)\n",
    "        print(\"allocated and reserved GPU memory: {}, {} (GiB)\".format(\n",
    "                torch.cuda.memory_allocated()/(1024**3), torch.cuda.memory_reserved()/(1024**3)))\n",
    "    return model"
   ]
  },
  {
   "cell_type": "code",
   "execution_count": 3,
   "metadata": {
    "scrolled": true
   },
   "outputs": [
    {
     "name": "stdout",
     "output_type": "stream",
     "text": [
      "Net Initialized\n",
      "<bound method Module.parameters of ResNet(\n",
      "  (conv1): Sequential(\n",
      "    (0): Conv3d(1, 2, kernel_size=(3, 3, 3), stride=(1, 1, 1), padding=(1, 1, 1))\n",
      "    (1): LeakyReLU(negative_slope=0.01, inplace=True)\n",
      "  )\n",
      "  (reslayers): Sequential(\n",
      "    (0): Sequential(\n",
      "      (0): BasicBlock(\n",
      "        (conv): Sequential(\n",
      "          (0): Conv3d(2, 2, kernel_size=(3, 3, 3), stride=(1, 1, 1), padding=(1, 1, 1), padding_mode=replicate)\n",
      "          (1): LeakyReLU(negative_slope=0.01, inplace=True)\n",
      "          (2): Conv3d(2, 2, kernel_size=(3, 3, 3), stride=(1, 1, 1), padding=(1, 1, 1), padding_mode=replicate)\n",
      "        )\n",
      "        (shortcut): Sequential()\n",
      "      )\n",
      "      (1): BasicBlock(\n",
      "        (conv): Sequential(\n",
      "          (0): Conv3d(2, 2, kernel_size=(3, 3, 3), stride=(1, 1, 1), padding=(1, 1, 1), padding_mode=replicate)\n",
      "          (1): LeakyReLU(negative_slope=0.01, inplace=True)\n",
      "          (2): Conv3d(2, 2, kernel_size=(3, 3, 3), stride=(1, 1, 1), padding=(1, 1, 1), padding_mode=replicate)\n",
      "        )\n",
      "        (shortcut): Sequential()\n",
      "      )\n",
      "    )\n",
      "    (1): Sequential(\n",
      "      (0): BasicBlock(\n",
      "        (conv): Sequential(\n",
      "          (0): Conv3d(2, 4, kernel_size=(3, 3, 3), stride=(1, 1, 1), padding=(1, 1, 1), padding_mode=replicate)\n",
      "          (1): LeakyReLU(negative_slope=0.01, inplace=True)\n",
      "          (2): Conv3d(4, 4, kernel_size=(3, 3, 3), stride=(1, 1, 1), padding=(1, 1, 1), padding_mode=replicate)\n",
      "        )\n",
      "        (shortcut): Sequential(\n",
      "          (0): Conv3d(2, 4, kernel_size=(1, 1, 1), stride=(1, 1, 1), bias=False)\n",
      "        )\n",
      "      )\n",
      "      (1): BasicBlock(\n",
      "        (conv): Sequential(\n",
      "          (0): Conv3d(4, 4, kernel_size=(3, 3, 3), stride=(1, 1, 1), padding=(1, 1, 1), padding_mode=replicate)\n",
      "          (1): LeakyReLU(negative_slope=0.01, inplace=True)\n",
      "          (2): Conv3d(4, 4, kernel_size=(3, 3, 3), stride=(1, 1, 1), padding=(1, 1, 1), padding_mode=replicate)\n",
      "        )\n",
      "        (shortcut): Sequential()\n",
      "      )\n",
      "    )\n",
      "    (2): Sequential(\n",
      "      (0): BasicBlock(\n",
      "        (conv): Sequential(\n",
      "          (0): Conv3d(4, 6, kernel_size=(3, 3, 3), stride=(1, 1, 1), padding=(1, 1, 1), padding_mode=replicate)\n",
      "          (1): LeakyReLU(negative_slope=0.01, inplace=True)\n",
      "          (2): Conv3d(6, 6, kernel_size=(3, 3, 3), stride=(1, 1, 1), padding=(1, 1, 1), padding_mode=replicate)\n",
      "        )\n",
      "        (shortcut): Sequential(\n",
      "          (0): Conv3d(4, 6, kernel_size=(1, 1, 1), stride=(1, 1, 1), bias=False)\n",
      "        )\n",
      "      )\n",
      "      (1): BasicBlock(\n",
      "        (conv): Sequential(\n",
      "          (0): Conv3d(6, 6, kernel_size=(3, 3, 3), stride=(1, 1, 1), padding=(1, 1, 1), padding_mode=replicate)\n",
      "          (1): LeakyReLU(negative_slope=0.01, inplace=True)\n",
      "          (2): Conv3d(6, 6, kernel_size=(3, 3, 3), stride=(1, 1, 1), padding=(1, 1, 1), padding_mode=replicate)\n",
      "        )\n",
      "        (shortcut): Sequential()\n",
      "      )\n",
      "    )\n",
      "  )\n",
      "  (conv2): Sequential(\n",
      "    (0): Conv3d(6, 1, kernel_size=(1, 1, 1), stride=(1, 1, 1))\n",
      "  )\n",
      ")>\n",
      "allocated and reserved GPU memory: 3.147125244140625e-05, 0.001953125 (GiB)\n"
     ]
    }
   ],
   "source": [
    "Channels = [2, 4, 6]\n",
    "device_train = torch.device('cuda:0') \n",
    "device_test = torch.device('cuda:0')\n",
    "ckpt_name = \"ResNet.pth\"\n",
    "opt.load_model_path = opt.modelpath+ckpt_name\n",
    "model = Model_def(opt, Channels, device_train, False)"
   ]
  },
  {
   "cell_type": "code",
   "execution_count": 4,
   "metadata": {
    "scrolled": true
   },
   "outputs": [
    {
     "name": "stderr",
     "output_type": "stream",
     "text": [
      "\r",
      "  0%|          | 0/8 [00:00<?, ?it/s]"
     ]
    },
    {
     "name": "stdout",
     "output_type": "stream",
     "text": [
      "../dataset_train_v1/0000Acid_ini Read in 0.70 s\n",
      "../dataset_train_v1/0000Inhibitor Read in 0.73 s\n",
      "--> Mask 0 Read Complete, with dataset size: (1, 1, 80, 1000, 1000), 9 masks left ...\n",
      "\n",
      "../dataset_train_v1/0001Acid_ini Read in 0.72 s\n",
      "../dataset_train_v1/0001Inhibitor Read in 0.69 s\n",
      "--> Mask 1 Read Complete, with dataset size: (2, 1, 80, 1000, 1000), 8 masks left ...\n",
      "\n",
      "../dataset_train_v1/0002Acid_ini Read in 0.68 s\n",
      "../dataset_train_v1/0002Inhibitor Read in 0.70 s\n",
      "--> Mask 2 Read Complete, with dataset size: (3, 1, 80, 1000, 1000), 7 masks left ...\n",
      "\n",
      "../dataset_train_v1/0003Acid_ini Read in 0.71 s\n",
      "../dataset_train_v1/0003Inhibitor Read in 0.68 s\n",
      "--> Mask 3 Read Complete, with dataset size: (4, 1, 80, 1000, 1000), 6 masks left ...\n",
      "\n",
      "../dataset_train_v1/0004Acid_ini Read in 0.71 s\n",
      "../dataset_train_v1/0004Inhibitor Read in 0.72 s\n",
      "--> Mask 4 Read Complete, with dataset size: (5, 1, 80, 1000, 1000), 5 masks left ...\n",
      "\n",
      "../dataset_train_v1/0005Acid_ini Read in 0.72 s\n",
      "../dataset_train_v1/0005Inhibitor Read in 0.68 s\n",
      "--> Mask 5 Read Complete, with dataset size: (6, 1, 80, 1000, 1000), 4 masks left ...\n",
      "\n",
      "../dataset_train_v1/0006Acid_ini Read in 0.71 s\n",
      "../dataset_train_v1/0006Inhibitor Read in 0.72 s\n",
      "--> Mask 6 Read Complete, with dataset size: (7, 1, 80, 1000, 1000), 3 masks left ...\n",
      "\n",
      "../dataset_train_v1/0007Acid_ini Read in 0.74 s\n",
      "../dataset_train_v1/0007Inhibitor Read in 0.71 s\n",
      "--> Mask 7 Read Complete, with dataset size: (8, 1, 80, 1000, 1000), 2 masks left ...\n",
      "\n",
      "../dataset_train_v1/0008Acid_ini Read in 0.71 s\n",
      "../dataset_train_v1/0008Inhibitor Read in 0.73 s\n",
      "--> Mask 8 Read Complete, with dataset size: (9, 1, 80, 1000, 1000), 1 masks left ...\n",
      "\n",
      "../dataset_train_v1/0009Acid_ini Read in 0.71 s\n",
      "../dataset_train_v1/0009Inhibitor Read in 0.71 s\n"
     ]
    },
    {
     "name": "stderr",
     "output_type": "stream",
     "text": [
      "\r",
      " 12%|█▎        | 1/8 [00:34<04:01, 34.49s/it]"
     ]
    },
    {
     "name": "stdout",
     "output_type": "stream",
     "text": [
      "--> Mask 9 Read Complete, with dataset size: (10, 1, 80, 1000, 1000), 0 masks left ...\n",
      "\n",
      "../dataset_train_v1/0010Acid_ini Read in 0.73 s\n",
      "../dataset_train_v1/0010Inhibitor Read in 0.73 s\n",
      "--> Mask 10 Read Complete, with dataset size: (1, 1, 80, 1000, 1000), 9 masks left ...\n",
      "\n",
      "../dataset_train_v1/0011Acid_ini Read in 0.70 s\n",
      "../dataset_train_v1/0011Inhibitor Read in 0.72 s\n",
      "--> Mask 11 Read Complete, with dataset size: (2, 1, 80, 1000, 1000), 8 masks left ...\n",
      "\n",
      "../dataset_train_v1/0012Acid_ini Read in 0.75 s\n",
      "../dataset_train_v1/0012Inhibitor Read in 0.73 s\n",
      "--> Mask 12 Read Complete, with dataset size: (3, 1, 80, 1000, 1000), 7 masks left ...\n",
      "\n",
      "../dataset_train_v1/0013Acid_ini Read in 0.67 s\n",
      "../dataset_train_v1/0013Inhibitor Read in 0.69 s\n",
      "--> Mask 13 Read Complete, with dataset size: (4, 1, 80, 1000, 1000), 6 masks left ...\n",
      "\n",
      "../dataset_train_v1/0014Acid_ini Read in 0.75 s\n",
      "../dataset_train_v1/0014Inhibitor Read in 0.67 s\n",
      "--> Mask 14 Read Complete, with dataset size: (5, 1, 80, 1000, 1000), 5 masks left ...\n",
      "\n",
      "../dataset_train_v1/0015Acid_ini Read in 0.70 s\n",
      "../dataset_train_v1/0015Inhibitor Read in 0.69 s\n",
      "--> Mask 15 Read Complete, with dataset size: (6, 1, 80, 1000, 1000), 4 masks left ...\n",
      "\n",
      "../dataset_train_v1/0016Acid_ini Read in 0.70 s\n",
      "../dataset_train_v1/0016Inhibitor Read in 0.72 s\n",
      "--> Mask 16 Read Complete, with dataset size: (7, 1, 80, 1000, 1000), 3 masks left ...\n",
      "\n",
      "../dataset_train_v1/0017Acid_ini Read in 0.70 s\n",
      "../dataset_train_v1/0017Inhibitor Read in 0.67 s\n",
      "--> Mask 17 Read Complete, with dataset size: (8, 1, 80, 1000, 1000), 2 masks left ...\n",
      "\n",
      "../dataset_train_v1/0018Acid_ini Read in 0.71 s\n",
      "../dataset_train_v1/0018Inhibitor Read in 0.72 s\n",
      "--> Mask 18 Read Complete, with dataset size: (9, 1, 80, 1000, 1000), 1 masks left ...\n",
      "\n",
      "../dataset_train_v1/0019Acid_ini Read in 0.72 s\n",
      "../dataset_train_v1/0019Inhibitor Read in 0.67 s\n"
     ]
    },
    {
     "name": "stderr",
     "output_type": "stream",
     "text": [
      "\r",
      " 25%|██▌       | 2/8 [01:09<03:28, 34.69s/it]"
     ]
    },
    {
     "name": "stdout",
     "output_type": "stream",
     "text": [
      "--> Mask 19 Read Complete, with dataset size: (10, 1, 80, 1000, 1000), 0 masks left ...\n",
      "\n",
      "../dataset_train_v1/0020Acid_ini Read in 0.67 s\n",
      "../dataset_train_v1/0020Inhibitor Read in 0.69 s\n",
      "--> Mask 20 Read Complete, with dataset size: (1, 1, 80, 1000, 1000), 9 masks left ...\n",
      "\n",
      "../dataset_train_v1/0021Acid_ini Read in 0.68 s\n",
      "../dataset_train_v1/0021Inhibitor Read in 0.70 s\n",
      "--> Mask 21 Read Complete, with dataset size: (2, 1, 80, 1000, 1000), 8 masks left ...\n",
      "\n",
      "../dataset_train_v1/0022Acid_ini Read in 0.69 s\n",
      "../dataset_train_v1/0022Inhibitor Read in 0.70 s\n",
      "--> Mask 22 Read Complete, with dataset size: (3, 1, 80, 1000, 1000), 7 masks left ...\n",
      "\n",
      "../dataset_train_v1/0023Acid_ini Read in 0.68 s\n",
      "../dataset_train_v1/0023Inhibitor Read in 0.63 s\n",
      "--> Mask 23 Read Complete, with dataset size: (4, 1, 80, 1000, 1000), 6 masks left ...\n",
      "\n",
      "../dataset_train_v1/0024Acid_ini Read in 0.64 s\n",
      "../dataset_train_v1/0024Inhibitor Read in 0.67 s\n",
      "--> Mask 24 Read Complete, with dataset size: (5, 1, 80, 1000, 1000), 5 masks left ...\n",
      "\n",
      "../dataset_train_v1/0025Acid_ini Read in 0.63 s\n",
      "../dataset_train_v1/0025Inhibitor Read in 0.68 s\n",
      "--> Mask 25 Read Complete, with dataset size: (6, 1, 80, 1000, 1000), 4 masks left ...\n",
      "\n",
      "../dataset_train_v1/0026Acid_ini Read in 0.68 s\n",
      "../dataset_train_v1/0026Inhibitor Read in 0.64 s\n",
      "--> Mask 26 Read Complete, with dataset size: (7, 1, 80, 1000, 1000), 3 masks left ...\n",
      "\n",
      "../dataset_train_v1/0027Acid_ini Read in 0.65 s\n",
      "../dataset_train_v1/0027Inhibitor Read in 0.67 s\n",
      "--> Mask 27 Read Complete, with dataset size: (8, 1, 80, 1000, 1000), 2 masks left ...\n",
      "\n",
      "../dataset_train_v1/0028Acid_ini Read in 0.70 s\n",
      "../dataset_train_v1/0028Inhibitor Read in 0.66 s\n",
      "--> Mask 28 Read Complete, with dataset size: (9, 1, 80, 1000, 1000), 1 masks left ...\n",
      "\n",
      "../dataset_train_v1/0029Acid_ini Read in 0.66 s\n",
      "../dataset_train_v1/0029Inhibitor Read in 0.62 s\n"
     ]
    },
    {
     "name": "stderr",
     "output_type": "stream",
     "text": [
      "\r",
      " 38%|███▊      | 3/8 [01:42<02:51, 34.21s/it]"
     ]
    },
    {
     "name": "stdout",
     "output_type": "stream",
     "text": [
      "--> Mask 29 Read Complete, with dataset size: (10, 1, 80, 1000, 1000), 0 masks left ...\n",
      "\n",
      "../dataset_train_v1/0030Acid_ini Read in 0.62 s\n",
      "../dataset_train_v1/0030Inhibitor Read in 0.67 s\n",
      "--> Mask 30 Read Complete, with dataset size: (1, 1, 80, 1000, 1000), 9 masks left ...\n",
      "\n",
      "../dataset_train_v1/0031Acid_ini Read in 0.69 s\n",
      "../dataset_train_v1/0031Inhibitor Read in 0.66 s\n",
      "--> Mask 31 Read Complete, with dataset size: (2, 1, 80, 1000, 1000), 8 masks left ...\n",
      "\n",
      "../dataset_train_v1/0032Acid_ini Read in 0.64 s\n",
      "../dataset_train_v1/0032Inhibitor Read in 0.68 s\n",
      "--> Mask 32 Read Complete, with dataset size: (3, 1, 80, 1000, 1000), 7 masks left ...\n",
      "\n",
      "../dataset_train_v1/0033Acid_ini Read in 0.68 s\n",
      "../dataset_train_v1/0033Inhibitor Read in 0.64 s\n",
      "--> Mask 33 Read Complete, with dataset size: (4, 1, 80, 1000, 1000), 6 masks left ...\n",
      "\n",
      "../dataset_train_v1/0034Acid_ini Read in 0.64 s\n",
      "../dataset_train_v1/0034Inhibitor Read in 0.65 s\n",
      "--> Mask 34 Read Complete, with dataset size: (5, 1, 80, 1000, 1000), 5 masks left ...\n",
      "\n",
      "../dataset_train_v1/0035Acid_ini Read in 0.63 s\n",
      "../dataset_train_v1/0035Inhibitor Read in 0.69 s\n",
      "--> Mask 35 Read Complete, with dataset size: (6, 1, 80, 1000, 1000), 4 masks left ...\n",
      "\n",
      "../dataset_train_v1/0036Acid_ini Read in 0.66 s\n",
      "../dataset_train_v1/0036Inhibitor Read in 0.64 s\n",
      "--> Mask 36 Read Complete, with dataset size: (7, 1, 80, 1000, 1000), 3 masks left ...\n",
      "\n",
      "../dataset_train_v1/0037Acid_ini Read in 0.65 s\n",
      "../dataset_train_v1/0037Inhibitor Read in 0.66 s\n",
      "--> Mask 37 Read Complete, with dataset size: (8, 1, 80, 1000, 1000), 2 masks left ...\n",
      "\n",
      "../dataset_train_v1/0038Acid_ini Read in 0.64 s\n",
      "../dataset_train_v1/0038Inhibitor Read in 0.67 s\n",
      "--> Mask 38 Read Complete, with dataset size: (9, 1, 80, 1000, 1000), 1 masks left ...\n",
      "\n",
      "../dataset_train_v1/0039Acid_ini Read in 0.64 s\n",
      "../dataset_train_v1/0039Inhibitor Read in 0.65 s\n"
     ]
    },
    {
     "name": "stderr",
     "output_type": "stream",
     "text": [
      "\r",
      " 50%|█████     | 4/8 [02:16<02:15, 33.85s/it]"
     ]
    },
    {
     "name": "stdout",
     "output_type": "stream",
     "text": [
      "--> Mask 39 Read Complete, with dataset size: (10, 1, 80, 1000, 1000), 0 masks left ...\n",
      "\n",
      "../dataset_train_v1/0040Acid_ini Read in 0.67 s\n",
      "../dataset_train_v1/0040Inhibitor Read in 0.70 s\n",
      "--> Mask 40 Read Complete, with dataset size: (1, 1, 80, 1000, 1000), 9 masks left ...\n",
      "\n",
      "../dataset_train_v1/0041Acid_ini Read in 0.68 s\n",
      "../dataset_train_v1/0041Inhibitor Read in 0.69 s\n",
      "--> Mask 41 Read Complete, with dataset size: (2, 1, 80, 1000, 1000), 8 masks left ...\n",
      "\n",
      "../dataset_train_v1/0042Acid_ini Read in 0.67 s\n",
      "../dataset_train_v1/0042Inhibitor Read in 0.69 s\n",
      "--> Mask 42 Read Complete, with dataset size: (3, 1, 80, 1000, 1000), 7 masks left ...\n",
      "\n",
      "../dataset_train_v1/0043Acid_ini Read in 0.67 s\n",
      "../dataset_train_v1/0043Inhibitor Read in 0.66 s\n",
      "--> Mask 43 Read Complete, with dataset size: (4, 1, 80, 1000, 1000), 6 masks left ...\n",
      "\n",
      "../dataset_train_v1/0044Acid_ini Read in 0.65 s\n",
      "../dataset_train_v1/0044Inhibitor Read in 0.63 s\n",
      "--> Mask 44 Read Complete, with dataset size: (5, 1, 80, 1000, 1000), 5 masks left ...\n",
      "\n",
      "../dataset_train_v1/0045Acid_ini Read in 0.63 s\n",
      "../dataset_train_v1/0045Inhibitor Read in 0.64 s\n",
      "--> Mask 45 Read Complete, with dataset size: (6, 1, 80, 1000, 1000), 4 masks left ...\n",
      "\n",
      "../dataset_train_v1/0046Acid_ini Read in 0.64 s\n",
      "../dataset_train_v1/0046Inhibitor Read in 0.65 s\n",
      "--> Mask 46 Read Complete, with dataset size: (7, 1, 80, 1000, 1000), 3 masks left ...\n",
      "\n",
      "../dataset_train_v1/0047Acid_ini Read in 0.67 s\n",
      "../dataset_train_v1/0047Inhibitor Read in 0.65 s\n",
      "--> Mask 47 Read Complete, with dataset size: (8, 1, 80, 1000, 1000), 2 masks left ...\n",
      "\n",
      "../dataset_train_v1/0048Acid_ini Read in 0.66 s\n",
      "../dataset_train_v1/0048Inhibitor Read in 0.68 s\n",
      "--> Mask 48 Read Complete, with dataset size: (9, 1, 80, 1000, 1000), 1 masks left ...\n",
      "\n",
      "../dataset_train_v1/0049Acid_ini Read in 0.72 s\n",
      "../dataset_train_v1/0049Inhibitor Read in 0.64 s\n"
     ]
    },
    {
     "name": "stderr",
     "output_type": "stream",
     "text": [
      "\r",
      " 62%|██████▎   | 5/8 [02:49<01:41, 33.74s/it]"
     ]
    },
    {
     "name": "stdout",
     "output_type": "stream",
     "text": [
      "--> Mask 49 Read Complete, with dataset size: (10, 1, 80, 1000, 1000), 0 masks left ...\n",
      "\n",
      "../dataset_train_v1/0050Acid_ini Read in 0.69 s\n",
      "../dataset_train_v1/0050Inhibitor Read in 0.68 s\n",
      "--> Mask 50 Read Complete, with dataset size: (1, 1, 80, 1000, 1000), 9 masks left ...\n",
      "\n",
      "../dataset_train_v1/0051Acid_ini Read in 0.63 s\n",
      "../dataset_train_v1/0051Inhibitor Read in 0.63 s\n",
      "--> Mask 51 Read Complete, with dataset size: (2, 1, 80, 1000, 1000), 8 masks left ...\n",
      "\n",
      "../dataset_train_v1/0052Acid_ini Read in 0.14 s\n",
      "../dataset_train_v1/0052Inhibitor Read in 0.13 s\n",
      "--> Mask 52 Read Complete, with dataset size: (3, 1, 80, 1000, 1000), 7 masks left ...\n",
      "\n",
      "../dataset_train_v1/0053Acid_ini Read in 0.13 s\n",
      "../dataset_train_v1/0053Inhibitor Read in 0.12 s\n",
      "--> Mask 53 Read Complete, with dataset size: (4, 1, 80, 1000, 1000), 6 masks left ...\n",
      "\n",
      "../dataset_train_v1/0054Acid_ini Read in 0.13 s\n",
      "../dataset_train_v1/0054Inhibitor Read in 0.12 s\n",
      "--> Mask 54 Read Complete, with dataset size: (5, 1, 80, 1000, 1000), 5 masks left ...\n",
      "\n",
      "../dataset_train_v1/0055Acid_ini Read in 0.12 s\n",
      "../dataset_train_v1/0055Inhibitor Read in 0.11 s\n",
      "--> Mask 55 Read Complete, with dataset size: (6, 1, 80, 1000, 1000), 4 masks left ...\n",
      "\n",
      "../dataset_train_v1/0056Acid_ini Read in 0.11 s\n",
      "../dataset_train_v1/0056Inhibitor Read in 0.11 s\n",
      "--> Mask 56 Read Complete, with dataset size: (7, 1, 80, 1000, 1000), 3 masks left ...\n",
      "\n",
      "../dataset_train_v1/0057Acid_ini Read in 0.13 s\n",
      "../dataset_train_v1/0057Inhibitor Read in 0.12 s\n",
      "--> Mask 57 Read Complete, with dataset size: (8, 1, 80, 1000, 1000), 2 masks left ...\n",
      "\n",
      "../dataset_train_v1/0058Acid_ini Read in 0.11 s\n",
      "../dataset_train_v1/0058Inhibitor Read in 0.11 s\n",
      "--> Mask 58 Read Complete, with dataset size: (9, 1, 80, 1000, 1000), 1 masks left ...\n",
      "\n",
      "../dataset_train_v1/0059Acid_ini Read in 0.12 s\n",
      "../dataset_train_v1/0059Inhibitor Read in 0.11 s\n"
     ]
    },
    {
     "name": "stderr",
     "output_type": "stream",
     "text": [
      "\r",
      " 75%|███████▌  | 6/8 [03:14<01:01, 30.72s/it]"
     ]
    },
    {
     "name": "stdout",
     "output_type": "stream",
     "text": [
      "--> Mask 59 Read Complete, with dataset size: (10, 1, 80, 1000, 1000), 0 masks left ...\n",
      "\n",
      "../dataset_train_v1/0060Acid_ini Read in 0.12 s\n",
      "../dataset_train_v1/0060Inhibitor Read in 0.12 s\n",
      "--> Mask 60 Read Complete, with dataset size: (1, 1, 80, 1000, 1000), 9 masks left ...\n",
      "\n",
      "../dataset_train_v1/0061Acid_ini Read in 0.12 s\n",
      "../dataset_train_v1/0061Inhibitor Read in 0.11 s\n",
      "--> Mask 61 Read Complete, with dataset size: (2, 1, 80, 1000, 1000), 8 masks left ...\n",
      "\n",
      "../dataset_train_v1/0062Acid_ini Read in 0.11 s\n",
      "../dataset_train_v1/0062Inhibitor Read in 0.11 s\n",
      "--> Mask 62 Read Complete, with dataset size: (3, 1, 80, 1000, 1000), 7 masks left ...\n",
      "\n",
      "../dataset_train_v1/0063Acid_ini Read in 0.12 s\n",
      "../dataset_train_v1/0063Inhibitor Read in 0.13 s\n",
      "--> Mask 63 Read Complete, with dataset size: (4, 1, 80, 1000, 1000), 6 masks left ...\n",
      "\n",
      "../dataset_train_v1/0064Acid_ini Read in 0.12 s\n",
      "../dataset_train_v1/0064Inhibitor Read in 0.11 s\n",
      "--> Mask 64 Read Complete, with dataset size: (5, 1, 80, 1000, 1000), 5 masks left ...\n",
      "\n",
      "../dataset_train_v1/0065Acid_ini Read in 0.13 s\n",
      "../dataset_train_v1/0065Inhibitor Read in 0.11 s\n",
      "--> Mask 65 Read Complete, with dataset size: (6, 1, 80, 1000, 1000), 4 masks left ...\n",
      "\n",
      "../dataset_train_v1/0066Acid_ini Read in 0.11 s\n",
      "../dataset_train_v1/0066Inhibitor Read in 0.12 s\n",
      "--> Mask 66 Read Complete, with dataset size: (7, 1, 80, 1000, 1000), 3 masks left ...\n",
      "\n",
      "../dataset_train_v1/0067Acid_ini Read in 0.12 s\n",
      "../dataset_train_v1/0067Inhibitor Read in 0.11 s\n",
      "--> Mask 67 Read Complete, with dataset size: (8, 1, 80, 1000, 1000), 2 masks left ...\n",
      "\n",
      "../dataset_train_v1/0068Acid_ini Read in 0.11 s\n",
      "../dataset_train_v1/0068Inhibitor Read in 0.11 s\n",
      "--> Mask 68 Read Complete, with dataset size: (9, 1, 80, 1000, 1000), 1 masks left ...\n",
      "\n",
      "../dataset_train_v1/0069Acid_ini Read in 0.13 s\n",
      "../dataset_train_v1/0069Inhibitor Read in 0.12 s\n"
     ]
    },
    {
     "name": "stderr",
     "output_type": "stream",
     "text": [
      "\r",
      " 88%|████████▊ | 7/8 [03:37<00:28, 28.05s/it]"
     ]
    },
    {
     "name": "stdout",
     "output_type": "stream",
     "text": [
      "--> Mask 69 Read Complete, with dataset size: (10, 1, 80, 1000, 1000), 0 masks left ...\n",
      "\n",
      "../dataset_train_v1/0070Acid_ini Read in 0.12 s\n",
      "../dataset_train_v1/0070Inhibitor Read in 0.11 s\n",
      "--> Mask 70 Read Complete, with dataset size: (1, 1, 80, 1000, 1000), 9 masks left ...\n",
      "\n",
      "../dataset_train_v1/0071Acid_ini Read in 0.12 s\n",
      "../dataset_train_v1/0071Inhibitor Read in 0.11 s\n",
      "--> Mask 71 Read Complete, with dataset size: (2, 1, 80, 1000, 1000), 8 masks left ...\n",
      "\n",
      "../dataset_train_v1/0072Acid_ini Read in 0.12 s\n",
      "../dataset_train_v1/0072Inhibitor Read in 0.11 s\n",
      "--> Mask 72 Read Complete, with dataset size: (3, 1, 80, 1000, 1000), 7 masks left ...\n",
      "\n",
      "../dataset_train_v1/0073Acid_ini Read in 0.11 s\n",
      "../dataset_train_v1/0073Inhibitor Read in 0.11 s\n",
      "--> Mask 73 Read Complete, with dataset size: (4, 1, 80, 1000, 1000), 6 masks left ...\n",
      "\n",
      "../dataset_train_v1/0074Acid_ini Read in 0.11 s\n",
      "../dataset_train_v1/0074Inhibitor Read in 0.12 s\n",
      "--> Mask 74 Read Complete, with dataset size: (5, 1, 80, 1000, 1000), 5 masks left ...\n",
      "\n",
      "../dataset_train_v1/0075Acid_ini Read in 0.12 s\n",
      "../dataset_train_v1/0075Inhibitor Read in 0.12 s\n",
      "--> Mask 75 Read Complete, with dataset size: (6, 1, 80, 1000, 1000), 4 masks left ...\n",
      "\n",
      "../dataset_train_v1/0076Acid_ini Read in 0.12 s\n",
      "../dataset_train_v1/0076Inhibitor Read in 0.12 s\n",
      "--> Mask 76 Read Complete, with dataset size: (7, 1, 80, 1000, 1000), 3 masks left ...\n",
      "\n",
      "../dataset_train_v1/0077Acid_ini Read in 0.12 s\n",
      "../dataset_train_v1/0077Inhibitor Read in 0.12 s\n",
      "--> Mask 77 Read Complete, with dataset size: (8, 1, 80, 1000, 1000), 2 masks left ...\n",
      "\n",
      "../dataset_train_v1/0078Acid_ini Read in 0.12 s\n",
      "../dataset_train_v1/0078Inhibitor Read in 0.12 s\n",
      "--> Mask 78 Read Complete, with dataset size: (9, 1, 80, 1000, 1000), 1 masks left ...\n",
      "\n",
      "../dataset_train_v1/0079Acid_ini Read in 0.12 s\n",
      "../dataset_train_v1/0079Inhibitor Read in 0.12 s\n"
     ]
    },
    {
     "name": "stderr",
     "output_type": "stream",
     "text": [
      "100%|██████████| 8/8 [03:59<00:00, 29.98s/it]\n"
     ]
    },
    {
     "name": "stdout",
     "output_type": "stream",
     "text": [
      "--> Mask 79 Read Complete, with dataset size: (10, 1, 80, 1000, 1000), 0 masks left ...\n",
      "\n"
     ]
    },
    {
     "name": "stderr",
     "output_type": "stream",
     "text": [
      "\r",
      "  0%|          | 0/2 [00:00<?, ?it/s]"
     ]
    },
    {
     "name": "stdout",
     "output_type": "stream",
     "text": [
      "../dataset_train_v1/0080Acid_ini Read in 0.68 s\n",
      "../dataset_train_v1/0080Inhibitor Read in 0.69 s\n",
      "--> Mask 80 Read Complete, with dataset size: (1, 1, 80, 1000, 1000), 9 masks left ...\n",
      "\n",
      "../dataset_train_v1/0081Acid_ini Read in 0.69 s\n",
      "../dataset_train_v1/0081Inhibitor Read in 0.66 s\n",
      "--> Mask 81 Read Complete, with dataset size: (2, 1, 80, 1000, 1000), 8 masks left ...\n",
      "\n",
      "../dataset_train_v1/0082Acid_ini Read in 0.68 s\n",
      "../dataset_train_v1/0082Inhibitor Read in 0.70 s\n",
      "--> Mask 82 Read Complete, with dataset size: (3, 1, 80, 1000, 1000), 7 masks left ...\n",
      "\n",
      "../dataset_train_v1/0083Acid_ini Read in 0.68 s\n",
      "../dataset_train_v1/0083Inhibitor Read in 0.68 s\n",
      "--> Mask 83 Read Complete, with dataset size: (4, 1, 80, 1000, 1000), 6 masks left ...\n",
      "\n",
      "../dataset_train_v1/0084Acid_ini Read in 0.65 s\n",
      "../dataset_train_v1/0084Inhibitor Read in 0.64 s\n",
      "--> Mask 84 Read Complete, with dataset size: (5, 1, 80, 1000, 1000), 5 masks left ...\n",
      "\n",
      "../dataset_train_v1/0085Acid_ini Read in 0.65 s\n",
      "../dataset_train_v1/0085Inhibitor Read in 0.64 s\n",
      "--> Mask 85 Read Complete, with dataset size: (6, 1, 80, 1000, 1000), 4 masks left ...\n",
      "\n",
      "../dataset_train_v1/0086Acid_ini Read in 0.65 s\n",
      "../dataset_train_v1/0086Inhibitor Read in 0.69 s\n",
      "--> Mask 86 Read Complete, with dataset size: (7, 1, 80, 1000, 1000), 3 masks left ...\n",
      "\n",
      "../dataset_train_v1/0087Acid_ini Read in 0.67 s\n",
      "../dataset_train_v1/0087Inhibitor Read in 0.66 s\n",
      "--> Mask 87 Read Complete, with dataset size: (8, 1, 80, 1000, 1000), 2 masks left ...\n",
      "\n",
      "../dataset_train_v1/0088Acid_ini Read in 0.67 s\n",
      "../dataset_train_v1/0088Inhibitor Read in 0.68 s\n",
      "--> Mask 88 Read Complete, with dataset size: (9, 1, 80, 1000, 1000), 1 masks left ...\n",
      "\n",
      "../dataset_train_v1/0089Acid_ini Read in 0.68 s\n",
      "../dataset_train_v1/0089Inhibitor Read in 0.69 s\n"
     ]
    },
    {
     "name": "stderr",
     "output_type": "stream",
     "text": [
      "\r",
      " 50%|█████     | 1/2 [00:33<00:33, 33.66s/it]"
     ]
    },
    {
     "name": "stdout",
     "output_type": "stream",
     "text": [
      "--> Mask 89 Read Complete, with dataset size: (10, 1, 80, 1000, 1000), 0 masks left ...\n",
      "\n",
      "../dataset_train_v1/0090Acid_ini Read in 0.67 s\n",
      "../dataset_train_v1/0090Inhibitor Read in 0.68 s\n",
      "--> Mask 90 Read Complete, with dataset size: (1, 1, 80, 1000, 1000), 9 masks left ...\n",
      "\n",
      "../dataset_train_v1/0091Acid_ini Read in 0.64 s\n",
      "../dataset_train_v1/0091Inhibitor Read in 0.63 s\n",
      "--> Mask 91 Read Complete, with dataset size: (2, 1, 80, 1000, 1000), 8 masks left ...\n",
      "\n",
      "../dataset_train_v1/0092Acid_ini Read in 0.64 s\n",
      "../dataset_train_v1/0092Inhibitor Read in 0.66 s\n",
      "--> Mask 92 Read Complete, with dataset size: (3, 1, 80, 1000, 1000), 7 masks left ...\n",
      "\n",
      "../dataset_train_v1/0093Acid_ini Read in 0.67 s\n",
      "../dataset_train_v1/0093Inhibitor Read in 0.68 s\n",
      "--> Mask 93 Read Complete, with dataset size: (4, 1, 80, 1000, 1000), 6 masks left ...\n",
      "\n",
      "../dataset_train_v1/0094Acid_ini Read in 0.12 s\n",
      "../dataset_train_v1/0094Inhibitor Read in 0.14 s\n",
      "--> Mask 94 Read Complete, with dataset size: (5, 1, 80, 1000, 1000), 5 masks left ...\n",
      "\n",
      "../dataset_train_v1/0095Acid_ini Read in 0.14 s\n",
      "../dataset_train_v1/0095Inhibitor Read in 0.14 s\n",
      "--> Mask 95 Read Complete, with dataset size: (6, 1, 80, 1000, 1000), 4 masks left ...\n",
      "\n",
      "../dataset_train_v1/0096Acid_ini Read in 0.81 s\n",
      "../dataset_train_v1/0096Inhibitor Read in 0.78 s\n",
      "--> Mask 96 Read Complete, with dataset size: (7, 1, 80, 1000, 1000), 3 masks left ...\n",
      "\n",
      "../dataset_train_v1/0097Acid_ini Read in 0.15 s\n",
      "../dataset_train_v1/0097Inhibitor Read in 0.14 s\n",
      "--> Mask 97 Read Complete, with dataset size: (8, 1, 80, 1000, 1000), 2 masks left ...\n",
      "\n",
      "../dataset_train_v1/0098Acid_ini Read in 0.13 s\n",
      "../dataset_train_v1/0098Inhibitor Read in 0.14 s\n",
      "--> Mask 98 Read Complete, with dataset size: (9, 1, 80, 1000, 1000), 1 masks left ...\n",
      "\n",
      "../dataset_train_v1/0099Acid_ini Read in 0.73 s\n",
      "../dataset_train_v1/0099Inhibitor Read in 0.70 s\n"
     ]
    },
    {
     "name": "stderr",
     "output_type": "stream",
     "text": [
      "100%|██████████| 2/2 [01:08<00:00, 34.19s/it]"
     ]
    },
    {
     "name": "stdout",
     "output_type": "stream",
     "text": [
      "--> Mask 99 Read Complete, with dataset size: (10, 1, 80, 1000, 1000), 0 masks left ...\n",
      "\n"
     ]
    },
    {
     "name": "stderr",
     "output_type": "stream",
     "text": [
      "\n"
     ]
    }
   ],
   "source": [
    "dataset_train = dataset_append(opt, opt.dataidx_train, res_trans)\n",
    "dataset_test = dataset_append(opt, opt.dataidx_test, res_trans) "
   ]
  },
  {
   "cell_type": "code",
   "execution_count": 5,
   "metadata": {},
   "outputs": [],
   "source": [
    "def opt_strategy(model, opt):\n",
    "    LR = 1e-3\n",
    "    optimizer = torch.optim.Adam(model.parameters(), lr=LR,)# weight_decay=1e-4)\n",
    "    scheduler = None\n",
    "    #scheduler = torch.optim.lr_scheduler.CosineAnnealingLR(optimizer, T_max=100, eta_min=1e-4)\n",
    "    scheduler = torch.optim.lr_scheduler.StepLR(optimizer, step_size=100, gamma=0.7)\n",
    "    return optimizer, scheduler "
   ]
  },
  {
   "cell_type": "code",
   "execution_count": 6,
   "metadata": {},
   "outputs": [
    {
     "name": "stderr",
     "output_type": "stream",
     "text": [
      "  0%|          | 1/800 [02:23<31:48:10, 143.29s/it]"
     ]
    },
    {
     "name": "stdout",
     "output_type": "stream",
     "text": [
      "Epoch 0 | LR: 1.00e-03 | Train Loss: 6.22e-02 | Test Loss: 1.54e+01, 4.72e-02, 97.12%\n"
     ]
    },
    {
     "name": "stderr",
     "output_type": "stream",
     "text": [
      "  3%|▎         | 21/800 [28:21<17:21:38, 80.23s/it]"
     ]
    },
    {
     "name": "stdout",
     "output_type": "stream",
     "text": [
      "Epoch 20 | LR: 1.00e-03 | Train Loss: 4.46e-03 | Test Loss: 1.82e+01, 7.45e-02, 98.85%\n"
     ]
    },
    {
     "name": "stderr",
     "output_type": "stream",
     "text": [
      "  5%|▌         | 41/800 [54:25<16:54:07, 80.17s/it]"
     ]
    },
    {
     "name": "stdout",
     "output_type": "stream",
     "text": [
      "Epoch 40 | LR: 1.00e-03 | Train Loss: 8.16e-03 | Test Loss: 2.11e+01, 7.04e-02, 99.75%\n"
     ]
    },
    {
     "name": "stderr",
     "output_type": "stream",
     "text": [
      "  8%|▊         | 61/800 [1:20:29<16:30:48, 80.44s/it]"
     ]
    },
    {
     "name": "stdout",
     "output_type": "stream",
     "text": [
      "Epoch 60 | LR: 1.00e-03 | Train Loss: 6.40e-03 | Test Loss: 2.11e+01, 6.13e-02, 99.75%\n"
     ]
    },
    {
     "name": "stderr",
     "output_type": "stream",
     "text": [
      " 10%|█         | 81/800 [1:46:35<16:03:50, 80.43s/it]"
     ]
    },
    {
     "name": "stdout",
     "output_type": "stream",
     "text": [
      "Epoch 80 | LR: 1.00e-03 | Train Loss: 7.51e-03 | Test Loss: 2.10e+01, 6.79e-02, 99.68%\n"
     ]
    },
    {
     "name": "stderr",
     "output_type": "stream",
     "text": [
      " 13%|█▎        | 101/800 [2:12:41<15:36:19, 80.37s/it]"
     ]
    },
    {
     "name": "stdout",
     "output_type": "stream",
     "text": [
      "Epoch 100 | LR: 7.00e-04 | Train Loss: 4.75e-03 | Test Loss: 1.99e+01, 7.07e-02, 99.39%\n"
     ]
    },
    {
     "name": "stderr",
     "output_type": "stream",
     "text": [
      " 15%|█▌        | 121/800 [2:38:46<15:09:11, 80.34s/it]"
     ]
    },
    {
     "name": "stdout",
     "output_type": "stream",
     "text": [
      "Epoch 120 | LR: 7.00e-04 | Train Loss: 1.61e-03 | Test Loss: 1.84e+01, 8.56e-02, 98.54%\n"
     ]
    },
    {
     "name": "stderr",
     "output_type": "stream",
     "text": [
      " 18%|█▊        | 141/800 [3:04:52<14:42:57, 80.39s/it]"
     ]
    },
    {
     "name": "stdout",
     "output_type": "stream",
     "text": [
      "Epoch 140 | LR: 7.00e-04 | Train Loss: 5.04e-03 | Test Loss: 1.72e+01, 5.07e-02, 97.35%\n"
     ]
    },
    {
     "name": "stderr",
     "output_type": "stream",
     "text": [
      " 20%|██        | 161/800 [3:30:59<14:18:28, 80.61s/it]"
     ]
    },
    {
     "name": "stdout",
     "output_type": "stream",
     "text": [
      "Epoch 160 | LR: 7.00e-04 | Train Loss: 3.35e-03 | Test Loss: 1.69e+01, 5.18e-02, 96.76%\n"
     ]
    },
    {
     "name": "stderr",
     "output_type": "stream",
     "text": [
      " 23%|██▎       | 181/800 [3:57:06<13:48:45, 80.33s/it]"
     ]
    },
    {
     "name": "stdout",
     "output_type": "stream",
     "text": [
      "Epoch 180 | LR: 7.00e-04 | Train Loss: 4.66e-03 | Test Loss: 1.66e+01, 7.86e-02, 95.97%\n"
     ]
    },
    {
     "name": "stderr",
     "output_type": "stream",
     "text": [
      " 25%|██▌       | 201/800 [4:23:11<13:23:03, 80.44s/it]"
     ]
    },
    {
     "name": "stdout",
     "output_type": "stream",
     "text": [
      "Epoch 200 | LR: 4.90e-04 | Train Loss: 2.39e-03 | Test Loss: 1.58e+01, 6.90e-02, 94.97%\n"
     ]
    },
    {
     "name": "stderr",
     "output_type": "stream",
     "text": [
      " 28%|██▊       | 221/800 [4:49:23<13:01:16, 80.96s/it]"
     ]
    },
    {
     "name": "stdout",
     "output_type": "stream",
     "text": [
      "Epoch 220 | LR: 4.90e-04 | Train Loss: 1.22e-03 | Test Loss: 1.50e+01, 5.36e-02, 93.56%\n"
     ]
    },
    {
     "name": "stderr",
     "output_type": "stream",
     "text": [
      " 30%|███       | 241/800 [5:15:20<12:24:41, 79.93s/it]"
     ]
    },
    {
     "name": "stdout",
     "output_type": "stream",
     "text": [
      "Epoch 240 | LR: 4.90e-04 | Train Loss: 3.34e-03 | Test Loss: 1.42e+01, 5.41e-02, 89.55%\n"
     ]
    },
    {
     "name": "stderr",
     "output_type": "stream",
     "text": [
      " 33%|███▎      | 261/800 [5:41:17<11:57:41, 79.89s/it]"
     ]
    },
    {
     "name": "stdout",
     "output_type": "stream",
     "text": [
      "Epoch 260 | LR: 4.90e-04 | Train Loss: 3.84e-03 | Test Loss: 1.31e+01, 5.24e-02, 86.99%\n"
     ]
    },
    {
     "name": "stderr",
     "output_type": "stream",
     "text": [
      " 35%|███▌      | 281/800 [6:07:15<11:31:49, 79.98s/it]"
     ]
    },
    {
     "name": "stdout",
     "output_type": "stream",
     "text": [
      "Epoch 280 | LR: 4.90e-04 | Train Loss: 1.65e-03 | Test Loss: 1.22e+01, 3.53e-02, 83.99%\n"
     ]
    },
    {
     "name": "stderr",
     "output_type": "stream",
     "text": [
      " 38%|███▊      | 301/800 [6:33:16<11:06:37, 80.15s/it]"
     ]
    },
    {
     "name": "stdout",
     "output_type": "stream",
     "text": [
      "Epoch 300 | LR: 3.43e-04 | Train Loss: 8.92e-04 | Test Loss: 1.23e+01, 5.58e-02, 81.35%\n"
     ]
    },
    {
     "name": "stderr",
     "output_type": "stream",
     "text": [
      " 40%|████      | 321/800 [6:59:18<10:40:32, 80.24s/it]"
     ]
    },
    {
     "name": "stdout",
     "output_type": "stream",
     "text": [
      "Epoch 320 | LR: 3.43e-04 | Train Loss: 7.36e-04 | Test Loss: 1.23e+01, 6.00e-02, 79.83%\n"
     ]
    },
    {
     "name": "stderr",
     "output_type": "stream",
     "text": [
      " 43%|████▎     | 341/800 [7:25:22<10:14:24, 80.31s/it]"
     ]
    },
    {
     "name": "stdout",
     "output_type": "stream",
     "text": [
      "Epoch 340 | LR: 3.43e-04 | Train Loss: 2.64e-03 | Test Loss: 1.20e+01, 5.20e-02, 78.77%\n"
     ]
    },
    {
     "name": "stderr",
     "output_type": "stream",
     "text": [
      " 45%|████▌     | 361/800 [7:51:25<9:47:22, 80.28s/it] "
     ]
    },
    {
     "name": "stdout",
     "output_type": "stream",
     "text": [
      "Epoch 360 | LR: 3.43e-04 | Train Loss: 2.26e-03 | Test Loss: 1.19e+01, 4.44e-02, 77.78%\n"
     ]
    },
    {
     "name": "stderr",
     "output_type": "stream",
     "text": [
      " 48%|████▊     | 381/800 [8:17:28<9:20:39, 80.28s/it]"
     ]
    },
    {
     "name": "stdout",
     "output_type": "stream",
     "text": [
      "Epoch 380 | LR: 3.43e-04 | Train Loss: 2.26e-03 | Test Loss: 1.18e+01, 5.23e-02, 76.78%\n"
     ]
    },
    {
     "name": "stderr",
     "output_type": "stream",
     "text": [
      " 50%|█████     | 401/800 [8:43:32<8:53:49, 80.27s/it]"
     ]
    },
    {
     "name": "stdout",
     "output_type": "stream",
     "text": [
      "Epoch 400 | LR: 2.40e-04 | Train Loss: 2.47e-03 | Test Loss: 1.17e+01, 4.83e-02, 75.91%\n"
     ]
    },
    {
     "name": "stderr",
     "output_type": "stream",
     "text": [
      " 53%|█████▎    | 421/800 [9:09:35<8:27:12, 80.30s/it]"
     ]
    },
    {
     "name": "stdout",
     "output_type": "stream",
     "text": [
      "Epoch 420 | LR: 2.40e-04 | Train Loss: 6.05e-04 | Test Loss: 1.15e+01, 5.69e-02, 75.23%\n"
     ]
    },
    {
     "name": "stderr",
     "output_type": "stream",
     "text": [
      " 55%|█████▌    | 441/800 [9:35:39<8:00:01, 80.23s/it]"
     ]
    },
    {
     "name": "stdout",
     "output_type": "stream",
     "text": [
      "Epoch 440 | LR: 2.40e-04 | Train Loss: 6.09e-04 | Test Loss: 1.16e+01, 4.92e-02, 74.67%\n"
     ]
    },
    {
     "name": "stderr",
     "output_type": "stream",
     "text": [
      " 58%|█████▊    | 461/800 [10:01:41<7:33:16, 80.23s/it]"
     ]
    },
    {
     "name": "stdout",
     "output_type": "stream",
     "text": [
      "Epoch 460 | LR: 2.40e-04 | Train Loss: 1.20e-03 | Test Loss: 1.15e+01, 3.65e-02, 73.85%\n"
     ]
    },
    {
     "name": "stderr",
     "output_type": "stream",
     "text": [
      " 60%|██████    | 481/800 [10:27:45<7:06:43, 80.26s/it]"
     ]
    },
    {
     "name": "stdout",
     "output_type": "stream",
     "text": [
      "Epoch 480 | LR: 2.40e-04 | Train Loss: 5.56e-04 | Test Loss: 1.16e+01, 5.49e-02, 73.26%\n"
     ]
    },
    {
     "name": "stderr",
     "output_type": "stream",
     "text": [
      " 63%|██████▎   | 501/800 [10:53:48<6:39:35, 80.19s/it]"
     ]
    },
    {
     "name": "stdout",
     "output_type": "stream",
     "text": [
      "Epoch 500 | LR: 1.68e-04 | Train Loss: 9.32e-04 | Test Loss: 1.13e+01, 5.91e-02, 72.60%\n"
     ]
    },
    {
     "name": "stderr",
     "output_type": "stream",
     "text": [
      " 65%|██████▌   | 521/800 [11:19:50<6:12:41, 80.15s/it]"
     ]
    },
    {
     "name": "stdout",
     "output_type": "stream",
     "text": [
      "Epoch 520 | LR: 1.68e-04 | Train Loss: 2.65e-03 | Test Loss: 1.07e+01, 4.31e-02, 72.11%\n"
     ]
    },
    {
     "name": "stderr",
     "output_type": "stream",
     "text": [
      " 68%|██████▊   | 541/800 [11:45:51<5:46:21, 80.24s/it]"
     ]
    },
    {
     "name": "stdout",
     "output_type": "stream",
     "text": [
      "Epoch 540 | LR: 1.68e-04 | Train Loss: 2.64e-03 | Test Loss: 1.09e+01, 4.62e-02, 71.59%\n"
     ]
    },
    {
     "name": "stderr",
     "output_type": "stream",
     "text": [
      " 70%|███████   | 561/800 [12:11:54<5:19:34, 80.23s/it]"
     ]
    },
    {
     "name": "stdout",
     "output_type": "stream",
     "text": [
      "Epoch 560 | LR: 1.68e-04 | Train Loss: 2.00e-03 | Test Loss: 1.07e+01, 4.17e-02, 70.90%\n"
     ]
    },
    {
     "name": "stderr",
     "output_type": "stream",
     "text": [
      " 73%|███████▎  | 581/800 [12:37:57<4:52:54, 80.25s/it]"
     ]
    },
    {
     "name": "stdout",
     "output_type": "stream",
     "text": [
      "Epoch 580 | LR: 1.68e-04 | Train Loss: 1.54e-03 | Test Loss: 1.07e+01, 4.74e-02, 68.05%\n"
     ]
    },
    {
     "name": "stderr",
     "output_type": "stream",
     "text": [
      " 75%|███████▌  | 601/800 [13:03:59<4:25:52, 80.16s/it]"
     ]
    },
    {
     "name": "stdout",
     "output_type": "stream",
     "text": [
      "Epoch 600 | LR: 1.18e-04 | Train Loss: 4.64e-04 | Test Loss: 1.02e+01, 3.99e-02, 65.28%\n"
     ]
    },
    {
     "name": "stderr",
     "output_type": "stream",
     "text": [
      " 78%|███████▊  | 621/800 [13:29:59<3:58:44, 80.03s/it]"
     ]
    },
    {
     "name": "stdout",
     "output_type": "stream",
     "text": [
      "Epoch 620 | LR: 1.18e-04 | Train Loss: 4.74e-04 | Test Loss: 1.06e+01, 3.19e-02, 64.56%\n"
     ]
    },
    {
     "name": "stderr",
     "output_type": "stream",
     "text": [
      " 80%|████████  | 641/800 [13:56:03<3:32:58, 80.37s/it]"
     ]
    },
    {
     "name": "stdout",
     "output_type": "stream",
     "text": [
      "Epoch 640 | LR: 1.18e-04 | Train Loss: 1.39e-03 | Test Loss: 1.01e+01, 4.50e-02, 64.31%\n"
     ]
    },
    {
     "name": "stderr",
     "output_type": "stream",
     "text": [
      " 83%|████████▎ | 661/800 [14:22:07<3:05:56, 80.26s/it]"
     ]
    },
    {
     "name": "stdout",
     "output_type": "stream",
     "text": [
      "Epoch 660 | LR: 1.18e-04 | Train Loss: 1.55e-03 | Test Loss: 1.05e+01, 4.41e-02, 64.41%\n"
     ]
    },
    {
     "name": "stderr",
     "output_type": "stream",
     "text": [
      " 85%|████████▌ | 681/800 [14:48:10<2:39:06, 80.22s/it]"
     ]
    },
    {
     "name": "stdout",
     "output_type": "stream",
     "text": [
      "Epoch 680 | LR: 1.18e-04 | Train Loss: 9.02e-04 | Test Loss: 1.04e+01, 3.89e-02, 64.15%\n"
     ]
    },
    {
     "name": "stderr",
     "output_type": "stream",
     "text": [
      " 88%|████████▊ | 701/800 [15:14:15<2:12:29, 80.29s/it]"
     ]
    },
    {
     "name": "stdout",
     "output_type": "stream",
     "text": [
      "Epoch 700 | LR: 8.24e-05 | Train Loss: 9.64e-04 | Test Loss: 1.02e+01, 4.64e-02, 64.24%\n"
     ]
    },
    {
     "name": "stderr",
     "output_type": "stream",
     "text": [
      " 90%|█████████ | 721/800 [15:40:20<1:45:50, 80.39s/it]"
     ]
    },
    {
     "name": "stdout",
     "output_type": "stream",
     "text": [
      "Epoch 720 | LR: 8.24e-05 | Train Loss: 2.03e-03 | Test Loss: 1.03e+01, 3.56e-02, 64.12%\n"
     ]
    },
    {
     "name": "stderr",
     "output_type": "stream",
     "text": [
      " 93%|█████████▎| 741/800 [16:06:26<1:19:01, 80.36s/it]"
     ]
    },
    {
     "name": "stdout",
     "output_type": "stream",
     "text": [
      "Epoch 740 | LR: 8.24e-05 | Train Loss: 4.57e-04 | Test Loss: 1.04e+01, 4.52e-02, 64.05%\n"
     ]
    },
    {
     "name": "stderr",
     "output_type": "stream",
     "text": [
      " 95%|█████████▌| 761/800 [16:32:33<52:10, 80.27s/it]  "
     ]
    },
    {
     "name": "stdout",
     "output_type": "stream",
     "text": [
      "Epoch 760 | LR: 8.24e-05 | Train Loss: 1.95e-03 | Test Loss: 1.01e+01, 3.81e-02, 64.10%\n"
     ]
    },
    {
     "name": "stderr",
     "output_type": "stream",
     "text": [
      " 98%|█████████▊| 781/800 [16:58:38<25:24, 80.26s/it]"
     ]
    },
    {
     "name": "stdout",
     "output_type": "stream",
     "text": [
      "Epoch 780 | LR: 8.24e-05 | Train Loss: 4.87e-04 | Test Loss: 1.05e+01, 5.60e-02, 64.18%\n"
     ]
    },
    {
     "name": "stderr",
     "output_type": "stream",
     "text": [
      "100%|██████████| 800/800 [17:23:18<00:00, 78.25s/it]\n"
     ]
    }
   ],
   "source": [
    "TotLoss = nn.MSELoss()\n",
    "opt.epochs = 800\n",
    "optimizer, scheduler = opt_strategy(model, opt)\n",
    "train_log, test_log, lr_log = train(model, optimizer, scheduler, opt, dataset_train, device_train,\n",
    "                                           dataset_test, res_trans, ckpt_name, TotLoss=TotLoss)\n",
    "if not os.path.exists(opt.load_model_path):\n",
    "    save(model, opt.modelpath, ckpt_name)"
   ]
  },
  {
   "cell_type": "code",
   "execution_count": 4,
   "metadata": {
    "scrolled": true
   },
   "outputs": [
    {
     "name": "stdout",
     "output_type": "stream",
     "text": [
      "Net Initialized\n",
      "!Model load from  ./Ckpts/ResNet.pth\n",
      "<bound method Module.parameters of ResNet(\n",
      "  (conv1): Sequential(\n",
      "    (0): Conv3d(1, 2, kernel_size=(3, 3, 3), stride=(1, 1, 1), padding=(1, 1, 1))\n",
      "    (1): LeakyReLU(negative_slope=0.01, inplace=True)\n",
      "  )\n",
      "  (reslayers): Sequential(\n",
      "    (0): Sequential(\n",
      "      (0): BasicBlock(\n",
      "        (conv): Sequential(\n",
      "          (0): Conv3d(2, 2, kernel_size=(3, 3, 3), stride=(1, 1, 1), padding=(1, 1, 1), padding_mode=replicate)\n",
      "          (1): LeakyReLU(negative_slope=0.01, inplace=True)\n",
      "          (2): Conv3d(2, 2, kernel_size=(3, 3, 3), stride=(1, 1, 1), padding=(1, 1, 1), padding_mode=replicate)\n",
      "        )\n",
      "        (shortcut): Sequential()\n",
      "      )\n",
      "      (1): BasicBlock(\n",
      "        (conv): Sequential(\n",
      "          (0): Conv3d(2, 2, kernel_size=(3, 3, 3), stride=(1, 1, 1), padding=(1, 1, 1), padding_mode=replicate)\n",
      "          (1): LeakyReLU(negative_slope=0.01, inplace=True)\n",
      "          (2): Conv3d(2, 2, kernel_size=(3, 3, 3), stride=(1, 1, 1), padding=(1, 1, 1), padding_mode=replicate)\n",
      "        )\n",
      "        (shortcut): Sequential()\n",
      "      )\n",
      "    )\n",
      "    (1): Sequential(\n",
      "      (0): BasicBlock(\n",
      "        (conv): Sequential(\n",
      "          (0): Conv3d(2, 4, kernel_size=(3, 3, 3), stride=(1, 1, 1), padding=(1, 1, 1), padding_mode=replicate)\n",
      "          (1): LeakyReLU(negative_slope=0.01, inplace=True)\n",
      "          (2): Conv3d(4, 4, kernel_size=(3, 3, 3), stride=(1, 1, 1), padding=(1, 1, 1), padding_mode=replicate)\n",
      "        )\n",
      "        (shortcut): Sequential(\n",
      "          (0): Conv3d(2, 4, kernel_size=(1, 1, 1), stride=(1, 1, 1), bias=False)\n",
      "        )\n",
      "      )\n",
      "      (1): BasicBlock(\n",
      "        (conv): Sequential(\n",
      "          (0): Conv3d(4, 4, kernel_size=(3, 3, 3), stride=(1, 1, 1), padding=(1, 1, 1), padding_mode=replicate)\n",
      "          (1): LeakyReLU(negative_slope=0.01, inplace=True)\n",
      "          (2): Conv3d(4, 4, kernel_size=(3, 3, 3), stride=(1, 1, 1), padding=(1, 1, 1), padding_mode=replicate)\n",
      "        )\n",
      "        (shortcut): Sequential()\n",
      "      )\n",
      "    )\n",
      "    (2): Sequential(\n",
      "      (0): BasicBlock(\n",
      "        (conv): Sequential(\n",
      "          (0): Conv3d(4, 6, kernel_size=(3, 3, 3), stride=(1, 1, 1), padding=(1, 1, 1), padding_mode=replicate)\n",
      "          (1): LeakyReLU(negative_slope=0.01, inplace=True)\n",
      "          (2): Conv3d(6, 6, kernel_size=(3, 3, 3), stride=(1, 1, 1), padding=(1, 1, 1), padding_mode=replicate)\n",
      "        )\n",
      "        (shortcut): Sequential(\n",
      "          (0): Conv3d(4, 6, kernel_size=(1, 1, 1), stride=(1, 1, 1), bias=False)\n",
      "        )\n",
      "      )\n",
      "      (1): BasicBlock(\n",
      "        (conv): Sequential(\n",
      "          (0): Conv3d(6, 6, kernel_size=(3, 3, 3), stride=(1, 1, 1), padding=(1, 1, 1), padding_mode=replicate)\n",
      "          (1): LeakyReLU(negative_slope=0.01, inplace=True)\n",
      "          (2): Conv3d(6, 6, kernel_size=(3, 3, 3), stride=(1, 1, 1), padding=(1, 1, 1), padding_mode=replicate)\n",
      "        )\n",
      "        (shortcut): Sequential()\n",
      "      )\n",
      "    )\n",
      "  )\n",
      "  (conv2): Sequential(\n",
      "    (0): Conv3d(6, 1, kernel_size=(1, 1, 1), stride=(1, 1, 1))\n",
      "  )\n",
      ")>\n",
      "allocated and reserved GPU memory: 6.29425048828125e-05, 0.001953125 (GiB)\n"
     ]
    },
    {
     "name": "stderr",
     "output_type": "stream",
     "text": [
      "\r",
      "  0%|          | 0/20 [00:00<?, ?it/s]"
     ]
    },
    {
     "name": "stdout",
     "output_type": "stream",
     "text": [
      "../dataset_train_v1/0080Acid_ini Read in 0.12 s\n",
      "../dataset_train_v1/0080Inhibitor Read in 0.12 s\n",
      "RMSE for label 0: [0.01  0.866]\n",
      "NMSE for label 0: [11.629  2.176]\n",
      "NMSE_height for label 0: [12.403  1.916]\n"
     ]
    },
    {
     "name": "stderr",
     "output_type": "stream",
     "text": [
      "<<<\n",
      "time:\t0.435943s\n",
      "<<<\n",
      "<<<\n",
      "time:\t0.39695s\n",
      "<<<\n"
     ]
    },
    {
     "name": "stdout",
     "output_type": "stream",
     "text": [
      "\n",
      "!Start to clear memory\n",
      "CD_x error at height 0:\n",
      " [ 2.3    0.2    2.347  2.9    2.     1.83   2.1   -0.2    0.5    0.6    0.372 -0.     0.2    2.1\n",
      "  0.8    0.2    0.3   -0.     1.4  ]\n",
      "CD_y error at height 0:\n",
      " [-2.7    1.4    1.1    1.8    0.153  0.9    0.9    1.2   -0.1   -0.4    0.059  4.9   -0.7   -0.049\n",
      "  0.575  0.2    0.2   -0.     0.3  ]\n",
      "CD_x error at height 8:\n",
      " [-0.    -0.     1.6   -0.1    1.8    0.3    1.2   -0.1   -0.1    0.3   -0.4   -0.     0.5   -0.\n",
      "  5.7    0.133 38.102 -0.2   -1.5    1.7  ]\n",
      "CD_y error at height 8:\n",
      " [ 0.2   -0.6    1.318  1.5    0.461  2.346  0.941  2.     0.133  0.1   -0.818 -0.063  0.1   -0.1\n",
      " -0.1   -0.1    0.041  0.1    0.5  ]\n",
      "CD_x error at height 16:\n",
      " [-0.2   -0.4    0.322  0.2   -0.    -0.079  0.5   -0.12   0.1    0.6    0.3    0.084  0.8    0.1\n",
      "  0.1    0.237  0.2    0.9    2.   ]\n",
      "CD_y error at height 16:\n",
      " [ 0.2   -0.9    0.313 -0.    -0.085 -0.3    0.1   -0.1   -0.9    0.946  0.18  -0.339  0.148 -1.063\n",
      "  2.6   -0.133 -0.1    0.529  1.727]\n",
      "CD_x error at height 24:\n",
      " [ 0.752 -0.5    0.1   -1.4    0.     0.3    1.2    0.1    1.2   -0.3   -0.     0.     2.7   -0.\n",
      "  1.791 -0.     0.1   -0.     2.   ]\n",
      "CD_y error at height 24:\n",
      " [-0.1   -0.    -0.2   -0.538 -1.4    0.006  0.1    0.482  3.019  0.1    0.342 -0.3    0.2    0.789\n",
      " -0.     0.    -1.438 -0.1   -0.   ]\n",
      "CD_x error at height 32:\n",
      " [-0.9    0.1   -0.2   -1.253 -0.    -0.1    0.874  0.3    0.1   -1.331  0.679 -0.1    1.     1.9\n",
      "  0.1    1.8   -1.68   1.5    2.3  ]\n",
      "CD_y error at height 32:\n",
      " [-0.    -0.     0.3   -0.     2.932 -0.    -0.062  0.3    1.3    1.2   -1.5   -0.093  0.443 -1.4\n",
      "  0.74   1.047  0.1    0.4    2.89 ]\n",
      "CD_x error at height 40:\n",
      " [ 1.     0.1    1.1    1.107  1.1   -0.4    1.5   -0.1   -0.    -1.    -0.33  -0.     1.7    2.\n",
      " -0.     1.9   -0.1    0.8    2.1  ]\n",
      "CD_y error at height 40:\n",
      " [ 1.4    0.044  0.9    1.583  0.3   -2.824  0.1    0.467  1.883  2.2   -0.5    0.    -0.     0.4\n",
      " -0.6   -0.249 -0.056 -0.1    0.786]\n",
      "CD_x error at height 48:\n",
      " [ 1.5   -0.906  0.7   -0.324 -0.6    0.1   -1.1   -1.     0.2   -2.1    0.2   -0.     0.1   -0.\n",
      "  0.1    1.    -1.    -0.8    4.4  ]\n",
      "CD_y error at height 48:\n",
      " [ 3.6   -0.8   -0.664 -0.1    0.7    0.248 -0.    -0.083  0.1    2.     0.3   -1.7   -0.1   -0.305\n",
      "  0.7    0.8    0.3    1.1   -0.1  ]\n",
      "CD_x error at height 56:\n",
      " [ 0.1    0.339  1.2   -0.9   -0.4    0.4    2.     2.     0.8   -0.6    0.099  0.4   -0.    -0.1\n",
      "  0.254  0.3   -0.    -0.4    6.2  ]\n",
      "CD_y error at height 56:\n",
      " [ 2.3   -0.1   -1.3   -0.    -0.211 -0.488  0.5    0.4   -0.    -1.226  0.2    0.138 -0.    -2.33\n",
      "  0.    -0.4   -0.    -0.3   -0.034]\n",
      "CD_x error at height 64:\n",
      " [ 0.5   1.4   2.03  1.3   0.8   1.2   1.    0.1   0.8   1.    5.9   1.    3.    0.1   1.5  -0.1\n",
      " -0.   -3.2   6.3 ]\n",
      "CD_y error at height 64:\n",
      " [ 1.6    0.3   -0.9    0.1   -0.     0.045  0.352 -0.     0.3   -0.377 -0.     0.1    0.2    0.2\n",
      "  0.352  0.2    0.682  0.7   -0.7  ]\n"
     ]
    },
    {
     "name": "stderr",
     "output_type": "stream",
     "text": [
      "\r",
      "  5%|▌         | 1/20 [2:10:58<41:28:36, 7858.77s/it]"
     ]
    },
    {
     "name": "stdout",
     "output_type": "stream",
     "text": [
      "Contact 18 in 72-CD_x_pred is redundant, with info [-952.883  928.096    5.786]\n",
      "CD_x error at height 72:\n",
      " [1.8   0.9   2.226 1.2   1.    3.7   3.1   1.5   1.5   0.8   1.474 2.1   1.6   1.2   1.6   3.1\n",
      " 1.454 3.867 5.786]\n",
      "Contact 0 in 72-CD_y_pred is redundant, with info [-949.897  925.504    5.093]\n",
      "CD_y error at height 72:\n",
      " [ 5.093  1.488 -1.189  1.119 -0.3    0.1   -0.4    0.579  0.    -0.4   -1.2   -0.1    0.6   -1.2\n",
      " -1.3   -0.6    0.    -1.2    0.958]\n",
      "CD_RMSE for label 0: [3.168 1.077]\n",
      "../dataset_train_v1/0081Acid_ini Read in 0.68 s\n",
      "../dataset_train_v1/0081Inhibitor Read in 0.65 s\n",
      "RMSE for label 1: [0.011 0.92 ]\n",
      "NMSE for label 1: [11.53   2.315]\n",
      "NMSE_height for label 1: [12.549  2.069]\n"
     ]
    },
    {
     "name": "stderr",
     "output_type": "stream",
     "text": [
      "<<<\n",
      "time:\t0.432812s\n",
      "<<<\n"
     ]
    },
    {
     "name": "stdout",
     "output_type": "stream",
     "text": [
      "\n",
      "!Start to clear memory\n",
      "\n",
      "!Start to clear memory\n"
     ]
    },
    {
     "name": "stderr",
     "output_type": "stream",
     "text": [
      "<<<\n",
      "time:\t0.400329s\n",
      "<<<\n"
     ]
    },
    {
     "name": "stdout",
     "output_type": "stream",
     "text": [
      "CD_x error at height 0:\n",
      " [ 0.6    0.    -0.1    0.562  2.     0.5    1.3    0.2    0.1    0.3   -0.1    2.2    0.4    1.7\n",
      "  0.076 -0.     0.444  0.2    0.1   -6.9  ]\n",
      "CD_y error at height 0:\n",
      " [-5.3    2.3    0.552  3.651  0.508  0.457 -0.     2.2    1.     1.6    0.1   -0.306  0.155  0.1\n",
      "  2.068  2.745  0.146  0.4    0.    -0.1  ]\n",
      "CD_x error at height 8:\n",
      " [-0.9   -0.1    0.5    2.1   -1.3   -1.137  0.    -0.132 -0.032  1.3    0.3   -0.     1.     2.6\n",
      "  0.222 -0.1    1.3   -0.506 -0.138  0.1  ]\n",
      "CD_y error at height 8:\n",
      " [ 0.591 -0.352  0.472 -0.1   -0.6    0.1   -2.8    2.249 -0.2    2.4    0.1    0.155 -0.     0.2\n",
      "  2.257  0.064 -0.    -0.    -2.2    0.1  ]\n",
      "CD_x error at height 16:\n",
      " [-0.5    0.9   -0.    -0.116  1.844  1.3    1.3    0.578 -2.     0.9    2.5   -0.     0.728  0.2\n",
      " -1.7   -0.2    0.058 -0.7   -0.7    0.9  ]\n",
      "CD_y error at height 16:\n",
      " [ 0.423  0.96  -0.224 -0.2   -0.1   -0.2   -0.301 -0.    -0.743  0.164  0.6   -0.27   1.6   -0.2\n",
      "  0.2   -0.8    1.2    0.2    5.8    0.2  ]\n",
      "CD_x error at height 24:\n",
      " [-0.1   -0.     0.2   -0.     0.1    0.6    0.2    2.3   -0.     0.73  -2.5    2.     0.5   -0.\n",
      " -1.4   -0.     0.063  0.4   -0.1    2.7  ]\n",
      "CD_y error at height 24:\n",
      " [ 1.5    1.7    2.3    0.8    0.335  0.269  0.858 -1.     0.4   -1.5    0.3    0.484 -0.515  4.2\n",
      "  1.03   0.044 -0.1    1.6    0.3    0.332]\n",
      "CD_x error at height 32:\n",
      " [ 0.287  2.    -1.7   -1.3    0.7    0.3    0.    -2.056 -0.     0.337  2.2    0.154 -0.5    0.2\n",
      " -0.171 -0.    -0.7   -0.1   -0.     2.8  ]\n",
      "CD_y error at height 32:\n",
      " [ 2.7    0.673  1.555 -0.4   -0.2    2.    -0.8    0.4   -0.    -0.696 -0.1   -0.078  0.634  0.1\n",
      " -0.6    1.1   -0.192 -0.1    0.4   -0.1  ]\n",
      "CD_x error at height 40:\n",
      " [-0.1   -0.8   -0.8   -0.2   -0.    -0.     1.2    1.4    1.6   -0.2    0.7    0.2    2.3    0.462\n",
      "  0.1   -0.    -0.    -0.304  0.8    5.5  ]\n",
      "CD_y error at height 40:\n",
      " [ 4.1    1.56  -0.    -0.1    0.2    0.563  0.353  0.1   -2.3   -0.    -0.     0.124  0.1    0.4\n",
      " -0.4   -0.1   -0.1    0.45   0.4    0.9  ]\n",
      "CD_x error at height 48:\n",
      " [-0.2   -0.    -1.9    0.139 -0.151  1.6   -0.7    0.1   -0.641 -2.653 -1.5   -0.1   -0.1   -2.\n",
      " -1.9   -0.2    0.1    0.1    0.5    5.2  ]\n",
      "CD_y error at height 48:\n",
      " [ 7.8   -0.3   -2.7    0.3    0.    -0.5    0.2    0.163 -0.2   -3.    -0.6   -1.9    0.407 -0.558\n",
      " -2.     1.4    0.1    0.2   -0.2   -0.445]\n",
      "CD_x error at height 56:\n",
      " [ 0.765 -2.    -1.2    0.    -0.2    0.4   -0.     0.2    0.6   -1.3   -0.2   -0.583 -0.    -0.2\n",
      "  0.47   0.2    0.467  1.619 -0.1    7.2  ]\n",
      "CD_y error at height 56:\n",
      " [ 8.2    0.2   -0.973 -0.1   -0.1    0.183  1.    -0.1   -0.1   -0.2    1.026 -0.     2.2   -2.439\n",
      " -1.9   -0.3   -0.4    0.1   -0.4    2.1  ]\n",
      "CD_x error at height 64:\n",
      " [ 0.5    1.739  1.7    1.5    2.5    4.4    1.4    2.6    0.7    0.9    1.644  3.3    0.4    0.783\n",
      "  1.3   -0.1   -1.2    1.1    0.4    5.8  ]\n",
      "CD_y error at height 64:\n",
      " [ 8.7    0.3   -0.1   -0.1   -0.     0.1   -1.1   -0.    -0.1   -2.5    1.2    0.    -0.    -1.\n",
      " -0.    -0.     0.839 -0.1    0.1    0.2  ]\n"
     ]
    },
    {
     "name": "stderr",
     "output_type": "stream",
     "text": [
      "\r",
      " 10%|█         | 2/20 [4:21:43<39:15:10, 7850.56s/it]"
     ]
    },
    {
     "name": "stdout",
     "output_type": "stream",
     "text": [
      "Contact 19 in 72-CD_x_pred is redundant, with info [-958.198  939.397    8.   ]\n",
      "CD_x error at height 72:\n",
      " [2.033 1.2   1.6   0.8   0.9   2.2   0.5   2.9   2.312 2.6   2.4   2.5   1.    0.8   1.2   1.6\n",
      " 2.9   1.758 2.    8.   ]\n",
      "Contact 0 in 72-CD_y_pred is redundant, with info [-954.198  934.651    9.646]\n",
      "CD_y error at height 72:\n",
      " [ 9.646  0.834  0.1   -1.1   -3.135 -0.4    1.3    0.5   -0.204  0.7    1.1   -0.805  1.     3.359\n",
      "  0.237 -1.06  -0.466  0.011 -0.524  0.2  ]\n",
      "CD_RMSE for label 1: [1.657 1.744]\n",
      "../dataset_train_v1/0082Acid_ini Read in 0.14 s\n",
      "../dataset_train_v1/0082Inhibitor Read in 0.14 s\n",
      "RMSE for label 2: [0.006 0.532]\n",
      "NMSE for label 2: [11.262  1.334]\n",
      "NMSE_height for label 2: [12.141  1.146]\n",
      "\n",
      "!Start to clear memory\n"
     ]
    },
    {
     "name": "stderr",
     "output_type": "stream",
     "text": [
      "<<<\n",
      "time:\t0.408389s\n",
      "<<<\n"
     ]
    },
    {
     "name": "stdout",
     "output_type": "stream",
     "text": [
      "\n",
      "!Start to clear memory\n"
     ]
    },
    {
     "name": "stderr",
     "output_type": "stream",
     "text": [
      "<<<\n",
      "time:\t0.363559s\n",
      "<<<\n"
     ]
    },
    {
     "name": "stdout",
     "output_type": "stream",
     "text": [
      "CD_x error at height 0:\n",
      " [ 0.2    1.8    0.473  0.206  0.    -0.2    0.2   -0.1  ]\n",
      "CD_y error at height 0:\n",
      " [ 0.13  0.13 -0.   -0.6   2.    0.3  -0.    2.  ]\n",
      "CD_x error at height 8:\n",
      " [ 0.4 -0.5 -0.  -0.   0.1  0.3 -0.  -0.6]\n",
      "CD_y error at height 8:\n",
      " [-0.   0.1  0.4  0.1  2.3  3.1  2.1 -1. ]\n",
      "CD_x error at height 16:\n",
      " [ 0.026  0.9    0.4    0.477 -0.161 -0.1    0.846  2.1  ]\n",
      "CD_y error at height 16:\n",
      " [ 0.1    0.5   -0.3    0.454 -0.035  0.274  0.9    0.4  ]\n",
      "CD_x error at height 24:\n",
      " [-1.5    1.9   -0.2   -0.    -0.    -0.616 -0.     0.1  ]\n",
      "CD_y error at height 24:\n",
      " [ 0.1   -0.    -0.    -0.2    0.914 -1.1    0.3    0.8  ]\n",
      "CD_x error at height 32:\n",
      " [ 2.7 -0.1  0.3 -0.  -0.4  0.2 -0.   0. ]\n",
      "CD_y error at height 32:\n",
      " [ 0.6   -0.191 -0.1   -0.     0.912  0.2   -0.1    5.   ]\n",
      "CD_x error at height 40:\n",
      " [-0.3    2.14   1.1    0.2   -0.6    0.9    0.391  0.5  ]\n",
      "CD_y error at height 40:\n",
      " [ 0.334 -0.3   -0.     0.2    1.75  -1.1    0.2   -0.9  ]\n",
      "CD_x error at height 48:\n",
      " [ 1.8   -0.1   -1.242 -2.166 -1.2    2.     0.15   0.   ]\n",
      "CD_y error at height 48:\n",
      " [-0.2   -0.     0.3    0.1   -0.381 -0.2    0.1    0.361]\n",
      "CD_x error at height 56:\n",
      " [ 0.5   -0.1    1.6    1.2   -0.5   -0.1    1.561 -0.   ]\n",
      "CD_y error at height 56:\n",
      " [ 0.1  0.2 -0.1 -0.1  1.8 -0.  -2.   0.2]\n",
      "CD_x error at height 64:\n",
      " [0.7   2.3   2.736 0.7   1.4   1.1   1.4   1.   ]\n",
      "CD_y error at height 64:\n",
      " [ 0.6   -2.3   -0.2   -0.7    0.056 -0.137 -0.1   -0.8  ]\n"
     ]
    },
    {
     "name": "stderr",
     "output_type": "stream",
     "text": [
      "\r",
      " 15%|█▌        | 3/20 [6:31:27<36:55:40, 7820.02s/it]"
     ]
    },
    {
     "name": "stdout",
     "output_type": "stream",
     "text": [
      "CD_x error at height 72:\n",
      " [1.661 1.718 2.154 0.7   0.7   2.974 2.37  1.2  ]\n",
      "CD_y error at height 72:\n",
      " [ 1.1    0.7    0.798 -0.168  0.2    1.5    0.6   -0.8  ]\n",
      "CD_RMSE for label 2: [1.125 1.033]\n",
      "../dataset_train_v1/0083Acid_ini Read in 0.14 s\n",
      "../dataset_train_v1/0083Inhibitor Read in 0.14 s\n",
      "RMSE for label 3: [0.009 0.756]\n",
      "NMSE for label 3: [11.48   1.898]\n",
      "NMSE_height for label 3: [12.126  1.644]\n",
      "\n",
      "!Start to clear memory\n"
     ]
    },
    {
     "name": "stderr",
     "output_type": "stream",
     "text": [
      "<<<\n",
      "time:\t0.420997s\n",
      "<<<\n"
     ]
    },
    {
     "name": "stdout",
     "output_type": "stream",
     "text": [
      "\n",
      "!Start to clear memory\n"
     ]
    },
    {
     "name": "stderr",
     "output_type": "stream",
     "text": [
      "<<<\n",
      "time:\t0.384283s\n",
      "<<<\n"
     ]
    },
    {
     "name": "stdout",
     "output_type": "stream",
     "text": [
      "CD_x error at height 0:\n",
      " [ 2.175 -0.1   -0.     0.062  0.427  1.5   -0.1    0.9    0.541  0.101 -0.1    0.3   -0.572  1.8\n",
      "  0.509]\n",
      "CD_y error at height 0:\n",
      " [ 0.097  0.7   -0.196  0.4   -0.4    0.1    0.9    0.7   -0.     0.6    0.2    1.5    0.8   -0.\n",
      " -0.021]\n",
      "CD_x error at height 8:\n",
      " [-0.2   -0.207 -0.    -0.     1.2    0.753  1.1    0.3    0.489  0.9   -1.     0.1    0.1    0.9\n",
      "  1.7  ]\n",
      "CD_y error at height 8:\n",
      " [-0.751 -0.264  0.459 -0.653  0.     1.    -0.21   0.618  2.5    2.239 -0.     0.7    0.9   -0.3\n",
      " -0.1  ]\n",
      "CD_x error at height 16:\n",
      " [-0.1   -0.25   0.1    1.     0.2    1.7    2.2   -1.1    0.785 -0.1    1.1    3.     0.383 -0.1\n",
      " -0.3  ]\n",
      "CD_y error at height 16:\n",
      " [-0.1    0.2   -1.9    0.4    0.2    0.7   -0.195  0.2   -0.1   -0.1    2.1    0.3   -3.2    2.254\n",
      "  1.3  ]\n",
      "CD_x error at height 24:\n",
      " [ 0.2   -0.595 -0.1   -0.1    0.1   -1.2    1.2   -3.4   -0.701  0.3   -0.9   -0.     0.7   -0.1\n",
      " -0.2  ]\n",
      "CD_y error at height 24:\n",
      " [ 0.264 -1.8    1.4   -0.4    1.2    0.343 -1.8    1.047 -0.2   -0.4   -0.    -1.3   -0.644 -1.2\n",
      "  1.3  ]\n",
      "CD_x error at height 32:\n",
      " [-0.157 -1.6   -0.6    0.2   -1.     1.    -0.4    0.6   -1.744 -1.1   -0.9    0.3   -3.3    1.3\n",
      "  2.3  ]\n",
      "CD_y error at height 32:\n",
      " [-0.4    0.898  1.3    0.8   -0.8    1.     0.5   -2.3   -0.35   0.191  3.4   -0.088 -2.5    3.4\n",
      "  1.9  ]\n",
      "CD_x error at height 40:\n",
      " [ 0.329 -0.1   -0.277 -0.1   -0.8   -1.2   -0.2    0.9    0.586 -1.3   -2.     1.5   -0.1   -0.4\n",
      "  2.2  ]\n",
      "CD_y error at height 40:\n",
      " [ 0.    -0.9   -0.    -0.7    0.    -1.    -0.191 -0.1   -0.1   -0.     1.346 -0.     0.8    1.374\n",
      " -1.5  ]\n",
      "CD_x error at height 48:\n",
      " [ 0.089 -1.4    1.1   -0.8    2.2    0.826  0.4   -0.9    0.1    0.9   -0.7    2.163 -1.5    0.5\n",
      "  0.6  ]\n",
      "CD_y error at height 48:\n",
      " [-2.     2.3    0.9    0.1   -0.4   -0.7    0.3    0.5   -0.    -0.    -0.3   -0.     0.132  2.2\n",
      "  1.3  ]\n",
      "CD_x error at height 56:\n",
      " [ 0.5    1.9    1.6    2.    -2.1    0.2    0.3    0.041 -1.174  0.1   -0.3   -0.092 -0.2    2.1\n",
      "  2.4  ]\n",
      "CD_y error at height 56:\n",
      " [ 0.053 -0.1   -2.1   -0.    -2.1   -0.103  0.178  0.     0.948 -0.957 -0.    -2.3    0.3    0.1\n",
      " -0.1  ]\n",
      "CD_x error at height 64:\n",
      " [ 2.4    0.1    2.4    4.821  1.2    2.666  0.9    3.     0.1    0.9    0.5    1.962  2.3   -0.\n",
      "  1.4  ]\n",
      "CD_y error at height 64:\n",
      " [-1.4    0.     0.042 -0.1   -0.     0.1   -0.348 -0.8   -0.1   -0.1   -0.564 -0.3   -0.1   -0.3\n",
      " -1.043]\n"
     ]
    },
    {
     "name": "stderr",
     "output_type": "stream",
     "text": [
      "\r",
      " 20%|██        | 4/20 [8:40:49<34:39:15, 7797.19s/it]"
     ]
    },
    {
     "name": "stdout",
     "output_type": "stream",
     "text": [
      "CD_x error at height 72:\n",
      " [1.258 2.324 1.416 1.142 1.394 0.8   3.6   1.1   2.9   1.2   1.3   1.    5.    1.7   2.5  ]\n",
      "CD_y error at height 72:\n",
      " [-0.2    0.567 -0.1    0.1    1.5    0.062  0.4    0.1    0.756  0.041 -0.5   -0.255  0.452 -0.249\n",
      "  0.039]\n",
      "CD_RMSE for label 3: [1.388 1.027]\n",
      "../dataset_train_v1/0084Acid_ini Read in 0.14 s\n",
      "../dataset_train_v1/0084Inhibitor Read in 0.13 s\n",
      "RMSE for label 4: [0.004 0.353]\n",
      "NMSE for label 4: [11.332  0.882]\n",
      "NMSE_height for label 4: [12.186  0.778]\n",
      "\n",
      "!Start to clear memory\n"
     ]
    },
    {
     "name": "stderr",
     "output_type": "stream",
     "text": [
      "<<<\n",
      "time:\t0.39257s\n",
      "<<<\n"
     ]
    },
    {
     "name": "stdout",
     "output_type": "stream",
     "text": [
      "\n",
      "!Start to clear memory\n"
     ]
    },
    {
     "name": "stderr",
     "output_type": "stream",
     "text": [
      "<<<\n",
      "time:\t0.376009s\n",
      "<<<\n"
     ]
    },
    {
     "name": "stdout",
     "output_type": "stream",
     "text": [
      "CD_x error at height 0:\n",
      " [ 2.4  1.2 -0. ]\n",
      "CD_y error at height 0:\n",
      " [-0.    -0.041  0.1  ]\n",
      "CD_x error at height 8:\n",
      " [ 0.4 -1.1  0.6]\n",
      "CD_y error at height 8:\n",
      " [ 0.056  0.387 -0.   ]\n",
      "CD_x error at height 16:\n",
      " [-0.8  0.2 -0. ]\n",
      "CD_y error at height 16:\n",
      " [ 0.532 -2.76   0.119]\n",
      "CD_x error at height 24:\n",
      " [0.2 2.1 0.1]\n",
      "CD_y error at height 24:\n",
      " [-0.6    0.174 -0.4  ]\n",
      "CD_x error at height 32:\n",
      " [-0.2   -0.059 -0.   ]\n",
      "CD_y error at height 32:\n",
      " [ 0.1   -0.314  4.   ]\n",
      "CD_x error at height 40:\n",
      " [-0.     0.594  1.445]\n",
      "CD_y error at height 40:\n",
      " [0.11  0.    0.505]\n",
      "CD_x error at height 48:\n",
      " [-1.545 -0.5    1.608]\n",
      "CD_y error at height 48:\n",
      " [-0.2 -0.5  0.1]\n",
      "CD_x error at height 56:\n",
      " [ 0.2 -1.6  1.5]\n",
      "CD_y error at height 56:\n",
      " [ 0.971 -0.1   -0.   ]\n",
      "CD_x error at height 64:\n",
      " [0.2 1.2 2.3]\n",
      "CD_y error at height 64:\n",
      " [ 0.5 -0.  -0. ]\n"
     ]
    },
    {
     "name": "stderr",
     "output_type": "stream",
     "text": [
      "\r",
      " 25%|██▌       | 5/20 [10:49:59<32:25:01, 7780.10s/it]"
     ]
    },
    {
     "name": "stdout",
     "output_type": "stream",
     "text": [
      "CD_x error at height 72:\n",
      " [0.5   2.453 2.3  ]\n",
      "CD_y error at height 72:\n",
      " [0.006 0.2   0.066]\n",
      "CD_RMSE for label 4: [1.224 0.941]\n",
      "../dataset_train_v1/0085Acid_ini Read in 0.14 s\n",
      "../dataset_train_v1/0085Inhibitor Read in 0.13 s\n",
      "RMSE for label 5: [0.008 0.651]\n",
      "NMSE for label 5: [11.959  1.633]\n",
      "NMSE_height for label 5: [12.52   1.429]\n",
      "\n",
      "!Start to clear memory\n"
     ]
    },
    {
     "name": "stderr",
     "output_type": "stream",
     "text": [
      "<<<\n",
      "time:\t0.418985s\n",
      "<<<\n"
     ]
    },
    {
     "name": "stdout",
     "output_type": "stream",
     "text": [
      "\n",
      "!Start to clear memory\n"
     ]
    },
    {
     "name": "stderr",
     "output_type": "stream",
     "text": [
      "<<<\n",
      "time:\t0.400391s\n",
      "<<<\n"
     ]
    },
    {
     "name": "stdout",
     "output_type": "stream",
     "text": [
      "CD_x error at height 0:\n",
      " [ 0.5  0.1 -0.1  0.4  0.1  0.8  3.2  1.5 -0.9 -0.6]\n",
      "CD_y error at height 0:\n",
      " [ 0.255  0.5    0.2    0.847  2.6   -1.     0.3   -0.2    0.2   -0.   ]\n",
      "CD_x error at height 8:\n",
      " [-0.     0.9    0.541 -0.     2.1   -0.     2.1    1.4    0.3   -0.   ]\n",
      "CD_y error at height 8:\n",
      " [ 0.1   -0.3    2.9    0.343  3.063 -0.9    1.345 -0.4    0.5    0.1  ]\n",
      "CD_x error at height 16:\n",
      " [ 2.5    0.2   -0.5   -1.    -0.    -0.9    1.1    1.827 -0.1    1.3  ]\n",
      "CD_y error at height 16:\n",
      " [ 0.2    1.    -0.265  0.2    0.1    1.03   3.     1.7    0.3    1.4  ]\n",
      "CD_x error at height 24:\n",
      " [ 0.1 -0.4  1.   2.4 -0.   0.  -1.1 -0.1  0.8 -0.9]\n",
      "CD_y error at height 24:\n",
      " [-0.1   -0.057 -1.3    0.6    0.894 -2.54  -1.8   -1.1   -0.2    0.3  ]\n",
      "CD_x error at height 32:\n",
      " [-0.1 -0.1 -0.1  0.6 -0.   0.8 -2.6  1.1  0.   0.7]\n",
      "CD_y error at height 32:\n",
      " [ 0.406  0.085 -0.4   -2.2    0.7    0.6    2.25   1.9   -0.1    0.154]\n",
      "CD_x error at height 40:\n",
      " [ 0.761 -0.1   -0.5   -0.     1.     1.8    0.264  1.8   -2.3    3.1  ]\n",
      "CD_y error at height 40:\n",
      " [-0.     0.6    0.7   -0.841 -0.     0.157 -0.4    1.2   -0.1    0.2  ]\n",
      "CD_x error at height 48:\n",
      " [ 0.9    0.1   -0.42   0.2    0.203  1.    -0.1    2.2    1.4   -0.667]\n",
      "CD_y error at height 48:\n",
      " [ 1.6   -0.5   -0.1   -2.4   -3.    -0.639  1.8    1.9    1.2   -0.   ]\n",
      "CD_x error at height 56:\n",
      " [-0.7   -1.     0.1    0.5   -0.4   -0.288 -1.1   -0.    -0.3    0.751]\n",
      "CD_y error at height 56:\n",
      " [-0.    -0.     0.2    0.5    1.9   -0.7   -0.    -1.8    0.3    0.907]\n",
      "CD_x error at height 64:\n",
      " [3.3 2.6 1.3 0.7 1.2 1.3 1.1 2.7 1.7 3. ]\n",
      "CD_y error at height 64:\n",
      " [-0.     0.109 -0.1    0.8   -0.684 -0.    -0.1    0.1    0.226  0.1  ]\n"
     ]
    },
    {
     "name": "stderr",
     "output_type": "stream",
     "text": [
      "\r",
      " 30%|███       | 6/20 [12:59:16<30:13:31, 7772.22s/it]"
     ]
    },
    {
     "name": "stdout",
     "output_type": "stream",
     "text": [
      "CD_x error at height 72:\n",
      " [1.1   2.313 1.    0.7   0.6   1.1   2.    0.9   1.1   0.7  ]\n",
      "CD_y error at height 72:\n",
      " [-2.    -0.8   -1.562 -0.    -0.3   -2.5    0.472 -0.535 -0.4    0.1  ]\n",
      "CD_RMSE for label 5: [1.25  1.132]\n",
      "../dataset_train_v1/0086Acid_ini Read in 0.13 s\n",
      "../dataset_train_v1/0086Inhibitor Read in 0.13 s\n",
      "RMSE for label 6: [0.004 0.416]\n",
      "NMSE for label 6: [13.861  1.04 ]\n",
      "NMSE_height for label 6: [15.884  1.004]\n"
     ]
    },
    {
     "name": "stderr",
     "output_type": "stream",
     "text": [
      "<<<\n",
      "time:\t0.399025s\n",
      "<<<\n"
     ]
    },
    {
     "name": "stdout",
     "output_type": "stream",
     "text": [
      "\n",
      "!Start to clear memory\n"
     ]
    },
    {
     "name": "stderr",
     "output_type": "stream",
     "text": [
      "<<<\n",
      "time:\t0.343961s\n",
      "<<<\n"
     ]
    },
    {
     "name": "stdout",
     "output_type": "stream",
     "text": [
      "\n",
      "!Start to clear memory\n",
      "CD_x error at height 0:\n",
      " [ 2.2    0.553 -7.4  ]\n",
      "CD_y error at height 0:\n",
      " [-8.191  1.753  0.044]\n",
      "CD_x error at height 8:\n",
      " [-0.4    0.     0.224]\n",
      "CD_y error at height 8:\n",
      " [-0.155  1.328  0.1  ]\n",
      "CD_x error at height 16:\n",
      " [0.4 2.1 0.8]\n",
      "CD_y error at height 16:\n",
      " [ 1.5   -0.024  0.946]\n",
      "CD_x error at height 24:\n",
      " [-0.1    0.129 -3.1  ]\n",
      "CD_y error at height 24:\n",
      " [ 0.    -0.595  0.8  ]\n",
      "CD_x error at height 32:\n",
      " [2.1 1.4 0.2]\n",
      "CD_y error at height 32:\n",
      " [-0.  -0.2 -0. ]\n",
      "CD_x error at height 40:\n",
      " [-1.8  0.7  3. ]\n",
      "CD_y error at height 40:\n",
      " [-0.5  2.1  1.3]\n",
      "CD_x error at height 48:\n",
      " [-0.7  0.1  7.1]\n",
      "CD_y error at height 48:\n",
      " [ 4.4   -0.164  1.1  ]\n",
      "CD_x error at height 56:\n",
      " [-0.3 -0.6  3.7]\n",
      "CD_y error at height 56:\n",
      " [ 9.7  0.1 -0. ]\n",
      "CD_x error at height 64:\n",
      " [2.646 1.1   7.8  ]\n",
      "CD_y error at height 64:\n",
      " [12.368 -0.107 -2.1  ]\n"
     ]
    },
    {
     "name": "stderr",
     "output_type": "stream",
     "text": [
      "\r",
      " 35%|███▌      | 7/20 [15:08:26<28:02:27, 7765.21s/it]"
     ]
    },
    {
     "name": "stdout",
     "output_type": "stream",
     "text": [
      "Contact 2 in 72-CD_x_pred is redundant, with info [-963.798   79.854    6.9  ]\n",
      "Contact 3 in 72-CD_x_pred is redundant, with info [-961.479   87.354    1.481]\n",
      "CD_x error at height 72:\n",
      " [3.167 0.7   6.9   1.481]\n",
      "Contact 0 in 72-CD_y_pred is redundant, with info [-960.498   73.754   13.701]\n",
      "CD_y error at height 72:\n",
      " [13.701  0.2   -1.08 ]\n",
      "CD_RMSE for label 6: [3.051 4.256]\n",
      "../dataset_train_v1/0087Acid_ini Read in 0.13 s\n",
      "../dataset_train_v1/0087Inhibitor Read in 0.13 s\n",
      "RMSE for label 7: [0.004 0.343]\n",
      "NMSE for label 7: [11.172  0.857]\n",
      "NMSE_height for label 7: [12.101  0.75 ]\n",
      "\n",
      "!Start to clear memory\n"
     ]
    },
    {
     "name": "stderr",
     "output_type": "stream",
     "text": [
      "<<<\n",
      "time:\t0.379651s\n",
      "<<<\n",
      "<<<\n",
      "time:\t0.345021s\n",
      "<<<\n"
     ]
    },
    {
     "name": "stdout",
     "output_type": "stream",
     "text": [
      "\n",
      "!Start to clear memory\n",
      "CD_x error at height 0:\n",
      " [ 1.5 -0.  -0. ]\n",
      "CD_y error at height 0:\n",
      " [0.2   0.248 0.069]\n",
      "CD_x error at height 8:\n",
      " [ 2.6 -0.   0.3]\n",
      "CD_y error at height 8:\n",
      " [-0.5 -0.6  0.5]\n",
      "CD_x error at height 16:\n",
      " [-0.4    0.358 -1.324]\n",
      "CD_y error at height 16:\n",
      " [ 1.3 -0.2 -0.3]\n",
      "CD_x error at height 24:\n",
      " [ 0.9    2.6   -1.561]\n",
      "CD_y error at height 24:\n",
      " [ 0.1    0.213 -0.4  ]\n",
      "CD_x error at height 32:\n",
      " [ 1.4   -0.084 -0.098]\n",
      "CD_y error at height 32:\n",
      " [-0.228  0.     1.4  ]\n",
      "CD_x error at height 40:\n",
      " [ 0.8   -0.289 -0.069]\n",
      "CD_y error at height 40:\n",
      " [-0.249 -0.148  0.965]\n",
      "CD_x error at height 48:\n",
      " [-0.   -0.05 -0.8 ]\n",
      "CD_y error at height 48:\n",
      " [-0.    -0.069 -0.1  ]\n",
      "CD_x error at height 56:\n",
      " [-0.614 -1.9   -0.8  ]\n",
      "CD_y error at height 56:\n",
      " [ 0.  -0.2  0. ]\n",
      "CD_x error at height 64:\n",
      " [2.8 0.2 1.1]\n",
      "CD_y error at height 64:\n",
      " [-0.3 -0.2  0.1]\n"
     ]
    },
    {
     "name": "stderr",
     "output_type": "stream",
     "text": [
      "\r",
      " 40%|████      | 8/20 [17:17:35<25:51:59, 7760.00s/it]"
     ]
    },
    {
     "name": "stdout",
     "output_type": "stream",
     "text": [
      "CD_x error at height 72:\n",
      " [3.36  1.7   2.787]\n",
      "CD_y error at height 72:\n",
      " [ 0.5  1.  -1.4]\n",
      "CD_RMSE for label 7: [1.416 0.561]\n",
      "../dataset_train_v1/0088Acid_ini Read in 0.13 s\n",
      "../dataset_train_v1/0088Inhibitor Read in 0.13 s\n",
      "RMSE for label 8: [0.006 0.464]\n",
      "NMSE for label 8: [10.874  1.161]\n",
      "NMSE_height for label 8: [11.708  0.986]\n",
      "\n",
      "!Start to clear memory\n"
     ]
    },
    {
     "name": "stderr",
     "output_type": "stream",
     "text": [
      "<<<\n",
      "time:\t0.392643s\n",
      "<<<\n"
     ]
    },
    {
     "name": "stdout",
     "output_type": "stream",
     "text": [
      "\n",
      "!Start to clear memory\n"
     ]
    },
    {
     "name": "stderr",
     "output_type": "stream",
     "text": [
      "<<<\n",
      "time:\t0.369651s\n",
      "<<<\n"
     ]
    },
    {
     "name": "stdout",
     "output_type": "stream",
     "text": [
      "CD_x error at height 0:\n",
      " [-0.     1.    -0.     0.469  0.5   -0.1  ]\n",
      "CD_y error at height 0:\n",
      " [ 0.     1.751  0.143  0.857 -0.6    0.4  ]\n",
      "CD_x error at height 8:\n",
      " [ 2.5    0.8    0.5    2.3   -0.     0.448]\n",
      "CD_y error at height 8:\n",
      " [ 1.2   -0.2    0.226 -0.1    1.8    1.441]\n",
      "CD_x error at height 16:\n",
      " [-0.7  0.4 -0.1 -0.2 -0.   0.2]\n",
      "CD_y error at height 16:\n",
      " [ 0.     0.6    1.083 -2.65  -0.     2.04 ]\n",
      "CD_x error at height 24:\n",
      " [ 2.2 -0.3  2.8 -0.   1.2  0. ]\n",
      "CD_y error at height 24:\n",
      " [-0.1    0.67   1.257 -0.022  1.1   -0.2  ]\n",
      "CD_x error at height 32:\n",
      " [ 0.3 -0.1  2.1  0.4  2.   1.4]\n",
      "CD_y error at height 32:\n",
      " [-0.2   -0.2   -0.346 -0.2    0.44   0.8  ]\n",
      "CD_x error at height 40:\n",
      " [ 0.1   -0.431 -0.1   -0.    -0.5    0.075]\n",
      "CD_y error at height 40:\n",
      " [-0.    -0.226 -0.1   -0.1    0.4    2.8  ]\n",
      "CD_x error at height 48:\n",
      " [ 0.1   -1.115 -1.6   -1.6    2.3    0.2  ]\n",
      "CD_y error at height 48:\n",
      " [-0.1   -0.6    1.3   -0.1   -0.7    0.952]\n",
      "CD_x error at height 56:\n",
      " [-0.1 -0.9 -0.1 -0.3 -0.1  0.1]\n",
      "CD_y error at height 56:\n",
      " [-0.1 -0.4 -0.5 -0.   0.2  0.1]\n",
      "CD_x error at height 64:\n",
      " [2.5   1.676 2.1   0.3   1.4   1.1  ]\n",
      "CD_y error at height 64:\n",
      " [ 0.4   2.1   0.7  -0.33 -0.1  -1.5 ]\n"
     ]
    },
    {
     "name": "stderr",
     "output_type": "stream",
     "text": [
      "\r",
      " 45%|████▌     | 9/20 [19:26:48<23:42:13, 7757.63s/it]"
     ]
    },
    {
     "name": "stdout",
     "output_type": "stream",
     "text": [
      "CD_x error at height 72:\n",
      " [1.176 1.2   1.2   1.9   0.9   1.676]\n",
      "CD_y error at height 72:\n",
      " [ 0.059  0.9    0.2    0.5   -1.1   -0.222]\n",
      "CD_RMSE for label 8: [1.162 0.914]\n",
      "../dataset_train_v1/0089Acid_ini Read in 0.13 s\n",
      "../dataset_train_v1/0089Inhibitor Read in 0.13 s\n",
      "RMSE for label 9: [0.006 0.523]\n",
      "NMSE for label 9: [11.243  1.311]\n",
      "NMSE_height for label 9: [12.06  1.13]\n"
     ]
    },
    {
     "name": "stderr",
     "output_type": "stream",
     "text": [
      "<<<\n",
      "time:\t0.421217s\n",
      "<<<\n"
     ]
    },
    {
     "name": "stdout",
     "output_type": "stream",
     "text": [
      "\n",
      "!Start to clear memory\n"
     ]
    },
    {
     "name": "stderr",
     "output_type": "stream",
     "text": [
      "<<<\n",
      "time:\t0.376467s\n",
      "<<<\n"
     ]
    },
    {
     "name": "stdout",
     "output_type": "stream",
     "text": [
      "\n",
      "!Start to clear memory\n",
      "CD_x error at height 0:\n",
      " [ 0.2  -0.2   0.28  0.2   1.1   2.3   0.3 ]\n",
      "CD_y error at height 0:\n",
      " [ 0.2  1.7  1.9 -0.1  0.8  0.3  0.1]\n",
      "CD_x error at height 8:\n",
      " [ 0.6    1.4   -0.204 -0.8   -0.    -0.1   -0.   ]\n",
      "CD_y error at height 8:\n",
      " [ 1.753  1.213  0.878  0.487 -0.224 -0.3    0.1  ]\n",
      "CD_x error at height 16:\n",
      " [ 0.6    1.852 -0.1   -0.8    0.5    1.3   -0.1  ]\n",
      "CD_y error at height 16:\n",
      " [-0.4    0.404 -0.8   -0.8   -0.155  2.205  0.7  ]\n",
      "CD_x error at height 24:\n",
      " [-0.   1.5  0.2 -0.1  1.8  0.2 -0. ]\n",
      "CD_y error at height 24:\n",
      " [ 0.9    0.455 -1.    -0.     1.6   -0.002 -0.6  ]\n",
      "CD_x error at height 32:\n",
      " [ 0.1  1.  -0.2 -0.   0.1  0.6  0.2]\n",
      "CD_y error at height 32:\n",
      " [ 0.1    0.12   0.2    0.145  0.2    0.1   -0.145]\n",
      "CD_x error at height 40:\n",
      " [ 0.1 -0.5  0.1 -2.1  0.4 -0.1 -0. ]\n",
      "CD_y error at height 40:\n",
      " [-1.   2.2 -1.3  2.   1.   2.   0.4]\n",
      "CD_x error at height 48:\n",
      " [-0.2 -0.9 -0.2 -1.1 -0.   0.6  0.6]\n",
      "CD_y error at height 48:\n",
      " [-0.1   -0.1   -0.155 -0.133 -0.1    1.9    1.3  ]\n",
      "CD_x error at height 56:\n",
      " [ 2.378 -0.2   -0.1    0.154  0.1   -1.3   -0.3  ]\n",
      "CD_y error at height 56:\n",
      " [ 0.376  0.    -0.5   -0.1    0.8    0.4    0.1  ]\n",
      "CD_x error at height 64:\n",
      " [1.2 0.3 1.6 3.  0.6 2.5 2.4]\n",
      "CD_y error at height 64:\n",
      " [-0.   0.3  0.1 -0.   0.5 -0.1  0. ]\n"
     ]
    },
    {
     "name": "stderr",
     "output_type": "stream",
     "text": [
      "\r",
      " 50%|█████     | 10/20 [21:36:02<21:32:44, 7756.50s/it]"
     ]
    },
    {
     "name": "stdout",
     "output_type": "stream",
     "text": [
      "CD_x error at height 72:\n",
      " [1.  1.6 2.  1.1 1.4 2.4 0.6]\n",
      "CD_y error at height 72:\n",
      " [-1.8   -1.2    0.559 -1.3    0.526 -0.917 -0.2  ]\n",
      "CD_RMSE for label 9: [1.074 0.899]\n",
      "../dataset_train_v1/0090Acid_ini Read in 0.12 s\n",
      "../dataset_train_v1/0090Inhibitor Read in 0.12 s\n",
      "RMSE for label 10: [0.007 0.56 ]\n",
      "NMSE for label 10: [11.613  1.404]\n",
      "NMSE_height for label 10: [12.54   1.232]\n",
      "\n",
      "!Start to clear memory\n"
     ]
    },
    {
     "name": "stderr",
     "output_type": "stream",
     "text": [
      "<<<\n",
      "time:\t0.393158s\n",
      "<<<\n"
     ]
    },
    {
     "name": "stdout",
     "output_type": "stream",
     "text": [
      "\n",
      "!Start to clear memory\n"
     ]
    },
    {
     "name": "stderr",
     "output_type": "stream",
     "text": [
      "<<<\n",
      "time:\t0.367741s\n",
      "<<<\n"
     ]
    },
    {
     "name": "stdout",
     "output_type": "stream",
     "text": [
      "CD_x error at height 0:\n",
      " [ 1.8   -0.1   -0.    -0.     0.196  2.5   -0.1    0.7  ]\n",
      "CD_y error at height 0:\n",
      " [ 2.1   -0.3    0.3    0.3    0.992 -0.3    0.1    0.1  ]\n",
      "CD_x error at height 8:\n",
      " [ 0.018 -1.3    0.5    0.835 -0.124 -0.2   -0.293  2.1  ]\n",
      "CD_y error at height 8:\n",
      " [-0.4    0.762  1.773  0.9    1.7    0.2   -0.2   -0.1  ]\n",
      "CD_x error at height 16:\n",
      " [-1.2    3.2    0.2    0.2    0.     3.     0.213  0.3  ]\n",
      "CD_y error at height 16:\n",
      " [-0.1    0.554 -0.1    0.5   -0.2    4.1    1.724  0.1  ]\n",
      "CD_x error at height 24:\n",
      " [ 0.1   -1.3    0.184 -0.    -0.2   -0.     0.5   -0.5  ]\n",
      "CD_y error at height 24:\n",
      " [-0.067 -1.7    1.7   -0.1    2.9   -0.     0.3   -0.   ]\n",
      "CD_x error at height 32:\n",
      " [-0.     0.2    1.343  0.2    0.    -0.379 -0.7   -0.2  ]\n",
      "CD_y error at height 32:\n",
      " [ 0.1    0.5   -0.051 -0.7    0.11   1.854  0.706  0.001]\n",
      "CD_x error at height 40:\n",
      " [-0.071  1.8    0.048 -0.3    0.79   0.8   -1.2    2.   ]\n",
      "CD_y error at height 40:\n",
      " [-0.143  0.1    0.853  0.1   -1.    -2.9    0.003  0.9  ]\n",
      "CD_x error at height 48:\n",
      " [ 0.1  -0.    1.3  -0.8  -0.1  -1.1   1.4  -0.51]\n",
      "CD_y error at height 48:\n",
      " [-1.5   -1.548  0.677  0.841 -0.247  2.4    0.22  -1.2  ]\n",
      "CD_x error at height 56:\n",
      " [ 1.9   -0.7   -0.1    0.2    0.2    0.    -0.357 -0.8  ]\n",
      "CD_y error at height 56:\n",
      " [-0.8   1.04 -0.1  -0.   -0.5   0.   -0.   -1.8 ]\n",
      "CD_x error at height 64:\n",
      " [0.7   1.4   2.7   2.1   1.4   0.5   3.482 1.3  ]\n",
      "CD_y error at height 64:\n",
      " [-0.6   -0.1    0.038  0.1    1.111  1.    -0.6   -0.1  ]\n"
     ]
    },
    {
     "name": "stderr",
     "output_type": "stream",
     "text": [
      "\r",
      " 55%|█████▌    | 11/20 [23:45:18<19:23:28, 7756.54s/it]"
     ]
    },
    {
     "name": "stdout",
     "output_type": "stream",
     "text": [
      "CD_x error at height 72:\n",
      " [1.   1.8  2.75 2.4  3.9  1.   1.2  1.74]\n",
      "CD_y error at height 72:\n",
      " [ 0.025  0.1   -0.2    0.827 -0.1    0.563  1.3    0.1  ]\n",
      "CD_RMSE for label 10: [1.285 1.048]\n",
      "../dataset_train_v1/0091Acid_ini Read in 0.12 s\n",
      "../dataset_train_v1/0091Inhibitor Read in 0.12 s\n",
      "RMSE for label 11: [0.008 0.666]\n",
      "NMSE for label 11: [11.599  1.671]\n",
      "NMSE_height for label 11: [12.254  1.451]\n",
      "\n",
      "!Start to clear memory\n"
     ]
    },
    {
     "name": "stderr",
     "output_type": "stream",
     "text": [
      "<<<\n",
      "time:\t0.409042s\n",
      "<<<\n"
     ]
    },
    {
     "name": "stdout",
     "output_type": "stream",
     "text": [
      "\n",
      "!Start to clear memory\n"
     ]
    },
    {
     "name": "stderr",
     "output_type": "stream",
     "text": [
      "<<<\n",
      "time:\t0.391339s\n",
      "<<<\n"
     ]
    },
    {
     "name": "stdout",
     "output_type": "stream",
     "text": [
      "CD_x error at height 0:\n",
      " [-0.3    0.004 -0.2    0.045 -0.2    0.3    0.894  0.028  0.1    1.9   -0.043]\n",
      "CD_y error at height 0:\n",
      " [ 1.156 -0.     2.523  0.5   -0.6    0.236 -0.2    1.978  1.4    0.791  1.9  ]\n",
      "CD_x error at height 8:\n",
      " [ 0.6   -0.157  0.4   -0.3    0.1    0.5   -0.     1.6   -0.1   -0.4    1.7  ]\n",
      "CD_y error at height 8:\n",
      " [ 0.074  0.244  0.002 -0.666  2.392  0.433  1.341  1.4    0.084 -0.     1.8  ]\n",
      "CD_x error at height 16:\n",
      " [-0.     2.129  0.1    0.1    1.2    1.8    0.1    2.    -0.1    3.3    1.9  ]\n",
      "CD_y error at height 16:\n",
      " [ 0.9   -0.    -0.3   -1.1   -2.4   -0.1   -0.067 -0.246  0.     1.6    1.8  ]\n",
      "CD_x error at height 24:\n",
      " [ 1.073  1.2   -0.    -0.2   -0.2    3.3    2.2    0.1   -0.     0.6   -0.2  ]\n",
      "CD_y error at height 24:\n",
      " [-0.4    0.2    0.8    0.3   -1.9    2.141 -0.306 -0.8    0.7    1.1   -0.   ]\n",
      "CD_x error at height 32:\n",
      " [ 0.037 -0.559 -0.1   -0.2    1.2   -1.2    0.    -0.2   -0.1    0.1    0.2  ]\n",
      "CD_y error at height 32:\n",
      " [ 0.2    0.125  0.1    0.1   -0.4    0.035  0.062  1.7   -1.5   -0.227  0.9  ]\n",
      "CD_x error at height 40:\n",
      " [-1.546  1.1    0.8    1.    -0.9   -0.3   -0.8    0.213 -0.1    1.    -0.7  ]\n",
      "CD_y error at height 40:\n",
      " [-1.3   -0.1   -0.    -0.    -0.37   0.095 -0.4   -1.543  0.2   -1.1    1.9  ]\n",
      "CD_x error at height 48:\n",
      " [-0.6    1.5   -0.1    2.     1.2   -0.     0.8    0.964 -0.4    1.2   -0.434]\n",
      "CD_y error at height 48:\n",
      " [-1.5   -0.1   -0.2    0.4   -0.4    0.372 -0.345 -1.1   -0.    -0.2    1.8  ]\n",
      "CD_x error at height 56:\n",
      " [-0.     0.2    0.4   -0.2    0.2   -1.2    2.8    2.4    0.3    0.9   -0.336]\n",
      "CD_y error at height 56:\n",
      " [-1.3  -0.1  -0.   -0.    0.22  1.   -0.4  -0.2   0.1   0.8   0.9 ]\n",
      "CD_x error at height 64:\n",
      " [ 3.4  1.1  0.6  1.9  0.2  0.6  3.7  2.7  0.4 -0.2  1.1]\n",
      "CD_y error at height 64:\n",
      " [ 0.2    0.2   -0.369 -0.    -0.1   -0.064  0.1   -0.1   -0.8   -0.2   -0.   ]\n"
     ]
    },
    {
     "name": "stderr",
     "output_type": "stream",
     "text": [
      "\r",
      " 60%|██████    | 12/20 [25:54:36<17:14:13, 7756.74s/it]"
     ]
    },
    {
     "name": "stdout",
     "output_type": "stream",
     "text": [
      "CD_x error at height 72:\n",
      " [2.    1.121 0.8   1.6   1.7   1.    2.5   1.65  2.4   1.6   4.595]\n",
      "CD_y error at height 72:\n",
      " [ 1.1    0.296 -0.3   -0.8   -0.25   0.071 -0.3   -0.2   -0.    -0.655 -2.1  ]\n",
      "CD_RMSE for label 11: [1.306 0.917]\n",
      "../dataset_train_v1/0092Acid_ini Read in 0.11 s\n",
      "../dataset_train_v1/0092Inhibitor Read in 0.12 s\n",
      "RMSE for label 12: [0.005 0.424]\n",
      "NMSE for label 12: [11.441  1.062]\n",
      "NMSE_height for label 12: [12.575  0.917]\n"
     ]
    },
    {
     "name": "stderr",
     "output_type": "stream",
     "text": [
      "<<<\n",
      "time:\t0.382507s\n",
      "<<<\n"
     ]
    },
    {
     "name": "stdout",
     "output_type": "stream",
     "text": [
      "\n",
      "!Start to clear memory\n",
      "\n",
      "!Start to clear memory\n"
     ]
    },
    {
     "name": "stderr",
     "output_type": "stream",
     "text": [
      "<<<\n",
      "time:\t0.36404s\n",
      "<<<\n"
     ]
    },
    {
     "name": "stdout",
     "output_type": "stream",
     "text": [
      "CD_x error at height 0:\n",
      " [ 2.4    0.1    1.1   -0.075  0.498]\n",
      "CD_y error at height 0:\n",
      " [-0.448  2.2    1.994 -0.     0.646]\n",
      "CD_x error at height 8:\n",
      " [-0.4 -0.4  0.4 -0.3  0.1]\n",
      "CD_y error at height 8:\n",
      " [ 0.2    0.498  0.325 -1.197  0.1  ]\n",
      "CD_x error at height 16:\n",
      " [-0.5    0.694 -0.     0.2    1.9  ]\n",
      "CD_y error at height 16:\n",
      " [-0.131  0.9    0.045  2.6   -0.4  ]\n",
      "CD_x error at height 24:\n",
      " [-0.1  0.1  1.5 -0.   0.2]\n",
      "CD_y error at height 24:\n",
      " [-1.751 -0.     1.8   -1.2   -1.5  ]\n",
      "CD_x error at height 32:\n",
      " [-0.9    0.47   0.361 -1.9    0.1  ]\n",
      "CD_y error at height 32:\n",
      " [-0.1    0.35   1.851 -0.6   -0.3  ]\n",
      "CD_x error at height 40:\n",
      " [-0.1   -1.     0.4    1.    -1.055]\n",
      "CD_y error at height 40:\n",
      " [-0.1   -0.029 -0.    -0.2   -0.1  ]\n",
      "CD_x error at height 48:\n",
      " [-0.1   -0.    -0.1   -0.5    0.503]\n",
      "CD_y error at height 48:\n",
      " [-0.1 -0.5  0.1 -0.1 -0. ]\n",
      "CD_x error at height 56:\n",
      " [ 2.6  0.9  1.1  2.3 -0.3]\n",
      "CD_y error at height 56:\n",
      " [ 1.328 -0.4   -0.     0.595 -0.4  ]\n",
      "CD_x error at height 64:\n",
      " [3.    3.617 2.189 3.    1.184]\n",
      "CD_y error at height 64:\n",
      " [-1.2   -0.624  0.1   -1.    -0.1  ]\n"
     ]
    },
    {
     "name": "stderr",
     "output_type": "stream",
     "text": [
      "\r",
      " 65%|██████▌   | 13/20 [28:03:48<15:04:48, 7755.52s/it]"
     ]
    },
    {
     "name": "stdout",
     "output_type": "stream",
     "text": [
      "CD_x error at height 72:\n",
      " [1.207 3.5   0.8   2.7   1.1  ]\n",
      "CD_y error at height 72:\n",
      " [0.05  2.    0.283 0.033 0.415]\n",
      "CD_RMSE for label 12: [1.396 0.926]\n",
      "../dataset_train_v1/0093Acid_ini Read in 0.12 s\n",
      "../dataset_train_v1/0093Inhibitor Read in 0.11 s\n",
      "RMSE for label 13: [0.008 0.629]\n",
      "NMSE for label 13: [11.569  1.578]\n",
      "NMSE_height for label 13: [12.165  1.342]\n"
     ]
    },
    {
     "name": "stderr",
     "output_type": "stream",
     "text": [
      "<<<\n",
      "time:\t0.415773s\n",
      "<<<\n"
     ]
    },
    {
     "name": "stdout",
     "output_type": "stream",
     "text": [
      "\n",
      "!Start to clear memory\n"
     ]
    },
    {
     "name": "stderr",
     "output_type": "stream",
     "text": [
      "<<<\n",
      "time:\t0.368036s\n",
      "<<<\n"
     ]
    },
    {
     "name": "stdout",
     "output_type": "stream",
     "text": [
      "\n",
      "!Start to clear memory\n",
      "CD_x error at height 0:\n",
      " [ 0.1    1.2    0.3   -0.3   -0.    -0.2    1.    -0.349 -0.2    1.5    0.1  ]\n",
      "CD_y error at height 0:\n",
      " [ 4.9    0.2    0.    -0.187  0.355  1.564  0.5   -0.3    0.4   -0.     0.82 ]\n",
      "CD_x error at height 8:\n",
      " [ 0.1    0.271  0.2    0.     0.3   -0.4   -0.3    0.6    0.4    0.4   -0.4  ]\n",
      "CD_y error at height 8:\n",
      " [-0.    -0.     0.047  0.317  2.9    0.363 -0.6    0.1    1.    -0.2    0.361]\n",
      "CD_x error at height 16:\n",
      " [-0.3    0.9    0.1    0.     0.7    0.     0.6    2.3   -0.2   38.602 -0.    -0.   ]\n",
      "CD_y error at height 16:\n",
      " [ 0.1    0.6    2.     0.4   -0.238  1.2   -0.712 -0.508  0.898 -0.133 -0.5  ]\n",
      "CD_x error at height 24:\n",
      " [ 0.2    1.8   -1.3   -0.1    0.1    0.1    0.301  0.1    0.2   -0.1   -0.1  ]\n",
      "CD_y error at height 24:\n",
      " [-0.3    0.1    2.338  0.8   -0.    -0.2   -0.634 -0.1    3.     1.654 -0.   ]\n",
      "CD_x error at height 32:\n",
      " [-0.8  -1.2  -1.1   0.3   0.2   0.5   0.3  -0.   -0.8   1.   -0.03]\n",
      "CD_y error at height 32:\n",
      " [-0.157  0.1   -0.1    0.1   -0.6   -0.679  1.1    0.004  0.078 -1.1   -0.   ]\n",
      "CD_x error at height 40:\n",
      " [ 2.1   -0.     1.9    2.2    0.542  0.439  0.1   -0.3   -0.9    1.9    1.   ]\n",
      "CD_y error at height 40:\n",
      " [ 0.    -0.1    1.6   -0.    -0.     0.     1.1    0.2   -0.9    0.146 -1.4  ]\n",
      "CD_x error at height 48:\n",
      " [-0.     2.5    0.3   -0.275  0.297  0.3   -0.3    0.251 -0.2   -1.2    0.078]\n",
      "CD_y error at height 48:\n",
      " [-0.   0.1  0.2 -0.   0.5 -1.5 -1.2  1.1 -0.7  0.3 -0.3]\n",
      "CD_x error at height 56:\n",
      " [ 0.1    1.2   -0.    -0.585 -1.1    0.8   -0.257 -0.1    2.    -0.3   -0.8  ]\n",
      "CD_y error at height 56:\n",
      " [ 0.1   0.9  -0.    1.22  0.7  -0.1   1.8   0.3  -0.26 -1.2   1.6 ]\n",
      "CD_x error at height 64:\n",
      " [ 0.5  0.6 -0.9  3.1 -0.2  1.1  0.7 -0.   2.7  0.4  1.9]\n",
      "CD_y error at height 64:\n",
      " [-0.     0.3   -0.    -0.1   -0.6    0.1    0.    -2.1   -0.    -0.     0.334]\n"
     ]
    },
    {
     "name": "stderr",
     "output_type": "stream",
     "text": [
      "\r",
      " 70%|███████   | 14/20 [30:13:07<12:55:38, 7756.37s/it]"
     ]
    },
    {
     "name": "stdout",
     "output_type": "stream",
     "text": [
      "CD_x error at height 72:\n",
      " [2.3   1.3   2.246 1.8   2.3   3.1   3.6   1.4   3.2   1.4   2.7  ]\n",
      "CD_y error at height 72:\n",
      " [ 0.7    0.5    0.6   -0.5   -0.    -0.94  -1.243  0.2    0.182  0.188  1.   ]\n",
      "CD_RMSE for label 13: [3.842 0.954]\n",
      "../dataset_train_v1/0094Acid_ini Read in 0.12 s\n",
      "../dataset_train_v1/0094Inhibitor Read in 0.13 s\n",
      "RMSE for label 14: [0.013 0.98 ]\n",
      "NMSE for label 14: [15.229  2.461]\n",
      "NMSE_height for label 14: [16.348  2.256]\n",
      "\n",
      "!Start to clear memory\n"
     ]
    },
    {
     "name": "stderr",
     "output_type": "stream",
     "text": [
      "<<<\n",
      "time:\t0.42742s\n",
      "<<<\n",
      "<<<\n",
      "time:\t0.399969s\n",
      "<<<\n"
     ]
    },
    {
     "name": "stdout",
     "output_type": "stream",
     "text": [
      "\n",
      "!Start to clear memory\n",
      "Contact 12 in 0-CD_x_pred is redundant, with info [651.12  704.585  25.664]\n",
      "CD_x error at height 0:\n",
      " [ 1.5    1.3    0.503 -0.2   -0.1    0.518  2.5    0.     0.     1.9   -0.027  3.3   25.664  0.5\n",
      " -0.     0.2    0.4  ]\n",
      "Contact 13 in 0-CD_y_pred is redundant, with info [663.983 690.485  26.301]\n",
      "CD_y error at height 0:\n",
      " [  0.9    -0.1     0.1     0.048   3.1     0.1    -0.3     0.96    0.3     0.3     3.6    -0.1\n",
      " -38.502  26.301 -20.601   0.996  -0.1     0.1     0.1  ]\n",
      "Contact 12 in 8-CD_x_pred is redundant, with info [654.383 703.585  20.401]\n",
      "CD_x error at height 8:\n",
      " [  0.3    -0.1    -1.393   0.     -0.7    -0.633   0.042   2.     -0.1     1.5     0.1    -0.4\n",
      "  20.401   0.1     0.6     2.331   1.    -25.694 -35.133]\n",
      "CD_y error at height 8:\n",
      " [ 0.047  1.2    0.711 -0.349 -0.045 -1.6   -0.2    1.    -1.02  -0.1    2.     3.757 38.359 38.459\n",
      " 38.659 21.758 -0.192  0.063 -0.364 -0.3  ]\n",
      "CD_x error at height 16:\n",
      " [-0.    -0.8   -0.    -0.1   -0.1    0.133  0.6    2.    -0.    -0.5    1.4    0.1    0.8    0.6\n",
      "  0.2    0.437]\n",
      "Contact 12 in 16-CD_y_label is redundant, with info [610.881 920.396   1.4  ]\n",
      "Contact 13 in 16-CD_y_label is redundant, with info [620.281 920.296   1.5  ]\n",
      "CD_y error at height 16:\n",
      " [-2.1    0.1    1.1   -0.     0.1    0.6   -0.     0.1   -0.7   -0.152  2.833  0.2   -1.4   -1.5\n",
      " 24.801  0.6    0.2   -1.787 -0.1  ]\n",
      "CD_x error at height 24:\n",
      " [  0.1     2.     -0.2     1.1     0.1    -0.4     1.7     0.816   0.3     1.9    -0.5     0.4\n",
      "  -2.8    -0.097   1.9   -10.801 -27.895]\n",
      "Contact 12 in 24-CD_y_label is redundant, with info [598.58  892.295   1.3  ]\n",
      "Contact 13 in 24-CD_y_label is redundant, with info [598.78  901.095   1.1  ]\n",
      "CD_y error at height 24:\n",
      " [ 0.47  -1.418  0.004  0.614 -1.727  2.1   -0.212  0.345 -0.1    0.1    0.1    0.2   -1.3   -1.1\n",
      " 26.401  0.5    0.172  0.1    1.1  ]\n",
      "CD_x error at height 32:\n",
      " [  0.3    -0.     -0.      1.4     1.6    -0.1    -1.1    -0.4    -1.3     0.1     0.2    -0.1\n",
      "   1.8     1.2     0.646 -12.001]\n",
      "CD_y error at height 32:\n",
      " [ 0.7    1.9    0.158 -0.2   -1.1   -0.2    0.8   -0.2   -0.8    0.114 -0.2   -0.3   37.902 37.502\n",
      " 30.46  -0.6    0.1   -0.443 -0.   ]\n",
      "Contact 16 in 40-CD_x_label is redundant, with info [615.559 901.395   8.823]\n",
      "CD_x error at height 40:\n",
      " [ 2.4   -0.7    2.1   -0.1    2.4   -0.1    0.081 -3.2    0.3   -0.2    2.     1.159  0.2    1.3\n",
      " -0.9   -7.6   -8.823]\n",
      "Contact 12 in 40-CD_y_label is redundant, with info [615.381 896.703   2.392]\n",
      "Contact 13 in 40-CD_y_label is redundant, with info [623.181 899.765   4.73 ]\n",
      "CD_y error at height 40:\n",
      " [ 0.1    0.6    1.3   -0.2    0.9   -0.064 -0.     0.186 -0.1    0.167 -0.3   -7.8   -2.392 -4.73\n",
      " -0.     0.5   -0.    -0.4  ]\n",
      "CD_x error at height 48:\n",
      " [ 1.1   -0.7   -1.9   -1.    -2.6   -1.5    1.024 -0.3   -1.7   -1.9    0.5    0.1   -0.    -0.1\n",
      " -0.3   -5.   ]\n",
      "CD_y error at height 48:\n",
      " [ 0.1 -2.  -1.2  0.3  2.   2.3 -0.3 -0.6 -0.  -0.   0.7 -8.7 -0.1 -0.4 -0.1  0.1]\n",
      "CD_x error at height 56:\n",
      " [ 0.6   2.   -1.2  -0.6   0.8   0.2  -0.5  -1.05 -0.    0.2   0.8  -0.   -0.5   0.1   0.4  -2.2 ]\n",
      "CD_y error at height 56:\n",
      " [ 0.1    0.275  0.5   -0.    -0.    -0.     0.4    0.1   -2.335 -0.1    0.569 -4.702 -0.2   -0.187\n",
      " -0.379  0.3  ]\n",
      "CD_x error at height 64:\n",
      " [ 2.648  0.5    2.3   -0.182  2.6   -0.2    1.252  1.     1.1   -0.1    1.8    2.6    0.1   -1.1\n",
      "  2.2  ]\n",
      "CD_y error at height 64:\n",
      " [-0.1    0.3    0.159 -0.4    0.    -0.     0.4   -0.1   -1.651 -1.5    0.1   -1.1    1.956 -0.501\n",
      "  0.2  ]\n"
     ]
    },
    {
     "name": "stderr",
     "output_type": "stream",
     "text": [
      "\r",
      " 75%|███████▌  | 15/20 [32:22:25<10:46:25, 7757.12s/it]"
     ]
    },
    {
     "name": "stdout",
     "output_type": "stream",
     "text": [
      "CD_x error at height 72:\n",
      " [0.8   2.2   1.    1.8   3.53  1.4   1.9   3.518 2.5   2.8   2.4   2.951 3.5   3.2   1.4  ]\n",
      "CD_y error at height 72:\n",
      " [ 1.     0.361 -0.7   -1.1   -2.4   -0.3   -0.    -0.3   -0.    -0.8   -0.3    1.1   -0.2   -0.9\n",
      " -0.493]\n",
      "CD_RMSE for label 14: [5.216 8.571]\n",
      "../dataset_train_v1/0095Acid_ini Read in 0.13 s\n",
      "../dataset_train_v1/0095Inhibitor Read in 0.13 s\n",
      "RMSE for label 15: [0.009 0.755]\n",
      "NMSE for label 15: [11.566  1.896]\n",
      "NMSE_height for label 15: [12.187  1.658]\n",
      "\n",
      "!Start to clear memory\n"
     ]
    },
    {
     "name": "stderr",
     "output_type": "stream",
     "text": [
      "<<<\n",
      "time:\t0.425195s\n",
      "<<<\n"
     ]
    },
    {
     "name": "stdout",
     "output_type": "stream",
     "text": [
      "\n",
      "!Start to clear memory\n"
     ]
    },
    {
     "name": "stderr",
     "output_type": "stream",
     "text": [
      "<<<\n",
      "time:\t0.384276s\n",
      "<<<\n"
     ]
    },
    {
     "name": "stdout",
     "output_type": "stream",
     "text": [
      "CD_x error at height 0:\n",
      " [ 0.     0.086  1.8    0.405 -0.179 -0.     0.412  0.052  1.706  0.5    0.2    0.1    0.044]\n",
      "CD_y error at height 0:\n",
      " [ 0.355  0.2    0.617  6.2    0.2    0.355  0.1    0.8    2.5    0.5   -0.352  0.     3.9  ]\n",
      "CD_x error at height 8:\n",
      " [ 0.9    0.3    1.9   -0.     0.275  0.477 -1.1    0.1    0.438 -0.1    0.2    2.     1.5  ]\n",
      "CD_y error at height 8:\n",
      " [-0.1    1.023  1.84   0.058  1.868 -0.118  2.8   -1.268  0.156 -0.2   -0.248  0.9    6.   ]\n",
      "CD_x error at height 16:\n",
      " [-1.9    0.2   -0.123  1.     1.8    0.1   -0.2    0.1   -0.4   -0.1    1.9    0.5    1.8   38.602]\n",
      "CD_y error at height 16:\n",
      " [ 0.054  0.1    0.243 -0.2    0.2   -0.214  0.738  1.5    0.144  0.2    0.354 -0.846  2.9  ]\n",
      "CD_x error at height 24:\n",
      " [-0.554  0.8   -0.8    1.1   -1.7    1.3    0.467  0.6   -1.7    0.2   -0.3   -0.     0.   ]\n",
      "CD_y error at height 24:\n",
      " [ 1.888 -0.     0.317  0.463  0.4    2.9   -0.2   -0.237  0.038 -0.2    0.5    0.1    0.381]\n",
      "CD_x error at height 32:\n",
      " [ 1.4   -0.213 -1.2    0.5    1.144  0.9   -0.1    0.1   -0.     0.34  -0.     0.3    0.   ]\n",
      "CD_y error at height 32:\n",
      " [ 0.1   -0.6   -0.    -0.2    1.4    1.4   -1.124  1.059 -0.5    0.3    0.2    0.1   -0.1  ]\n",
      "CD_x error at height 40:\n",
      " [ 0.815 -0.8    0.2   -1.6    1.5   -0.9    0.066 -0.3    0.027  2.3   -0.305  0.1    1.5  ]\n",
      "CD_y error at height 40:\n",
      " [ 0.168 -1.2    1.9   -0.     0.3   -0.3    2.7    0.1    0.5    0.8    0.1    0.122  1.838]\n",
      "CD_x error at height 48:\n",
      " [-0.9   -0.4   -1.574 -1.6    1.2   -0.1    1.1   -1.1   -3.2   -0.063 -0.2    0.    -0.4  ]\n",
      "CD_y error at height 48:\n",
      " [-0.469 -0.     1.2   -0.9    1.878 -0.     0.1    0.279  0.1    0.044 -0.1    0.45   0.1  ]\n",
      "CD_x error at height 56:\n",
      " [ 0.286  1.1    0.885 -1.9    0.2   -0.058  0.8   -0.024 -0.9    1.6   -0.    -0.    -2.4  ]\n",
      "CD_y error at height 56:\n",
      " [-0.   -0.7  -0.2  -0.1  -0.   -0.2  -0.1   0.3  -0.    1.5  -0.   -0.02 -0.1 ]\n",
      "CD_x error at height 64:\n",
      " [ 1.8    0.2    0.     0.4   -0.2    1.2    1.1    2.1    0.1    0.146  1.2    0.9   -0.87 ]\n",
      "CD_y error at height 64:\n",
      " [-0.    -0.237 -0.3   -0.    -0.1    0.3   -0.084  0.    -0.    -0.    -0.14   0.2    0.2  ]\n"
     ]
    },
    {
     "name": "stderr",
     "output_type": "stream",
     "text": [
      "\r",
      " 80%|████████  | 16/20 [34:31:46<8:37:12, 7758.01s/it] "
     ]
    },
    {
     "name": "stdout",
     "output_type": "stream",
     "text": [
      "CD_x error at height 72:\n",
      " [1.2   1.3   1.4   1.699 1.1   1.7   0.9   1.673 2.599 1.763 0.9   1.    3.1  ]\n",
      "CD_y error at height 72:\n",
      " [-1.133  0.9   -0.3    0.3    0.349 -0.511 -0.5   -0.2   -0.1   -0.    -0.7   -1.8    0.1  ]\n",
      "CD_RMSE for label 15: [3.541 1.182]\n",
      "../dataset_train_v1/0096Acid_ini Read in 0.14 s\n",
      "../dataset_train_v1/0096Inhibitor Read in 0.14 s\n",
      "RMSE for label 16: [0.011 0.947]\n",
      "NMSE for label 16: [11.547  2.384]\n",
      "NMSE_height for label 16: [12.384  2.088]\n"
     ]
    },
    {
     "name": "stderr",
     "output_type": "stream",
     "text": [
      "<<<\n",
      "time:\t0.417359s\n",
      "<<<\n"
     ]
    },
    {
     "name": "stdout",
     "output_type": "stream",
     "text": [
      "\n",
      "!Start to clear memory\n",
      "\n",
      "!Start to clear memory\n"
     ]
    },
    {
     "name": "stderr",
     "output_type": "stream",
     "text": [
      "<<<\n",
      "time:\t0.378606s\n",
      "<<<\n"
     ]
    },
    {
     "name": "stdout",
     "output_type": "stream",
     "text": [
      "CD_x error at height 0:\n",
      " [ 1.1   -2.1    0.2   -0.    -0.383  1.7    0.6    0.8   -0.1    2.1   -1.    -0.1    1.5   -0.038\n",
      "  1.    -0.02   0.5    1.     0.    -0.1    0.1   -0.     1.2  ]\n",
      "CD_y error at height 0:\n",
      " [ 6.115 38.217 38.317 38.117  0.1    0.672  1.22  -0.9   -0.8    0.16  -0.6   -0.    -0.2    0.119\n",
      "  2.5   -0.134  0.021  1.801  3.4    1.4   -0.1    1.456  2.     1.4   -3.7    0.1  ]\n",
      "CD_x error at height 8:\n",
      " [ 1.2    1.4   -0.3    0.1   -0.     1.5    4.708 -0.339  0.757  2.8    1.2    2.2   -2.     1.5\n",
      "  2.3   -0.1   -3.6    0.9    3.    -0.     0.1    0.3    1.9  ]\n",
      "CD_y error at height 8:\n",
      " [-0.266 -0.     0.045 -0.1    0.3   -0.4    0.764  0.2    0.8    0.8    0.266  3.7   -0.2    0.512\n",
      "  3.849 -0.248  1.3   -0.1    2.5   -0.6   -0.049 -0.     1.   ]\n",
      "CD_x error at height 16:\n",
      " [ 2.3    0.6    0.2    0.247 -0.     0.2    1.3    0.    -2.    -0.    -0.087 -0.009 -0.5    0.5\n",
      " -0.223  0.1   -0.5    0.     0.2    0.    -0.     0.1   -1.2  ]\n",
      "CD_y error at height 16:\n",
      " [ 0.1    0.8   -0.1    1.142  0.81   0.239 -1.2    1.1   -1.6    3.2    0.2    0.585  2.     0.1\n",
      "  0.8   -0.707  0.279 -0.1    1.6    0.1   -0.     0.9   -0.4  ]\n",
      "CD_x error at height 24:\n",
      " [-0.     0.1   -0.1    0.035  1.9   -0.1    0.2    0.1    1.637  1.2    1.9    0.2    0.4   -0.365\n",
      "  0.2   -0.1   -0.3    0.078 -0.3   -1.3    0.6    0.5   -0.5  ]\n",
      "CD_y error at height 24:\n",
      " [ 0.465 -0.2   -0.     0.242 -1.3   -0.     0.3    2.8   -2.6    0.2   -0.066 -0.     0.052 -1.\n",
      " -1.743  0.567  0.042  0.1    0.3   -0.     2.469  0.2    0.4  ]\n",
      "CD_x error at height 32:\n",
      " [ 0.5    1.     0.3   -0.     2.7    0.2   -0.054 -0.6   -0.1    0.2    0.634 -0.299  0.3    0.9\n",
      "  0.1    0.2    0.1    1.734 -0.1   -1.6   -0.1   -0.1   -0.3  ]\n",
      "CD_y error at height 32:\n",
      " [ 0.623 -0.     0.5    0.9   -0.9    2.    -0.4    0.572  1.283 -0.    -0.456  2.551  0.8   -0.058\n",
      "  2.8   -0.241 -1.    -0.1   -1.4    2.9    0.21   1.2    0.737]\n",
      "CD_x error at height 40:\n",
      " [ 3.    -0.    -0.     1.     2.2   -0.     1.1    0.6    2.    -0.4   -1.    -0.8   -0.     0.3\n",
      "  0.7   -0.    -0.145 -0.    -0.1   -0.5   -0.352  0.1   -0.1  ]\n",
      "CD_y error at height 40:\n",
      " [ 0.    -0.243 -0.3    1.1   -0.     0.7   -0.     1.4   -1.1   -0.231 -0.038  0.    -0.     0.1\n",
      " -0.8   -0.     2.3    0.1    0.3   -1.132  0.2   -0.3    1.8  ]\n",
      "CD_x error at height 48:\n",
      " [ 2.7    0.1    0.034  0.31   0.5    0.5   -0.8   -0.7    0.5    3.     1.    -1.     0.1   -1.2\n",
      "  1.9    0.66  -0.     0.1    0.862 -0.3   -0.1   -0.6   -0.3  ]\n",
      "CD_y error at height 48:\n",
      " [-0.    -0.     0.2    0.1   -0.1   -0.1   -0.     0.5   -2.2    0.9   -0.163 -0.1   -0.    -0.5\n",
      " -2.    -0.1    0.7   -0.     1.9    0.1    1.7    4.     0.682]\n",
      "CD_x error at height 56:\n",
      " [ 3.4   -0.    -1.2   -0.5    0.1   -0.104 -0.    -1.5    1.9    0.5    1.7   -0.315 -0.     1.9\n",
      "  2.041  1.75   0.2   -1.2   -0.7   -0.    -0.     0.2    3.376]\n",
      "CD_y error at height 56:\n",
      " [ 2.1   -0.    -0.    -0.2    0.89  -0.1   -0.3   -0.6   -0.6   -0.29   0.276 -0.1   -0.     0.1\n",
      " -0.3    0.462 -0.5    1.9    0.041 -0.     0.4    0.5    1.3  ]\n",
      "CD_x error at height 64:\n",
      " [ 4.58  1.    3.9   1.4   2.2   0.9   0.1   1.    0.8   1.    2.    0.2  -0.5   1.2   0.8   0.7\n",
      " -0.    1.9   5.5   5.1  -0.1   1.2   3.8 ]\n",
      "CD_y error at height 64:\n",
      " [-0.1   -0.     0.4   -0.1    0.8   -0.2   -0.032  0.1   -0.    -0.162 -0.    -0.1    0.1    0.1\n",
      " -0.039 -0.7   -0.3    0.023 -0.     0.    -1.5    2.749  1.8  ]\n"
     ]
    },
    {
     "name": "stderr",
     "output_type": "stream",
     "text": [
      "\r",
      " 85%|████████▌ | 17/20 [36:41:13<6:28:02, 7760.89s/it]"
     ]
    },
    {
     "name": "stdout",
     "output_type": "stream",
     "text": [
      "CD_x error at height 72:\n",
      " [1.9   1.    1.4   1.    1.1   1.7   1.841 1.666 2.296 3.6   3.2   1.6   3.3   1.7   0.451 2.3\n",
      " 2.363 2.6   3.6   1.6   1.2   4.43 ]\n",
      "CD_y error at height 72:\n",
      " [-0.1    0.2   -0.158  0.5    4.581  0.5    0.421 -0.7    0.5   -0.     0.3   -1.2    0.763  0.1\n",
      "  1.7   -0.6   -0.567 -0.6   -1.3   -1.    -1.25   3.7  ]\n",
      "CD_RMSE for label 16: [1.463 4.512]\n",
      "../dataset_train_v1/0097Acid_ini Read in 0.13 s\n",
      "../dataset_train_v1/0097Inhibitor Read in 0.12 s\n",
      "RMSE for label 17: [0.01  0.813]\n",
      "NMSE for label 17: [11.468  2.042]\n",
      "NMSE_height for label 17: [12.299  1.788]\n",
      "\n",
      "!Start to clear memory\n"
     ]
    },
    {
     "name": "stderr",
     "output_type": "stream",
     "text": [
      "<<<\n",
      "time:\t0.433162s\n",
      "<<<\n",
      "<<<\n",
      "time:\t0.387271s\n",
      "<<<\n"
     ]
    },
    {
     "name": "stdout",
     "output_type": "stream",
     "text": [
      "\n",
      "!Start to clear memory\n",
      "CD_x error at height 0:\n",
      " [ 0.1    0.199  0.1    0.2    2.034  1.66   0.1    3.1    1.4   -0.02  -0.464 -0.     0.2   -0.\n",
      " -0.    -0.395  2.1  ]\n",
      "CD_y error at height 0:\n",
      " [-0.    -0.7    0.8   -0.     0.011  2.2    0.707  1.209  0.3    0.6    0.157  3.3    0.396  0.7\n",
      "  0.4    0.069  1.3  ]\n",
      "CD_x error at height 8:\n",
      " [ 0.1   -0.553 -0.604  0.1    0.8   -0.207  0.3   -1.3    3.2   -0.5    0.1    0.1    1.9   -0.8\n",
      "  0.1    0.5    0.7  ]\n",
      "CD_y error at height 8:\n",
      " [-0.66  -0.     0.8   -0.    -0.5    0.129  2.3    0.    -0.1   -0.1    1.783  2.2    1.5    0.762\n",
      "  0.052 -0.136  0.13 ]\n",
      "CD_x error at height 16:\n",
      " [-0.1    0.384  0.326  0.4    1.1    0.1   -0.1    0.9    1.55  -0.4   -0.6   -0.     1.8   -0.5\n",
      "  0.034  1.9    1.2  ]\n",
      "CD_y error at height 16:\n",
      " [-0.3   -0.471  4.    38.302  0.435  0.184 -0.174  3.5    0.2    0.     2.1   -0.228  0.177  0.34\n",
      "  1.6    1.916  0.1    1.8  ]\n",
      "CD_x error at height 24:\n",
      " [-0.    -0.427  0.4    1.435  0.     0.1    1.4    0.1   -0.1    0.1    1.     0.1    3.1   -0.\n",
      "  1.1    0.1   -1.1  ]\n",
      "CD_y error at height 24:\n",
      " [ 0.757  0.2   -0.     1.356 -0.632  2.8   -1.3   -0.433  0.1   -0.307  0.3   -2.324 -0.1    0.268\n",
      "  2.085  0.075 -0.201]\n",
      "CD_x error at height 32:\n",
      " [ 0.306 -0.633 -0.     1.     0.    -0.3   -0.     3.1    0.521  1.     0.2   -0.1    0.2   -0.\n",
      "  0.5    0.1   -1.528]\n",
      "CD_y error at height 32:\n",
      " [-1.    -0.7   -0.074 -0.1   -1.6   -0.6    1.1    3.    -0.    -0.2    1.665  0.201  0.7    2.176\n",
      "  0.392 -1.137  1.6  ]\n",
      "CD_x error at height 40:\n",
      " [ 0.5 -0.  -0.2 -0.7  0.4 -1.5  0.2 -1.   1.   0.6 -0.   0.1  0.1 -0.2  1.  -2.4 -1.3]\n",
      "CD_y error at height 40:\n",
      " [-0.158 -0.5    1.5    0.3    0.148 -0.8    2.    -0.168 -0.1   -1.3    1.     0.052  0.333  1.829\n",
      "  1.3    0.812  0.4  ]\n",
      "CD_x error at height 48:\n",
      " [ 1.8    2.476 -0.     0.5   -1.    -0.177 -0.     0.1    1.     0.1   -0.9    0.2   -0.8   -0.043\n",
      " -0.8   -0.     0.8  ]\n",
      "CD_y error at height 48:\n",
      " [ 0.8   -1.5    0.1   -0.1   -2.1   -0.098 -1.091 -0.8   -0.    -3.4    0.2    1.2    1.3   -0.\n",
      "  0.561 -0.1    0.7  ]\n",
      "CD_x error at height 56:\n",
      " [ 1.2    1.     0.     1.     0.8   -0.151  3.3   -0.1    0.9    0.6   -0.    -0.216 -2.644  0.4\n",
      "  0.2   -1.2    1.7  ]\n",
      "CD_y error at height 56:\n",
      " [-0.1    0.1   -0.2   -0.1    0.5   -0.464 -0.513 -0.2    0.3   -1.6   -1.5   -0.     0.543 -0.6\n",
      " -0.6   -1.6   -0.6  ]\n",
      "CD_x error at height 64:\n",
      " [ 0.5    3.1    1.     1.     0.6    0.9    0.1    2.1    0.7    3.5    2.7    1.4    2.1    1.3\n",
      " -0.1   -0.     3.664]\n",
      "CD_y error at height 64:\n",
      " [ 0.1    0.2    0.1   -0.5   -0.     0.     0.     0.3    0.5   -2.1    0.2    0.319 -0.37  -0.\n",
      " -1.3   -0.1   -0.81 ]\n"
     ]
    },
    {
     "name": "stderr",
     "output_type": "stream",
     "text": [
      "\r",
      " 90%|█████████ | 18/20 [38:50:37<4:18:43, 7761.74s/it]"
     ]
    },
    {
     "name": "stdout",
     "output_type": "stream",
     "text": [
      "CD_x error at height 72:\n",
      " [3.223 1.736 0.9   1.9   1.6   0.8   2.692 2.    0.6   1.3   1.805 1.1   3.115 2.077 0.9   1.3\n",
      " 1.8  ]\n",
      "CD_y error at height 72:\n",
      " [ 0.352  0.336 -0.7   -0.623 -0.548  0.824 -1.2   -0.     2.388 -0.5    2.3   -0.6   -0.8    1.633\n",
      " -1.612 -0.667  0.3  ]\n",
      "CD_RMSE for label 17: [1.242 3.133]\n",
      "../dataset_train_v1/0098Acid_ini Read in 0.13 s\n",
      "../dataset_train_v1/0098Inhibitor Read in 0.12 s\n",
      "RMSE for label 18: [0.011 0.91 ]\n",
      "NMSE for label 18: [11.662  2.287]\n",
      "NMSE_height for label 18: [12.432  2.011]\n"
     ]
    },
    {
     "name": "stderr",
     "output_type": "stream",
     "text": [
      "<<<\n",
      "time:\t0.413901s\n",
      "<<<\n"
     ]
    },
    {
     "name": "stdout",
     "output_type": "stream",
     "text": [
      "\n",
      "!Start to clear memory\n",
      "\n",
      "!Start to clear memory\n"
     ]
    },
    {
     "name": "stderr",
     "output_type": "stream",
     "text": [
      "<<<\n",
      "time:\t0.395828s\n",
      "<<<\n"
     ]
    },
    {
     "name": "stdout",
     "output_type": "stream",
     "text": [
      "Contact 19 in 0-CD_x_label is redundant, with info [348.867 879.694   5.8  ]\n",
      "CD_x error at height 0:\n",
      " [ 1.5    0.507 -0.1    0.327  0.9    2.2    0.1    0.865  0.974  0.3   38.376  0.9    1.2    0.1\n",
      " -0.088  0.2   -0.144 -0.     1.231 -5.8    0.2  ]\n",
      "Contact 13 in 0-CD_y_label is redundant, with info [351.268 873.694  11.101]\n",
      "CD_y error at height 0:\n",
      " [  0.1     2.118   3.2    -0.5     2.979   0.141   0.4     0.1     1.018   0.27    0.4     0.2\n",
      "   2.2   -11.101  -0.067  -0.059   0.618   0.3    -0.1     2.6  ]\n",
      "CD_x error at height 8:\n",
      " [ 0.739  0.5    0.5    0.099  0.624  2.084 -0.1    1.4    1.1    1.3   -0.6    0.041  0.3    1.6\n",
      " -0.2    0.283  0.2    0.142  4.7    7.941 -0.1  ]\n",
      "CD_y error at height 8:\n",
      " [-0.1   -1.615  0.516  3.341  0.425  0.142  0.3    0.2    0.3   -0.    -0.639 -0.1    9.612  0.049\n",
      "  0.255  0.3   -0.3    0.9    0.2   -0.3  ]\n",
      "Contact 18 in 16-CD_x_pred is redundant, with info [350.934 875.894   6.534]\n",
      "CD_x error at height 16:\n",
      " [ 0.    -0.     0.2   -1.634 -0.2   -1.03  -0.3    0.     1.3    0.7    0.     0.9   -0.546  0.1\n",
      "  0.    -0.2    0.    -1.028  6.534  0.   ]\n",
      "Contact 13 in 16-CD_y_pred is redundant, with info [354.268 870.136  10.814]\n",
      "CD_y error at height 16:\n",
      " [-0.1   -0.127  1.2    0.     0.     1.423 -0.1   -0.685  0.2   -1.8    2.25   1.8   -0.3   10.814\n",
      " -1.     0.     0.9   -0.4   -0.    -0.1  ]\n",
      "CD_x error at height 24:\n",
      " [ 0.9   -0.5    0.6    0.057  0.3   -0.3    2.284  1.8    0.3   -0.6    1.26   0.9    2.3    2.1\n",
      "  0.1    2.1    0.5   -0.524 -0.   ]\n",
      "CD_y error at height 24:\n",
      " [-0.228  0.7    3.    -0.1    2.1    1.861  0.2   -0.031  5.193 37.695  0.189  2.1   -0.     1.515\n",
      " -0.2   -0.1    0.063 -0.    -0.268 -0.423]\n",
      "CD_x error at height 32:\n",
      " [-0.3    0.6    0.2    2.386  0.4   -0.2    0.1    0.5    0.5   -0.2   -0.179  0.1    0.05  -0.8\n",
      " -0.    -0.6   -0.2   -0.611 -0.2  ]\n",
      "CD_y error at height 32:\n",
      " [-0.2    0.202 -0.4   -1.1    0.4    1.1    0.1    0.427  2.     0.104  0.6    0.    -1.3    0.5\n",
      "  2.4    0.4   -0.334  0.178 -0.4  ]\n",
      "CD_x error at height 40:\n",
      " [ 0.8   -0.    -0.096  1.    -1.1   -0.    -0.9    0.5   -0.073  2.1    0.123 -0.8   -0.     0.029\n",
      " -0.2    0.3    0.2   -0.    -0.2  ]\n",
      "CD_y error at height 40:\n",
      " [-0.3   -0.153 -0.792 -0.1   -0.6   -0.15   1.8   -0.     2.5    0.1   -1.1    0.1    0.039 -0.2\n",
      " -0.008  0.8   -0.8    1.4   -0.1  ]\n",
      "CD_x error at height 48:\n",
      " [ 0.1   -0.1    0.8   -0.4   -0.6   -0.2   -1.     0.2   -0.9   -2.     0.9    0.2    0.8    0.1\n",
      " -0.    -0.     0.2    0.092 -0.1  ]\n",
      "CD_y error at height 48:\n",
      " [-0.2   -0.4   -0.     2.4    0.1    1.172  0.2   -0.4   -2.3    0.386  0.158  0.129  0.364 -0.2\n",
      " -1.77  -0.2   -0.15   0.3   -0.7  ]\n",
      "CD_x error at height 56:\n",
      " [ 0.5    1.1    0.508 -0.9   -0.4    1.    -0.9   -0.    -1.5   -1.9    0.9   -0.    -0.     1.\n",
      " -0.    -0.1    0.872 -0.646 -0.1  ]\n",
      "CD_y error at height 56:\n",
      " [-1.4   -0.3   -0.2    0.1    1.048  1.6   -0.3    0.3   -1.4    0.2    0.4   -0.1    0.19  -0.\n",
      " -0.     0.9    0.1    0.3   -0.4  ]\n",
      "CD_x error at height 64:\n",
      " [ 1.7    1.4    1.1   -0.    -0.2    5.3    1.1    0.383  0.7    2.5    2.3    1.5    1.1    0.9\n",
      "  2.965 -0.     1.5   -0.     1.417]\n",
      "CD_y error at height 64:\n",
      " [-0.138 -1.9   -0.2   -0.6   -0.6   -0.651 -0.342 -0.     0.1   -1.    -0.432 -0.506 -0.005 -0.\n",
      " -1.2   -0.     0.5   -1.333 -0.47 ]\n"
     ]
    },
    {
     "name": "stderr",
     "output_type": "stream",
     "text": [
      "\r",
      " 95%|█████████▌| 19/20 [41:00:05<2:09:23, 7763.81s/it]"
     ]
    },
    {
     "name": "stdout",
     "output_type": "stream",
     "text": [
      "CD_x error at height 72:\n",
      " [0.6   1.304 0.648 1.3   3.3   2.    2.4   1.5   2.1   1.3   1.2   1.2   2.    2.4   2.8   1.1\n",
      " 1.4   2.3   3.9  ]\n",
      "CD_y error at height 72:\n",
      " [ 0.8   -1.424 -1.6   -0.4   -1.3   -1.     2.464 -1.157 -0.4    0.065  0.5   -0.2   -0.708 -0.3\n",
      "  0.4   -0.     1.    -0.592 -1.138]\n",
      "CD_RMSE for label 18: [3.105 3.18 ]\n",
      "../dataset_train_v1/0099Acid_ini Read in 0.13 s\n",
      "../dataset_train_v1/0099Inhibitor Read in 0.13 s\n",
      "RMSE for label 19: [0.005 0.463]\n",
      "NMSE for label 19: [11.332  1.159]\n",
      "NMSE_height for label 19: [12.058  1.031]\n",
      "\n",
      "!Start to clear memory\n"
     ]
    },
    {
     "name": "stderr",
     "output_type": "stream",
     "text": [
      "<<<\n",
      "time:\t0.413853s\n",
      "<<<\n"
     ]
    },
    {
     "name": "stdout",
     "output_type": "stream",
     "text": [
      "\n",
      "!Start to clear memory\n"
     ]
    },
    {
     "name": "stderr",
     "output_type": "stream",
     "text": [
      "<<<\n",
      "time:\t0.365029s\n",
      "<<<\n"
     ]
    },
    {
     "name": "stdout",
     "output_type": "stream",
     "text": [
      "CD_x error at height 0:\n",
      " [1.7 1.5 1.6 2.3 0.2]\n",
      "CD_y error at height 0:\n",
      " [0.7   0.232 0.416 0.228 2.   ]\n",
      "CD_x error at height 8:\n",
      " [ 0.3  0.4  0.5 -0.   0.1]\n",
      "CD_y error at height 8:\n",
      " [ 0.4   -1.43  -0.2    0.038  0.043]\n",
      "CD_x error at height 16:\n",
      " [ 1.7  3.3 -0.9  0.  -0.2]\n",
      "CD_y error at height 16:\n",
      " [-1.3   -0.1    0.94  -0.    -0.562]\n",
      "CD_x error at height 24:\n",
      " [ 0.2   -0.4   -0.1   -0.8   -0.127]\n",
      "CD_y error at height 24:\n",
      " [-0.8    1.328 -3.3    2.5    1.   ]\n",
      "CD_x error at height 32:\n",
      " [-1.2 -2.1 -0.1 -0.  -1. ]\n",
      "CD_y error at height 32:\n",
      " [ 0.1    1.3   -0.029 -0.7   -0.2  ]\n",
      "CD_x error at height 40:\n",
      " [-0.242 -0.2   -0.6    0.1   -2.1  ]\n",
      "CD_y error at height 40:\n",
      " [ 1.8 -0.2 -2.   0.2 -1.3]\n",
      "CD_x error at height 48:\n",
      " [ 0.5    0.535 -0.1   -0.    -1.01 ]\n",
      "CD_y error at height 48:\n",
      " [ 1.    1.8  -1.1  -0.6  -0.05]\n",
      "CD_x error at height 56:\n",
      " [ 0.9    0.652  0.9   -0.     0.465]\n",
      "CD_y error at height 56:\n",
      " [-0.3   0.44  0.   -0.5  -0.02]\n",
      "CD_x error at height 64:\n",
      " [-0.5   1.2  -0.    0.07  2.9 ]\n",
      "CD_y error at height 64:\n",
      " [-0.117 -0.    -2.2   -0.    -0.   ]\n"
     ]
    },
    {
     "name": "stderr",
     "output_type": "stream",
     "text": [
      "100%|██████████| 20/20 [43:10:01<00:00, 7770.08s/it]  "
     ]
    },
    {
     "name": "stdout",
     "output_type": "stream",
     "text": [
      "CD_x error at height 72:\n",
      " [2.7 2.6 3.6 4.  2.8]\n",
      "CD_y error at height 72:\n",
      " [-0.1    0.324  0.1   -0.954 -0.5  ]\n",
      "CD_RMSE for label 19: [1.453 1.041]\n",
      "CD Error: [2.018 1.952]\n",
      "RMSE(Mean, Std): [0.008 0.649] [0.003 0.204]\n",
      "NMSE(Mean, Std): [11.768  1.628] [0.975 0.514]\n",
      "NMSE_height: [[22.967 17.961 15.726 17.647 17.234 15.744 14.335 13.242 12.314 11.476 10.712 10.021  9.403\n",
      "   8.853  8.368  7.944  7.574  7.253  6.977  6.739 ...  8.858  9.563 10.412 11.422 12.609 13.99\n",
      "  15.576 17.382 19.42  21.708 24.256 27.117 30.418 33.727 35.032 33.216 33.269 43.312 59.734\n",
      "  73.982]\n",
      " [ 3.401  2.692  2.314  2.682  2.67   2.483  2.303  2.161  2.036  1.918  1.807  1.703  1.606\n",
      "   1.518  1.441  1.373  1.313  1.26   1.214  1.174 ...  0.955  0.928  0.912  0.905  0.925  0.97\n",
      "   1.028  1.102  1.187  1.271  1.358  1.444  1.526  1.528  1.19   0.882  2.148  3.428  4.358\n",
      "   4.943]]\n",
      "Top Error (mean): [39.406  2.28 ]\n"
     ]
    },
    {
     "name": "stderr",
     "output_type": "stream",
     "text": [
      "\n"
     ]
    },
    {
     "name": "stdout",
     "output_type": "stream",
     "text": [
      "Mean runtime: 1.7660516500473022\n",
      "RMSE(Ihb, rate): [0.008 0.649]\n",
      "NRMSE(Ihb, rate): [11.768  1.628]\n",
      "CD Error(x, y): [2.018 1.952]\n"
     ]
    }
   ],
   "source": [
    "model = Model_def(opt, Channels, device_train, True)\n",
    "Runtime, RMSE, NMSE, _, CD_err_x, CD_err_y, CD_RMSE = evaluate(opt, model, device_train, res_trans, RDevelop)\n",
    "print(\"Mean runtime:\", np.mean(Runtime))\n",
    "print(\"RMSE(Ihb, rate):\", np.mean(RMSE,axis=-1))\n",
    "print(\"NRMSE(Ihb, rate):\", np.mean(NMSE,axis=-1))\n",
    "print(\"CD Error(x, y):\", np.mean(CD_RMSE,axis=-1))"
   ]
  },
  {
   "cell_type": "code",
   "execution_count": null,
   "metadata": {},
   "outputs": [],
   "source": [
    "Err_x, Err_y = np.array([]), np.array([])\n",
    "for tmp in range(len(CD_err_x)):\n",
    "    Err_x = np.append(Err_x, np.array(CD_err_x[tmp]).flatten())\n",
    "    Err_y = np.append(Err_y, np.array(CD_err_y[tmp]).flatten())\n",
    "\n",
    "np.savetxt(opt.respath+\"CDErr-x_deepCNN.csv\", Err_x.flatten(), delimiter=' ')\n",
    "np.savetxt(opt.respath+\"CDErr-y_deepCNN.csv\", Err_y.flatten(), delimiter=' ')\n",
    "from utils.Res_plot import CD_errXY_plot\n",
    "CD_errXY_plot(Err_x, Err_y, \"DeePCNN's \")"
   ]
  },
  {
   "cell_type": "code",
   "execution_count": null,
   "metadata": {},
   "outputs": [],
   "source": []
  }
 ],
 "metadata": {
  "kernelspec": {
   "display_name": "Python 3 (ipykernel)",
   "language": "python",
   "name": "python3"
  },
  "language_info": {
   "codemirror_mode": {
    "name": "ipython",
    "version": 3
   },
   "file_extension": ".py",
   "mimetype": "text/x-python",
   "name": "python",
   "nbconvert_exporter": "python",
   "pygments_lexer": "ipython3",
   "version": "3.8.10"
  },
  "vp": {
   "vp_config_version": "1.0.0",
   "vp_menu_width": 273,
   "vp_note_display": false,
   "vp_note_width": 0,
   "vp_position": {
    "width": 278
   },
   "vp_section_display": false,
   "vp_signature": "VisualPython"
  }
 },
 "nbformat": 4,
 "nbformat_minor": 2
}
