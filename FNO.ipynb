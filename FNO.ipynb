{
 "cells": [
  {
   "cell_type": "code",
   "execution_count": 1,
   "metadata": {},
   "outputs": [],
   "source": [
    "import math\n",
    "import time\n",
    "import csv\n",
    "import os\n",
    "os.environ[\"CUDA_DEVICE_ORDER\"] = \"PCI_BUS_ID\"\n",
    "os.environ['CUDA_VISIBLE_DEVICES']=\"4\"\n",
    "\n",
    "import numpy as np\n",
    "import torch \n",
    "import torch.nn as nn\n",
    "import torch.utils.data as data\n",
    "import torch.nn.functional as F\n",
    "\n",
    "torch.manual_seed(105)\n",
    "np.random.seed(42)\n",
    "\n",
    "torch.backends.cudnn.deterministic = True\n",
    "torch.backends.cudnn.benchmark = True\n",
    "\n",
    "import itertools\n",
    "from tqdm import trange, tqdm\n",
    "import matplotlib.pyplot as plt\n",
    "import importlib\n",
    "%matplotlib inline\n",
    "\n",
    "'''\n",
    "If curious about the detailed realization of certain module(s) below, try:\n",
    "    print(*inspect.getsource(Module).split('\\n'), sep='\\n')\n",
    "to get its source code.\n",
    "'''\n",
    "from configs import opt, res_trans, RDevelop\n",
    "from Model.FNO import FNO\n",
    "from Train.train_v1 import train\n",
    "from Datas.data_load import dataset_append\n",
    "from Test.Evaluate import evaluate\n",
    "from utils.Save_and_load import save, load"
   ]
  },
  {
   "cell_type": "code",
   "execution_count": 2,
   "metadata": {},
   "outputs": [],
   "source": [
    "def Model_def(opt, device_train, load_model=False):\n",
    "    '''\n",
    "    Define (and load saved) model \n",
    "    '''\n",
    "    model = FNO(mode_z, mode_xy, mode_xy, channels, layers)\n",
    "    model.initialize()\n",
    "    if load_model:\n",
    "        model = load(model, opt.load_model_path)\n",
    "    print(model.parameters)\n",
    "    \n",
    "    if device_train.type == 'cuda':\n",
    "        torch.cuda.empty_cache()\n",
    "        model = model.to(device_train)\n",
    "        '''\n",
    "        nn.DataParallel don't work in this case since the model evaluate one batch during one step,\n",
    "        Mini-Batch descent is realized by gradient accumulation, and BN is discarded\n",
    "        '''\n",
    "        print(\"allocated and reserved GPU memory: {}, {} (GiB)\".format(\n",
    "                torch.cuda.memory_allocated()/(1024**3), torch.cuda.memory_reserved()/(1024**3)))\n",
    "    return model"
   ]
  },
  {
   "cell_type": "code",
   "execution_count": 3,
   "metadata": {
    "scrolled": true
   },
   "outputs": [
    {
     "name": "stdout",
     "output_type": "stream",
     "text": [
      "Net Initialized\n",
      "<bound method Module.parameters of FNO(\n",
      "  (dsp): Sequential(\n",
      "    (0): Conv3d(1, 1, kernel_size=(3, 3, 3), stride=(1, 2, 2), padding=(1, 1, 1), padding_mode=replicate)\n",
      "  )\n",
      "  (fn0): Sequential(\n",
      "    (0): Linear(in_features=1, out_features=25, bias=True)\n",
      "  )\n",
      "  (activation): LeakyReLU(negative_slope=0.01, inplace=True)\n",
      "  (conv1): SpectralConv3d()\n",
      "  (w1): Sequential(\n",
      "    (0): Conv3d(25, 25, kernel_size=(1, 1, 1), stride=(1, 1, 1))\n",
      "  )\n",
      "  (fn1): Sequential(\n",
      "    (0): Linear(in_features=25, out_features=64, bias=True)\n",
      "  )\n",
      "  (fn2): Sequential(\n",
      "    (0): Linear(in_features=64, out_features=1, bias=True)\n",
      "  )\n",
      "  (usp): Sequential(\n",
      "    (0): Upsample(scale_factor=(1.0, 2.0, 2.0), mode=trilinear)\n",
      "  )\n",
      ")>\n",
      "allocated and reserved GPU memory: 1.8626585006713867, 1.869140625 (GiB)\n"
     ]
    }
   ],
   "source": [
    "'''\n",
    "Hyperparameters of DeePEB:\n",
    "mode_xy, mode_z: number of spatial frequency modes in xy and z direction respectively;\n",
    "channels: # of channels, more channels will improve the performance of DeePEB until a limit (~30)\n",
    "layers: # of Fourier Layers, weights are shared among them\n",
    "lnr_size: # of middle neurons of the fully connected layer at the pulling stage\n",
    "'''\n",
    "device_train = torch.device('cuda:0') \n",
    "device_test = torch.device('cuda:0')\n",
    "ckpt_name = \"FNO.pth\"\n",
    "mode_xy, mode_z, channels, layers, lnr_size = 50, 40, 25, 1, 64\n",
    "opt.load_model_path = opt.modelpath+ckpt_name\n",
    "model = Model_def(opt, device_train, False)"
   ]
  },
  {
   "cell_type": "code",
   "execution_count": 4,
   "metadata": {
    "scrolled": true
   },
   "outputs": [
    {
     "name": "stderr",
     "output_type": "stream",
     "text": [
      "\r",
      "  0%|          | 0/8 [00:00<?, ?it/s]"
     ]
    },
    {
     "name": "stdout",
     "output_type": "stream",
     "text": [
      "../dataset_train_v1/0000Acid_ini Read in 0.12 s\n",
      "../dataset_train_v1/0000Inhibitor Read in 0.11 s\n",
      "--> Mask 0 Read Complete, with dataset size: (1, 1, 80, 1000, 1000), 9 masks left ...\n",
      "\n",
      "../dataset_train_v1/0001Acid_ini Read in 0.11 s\n",
      "../dataset_train_v1/0001Inhibitor Read in 0.11 s\n",
      "--> Mask 1 Read Complete, with dataset size: (2, 1, 80, 1000, 1000), 8 masks left ...\n",
      "\n",
      "../dataset_train_v1/0002Acid_ini Read in 0.11 s\n",
      "../dataset_train_v1/0002Inhibitor Read in 0.11 s\n",
      "--> Mask 2 Read Complete, with dataset size: (3, 1, 80, 1000, 1000), 7 masks left ...\n",
      "\n",
      "../dataset_train_v1/0003Acid_ini Read in 0.11 s\n",
      "../dataset_train_v1/0003Inhibitor Read in 0.12 s\n",
      "--> Mask 3 Read Complete, with dataset size: (4, 1, 80, 1000, 1000), 6 masks left ...\n",
      "\n",
      "../dataset_train_v1/0004Acid_ini Read in 0.11 s\n",
      "../dataset_train_v1/0004Inhibitor Read in 0.11 s\n",
      "--> Mask 4 Read Complete, with dataset size: (5, 1, 80, 1000, 1000), 5 masks left ...\n",
      "\n",
      "../dataset_train_v1/0005Acid_ini Read in 0.11 s\n",
      "../dataset_train_v1/0005Inhibitor Read in 0.11 s\n",
      "--> Mask 5 Read Complete, with dataset size: (6, 1, 80, 1000, 1000), 4 masks left ...\n",
      "\n",
      "../dataset_train_v1/0006Acid_ini Read in 0.11 s\n",
      "../dataset_train_v1/0006Inhibitor Read in 0.11 s\n",
      "--> Mask 6 Read Complete, with dataset size: (7, 1, 80, 1000, 1000), 3 masks left ...\n",
      "\n",
      "../dataset_train_v1/0007Acid_ini Read in 0.12 s\n",
      "../dataset_train_v1/0007Inhibitor Read in 0.12 s\n",
      "--> Mask 7 Read Complete, with dataset size: (8, 1, 80, 1000, 1000), 2 masks left ...\n",
      "\n",
      "../dataset_train_v1/0008Acid_ini Read in 0.11 s\n",
      "../dataset_train_v1/0008Inhibitor Read in 0.11 s\n",
      "--> Mask 8 Read Complete, with dataset size: (9, 1, 80, 1000, 1000), 1 masks left ...\n",
      "\n",
      "../dataset_train_v1/0009Acid_ini Read in 0.11 s\n",
      "../dataset_train_v1/0009Inhibitor Read in 0.11 s\n"
     ]
    },
    {
     "name": "stderr",
     "output_type": "stream",
     "text": [
      "\r",
      " 12%|█▎        | 1/8 [00:22<02:35, 22.26s/it]"
     ]
    },
    {
     "name": "stdout",
     "output_type": "stream",
     "text": [
      "--> Mask 9 Read Complete, with dataset size: (10, 1, 80, 1000, 1000), 0 masks left ...\n",
      "\n",
      "../dataset_train_v1/0010Acid_ini Read in 0.11 s\n",
      "../dataset_train_v1/0010Inhibitor Read in 0.11 s\n",
      "--> Mask 10 Read Complete, with dataset size: (1, 1, 80, 1000, 1000), 9 masks left ...\n",
      "\n",
      "../dataset_train_v1/0011Acid_ini Read in 0.11 s\n",
      "../dataset_train_v1/0011Inhibitor Read in 0.11 s\n",
      "--> Mask 11 Read Complete, with dataset size: (2, 1, 80, 1000, 1000), 8 masks left ...\n",
      "\n",
      "../dataset_train_v1/0012Acid_ini Read in 0.11 s\n",
      "../dataset_train_v1/0012Inhibitor Read in 0.11 s\n",
      "--> Mask 12 Read Complete, with dataset size: (3, 1, 80, 1000, 1000), 7 masks left ...\n",
      "\n",
      "../dataset_train_v1/0013Acid_ini Read in 0.11 s\n",
      "../dataset_train_v1/0013Inhibitor Read in 0.12 s\n",
      "--> Mask 13 Read Complete, with dataset size: (4, 1, 80, 1000, 1000), 6 masks left ...\n",
      "\n",
      "../dataset_train_v1/0014Acid_ini Read in 0.11 s\n",
      "../dataset_train_v1/0014Inhibitor Read in 0.11 s\n",
      "--> Mask 14 Read Complete, with dataset size: (5, 1, 80, 1000, 1000), 5 masks left ...\n",
      "\n",
      "../dataset_train_v1/0015Acid_ini Read in 0.11 s\n",
      "../dataset_train_v1/0015Inhibitor Read in 0.11 s\n",
      "--> Mask 15 Read Complete, with dataset size: (6, 1, 80, 1000, 1000), 4 masks left ...\n",
      "\n",
      "../dataset_train_v1/0016Acid_ini Read in 0.11 s\n",
      "../dataset_train_v1/0016Inhibitor Read in 0.11 s\n",
      "--> Mask 16 Read Complete, with dataset size: (7, 1, 80, 1000, 1000), 3 masks left ...\n",
      "\n",
      "../dataset_train_v1/0017Acid_ini Read in 0.12 s\n",
      "../dataset_train_v1/0017Inhibitor Read in 0.11 s\n",
      "--> Mask 17 Read Complete, with dataset size: (8, 1, 80, 1000, 1000), 2 masks left ...\n",
      "\n",
      "../dataset_train_v1/0018Acid_ini Read in 0.11 s\n",
      "../dataset_train_v1/0018Inhibitor Read in 0.11 s\n",
      "--> Mask 18 Read Complete, with dataset size: (9, 1, 80, 1000, 1000), 1 masks left ...\n",
      "\n",
      "../dataset_train_v1/0019Acid_ini Read in 0.11 s\n",
      "../dataset_train_v1/0019Inhibitor Read in 0.11 s\n"
     ]
    },
    {
     "name": "stderr",
     "output_type": "stream",
     "text": [
      "\r",
      " 25%|██▌       | 2/8 [00:44<02:13, 22.19s/it]"
     ]
    },
    {
     "name": "stdout",
     "output_type": "stream",
     "text": [
      "--> Mask 19 Read Complete, with dataset size: (10, 1, 80, 1000, 1000), 0 masks left ...\n",
      "\n",
      "../dataset_train_v1/0020Acid_ini Read in 0.11 s\n",
      "../dataset_train_v1/0020Inhibitor Read in 0.11 s\n",
      "--> Mask 20 Read Complete, with dataset size: (1, 1, 80, 1000, 1000), 9 masks left ...\n",
      "\n",
      "../dataset_train_v1/0021Acid_ini Read in 0.11 s\n",
      "../dataset_train_v1/0021Inhibitor Read in 0.11 s\n",
      "--> Mask 21 Read Complete, with dataset size: (2, 1, 80, 1000, 1000), 8 masks left ...\n",
      "\n",
      "../dataset_train_v1/0022Acid_ini Read in 0.11 s\n",
      "../dataset_train_v1/0022Inhibitor Read in 0.11 s\n",
      "--> Mask 22 Read Complete, with dataset size: (3, 1, 80, 1000, 1000), 7 masks left ...\n",
      "\n",
      "../dataset_train_v1/0023Acid_ini Read in 0.11 s\n",
      "../dataset_train_v1/0023Inhibitor Read in 0.12 s\n",
      "--> Mask 23 Read Complete, with dataset size: (4, 1, 80, 1000, 1000), 6 masks left ...\n",
      "\n",
      "../dataset_train_v1/0024Acid_ini Read in 0.11 s\n",
      "../dataset_train_v1/0024Inhibitor Read in 0.11 s\n",
      "--> Mask 24 Read Complete, with dataset size: (5, 1, 80, 1000, 1000), 5 masks left ...\n",
      "\n",
      "../dataset_train_v1/0025Acid_ini Read in 0.11 s\n",
      "../dataset_train_v1/0025Inhibitor Read in 0.11 s\n",
      "--> Mask 25 Read Complete, with dataset size: (6, 1, 80, 1000, 1000), 4 masks left ...\n",
      "\n",
      "../dataset_train_v1/0026Acid_ini Read in 0.11 s\n",
      "../dataset_train_v1/0026Inhibitor Read in 0.11 s\n",
      "--> Mask 26 Read Complete, with dataset size: (7, 1, 80, 1000, 1000), 3 masks left ...\n",
      "\n",
      "../dataset_train_v1/0027Acid_ini Read in 0.12 s\n",
      "../dataset_train_v1/0027Inhibitor Read in 0.12 s\n",
      "--> Mask 27 Read Complete, with dataset size: (8, 1, 80, 1000, 1000), 2 masks left ...\n",
      "\n",
      "../dataset_train_v1/0028Acid_ini Read in 0.11 s\n",
      "../dataset_train_v1/0028Inhibitor Read in 0.11 s\n",
      "--> Mask 28 Read Complete, with dataset size: (9, 1, 80, 1000, 1000), 1 masks left ...\n",
      "\n",
      "../dataset_train_v1/0029Acid_ini Read in 0.11 s\n",
      "../dataset_train_v1/0029Inhibitor Read in 0.11 s\n"
     ]
    },
    {
     "name": "stderr",
     "output_type": "stream",
     "text": [
      "\r",
      " 38%|███▊      | 3/8 [01:06<01:50, 22.17s/it]"
     ]
    },
    {
     "name": "stdout",
     "output_type": "stream",
     "text": [
      "--> Mask 29 Read Complete, with dataset size: (10, 1, 80, 1000, 1000), 0 masks left ...\n",
      "\n",
      "../dataset_train_v1/0030Acid_ini Read in 0.11 s\n",
      "../dataset_train_v1/0030Inhibitor Read in 0.11 s\n",
      "--> Mask 30 Read Complete, with dataset size: (1, 1, 80, 1000, 1000), 9 masks left ...\n",
      "\n",
      "../dataset_train_v1/0031Acid_ini Read in 0.11 s\n",
      "../dataset_train_v1/0031Inhibitor Read in 0.11 s\n",
      "--> Mask 31 Read Complete, with dataset size: (2, 1, 80, 1000, 1000), 8 masks left ...\n",
      "\n",
      "../dataset_train_v1/0032Acid_ini Read in 0.11 s\n",
      "../dataset_train_v1/0032Inhibitor Read in 0.11 s\n",
      "--> Mask 32 Read Complete, with dataset size: (3, 1, 80, 1000, 1000), 7 masks left ...\n",
      "\n",
      "../dataset_train_v1/0033Acid_ini Read in 0.11 s\n",
      "../dataset_train_v1/0033Inhibitor Read in 0.12 s\n",
      "--> Mask 33 Read Complete, with dataset size: (4, 1, 80, 1000, 1000), 6 masks left ...\n",
      "\n",
      "../dataset_train_v1/0034Acid_ini Read in 0.11 s\n",
      "../dataset_train_v1/0034Inhibitor Read in 0.11 s\n",
      "--> Mask 34 Read Complete, with dataset size: (5, 1, 80, 1000, 1000), 5 masks left ...\n",
      "\n",
      "../dataset_train_v1/0035Acid_ini Read in 0.11 s\n",
      "../dataset_train_v1/0035Inhibitor Read in 0.11 s\n",
      "--> Mask 35 Read Complete, with dataset size: (6, 1, 80, 1000, 1000), 4 masks left ...\n",
      "\n",
      "../dataset_train_v1/0036Acid_ini Read in 0.11 s\n",
      "../dataset_train_v1/0036Inhibitor Read in 0.11 s\n",
      "--> Mask 36 Read Complete, with dataset size: (7, 1, 80, 1000, 1000), 3 masks left ...\n",
      "\n",
      "../dataset_train_v1/0037Acid_ini Read in 0.12 s\n",
      "../dataset_train_v1/0037Inhibitor Read in 0.11 s\n",
      "--> Mask 37 Read Complete, with dataset size: (8, 1, 80, 1000, 1000), 2 masks left ...\n",
      "\n",
      "../dataset_train_v1/0038Acid_ini Read in 0.11 s\n",
      "../dataset_train_v1/0038Inhibitor Read in 0.11 s\n",
      "--> Mask 38 Read Complete, with dataset size: (9, 1, 80, 1000, 1000), 1 masks left ...\n",
      "\n",
      "../dataset_train_v1/0039Acid_ini Read in 0.11 s\n",
      "../dataset_train_v1/0039Inhibitor Read in 0.11 s\n"
     ]
    },
    {
     "name": "stderr",
     "output_type": "stream",
     "text": [
      "\r",
      " 50%|█████     | 4/8 [01:28<01:28, 22.16s/it]"
     ]
    },
    {
     "name": "stdout",
     "output_type": "stream",
     "text": [
      "--> Mask 39 Read Complete, with dataset size: (10, 1, 80, 1000, 1000), 0 masks left ...\n",
      "\n",
      "../dataset_train_v1/0040Acid_ini Read in 0.11 s\n",
      "../dataset_train_v1/0040Inhibitor Read in 0.12 s\n",
      "--> Mask 40 Read Complete, with dataset size: (1, 1, 80, 1000, 1000), 9 masks left ...\n",
      "\n",
      "../dataset_train_v1/0041Acid_ini Read in 0.11 s\n",
      "../dataset_train_v1/0041Inhibitor Read in 0.11 s\n",
      "--> Mask 41 Read Complete, with dataset size: (2, 1, 80, 1000, 1000), 8 masks left ...\n",
      "\n",
      "../dataset_train_v1/0042Acid_ini Read in 0.11 s\n",
      "../dataset_train_v1/0042Inhibitor Read in 0.11 s\n",
      "--> Mask 42 Read Complete, with dataset size: (3, 1, 80, 1000, 1000), 7 masks left ...\n",
      "\n",
      "../dataset_train_v1/0043Acid_ini Read in 0.12 s\n",
      "../dataset_train_v1/0043Inhibitor Read in 0.11 s\n",
      "--> Mask 43 Read Complete, with dataset size: (4, 1, 80, 1000, 1000), 6 masks left ...\n",
      "\n",
      "../dataset_train_v1/0044Acid_ini Read in 0.11 s\n",
      "../dataset_train_v1/0044Inhibitor Read in 0.11 s\n",
      "--> Mask 44 Read Complete, with dataset size: (5, 1, 80, 1000, 1000), 5 masks left ...\n",
      "\n",
      "../dataset_train_v1/0045Acid_ini Read in 0.11 s\n",
      "../dataset_train_v1/0045Inhibitor Read in 0.11 s\n",
      "--> Mask 45 Read Complete, with dataset size: (6, 1, 80, 1000, 1000), 4 masks left ...\n",
      "\n",
      "../dataset_train_v1/0046Acid_ini Read in 0.11 s\n",
      "../dataset_train_v1/0046Inhibitor Read in 0.11 s\n",
      "--> Mask 46 Read Complete, with dataset size: (7, 1, 80, 1000, 1000), 3 masks left ...\n",
      "\n",
      "../dataset_train_v1/0047Acid_ini Read in 0.11 s\n",
      "../dataset_train_v1/0047Inhibitor Read in 0.11 s\n",
      "--> Mask 47 Read Complete, with dataset size: (8, 1, 80, 1000, 1000), 2 masks left ...\n",
      "\n",
      "../dataset_train_v1/0048Acid_ini Read in 0.11 s\n",
      "../dataset_train_v1/0048Inhibitor Read in 0.12 s\n",
      "--> Mask 48 Read Complete, with dataset size: (9, 1, 80, 1000, 1000), 1 masks left ...\n",
      "\n",
      "../dataset_train_v1/0049Acid_ini Read in 0.11 s\n",
      "../dataset_train_v1/0049Inhibitor Read in 0.12 s\n"
     ]
    },
    {
     "name": "stderr",
     "output_type": "stream",
     "text": [
      "\r",
      " 62%|██████▎   | 5/8 [01:50<01:06, 22.16s/it]"
     ]
    },
    {
     "name": "stdout",
     "output_type": "stream",
     "text": [
      "--> Mask 49 Read Complete, with dataset size: (10, 1, 80, 1000, 1000), 0 masks left ...\n",
      "\n",
      "../dataset_train_v1/0050Acid_ini Read in 0.12 s\n",
      "../dataset_train_v1/0050Inhibitor Read in 0.11 s\n",
      "--> Mask 50 Read Complete, with dataset size: (1, 1, 80, 1000, 1000), 9 masks left ...\n",
      "\n",
      "../dataset_train_v1/0051Acid_ini Read in 0.11 s\n",
      "../dataset_train_v1/0051Inhibitor Read in 0.11 s\n",
      "--> Mask 51 Read Complete, with dataset size: (2, 1, 80, 1000, 1000), 8 masks left ...\n",
      "\n",
      "../dataset_train_v1/0052Acid_ini Read in 0.11 s\n",
      "../dataset_train_v1/0052Inhibitor Read in 0.12 s\n",
      "--> Mask 52 Read Complete, with dataset size: (3, 1, 80, 1000, 1000), 7 masks left ...\n",
      "\n",
      "../dataset_train_v1/0053Acid_ini Read in 0.11 s\n",
      "../dataset_train_v1/0053Inhibitor Read in 0.11 s\n",
      "--> Mask 53 Read Complete, with dataset size: (4, 1, 80, 1000, 1000), 6 masks left ...\n",
      "\n",
      "../dataset_train_v1/0054Acid_ini Read in 0.11 s\n",
      "../dataset_train_v1/0054Inhibitor Read in 0.11 s\n",
      "--> Mask 54 Read Complete, with dataset size: (5, 1, 80, 1000, 1000), 5 masks left ...\n",
      "\n",
      "../dataset_train_v1/0055Acid_ini Read in 0.11 s\n",
      "../dataset_train_v1/0055Inhibitor Read in 0.12 s\n",
      "--> Mask 55 Read Complete, with dataset size: (6, 1, 80, 1000, 1000), 4 masks left ...\n",
      "\n",
      "../dataset_train_v1/0056Acid_ini Read in 0.11 s\n",
      "../dataset_train_v1/0056Inhibitor Read in 0.11 s\n",
      "--> Mask 56 Read Complete, with dataset size: (7, 1, 80, 1000, 1000), 3 masks left ...\n",
      "\n",
      "../dataset_train_v1/0057Acid_ini Read in 0.11 s\n",
      "../dataset_train_v1/0057Inhibitor Read in 0.11 s\n",
      "--> Mask 57 Read Complete, with dataset size: (8, 1, 80, 1000, 1000), 2 masks left ...\n",
      "\n",
      "../dataset_train_v1/0058Acid_ini Read in 0.12 s\n",
      "../dataset_train_v1/0058Inhibitor Read in 0.11 s\n",
      "--> Mask 58 Read Complete, with dataset size: (9, 1, 80, 1000, 1000), 1 masks left ...\n",
      "\n",
      "../dataset_train_v1/0059Acid_ini Read in 0.12 s\n",
      "../dataset_train_v1/0059Inhibitor Read in 0.11 s\n"
     ]
    },
    {
     "name": "stderr",
     "output_type": "stream",
     "text": [
      "\r",
      " 75%|███████▌  | 6/8 [02:13<00:44, 22.16s/it]"
     ]
    },
    {
     "name": "stdout",
     "output_type": "stream",
     "text": [
      "--> Mask 59 Read Complete, with dataset size: (10, 1, 80, 1000, 1000), 0 masks left ...\n",
      "\n",
      "../dataset_train_v1/0060Acid_ini Read in 0.11 s\n",
      "../dataset_train_v1/0060Inhibitor Read in 0.11 s\n",
      "--> Mask 60 Read Complete, with dataset size: (1, 1, 80, 1000, 1000), 9 masks left ...\n",
      "\n",
      "../dataset_train_v1/0061Acid_ini Read in 0.11 s\n",
      "../dataset_train_v1/0061Inhibitor Read in 0.12 s\n",
      "--> Mask 61 Read Complete, with dataset size: (2, 1, 80, 1000, 1000), 8 masks left ...\n",
      "\n",
      "../dataset_train_v1/0062Acid_ini Read in 0.12 s\n",
      "../dataset_train_v1/0062Inhibitor Read in 0.12 s\n",
      "--> Mask 62 Read Complete, with dataset size: (3, 1, 80, 1000, 1000), 7 masks left ...\n",
      "\n",
      "../dataset_train_v1/0063Acid_ini Read in 0.11 s\n",
      "../dataset_train_v1/0063Inhibitor Read in 0.11 s\n",
      "--> Mask 63 Read Complete, with dataset size: (4, 1, 80, 1000, 1000), 6 masks left ...\n",
      "\n",
      "../dataset_train_v1/0064Acid_ini Read in 0.11 s\n",
      "../dataset_train_v1/0064Inhibitor Read in 0.11 s\n",
      "--> Mask 64 Read Complete, with dataset size: (5, 1, 80, 1000, 1000), 5 masks left ...\n",
      "\n",
      "../dataset_train_v1/0065Acid_ini Read in 0.12 s\n",
      "../dataset_train_v1/0065Inhibitor Read in 0.12 s\n",
      "--> Mask 65 Read Complete, with dataset size: (6, 1, 80, 1000, 1000), 4 masks left ...\n",
      "\n",
      "../dataset_train_v1/0066Acid_ini Read in 0.11 s\n",
      "../dataset_train_v1/0066Inhibitor Read in 0.11 s\n",
      "--> Mask 66 Read Complete, with dataset size: (7, 1, 80, 1000, 1000), 3 masks left ...\n",
      "\n",
      "../dataset_train_v1/0067Acid_ini Read in 0.11 s\n",
      "../dataset_train_v1/0067Inhibitor Read in 0.11 s\n",
      "--> Mask 67 Read Complete, with dataset size: (8, 1, 80, 1000, 1000), 2 masks left ...\n",
      "\n",
      "../dataset_train_v1/0068Acid_ini Read in 0.11 s\n",
      "../dataset_train_v1/0068Inhibitor Read in 0.11 s\n",
      "--> Mask 68 Read Complete, with dataset size: (9, 1, 80, 1000, 1000), 1 masks left ...\n",
      "\n",
      "../dataset_train_v1/0069Acid_ini Read in 0.11 s\n",
      "../dataset_train_v1/0069Inhibitor Read in 0.11 s\n"
     ]
    },
    {
     "name": "stderr",
     "output_type": "stream",
     "text": [
      "\r",
      " 88%|████████▊ | 7/8 [02:35<00:22, 22.14s/it]"
     ]
    },
    {
     "name": "stdout",
     "output_type": "stream",
     "text": [
      "--> Mask 69 Read Complete, with dataset size: (10, 1, 80, 1000, 1000), 0 masks left ...\n",
      "\n",
      "../dataset_train_v1/0070Acid_ini Read in 0.11 s\n",
      "../dataset_train_v1/0070Inhibitor Read in 0.11 s\n",
      "--> Mask 70 Read Complete, with dataset size: (1, 1, 80, 1000, 1000), 9 masks left ...\n",
      "\n",
      "../dataset_train_v1/0071Acid_ini Read in 0.12 s\n",
      "../dataset_train_v1/0071Inhibitor Read in 0.12 s\n",
      "--> Mask 71 Read Complete, with dataset size: (2, 1, 80, 1000, 1000), 8 masks left ...\n",
      "\n",
      "../dataset_train_v1/0072Acid_ini Read in 0.12 s\n",
      "../dataset_train_v1/0072Inhibitor Read in 0.11 s\n",
      "--> Mask 72 Read Complete, with dataset size: (3, 1, 80, 1000, 1000), 7 masks left ...\n",
      "\n",
      "../dataset_train_v1/0073Acid_ini Read in 0.11 s\n",
      "../dataset_train_v1/0073Inhibitor Read in 0.11 s\n",
      "--> Mask 73 Read Complete, with dataset size: (4, 1, 80, 1000, 1000), 6 masks left ...\n",
      "\n",
      "../dataset_train_v1/0074Acid_ini Read in 0.11 s\n",
      "../dataset_train_v1/0074Inhibitor Read in 0.11 s\n",
      "--> Mask 74 Read Complete, with dataset size: (5, 1, 80, 1000, 1000), 5 masks left ...\n",
      "\n",
      "../dataset_train_v1/0075Acid_ini Read in 0.13 s\n",
      "../dataset_train_v1/0075Inhibitor Read in 0.11 s\n",
      "--> Mask 75 Read Complete, with dataset size: (6, 1, 80, 1000, 1000), 4 masks left ...\n",
      "\n",
      "../dataset_train_v1/0076Acid_ini Read in 0.11 s\n",
      "../dataset_train_v1/0076Inhibitor Read in 0.11 s\n",
      "--> Mask 76 Read Complete, with dataset size: (7, 1, 80, 1000, 1000), 3 masks left ...\n",
      "\n",
      "../dataset_train_v1/0077Acid_ini Read in 0.11 s\n",
      "../dataset_train_v1/0077Inhibitor Read in 0.11 s\n",
      "--> Mask 77 Read Complete, with dataset size: (8, 1, 80, 1000, 1000), 2 masks left ...\n",
      "\n",
      "../dataset_train_v1/0078Acid_ini Read in 0.11 s\n",
      "../dataset_train_v1/0078Inhibitor Read in 0.11 s\n",
      "--> Mask 78 Read Complete, with dataset size: (9, 1, 80, 1000, 1000), 1 masks left ...\n",
      "\n",
      "../dataset_train_v1/0079Acid_ini Read in 0.11 s\n",
      "../dataset_train_v1/0079Inhibitor Read in 0.11 s\n"
     ]
    },
    {
     "name": "stderr",
     "output_type": "stream",
     "text": [
      "100%|██████████| 8/8 [02:57<00:00, 22.17s/it]\n"
     ]
    },
    {
     "name": "stdout",
     "output_type": "stream",
     "text": [
      "--> Mask 79 Read Complete, with dataset size: (10, 1, 80, 1000, 1000), 0 masks left ...\n",
      "\n"
     ]
    },
    {
     "name": "stderr",
     "output_type": "stream",
     "text": [
      "\r",
      "  0%|          | 0/2 [00:00<?, ?it/s]"
     ]
    },
    {
     "name": "stdout",
     "output_type": "stream",
     "text": [
      "../dataset_train_v1/0080Acid_ini Read in 0.13 s\n",
      "../dataset_train_v1/0080Inhibitor Read in 0.12 s\n",
      "--> Mask 80 Read Complete, with dataset size: (1, 1, 80, 1000, 1000), 9 masks left ...\n",
      "\n",
      "../dataset_train_v1/0081Acid_ini Read in 0.13 s\n",
      "../dataset_train_v1/0081Inhibitor Read in 0.11 s\n",
      "--> Mask 81 Read Complete, with dataset size: (2, 1, 80, 1000, 1000), 8 masks left ...\n",
      "\n",
      "../dataset_train_v1/0082Acid_ini Read in 0.11 s\n",
      "../dataset_train_v1/0082Inhibitor Read in 0.11 s\n",
      "--> Mask 82 Read Complete, with dataset size: (3, 1, 80, 1000, 1000), 7 masks left ...\n",
      "\n",
      "../dataset_train_v1/0083Acid_ini Read in 0.11 s\n",
      "../dataset_train_v1/0083Inhibitor Read in 0.11 s\n",
      "--> Mask 83 Read Complete, with dataset size: (4, 1, 80, 1000, 1000), 6 masks left ...\n",
      "\n",
      "../dataset_train_v1/0084Acid_ini Read in 0.11 s\n",
      "../dataset_train_v1/0084Inhibitor Read in 0.11 s\n",
      "--> Mask 84 Read Complete, with dataset size: (5, 1, 80, 1000, 1000), 5 masks left ...\n",
      "\n",
      "../dataset_train_v1/0085Acid_ini Read in 0.11 s\n",
      "../dataset_train_v1/0085Inhibitor Read in 0.11 s\n",
      "--> Mask 85 Read Complete, with dataset size: (6, 1, 80, 1000, 1000), 4 masks left ...\n",
      "\n",
      "../dataset_train_v1/0086Acid_ini Read in 0.11 s\n",
      "../dataset_train_v1/0086Inhibitor Read in 0.11 s\n",
      "--> Mask 86 Read Complete, with dataset size: (7, 1, 80, 1000, 1000), 3 masks left ...\n",
      "\n",
      "../dataset_train_v1/0087Acid_ini Read in 0.11 s\n",
      "../dataset_train_v1/0087Inhibitor Read in 0.11 s\n",
      "--> Mask 87 Read Complete, with dataset size: (8, 1, 80, 1000, 1000), 2 masks left ...\n",
      "\n",
      "../dataset_train_v1/0088Acid_ini Read in 0.11 s\n",
      "../dataset_train_v1/0088Inhibitor Read in 0.11 s\n",
      "--> Mask 88 Read Complete, with dataset size: (9, 1, 80, 1000, 1000), 1 masks left ...\n",
      "\n",
      "../dataset_train_v1/0089Acid_ini Read in 0.11 s\n",
      "../dataset_train_v1/0089Inhibitor Read in 0.11 s\n"
     ]
    },
    {
     "name": "stderr",
     "output_type": "stream",
     "text": [
      "\r",
      " 50%|█████     | 1/2 [00:22<00:22, 22.26s/it]"
     ]
    },
    {
     "name": "stdout",
     "output_type": "stream",
     "text": [
      "--> Mask 89 Read Complete, with dataset size: (10, 1, 80, 1000, 1000), 0 masks left ...\n",
      "\n",
      "../dataset_train_v1/0090Acid_ini Read in 0.11 s\n",
      "../dataset_train_v1/0090Inhibitor Read in 0.11 s\n",
      "--> Mask 90 Read Complete, with dataset size: (1, 1, 80, 1000, 1000), 9 masks left ...\n",
      "\n",
      "../dataset_train_v1/0091Acid_ini Read in 0.13 s\n",
      "../dataset_train_v1/0091Inhibitor Read in 0.11 s\n",
      "--> Mask 91 Read Complete, with dataset size: (2, 1, 80, 1000, 1000), 8 masks left ...\n",
      "\n",
      "../dataset_train_v1/0092Acid_ini Read in 0.11 s\n",
      "../dataset_train_v1/0092Inhibitor Read in 0.11 s\n",
      "--> Mask 92 Read Complete, with dataset size: (3, 1, 80, 1000, 1000), 7 masks left ...\n",
      "\n",
      "../dataset_train_v1/0093Acid_ini Read in 0.11 s\n",
      "../dataset_train_v1/0093Inhibitor Read in 0.11 s\n",
      "--> Mask 93 Read Complete, with dataset size: (4, 1, 80, 1000, 1000), 6 masks left ...\n",
      "\n",
      "../dataset_train_v1/0094Acid_ini Read in 0.11 s\n",
      "../dataset_train_v1/0094Inhibitor Read in 0.11 s\n",
      "--> Mask 94 Read Complete, with dataset size: (5, 1, 80, 1000, 1000), 5 masks left ...\n",
      "\n",
      "../dataset_train_v1/0095Acid_ini Read in 0.11 s\n",
      "../dataset_train_v1/0095Inhibitor Read in 0.11 s\n",
      "--> Mask 95 Read Complete, with dataset size: (6, 1, 80, 1000, 1000), 4 masks left ...\n",
      "\n",
      "../dataset_train_v1/0096Acid_ini Read in 0.11 s\n",
      "../dataset_train_v1/0096Inhibitor Read in 0.11 s\n",
      "--> Mask 96 Read Complete, with dataset size: (7, 1, 80, 1000, 1000), 3 masks left ...\n",
      "\n",
      "../dataset_train_v1/0097Acid_ini Read in 0.11 s\n",
      "../dataset_train_v1/0097Inhibitor Read in 0.11 s\n",
      "--> Mask 97 Read Complete, with dataset size: (8, 1, 80, 1000, 1000), 2 masks left ...\n",
      "\n",
      "../dataset_train_v1/0098Acid_ini Read in 0.11 s\n",
      "../dataset_train_v1/0098Inhibitor Read in 0.11 s\n",
      "--> Mask 98 Read Complete, with dataset size: (9, 1, 80, 1000, 1000), 1 masks left ...\n",
      "\n",
      "../dataset_train_v1/0099Acid_ini Read in 0.11 s\n",
      "../dataset_train_v1/0099Inhibitor Read in 0.11 s\n"
     ]
    },
    {
     "name": "stderr",
     "output_type": "stream",
     "text": [
      "100%|██████████| 2/2 [00:44<00:00, 22.24s/it]"
     ]
    },
    {
     "name": "stdout",
     "output_type": "stream",
     "text": [
      "--> Mask 99 Read Complete, with dataset size: (10, 1, 80, 1000, 1000), 0 masks left ...\n",
      "\n"
     ]
    },
    {
     "name": "stderr",
     "output_type": "stream",
     "text": [
      "\n"
     ]
    }
   ],
   "source": [
    "dataset_train = dataset_append(opt, opt.dataidx_train, res_trans)\n",
    "dataset_test = dataset_append(opt, opt.dataidx_test, res_trans) "
   ]
  },
  {
   "cell_type": "code",
   "execution_count": 5,
   "metadata": {},
   "outputs": [],
   "source": [
    "def opt_strategy(model, opt):\n",
    "    optimizer = torch.optim.Adam(model.parameters(), lr=1e-2) #weight_decay=1e-4)\n",
    "    scheduler = None\n",
    "    #scheduler = torch.optim.lr_scheduler.CosineAnnealingLR(optimizer, T_max=50, eta_min=1e-5)\n",
    "    scheduler = torch.optim.lr_scheduler.StepLR(optimizer, step_size=100, gamma=0.7)\n",
    "    return optimizer, scheduler"
   ]
  },
  {
   "cell_type": "code",
   "execution_count": 6,
   "metadata": {
    "scrolled": true
   },
   "outputs": [
    {
     "name": "stderr",
     "output_type": "stream",
     "text": [
      "  0%|          | 1/1500 [00:35<14:47:32, 35.53s/it]"
     ]
    },
    {
     "name": "stdout",
     "output_type": "stream",
     "text": [
      "Epoch 0 | LR: 1.00e-02 | Train Loss: 9.18e+00 | Test Loss: 5.11e+01, 4.87e-02, 100.03%\n"
     ]
    },
    {
     "name": "stderr",
     "output_type": "stream",
     "text": [
      "  1%|▏         | 21/1500 [09:13<11:25:11, 27.80s/it]"
     ]
    },
    {
     "name": "stdout",
     "output_type": "stream",
     "text": [
      "Epoch 20 | LR: 1.00e-02 | Train Loss: 4.39e-02 | Test Loss: 7.19e+00, 3.77e-02, 49.47%\n"
     ]
    },
    {
     "name": "stderr",
     "output_type": "stream",
     "text": [
      "  3%|▎         | 41/1500 [18:26<12:25:18, 30.65s/it]"
     ]
    },
    {
     "name": "stdout",
     "output_type": "stream",
     "text": [
      "Epoch 40 | LR: 1.00e-02 | Train Loss: 3.12e-03 | Test Loss: 6.57e+00, 2.24e-02, 31.04%\n"
     ]
    },
    {
     "name": "stderr",
     "output_type": "stream",
     "text": [
      "  4%|▍         | 61/1500 [27:57<12:35:07, 31.49s/it]"
     ]
    },
    {
     "name": "stdout",
     "output_type": "stream",
     "text": [
      "Epoch 60 | LR: 1.00e-02 | Train Loss: 3.73e-04 | Test Loss: 3.27e+00, 1.14e-02, 17.97%\n"
     ]
    },
    {
     "name": "stderr",
     "output_type": "stream",
     "text": [
      "  5%|▌         | 81/1500 [37:26<12:17:08, 31.17s/it]"
     ]
    },
    {
     "name": "stdout",
     "output_type": "stream",
     "text": [
      "Epoch 80 | LR: 1.00e-02 | Train Loss: 3.11e-04 | Test Loss: 5.52e+00, 1.54e-02, 21.43%\n"
     ]
    },
    {
     "name": "stderr",
     "output_type": "stream",
     "text": [
      "  7%|▋         | 101/1500 [46:39<12:05:52, 31.13s/it]"
     ]
    },
    {
     "name": "stdout",
     "output_type": "stream",
     "text": [
      "Epoch 100 | LR: 7.00e-03 | Train Loss: 1.97e-04 | Test Loss: 3.01e+00, 1.14e-02, 15.50%\n"
     ]
    },
    {
     "name": "stderr",
     "output_type": "stream",
     "text": [
      "  8%|▊         | 121/1500 [56:09<12:05:23, 31.56s/it]"
     ]
    },
    {
     "name": "stdout",
     "output_type": "stream",
     "text": [
      "Epoch 120 | LR: 7.00e-03 | Train Loss: 8.62e-05 | Test Loss: 3.26e+00, 1.51e-02, 17.44%\n"
     ]
    },
    {
     "name": "stderr",
     "output_type": "stream",
     "text": [
      "  9%|▉         | 140/1500 [1:04:58<10:32:21, 27.90s/it]"
     ]
    },
    {
     "name": "stdout",
     "output_type": "stream",
     "text": [
      "Epoch 140 | LR: 7.00e-03 | Train Loss: 2.43e-04 | Test Loss: 2.13e+00, 6.52e-03, 12.70%\n",
      "\n",
      "!Model saved at Epoch 140, with Train Loss 2.43e-04(Total) | Test Error(Ihb): 6.52e-03(MSE), 12.70%(NRMSE)\n",
      "\n"
     ]
    },
    {
     "name": "stderr",
     "output_type": "stream",
     "text": [
      "\r",
      "  9%|▉         | 141/1500 [1:05:42<12:18:19, 32.60s/it]"
     ]
    },
    {
     "name": "stdout",
     "output_type": "stream",
     "text": [
      "!Model saved to  ./Ckpts/FNO.pth\n"
     ]
    },
    {
     "name": "stderr",
     "output_type": "stream",
     "text": [
      " 11%|█         | 161/1500 [1:14:31<10:30:52, 28.27s/it]"
     ]
    },
    {
     "name": "stdout",
     "output_type": "stream",
     "text": [
      "Epoch 160 | LR: 7.00e-03 | Train Loss: 1.60e-04 | Test Loss: 2.04e+00, 7.30e-03, 13.67%\n"
     ]
    },
    {
     "name": "stderr",
     "output_type": "stream",
     "text": [
      " 12%|█▏        | 181/1500 [1:23:16<10:20:07, 28.21s/it]"
     ]
    },
    {
     "name": "stdout",
     "output_type": "stream",
     "text": [
      "Epoch 180 | LR: 7.00e-03 | Train Loss: 2.16e-04 | Test Loss: 2.87e+00, 1.28e-02, 15.15%\n"
     ]
    },
    {
     "name": "stderr",
     "output_type": "stream",
     "text": [
      " 13%|█▎        | 201/1500 [1:32:02<10:11:55, 28.26s/it]"
     ]
    },
    {
     "name": "stdout",
     "output_type": "stream",
     "text": [
      "Epoch 200 | LR: 4.90e-03 | Train Loss: 8.63e-05 | Test Loss: 5.22e+00, 1.32e-02, 17.63%\n"
     ]
    },
    {
     "name": "stderr",
     "output_type": "stream",
     "text": [
      " 15%|█▍        | 221/1500 [1:40:49<10:03:25, 28.31s/it]"
     ]
    },
    {
     "name": "stdout",
     "output_type": "stream",
     "text": [
      "Epoch 220 | LR: 4.90e-03 | Train Loss: 6.14e-05 | Test Loss: 2.69e+00, 8.51e-03, 14.95%\n"
     ]
    },
    {
     "name": "stderr",
     "output_type": "stream",
     "text": [
      " 16%|█▌        | 241/1500 [1:49:35<9:53:04, 28.26s/it] "
     ]
    },
    {
     "name": "stdout",
     "output_type": "stream",
     "text": [
      "Epoch 240 | LR: 4.90e-03 | Train Loss: 1.54e-04 | Test Loss: 2.43e+00, 8.70e-03, 14.78%\n"
     ]
    },
    {
     "name": "stderr",
     "output_type": "stream",
     "text": [
      " 17%|█▋        | 260/1500 [1:57:40<8:44:55, 25.40s/it]"
     ]
    },
    {
     "name": "stdout",
     "output_type": "stream",
     "text": [
      "Epoch 260 | LR: 4.90e-03 | Train Loss: 1.42e-04 | Test Loss: 1.55e+00, 6.86e-03, 11.36%\n",
      "\n",
      "!Model saved at Epoch 260, with Train Loss 1.42e-04(Total) | Test Error(Ihb): 6.86e-03(MSE), 11.36%(NRMSE)\n",
      "\n"
     ]
    },
    {
     "name": "stderr",
     "output_type": "stream",
     "text": [
      "\r",
      " 17%|█▋        | 261/1500 [1:58:18<9:58:39, 28.99s/it]"
     ]
    },
    {
     "name": "stdout",
     "output_type": "stream",
     "text": [
      "!Model saved to  ./Ckpts/FNO.pth\n"
     ]
    },
    {
     "name": "stderr",
     "output_type": "stream",
     "text": [
      " 19%|█▊        | 281/1500 [2:06:54<9:23:54, 27.76s/it]"
     ]
    },
    {
     "name": "stdout",
     "output_type": "stream",
     "text": [
      "Epoch 280 | LR: 4.90e-03 | Train Loss: 7.42e-05 | Test Loss: 1.70e+00, 5.38e-03, 12.81%\n"
     ]
    },
    {
     "name": "stderr",
     "output_type": "stream",
     "text": [
      " 20%|██        | 301/1500 [2:15:32<9:14:11, 27.73s/it]"
     ]
    },
    {
     "name": "stdout",
     "output_type": "stream",
     "text": [
      "Epoch 300 | LR: 3.43e-03 | Train Loss: 5.26e-05 | Test Loss: 1.86e+00, 8.37e-03, 11.86%\n"
     ]
    },
    {
     "name": "stderr",
     "output_type": "stream",
     "text": [
      " 21%|██▏       | 321/1500 [2:24:08<9:04:14, 27.70s/it]"
     ]
    },
    {
     "name": "stdout",
     "output_type": "stream",
     "text": [
      "Epoch 320 | LR: 3.43e-03 | Train Loss: 4.75e-05 | Test Loss: 2.39e+00, 1.08e-02, 13.69%\n"
     ]
    },
    {
     "name": "stderr",
     "output_type": "stream",
     "text": [
      " 23%|██▎       | 341/1500 [2:32:45<8:55:59, 27.75s/it]"
     ]
    },
    {
     "name": "stdout",
     "output_type": "stream",
     "text": [
      "Epoch 340 | LR: 3.43e-03 | Train Loss: 1.45e-04 | Test Loss: 2.45e+00, 9.39e-03, 13.85%\n"
     ]
    },
    {
     "name": "stderr",
     "output_type": "stream",
     "text": [
      " 24%|██▍       | 361/1500 [2:41:23<8:47:13, 27.77s/it]"
     ]
    },
    {
     "name": "stdout",
     "output_type": "stream",
     "text": [
      "Epoch 360 | LR: 3.43e-03 | Train Loss: 1.27e-04 | Test Loss: 1.56e+00, 6.37e-03, 11.16%\n"
     ]
    },
    {
     "name": "stderr",
     "output_type": "stream",
     "text": [
      " 25%|██▌       | 381/1500 [2:49:59<8:37:19, 27.74s/it]"
     ]
    },
    {
     "name": "stdout",
     "output_type": "stream",
     "text": [
      "Epoch 380 | LR: 3.43e-03 | Train Loss: 1.31e-04 | Test Loss: 2.07e+00, 8.73e-03, 12.70%\n"
     ]
    },
    {
     "name": "stderr",
     "output_type": "stream",
     "text": [
      " 27%|██▋       | 401/1500 [2:58:36<8:29:02, 27.79s/it]"
     ]
    },
    {
     "name": "stdout",
     "output_type": "stream",
     "text": [
      "Epoch 400 | LR: 2.40e-03 | Train Loss: 1.34e-04 | Test Loss: 4.66e+00, 1.03e-02, 15.12%\n"
     ]
    },
    {
     "name": "stderr",
     "output_type": "stream",
     "text": [
      " 28%|██▊       | 421/1500 [3:07:14<8:19:05, 27.75s/it]"
     ]
    },
    {
     "name": "stdout",
     "output_type": "stream",
     "text": [
      "Epoch 420 | LR: 2.40e-03 | Train Loss: 4.42e-05 | Test Loss: 1.90e+00, 9.81e-03, 12.70%\n"
     ]
    },
    {
     "name": "stderr",
     "output_type": "stream",
     "text": [
      " 29%|██▉       | 441/1500 [3:15:51<8:09:04, 27.71s/it]"
     ]
    },
    {
     "name": "stdout",
     "output_type": "stream",
     "text": [
      "Epoch 440 | LR: 2.40e-03 | Train Loss: 4.19e-05 | Test Loss: 4.54e+00, 1.02e-02, 14.53%\n"
     ]
    },
    {
     "name": "stderr",
     "output_type": "stream",
     "text": [
      " 31%|███       | 461/1500 [3:24:25<7:59:39, 27.70s/it]"
     ]
    },
    {
     "name": "stdout",
     "output_type": "stream",
     "text": [
      "Epoch 460 | LR: 2.40e-03 | Train Loss: 5.36e-05 | Test Loss: 2.25e+00, 7.09e-03, 14.14%\n"
     ]
    },
    {
     "name": "stderr",
     "output_type": "stream",
     "text": [
      " 32%|███▏      | 481/1500 [3:33:03<7:50:59, 27.73s/it]"
     ]
    },
    {
     "name": "stdout",
     "output_type": "stream",
     "text": [
      "Epoch 480 | LR: 2.40e-03 | Train Loss: 5.64e-05 | Test Loss: 2.42e+00, 1.04e-02, 13.74%\n"
     ]
    },
    {
     "name": "stderr",
     "output_type": "stream",
     "text": [
      " 33%|███▎      | 501/1500 [3:41:40<7:42:35, 27.78s/it]"
     ]
    },
    {
     "name": "stdout",
     "output_type": "stream",
     "text": [
      "Epoch 500 | LR: 1.68e-03 | Train Loss: 4.26e-05 | Test Loss: 2.28e+00, 1.10e-02, 13.04%\n"
     ]
    },
    {
     "name": "stderr",
     "output_type": "stream",
     "text": [
      " 35%|███▍      | 521/1500 [3:50:20<7:33:58, 27.82s/it]"
     ]
    },
    {
     "name": "stdout",
     "output_type": "stream",
     "text": [
      "Epoch 520 | LR: 1.68e-03 | Train Loss: 1.55e-04 | Test Loss: 1.45e+00, 6.34e-03, 10.90%\n"
     ]
    },
    {
     "name": "stderr",
     "output_type": "stream",
     "text": [
      " 36%|███▌      | 541/1500 [3:58:58<7:23:44, 27.76s/it]"
     ]
    },
    {
     "name": "stdout",
     "output_type": "stream",
     "text": [
      "Epoch 540 | LR: 1.68e-03 | Train Loss: 1.44e-04 | Test Loss: 1.77e+00, 7.67e-03, 11.54%\n"
     ]
    },
    {
     "name": "stderr",
     "output_type": "stream",
     "text": [
      " 37%|███▋      | 561/1500 [4:07:34<7:12:40, 27.65s/it]"
     ]
    },
    {
     "name": "stdout",
     "output_type": "stream",
     "text": [
      "Epoch 560 | LR: 1.68e-03 | Train Loss: 1.11e-04 | Test Loss: 1.89e+00, 7.35e-03, 12.11%\n"
     ]
    },
    {
     "name": "stderr",
     "output_type": "stream",
     "text": [
      " 39%|███▊      | 581/1500 [4:16:11<7:06:26, 27.84s/it]"
     ]
    },
    {
     "name": "stdout",
     "output_type": "stream",
     "text": [
      "Epoch 580 | LR: 1.68e-03 | Train Loss: 9.40e-05 | Test Loss: 2.65e+00, 9.90e-03, 14.67%\n"
     ]
    },
    {
     "name": "stderr",
     "output_type": "stream",
     "text": [
      " 40%|████      | 601/1500 [4:24:49<6:55:38, 27.74s/it]"
     ]
    },
    {
     "name": "stdout",
     "output_type": "stream",
     "text": [
      "Epoch 600 | LR: 1.18e-03 | Train Loss: 4.84e-05 | Test Loss: 1.70e+00, 7.83e-03, 12.11%\n"
     ]
    },
    {
     "name": "stderr",
     "output_type": "stream",
     "text": [
      " 41%|████▏     | 621/1500 [4:33:25<6:45:03, 27.65s/it]"
     ]
    },
    {
     "name": "stdout",
     "output_type": "stream",
     "text": [
      "Epoch 620 | LR: 1.18e-03 | Train Loss: 5.15e-05 | Test Loss: 2.17e+00, 6.93e-03, 13.82%\n"
     ]
    },
    {
     "name": "stderr",
     "output_type": "stream",
     "text": [
      " 43%|████▎     | 641/1500 [4:42:01<6:38:22, 27.83s/it]"
     ]
    },
    {
     "name": "stdout",
     "output_type": "stream",
     "text": [
      "Epoch 640 | LR: 1.18e-03 | Train Loss: 8.75e-05 | Test Loss: 2.02e+00, 9.15e-03, 13.03%\n"
     ]
    },
    {
     "name": "stderr",
     "output_type": "stream",
     "text": [
      " 44%|████▍     | 661/1500 [4:50:38<6:27:50, 27.74s/it]"
     ]
    },
    {
     "name": "stdout",
     "output_type": "stream",
     "text": [
      "Epoch 660 | LR: 1.18e-03 | Train Loss: 1.10e-04 | Test Loss: 1.84e+00, 8.09e-03, 11.48%\n"
     ]
    },
    {
     "name": "stderr",
     "output_type": "stream",
     "text": [
      " 45%|████▌     | 681/1500 [4:59:15<6:17:40, 27.67s/it]"
     ]
    },
    {
     "name": "stdout",
     "output_type": "stream",
     "text": [
      "Epoch 680 | LR: 1.18e-03 | Train Loss: 3.92e-05 | Test Loss: 1.47e+00, 6.67e-03, 11.04%\n"
     ]
    },
    {
     "name": "stderr",
     "output_type": "stream",
     "text": [
      " 47%|████▋     | 701/1500 [5:07:52<6:09:37, 27.76s/it]"
     ]
    },
    {
     "name": "stdout",
     "output_type": "stream",
     "text": [
      "Epoch 700 | LR: 8.24e-04 | Train Loss: 5.07e-05 | Test Loss: 1.58e+00, 8.15e-03, 10.96%\n"
     ]
    },
    {
     "name": "stderr",
     "output_type": "stream",
     "text": [
      " 48%|████▊     | 721/1500 [5:16:29<6:00:02, 27.73s/it]"
     ]
    },
    {
     "name": "stdout",
     "output_type": "stream",
     "text": [
      "Epoch 720 | LR: 8.24e-04 | Train Loss: 1.32e-04 | Test Loss: 4.60e+00, 9.36e-03, 15.79%\n"
     ]
    },
    {
     "name": "stderr",
     "output_type": "stream",
     "text": [
      " 49%|████▉     | 741/1500 [5:25:07<5:52:37, 27.88s/it]"
     ]
    },
    {
     "name": "stdout",
     "output_type": "stream",
     "text": [
      "Epoch 740 | LR: 8.24e-04 | Train Loss: 4.60e-05 | Test Loss: 4.99e+00, 1.17e-02, 16.02%\n"
     ]
    },
    {
     "name": "stderr",
     "output_type": "stream",
     "text": [
      " 51%|█████     | 760/1500 [5:33:09<5:13:04, 25.38s/it]"
     ]
    },
    {
     "name": "stdout",
     "output_type": "stream",
     "text": [
      "Epoch 760 | LR: 8.24e-04 | Train Loss: 1.15e-04 | Test Loss: 1.12e+00, 5.82e-03, 9.81%\n",
      "\n",
      "!Model saved at Epoch 760, with Train Loss 1.15e-04(Total) | Test Error(Ihb): 5.82e-03(MSE), 9.81%(NRMSE)\n",
      "\n"
     ]
    },
    {
     "name": "stderr",
     "output_type": "stream",
     "text": [
      "\r",
      " 51%|█████     | 761/1500 [5:33:46<5:55:23, 28.85s/it]"
     ]
    },
    {
     "name": "stdout",
     "output_type": "stream",
     "text": [
      "!Model saved to  ./Ckpts/FNO.pth\n"
     ]
    },
    {
     "name": "stderr",
     "output_type": "stream",
     "text": [
      " 52%|█████▏    | 781/1500 [5:42:25<5:30:13, 27.56s/it]"
     ]
    },
    {
     "name": "stdout",
     "output_type": "stream",
     "text": [
      "Epoch 780 | LR: 8.24e-04 | Train Loss: 3.65e-05 | Test Loss: 2.28e+00, 1.17e-02, 13.36%\n"
     ]
    },
    {
     "name": "stderr",
     "output_type": "stream",
     "text": [
      " 53%|█████▎    | 801/1500 [5:51:37<5:53:57, 30.38s/it]"
     ]
    },
    {
     "name": "stdout",
     "output_type": "stream",
     "text": [
      "Epoch 800 | LR: 5.76e-04 | Train Loss: 3.28e-05 | Test Loss: 1.73e+00, 9.30e-03, 11.49%\n"
     ]
    },
    {
     "name": "stderr",
     "output_type": "stream",
     "text": [
      " 55%|█████▍    | 821/1500 [6:00:59<5:48:36, 30.81s/it]"
     ]
    },
    {
     "name": "stdout",
     "output_type": "stream",
     "text": [
      "Epoch 820 | LR: 5.76e-04 | Train Loss: 4.29e-05 | Test Loss: 2.06e+00, 7.90e-03, 12.58%\n"
     ]
    },
    {
     "name": "stderr",
     "output_type": "stream",
     "text": [
      " 56%|█████▌    | 841/1500 [6:10:06<5:06:11, 27.88s/it]"
     ]
    },
    {
     "name": "stdout",
     "output_type": "stream",
     "text": [
      "Epoch 840 | LR: 5.76e-04 | Train Loss: 5.61e-05 | Test Loss: 1.99e+00, 8.84e-03, 12.09%\n"
     ]
    },
    {
     "name": "stderr",
     "output_type": "stream",
     "text": [
      " 57%|█████▋    | 861/1500 [6:18:41<4:54:43, 27.67s/it]"
     ]
    },
    {
     "name": "stdout",
     "output_type": "stream",
     "text": [
      "Epoch 860 | LR: 5.76e-04 | Train Loss: 1.41e-04 | Test Loss: 2.04e+00, 8.99e-03, 12.27%\n"
     ]
    },
    {
     "name": "stderr",
     "output_type": "stream",
     "text": [
      " 59%|█████▊    | 881/1500 [6:27:27<5:14:19, 30.47s/it]"
     ]
    },
    {
     "name": "stdout",
     "output_type": "stream",
     "text": [
      "Epoch 880 | LR: 5.76e-04 | Train Loss: 5.98e-05 | Test Loss: 1.74e+00, 6.85e-03, 11.71%\n"
     ]
    },
    {
     "name": "stderr",
     "output_type": "stream",
     "text": [
      " 60%|██████    | 901/1500 [6:36:48<5:08:53, 30.94s/it]"
     ]
    },
    {
     "name": "stdout",
     "output_type": "stream",
     "text": [
      "Epoch 900 | LR: 4.04e-04 | Train Loss: 3.46e-05 | Test Loss: 1.83e+00, 8.08e-03, 11.34%\n"
     ]
    },
    {
     "name": "stderr",
     "output_type": "stream",
     "text": [
      " 61%|██████▏   | 921/1500 [6:46:09<5:00:02, 31.09s/it]"
     ]
    },
    {
     "name": "stdout",
     "output_type": "stream",
     "text": [
      "Epoch 920 | LR: 4.04e-04 | Train Loss: 4.31e-05 | Test Loss: 4.62e+00, 1.18e-02, 15.64%\n"
     ]
    },
    {
     "name": "stderr",
     "output_type": "stream",
     "text": [
      " 63%|██████▎   | 941/1500 [6:54:58<4:19:36, 27.87s/it]"
     ]
    },
    {
     "name": "stdout",
     "output_type": "stream",
     "text": [
      "Epoch 940 | LR: 4.04e-04 | Train Loss: 3.29e-05 | Test Loss: 1.86e+00, 6.99e-03, 13.02%\n"
     ]
    },
    {
     "name": "stderr",
     "output_type": "stream",
     "text": [
      " 64%|██████▍   | 961/1500 [7:03:35<4:07:46, 27.58s/it]"
     ]
    },
    {
     "name": "stdout",
     "output_type": "stream",
     "text": [
      "Epoch 960 | LR: 4.04e-04 | Train Loss: 3.79e-05 | Test Loss: 1.14e+00, 5.92e-03, 9.54%\n"
     ]
    },
    {
     "name": "stderr",
     "output_type": "stream",
     "text": [
      " 65%|██████▌   | 981/1500 [7:12:38<4:21:23, 30.22s/it]"
     ]
    },
    {
     "name": "stdout",
     "output_type": "stream",
     "text": [
      "Epoch 980 | LR: 4.04e-04 | Train Loss: 3.60e-05 | Test Loss: 4.48e+00, 1.06e-02, 14.60%\n"
     ]
    },
    {
     "name": "stderr",
     "output_type": "stream",
     "text": [
      " 67%|██████▋   | 1001/1500 [7:22:03<4:18:26, 31.08s/it]"
     ]
    },
    {
     "name": "stdout",
     "output_type": "stream",
     "text": [
      "Epoch 1000 | LR: 2.82e-04 | Train Loss: 6.12e-05 | Test Loss: 1.95e+00, 7.58e-03, 12.19%\n"
     ]
    },
    {
     "name": "stderr",
     "output_type": "stream",
     "text": [
      " 68%|██████▊   | 1021/1500 [7:31:20<3:48:31, 28.62s/it]"
     ]
    },
    {
     "name": "stdout",
     "output_type": "stream",
     "text": [
      "Epoch 1020 | LR: 2.82e-04 | Train Loss: 6.47e-05 | Test Loss: 2.04e+00, 9.83e-03, 13.40%\n"
     ]
    },
    {
     "name": "stderr",
     "output_type": "stream",
     "text": [
      " 69%|██████▉   | 1041/1500 [7:39:56<3:32:32, 27.78s/it]"
     ]
    },
    {
     "name": "stdout",
     "output_type": "stream",
     "text": [
      "Epoch 1040 | LR: 2.82e-04 | Train Loss: 1.19e-04 | Test Loss: 2.16e+00, 9.43e-03, 12.08%\n"
     ]
    },
    {
     "name": "stderr",
     "output_type": "stream",
     "text": [
      " 71%|███████   | 1061/1500 [7:48:35<3:24:00, 27.88s/it]"
     ]
    },
    {
     "name": "stdout",
     "output_type": "stream",
     "text": [
      "Epoch 1060 | LR: 2.82e-04 | Train Loss: 4.12e-05 | Test Loss: 2.09e+00, 7.59e-03, 11.88%\n"
     ]
    },
    {
     "name": "stderr",
     "output_type": "stream",
     "text": [
      " 72%|███████▏  | 1081/1500 [7:57:15<3:14:00, 27.78s/it]"
     ]
    },
    {
     "name": "stdout",
     "output_type": "stream",
     "text": [
      "Epoch 1080 | LR: 2.82e-04 | Train Loss: 3.98e-05 | Test Loss: 1.52e+00, 7.64e-03, 11.16%\n"
     ]
    },
    {
     "name": "stderr",
     "output_type": "stream",
     "text": [
      " 73%|███████▎  | 1101/1500 [8:05:50<3:04:21, 27.72s/it]"
     ]
    },
    {
     "name": "stdout",
     "output_type": "stream",
     "text": [
      "Epoch 1100 | LR: 1.98e-04 | Train Loss: 3.02e-05 | Test Loss: 1.12e+00, 5.30e-03, 10.24%\n"
     ]
    },
    {
     "name": "stderr",
     "output_type": "stream",
     "text": [
      " 75%|███████▍  | 1121/1500 [8:14:28<2:55:34, 27.80s/it]"
     ]
    },
    {
     "name": "stdout",
     "output_type": "stream",
     "text": [
      "Epoch 1120 | LR: 1.98e-04 | Train Loss: 4.20e-05 | Test Loss: 2.21e+00, 9.15e-03, 12.35%\n"
     ]
    },
    {
     "name": "stderr",
     "output_type": "stream",
     "text": [
      " 76%|███████▌  | 1141/1500 [8:23:06<2:46:12, 27.78s/it]"
     ]
    },
    {
     "name": "stdout",
     "output_type": "stream",
     "text": [
      "Epoch 1140 | LR: 1.98e-04 | Train Loss: 1.21e-04 | Test Loss: 4.59e+00, 9.98e-03, 15.82%\n"
     ]
    },
    {
     "name": "stderr",
     "output_type": "stream",
     "text": [
      " 77%|███████▋  | 1161/1500 [8:31:43<2:36:54, 27.77s/it]"
     ]
    },
    {
     "name": "stdout",
     "output_type": "stream",
     "text": [
      "Epoch 1160 | LR: 1.98e-04 | Train Loss: 3.62e-05 | Test Loss: 1.67e+00, 7.21e-03, 11.01%\n"
     ]
    },
    {
     "name": "stderr",
     "output_type": "stream",
     "text": [
      " 79%|███████▊  | 1181/1500 [8:40:20<2:27:45, 27.79s/it]"
     ]
    },
    {
     "name": "stdout",
     "output_type": "stream",
     "text": [
      "Epoch 1180 | LR: 1.98e-04 | Train Loss: 5.98e-05 | Test Loss: 1.40e+00, 7.69e-03, 10.90%\n"
     ]
    },
    {
     "name": "stderr",
     "output_type": "stream",
     "text": [
      " 80%|████████  | 1201/1500 [8:48:59<2:18:34, 27.81s/it]"
     ]
    },
    {
     "name": "stdout",
     "output_type": "stream",
     "text": [
      "Epoch 1200 | LR: 1.38e-04 | Train Loss: 1.42e-04 | Test Loss: 1.72e+00, 8.74e-03, 11.75%\n"
     ]
    },
    {
     "name": "stderr",
     "output_type": "stream",
     "text": [
      " 81%|████████▏ | 1221/1500 [8:57:37<2:09:37, 27.88s/it]"
     ]
    },
    {
     "name": "stdout",
     "output_type": "stream",
     "text": [
      "Epoch 1220 | LR: 1.38e-04 | Train Loss: 4.18e-05 | Test Loss: 1.73e+00, 8.47e-03, 11.98%\n"
     ]
    },
    {
     "name": "stderr",
     "output_type": "stream",
     "text": [
      " 83%|████████▎ | 1241/1500 [9:06:08<1:58:08, 27.37s/it]"
     ]
    },
    {
     "name": "stdout",
     "output_type": "stream",
     "text": [
      "Epoch 1240 | LR: 1.38e-04 | Train Loss: 6.79e-05 | Test Loss: 1.66e+00, 6.37e-03, 11.80%\n"
     ]
    },
    {
     "name": "stderr",
     "output_type": "stream",
     "text": [
      " 84%|████████▍ | 1261/1500 [9:14:59<2:01:51, 30.59s/it]"
     ]
    },
    {
     "name": "stdout",
     "output_type": "stream",
     "text": [
      "Epoch 1260 | LR: 1.38e-04 | Train Loss: 6.34e-05 | Test Loss: 2.01e+00, 6.87e-03, 13.91%\n"
     ]
    },
    {
     "name": "stderr",
     "output_type": "stream",
     "text": [
      " 85%|████████▌ | 1281/1500 [9:24:17<1:50:01, 30.14s/it]"
     ]
    },
    {
     "name": "stdout",
     "output_type": "stream",
     "text": [
      "Epoch 1280 | LR: 1.38e-04 | Train Loss: 8.26e-05 | Test Loss: 2.18e+00, 8.34e-03, 11.78%\n"
     ]
    },
    {
     "name": "stderr",
     "output_type": "stream",
     "text": [
      " 87%|████████▋ | 1301/1500 [9:33:24<1:32:50, 27.99s/it]"
     ]
    },
    {
     "name": "stdout",
     "output_type": "stream",
     "text": [
      "Epoch 1300 | LR: 9.69e-05 | Train Loss: 1.05e-04 | Test Loss: 4.69e+00, 8.80e-03, 15.69%\n"
     ]
    },
    {
     "name": "stderr",
     "output_type": "stream",
     "text": [
      " 88%|████████▊ | 1321/1500 [9:42:00<1:23:32, 28.00s/it]"
     ]
    },
    {
     "name": "stdout",
     "output_type": "stream",
     "text": [
      "Epoch 1320 | LR: 9.69e-05 | Train Loss: 3.57e-05 | Test Loss: 2.10e+00, 1.10e-02, 12.59%\n"
     ]
    },
    {
     "name": "stderr",
     "output_type": "stream",
     "text": [
      " 89%|████████▉ | 1341/1500 [9:57:11<3:31:36, 79.85s/it]"
     ]
    },
    {
     "name": "stdout",
     "output_type": "stream",
     "text": [
      "Epoch 1340 | LR: 9.69e-05 | Train Loss: 6.02e-05 | Test Loss: 1.45e+00, 5.45e-03, 10.25%\n"
     ]
    },
    {
     "name": "stderr",
     "output_type": "stream",
     "text": [
      " 91%|█████████ | 1361/1500 [10:22:00<3:35:38, 93.08s/it]"
     ]
    },
    {
     "name": "stdout",
     "output_type": "stream",
     "text": [
      "Epoch 1360 | LR: 9.69e-05 | Train Loss: 5.14e-05 | Test Loss: 2.65e+00, 1.17e-02, 13.77%\n"
     ]
    },
    {
     "name": "stderr",
     "output_type": "stream",
     "text": [
      " 92%|█████████▏| 1381/1500 [10:45:46<2:49:04, 85.25s/it]"
     ]
    },
    {
     "name": "stdout",
     "output_type": "stream",
     "text": [
      "Epoch 1380 | LR: 9.69e-05 | Train Loss: 3.94e-05 | Test Loss: 1.44e+00, 7.34e-03, 10.68%\n"
     ]
    },
    {
     "name": "stderr",
     "output_type": "stream",
     "text": [
      " 93%|█████████▎| 1401/1500 [11:10:13<2:21:23, 85.69s/it]"
     ]
    },
    {
     "name": "stdout",
     "output_type": "stream",
     "text": [
      "Epoch 1400 | LR: 6.78e-05 | Train Loss: 9.86e-05 | Test Loss: 1.38e+00, 6.35e-03, 11.34%\n"
     ]
    },
    {
     "name": "stderr",
     "output_type": "stream",
     "text": [
      " 95%|█████████▍| 1421/1500 [11:34:02<1:53:29, 86.19s/it]"
     ]
    },
    {
     "name": "stdout",
     "output_type": "stream",
     "text": [
      "Epoch 1420 | LR: 6.78e-05 | Train Loss: 1.06e-04 | Test Loss: 1.77e+00, 8.67e-03, 11.85%\n"
     ]
    },
    {
     "name": "stderr",
     "output_type": "stream",
     "text": [
      " 96%|█████████▌| 1441/1500 [11:54:29<1:10:27, 71.66s/it]"
     ]
    },
    {
     "name": "stdout",
     "output_type": "stream",
     "text": [
      "Epoch 1440 | LR: 6.78e-05 | Train Loss: 3.51e-05 | Test Loss: 2.39e+00, 1.04e-02, 14.44%\n"
     ]
    },
    {
     "name": "stderr",
     "output_type": "stream",
     "text": [
      " 97%|█████████▋| 1461/1500 [12:14:29<45:13, 69.59s/it]  "
     ]
    },
    {
     "name": "stdout",
     "output_type": "stream",
     "text": [
      "Epoch 1460 | LR: 6.78e-05 | Train Loss: 3.17e-05 | Test Loss: 4.32e+00, 9.82e-03, 14.25%\n"
     ]
    },
    {
     "name": "stderr",
     "output_type": "stream",
     "text": [
      " 99%|█████████▊| 1481/1500 [12:34:15<21:55, 69.23s/it]"
     ]
    },
    {
     "name": "stdout",
     "output_type": "stream",
     "text": [
      "Epoch 1480 | LR: 6.78e-05 | Train Loss: 5.26e-05 | Test Loss: 4.88e+00, 1.39e-02, 16.08%\n"
     ]
    },
    {
     "name": "stderr",
     "output_type": "stream",
     "text": [
      "100%|██████████| 1500/1500 [12:52:01<00:00, 30.88s/it]\n"
     ]
    }
   ],
   "source": [
    "opt.epochs = 1500\n",
    "TotLoss = lambda pred,label: ((pred-label)**2).mean()\n",
    "optimizer, scheduler = opt_strategy(model, opt)\n",
    "train_log, test_log, lr_log = train(model, optimizer, scheduler, opt, dataset_train, device_train,\n",
    "                                           dataset_test, res_trans, ckpt_name, TotLoss=TotLoss)\n",
    "if not os.path.exists(opt.load_model_path):\n",
    "    save(model, opt.modelpath, ckpt_name)\n",
    "plt.plot(np.mean(train_log.reshape(-1,opt.batch_size),axis=-1));plt.yscale(\"log\");plt.show()"
   ]
  },
  {
   "cell_type": "code",
   "execution_count": 7,
   "metadata": {
    "scrolled": true
   },
   "outputs": [
    {
     "name": "stdout",
     "output_type": "stream",
     "text": [
      "Net Initialized\n",
      "!Model load from  ./Ckpts/FNO.pth\n",
      "<bound method Module.parameters of FNO(\n",
      "  (dsp): Sequential(\n",
      "    (0): Conv3d(1, 1, kernel_size=(3, 3, 3), stride=(1, 2, 2), padding=(1, 1, 1), padding_mode=replicate)\n",
      "  )\n",
      "  (fn0): Sequential(\n",
      "    (0): Linear(in_features=1, out_features=25, bias=True)\n",
      "  )\n",
      "  (activation): LeakyReLU(negative_slope=0.01, inplace=True)\n",
      "  (conv1): SpectralConv3d()\n",
      "  (w1): Sequential(\n",
      "    (0): Conv3d(25, 25, kernel_size=(1, 1, 1), stride=(1, 1, 1))\n",
      "  )\n",
      "  (fn1): Sequential(\n",
      "    (0): Linear(in_features=25, out_features=64, bias=True)\n",
      "  )\n",
      "  (fn2): Sequential(\n",
      "    (0): Linear(in_features=64, out_features=1, bias=True)\n",
      "  )\n",
      "  (usp): Sequential(\n",
      "    (0): Upsample(scale_factor=(1.0, 2.0, 2.0), mode=trilinear)\n",
      "  )\n",
      ")>\n",
      "allocated and reserved GPU memory: 3.7253170013427734, 3.736328125 (GiB)\n"
     ]
    },
    {
     "name": "stderr",
     "output_type": "stream",
     "text": [
      "\r",
      "  0%|          | 0/20 [00:00<?, ?it/s]"
     ]
    },
    {
     "name": "stdout",
     "output_type": "stream",
     "text": [
      "../dataset_train_v1/0080Acid_ini Read in 1.31 s\n",
      "../dataset_train_v1/0080Inhibitor Read in 0.14 s\n",
      "RMSE for label 0: [0.011 0.932]\n",
      "NMSE for label 0: [12.861  2.342]\n",
      "NMSE_height for label 0: [12.985  2.314]\n"
     ]
    },
    {
     "name": "stderr",
     "output_type": "stream",
     "text": [
      "<<<\n",
      "time:\t0.435044s\n",
      "<<<\n",
      "<<<\n",
      "time:\t0.422191s\n",
      "<<<\n"
     ]
    },
    {
     "name": "stdout",
     "output_type": "stream",
     "text": [
      "\n",
      "!Start to clear memory\n",
      "CD_x error at height 0:\n",
      " [-2.34  0.66  0.14 -0.98 -2.54  0.08  1.22 -4.88  0.44 -1.06  4.32 -0.18 -0.5   0.3   0.24 -0.22\n",
      "  0.88  0.4   0.62]\n",
      "CD_y error at height 0:\n",
      " [ 4.52 -0.04  0.04  0.1   0.26  0.38  0.02 -0.16  0.5   0.16  0.26  0.26 -0.04 -0.08  0.38 -0.04\n",
      " -0.02 -0.04  0.52]\n",
      "CD_x error at height 8:\n",
      " [-0.16 -0.26  2.76  0.36 -0.88  0.76 -0.34 -4.02  1.46 -0.4   1.16 -1.36  0.26 -1.    0.76  0.42\n",
      "  0.8   0.28 -0.32]\n",
      "CD_y error at height 8:\n",
      " [ 5.74  0.74 -0.04  0.38  0.18  0.46  0.4  -0.06  0.22  0.72  0.78  0.28 -0.02  0.16  0.08  0.22\n",
      "  0.14 -0.02  0.04]\n",
      "CD_x error at height 16:\n",
      " [-1.06 -3.   -0.06  3.76 -0.32 -0.38 -0.46 -0.56 -0.28 -0.   -3.36  0.08 -0.92 -0.7   0.52  0.78\n",
      "  1.04  0.06 -0.86]\n",
      "CD_y error at height 16:\n",
      " [ 4.26 -0.32  0.34  1.04 -0.28 -0.12  0.92  0.26  0.36  0.04 -0.06  1.46  0.24  0.82  0.1   1.\n",
      " -0.    0.2  -0.14]\n",
      "CD_x error at height 24:\n",
      " [-2.    1.78 -4.76  0.34  2.66  0.1   1.82 -1.74  0.14 -0.04 -4.1   3.04 -4.9  -2.56  0.14  1.96\n",
      "  0.22 -0.86  2.16]\n",
      "CD_y error at height 24:\n",
      " [ 2.94  0.4   0.94 -0.18  0.34 -0.04  0.1  -0.04 -0.2   0.04  0.06  0.2   1.86  0.04 -0.26  0.18\n",
      "  0.24 -0.42  0.18]\n",
      "CD_x error at height 32:\n",
      " [-1.34 -0.88 -1.08 -0.64 -3.04 -1.86 -0.44 -1.72 -1.44 -0.42 -5.06 -1.02 -3.84 -1.18 -1.44 -4.76\n",
      "  0.28  2.9   2.9 ]\n",
      "CD_y error at height 32:\n",
      " [ 7.12  1.08  0.32 -1.06 -0.18 -0.28 -0.26 -0.38 -0.6   0.16 -0.1   0.42  1.1   0.    0.38  0.2\n",
      "  0.3   0.46  0.16]\n",
      "CD_x error at height 40:\n",
      " [-2.52  2.02  3.84 -2.14 -1.14  0.86  0.68 -5.4  -0.26  1.22  3.46  2.08 -1.2  -2.42 -4.    1.8\n",
      " -0.62 -1.76  5.66]\n",
      "CD_y error at height 40:\n",
      " [ 8.    1.4   0.18 -0.08  0.    0.32 -0.04 -0.86 -0.18  0.06  0.2  -0.2   0.02 -1.    0.4   0.64\n",
      " -0.4   0.4  -0.06]\n",
      "CD_x error at height 48:\n",
      " [ 0.46 -2.74 -3.74 -3.22 -3.76  0.04 -4.18 -1.   -0.98 -6.02  2.62 -1.12 -0.6  -2.36 -0.96 -1.18\n",
      "  0.94  0.1   6.86]\n",
      "CD_y error at height 48:\n",
      " [ 7.86 -0.96 -1.94  0.64 -0.16  0.08 -0.12  1.26 -0.18  0.22 -1.02  5.4  -0.82  0.08 -0.22 -1.74\n",
      "  0.08 -0.26  0.28]\n",
      "CD_x error at height 56:\n",
      " [-0.14  0.54  0.56 -1.98 -2.   -0.7  -2.82 -3.78  1.44 -3.24 -1.38  0.06 -3.14 -3.58 -1.96 -5.3\n",
      "  0.2  -3.6   4.  ]\n",
      "CD_y error at height 56:\n",
      " [ 6.96 -2.38 -4.46 -2.28 -2.66 -0.06 -1.02 -0.68  0.06 -1.9   0.2   0.64 -4.52 -0.28 -2.2  -2.94\n",
      " -1.42  0.02  0.14]\n",
      "CD_x error at height 64:\n",
      " [-3.82 -0.66 -4.32 -5.5  -3.98 -2.04 -3.2  -5.04  0.18 -0.88  2.74 -0.2  -2.54 -3.82 -1.38 -3.8\n",
      " -0.04 -6.28  4.44]\n",
      "CD_y error at height 64:\n",
      " [ 7.16 -4.42 -4.42 -3.22 -2.72 -0.88  1.46 -2.6   0.02 -5.28  0.2  -5.68 -2.36 -2.84 -2.5  -3.96\n",
      " -3.76 -1.36  0.5 ]\n"
     ]
    },
    {
     "name": "stderr",
     "output_type": "stream",
     "text": [
      "\r",
      "  5%|▌         | 1/20 [45:00<14:15:01, 2700.08s/it]"
     ]
    },
    {
     "name": "stdout",
     "output_type": "stream",
     "text": [
      "Contact 18 in 72-CD_x_pred is redundant, with info [-956.038  927.496   10.06 ]\n",
      "CD_x error at height 72:\n",
      " [ -4.2     1.08   -5.18   -7.58   -5.04   -2.1    -3.5   -11.761   0.38   -6.12    2.74   -2.4\n",
      "  -8.52   -3.18   -2.2    -2.28   -0.22   -4.86   10.06 ]\n",
      "Contact 0 in 72-CD_y_pred is redundant, with info [-951.298  920.996   12.941]\n",
      "CD_y error at height 72:\n",
      " [ 12.941 -12.381  -8.94   -1.52   -1.84    0.4    -5.02   -4.3     3.6    -3.66    2.82  -10.32\n",
      "  -4.46   -3.28    0.68   -5.52   -5.94   -4.32   -0.06 ]\n",
      "CD_RMSE for label 0: [2.869 2.702]\n",
      "../dataset_train_v1/0081Acid_ini Read in 0.17 s\n",
      "../dataset_train_v1/0081Inhibitor Read in 0.16 s\n",
      "RMSE for label 1: [0.012 1.058]\n",
      "NMSE for label 1: [13.318  2.66 ]\n",
      "NMSE_height for label 1: [13.471  2.612]\n",
      "\n",
      "!Start to clear memory\n"
     ]
    },
    {
     "name": "stderr",
     "output_type": "stream",
     "text": [
      "<<<\n",
      "time:\t0.417681s\n",
      "<<<\n"
     ]
    },
    {
     "name": "stdout",
     "output_type": "stream",
     "text": [
      "\n",
      "!Start to clear memory\n"
     ]
    },
    {
     "name": "stderr",
     "output_type": "stream",
     "text": [
      "<<<\n",
      "time:\t0.452169s\n",
      "<<<\n"
     ]
    },
    {
     "name": "stdout",
     "output_type": "stream",
     "text": [
      "CD_x error at height 0:\n",
      " [ 0.16 -0.36 -0.24  1.42  0.04  0.72  0.12 -0.4  -0.46  3.66 -0.46  1.16  0.16  0.04 -1.16 -0.22\n",
      " -0.14 -0.72  0.06  3.54]\n",
      "CD_y error at height 0:\n",
      " [ 1.36  5.24  0.06  0.44  0.2   0.04 -0.02 -0.    0.06  0.16  0.08  0.5   0.    0.02  0.    0.08\n",
      "  0.1  -0.1   0.36  0.18]\n",
      "CD_x error at height 8:\n",
      " [ 4.04  0.58 -0.3   0.38 -0.74  4.36  0.26 -0.6  -0.44 -0.02  1.44  0.34  0.12  0.2  -1.6  -0.24\n",
      "  0.06 -0.16  0.42  3.36]\n",
      "CD_y error at height 8:\n",
      " [ 6.26  0.16  0.4   1.5   0.18 -0.52 -0.08  1.8  -0.02 -0.16  0.3   0.02 -0.18 -0.18  1.14  1.32\n",
      "  0.08  0.04  0.44 -0.16]\n",
      "CD_x error at height 16:\n",
      " [-0.9   0.82  3.4   0.18 -0.64  0.96  1.14  1.06  0.3  -0.26 -0.18  1.36 -0.9   0.5  -0.44  0.9\n",
      "  0.08 -0.02  0.16  3.56]\n",
      "CD_y error at height 16:\n",
      " [ 2.52 -0.06 -0.1  -0.12  0.1   0.24  0.04  1.18 -0.1   0.12  0.02  0.48 -0.12  0.08  0.92  0.28\n",
      "  0.16  0.12 -0.02 -0.4 ]\n",
      "CD_x error at height 24:\n",
      " [-1.16  0.18 -0.32  0.32 -0.12  1.    3.96  1.32  2.1   0.06 -0.76  0.08 -0.    0.76 -1.06  3.38\n",
      "  0.24  0.1   1.32  4.06]\n",
      "CD_y error at height 24:\n",
      " [ 4.24  0.06  0.02 -0.22  0.56  0.48 -0.24 -0.1   0.56  0.06  0.04 -0.48 -0.16  0.06 -0.28 -0.02\n",
      " -0.06 -0.06  0.42 -0.28]\n",
      "CD_x error at height 32:\n",
      " [ 4.76 -1.42  1.4  -3.86  1.26 -0.78 -0.08  3.04 -0.92 -3.34  1.04 -3.3   2.12 -3.94 -0.84  1.48\n",
      " -0.22  0.22 -3.7   2.92]\n",
      "CD_y error at height 32:\n",
      " [ 7.26 -0.02 -0.32 -0.    0.22  0.32 -0.8   0.06 -1.22 -0.04 -0.02  0.08 -0.4  -0.    0.14  0.24\n",
      " -0.04 -0.04 -0.22  0.22]\n",
      "CD_x error at height 40:\n",
      " [ 4.12  0.3  -2.14  0.1  -2.02  1.5  -3.72  3.08  0.72 -5.24 -3.34 -0.48  0.14  6.22 -4.56  3.12\n",
      " -0.42 -0.16 -4.24  6.  ]\n",
      "CD_y error at height 40:\n",
      " [ 6.    0.98  0.32 -0.02 -0.16 -0.48 -2.32 -0.52  0.44 -0.54  0.32  0.36  0.14  0.18  0.28 -0.56\n",
      "  0.02  1.58  0.04 -0.88]\n",
      "CD_x error at height 48:\n",
      " [ 0.16   0.64  -0.04  -3.8    1.44  -1.32  -1.76   0.6    0.56  -1.6    3.38   0.06   0.28  -2.24\n",
      "  3.9    2.62   0.1    0.24  -5.28  10.761]\n",
      "CD_y error at height 48:\n",
      " [ 7.48  0.4   0.14 -0.04  0.02 -0.38  0.9   0.32 -0.06  0.04  0.76 -0.18  0.74 -0.    1.58  0.12\n",
      " -0.08 -1.12 -0.86  0.58]\n",
      "CD_x error at height 56:\n",
      " [-0.76 -0.8  -0.04 -7.02 -2.96  3.   -2.54  0.32  2.7  -1.78  1.38 -2.5  -2.02 -4.36  1.1  -4.32\n",
      " -3.62 -0.   -1.68  7.58]\n",
      "CD_y error at height 56:\n",
      " [ 8.84  1.3  -2.9  -0.02  0.72  0.22 -0.06 -2.34 -3.9   0.16 -0.18 -1.76  0.62 -4.08 -1.44 -4.1\n",
      "  1.92 -2.52  1.2   3.54]\n",
      "CD_x error at height 64:\n",
      " [ 0.04 -0.14  0.28 -0.34  0.04  2.54 -2.82 -2.52  0.1  -1.28 -0.58 -1.38  0.06 -3.26 -0.82 -1.2\n",
      " -5.56  0.74 -0.58  4.94]\n",
      "CD_y error at height 64:\n",
      " [ 7.44  2.78 -4.7  -2.1   0.74  2.12 -2.98 -3.46 -1.54 -1.68 -0.98 -3.34 -0.98 -7.   -4.   -5.08\n",
      " -3.8   2.28  0.86  0.04]\n"
     ]
    },
    {
     "name": "stderr",
     "output_type": "stream",
     "text": [
      "\r",
      " 10%|█         | 2/20 [1:30:06<13:31:07, 2703.72s/it]"
     ]
    },
    {
     "name": "stdout",
     "output_type": "stream",
     "text": [
      "Contact 19 in 72-CD_x_pred is redundant, with info [-956.978  938.097    6.62 ]\n",
      "CD_x error at height 72:\n",
      " [ 3.96 -0.18  3.22 -5.84  0.36  4.28 -2.2  -1.22  0.8  -1.42  1.44 -3.42  0.78 -3.7  -2.28 -1.5\n",
      " -3.34  2.94 -0.5   6.62]\n",
      "Contact 0 in 72-CD_y_pred is redundant, with info [-953.298  934.197    8.04 ]\n",
      "CD_y error at height 72:\n",
      " [ 8.04  1.96 -1.42  1.76  0.36  4.36 -1.18  0.32 -3.52 -1.76 -0.04 -0.04 -1.54 -5.78 -4.18 -1.84\n",
      " -2.72  3.78  2.4   1.72]\n",
      "CD_RMSE for label 1: [2.46  2.107]\n",
      "../dataset_train_v1/0082Acid_ini Read in 0.16 s\n",
      "../dataset_train_v1/0082Inhibitor Read in 0.16 s\n",
      "RMSE for label 2: [0.006 0.411]\n",
      "NMSE for label 2: [9.991 1.031]\n",
      "NMSE_height for label 2: [10.076  0.989]\n",
      "\n",
      "!Start to clear memory\n"
     ]
    },
    {
     "name": "stderr",
     "output_type": "stream",
     "text": [
      "<<<\n",
      "time:\t0.428912s\n",
      "<<<\n"
     ]
    },
    {
     "name": "stdout",
     "output_type": "stream",
     "text": [
      "\n",
      "!Start to clear memory\n"
     ]
    },
    {
     "name": "stderr",
     "output_type": "stream",
     "text": [
      "<<<\n",
      "time:\t0.4154s\n",
      "<<<\n"
     ]
    },
    {
     "name": "stdout",
     "output_type": "stream",
     "text": [
      "CD_x error at height 0:\n",
      " [ 6.7  -2.36 -3.02 -2.06  1.48  4.38 -3.98 -0.56]\n",
      "CD_y error at height 0:\n",
      " [-0.04  0.2   0.12  0.26  0.28  0.28  0.34  0.12]\n",
      "CD_x error at height 8:\n",
      " [ 4.52  0.46 -1.76 -0.16  0.06  4.02 -1.58 -0.66]\n",
      "CD_y error at height 8:\n",
      " [-0.04 -0.06 -0.12 -0.1   0.14  0.48 -0.4  -0.18]\n",
      "CD_x error at height 16:\n",
      " [-3.64  4.84 -3.38  0.38 -1.02  6.   -3.    5.5 ]\n",
      "CD_y error at height 16:\n",
      " [0.18 0.06 0.1  0.5  0.06 0.12 0.44 0.06]\n",
      "CD_x error at height 24:\n",
      " [ 3.6  -0.04  1.26  5.2  -0.2  -3.68 -2.64 -1.18]\n",
      "CD_y error at height 24:\n",
      " [ 0.18 -0.2   1.16  0.78  0.38  0.1  -0.16 -0.12]\n",
      "CD_x error at height 32:\n",
      " [-0.54  0.36 -0.66 -0.38  0.36  7.82 -0.42  4.04]\n",
      "CD_y error at height 32:\n",
      " [ 0.48  1.28 -0.08  0.02  0.4  -0.06  0.42  0.26]\n",
      "CD_x error at height 40:\n",
      " [ 1.56 -0.18 -0.6   8.38 -1.5  -1.18 -1.66  0.12]\n",
      "CD_y error at height 40:\n",
      " [ 0.3   0.52  0.2   0.24  0.04 -0.26  0.44 -0.12]\n",
      "CD_x error at height 48:\n",
      " [ 0.38  2.68  0.76  2.12 -6.5   2.1  -0.12 -1.62]\n",
      "CD_y error at height 48:\n",
      " [ 2.82 -0.28 -0.24  0.56  0.54  0.1   0.26  0.44]\n",
      "CD_x error at height 56:\n",
      " [ 0.32 -0.08  0.16 -1.98  0.78  2.04  0.78  1.58]\n",
      "CD_y error at height 56:\n",
      " [-2.06 -0.54  0.66 -1.   -0.2   0.04 -0.72  0.06]\n",
      "CD_x error at height 64:\n",
      " [-1.1   0.06 -0.06  1.22 -5.98 -0.14 -3.8   0.12]\n",
      "CD_y error at height 64:\n",
      " [-0.98 -1.08  1.14 -0.54  0.   -3.    0.08 -0.14]\n"
     ]
    },
    {
     "name": "stderr",
     "output_type": "stream",
     "text": [
      "\r",
      " 15%|█▌        | 3/20 [2:14:41<12:42:18, 2690.50s/it]"
     ]
    },
    {
     "name": "stdout",
     "output_type": "stream",
     "text": [
      "CD_x error at height 72:\n",
      " [ 0.28 -0.92  4.44 -0.98 -0.18 -4.44 -1.    0.14]\n",
      "CD_y error at height 72:\n",
      " [-1.86  6.68 -4.04 -0.58  2.12 -0.48 -1.64  1.36]\n",
      "CD_RMSE for label 2: [2.871 1.167]\n",
      "../dataset_train_v1/0083Acid_ini Read in 0.15 s\n",
      "../dataset_train_v1/0083Inhibitor Read in 0.15 s\n",
      "RMSE for label 3: [0.012 1.044]\n",
      "NMSE for label 3: [14.595  2.62 ]\n",
      "NMSE_height for label 3: [15.116  2.607]\n"
     ]
    },
    {
     "name": "stderr",
     "output_type": "stream",
     "text": [
      "<<<\n",
      "time:\t0.397014s\n",
      "<<<\n"
     ]
    },
    {
     "name": "stdout",
     "output_type": "stream",
     "text": [
      "\n",
      "!Start to clear memory\n",
      "\n",
      "!Start to clear memory\n"
     ]
    },
    {
     "name": "stderr",
     "output_type": "stream",
     "text": [
      "<<<\n",
      "time:\t0.423707s\n",
      "<<<\n"
     ]
    },
    {
     "name": "stdout",
     "output_type": "stream",
     "text": [
      "CD_x error at height 0:\n",
      " [-0.56 -1.94 -0.84 -1.02  4.24 -3.84  5.16  1.22  0.04  0.24  0.46  0.22  0.92 -3.92  3.  ]\n",
      "CD_y error at height 0:\n",
      " [ 0.06  0.04 -0.02  0.66  0.02  0.32  0.14  0.06  0.08  0.02  0.42  0.16 -0.08  0.08  0.08]\n",
      "CD_x error at height 8:\n",
      " [-0.04  0.14 -0.82 -1.18 -0.7   3.   -3.88  0.12 -0.14  0.38  0.08  0.46 -0.04 -0.76 -0.06]\n",
      "CD_y error at height 8:\n",
      " [ 0.16 -0.76 -0.08 -0.82  0.14  0.08 -0.18 -0.22 -0.7  -0.4  -0.68 -0.1  -0.18 -0.04 -0.18]\n",
      "CD_x error at height 16:\n",
      " [ 0.04 -1.04 -0.5  -1.06  0.1   3.1  -4.08 -0.24 -0.34 -0.4   0.22  0.62 -0.42 -2.3  -1.78]\n",
      "CD_y error at height 16:\n",
      " [ 0.28 -0.24  0.14 -0.18  0.28  1.18  0.22  0.34  0.26  0.12  0.04  0.08 -0.2  -0.44 -0.1 ]\n",
      "CD_x error at height 24:\n",
      " [ 4.   -0.58 -3.48 -0.82  3.32 -4.5   3.22 -1.38  0.32 -0.22 -5.16  0.78 -1.54 -3.72 -3.74]\n",
      "CD_y error at height 24:\n",
      " [ 0.    0.5  -0.02 -0.56  0.56 -0.16  0.64 -0.12 -0.74 -0.44 -0.3   0.02 -0.8  -0.02  0.04]\n",
      "CD_x error at height 32:\n",
      " [ 0.62 -0.24 -0.1   0.84 -0.48 -0.44 -1.4   4.34 -1.78 -3.6  -4.58 -1.26 -0.48  0.06 -1.72]\n",
      "CD_y error at height 32:\n",
      " [ 1.32 -0.   -0.    0.84 -0.12  0.18 -0.16  0.28 -0.02  0.1   0.06  0.22  0.64 -0.1  -0.54]\n",
      "CD_x error at height 40:\n",
      " [ 2.96 -4.12 -3.02 -1.6   2.26 -4.12  0.02  9.04 -0.9   2.32 -5.48 -1.22 -4.24 -4.44 -2.38]\n",
      "CD_y error at height 40:\n",
      " [-1.02  0.02 -0.16  0.54 -1.46  0.18  0.42  0.24 -0.2  -1.22  0.02  0.94  0.08  0.02 -0.06]\n",
      "CD_x error at height 48:\n",
      " [ 3.54 -4.1  -0.86 -3.92  4.38  0.88 -4.48  1.16 -4.3   0.56 -1.12 -1.92 -0.16  0.06 -2.4 ]\n",
      "CD_y error at height 48:\n",
      " [-2.92  0.16 -0.48 -2.94 -0.1   1.08 -3.52  0.34  3.26  0.36  0.02 -0.6  -0.22 -3.34  0.04]\n",
      "CD_x error at height 56:\n",
      " [ 2.5  -1.72 -1.12 -3.12 -0.48 -4.64  0.44 -1.32 -4.74 -6.1  -1.24 -0.98  4.26 -0.62 -0.04]\n",
      "CD_y error at height 56:\n",
      " [-4.12  -3.54  -3.1   -7.16  -2.78   0.6   -8.161  0.24   1.66  -0.04  -0.1   -3.36  -0.32  -2.64\n",
      " -5.02 ]\n",
      "CD_x error at height 64:\n",
      " [ 3.94 -5.4  -5.08 -0.44  4.86 -6.98  0.78 -0.26 -5.62 -1.08 -0.98 -3.44 -3.3  -3.38 -5.84]\n",
      "CD_y error at height 64:\n",
      " [ -6.34   -4.32   -7.2   -12.26   -2.2     0.3   -12.021  -1.84   -0.44   -5.48   -4.96   -0.5\n",
      "  -7.78   -7.08   -5.82 ]\n"
     ]
    },
    {
     "name": "stderr",
     "output_type": "stream",
     "text": [
      "\r",
      " 20%|██        | 4/20 [2:59:41<11:58:27, 2694.24s/it]"
     ]
    },
    {
     "name": "stdout",
     "output_type": "stream",
     "text": [
      "CD_x error at height 72:\n",
      " [  6.52   -7.72   -7.64   -3.06    6.56  -12.781  -3.18   -2.56   -6.86   -5.12   -2.84   -3.04\n",
      "  -0.22   -4.16  -11.12 ]\n",
      "CD_y error at height 72:\n",
      " [ -5.56   -5.3   -12.981 -16.901  -5.3     4.38  -13.081  -4.54    1.16  -10.881  -4.54    4.9\n",
      "  -9.24   -8.96   -3.08 ]\n",
      "CD_RMSE for label 3: [3.353 3.64 ]\n",
      "../dataset_train_v1/0084Acid_ini Read in 0.16 s\n",
      "../dataset_train_v1/0084Inhibitor Read in 0.15 s\n",
      "RMSE for label 4: [0.004 0.27 ]\n",
      "NMSE for label 4: [10.263  0.675]\n",
      "NMSE_height for label 4: [9.808 0.625]\n"
     ]
    },
    {
     "name": "stderr",
     "output_type": "stream",
     "text": [
      "<<<\n",
      "time:\t0.398631s\n",
      "<<<\n"
     ]
    },
    {
     "name": "stdout",
     "output_type": "stream",
     "text": [
      "\n",
      "!Start to clear memory\n",
      "\n",
      "!Start to clear memory\n"
     ]
    },
    {
     "name": "stderr",
     "output_type": "stream",
     "text": [
      "<<<\n",
      "time:\t0.431606s\n",
      "<<<\n"
     ]
    },
    {
     "name": "stdout",
     "output_type": "stream",
     "text": [
      "CD_x error at height 0:\n",
      " [-0.06  3.58 -2.4 ]\n",
      "CD_y error at height 0:\n",
      " [0.16 0.26 0.26]\n",
      "CD_x error at height 8:\n",
      " [0.2  2.16 1.28]\n",
      "CD_y error at height 8:\n",
      " [ 0.2  -0.14  0.14]\n",
      "CD_x error at height 16:\n",
      " [ 0.06  3.08 -1.9 ]\n",
      "CD_y error at height 16:\n",
      " [0.2  0.1  0.04]\n",
      "CD_x error at height 24:\n",
      " [ 0.02  0.12 -3.96]\n",
      "CD_y error at height 24:\n",
      " [-0.24  0.26  0.44]\n",
      "CD_x error at height 32:\n",
      " [-0.68  7.08  0.1 ]\n",
      "CD_y error at height 32:\n",
      " [ 0.2   0.04 -0.44]\n",
      "CD_x error at height 40:\n",
      " [-0.14 -0.34 -1.12]\n",
      "CD_y error at height 40:\n",
      " [-0.12  0.14  0.36]\n",
      "CD_x error at height 48:\n",
      " [-0.   -3.52 -3.64]\n",
      "CD_y error at height 48:\n",
      " [ 0.3   0.4  -0.86]\n",
      "CD_x error at height 56:\n",
      " [-2.18  2.12 -1.88]\n",
      "CD_y error at height 56:\n",
      " [-1.08  0.08 -0.06]\n",
      "CD_x error at height 64:\n",
      " [-3.14  1.12 -4.08]\n",
      "CD_y error at height 64:\n",
      " [-0.88 -2.5  -2.28]\n"
     ]
    },
    {
     "name": "stderr",
     "output_type": "stream",
     "text": [
      "\r",
      " 25%|██▌       | 5/20 [3:44:13<11:11:33, 2686.23s/it]"
     ]
    },
    {
     "name": "stdout",
     "output_type": "stream",
     "text": [
      "CD_x error at height 72:\n",
      " [-4.12 -0.16 -2.5 ]\n",
      "CD_y error at height 72:\n",
      " [-3.78 -0.88 -1.8 ]\n",
      "CD_RMSE for label 4: [2.551 1.06 ]\n",
      "../dataset_train_v1/0085Acid_ini Read in 0.15 s\n",
      "../dataset_train_v1/0085Inhibitor Read in 0.15 s\n",
      "RMSE for label 5: [0.006 0.494]\n",
      "NMSE for label 5: [9.584 1.239]\n",
      "NMSE_height for label 5: [9.51  1.208]\n",
      "\n",
      "!Start to clear memory\n"
     ]
    },
    {
     "name": "stderr",
     "output_type": "stream",
     "text": [
      "<<<\n",
      "time:\t0.44804s\n",
      "<<<\n"
     ]
    },
    {
     "name": "stdout",
     "output_type": "stream",
     "text": [
      "\n",
      "!Start to clear memory\n"
     ]
    },
    {
     "name": "stderr",
     "output_type": "stream",
     "text": [
      "<<<\n",
      "time:\t0.427078s\n",
      "<<<\n"
     ]
    },
    {
     "name": "stdout",
     "output_type": "stream",
     "text": [
      "CD_x error at height 0:\n",
      " [ 0.5   0.2   2.58  3.5   0.04  0.1  -0.32 -1.28  0.12  0.22]\n",
      "CD_y error at height 0:\n",
      " [ 0.46  0.26 -0.26  0.38 -0.08  1.26 -0.16  0.14 -0.18 -0.04]\n",
      "CD_x error at height 8:\n",
      " [-0.12  7.14  0.86  3.3   0.56  0.36  0.1   0.16 -2.68 -0.14]\n",
      "CD_y error at height 8:\n",
      " [ 0.18  0.86  0.    0.02 -0.12  0.92  0.2   0.04 -0.36  0.24]\n",
      "CD_x error at height 16:\n",
      " [ 2.16 -0.44 -2.26 -0.04  0.04  0.1   1.76  0.52  1.86  0.36]\n",
      "CD_y error at height 16:\n",
      " [-0.34  0.86  0.04  0.18 -0.14 -0.08 -0.5   0.52 -0.56  0.06]\n",
      "CD_x error at height 24:\n",
      " [ 0.06 -3.88  0.36  4.84 -0.   -0.14 -1.04  0.74  2.   -0.04]\n",
      "CD_y error at height 24:\n",
      " [ 1.26 -0.62  0.44 -0.16 -0.3  -0.08  0.38  0.22  0.62  0.36]\n",
      "CD_x error at height 32:\n",
      " [-3.6  -1.72 -0.18  5.28  0.42 -0.26  0.44 -0.34 -0.    0.12]\n",
      "CD_y error at height 32:\n",
      " [ 0.56  0.3  -0.38 -0.62 -0.1   0.2  -0.96 -0.36 -0.92 -0.42]\n",
      "CD_x error at height 40:\n",
      " [-3.2   2.64 -2.98  2.28  1.16  0.08  1.18 -4.18 -2.5   2.36]\n",
      "CD_y error at height 40:\n",
      " [ 1.02 -0.14 -0.4   0.12  0.06 -0.7   0.32 -0.46  0.8   0.66]\n",
      "CD_x error at height 48:\n",
      " [-2.56 -3.88 -0.34  0.18 -1.14  4.04 -3.46 -1.74 -0.04  0.7 ]\n",
      "CD_y error at height 48:\n",
      " [-0.16  0.06  1.18  0.9   0.   -0.06  0.18 -1.04  0.22  0.08]\n",
      "CD_x error at height 56:\n",
      " [-0.96 -3.16  0.    2.3  -0.06 -3.   -0.64 -0.08 -0.14 -1.66]\n",
      "CD_y error at height 56:\n",
      " [-0.58 -0.4   0.32 -0.78  0.9   2.66  0.56  0.32 -0.92 -0.82]\n",
      "CD_x error at height 64:\n",
      " [-0.86  0.02 -5.88  0.84  0.3  -0.7  -0.12 -0.8  -0.36 -0.8 ]\n",
      "CD_y error at height 64:\n",
      " [-1.08 -1.46 -0.22 -0.4   0.42 -0.04  0.9  -0.42 -3.76 -2.  ]\n"
     ]
    },
    {
     "name": "stderr",
     "output_type": "stream",
     "text": [
      "\r",
      " 30%|███       | 6/20 [4:27:34<10:20:02, 2657.35s/it]"
     ]
    },
    {
     "name": "stdout",
     "output_type": "stream",
     "text": [
      "CD_x error at height 72:\n",
      " [ 0.28 -7.4   1.02 -0.22  0.96 -2.24  0.16 -0.32 -5.68 -3.74]\n",
      "CD_y error at height 72:\n",
      " [ 1.04 -3.1   2.82  2.22 -4.32  4.1  -0.44 -5.48 -7.76  0.7 ]\n",
      "CD_RMSE for label 5: [2.213 1.422]\n",
      "../dataset_train_v1/0086Acid_ini Read in 0.15 s\n",
      "../dataset_train_v1/0086Inhibitor Read in 0.16 s\n",
      "RMSE for label 6: [0.005 0.362]\n",
      "NMSE for label 6: [16.135  0.906]\n",
      "NMSE_height for label 6: [16.03   0.884]\n",
      "\n",
      "!Start to clear memory\n"
     ]
    },
    {
     "name": "stderr",
     "output_type": "stream",
     "text": [
      "<<<\n",
      "time:\t0.404462s\n",
      "<<<\n",
      "<<<\n",
      "time:\t0.385611s\n",
      "<<<\n"
     ]
    },
    {
     "name": "stdout",
     "output_type": "stream",
     "text": [
      "\n",
      "!Start to clear memory\n",
      "CD_x error at height 0:\n",
      " [0.94 0.34 3.08]\n",
      "CD_y error at height 0:\n",
      " [-6.18  0.18  0.22]\n",
      "CD_x error at height 8:\n",
      " [-0.06  0.08  6.52]\n",
      "CD_y error at height 8:\n",
      " [-4.64 -0.36 -0.04]\n",
      "CD_x error at height 16:\n",
      " [ 0.52 -0.46  6.54]\n",
      "CD_y error at height 16:\n",
      " [-4.7   0.26  1.24]\n",
      "CD_x error at height 24:\n",
      " [ 1.2  -0.28  4.  ]\n",
      "CD_y error at height 24:\n",
      " [-1.62  0.08  1.4 ]\n",
      "CD_x error at height 32:\n",
      " [1.06 0.52 6.12]\n",
      "CD_y error at height 32:\n",
      " [-0.74  0.48  0.76]\n",
      "CD_x error at height 40:\n",
      " [-1.56   0.06   8.48  21.621]\n",
      "CD_y error at height 40:\n",
      " [-0.66 -0.24  0.12]\n",
      "CD_x error at height 48:\n",
      " [-2.66  0.3   4.28]\n",
      "CD_y error at height 48:\n",
      " [-0.34 -0.02  2.6 ]\n",
      "CD_x error at height 56:\n",
      " [-1.16 -0.62  3.76]\n",
      "CD_y error at height 56:\n",
      " [-0.6   0.28  3.18]\n",
      "CD_x error at height 64:\n",
      " [-1.16  0.14 -2.5 ]\n",
      "CD_y error at height 64:\n",
      " [-5.06 -1.32  0.4 ]\n"
     ]
    },
    {
     "name": "stderr",
     "output_type": "stream",
     "text": [
      "\r",
      " 35%|███▌      | 7/20 [5:11:04<9:32:24, 2641.92s/it] "
     ]
    },
    {
     "name": "stdout",
     "output_type": "stream",
     "text": [
      "CD_x error at height 72:\n",
      " [-0.24 -0.48]\n",
      "CD_y error at height 72:\n",
      " [-0.02  1.64]\n",
      "CD_RMSE for label 6: [4.979 2.179]\n",
      "../dataset_train_v1/0087Acid_ini Read in 0.16 s\n",
      "../dataset_train_v1/0087Inhibitor Read in 0.17 s\n",
      "RMSE for label 7: [0.004 0.301]\n",
      "NMSE for label 7: [11.603  0.754]\n",
      "NMSE_height for label 7: [11.749  0.718]\n",
      "\n",
      "!Start to clear memory\n"
     ]
    },
    {
     "name": "stderr",
     "output_type": "stream",
     "text": [
      "<<<\n",
      "time:\t0.399267s\n",
      "<<<\n"
     ]
    },
    {
     "name": "stdout",
     "output_type": "stream",
     "text": [
      "\n",
      "!Start to clear memory\n"
     ]
    },
    {
     "name": "stderr",
     "output_type": "stream",
     "text": [
      "<<<\n",
      "time:\t0.425486s\n",
      "<<<\n"
     ]
    },
    {
     "name": "stdout",
     "output_type": "stream",
     "text": [
      "CD_x error at height 0:\n",
      " [-0.26  0.22 -0.06]\n",
      "CD_y error at height 0:\n",
      " [ 1.04  0.02 -0.06]\n",
      "CD_x error at height 8:\n",
      " [ 0.06  0.1  -3.34]\n",
      "CD_y error at height 8:\n",
      " [ 0.3  -0.46 -0.28]\n",
      "CD_x error at height 16:\n",
      " [-0.34  0.1  -0.12]\n",
      "CD_y error at height 16:\n",
      " [0.92 0.08 0.48]\n",
      "CD_x error at height 24:\n",
      " [ 1.3   0.16 -0.32]\n",
      "CD_y error at height 24:\n",
      " [ 0.3   0.42 -0.16]\n",
      "CD_x error at height 32:\n",
      " [ 0.82  0.44 -0.08]\n",
      "CD_y error at height 32:\n",
      " [-0.12 -0.08 -0.3 ]\n",
      "CD_x error at height 40:\n",
      " [ 0.56 -0.18  4.3 ]\n",
      "CD_y error at height 40:\n",
      " [ 0.14  0.42 -0.66]\n",
      "CD_x error at height 48:\n",
      " [1.3  0.36 0.36]\n",
      "CD_y error at height 48:\n",
      " [ 0.2  -0.12 -0.2 ]\n",
      "CD_x error at height 56:\n",
      " [ 1.36  0.52 -2.4 ]\n",
      "CD_y error at height 56:\n",
      " [ 3.36 -0.08 -0.32]\n",
      "CD_x error at height 64:\n",
      " [ 2.7  -0.94 -0.5 ]\n",
      "CD_y error at height 64:\n",
      " [ 0.86 -0.18 -3.52]\n"
     ]
    },
    {
     "name": "stderr",
     "output_type": "stream",
     "text": [
      "\r",
      " 40%|████      | 8/20 [5:54:20<8:45:28, 2627.42s/it]"
     ]
    },
    {
     "name": "stdout",
     "output_type": "stream",
     "text": [
      "CD_x error at height 72:\n",
      " [ 1.86 -1.02 -0.48]\n",
      "CD_y error at height 72:\n",
      " [ 1.52 -0.46 -2.08]\n",
      "CD_RMSE for label 7: [1.366 1.082]\n",
      "../dataset_train_v1/0088Acid_ini Read in 0.17 s\n",
      "../dataset_train_v1/0088Inhibitor Read in 0.16 s\n",
      "RMSE for label 8: [0.005 0.352]\n",
      "NMSE for label 8: [9.769 0.881]\n",
      "NMSE_height for label 8: [9.957 0.821]\n"
     ]
    },
    {
     "name": "stderr",
     "output_type": "stream",
     "text": [
      "<<<\n",
      "time:\t0.409457s\n",
      "<<<\n"
     ]
    },
    {
     "name": "stdout",
     "output_type": "stream",
     "text": [
      "\n",
      "!Start to clear memory\n",
      "\n",
      "!Start to clear memory\n"
     ]
    },
    {
     "name": "stderr",
     "output_type": "stream",
     "text": [
      "<<<\n",
      "time:\t0.406881s\n",
      "<<<\n"
     ]
    },
    {
     "name": "stdout",
     "output_type": "stream",
     "text": [
      "CD_x error at height 0:\n",
      " [-0.44 -0.58 -0.2   0.14  1.3  -0.78]\n",
      "CD_y error at height 0:\n",
      " [ 0.74 -0.24  0.06  0.04 -0.08 -0.08]\n",
      "CD_x error at height 8:\n",
      " [-0.2  -1.06 -0.1   0.38  1.1   0.08]\n",
      "CD_y error at height 8:\n",
      " [0.3  0.24 0.08 0.42 0.4  0.2 ]\n",
      "CD_x error at height 16:\n",
      " [-2.08 -0.28  1.22  0.6   3.26 -0.26]\n",
      "CD_y error at height 16:\n",
      " [ 0.3  -0.34  0.26 -0.1   0.76  0.24]\n",
      "CD_x error at height 24:\n",
      " [ 4.14  0.02 -0.6   0.58  3.74  4.26]\n",
      "CD_y error at height 24:\n",
      " [-0.18  0.04  0.14  0.04  0.3   0.12]\n",
      "CD_x error at height 32:\n",
      " [ 0.84  1.18  0.02  0.02  5.3  -0.94]\n",
      "CD_y error at height 32:\n",
      " [-0.12  0.06  0.38  0.18 -0.1   0.06]\n",
      "CD_x error at height 40:\n",
      " [ 0.94  0.98  0.78 -0.9   5.48 -0.36]\n",
      "CD_y error at height 40:\n",
      " [-0.18  0.34 -0.02 -0.58 -0.12 -0.36]\n",
      "CD_x error at height 48:\n",
      " [ 0.12  3.    3.64  0.66  3.82 -2.36]\n",
      "CD_y error at height 48:\n",
      " [ 0.08 -0.04 -0.08 -1.18 -0.52 -0.24]\n",
      "CD_x error at height 56:\n",
      " [ 4.58  1.   -1.06  2.62  1.68  0.2 ]\n",
      "CD_y error at height 56:\n",
      " [-0.22 -0.06  0.5  -0.3   0.08  0.68]\n",
      "CD_x error at height 64:\n",
      " [ 1.84  0.14  0.32 -0.1  -0.22 -2.5 ]\n",
      "CD_y error at height 64:\n",
      " [ 0.84 -0.12  0.02 -0.46 -0.9   2.5 ]\n"
     ]
    },
    {
     "name": "stderr",
     "output_type": "stream",
     "text": [
      "\r",
      " 45%|████▌     | 9/20 [6:37:34<7:59:44, 2616.74s/it]"
     ]
    },
    {
     "name": "stdout",
     "output_type": "stream",
     "text": [
      "CD_x error at height 72:\n",
      " [ 2.98  1.04  1.66  0.06 -2.76 -3.34]\n",
      "CD_y error at height 72:\n",
      " [ 4.46  2.    0.64 -0.96  0.7   0.66]\n",
      "CD_RMSE for label 8: [2.057 0.815]\n",
      "../dataset_train_v1/0089Acid_ini Read in 0.16 s\n",
      "../dataset_train_v1/0089Inhibitor Read in 0.16 s\n",
      "RMSE for label 9: [0.005 0.424]\n",
      "NMSE for label 9: [9.864 1.062]\n",
      "NMSE_height for label 9: [9.671 1.017]\n"
     ]
    },
    {
     "name": "stderr",
     "output_type": "stream",
     "text": [
      "<<<\n",
      "time:\t0.398045s\n",
      "<<<\n"
     ]
    },
    {
     "name": "stdout",
     "output_type": "stream",
     "text": [
      "\n",
      "!Start to clear memory\n",
      "\n",
      "!Start to clear memory\n"
     ]
    },
    {
     "name": "stderr",
     "output_type": "stream",
     "text": [
      "<<<\n",
      "time:\t0.442073s\n",
      "<<<\n"
     ]
    },
    {
     "name": "stdout",
     "output_type": "stream",
     "text": [
      "CD_x error at height 0:\n",
      " [ 2.16  0.06 -0.6   0.1  -0.44  2.42  0.14]\n",
      "CD_y error at height 0:\n",
      " [-0.06  0.56 -0.88  0.1  -0.54  0.7   0.22]\n",
      "CD_x error at height 8:\n",
      " [ 3.4  -1.6   0.76  0.26 -1.24 -0.6   0.42]\n",
      "CD_y error at height 8:\n",
      " [-0.18 -0.54  0.9   0.3   0.32  0.32  0.04]\n",
      "CD_x error at height 16:\n",
      " [ 4.78  4.16  2.68  0.04  0.6  -0.88 -0.  ]\n",
      "CD_y error at height 16:\n",
      " [-0.1  -0.26 -0.    0.34  0.52 -0.72 -0.34]\n",
      "CD_x error at height 24:\n",
      " [ 3.7   5.2  -0.48 -0.   -0.44  0.38 -0.06]\n",
      "CD_y error at height 24:\n",
      " [ 0.9  -0.06 -0.46  0.08  0.8  -0.3  -0.18]\n",
      "CD_x error at height 32:\n",
      " [ 5.36 -2.1  -0.3   0.18 -4.7   0.76 -0.08]\n",
      "CD_y error at height 32:\n",
      " [-0.12 -0.2   0.06  0.26 -0.04  0.44  0.12]\n",
      "CD_x error at height 40:\n",
      " [ 0.76  0.16  2.12  1.02 -0.98 -0.98  3.98]\n",
      "CD_y error at height 40:\n",
      " [ 0.28  0.16  0.82  0.1  -0.04 -0.12  0.5 ]\n",
      "CD_x error at height 48:\n",
      " [ 1.   -0.96  0.52 -3.2  -2.26 -2.04 -0.28]\n",
      "CD_y error at height 48:\n",
      " [ 0.2  -0.32 -0.18  2.88  0.06 -0.18  0.28]\n",
      "CD_x error at height 56:\n",
      " [ 1.86  0.12  0.06 -0.28 -0.98 -1.38  2.16]\n",
      "CD_y error at height 56:\n",
      " [ 0.3   0.02 -0.02 -0.64  0.78 -0.1   0.4 ]\n",
      "CD_x error at height 64:\n",
      " [-0.4   0.44  0.2   0.22  0.12  0.16  0.72]\n",
      "CD_y error at height 64:\n",
      " [ 0.72  0.48  0.58  0.2   0.32 -3.26 -0.46]\n"
     ]
    },
    {
     "name": "stderr",
     "output_type": "stream",
     "text": [
      "\r",
      " 50%|█████     | 10/20 [7:20:59<7:15:32, 2613.21s/it]"
     ]
    },
    {
     "name": "stdout",
     "output_type": "stream",
     "text": [
      "CD_x error at height 72:\n",
      " [-0.14  0.26  0.5  -1.06  0.58 -0.86 -0.46]\n",
      "CD_y error at height 72:\n",
      " [-0.96  0.6   2.7   2.78  0.38  0.02 -0.88]\n",
      "CD_RMSE for label 9: [1.829 0.818]\n",
      "../dataset_train_v1/0090Acid_ini Read in 0.15 s\n",
      "../dataset_train_v1/0090Inhibitor Read in 0.16 s\n",
      "RMSE for label 10: [0.007 0.605]\n",
      "NMSE for label 10: [12.361  1.516]\n",
      "NMSE_height for label 10: [12.34   1.474]\n",
      "\n",
      "!Start to clear memory\n"
     ]
    },
    {
     "name": "stderr",
     "output_type": "stream",
     "text": [
      "<<<\n",
      "time:\t0.413913s\n",
      "<<<\n",
      "<<<\n",
      "time:\t0.420646s\n",
      "<<<\n"
     ]
    },
    {
     "name": "stdout",
     "output_type": "stream",
     "text": [
      "\n",
      "!Start to clear memory\n",
      "CD_x error at height 0:\n",
      " [-1.54 -1.06 -0.78  0.66 -0.    0.36  0.06  1.16]\n",
      "CD_y error at height 0:\n",
      " [ 0.86 -0.22 -0.06  0.5   0.1  -0.18  0.22  0.2 ]\n",
      "CD_x error at height 8:\n",
      " [ 0.18 -1.12  2.06  1.38  0.2   0.74 -0.18  2.  ]\n",
      "CD_y error at height 8:\n",
      " [ 0.08 -0.1  -0.26  0.66 -0.14 -0.06  0.04 -0.06]\n",
      "CD_x error at height 16:\n",
      " [-0.44 -1.08 -0.6  -0.44 -0.08  4.04  0.02  1.58]\n",
      "CD_y error at height 16:\n",
      " [ 0.2   0.12  0.06 -0.54 -0.02 -0.62  0.3   0.04]\n",
      "CD_x error at height 24:\n",
      " [-0.28  0.7  -1.78  0.02 -1.9   0.76  2.7  -4.92]\n",
      "CD_y error at height 24:\n",
      " [-0.14 -0.04  0.08  0.14 -0.    0.38 -0.42  2.16]\n",
      "CD_x error at height 32:\n",
      " [ 2.9   2.3  -1.96  0.22 -0.04  0.56  2.94 -4.22]\n",
      "CD_y error at height 32:\n",
      " [-0.14  0.32 -0.82  0.38  0.04  0.36  0.08 -0.14]\n",
      "CD_x error at height 40:\n",
      " [ 1.62  0.84 -5.8  -1.72 -0.76 -3.36 -0.5  -3.66]\n",
      "CD_y error at height 40:\n",
      " [-0.02  0.18  1.14  0.14  0.16  0.8   0.26 -1.12]\n",
      "CD_x error at height 48:\n",
      " [ 0.58 -1.    1.4   1.04  1.14 -1.56 -3.78  0.8 ]\n",
      "CD_y error at height 48:\n",
      " [-0.06  2.56 -0.04 -1.14 -0.08  0.22  0.26 -0.52]\n",
      "CD_x error at height 56:\n",
      " [-0.18  1.28 -6.86  0.72 -0.28  0.28 -1.   -3.68]\n",
      "CD_y error at height 56:\n",
      " [ 0.44  0.32 -0.2  -4.    0.06 -0.02 -3.16 -2.4 ]\n",
      "CD_x error at height 64:\n",
      " [-1.52  0.16 -7.12  0.38 -2.4  -2.52 -0.68 -0.94]\n",
      "CD_y error at height 64:\n",
      " [ 0.18 -2.98 -1.62 -4.46 -1.26 -2.02 -4.52 -3.04]\n"
     ]
    },
    {
     "name": "stderr",
     "output_type": "stream",
     "text": [
      "\r",
      " 55%|█████▌    | 11/20 [8:04:33<6:32:01, 2613.51s/it]"
     ]
    },
    {
     "name": "stdout",
     "output_type": "stream",
     "text": [
      "CD_x error at height 72:\n",
      " [ 1.92 -0.78 -7.92 -0.96  0.88 -2.66  1.58  0.1 ]\n",
      "CD_y error at height 72:\n",
      " [ 2.08  0.1  -0.62 -2.16 -4.3  -3.   -6.44  0.4 ]\n",
      "CD_RMSE for label 10: [2.291 1.572]\n",
      "../dataset_train_v1/0091Acid_ini Read in 0.16 s\n",
      "../dataset_train_v1/0091Inhibitor Read in 0.16 s\n",
      "RMSE for label 11: [0.007 0.586]\n",
      "NMSE for label 11: [10.521  1.47 ]\n",
      "NMSE_height for label 11: [10.63   1.447]\n",
      "\n",
      "!Start to clear memory\n"
     ]
    },
    {
     "name": "stderr",
     "output_type": "stream",
     "text": [
      "<<<\n",
      "time:\t0.413964s\n",
      "<<<\n"
     ]
    },
    {
     "name": "stdout",
     "output_type": "stream",
     "text": [
      "\n",
      "!Start to clear memory\n"
     ]
    },
    {
     "name": "stderr",
     "output_type": "stream",
     "text": [
      "<<<\n",
      "time:\t0.437565s\n",
      "<<<\n"
     ]
    },
    {
     "name": "stdout",
     "output_type": "stream",
     "text": [
      "CD_x error at height 0:\n",
      " [-0.22 -0.02  0.3  -0.8   0.16 -0.48 -0.04  3.58 -0.24  0.1   1.14]\n",
      "CD_y error at height 0:\n",
      " [-0.06  0.38  0.08  0.44  0.66  0.16  0.96  0.26  0.04  0.32 -0.14]\n",
      "CD_x error at height 8:\n",
      " [-0.08  2.22  1.6  -0.32  0.88  4.96 -0.04 -0.28 -0.54  0.04 -0.14]\n",
      "CD_y error at height 8:\n",
      " [ 1.8  -0.04  0.3   0.08  0.06 -0.02  1.76  0.5  -0.02  0.18  0.56]\n",
      "CD_x error at height 16:\n",
      " [-1.44 -0.18  5.66  0.04  0.02  2.76  0.48  0.06 -0.14  0.62  1.06]\n",
      "CD_y error at height 16:\n",
      " [-0.5  -0.14  0.16  0.08  1.5   0.98  0.18 -0.34 -0.16 -0.    0.62]\n",
      "CD_x error at height 24:\n",
      " [-0.16  3.28  0.08 -0.1  -0.28  0.44  2.84  0.08  1.4   2.6  -0.16]\n",
      "CD_y error at height 24:\n",
      " [ 0.18  0.02  0.7   1.14 -0.14 -0.5  -0.02  0.64 -0.22  0.06  0.12]\n",
      "CD_x error at height 32:\n",
      " [ 1.2   4.46  0.22  2.96 -0.64 -0.32  1.76 -1.    5.48  0.42  0.06]\n",
      "CD_y error at height 32:\n",
      " [ 0.66 -1.16  0.38  0.86  0.28 -0.46 -0.1   0.6   0.4   0.1  -0.1 ]\n",
      "CD_x error at height 40:\n",
      " [ 0.82  0.46  0.66 -1.78 -4.    0.72  0.66 -2.28 -2.66 -1.26 -0.28]\n",
      "CD_y error at height 40:\n",
      " [ 0.22 -0.58  0.42  1.18  0.52 -0.12 -0.22 -0.76  0.58 -0.   -0.04]\n",
      "CD_x error at height 48:\n",
      " [-1.38  7.1  -0.48  0.54  0.04 -0.9  -0.92 -2.02 -2.02 -1.46 -0.96]\n",
      "CD_y error at height 48:\n",
      " [ 0.16  0.74  0.12  0.58 -0.28  0.44  0.4   0.08 -0.22 -0.02  0.92]\n",
      "CD_x error at height 56:\n",
      " [ 0.58 -0.92 -0.06  2.6  -2.54 -0.04  0.64  1.12  4.32 -1.18 -4.04]\n",
      "CD_y error at height 56:\n",
      " [ 0.88 -0.22  2.84 -0.2   0.14  2.34  0.82 -0.08  0.28  2.    1.32]\n",
      "CD_x error at height 64:\n",
      " [ 0.08  0.1   2.36 -0.7  -2.88 -2.96 -0.66 -0.94 -1.4  -5.84 -0.26]\n",
      "CD_y error at height 64:\n",
      " [-1.16 -3.18 -0.68 -1.66 -0.16  2.4   0.3  -0.6   0.2  -0.42  1.72]\n"
     ]
    },
    {
     "name": "stderr",
     "output_type": "stream",
     "text": [
      "\r",
      " 60%|██████    | 12/20 [8:47:53<5:47:55, 2609.48s/it]"
     ]
    },
    {
     "name": "stdout",
     "output_type": "stream",
     "text": [
      "CD_x error at height 72:\n",
      " [-0.18  0.64 -2.66 -1.7   2.86  2.96 -2.68 -0.34 -5.44  0.04 -4.38]\n",
      "CD_y error at height 72:\n",
      " [-3.06  0.24  0.02 -4.82 -0.58  1.52 -2.24  3.4  -0.28  2.62  4.02]\n",
      "CD_RMSE for label 11: [2.094 1.146]\n",
      "../dataset_train_v1/0092Acid_ini Read in 0.15 s\n",
      "../dataset_train_v1/0092Inhibitor Read in 0.15 s\n",
      "RMSE for label 12: [0.005 0.427]\n",
      "NMSE for label 12: [12.581  1.068]\n",
      "NMSE_height for label 12: [12.919  1.041]\n",
      "\n",
      "!Start to clear memory\n"
     ]
    },
    {
     "name": "stderr",
     "output_type": "stream",
     "text": [
      "<<<\n",
      "time:\t0.403652s\n",
      "<<<\n",
      "<<<\n",
      "time:\t0.403911s\n",
      "<<<\n"
     ]
    },
    {
     "name": "stdout",
     "output_type": "stream",
     "text": [
      "\n",
      "!Start to clear memory\n",
      "CD_x error at height 0:\n",
      " [ 0.2  -3.08 -3.1  -0.34 -2.14]\n",
      "CD_y error at height 0:\n",
      " [ 0.14  0.36  0.88  0.12 -0.02]\n",
      "CD_x error at height 8:\n",
      " [ 0.72 -1.9  -0.02 -0.94  0.04]\n",
      "CD_y error at height 8:\n",
      " [-0.   -0.2   0.12  0.02 -0.3 ]\n",
      "CD_x error at height 16:\n",
      " [-4.52 -5.04 -3.82 -0.4  -3.52]\n",
      "CD_y error at height 16:\n",
      " [ 0.6   0.18 -0.06  0.58  0.26]\n",
      "CD_x error at height 24:\n",
      " [ 4.46 -0.5  -0.12  1.2  -2.24]\n",
      "CD_y error at height 24:\n",
      " [ 1.2  -0.08  0.7  -0.04  0.8 ]\n",
      "CD_x error at height 32:\n",
      " [ 0.06 -0.48 -2.76 -1.1   0.02]\n",
      "CD_y error at height 32:\n",
      " [-0.04 -0.46  1.08  0.2   0.14]\n",
      "CD_x error at height 40:\n",
      " [ 3.24 -0.82 -0.   -0.44 -2.72]\n",
      "CD_y error at height 40:\n",
      " [ 0.98 -0.12 -0.02  2.26 -0.2 ]\n",
      "CD_x error at height 48:\n",
      " [-2.12 -4.7  -0.    2.22  0.28]\n",
      "CD_y error at height 48:\n",
      " [-0.08 -0.68 -0.16  1.54  4.14]\n",
      "CD_x error at height 56:\n",
      " [ 2.84 -0.3   0.14 -0.46 -0.6 ]\n",
      "CD_y error at height 56:\n",
      " [-1.54 -5.8   0.34 -1.5  -0.08]\n",
      "CD_x error at height 64:\n",
      " [ 0.62 -1.04 -1.24 -0.94 -2.88]\n",
      "CD_y error at height 64:\n",
      " [-2.3  -6.3  -0.8  -0.66  0.38]\n"
     ]
    },
    {
     "name": "stderr",
     "output_type": "stream",
     "text": [
      "\r",
      " 65%|██████▌   | 13/20 [9:30:47<5:03:10, 2598.59s/it]"
     ]
    },
    {
     "name": "stdout",
     "output_type": "stream",
     "text": [
      "CD_x error at height 72:\n",
      " [ 4.06 -7.24 -0.44  1.1  -3.52]\n",
      "CD_y error at height 72:\n",
      " [-3.56 -8.06 -0.16 -0.    5.3 ]\n",
      "CD_RMSE for label 12: [2.415 2.109]\n",
      "../dataset_train_v1/0093Acid_ini Read in 0.15 s\n",
      "../dataset_train_v1/0093Inhibitor Read in 0.15 s\n",
      "RMSE for label 13: [0.007 0.513]\n",
      "NMSE for label 13: [9.585 1.287]\n",
      "NMSE_height for label 13: [9.277 1.254]\n"
     ]
    },
    {
     "name": "stderr",
     "output_type": "stream",
     "text": [
      "<<<\n",
      "time:\t0.398671s\n",
      "<<<\n"
     ]
    },
    {
     "name": "stdout",
     "output_type": "stream",
     "text": [
      "\n",
      "!Start to clear memory\n"
     ]
    },
    {
     "name": "stderr",
     "output_type": "stream",
     "text": [
      "<<<\n",
      "time:\t0.402282s\n",
      "<<<\n"
     ]
    },
    {
     "name": "stdout",
     "output_type": "stream",
     "text": [
      "\n",
      "!Start to clear memory\n",
      "CD_x error at height 0:\n",
      " [ 2.42  0.48  0.12  4.74 -4.28  0.26  0.26  4.12 -0.96  0.48  4.38]\n",
      "CD_y error at height 0:\n",
      " [-0.48 -0.1   0.3  -0.12  0.24 -0.08  0.2   0.4   0.52  0.48  0.72]\n",
      "CD_x error at height 8:\n",
      " [ 6.06  4.18  0.1  -0.5   0.48 -0.82 -0.4   5.2  -0.62  0.96  0.08]\n",
      "CD_y error at height 8:\n",
      " [ 0.12  0.02  0.02  1.38 -0.12 -0.12  1.04  0.36  0.5   0.04  0.08]\n",
      "CD_x error at height 16:\n",
      " [-0.    0.18  1.74 -0.92  0.42  0.72  0.26  2.88 -0.2   0.56  2.44]\n",
      "CD_y error at height 16:\n",
      " [-0.36 -0.36  1.1   0.2   0.52  0.06 -0.    0.1  -0.2   0.32  0.48]\n",
      "CD_x error at height 24:\n",
      " [ 0.04 -0.72 -0.16  5.36  0.18  0.58 -4.12 -4.32  0.2   0.1   0.68]\n",
      "CD_y error at height 24:\n",
      " [ 0.48  0.12  0.4   0.1   0.14  0.06  1.02  0.88 -0.06  0.04 -0.32]\n",
      "CD_x error at height 32:\n",
      " [-0.32  0.46  1.74  0.52 -0.3   0.62 -1.1   0.32  4.96  0.58 -0.64]\n",
      "CD_y error at height 32:\n",
      " [ 0.12 -0.22  1.08 -0.28  0.54 -0.12 -0.68  0.1  -0.   -0.08  0.9 ]\n",
      "CD_x error at height 40:\n",
      " [-8.34 -1.44 -0.4  -4.14 -1.22 -0.18 -5.14  0.12  4.12  0.18  1.16]\n",
      "CD_y error at height 40:\n",
      " [ 0.92  0.4  -0.02  0.58 -0.02  0.66  0.16 -0.22  0.26 -0.38 -0.14]\n",
      "CD_x error at height 48:\n",
      " [ 1.92 -3.04 -3.44  0.02 -3.54 -0.44  1.9   0.5   0.3  -3.16  0.22]\n",
      "CD_y error at height 48:\n",
      " [ 0.26 -3.28  0.2   0.32  0.04  0.22  0.46 -0.02  0.38  0.46  0.7 ]\n",
      "CD_x error at height 56:\n",
      " [-0.82 -0.12 -0.66 -1.58 -0.06  0.08 -0.1  -0.06 -3.8   0.08  0.28]\n",
      "CD_y error at height 56:\n",
      " [ 0.3   0.02  1.48 -0.76 -0.2  -0.14 -1.    0.22 -0.02 -0.04 -0.86]\n",
      "CD_x error at height 64:\n",
      " [-0.04 -4.24 -1.18 -0.38 -0.98 -4.12 -0.84 -0.64  0.2  -1.08 -5.56]\n",
      "CD_y error at height 64:\n",
      " [-1.5  -2.64 -1.74 -1.26  0.14 -3.48  1.08 -1.56 -0.12 -0.58 -2.76]\n"
     ]
    },
    {
     "name": "stderr",
     "output_type": "stream",
     "text": [
      "\r",
      " 70%|███████   | 14/20 [10:14:33<4:20:41, 2606.94s/it]"
     ]
    },
    {
     "name": "stdout",
     "output_type": "stream",
     "text": [
      "CD_x error at height 72:\n",
      " [-2.2   2.02 -2.76 -0.44 -2.14 -1.28 -1.84  1.14 -1.54 -3.22 -4.02]\n",
      "CD_y error at height 72:\n",
      " [-0.08 -0.52 -2.64 -3.02  2.84  0.02 -4.6  -2.08 -0.48 -2.88 -3.86]\n",
      "CD_RMSE for label 13: [2.367 1.137]\n",
      "../dataset_train_v1/0094Acid_ini Read in 0.15 s\n",
      "../dataset_train_v1/0094Inhibitor Read in 0.14 s\n",
      "RMSE for label 14: [0.018 1.186]\n",
      "NMSE for label 14: [21.376  2.98 ]\n",
      "NMSE_height for label 14: [18.859  2.782]\n",
      "\n",
      "!Start to clear memory\n"
     ]
    },
    {
     "name": "stderr",
     "output_type": "stream",
     "text": [
      "<<<\n",
      "time:\t0.42516s\n",
      "<<<\n",
      "<<<\n",
      "time:\t0.415058s\n",
      "<<<\n"
     ]
    },
    {
     "name": "stdout",
     "output_type": "stream",
     "text": [
      "\n",
      "!Start to clear memory\n",
      "Contact 15 in 0-CD_x_label is redundant, with info [590.68  886.094  49.302]\n",
      "CD_x error at height 0:\n",
      " [  3.1     2.4    -0.1     3.68    2.2     3.18    0.16    1.      0.12    0.38   -1.18    3.58\n",
      "  -0.06    0.48    1.16  -49.302]\n",
      "Contact 11 in 0-CD_y_label is redundant, with info [620.181 875.074  48.742]\n",
      "CD_y error at height 0:\n",
      " [ -0.36   -0.1     0.16   -0.     -0.04    0.04    0.88    0.38    0.12   -0.16   -0.06  -48.742\n",
      "   0.08   -0.94   -0.02    1.1  ]\n",
      "Contact 15 in 8-CD_x_label is redundant, with info [601.08  919.596  49.862]\n",
      "CD_x error at height 8:\n",
      " [  3.74    4.18    0.18    0.98    0.04    5.22    3.42    3.3     0.08    1.78   -1.38    3.78\n",
      "   0.86    0.04    2.68  -49.862]\n",
      "Contact 11 in 8-CD_y_label is redundant, with info [630.182 872.694  49.742]\n",
      "CD_y error at height 8:\n",
      " [  0.02    0.12   -0.26   -0.28   -0.1     0.08    1.02    0.52    0.1    -0.08   -0.22  -49.742\n",
      "  -0.06    0.46    0.74    0.02 ]\n",
      "Contact 15 in 16-CD_x_label is redundant, with info [594.38  893.795  49.663]\n",
      "CD_x error at height 16:\n",
      " [ -0.68    2.     -0.66    1.8    -1.2     4.46    0.3     1.66    1.02   -0.58    0.06    4.34\n",
      "   0.14    1.68    1.16  -49.663]\n",
      "Contact 11 in 16-CD_y_label is redundant, with info [589.679 817.031  48.562]\n",
      "Contact 12 in 16-CD_y_label is redundant, with info [610.781 920.496   1.24 ]\n",
      "Contact 13 in 16-CD_y_label is redundant, with info [620.681 920.196   1.38 ]\n",
      "Contact 14 in 16-CD_y_label is redundant, with info [647.482 895.455   1.02 ]\n",
      "Contact 15 in 16-CD_y_label is redundant, with info [652.683 916.456   1.18 ]\n",
      "Contact 16 in 16-CD_y_label is redundant, with info [658.983 906.655   7.62 ]\n",
      "CD_y error at height 16:\n",
      " [  0.16    0.1     0.22   -0.14   -0.14    0.26   -0.16   -0.06    0.64    0.08   -0.24  -48.562\n",
      "  -1.24   -1.38   -1.02   -1.18   -7.62    0.88    0.6    -0.48   -0.4  ]\n",
      "Contact 15 in 24-CD_x_label is redundant, with info [602.34  912.196  49.903]\n",
      "CD_x error at height 24:\n",
      " [ -0.     -0.56   -0.82    1.04    0.16    2.48    4.64   -0.02    1.82   -0.72    2.74    2.72\n",
      "  -0.04   -0.24    0.62  -49.903]\n",
      "Contact 11 in 24-CD_y_label is redundant, with info [623.181 868.833  49.902]\n",
      "CD_y error at height 24:\n",
      " [ -0.84    0.3     0.76   -0.28    0.3     0.2    -0.26   -0.14    0.18    2.08    0.2   -49.902\n",
      "  -0.3    -0.12   -0.42    0.06 ]\n",
      "Contact 15 in 32-CD_x_label is redundant, with info [605.86  905.895  36.622]\n",
      "CD_x error at height 32:\n",
      " [  0.42   -0.12   -1.1    -0.74   -2.84    0.56   -0.3     0.04   -3.02    1.2    -0.18   -0.42\n",
      "  -2.26    0.1    -0.46  -36.622]\n",
      "Contact 11 in 32-CD_y_label is redundant, with info [606.68  858.533  49.462]\n",
      "CD_y error at height 32:\n",
      " [ -0.52    0.2    -0.28    0.18    0.44    0.06    0.26    0.04    0.48    0.02    0.    -49.462\n",
      "  -0.62    0.      1.3    -0.04 ]\n",
      "Contact 15 in 40-CD_x_label is redundant, with info [586.279 841.192  28.281]\n",
      "Contact 16 in 40-CD_x_label is redundant, with info [615.281 900.695   8.54 ]\n",
      "CD_x error at height 40:\n",
      " [ -0.02    0.18   -0.6    -1.24   -1.72   -0.42    2.06    1.38    3.24   -0.5     0.32   -2.16\n",
      "  -3.16   -0.24    0.26  -28.281  -8.54 ]\n",
      "Contact 11 in 40-CD_y_label is redundant, with info [605.68  827.071  45.862]\n",
      "CD_y error at height 40:\n",
      " [  0.4    -0.      0.3     0.08    0.34   -0.22   -0.66   -0.14    0.08    1.04   -0.04  -45.862\n",
      "   0.16    0.72    0.18   -1.5  ]\n",
      "Contact 15 in 48-CD_x_label is redundant, with info [592.9   849.292  20.701]\n",
      "CD_x error at height 48:\n",
      " [  3.94   -0.06   -2.32   -2.1     0.98   -0.02   -1.72    3.98   -0.62   -0.04   -4.04   -1.08\n",
      "  -3.04   -2.44   -2.06  -20.701]\n",
      "Contact 11 in 48-CD_y_label is redundant, with info [601.78  828.351  33.462]\n",
      "CD_y error at height 48:\n",
      " [  2.9     0.38   -3.52    0.2    -0.38    0.82    0.04    0.28   -0.38   -0.26    0.26  -33.462\n",
      "   0.26    0.1     0.08    7.8  ]\n",
      "Contact 15 in 56-CD_x_label is redundant, with info [593.9   842.692  13.801]\n",
      "CD_x error at height 56:\n",
      " [ -0.46   -2.58   -3.52   -1.1     0.14    1.76   -1.14   -0.36    0.86   -3.44   -5.08   -0.44\n",
      "  -0.82   -0.7     0.98  -13.801]\n",
      "Contact 11 in 56-CD_y_label is redundant, with info [601.38  833.072  20.721]\n",
      "CD_y error at height 56:\n",
      " [  5.82   -1.58   -3.76    0.46   -0.12   -0.26   -0.06    0.2     0.66   -0.8    -0.26  -20.721\n",
      "  -2.7    -0.56   -0.24   -1.32 ]\n",
      "CD_x error at height 64:\n",
      " [-1.76 -5.98 -5.42 -4.54 -1.36 -0.84 -2.5   0.32 -0.6  -2.7   0.38  1.34 -0.9  -3.24 -1.68]\n",
      "CD_y error at height 64:\n",
      " [-2.88 -0.46 -4.5   1.8  -3.84 -3.42 -3.18 -0.72 -0.02 -3.1  -0.98 -0.9  -0.02 -3.2  -0.36]\n"
     ]
    },
    {
     "name": "stderr",
     "output_type": "stream",
     "text": [
      "\r",
      " 75%|███████▌  | 15/20 [10:57:53<3:37:04, 2604.86s/it]"
     ]
    },
    {
     "name": "stdout",
     "output_type": "stream",
     "text": [
      "CD_x error at height 72:\n",
      " [-4.94 -3.9  -4.88 -5.58 -2.12 -2.16 -1.04  2.06 -0.64  1.8  -2.38  1.06 -3.4  -0.2  -0.7 ]\n",
      "CD_y error at height 72:\n",
      " [ 0.62 -3.7  -1.16 -6.18 -5.24 -4.64 -4.38 -1.04 -1.66 -1.2  -7.36 -5.36 -0.64  2.22 -5.02]\n",
      "CD_RMSE for label 14: [ 9.196 10.018]\n",
      "../dataset_train_v1/0095Acid_ini Read in 0.18 s\n",
      "../dataset_train_v1/0095Inhibitor Read in 0.18 s\n",
      "RMSE for label 15: [0.01  0.942]\n",
      "NMSE for label 15: [13.223  2.366]\n",
      "NMSE_height for label 15: [13.515  2.344]\n"
     ]
    },
    {
     "name": "stderr",
     "output_type": "stream",
     "text": [
      "<<<\n",
      "time:\t0.434478s\n",
      "<<<\n"
     ]
    },
    {
     "name": "stdout",
     "output_type": "stream",
     "text": [
      "\n",
      "!Start to clear memory\n"
     ]
    },
    {
     "name": "stderr",
     "output_type": "stream",
     "text": [
      "<<<\n",
      "time:\t0.422643s\n",
      "<<<\n"
     ]
    },
    {
     "name": "stdout",
     "output_type": "stream",
     "text": [
      "\n",
      "!Start to clear memory\n",
      "CD_x error at height 0:\n",
      " [ 0.16  5.3   2.96 -0.28 -0.66  0.5  -0.06  0.1   0.18  0.28 -0.96  2.62  0.42]\n",
      "CD_y error at height 0:\n",
      " [-0.32 -0.14  0.06  1.14  0.2   0.72  0.04  0.1  -0.34  0.86 -0.5   0.16  0.14]\n",
      "CD_x error at height 8:\n",
      " [ 0.22  5.06  1.22 -0.76 -0.04  2.38 -0.56  1.22 -0.52 -1.14  0.34  1.76  0.74]\n",
      "CD_y error at height 8:\n",
      " [ 0.26  0.48  0.34  0.92  0.4   0.12  0.08  0.3   1.74 -0.28  0.08 -0.22 -0.04]\n",
      "CD_x error at height 16:\n",
      " [ 2.66  5.28  2.66 -0.04 -3.9   0.14  2.1  -0.72 -0.96 -0.42  0.    6.2   1.74]\n",
      "CD_y error at height 16:\n",
      " [-0.14 -0.02  0.    0.12 -0.16  0.4   0.12  0.7   0.04  0.78 -0.54  0.68  0.02]\n",
      "CD_x error at height 24:\n",
      " [-0.7   4.84 -0.56  0.28 -0.7   1.16  0.02 -3.96  4.36 -1.44 -0.88  1.66 -0.58]\n",
      "CD_y error at height 24:\n",
      " [ 0.1   0.42 -0.1   0.18  0.24 -0.34 -0.32  0.34 -0.34 -0.24 -0.02 -0.12 -0.54]\n",
      "CD_x error at height 32:\n",
      " [ 0.24  1.1  -0.7   5.74 -0.96 -1.3   3.68 -3.7   2.94 -1.86  0.04  3.28 -0.82]\n",
      "CD_y error at height 32:\n",
      " [-0.12  0.1  -0.14 -0.   -0.66  0.14  0.6   0.1  -0.14 -0.32 -0.62  0.06 -0.04]\n",
      "CD_x error at height 40:\n",
      " [-2.4  -4.96 -5.76  2.52  0.44 -3.28 -5.2  -5.14 -1.24 -1.72 -4.3   1.16  0.34]\n",
      "CD_y error at height 40:\n",
      " [ 0.9  -0.68 -0.62  0.14  0.14 -0.24  0.04  0.2   0.62  0.26  0.   -0.04 -0.08]\n",
      "CD_x error at height 48:\n",
      " [-0.96 -7.3  -2.96  4.56  3.52 -2.96 -2.32 -0.26 -2.42 -1.56  0.96  1.3  -0.74]\n",
      "CD_y error at height 48:\n",
      " [ 0.6   0.16  0.06 -0.16  0.34 -0.12 -0.18  0.04  1.36  0.34  1.48 -0.14 -0.48]\n",
      "CD_x error at height 56:\n",
      " [-4.42 -0.04 -5.14  2.74 -1.78 -5.1  -3.48 -6.82 -1.16 -3.68 -2.04  2.18 -2.18]\n",
      "CD_y error at height 56:\n",
      " [-1.76 -0.02  1.3   0.12 -5.    0.24 -4.2   0.18 -2.9  -3.16 -0.06 -0.54  0.18]\n",
      "CD_x error at height 64:\n",
      " [-3.   -5.46 -7.4  -0.58  0.48 -6.72 -5.06 -2.72 -2.92  2.52 -4.94  1.78 -1.1 ]\n",
      "CD_y error at height 64:\n",
      " [  0.12   -0.88   -2.38    1.4   -10.161  -6.88   -6.56   -0.52   -5.56   -5.      2.9    -2.68\n",
      "  -4.38 ]\n"
     ]
    },
    {
     "name": "stderr",
     "output_type": "stream",
     "text": [
      "\r",
      " 80%|████████  | 16/20 [11:41:04<2:53:21, 2600.48s/it]"
     ]
    },
    {
     "name": "stdout",
     "output_type": "stream",
     "text": [
      "CD_x error at height 72:\n",
      " [ -4.14   -8.36   -6.3     1.7     0.76  -12.661  -8.1    -2.9    -0.1     2.36   -4.14    2.78\n",
      "  -0.56 ]\n",
      "CD_y error at height 72:\n",
      " [  0.38   -2.     -2.54    2.06  -19.061  -9.92   -5.94   -0.98   -7.94   -1.6     3.74   -2.52\n",
      "  -7.56 ]\n",
      "CD_RMSE for label 15: [3.291 2.821]\n",
      "../dataset_train_v1/0096Acid_ini Read in 0.17 s\n",
      "../dataset_train_v1/0096Inhibitor Read in 0.17 s\n",
      "RMSE for label 16: [0.014 1.203]\n",
      "NMSE for label 16: [14.482  3.028]\n",
      "NMSE_height for label 16: [14.99   2.997]\n"
     ]
    },
    {
     "name": "stderr",
     "output_type": "stream",
     "text": [
      "<<<\n",
      "time:\t0.427292s\n",
      "<<<\n"
     ]
    },
    {
     "name": "stdout",
     "output_type": "stream",
     "text": [
      "\n",
      "!Start to clear memory\n"
     ]
    },
    {
     "name": "stderr",
     "output_type": "stream",
     "text": [
      "<<<\n",
      "time:\t0.448325s\n",
      "<<<\n"
     ]
    },
    {
     "name": "stdout",
     "output_type": "stream",
     "text": [
      "\n",
      "!Start to clear memory\n",
      "CD_x error at height 0:\n",
      " [ 4.18  0.9  -3.3   0.88 -0.44  5.08  2.14  0.34  0.16 -0.18 -0.32  1.   -0.16  0.04  0.82 -0.08\n",
      " -0.14 -1.52  1.32 -0.58  0.88  1.34  6.  ]\n",
      "CD_y error at height 0:\n",
      " [ 0.18 -0.26 -0.16 -0.    2.12 -0.   -0.04  0.38  1.3   0.12 -0.02  0.76  0.5   0.28  0.26  0.28\n",
      "  0.18  0.18  0.3   0.2   0.36 -1.8   0.08]\n",
      "CD_x error at height 8:\n",
      " [ 4.3   0.98 -2.48  0.58 -0.74  0.36  2.98 -3.18  0.08 -0.08  5.72  3.62  1.56  0.12 -2.62 -0.08\n",
      "  0.06 -1.36 -0.06 -1.12 -1.5   1.2   7.52]\n",
      "CD_y error at height 8:\n",
      " [ 0.62 -0.08 -0.2  -0.02 -0.14 -0.12  0.08 -0.   -0.24  0.48  0.36 -0.04  0.02 -0.32  0.48  0.06\n",
      "  0.56  0.28 -0.46  0.62  0.02 -0.5   0.3 ]\n",
      "CD_x error at height 16:\n",
      " [ 3.84 -1.22 -2.88  2.14 -4.18  5.06  2.88  0.18  0.2   2.96  3.9   0.86  0.64  2.04  0.04 -0.\n",
      " -0.9  -1.56 -0.62 -0.88 -0.68  1.36  8.56]\n",
      "CD_y error at height 16:\n",
      " [ 0.08 -0.02  0.12  0.18  5.36  0.1  -0.1   0.12  0.44  0.12  0.1  -0.82 -0.04 -0.12  0.18  1.32\n",
      "  0.12 -0.    0.14  0.5  -0.1  -0.06 -1.58]\n",
      "CD_x error at height 24:\n",
      " [ 3.54 -2.88  1.26  0.12  0.6   3.32  1.7   0.56 -3.58  3.74 -1.38  0.24 -1.62  3.94  0.96 -0.26\n",
      "  0.    0.1   1.46  0.06  0.86  1.28  9.12]\n",
      "CD_y error at height 24:\n",
      " [ 0.62 -0.44  0.2   0.24  4.14 -0.14  0.06 -0.82  0.22  0.16 -0.   -0.08  0.28  0.02  1.76  0.06\n",
      "  0.08  0.24  2.24  0.26  0.04 -1.9   0.22]\n",
      "CD_x error at height 32:\n",
      " [ 3.42  2.9  -0.52 -3.   -1.04 -1.52  0.32 -1.06 -0.06  3.92 -1.32  3.1   2.9   3.64 -4.04 -0.26\n",
      "  2.04 -1.56 -1.66 -0.2   0.96 -0.08  3.84]\n",
      "CD_y error at height 32:\n",
      " [ 0.2   0.22 -1.1  -0.12  5.14  0.26 -0.08  0.28 -0.58  0.16  0.48  0.08 -0.22 -0.    0.8   0.22\n",
      "  0.14  0.18  1.1   0.08 -0.    1.08  0.22]\n",
      "CD_x error at height 40:\n",
      " [-0.64  1.04  3.02 -3.58 -5.   -3.54 -1.46 -1.96  2.38 -0.74 -0.2   3.92  3.1   5.08  3.04  0.08\n",
      " -0.02 -4.6   2.28  0.18  1.64 -3.64  6.04]\n",
      "CD_y error at height 40:\n",
      " [ 0.24  0.32  0.42 -0.56  5.7  -0.54 -0.36  0.14  0.48 -0.02 -1.24  0.64  0.22  0.56 -0.04  0.62\n",
      "  0.3   0.18  0.28  0.62 -0.3  -0.16  1.38]\n",
      "CD_x error at height 48:\n",
      " [  3.1    -2.9    -3.56   -2.02   -3.08    3.36   -1.46  -10.101   0.64   -2.58    6.1    -0.74\n",
      "  -0.66    1.2    -1.62    0.04   -0.04   -1.96   -2.34    4.54    1.3    -0.6     6.68 ]\n",
      "CD_y error at height 48:\n",
      " [ 0.72  1.22 -4.52  1.4   7.14  0.52  0.58 -0.72  0.86  0.22  0.28  0.08  0.86  0.28 -0.02  0.08\n",
      " -0.88  0.12 -0.36  1.26 -0.02  3.1   0.28]\n",
      "CD_x error at height 56:\n",
      " [ 1.84  3.24 -1.02 -6.64 -2.54  0.42 -2.42 -4.48 -2.32 -1.56 -0.16  0.28 -1.1   0.04 -0.92  0.34\n",
      " -0.28 -4.18  0.12  2.14  5.1   0.6   5.04]\n",
      "CD_y error at height 56:\n",
      " [-1.12  1.1  -4.9   3.04  4.52  1.84 -4.06  2.2  -0.5   0.04  0.78  0.02 -0.04 -0.36  0.16 -0.76\n",
      " -0.46  0.5  -0.84 -2.12 -1.16  0.86  3.96]\n",
      "CD_x error at height 64:\n",
      " [ 2.66  0.84 -1.8  -1.84 -4.04  1.98 -5.72 -5.3  -3.14 -2.38 -0.44 -0.64 -3.54 -0.92 -2.54  1.38\n",
      " -1.92 -4.76  1.84  0.08  0.06 -3.36  7.56]\n",
      "CD_y error at height 64:\n",
      " [-2.26  4.02 -7.32  0.6   6.12  0.24 -4.    2.4  -3.7  -3.38 -3.68 -0.5  -1.16 -4.84 -2.54 -2.44\n",
      "  0.76  1.54 -3.8  -2.84 -3.36  2.26  3.4 ]\n"
     ]
    },
    {
     "name": "stderr",
     "output_type": "stream",
     "text": [
      "\r",
      " 85%|████████▌ | 17/20 [12:27:15<2:12:35, 2651.81s/it]"
     ]
    },
    {
     "name": "stdout",
     "output_type": "stream",
     "text": [
      "CD_x error at height 72:\n",
      " [ 6.98  -6.98  -5.68  -8.14   1.98  -3.2   -4.96  -1.32  -0.94  -2.04  -1.34  -4.92   1.1    0.44\n",
      "  6.48  -0.54  -9.68  -1.2    2.68   2.14  -3.14  12.381]\n",
      "CD_y error at height 72:\n",
      " [ -2.36    3.84  -10.721  -0.     10.761   1.76    1.88    3.16   -8.7    -5.1    -2.16    0.26\n",
      "  -0.76   -8.28   -4.42    1.12    6.04    3.08   -1.22    0.46   -3.92    2.06 ]\n",
      "CD_RMSE for label 16: [3.129 2.232]\n",
      "../dataset_train_v1/0097Acid_ini Read in 0.17 s\n",
      "../dataset_train_v1/0097Inhibitor Read in 0.14 s\n",
      "RMSE for label 17: [0.012 1.001]\n",
      "NMSE for label 17: [14.032  2.514]\n",
      "NMSE_height for label 17: [14.089  2.478]\n"
     ]
    },
    {
     "name": "stderr",
     "output_type": "stream",
     "text": [
      "<<<\n",
      "time:\t0.42412s\n",
      "<<<\n"
     ]
    },
    {
     "name": "stdout",
     "output_type": "stream",
     "text": [
      "\n",
      "!Start to clear memory\n",
      "\n",
      "!Start to clear memory\n"
     ]
    },
    {
     "name": "stderr",
     "output_type": "stream",
     "text": [
      "<<<\n",
      "time:\t0.448806s\n",
      "<<<\n"
     ]
    },
    {
     "name": "stdout",
     "output_type": "stream",
     "text": [
      "CD_x error at height 0:\n",
      " [-4.72 -0.34  1.3   1.04 -0.84  1.22  0.32 -0.02  0.16 -3.26  0.54  1.02  1.72 -3.94  2.9   0.82\n",
      " -0.84]\n",
      "CD_y error at height 0:\n",
      " [ 0.04  0.06 -0.06  0.7   0.46  0.64  0.08 -0.   -1.5   0.4   0.56  0.2   0.1   0.38  0.28  0.18\n",
      "  0.16]\n",
      "CD_x error at height 8:\n",
      " [-5.8  -0.88 -0.24 -0.7   0.7   4.32  1.16  3.96 -0.   -1.2  -1.9   0.22  4.6  -0.08  1.84 -0.68\n",
      " -0.98]\n",
      "CD_y error at height 8:\n",
      " [-0.02  0.02  0.16 -0.32  0.44  0.38  0.1   0.74 -0.22 -0.36  1.08  0.12 -0.4  -0.48  0.06  0.54\n",
      "  0.14]\n",
      "CD_x error at height 16:\n",
      " [ 1.76 -1.22  0.4  -1.84  4.94  1.06  1.32  1.72 -0.48 -3.32  4.12  0.04  0.12 -2.74  0.36 -0.\n",
      " -1.08]\n",
      "CD_y error at height 16:\n",
      " [-0.02  0.24 -0.18 -0.06 -0.16 -0.08 -0.02  0.18 -1.02  0.64 -0.32  0.3  -0.04 -0.62  0.34  0.28\n",
      "  0.18]\n",
      "CD_x error at height 24:\n",
      " [-3.8  -0.56  0.14 -4.22  3.14 -0.42 -0.   -1.92 -0.04  0.   -1.2   0.56 -0.94 -3.3   2.78  2.36\n",
      " -1.08]\n",
      "CD_y error at height 24:\n",
      " [-0.08 -0.02  0.54 -0.32  0.06 -0.14  0.46 -0.02 -3.98 -0.26  0.1  -0.24  0.7  -0.58 -0.16  0.06\n",
      "  0.28]\n",
      "CD_x error at height 32:\n",
      " [-0.38 -1.6  -0.56 -0.38  1.32  1.26  2.26  0.46 -0.04 -1.3  -0.06  1.86  0.3  -1.04  4.58 -0.06\n",
      " -1.34]\n",
      "CD_y error at height 32:\n",
      " [-0.04 -0.16  0.46  0.4  -0.62 -0.44  0.28 -0.36 -1.26  0.52  0.14  0.08 -0.54 -0.12  0.74 -0.38\n",
      "  2.5 ]\n",
      "CD_x error at height 40:\n",
      " [-2.78 -1.76 -4.02 -0.96  0.72  1.6   2.9  -0.02 -3.04  0.18 -2.36  5.88 -2.08 -0.08  0.6  -0.\n",
      " -2.86]\n",
      "CD_y error at height 40:\n",
      " [ 1.08  1.22  0.24  0.04  0.56 -0.48  0.82 -1.08 -0.36 -0.06 -0.22  0.04 -1.58  0.16  0.16  0.44\n",
      "  0.54]\n",
      "CD_x error at height 48:\n",
      " [ 0.02 -0.7  -4.66 -3.52 -2.78  0.88 -3.28 -0.9  -0.6  -0.12  1.5   1.9   0.12 -5.   -3.98 -0.86\n",
      "  1.06]\n",
      "CD_y error at height 48:\n",
      " [ 0.6   0.46 -0.02  0.74 -0.14  0.16  0.08  0.22 -2.46  0.32 -0.96 -0.02 -4.08  0.16 -0.74 -0.94\n",
      " -3.46]\n",
      "CD_x error at height 56:\n",
      " [-3.56 -1.64 -6.14 -2.74 -4.16 -2.78 -0.46 -0.3  -3.28 -1.1  -1.   -1.24 -2.08 -1.36 -0.24  0.\n",
      " -1.7 ]\n",
      "CD_y error at height 56:\n",
      " [-1.3   0.86  0.3   0.14 -0.14  4.24 -0.7  -0.4  -1.36  0.26 -4.02 -0.42 -6.16 -3.12 -2.08 -0.42\n",
      " -8.12]\n",
      "CD_x error at height 64:\n",
      " [-1.82 -1.   -3.38 -5.04 -3.7  -0.9  -2.02 -0.5  -2.18 -1.84 -1.7  -3.38 -2.54 -5.22  0.1  -0.44\n",
      " -2.38]\n",
      "CD_y error at height 64:\n",
      " [-3.62 -1.56 -0.86  0.98 -2.04  1.08  1.02 -0.36 -2.9  -1.92 -3.84  1.26 -7.64 -4.16 -2.66 -3.18\n",
      " -9.88]\n"
     ]
    },
    {
     "name": "stderr",
     "output_type": "stream",
     "text": [
      "\r",
      " 90%|█████████ | 18/20 [13:10:44<1:27:58, 2639.13s/it]"
     ]
    },
    {
     "name": "stdout",
     "output_type": "stream",
     "text": [
      "CD_x error at height 72:\n",
      " [-2.06  2.32 -5.76 -3.84 -4.9  -2.4   0.28  2.22 -4.26 -6.4  -1.06 -6.64 -3.24 -5.66  0.22  0.12\n",
      " -7.24]\n",
      "CD_y error at height 72:\n",
      " [ -2.9    -8.24    0.12    4.16   -3.14    0.42   -1.12   -4.4    -2.44   -0.26   -4.08   -0.96\n",
      "  -3.84   -7.16   -4.42   -5.38  -11.681]\n",
      "CD_RMSE for label 17: [2.531 2.279]\n",
      "../dataset_train_v1/0098Acid_ini Read in 0.17 s\n",
      "../dataset_train_v1/0098Inhibitor Read in 0.17 s\n",
      "RMSE for label 18: [0.012 1.074]\n",
      "NMSE for label 18: [13.581  2.702]\n",
      "NMSE_height for label 18: [13.937  2.672]\n"
     ]
    },
    {
     "name": "stderr",
     "output_type": "stream",
     "text": [
      "<<<\n",
      "time:\t0.440871s\n",
      "<<<\n"
     ]
    },
    {
     "name": "stdout",
     "output_type": "stream",
     "text": [
      "\n",
      "!Start to clear memory\n",
      "\n",
      "!Start to clear memory\n"
     ]
    },
    {
     "name": "stderr",
     "output_type": "stream",
     "text": [
      "<<<\n",
      "time:\t0.437924s\n",
      "<<<\n"
     ]
    },
    {
     "name": "stdout",
     "output_type": "stream",
     "text": [
      "Contact 18 in 0-CD_x_label is redundant, with info [348.887 879.694   5.78 ]\n",
      "CD_x error at height 0:\n",
      " [-0.58 -1.08  1.5   0.3   0.06  0.26  0.82 -0.04  0.14  2.68 -1.28 -1.48  2.86  0.06 -4.24 -1.52\n",
      "  0.18  0.16 -5.78 -3.14]\n",
      "Contact 13 in 0-CD_y_label is redundant, with info [352.068 873.054  11.001]\n",
      "CD_y error at height 0:\n",
      " [ -0.06   -0.14    0.44    3.6     0.1     0.54   -0.38    0.16    0.02    0.18    0.26   -0.1\n",
      "   0.24  -11.001  -0.16    0.36    0.42   -0.56    0.2     0.2  ]\n",
      "Contact 18 in 8-CD_x_label is redundant, with info [349.867 878.194   4.44 ]\n",
      "Contact 19 in 8-CD_x_label is redundant, with info [350.888 882.594   1.18 ]\n",
      "CD_x error at height 8:\n",
      " [-0.94 -0.94 -0.58 -0.3   0.1   0.16 -0.22 -0.42  2.8   3.16  0.24  0.14  1.34  0.12 -0.28  0.42\n",
      "  0.02 -0.04 -4.44 -1.18 -1.54]\n",
      "Contact 13 in 8-CD_y_label is redundant, with info [351.968 874.494   8.16 ]\n",
      "CD_y error at height 8:\n",
      " [-0.46  0.08  0.42  0.12  0.1  -0.06  0.42  0.5  -0.02  0.06  0.02  0.26  0.4  -8.16  0.    0.62\n",
      "  0.56 -0.2   0.08 -0.1 ]\n",
      "CD_x error at height 16:\n",
      " [-0.7  -1.02  1.1   0.16  0.14  0.44  4.06 -1.06  3.1   2.94 -0.92  2.72  0.66  0.28 -2.96  0.46\n",
      "  1.04  0.06 -0.98]\n",
      "CD_y error at height 16:\n",
      " [-0.42 -0.76 -0.    0.18 -0.04 -0.46  0.04  0.26 -0.   -0.3  -0.   -0.04  0.84  0.32  0.18 -0.28\n",
      "  0.3   0.12  0.5 ]\n",
      "CD_x error at height 24:\n",
      " [ 0.46 -2.54 -4.74 -0.14 -0.12  0.42  0.24 -4.64  2.94  1.2  -1.86 -0.4  -0.32  0.76 -3.36  0.48\n",
      "  1.76  0.04 -0.48]\n",
      "CD_y error at height 24:\n",
      " [-0.06 -0.04  0.16 -0.1   1.28 -0.02  0.04  0.18 -0.12  0.28  0.52  0.02 -0.18  0.26  0.52  0.38\n",
      "  0.04 -0.54  2.6 ]\n",
      "CD_x error at height 32:\n",
      " [-0.4  -2.8  -1.86  0.08  0.48  1.82  1.18 -1.26 -0.12  0.4   0.24 -0.58  0.48 -2.44 -6.36 -2.5\n",
      " -0.04  0.02 -3.16]\n",
      "CD_y error at height 32:\n",
      " [ 0.36  0.52  0.12 -0.06 -0.02  0.26  2.64  1.16 -0.18  0.76 -0.06  0.08  0.08 -0.06  0.46  0.1\n",
      " -0.04  0.04 -0.38]\n",
      "CD_x error at height 40:\n",
      " [ 0.9  -5.44 -4.8  -1.    3.1  -2.12 -1.22 -1.94 -0.02  0.9   0.5  -2.5  -0.4  -1.34 -7.98  0.08\n",
      " -0.94  0.3  -6.24]\n",
      "CD_y error at height 40:\n",
      " [-0.3  -0.2   1.18  0.44 -0.44  0.26  0.32 -1.16  0.12  0.04  0.1   0.18 -0.1   0.54  0.04  0.3\n",
      " -3.16  0.2  -0.08]\n",
      "CD_x error at height 48:\n",
      " [ 3.1  -4.14 -2.88  2.86 -5.14  1.86 -2.06 -2.9  -1.24  1.12 -0.08 -2.1  -0.    2.   -2.82 -1.16\n",
      " -0.08  1.42 -7.36]\n",
      "CD_y error at height 48:\n",
      " [ 0.06 -0.62 -0.02 -0.12 -0.02  0.9  -0.58 -0.18 -0.62  0.56  0.14 -0.28  0.4  -0.78  0.04  0.28\n",
      " -5.2  -0.74 -0.5 ]\n",
      "CD_x error at height 56:\n",
      " [-2.   -6.24 -2.86  0.2   1.44 -3.28 -0.86 -7.9   0.28  0.94  0.26  1.04 -0.58  0.78 -8.04 -2.46\n",
      " -0.84  2.24 -4.16]\n",
      "CD_y error at height 56:\n",
      " [-0.62  0.18  0.08  0.22  5.02  0.72 -0.02 -0.44  0.1   0.06 -0.12 -0.6   0.4  -3.14 -0.02 -3.32\n",
      " -4.54  0.56  1.5 ]\n",
      "CD_x error at height 64:\n",
      " [-2.48 -7.72 -3.24  3.12  1.1  -1.08 -3.14 -8.28  0.94  0.98 -2.68  0.12 -1.16 -2.58 -8.5  -0.28\n",
      " -1.3  -0.48 -5.82]\n",
      "CD_y error at height 64:\n",
      " [-1.46 -2.6  -0.66 -1.52  5.06  3.2  -0.08 -0.46  1.66 -0.1  -1.04  0.14 -5.64 -5.78 -1.28 -7.48\n",
      " -8.08  0.06  0.3 ]\n"
     ]
    },
    {
     "name": "stderr",
     "output_type": "stream",
     "text": [
      "\r",
      " 95%|█████████▌| 19/20 [13:54:09<43:48, 2628.74s/it]  "
     ]
    },
    {
     "name": "stdout",
     "output_type": "stream",
     "text": [
      "CD_x error at height 72:\n",
      " [ -0.8    -9.54   -2.7     1.2    -2.38    0.72   -2.56   -9.22    2.18    1.48   -2.7     0.82\n",
      "  -1.42    0.32  -18.621   0.44   -0.88    1.38   -8.62 ]\n",
      "CD_y error at height 72:\n",
      " [ -3.78   -2.2    -0.02   -4.      5.44    2.72    1.46    1.44    0.24    0.9    -0.92    1.7\n",
      "  -4.98   -9.64   -2.2   -10.    -19.001   2.64    0.6  ]\n",
      "CD_RMSE for label 18: [3.102 2.555]\n",
      "../dataset_train_v1/0099Acid_ini Read in 0.18 s\n",
      "../dataset_train_v1/0099Inhibitor Read in 0.17 s\n",
      "RMSE for label 19: [0.005 0.428]\n",
      "NMSE for label 19: [10.919  1.072]\n",
      "NMSE_height for label 19: [10.709  1.05 ]\n"
     ]
    },
    {
     "name": "stderr",
     "output_type": "stream",
     "text": [
      "<<<\n",
      "time:\t0.396432s\n",
      "<<<\n"
     ]
    },
    {
     "name": "stdout",
     "output_type": "stream",
     "text": [
      "\n",
      "!Start to clear memory\n",
      "\n",
      "!Start to clear memory\n"
     ]
    },
    {
     "name": "stderr",
     "output_type": "stream",
     "text": [
      "<<<\n",
      "time:\t0.401295s\n",
      "<<<\n"
     ]
    },
    {
     "name": "stdout",
     "output_type": "stream",
     "text": [
      "CD_x error at height 0:\n",
      " [-0.28 -0.   -0.44  1.16  0.2 ]\n",
      "CD_y error at height 0:\n",
      " [ 0.2   0.34  0.16 -0.04  0.28]\n",
      "CD_x error at height 8:\n",
      " [ 3.18  0.28 -0.04  0.22  0.22]\n",
      "CD_y error at height 8:\n",
      " [ 0.48  0.08  0.44 -0.04 -0.06]\n",
      "CD_x error at height 16:\n",
      " [ 0.54 -0.38  0.36  0.36  0.54]\n",
      "CD_y error at height 16:\n",
      " [-0.66  0.16  1.    0.1  -0.04]\n",
      "CD_x error at height 24:\n",
      " [ 3.2  -0.2   0.02  1.72  0.24]\n",
      "CD_y error at height 24:\n",
      " [ 0.18  0.04 -0.08  0.08  0.06]\n",
      "CD_x error at height 32:\n",
      " [-1.08 -2.62 -2.92 -0.24 -1.78]\n",
      "CD_y error at height 32:\n",
      " [ 3.1  -1.02 -0.   -0.5  -0.3 ]\n",
      "CD_x error at height 40:\n",
      " [-1.64 -3.22 -4.16 -2.48 -0.32]\n",
      "CD_y error at height 40:\n",
      " [ 1.06 -0.04 -0.16  0.18  0.12]\n",
      "CD_x error at height 48:\n",
      " [-2.   -4.02 -3.44 -2.2  -1.56]\n",
      "CD_y error at height 48:\n",
      " [-0.08 -2.26 -0.28  0.74  0.58]\n",
      "CD_x error at height 56:\n",
      " [-3.1  -5.94 -2.38 -3.36  2.04]\n",
      "CD_y error at height 56:\n",
      " [-1.26 -2.44 -0.2   0.14  0.12]\n",
      "CD_x error at height 64:\n",
      " [-2.22 -3.56 -5.06 -3.62 -0.04]\n",
      "CD_y error at height 64:\n",
      " [-4.48 -2.38 -4.44 -3.06 -0.86]\n"
     ]
    },
    {
     "name": "stderr",
     "output_type": "stream",
     "text": [
      "100%|██████████| 20/20 [14:36:47<00:00, 2630.35s/it]"
     ]
    },
    {
     "name": "stdout",
     "output_type": "stream",
     "text": [
      "CD_x error at height 72:\n",
      " [-6.06 -3.84 -2.04 -3.88  0.22]\n",
      "CD_y error at height 72:\n",
      " [-3.3  -4.84 -3.84 -1.88  0.56]\n",
      "CD_RMSE for label 19: [2.51  1.653]\n",
      "CD Error: [2.974 2.226]\n",
      "RMSE(Mean, Std): [0.008 0.681] [0.004 0.321]\n",
      "NMSE(Mean, Std): [12.532  1.709] [2.785 0.808]\n",
      "NMSE_height: [[16.598 15.259 14.61  14.297 14.099 13.954 13.835 13.763 13.666 13.578 13.519 13.443 13.425\n",
      "  13.448 13.287 13.209 13.156 13.034 12.933 12.792 ... 10.703 10.706 10.738 10.903 10.931 10.881\n",
      "  10.84  10.781 10.643 10.599 10.605 10.701 10.87  11.106 11.531 12.514 14.04  17.229 23.515\n",
      "  33.95 ]\n",
      " [ 2.33   2.103  2.     1.985  1.955  1.952  1.956  1.961  1.941  1.931  1.913  1.9    1.918\n",
      "   1.93   1.864  1.838  1.855  1.853  1.831  1.815 ...  1.392  1.392  1.4    1.386  1.386  1.399\n",
      "   1.416  1.412  1.429  1.44   1.42   1.42   1.382  1.357  1.309  1.304  1.413  1.783  2.486\n",
      "   3.403]]\n",
      "Top Error (mean): [15.606  1.728]\n"
     ]
    },
    {
     "name": "stderr",
     "output_type": "stream",
     "text": [
      "\n"
     ]
    },
    {
     "name": "stdout",
     "output_type": "stream",
     "text": [
      "Mean runtime: 0.8192295432090759\n",
      "RMSE(Ihb, rate): [0.008 0.681]\n",
      "NRMSE(Ihb, rate): [12.532  1.709]\n",
      "CD Error(x, y): [2.974 2.226]\n"
     ]
    }
   ],
   "source": [
    "model = Model_def(opt, device_train, True)\n",
    "Runtime, RMSE, NMSE, _, CD_err_x, CD_err_y, CD_RMSE = evaluate(opt, model, device_train, res_trans, RDevelop)\n",
    "print(\"Mean runtime:\", np.mean(Runtime))\n",
    "print(\"RMSE(Ihb, rate):\", np.mean(RMSE,axis=-1))\n",
    "print(\"NRMSE(Ihb, rate):\", np.mean(NMSE,axis=-1))\n",
    "print(\"CD Error(x, y):\", np.mean(CD_RMSE,axis=-1))"
   ]
  },
  {
   "cell_type": "code",
   "execution_count": 8,
   "metadata": {},
   "outputs": [],
   "source": [
    "Err_x, Err_y = np.array([]), np.array([])\n",
    "for tmp in range(len(CD_err_x)):\n",
    "    Err_x = np.append(Err_x, np.array(CD_err_x[tmp]).flatten())\n",
    "    Err_y = np.append(Err_y, np.array(CD_err_y[tmp]).flatten())\n",
    "\n",
    "np.savetxt(opt.respath+\"CDErr-x_FNO.csv\", Err_x.flatten(), delimiter=' ')\n",
    "np.savetxt(opt.respath+\"CDErr-y_FNO.csv\", Err_y.flatten(), delimiter=' ')\n",
    "from utils.Res_plot import CD_errXY_plot\n",
    "CD_errXY_plot(Err_x, Err_y, \"FNO's \")"
   ]
  },
  {
   "cell_type": "code",
   "execution_count": 9,
   "metadata": {},
   "outputs": [
    {
     "data": {
      "image/png": "[encoded data removed]",
      "text/plain": [
       "<Figure size 720x432 with 1 Axes>"
      ]
     },
     "metadata": {
      "needs_background": "light"
     },
     "output_type": "display_data"
    }
   ],
   "source": [
    "%matplotlib inline\n",
    "CD_errXY_plot(Err_x, Err_y, \"FNO's \")"
   ]
  },
  {
   "cell_type": "code",
   "execution_count": null,
   "metadata": {},
   "outputs": [],
   "source": []
  }
 ],
 "metadata": {
  "kernelspec": {
   "display_name": "Python 3 (ipykernel)",
   "language": "python",
   "name": "python3"
  },
  "language_info": {
   "codemirror_mode": {
    "name": "ipython",
    "version": 3
   },
   "file_extension": ".py",
   "mimetype": "text/x-python",
   "name": "python",
   "nbconvert_exporter": "python",
   "pygments_lexer": "ipython3",
   "version": "3.8.10"
  },
  "vp": {
   "vp_config_version": "1.0.0",
   "vp_menu_width": 273,
   "vp_note_display": false,
   "vp_note_width": 0,
   "vp_position": {
    "width": 278
   },
   "vp_section_display": false,
   "vp_signature": "VisualPython"
  }
 },
 "nbformat": 4,
 "nbformat_minor": 4
}
