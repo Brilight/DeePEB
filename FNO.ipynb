{
 "cells": [
  {
   "cell_type": "code",
   "execution_count": 1,
   "metadata": {},
   "outputs": [],
   "source": [
    "import math\n",
    "import time\n",
    "import csv\n",
    "import os\n",
    "os.environ[\"CUDA_DEVICE_ORDER\"] = \"PCI_BUS_ID\"\n",
    "os.environ['CUDA_VISIBLE_DEVICES']=\"1\"\n",
    "\n",
    "import numpy as np\n",
    "import torch \n",
    "import torch.nn as nn\n",
    "import torch.utils.data as data\n",
    "import torch.nn.functional as F\n",
    "\n",
    "torch.manual_seed(105)\n",
    "np.random.seed(42)\n",
    "\n",
    "torch.backends.cudnn.deterministic = True\n",
    "torch.backends.cudnn.benchmark = True\n",
    "\n",
    "import itertools\n",
    "from tqdm import trange, tqdm\n",
    "import matplotlib.pyplot as plt\n",
    "import importlib\n",
    "%matplotlib inline\n",
    "\n",
    "'''\n",
    "If curious about the detailed realization of certain module(s) below, try:\n",
    "    print(*inspect.getsource(Module).split('\\n'), sep='\\n')\n",
    "to get its source code.\n",
    "'''\n",
    "from configs import opt, res_trans, RDevelop\n",
    "from Model.FNO import FNO\n",
    "from Train.train_v1 import train\n",
    "from Datas.data_load import dataset_append\n",
    "from Test.Evaluate import evaluate\n",
    "from utils.Save_and_load import save, load"
   ]
  },
  {
   "cell_type": "code",
   "execution_count": 2,
   "metadata": {},
   "outputs": [],
   "source": [
    "def Model_def(opt, device_train, load_model=False):\n",
    "    '''\n",
    "    Define (and load saved) model \n",
    "    '''\n",
    "    model = FNO(mode_z, mode_xy, mode_xy, channels, layers)\n",
    "    model.initialize()\n",
    "    if load_model:\n",
    "        model = load(model, opt.load_model_path)\n",
    "    print(model.parameters)\n",
    "    \n",
    "    if device_train.type == 'cuda':\n",
    "        torch.cuda.empty_cache()\n",
    "        model = model.to(device_train)\n",
    "        '''\n",
    "        nn.DataParallel don't work in this case since the model evaluate one batch during one step,\n",
    "        Mini-Batch descent is realized by gradient accumulation, and BN is discarded\n",
    "        '''\n",
    "        print(\"allocated and reserved GPU memory: {}, {} (GiB)\".format(\n",
    "                torch.cuda.memory_allocated()/(1024**3), torch.cuda.memory_reserved()/(1024**3)))\n",
    "    return model"
   ]
  },
  {
   "cell_type": "code",
   "execution_count": 3,
   "metadata": {
    "scrolled": true
   },
   "outputs": [
    {
     "name": "stdout",
     "output_type": "stream",
     "text": [
      "Net Initialized\n",
      "<bound method Module.parameters of FNO(\n",
      "  (dsp): Sequential(\n",
      "    (0): Conv3d(1, 1, kernel_size=(3, 3, 3), stride=(1, 2, 2), padding=(1, 1, 1), padding_mode=replicate)\n",
      "  )\n",
      "  (fn0): Sequential(\n",
      "    (0): Linear(in_features=1, out_features=25, bias=True)\n",
      "  )\n",
      "  (activation): LeakyReLU(negative_slope=0.01, inplace=True)\n",
      "  (conv1): SpectralConv3d()\n",
      "  (w1): Sequential(\n",
      "    (0): Conv3d(25, 25, kernel_size=(1, 1, 1), stride=(1, 1, 1))\n",
      "  )\n",
      "  (fn1): Sequential(\n",
      "    (0): Linear(in_features=25, out_features=64, bias=True)\n",
      "  )\n",
      "  (fn2): Sequential(\n",
      "    (0): Linear(in_features=64, out_features=1, bias=True)\n",
      "  )\n",
      "  (usp): Sequential(\n",
      "    (0): Upsample(scale_factor=(1.0, 2.0, 2.0), mode=trilinear)\n",
      "  )\n",
      ")>\n",
      "allocated and reserved GPU memory: 1.8626585006713867, 1.869140625 (GiB)\n"
     ]
    }
   ],
   "source": [
    "'''\n",
    "Hyperparameters of DeePEB:\n",
    "mode_xy, mode_z: number of spatial frequency modes in xy and z direction respectively;\n",
    "channels: # of channels, more channels will improve the performance of DeePEB until a limit (~30)\n",
    "layers: # of Fourier Layers, weights are shared among them\n",
    "lnr_size: # of middle neurons of the fully connected layer at the pulling stage\n",
    "'''\n",
    "device_train = torch.device('cuda:0') \n",
    "device_test = torch.device('cuda:0')\n",
    "ckpt_name = \"FNO.pth\"\n",
    "mode_xy, mode_z, channels, layers, lnr_size = 50, 40, 25, 1, 64\n",
    "opt.load_model_path = opt.modelpath+ckpt_name\n",
    "model = Model_def(opt, device_train, False)"
   ]
  },
  {
   "cell_type": "code",
   "execution_count": 4,
   "metadata": {
    "scrolled": true
   },
   "outputs": [
    {
     "name": "stderr",
     "output_type": "stream",
     "text": [
      "\r",
      "  0%|          | 0/8 [00:00<?, ?it/s]"
     ]
    },
    {
     "name": "stdout",
     "output_type": "stream",
     "text": [
      "../dataset_train_v1/0000Acid_ini Read in 0.12 s\n",
      "../dataset_train_v1/0000Inhibitor Read in 0.11 s\n",
      "--> Mask 0 Read Complete, with dataset size: (1, 1, 80, 1000, 1000), 9 masks left ...\n",
      "\n",
      "../dataset_train_v1/0001Acid_ini Read in 0.11 s\n",
      "../dataset_train_v1/0001Inhibitor Read in 0.11 s\n",
      "--> Mask 1 Read Complete, with dataset size: (2, 1, 80, 1000, 1000), 8 masks left ...\n",
      "\n",
      "../dataset_train_v1/0002Acid_ini Read in 0.11 s\n",
      "../dataset_train_v1/0002Inhibitor Read in 0.11 s\n",
      "--> Mask 2 Read Complete, with dataset size: (3, 1, 80, 1000, 1000), 7 masks left ...\n",
      "\n",
      "../dataset_train_v1/0003Acid_ini Read in 0.11 s\n",
      "../dataset_train_v1/0003Inhibitor Read in 0.12 s\n",
      "--> Mask 3 Read Complete, with dataset size: (4, 1, 80, 1000, 1000), 6 masks left ...\n",
      "\n",
      "../dataset_train_v1/0004Acid_ini Read in 0.11 s\n",
      "../dataset_train_v1/0004Inhibitor Read in 0.11 s\n",
      "--> Mask 4 Read Complete, with dataset size: (5, 1, 80, 1000, 1000), 5 masks left ...\n",
      "\n",
      "../dataset_train_v1/0005Acid_ini Read in 0.11 s\n",
      "../dataset_train_v1/0005Inhibitor Read in 0.11 s\n",
      "--> Mask 5 Read Complete, with dataset size: (6, 1, 80, 1000, 1000), 4 masks left ...\n",
      "\n",
      "../dataset_train_v1/0006Acid_ini Read in 0.11 s\n",
      "../dataset_train_v1/0006Inhibitor Read in 0.11 s\n",
      "--> Mask 6 Read Complete, with dataset size: (7, 1, 80, 1000, 1000), 3 masks left ...\n",
      "\n",
      "../dataset_train_v1/0007Acid_ini Read in 0.12 s\n",
      "../dataset_train_v1/0007Inhibitor Read in 0.12 s\n",
      "--> Mask 7 Read Complete, with dataset size: (8, 1, 80, 1000, 1000), 2 masks left ...\n",
      "\n",
      "../dataset_train_v1/0008Acid_ini Read in 0.11 s\n",
      "../dataset_train_v1/0008Inhibitor Read in 0.11 s\n",
      "--> Mask 8 Read Complete, with dataset size: (9, 1, 80, 1000, 1000), 1 masks left ...\n",
      "\n",
      "../dataset_train_v1/0009Acid_ini Read in 0.11 s\n",
      "../dataset_train_v1/0009Inhibitor Read in 0.11 s\n"
     ]
    },
    {
     "name": "stderr",
     "output_type": "stream",
     "text": [
      "\r",
      " 12%|█▎        | 1/8 [00:22<02:35, 22.26s/it]"
     ]
    },
    {
     "name": "stdout",
     "output_type": "stream",
     "text": [
      "--> Mask 9 Read Complete, with dataset size: (10, 1, 80, 1000, 1000), 0 masks left ...\n",
      "\n",
      "../dataset_train_v1/0010Acid_ini Read in 0.11 s\n",
      "../dataset_train_v1/0010Inhibitor Read in 0.11 s\n",
      "--> Mask 10 Read Complete, with dataset size: (1, 1, 80, 1000, 1000), 9 masks left ...\n",
      "\n",
      "../dataset_train_v1/0011Acid_ini Read in 0.11 s\n",
      "../dataset_train_v1/0011Inhibitor Read in 0.11 s\n",
      "--> Mask 11 Read Complete, with dataset size: (2, 1, 80, 1000, 1000), 8 masks left ...\n",
      "\n",
      "../dataset_train_v1/0012Acid_ini Read in 0.11 s\n",
      "../dataset_train_v1/0012Inhibitor Read in 0.11 s\n",
      "--> Mask 12 Read Complete, with dataset size: (3, 1, 80, 1000, 1000), 7 masks left ...\n",
      "\n",
      "../dataset_train_v1/0013Acid_ini Read in 0.11 s\n",
      "../dataset_train_v1/0013Inhibitor Read in 0.12 s\n",
      "--> Mask 13 Read Complete, with dataset size: (4, 1, 80, 1000, 1000), 6 masks left ...\n",
      "\n",
      "../dataset_train_v1/0014Acid_ini Read in 0.11 s\n",
      "../dataset_train_v1/0014Inhibitor Read in 0.11 s\n",
      "--> Mask 14 Read Complete, with dataset size: (5, 1, 80, 1000, 1000), 5 masks left ...\n",
      "\n",
      "../dataset_train_v1/0015Acid_ini Read in 0.11 s\n",
      "../dataset_train_v1/0015Inhibitor Read in 0.11 s\n",
      "--> Mask 15 Read Complete, with dataset size: (6, 1, 80, 1000, 1000), 4 masks left ...\n",
      "\n",
      "../dataset_train_v1/0016Acid_ini Read in 0.11 s\n",
      "../dataset_train_v1/0016Inhibitor Read in 0.11 s\n",
      "--> Mask 16 Read Complete, with dataset size: (7, 1, 80, 1000, 1000), 3 masks left ...\n",
      "\n",
      "../dataset_train_v1/0017Acid_ini Read in 0.12 s\n",
      "../dataset_train_v1/0017Inhibitor Read in 0.11 s\n",
      "--> Mask 17 Read Complete, with dataset size: (8, 1, 80, 1000, 1000), 2 masks left ...\n",
      "\n",
      "../dataset_train_v1/0018Acid_ini Read in 0.11 s\n",
      "../dataset_train_v1/0018Inhibitor Read in 0.11 s\n",
      "--> Mask 18 Read Complete, with dataset size: (9, 1, 80, 1000, 1000), 1 masks left ...\n",
      "\n",
      "../dataset_train_v1/0019Acid_ini Read in 0.11 s\n",
      "../dataset_train_v1/0019Inhibitor Read in 0.11 s\n"
     ]
    },
    {
     "name": "stderr",
     "output_type": "stream",
     "text": [
      "\r",
      " 25%|██▌       | 2/8 [00:44<02:13, 22.19s/it]"
     ]
    },
    {
     "name": "stdout",
     "output_type": "stream",
     "text": [
      "--> Mask 19 Read Complete, with dataset size: (10, 1, 80, 1000, 1000), 0 masks left ...\n",
      "\n",
      "../dataset_train_v1/0020Acid_ini Read in 0.11 s\n",
      "../dataset_train_v1/0020Inhibitor Read in 0.11 s\n",
      "--> Mask 20 Read Complete, with dataset size: (1, 1, 80, 1000, 1000), 9 masks left ...\n",
      "\n",
      "../dataset_train_v1/0021Acid_ini Read in 0.11 s\n",
      "../dataset_train_v1/0021Inhibitor Read in 0.11 s\n",
      "--> Mask 21 Read Complete, with dataset size: (2, 1, 80, 1000, 1000), 8 masks left ...\n",
      "\n",
      "../dataset_train_v1/0022Acid_ini Read in 0.11 s\n",
      "../dataset_train_v1/0022Inhibitor Read in 0.11 s\n",
      "--> Mask 22 Read Complete, with dataset size: (3, 1, 80, 1000, 1000), 7 masks left ...\n",
      "\n",
      "../dataset_train_v1/0023Acid_ini Read in 0.11 s\n",
      "../dataset_train_v1/0023Inhibitor Read in 0.12 s\n",
      "--> Mask 23 Read Complete, with dataset size: (4, 1, 80, 1000, 1000), 6 masks left ...\n",
      "\n",
      "../dataset_train_v1/0024Acid_ini Read in 0.11 s\n",
      "../dataset_train_v1/0024Inhibitor Read in 0.11 s\n",
      "--> Mask 24 Read Complete, with dataset size: (5, 1, 80, 1000, 1000), 5 masks left ...\n",
      "\n",
      "../dataset_train_v1/0025Acid_ini Read in 0.11 s\n",
      "../dataset_train_v1/0025Inhibitor Read in 0.11 s\n",
      "--> Mask 25 Read Complete, with dataset size: (6, 1, 80, 1000, 1000), 4 masks left ...\n",
      "\n",
      "../dataset_train_v1/0026Acid_ini Read in 0.11 s\n",
      "../dataset_train_v1/0026Inhibitor Read in 0.11 s\n",
      "--> Mask 26 Read Complete, with dataset size: (7, 1, 80, 1000, 1000), 3 masks left ...\n",
      "\n",
      "../dataset_train_v1/0027Acid_ini Read in 0.12 s\n",
      "../dataset_train_v1/0027Inhibitor Read in 0.12 s\n",
      "--> Mask 27 Read Complete, with dataset size: (8, 1, 80, 1000, 1000), 2 masks left ...\n",
      "\n",
      "../dataset_train_v1/0028Acid_ini Read in 0.11 s\n",
      "../dataset_train_v1/0028Inhibitor Read in 0.11 s\n",
      "--> Mask 28 Read Complete, with dataset size: (9, 1, 80, 1000, 1000), 1 masks left ...\n",
      "\n",
      "../dataset_train_v1/0029Acid_ini Read in 0.11 s\n",
      "../dataset_train_v1/0029Inhibitor Read in 0.11 s\n"
     ]
    },
    {
     "name": "stderr",
     "output_type": "stream",
     "text": [
      "\r",
      " 38%|███▊      | 3/8 [01:06<01:50, 22.17s/it]"
     ]
    },
    {
     "name": "stdout",
     "output_type": "stream",
     "text": [
      "--> Mask 29 Read Complete, with dataset size: (10, 1, 80, 1000, 1000), 0 masks left ...\n",
      "\n",
      "../dataset_train_v1/0030Acid_ini Read in 0.11 s\n",
      "../dataset_train_v1/0030Inhibitor Read in 0.11 s\n",
      "--> Mask 30 Read Complete, with dataset size: (1, 1, 80, 1000, 1000), 9 masks left ...\n",
      "\n",
      "../dataset_train_v1/0031Acid_ini Read in 0.11 s\n",
      "../dataset_train_v1/0031Inhibitor Read in 0.11 s\n",
      "--> Mask 31 Read Complete, with dataset size: (2, 1, 80, 1000, 1000), 8 masks left ...\n",
      "\n",
      "../dataset_train_v1/0032Acid_ini Read in 0.11 s\n",
      "../dataset_train_v1/0032Inhibitor Read in 0.11 s\n",
      "--> Mask 32 Read Complete, with dataset size: (3, 1, 80, 1000, 1000), 7 masks left ...\n",
      "\n",
      "../dataset_train_v1/0033Acid_ini Read in 0.11 s\n",
      "../dataset_train_v1/0033Inhibitor Read in 0.12 s\n",
      "--> Mask 33 Read Complete, with dataset size: (4, 1, 80, 1000, 1000), 6 masks left ...\n",
      "\n",
      "../dataset_train_v1/0034Acid_ini Read in 0.11 s\n",
      "../dataset_train_v1/0034Inhibitor Read in 0.11 s\n",
      "--> Mask 34 Read Complete, with dataset size: (5, 1, 80, 1000, 1000), 5 masks left ...\n",
      "\n",
      "../dataset_train_v1/0035Acid_ini Read in 0.11 s\n",
      "../dataset_train_v1/0035Inhibitor Read in 0.11 s\n",
      "--> Mask 35 Read Complete, with dataset size: (6, 1, 80, 1000, 1000), 4 masks left ...\n",
      "\n",
      "../dataset_train_v1/0036Acid_ini Read in 0.11 s\n",
      "../dataset_train_v1/0036Inhibitor Read in 0.11 s\n",
      "--> Mask 36 Read Complete, with dataset size: (7, 1, 80, 1000, 1000), 3 masks left ...\n",
      "\n",
      "../dataset_train_v1/0037Acid_ini Read in 0.12 s\n",
      "../dataset_train_v1/0037Inhibitor Read in 0.11 s\n",
      "--> Mask 37 Read Complete, with dataset size: (8, 1, 80, 1000, 1000), 2 masks left ...\n",
      "\n",
      "../dataset_train_v1/0038Acid_ini Read in 0.11 s\n",
      "../dataset_train_v1/0038Inhibitor Read in 0.11 s\n",
      "--> Mask 38 Read Complete, with dataset size: (9, 1, 80, 1000, 1000), 1 masks left ...\n",
      "\n",
      "../dataset_train_v1/0039Acid_ini Read in 0.11 s\n",
      "../dataset_train_v1/0039Inhibitor Read in 0.11 s\n"
     ]
    },
    {
     "name": "stderr",
     "output_type": "stream",
     "text": [
      "\r",
      " 50%|█████     | 4/8 [01:28<01:28, 22.16s/it]"
     ]
    },
    {
     "name": "stdout",
     "output_type": "stream",
     "text": [
      "--> Mask 39 Read Complete, with dataset size: (10, 1, 80, 1000, 1000), 0 masks left ...\n",
      "\n",
      "../dataset_train_v1/0040Acid_ini Read in 0.11 s\n",
      "../dataset_train_v1/0040Inhibitor Read in 0.12 s\n",
      "--> Mask 40 Read Complete, with dataset size: (1, 1, 80, 1000, 1000), 9 masks left ...\n",
      "\n",
      "../dataset_train_v1/0041Acid_ini Read in 0.11 s\n",
      "../dataset_train_v1/0041Inhibitor Read in 0.11 s\n",
      "--> Mask 41 Read Complete, with dataset size: (2, 1, 80, 1000, 1000), 8 masks left ...\n",
      "\n",
      "../dataset_train_v1/0042Acid_ini Read in 0.11 s\n",
      "../dataset_train_v1/0042Inhibitor Read in 0.11 s\n",
      "--> Mask 42 Read Complete, with dataset size: (3, 1, 80, 1000, 1000), 7 masks left ...\n",
      "\n",
      "../dataset_train_v1/0043Acid_ini Read in 0.12 s\n",
      "../dataset_train_v1/0043Inhibitor Read in 0.11 s\n",
      "--> Mask 43 Read Complete, with dataset size: (4, 1, 80, 1000, 1000), 6 masks left ...\n",
      "\n",
      "../dataset_train_v1/0044Acid_ini Read in 0.11 s\n",
      "../dataset_train_v1/0044Inhibitor Read in 0.11 s\n",
      "--> Mask 44 Read Complete, with dataset size: (5, 1, 80, 1000, 1000), 5 masks left ...\n",
      "\n",
      "../dataset_train_v1/0045Acid_ini Read in 0.11 s\n",
      "../dataset_train_v1/0045Inhibitor Read in 0.11 s\n",
      "--> Mask 45 Read Complete, with dataset size: (6, 1, 80, 1000, 1000), 4 masks left ...\n",
      "\n",
      "../dataset_train_v1/0046Acid_ini Read in 0.11 s\n",
      "../dataset_train_v1/0046Inhibitor Read in 0.11 s\n",
      "--> Mask 46 Read Complete, with dataset size: (7, 1, 80, 1000, 1000), 3 masks left ...\n",
      "\n",
      "../dataset_train_v1/0047Acid_ini Read in 0.11 s\n",
      "../dataset_train_v1/0047Inhibitor Read in 0.11 s\n",
      "--> Mask 47 Read Complete, with dataset size: (8, 1, 80, 1000, 1000), 2 masks left ...\n",
      "\n",
      "../dataset_train_v1/0048Acid_ini Read in 0.11 s\n",
      "../dataset_train_v1/0048Inhibitor Read in 0.12 s\n",
      "--> Mask 48 Read Complete, with dataset size: (9, 1, 80, 1000, 1000), 1 masks left ...\n",
      "\n",
      "../dataset_train_v1/0049Acid_ini Read in 0.11 s\n",
      "../dataset_train_v1/0049Inhibitor Read in 0.12 s\n"
     ]
    },
    {
     "name": "stderr",
     "output_type": "stream",
     "text": [
      "\r",
      " 62%|██████▎   | 5/8 [01:50<01:06, 22.16s/it]"
     ]
    },
    {
     "name": "stdout",
     "output_type": "stream",
     "text": [
      "--> Mask 49 Read Complete, with dataset size: (10, 1, 80, 1000, 1000), 0 masks left ...\n",
      "\n",
      "../dataset_train_v1/0050Acid_ini Read in 0.12 s\n",
      "../dataset_train_v1/0050Inhibitor Read in 0.11 s\n",
      "--> Mask 50 Read Complete, with dataset size: (1, 1, 80, 1000, 1000), 9 masks left ...\n",
      "\n",
      "../dataset_train_v1/0051Acid_ini Read in 0.11 s\n",
      "../dataset_train_v1/0051Inhibitor Read in 0.11 s\n",
      "--> Mask 51 Read Complete, with dataset size: (2, 1, 80, 1000, 1000), 8 masks left ...\n",
      "\n",
      "../dataset_train_v1/0052Acid_ini Read in 0.11 s\n",
      "../dataset_train_v1/0052Inhibitor Read in 0.12 s\n",
      "--> Mask 52 Read Complete, with dataset size: (3, 1, 80, 1000, 1000), 7 masks left ...\n",
      "\n",
      "../dataset_train_v1/0053Acid_ini Read in 0.11 s\n",
      "../dataset_train_v1/0053Inhibitor Read in 0.11 s\n",
      "--> Mask 53 Read Complete, with dataset size: (4, 1, 80, 1000, 1000), 6 masks left ...\n",
      "\n",
      "../dataset_train_v1/0054Acid_ini Read in 0.11 s\n",
      "../dataset_train_v1/0054Inhibitor Read in 0.11 s\n",
      "--> Mask 54 Read Complete, with dataset size: (5, 1, 80, 1000, 1000), 5 masks left ...\n",
      "\n",
      "../dataset_train_v1/0055Acid_ini Read in 0.11 s\n",
      "../dataset_train_v1/0055Inhibitor Read in 0.12 s\n",
      "--> Mask 55 Read Complete, with dataset size: (6, 1, 80, 1000, 1000), 4 masks left ...\n",
      "\n",
      "../dataset_train_v1/0056Acid_ini Read in 0.11 s\n",
      "../dataset_train_v1/0056Inhibitor Read in 0.11 s\n",
      "--> Mask 56 Read Complete, with dataset size: (7, 1, 80, 1000, 1000), 3 masks left ...\n",
      "\n",
      "../dataset_train_v1/0057Acid_ini Read in 0.11 s\n",
      "../dataset_train_v1/0057Inhibitor Read in 0.11 s\n",
      "--> Mask 57 Read Complete, with dataset size: (8, 1, 80, 1000, 1000), 2 masks left ...\n",
      "\n",
      "../dataset_train_v1/0058Acid_ini Read in 0.12 s\n",
      "../dataset_train_v1/0058Inhibitor Read in 0.11 s\n",
      "--> Mask 58 Read Complete, with dataset size: (9, 1, 80, 1000, 1000), 1 masks left ...\n",
      "\n",
      "../dataset_train_v1/0059Acid_ini Read in 0.12 s\n",
      "../dataset_train_v1/0059Inhibitor Read in 0.11 s\n"
     ]
    },
    {
     "name": "stderr",
     "output_type": "stream",
     "text": [
      "\r",
      " 75%|███████▌  | 6/8 [02:13<00:44, 22.16s/it]"
     ]
    },
    {
     "name": "stdout",
     "output_type": "stream",
     "text": [
      "--> Mask 59 Read Complete, with dataset size: (10, 1, 80, 1000, 1000), 0 masks left ...\n",
      "\n",
      "../dataset_train_v1/0060Acid_ini Read in 0.11 s\n",
      "../dataset_train_v1/0060Inhibitor Read in 0.11 s\n",
      "--> Mask 60 Read Complete, with dataset size: (1, 1, 80, 1000, 1000), 9 masks left ...\n",
      "\n",
      "../dataset_train_v1/0061Acid_ini Read in 0.11 s\n",
      "../dataset_train_v1/0061Inhibitor Read in 0.12 s\n",
      "--> Mask 61 Read Complete, with dataset size: (2, 1, 80, 1000, 1000), 8 masks left ...\n",
      "\n",
      "../dataset_train_v1/0062Acid_ini Read in 0.12 s\n",
      "../dataset_train_v1/0062Inhibitor Read in 0.12 s\n",
      "--> Mask 62 Read Complete, with dataset size: (3, 1, 80, 1000, 1000), 7 masks left ...\n",
      "\n",
      "../dataset_train_v1/0063Acid_ini Read in 0.11 s\n",
      "../dataset_train_v1/0063Inhibitor Read in 0.11 s\n",
      "--> Mask 63 Read Complete, with dataset size: (4, 1, 80, 1000, 1000), 6 masks left ...\n",
      "\n",
      "../dataset_train_v1/0064Acid_ini Read in 0.11 s\n",
      "../dataset_train_v1/0064Inhibitor Read in 0.11 s\n",
      "--> Mask 64 Read Complete, with dataset size: (5, 1, 80, 1000, 1000), 5 masks left ...\n",
      "\n",
      "../dataset_train_v1/0065Acid_ini Read in 0.12 s\n",
      "../dataset_train_v1/0065Inhibitor Read in 0.12 s\n",
      "--> Mask 65 Read Complete, with dataset size: (6, 1, 80, 1000, 1000), 4 masks left ...\n",
      "\n",
      "../dataset_train_v1/0066Acid_ini Read in 0.11 s\n",
      "../dataset_train_v1/0066Inhibitor Read in 0.11 s\n",
      "--> Mask 66 Read Complete, with dataset size: (7, 1, 80, 1000, 1000), 3 masks left ...\n",
      "\n",
      "../dataset_train_v1/0067Acid_ini Read in 0.11 s\n",
      "../dataset_train_v1/0067Inhibitor Read in 0.11 s\n",
      "--> Mask 67 Read Complete, with dataset size: (8, 1, 80, 1000, 1000), 2 masks left ...\n",
      "\n",
      "../dataset_train_v1/0068Acid_ini Read in 0.11 s\n",
      "../dataset_train_v1/0068Inhibitor Read in 0.11 s\n",
      "--> Mask 68 Read Complete, with dataset size: (9, 1, 80, 1000, 1000), 1 masks left ...\n",
      "\n",
      "../dataset_train_v1/0069Acid_ini Read in 0.11 s\n",
      "../dataset_train_v1/0069Inhibitor Read in 0.11 s\n"
     ]
    },
    {
     "name": "stderr",
     "output_type": "stream",
     "text": [
      "\r",
      " 88%|████████▊ | 7/8 [02:35<00:22, 22.14s/it]"
     ]
    },
    {
     "name": "stdout",
     "output_type": "stream",
     "text": [
      "--> Mask 69 Read Complete, with dataset size: (10, 1, 80, 1000, 1000), 0 masks left ...\n",
      "\n",
      "../dataset_train_v1/0070Acid_ini Read in 0.11 s\n",
      "../dataset_train_v1/0070Inhibitor Read in 0.11 s\n",
      "--> Mask 70 Read Complete, with dataset size: (1, 1, 80, 1000, 1000), 9 masks left ...\n",
      "\n",
      "../dataset_train_v1/0071Acid_ini Read in 0.12 s\n",
      "../dataset_train_v1/0071Inhibitor Read in 0.12 s\n",
      "--> Mask 71 Read Complete, with dataset size: (2, 1, 80, 1000, 1000), 8 masks left ...\n",
      "\n",
      "../dataset_train_v1/0072Acid_ini Read in 0.12 s\n",
      "../dataset_train_v1/0072Inhibitor Read in 0.11 s\n",
      "--> Mask 72 Read Complete, with dataset size: (3, 1, 80, 1000, 1000), 7 masks left ...\n",
      "\n",
      "../dataset_train_v1/0073Acid_ini Read in 0.11 s\n",
      "../dataset_train_v1/0073Inhibitor Read in 0.11 s\n",
      "--> Mask 73 Read Complete, with dataset size: (4, 1, 80, 1000, 1000), 6 masks left ...\n",
      "\n",
      "../dataset_train_v1/0074Acid_ini Read in 0.11 s\n",
      "../dataset_train_v1/0074Inhibitor Read in 0.11 s\n",
      "--> Mask 74 Read Complete, with dataset size: (5, 1, 80, 1000, 1000), 5 masks left ...\n",
      "\n",
      "../dataset_train_v1/0075Acid_ini Read in 0.13 s\n",
      "../dataset_train_v1/0075Inhibitor Read in 0.11 s\n",
      "--> Mask 75 Read Complete, with dataset size: (6, 1, 80, 1000, 1000), 4 masks left ...\n",
      "\n",
      "../dataset_train_v1/0076Acid_ini Read in 0.11 s\n",
      "../dataset_train_v1/0076Inhibitor Read in 0.11 s\n",
      "--> Mask 76 Read Complete, with dataset size: (7, 1, 80, 1000, 1000), 3 masks left ...\n",
      "\n",
      "../dataset_train_v1/0077Acid_ini Read in 0.11 s\n",
      "../dataset_train_v1/0077Inhibitor Read in 0.11 s\n",
      "--> Mask 77 Read Complete, with dataset size: (8, 1, 80, 1000, 1000), 2 masks left ...\n",
      "\n",
      "../dataset_train_v1/0078Acid_ini Read in 0.11 s\n",
      "../dataset_train_v1/0078Inhibitor Read in 0.11 s\n",
      "--> Mask 78 Read Complete, with dataset size: (9, 1, 80, 1000, 1000), 1 masks left ...\n",
      "\n",
      "../dataset_train_v1/0079Acid_ini Read in 0.11 s\n",
      "../dataset_train_v1/0079Inhibitor Read in 0.11 s\n"
     ]
    },
    {
     "name": "stderr",
     "output_type": "stream",
     "text": [
      "100%|██████████| 8/8 [02:57<00:00, 22.17s/it]\n"
     ]
    },
    {
     "name": "stdout",
     "output_type": "stream",
     "text": [
      "--> Mask 79 Read Complete, with dataset size: (10, 1, 80, 1000, 1000), 0 masks left ...\n",
      "\n"
     ]
    },
    {
     "name": "stderr",
     "output_type": "stream",
     "text": [
      "\r",
      "  0%|          | 0/2 [00:00<?, ?it/s]"
     ]
    },
    {
     "name": "stdout",
     "output_type": "stream",
     "text": [
      "../dataset_train_v1/0080Acid_ini Read in 0.13 s\n",
      "../dataset_train_v1/0080Inhibitor Read in 0.12 s\n",
      "--> Mask 80 Read Complete, with dataset size: (1, 1, 80, 1000, 1000), 9 masks left ...\n",
      "\n",
      "../dataset_train_v1/0081Acid_ini Read in 0.13 s\n",
      "../dataset_train_v1/0081Inhibitor Read in 0.11 s\n",
      "--> Mask 81 Read Complete, with dataset size: (2, 1, 80, 1000, 1000), 8 masks left ...\n",
      "\n",
      "../dataset_train_v1/0082Acid_ini Read in 0.11 s\n",
      "../dataset_train_v1/0082Inhibitor Read in 0.11 s\n",
      "--> Mask 82 Read Complete, with dataset size: (3, 1, 80, 1000, 1000), 7 masks left ...\n",
      "\n",
      "../dataset_train_v1/0083Acid_ini Read in 0.11 s\n",
      "../dataset_train_v1/0083Inhibitor Read in 0.11 s\n",
      "--> Mask 83 Read Complete, with dataset size: (4, 1, 80, 1000, 1000), 6 masks left ...\n",
      "\n",
      "../dataset_train_v1/0084Acid_ini Read in 0.11 s\n",
      "../dataset_train_v1/0084Inhibitor Read in 0.11 s\n",
      "--> Mask 84 Read Complete, with dataset size: (5, 1, 80, 1000, 1000), 5 masks left ...\n",
      "\n",
      "../dataset_train_v1/0085Acid_ini Read in 0.11 s\n",
      "../dataset_train_v1/0085Inhibitor Read in 0.11 s\n",
      "--> Mask 85 Read Complete, with dataset size: (6, 1, 80, 1000, 1000), 4 masks left ...\n",
      "\n",
      "../dataset_train_v1/0086Acid_ini Read in 0.11 s\n",
      "../dataset_train_v1/0086Inhibitor Read in 0.11 s\n",
      "--> Mask 86 Read Complete, with dataset size: (7, 1, 80, 1000, 1000), 3 masks left ...\n",
      "\n",
      "../dataset_train_v1/0087Acid_ini Read in 0.11 s\n",
      "../dataset_train_v1/0087Inhibitor Read in 0.11 s\n",
      "--> Mask 87 Read Complete, with dataset size: (8, 1, 80, 1000, 1000), 2 masks left ...\n",
      "\n",
      "../dataset_train_v1/0088Acid_ini Read in 0.11 s\n",
      "../dataset_train_v1/0088Inhibitor Read in 0.11 s\n",
      "--> Mask 88 Read Complete, with dataset size: (9, 1, 80, 1000, 1000), 1 masks left ...\n",
      "\n",
      "../dataset_train_v1/0089Acid_ini Read in 0.11 s\n",
      "../dataset_train_v1/0089Inhibitor Read in 0.11 s\n"
     ]
    },
    {
     "name": "stderr",
     "output_type": "stream",
     "text": [
      "\r",
      " 50%|█████     | 1/2 [00:22<00:22, 22.26s/it]"
     ]
    },
    {
     "name": "stdout",
     "output_type": "stream",
     "text": [
      "--> Mask 89 Read Complete, with dataset size: (10, 1, 80, 1000, 1000), 0 masks left ...\n",
      "\n",
      "../dataset_train_v1/0090Acid_ini Read in 0.11 s\n",
      "../dataset_train_v1/0090Inhibitor Read in 0.11 s\n",
      "--> Mask 90 Read Complete, with dataset size: (1, 1, 80, 1000, 1000), 9 masks left ...\n",
      "\n",
      "../dataset_train_v1/0091Acid_ini Read in 0.13 s\n",
      "../dataset_train_v1/0091Inhibitor Read in 0.11 s\n",
      "--> Mask 91 Read Complete, with dataset size: (2, 1, 80, 1000, 1000), 8 masks left ...\n",
      "\n",
      "../dataset_train_v1/0092Acid_ini Read in 0.11 s\n",
      "../dataset_train_v1/0092Inhibitor Read in 0.11 s\n",
      "--> Mask 92 Read Complete, with dataset size: (3, 1, 80, 1000, 1000), 7 masks left ...\n",
      "\n",
      "../dataset_train_v1/0093Acid_ini Read in 0.11 s\n",
      "../dataset_train_v1/0093Inhibitor Read in 0.11 s\n",
      "--> Mask 93 Read Complete, with dataset size: (4, 1, 80, 1000, 1000), 6 masks left ...\n",
      "\n",
      "../dataset_train_v1/0094Acid_ini Read in 0.11 s\n",
      "../dataset_train_v1/0094Inhibitor Read in 0.11 s\n",
      "--> Mask 94 Read Complete, with dataset size: (5, 1, 80, 1000, 1000), 5 masks left ...\n",
      "\n",
      "../dataset_train_v1/0095Acid_ini Read in 0.11 s\n",
      "../dataset_train_v1/0095Inhibitor Read in 0.11 s\n",
      "--> Mask 95 Read Complete, with dataset size: (6, 1, 80, 1000, 1000), 4 masks left ...\n",
      "\n",
      "../dataset_train_v1/0096Acid_ini Read in 0.11 s\n",
      "../dataset_train_v1/0096Inhibitor Read in 0.11 s\n",
      "--> Mask 96 Read Complete, with dataset size: (7, 1, 80, 1000, 1000), 3 masks left ...\n",
      "\n",
      "../dataset_train_v1/0097Acid_ini Read in 0.11 s\n",
      "../dataset_train_v1/0097Inhibitor Read in 0.11 s\n",
      "--> Mask 97 Read Complete, with dataset size: (8, 1, 80, 1000, 1000), 2 masks left ...\n",
      "\n",
      "../dataset_train_v1/0098Acid_ini Read in 0.11 s\n",
      "../dataset_train_v1/0098Inhibitor Read in 0.11 s\n",
      "--> Mask 98 Read Complete, with dataset size: (9, 1, 80, 1000, 1000), 1 masks left ...\n",
      "\n",
      "../dataset_train_v1/0099Acid_ini Read in 0.11 s\n",
      "../dataset_train_v1/0099Inhibitor Read in 0.11 s\n"
     ]
    },
    {
     "name": "stderr",
     "output_type": "stream",
     "text": [
      "100%|██████████| 2/2 [00:44<00:00, 22.24s/it]"
     ]
    },
    {
     "name": "stdout",
     "output_type": "stream",
     "text": [
      "--> Mask 99 Read Complete, with dataset size: (10, 1, 80, 1000, 1000), 0 masks left ...\n",
      "\n"
     ]
    },
    {
     "name": "stderr",
     "output_type": "stream",
     "text": [
      "\n"
     ]
    }
   ],
   "source": [
    "dataset_train = dataset_append(opt, opt.dataidx_train, res_trans)\n",
    "dataset_test = dataset_append(opt, opt.dataidx_test, res_trans) "
   ]
  },
  {
   "cell_type": "code",
   "execution_count": 5,
   "metadata": {},
   "outputs": [],
   "source": [
    "def opt_strategy(model, opt):\n",
    "    optimizer = torch.optim.Adam(model.parameters(), lr=1e-2) #weight_decay=1e-4)\n",
    "    scheduler = None\n",
    "    #scheduler = torch.optim.lr_scheduler.CosineAnnealingLR(optimizer, T_max=50, eta_min=1e-5)\n",
    "    scheduler = torch.optim.lr_scheduler.StepLR(optimizer, step_size=100, gamma=0.7)\n",
    "    return optimizer, scheduler"
   ]
  },
  {
   "cell_type": "code",
   "execution_count": 6,
   "metadata": {
    "scrolled": true
   },
   "outputs": [
    {
     "name": "stderr",
     "output_type": "stream",
     "text": [
      "  0%|          | 1/1500 [00:35<14:47:32, 35.53s/it]"
     ]
    },
    {
     "name": "stdout",
     "output_type": "stream",
     "text": [
      "Epoch 0 | LR: 1.00e-02 | Train Loss: 9.18e+00 | Test Loss: 5.11e+01, 4.87e-02, 100.03%\n"
     ]
    },
    {
     "name": "stderr",
     "output_type": "stream",
     "text": [
      "  1%|▏         | 21/1500 [09:13<11:25:11, 27.80s/it]"
     ]
    },
    {
     "name": "stdout",
     "output_type": "stream",
     "text": [
      "Epoch 20 | LR: 1.00e-02 | Train Loss: 4.39e-02 | Test Loss: 7.19e+00, 3.77e-02, 49.47%\n"
     ]
    },
    {
     "name": "stderr",
     "output_type": "stream",
     "text": [
      "  3%|▎         | 41/1500 [18:26<12:25:18, 30.65s/it]"
     ]
    },
    {
     "name": "stdout",
     "output_type": "stream",
     "text": [
      "Epoch 40 | LR: 1.00e-02 | Train Loss: 3.12e-03 | Test Loss: 6.57e+00, 2.24e-02, 31.04%\n"
     ]
    },
    {
     "name": "stderr",
     "output_type": "stream",
     "text": [
      "  4%|▍         | 61/1500 [27:57<12:35:07, 31.49s/it]"
     ]
    },
    {
     "name": "stdout",
     "output_type": "stream",
     "text": [
      "Epoch 60 | LR: 1.00e-02 | Train Loss: 3.73e-04 | Test Loss: 3.27e+00, 1.14e-02, 17.97%\n"
     ]
    },
    {
     "name": "stderr",
     "output_type": "stream",
     "text": [
      "  5%|▌         | 81/1500 [37:26<12:17:08, 31.17s/it]"
     ]
    },
    {
     "name": "stdout",
     "output_type": "stream",
     "text": [
      "Epoch 80 | LR: 1.00e-02 | Train Loss: 3.11e-04 | Test Loss: 5.52e+00, 1.54e-02, 21.43%\n"
     ]
    },
    {
     "name": "stderr",
     "output_type": "stream",
     "text": [
      "  7%|▋         | 101/1500 [46:39<12:05:52, 31.13s/it]"
     ]
    },
    {
     "name": "stdout",
     "output_type": "stream",
     "text": [
      "Epoch 100 | LR: 7.00e-03 | Train Loss: 1.97e-04 | Test Loss: 3.01e+00, 1.14e-02, 15.50%\n"
     ]
    },
    {
     "name": "stderr",
     "output_type": "stream",
     "text": [
      "  8%|▊         | 121/1500 [56:09<12:05:23, 31.56s/it]"
     ]
    },
    {
     "name": "stdout",
     "output_type": "stream",
     "text": [
      "Epoch 120 | LR: 7.00e-03 | Train Loss: 8.62e-05 | Test Loss: 3.26e+00, 1.51e-02, 17.44%\n"
     ]
    },
    {
     "name": "stderr",
     "output_type": "stream",
     "text": [
      "  9%|▉         | 140/1500 [1:04:58<10:32:21, 27.90s/it]"
     ]
    },
    {
     "name": "stdout",
     "output_type": "stream",
     "text": [
      "Epoch 140 | LR: 7.00e-03 | Train Loss: 2.43e-04 | Test Loss: 2.13e+00, 6.52e-03, 12.70%\n",
      "\n",
      "!Model saved at Epoch 140, with Train Loss 2.43e-04(Total) | Test Error(Ihb): 6.52e-03(MSE), 12.70%(NRMSE)\n",
      "\n"
     ]
    },
    {
     "name": "stderr",
     "output_type": "stream",
     "text": [
      "\r",
      "  9%|▉         | 141/1500 [1:05:42<12:18:19, 32.60s/it]"
     ]
    },
    {
     "name": "stdout",
     "output_type": "stream",
     "text": [
      "!Model saved to  ./Ckpts/FNO.pth\n"
     ]
    },
    {
     "name": "stderr",
     "output_type": "stream",
     "text": [
      " 11%|█         | 161/1500 [1:14:31<10:30:52, 28.27s/it]"
     ]
    },
    {
     "name": "stdout",
     "output_type": "stream",
     "text": [
      "Epoch 160 | LR: 7.00e-03 | Train Loss: 1.60e-04 | Test Loss: 2.04e+00, 7.30e-03, 13.67%\n"
     ]
    },
    {
     "name": "stderr",
     "output_type": "stream",
     "text": [
      " 12%|█▏        | 181/1500 [1:23:16<10:20:07, 28.21s/it]"
     ]
    },
    {
     "name": "stdout",
     "output_type": "stream",
     "text": [
      "Epoch 180 | LR: 7.00e-03 | Train Loss: 2.16e-04 | Test Loss: 2.87e+00, 1.28e-02, 15.15%\n"
     ]
    },
    {
     "name": "stderr",
     "output_type": "stream",
     "text": [
      " 13%|█▎        | 201/1500 [1:32:02<10:11:55, 28.26s/it]"
     ]
    },
    {
     "name": "stdout",
     "output_type": "stream",
     "text": [
      "Epoch 200 | LR: 4.90e-03 | Train Loss: 8.63e-05 | Test Loss: 5.22e+00, 1.32e-02, 17.63%\n"
     ]
    },
    {
     "name": "stderr",
     "output_type": "stream",
     "text": [
      " 15%|█▍        | 221/1500 [1:40:49<10:03:25, 28.31s/it]"
     ]
    },
    {
     "name": "stdout",
     "output_type": "stream",
     "text": [
      "Epoch 220 | LR: 4.90e-03 | Train Loss: 6.14e-05 | Test Loss: 2.69e+00, 8.51e-03, 14.95%\n"
     ]
    },
    {
     "name": "stderr",
     "output_type": "stream",
     "text": [
      " 16%|█▌        | 241/1500 [1:49:35<9:53:04, 28.26s/it] "
     ]
    },
    {
     "name": "stdout",
     "output_type": "stream",
     "text": [
      "Epoch 240 | LR: 4.90e-03 | Train Loss: 1.54e-04 | Test Loss: 2.43e+00, 8.70e-03, 14.78%\n"
     ]
    },
    {
     "name": "stderr",
     "output_type": "stream",
     "text": [
      " 17%|█▋        | 260/1500 [1:57:40<8:44:55, 25.40s/it]"
     ]
    },
    {
     "name": "stdout",
     "output_type": "stream",
     "text": [
      "Epoch 260 | LR: 4.90e-03 | Train Loss: 1.42e-04 | Test Loss: 1.55e+00, 6.86e-03, 11.36%\n",
      "\n",
      "!Model saved at Epoch 260, with Train Loss 1.42e-04(Total) | Test Error(Ihb): 6.86e-03(MSE), 11.36%(NRMSE)\n",
      "\n"
     ]
    },
    {
     "name": "stderr",
     "output_type": "stream",
     "text": [
      "\r",
      " 17%|█▋        | 261/1500 [1:58:18<9:58:39, 28.99s/it]"
     ]
    },
    {
     "name": "stdout",
     "output_type": "stream",
     "text": [
      "!Model saved to  ./Ckpts/FNO.pth\n"
     ]
    },
    {
     "name": "stderr",
     "output_type": "stream",
     "text": [
      " 19%|█▊        | 281/1500 [2:06:54<9:23:54, 27.76s/it]"
     ]
    },
    {
     "name": "stdout",
     "output_type": "stream",
     "text": [
      "Epoch 280 | LR: 4.90e-03 | Train Loss: 7.42e-05 | Test Loss: 1.70e+00, 5.38e-03, 12.81%\n"
     ]
    },
    {
     "name": "stderr",
     "output_type": "stream",
     "text": [
      " 20%|██        | 301/1500 [2:15:32<9:14:11, 27.73s/it]"
     ]
    },
    {
     "name": "stdout",
     "output_type": "stream",
     "text": [
      "Epoch 300 | LR: 3.43e-03 | Train Loss: 5.26e-05 | Test Loss: 1.86e+00, 8.37e-03, 11.86%\n"
     ]
    },
    {
     "name": "stderr",
     "output_type": "stream",
     "text": [
      " 21%|██▏       | 321/1500 [2:24:08<9:04:14, 27.70s/it]"
     ]
    },
    {
     "name": "stdout",
     "output_type": "stream",
     "text": [
      "Epoch 320 | LR: 3.43e-03 | Train Loss: 4.75e-05 | Test Loss: 2.39e+00, 1.08e-02, 13.69%\n"
     ]
    },
    {
     "name": "stderr",
     "output_type": "stream",
     "text": [
      " 23%|██▎       | 341/1500 [2:32:45<8:55:59, 27.75s/it]"
     ]
    },
    {
     "name": "stdout",
     "output_type": "stream",
     "text": [
      "Epoch 340 | LR: 3.43e-03 | Train Loss: 1.45e-04 | Test Loss: 2.45e+00, 9.39e-03, 13.85%\n"
     ]
    },
    {
     "name": "stderr",
     "output_type": "stream",
     "text": [
      " 24%|██▍       | 361/1500 [2:41:23<8:47:13, 27.77s/it]"
     ]
    },
    {
     "name": "stdout",
     "output_type": "stream",
     "text": [
      "Epoch 360 | LR: 3.43e-03 | Train Loss: 1.27e-04 | Test Loss: 1.56e+00, 6.37e-03, 11.16%\n"
     ]
    },
    {
     "name": "stderr",
     "output_type": "stream",
     "text": [
      " 25%|██▌       | 381/1500 [2:49:59<8:37:19, 27.74s/it]"
     ]
    },
    {
     "name": "stdout",
     "output_type": "stream",
     "text": [
      "Epoch 380 | LR: 3.43e-03 | Train Loss: 1.31e-04 | Test Loss: 2.07e+00, 8.73e-03, 12.70%\n"
     ]
    },
    {
     "name": "stderr",
     "output_type": "stream",
     "text": [
      " 27%|██▋       | 401/1500 [2:58:36<8:29:02, 27.79s/it]"
     ]
    },
    {
     "name": "stdout",
     "output_type": "stream",
     "text": [
      "Epoch 400 | LR: 2.40e-03 | Train Loss: 1.34e-04 | Test Loss: 4.66e+00, 1.03e-02, 15.12%\n"
     ]
    },
    {
     "name": "stderr",
     "output_type": "stream",
     "text": [
      " 28%|██▊       | 421/1500 [3:07:14<8:19:05, 27.75s/it]"
     ]
    },
    {
     "name": "stdout",
     "output_type": "stream",
     "text": [
      "Epoch 420 | LR: 2.40e-03 | Train Loss: 4.42e-05 | Test Loss: 1.90e+00, 9.81e-03, 12.70%\n"
     ]
    },
    {
     "name": "stderr",
     "output_type": "stream",
     "text": [
      " 29%|██▉       | 441/1500 [3:15:51<8:09:04, 27.71s/it]"
     ]
    },
    {
     "name": "stdout",
     "output_type": "stream",
     "text": [
      "Epoch 440 | LR: 2.40e-03 | Train Loss: 4.19e-05 | Test Loss: 4.54e+00, 1.02e-02, 14.53%\n"
     ]
    },
    {
     "name": "stderr",
     "output_type": "stream",
     "text": [
      " 31%|███       | 461/1500 [3:24:25<7:59:39, 27.70s/it]"
     ]
    },
    {
     "name": "stdout",
     "output_type": "stream",
     "text": [
      "Epoch 460 | LR: 2.40e-03 | Train Loss: 5.36e-05 | Test Loss: 2.25e+00, 7.09e-03, 14.14%\n"
     ]
    },
    {
     "name": "stderr",
     "output_type": "stream",
     "text": [
      " 32%|███▏      | 481/1500 [3:33:03<7:50:59, 27.73s/it]"
     ]
    },
    {
     "name": "stdout",
     "output_type": "stream",
     "text": [
      "Epoch 480 | LR: 2.40e-03 | Train Loss: 5.64e-05 | Test Loss: 2.42e+00, 1.04e-02, 13.74%\n"
     ]
    },
    {
     "name": "stderr",
     "output_type": "stream",
     "text": [
      " 33%|███▎      | 501/1500 [3:41:40<7:42:35, 27.78s/it]"
     ]
    },
    {
     "name": "stdout",
     "output_type": "stream",
     "text": [
      "Epoch 500 | LR: 1.68e-03 | Train Loss: 4.26e-05 | Test Loss: 2.28e+00, 1.10e-02, 13.04%\n"
     ]
    },
    {
     "name": "stderr",
     "output_type": "stream",
     "text": [
      " 35%|███▍      | 521/1500 [3:50:20<7:33:58, 27.82s/it]"
     ]
    },
    {
     "name": "stdout",
     "output_type": "stream",
     "text": [
      "Epoch 520 | LR: 1.68e-03 | Train Loss: 1.55e-04 | Test Loss: 1.45e+00, 6.34e-03, 10.90%\n"
     ]
    },
    {
     "name": "stderr",
     "output_type": "stream",
     "text": [
      " 36%|███▌      | 541/1500 [3:58:58<7:23:44, 27.76s/it]"
     ]
    },
    {
     "name": "stdout",
     "output_type": "stream",
     "text": [
      "Epoch 540 | LR: 1.68e-03 | Train Loss: 1.44e-04 | Test Loss: 1.77e+00, 7.67e-03, 11.54%\n"
     ]
    },
    {
     "name": "stderr",
     "output_type": "stream",
     "text": [
      " 37%|███▋      | 561/1500 [4:07:34<7:12:40, 27.65s/it]"
     ]
    },
    {
     "name": "stdout",
     "output_type": "stream",
     "text": [
      "Epoch 560 | LR: 1.68e-03 | Train Loss: 1.11e-04 | Test Loss: 1.89e+00, 7.35e-03, 12.11%\n"
     ]
    },
    {
     "name": "stderr",
     "output_type": "stream",
     "text": [
      " 39%|███▊      | 581/1500 [4:16:11<7:06:26, 27.84s/it]"
     ]
    },
    {
     "name": "stdout",
     "output_type": "stream",
     "text": [
      "Epoch 580 | LR: 1.68e-03 | Train Loss: 9.40e-05 | Test Loss: 2.65e+00, 9.90e-03, 14.67%\n"
     ]
    },
    {
     "name": "stderr",
     "output_type": "stream",
     "text": [
      " 40%|████      | 601/1500 [4:24:49<6:55:38, 27.74s/it]"
     ]
    },
    {
     "name": "stdout",
     "output_type": "stream",
     "text": [
      "Epoch 600 | LR: 1.18e-03 | Train Loss: 4.84e-05 | Test Loss: 1.70e+00, 7.83e-03, 12.11%\n"
     ]
    },
    {
     "name": "stderr",
     "output_type": "stream",
     "text": [
      " 41%|████▏     | 621/1500 [4:33:25<6:45:03, 27.65s/it]"
     ]
    },
    {
     "name": "stdout",
     "output_type": "stream",
     "text": [
      "Epoch 620 | LR: 1.18e-03 | Train Loss: 5.15e-05 | Test Loss: 2.17e+00, 6.93e-03, 13.82%\n"
     ]
    },
    {
     "name": "stderr",
     "output_type": "stream",
     "text": [
      " 43%|████▎     | 641/1500 [4:42:01<6:38:22, 27.83s/it]"
     ]
    },
    {
     "name": "stdout",
     "output_type": "stream",
     "text": [
      "Epoch 640 | LR: 1.18e-03 | Train Loss: 8.75e-05 | Test Loss: 2.02e+00, 9.15e-03, 13.03%\n"
     ]
    },
    {
     "name": "stderr",
     "output_type": "stream",
     "text": [
      " 44%|████▍     | 661/1500 [4:50:38<6:27:50, 27.74s/it]"
     ]
    },
    {
     "name": "stdout",
     "output_type": "stream",
     "text": [
      "Epoch 660 | LR: 1.18e-03 | Train Loss: 1.10e-04 | Test Loss: 1.84e+00, 8.09e-03, 11.48%\n"
     ]
    },
    {
     "name": "stderr",
     "output_type": "stream",
     "text": [
      " 45%|████▌     | 681/1500 [4:59:15<6:17:40, 27.67s/it]"
     ]
    },
    {
     "name": "stdout",
     "output_type": "stream",
     "text": [
      "Epoch 680 | LR: 1.18e-03 | Train Loss: 3.92e-05 | Test Loss: 1.47e+00, 6.67e-03, 11.04%\n"
     ]
    },
    {
     "name": "stderr",
     "output_type": "stream",
     "text": [
      " 47%|████▋     | 701/1500 [5:07:52<6:09:37, 27.76s/it]"
     ]
    },
    {
     "name": "stdout",
     "output_type": "stream",
     "text": [
      "Epoch 700 | LR: 8.24e-04 | Train Loss: 5.07e-05 | Test Loss: 1.58e+00, 8.15e-03, 10.96%\n"
     ]
    },
    {
     "name": "stderr",
     "output_type": "stream",
     "text": [
      " 48%|████▊     | 721/1500 [5:16:29<6:00:02, 27.73s/it]"
     ]
    },
    {
     "name": "stdout",
     "output_type": "stream",
     "text": [
      "Epoch 720 | LR: 8.24e-04 | Train Loss: 1.32e-04 | Test Loss: 4.60e+00, 9.36e-03, 15.79%\n"
     ]
    },
    {
     "name": "stderr",
     "output_type": "stream",
     "text": [
      " 49%|████▉     | 741/1500 [5:25:07<5:52:37, 27.88s/it]"
     ]
    },
    {
     "name": "stdout",
     "output_type": "stream",
     "text": [
      "Epoch 740 | LR: 8.24e-04 | Train Loss: 4.60e-05 | Test Loss: 4.99e+00, 1.17e-02, 16.02%\n"
     ]
    },
    {
     "name": "stderr",
     "output_type": "stream",
     "text": [
      " 51%|█████     | 760/1500 [5:33:09<5:13:04, 25.38s/it]"
     ]
    },
    {
     "name": "stdout",
     "output_type": "stream",
     "text": [
      "Epoch 760 | LR: 8.24e-04 | Train Loss: 1.15e-04 | Test Loss: 1.12e+00, 5.82e-03, 9.81%\n",
      "\n",
      "!Model saved at Epoch 760, with Train Loss 1.15e-04(Total) | Test Error(Ihb): 5.82e-03(MSE), 9.81%(NRMSE)\n",
      "\n"
     ]
    },
    {
     "name": "stderr",
     "output_type": "stream",
     "text": [
      "\r",
      " 51%|█████     | 761/1500 [5:33:46<5:55:23, 28.85s/it]"
     ]
    },
    {
     "name": "stdout",
     "output_type": "stream",
     "text": [
      "!Model saved to  ./Ckpts/FNO.pth\n"
     ]
    },
    {
     "name": "stderr",
     "output_type": "stream",
     "text": [
      " 52%|█████▏    | 781/1500 [5:42:25<5:30:13, 27.56s/it]"
     ]
    },
    {
     "name": "stdout",
     "output_type": "stream",
     "text": [
      "Epoch 780 | LR: 8.24e-04 | Train Loss: 3.65e-05 | Test Loss: 2.28e+00, 1.17e-02, 13.36%\n"
     ]
    },
    {
     "name": "stderr",
     "output_type": "stream",
     "text": [
      " 53%|█████▎    | 801/1500 [5:51:37<5:53:57, 30.38s/it]"
     ]
    },
    {
     "name": "stdout",
     "output_type": "stream",
     "text": [
      "Epoch 800 | LR: 5.76e-04 | Train Loss: 3.28e-05 | Test Loss: 1.73e+00, 9.30e-03, 11.49%\n"
     ]
    },
    {
     "name": "stderr",
     "output_type": "stream",
     "text": [
      " 55%|█████▍    | 821/1500 [6:00:59<5:48:36, 30.81s/it]"
     ]
    },
    {
     "name": "stdout",
     "output_type": "stream",
     "text": [
      "Epoch 820 | LR: 5.76e-04 | Train Loss: 4.29e-05 | Test Loss: 2.06e+00, 7.90e-03, 12.58%\n"
     ]
    },
    {
     "name": "stderr",
     "output_type": "stream",
     "text": [
      " 56%|█████▌    | 841/1500 [6:10:06<5:06:11, 27.88s/it]"
     ]
    },
    {
     "name": "stdout",
     "output_type": "stream",
     "text": [
      "Epoch 840 | LR: 5.76e-04 | Train Loss: 5.61e-05 | Test Loss: 1.99e+00, 8.84e-03, 12.09%\n"
     ]
    },
    {
     "name": "stderr",
     "output_type": "stream",
     "text": [
      " 57%|█████▋    | 861/1500 [6:18:41<4:54:43, 27.67s/it]"
     ]
    },
    {
     "name": "stdout",
     "output_type": "stream",
     "text": [
      "Epoch 860 | LR: 5.76e-04 | Train Loss: 1.41e-04 | Test Loss: 2.04e+00, 8.99e-03, 12.27%\n"
     ]
    },
    {
     "name": "stderr",
     "output_type": "stream",
     "text": [
      " 59%|█████▊    | 881/1500 [6:27:27<5:14:19, 30.47s/it]"
     ]
    },
    {
     "name": "stdout",
     "output_type": "stream",
     "text": [
      "Epoch 880 | LR: 5.76e-04 | Train Loss: 5.98e-05 | Test Loss: 1.74e+00, 6.85e-03, 11.71%\n"
     ]
    },
    {
     "name": "stderr",
     "output_type": "stream",
     "text": [
      " 60%|██████    | 901/1500 [6:36:48<5:08:53, 30.94s/it]"
     ]
    },
    {
     "name": "stdout",
     "output_type": "stream",
     "text": [
      "Epoch 900 | LR: 4.04e-04 | Train Loss: 3.46e-05 | Test Loss: 1.83e+00, 8.08e-03, 11.34%\n"
     ]
    },
    {
     "name": "stderr",
     "output_type": "stream",
     "text": [
      " 61%|██████▏   | 921/1500 [6:46:09<5:00:02, 31.09s/it]"
     ]
    },
    {
     "name": "stdout",
     "output_type": "stream",
     "text": [
      "Epoch 920 | LR: 4.04e-04 | Train Loss: 4.31e-05 | Test Loss: 4.62e+00, 1.18e-02, 15.64%\n"
     ]
    },
    {
     "name": "stderr",
     "output_type": "stream",
     "text": [
      " 63%|██████▎   | 941/1500 [6:54:58<4:19:36, 27.87s/it]"
     ]
    },
    {
     "name": "stdout",
     "output_type": "stream",
     "text": [
      "Epoch 940 | LR: 4.04e-04 | Train Loss: 3.29e-05 | Test Loss: 1.86e+00, 6.99e-03, 13.02%\n"
     ]
    },
    {
     "name": "stderr",
     "output_type": "stream",
     "text": [
      " 64%|██████▍   | 961/1500 [7:03:35<4:07:46, 27.58s/it]"
     ]
    },
    {
     "name": "stdout",
     "output_type": "stream",
     "text": [
      "Epoch 960 | LR: 4.04e-04 | Train Loss: 3.79e-05 | Test Loss: 1.14e+00, 5.92e-03, 9.54%\n"
     ]
    },
    {
     "name": "stderr",
     "output_type": "stream",
     "text": [
      " 65%|██████▌   | 981/1500 [7:12:38<4:21:23, 30.22s/it]"
     ]
    },
    {
     "name": "stdout",
     "output_type": "stream",
     "text": [
      "Epoch 980 | LR: 4.04e-04 | Train Loss: 3.60e-05 | Test Loss: 4.48e+00, 1.06e-02, 14.60%\n"
     ]
    },
    {
     "name": "stderr",
     "output_type": "stream",
     "text": [
      " 67%|██████▋   | 1001/1500 [7:22:03<4:18:26, 31.08s/it]"
     ]
    },
    {
     "name": "stdout",
     "output_type": "stream",
     "text": [
      "Epoch 1000 | LR: 2.82e-04 | Train Loss: 6.12e-05 | Test Loss: 1.95e+00, 7.58e-03, 12.19%\n"
     ]
    },
    {
     "name": "stderr",
     "output_type": "stream",
     "text": [
      " 68%|██████▊   | 1021/1500 [7:31:20<3:48:31, 28.62s/it]"
     ]
    },
    {
     "name": "stdout",
     "output_type": "stream",
     "text": [
      "Epoch 1020 | LR: 2.82e-04 | Train Loss: 6.47e-05 | Test Loss: 2.04e+00, 9.83e-03, 13.40%\n"
     ]
    },
    {
     "name": "stderr",
     "output_type": "stream",
     "text": [
      " 69%|██████▉   | 1041/1500 [7:39:56<3:32:32, 27.78s/it]"
     ]
    },
    {
     "name": "stdout",
     "output_type": "stream",
     "text": [
      "Epoch 1040 | LR: 2.82e-04 | Train Loss: 1.19e-04 | Test Loss: 2.16e+00, 9.43e-03, 12.08%\n"
     ]
    },
    {
     "name": "stderr",
     "output_type": "stream",
     "text": [
      " 71%|███████   | 1061/1500 [7:48:35<3:24:00, 27.88s/it]"
     ]
    },
    {
     "name": "stdout",
     "output_type": "stream",
     "text": [
      "Epoch 1060 | LR: 2.82e-04 | Train Loss: 4.12e-05 | Test Loss: 2.09e+00, 7.59e-03, 11.88%\n"
     ]
    },
    {
     "name": "stderr",
     "output_type": "stream",
     "text": [
      " 72%|███████▏  | 1081/1500 [7:57:15<3:14:00, 27.78s/it]"
     ]
    },
    {
     "name": "stdout",
     "output_type": "stream",
     "text": [
      "Epoch 1080 | LR: 2.82e-04 | Train Loss: 3.98e-05 | Test Loss: 1.52e+00, 7.64e-03, 11.16%\n"
     ]
    },
    {
     "name": "stderr",
     "output_type": "stream",
     "text": [
      " 73%|███████▎  | 1101/1500 [8:05:50<3:04:21, 27.72s/it]"
     ]
    },
    {
     "name": "stdout",
     "output_type": "stream",
     "text": [
      "Epoch 1100 | LR: 1.98e-04 | Train Loss: 3.02e-05 | Test Loss: 1.12e+00, 5.30e-03, 10.24%\n"
     ]
    },
    {
     "name": "stderr",
     "output_type": "stream",
     "text": [
      " 75%|███████▍  | 1121/1500 [8:14:28<2:55:34, 27.80s/it]"
     ]
    },
    {
     "name": "stdout",
     "output_type": "stream",
     "text": [
      "Epoch 1120 | LR: 1.98e-04 | Train Loss: 4.20e-05 | Test Loss: 2.21e+00, 9.15e-03, 12.35%\n"
     ]
    },
    {
     "name": "stderr",
     "output_type": "stream",
     "text": [
      " 76%|███████▌  | 1141/1500 [8:23:06<2:46:12, 27.78s/it]"
     ]
    },
    {
     "name": "stdout",
     "output_type": "stream",
     "text": [
      "Epoch 1140 | LR: 1.98e-04 | Train Loss: 1.21e-04 | Test Loss: 4.59e+00, 9.98e-03, 15.82%\n"
     ]
    },
    {
     "name": "stderr",
     "output_type": "stream",
     "text": [
      " 77%|███████▋  | 1161/1500 [8:31:43<2:36:54, 27.77s/it]"
     ]
    },
    {
     "name": "stdout",
     "output_type": "stream",
     "text": [
      "Epoch 1160 | LR: 1.98e-04 | Train Loss: 3.62e-05 | Test Loss: 1.67e+00, 7.21e-03, 11.01%\n"
     ]
    },
    {
     "name": "stderr",
     "output_type": "stream",
     "text": [
      " 79%|███████▊  | 1181/1500 [8:40:20<2:27:45, 27.79s/it]"
     ]
    },
    {
     "name": "stdout",
     "output_type": "stream",
     "text": [
      "Epoch 1180 | LR: 1.98e-04 | Train Loss: 5.98e-05 | Test Loss: 1.40e+00, 7.69e-03, 10.90%\n"
     ]
    },
    {
     "name": "stderr",
     "output_type": "stream",
     "text": [
      " 80%|████████  | 1201/1500 [8:48:59<2:18:34, 27.81s/it]"
     ]
    },
    {
     "name": "stdout",
     "output_type": "stream",
     "text": [
      "Epoch 1200 | LR: 1.38e-04 | Train Loss: 1.42e-04 | Test Loss: 1.72e+00, 8.74e-03, 11.75%\n"
     ]
    },
    {
     "name": "stderr",
     "output_type": "stream",
     "text": [
      " 81%|████████▏ | 1221/1500 [8:57:37<2:09:37, 27.88s/it]"
     ]
    },
    {
     "name": "stdout",
     "output_type": "stream",
     "text": [
      "Epoch 1220 | LR: 1.38e-04 | Train Loss: 4.18e-05 | Test Loss: 1.73e+00, 8.47e-03, 11.98%\n"
     ]
    },
    {
     "name": "stderr",
     "output_type": "stream",
     "text": [
      " 83%|████████▎ | 1241/1500 [9:06:08<1:58:08, 27.37s/it]"
     ]
    },
    {
     "name": "stdout",
     "output_type": "stream",
     "text": [
      "Epoch 1240 | LR: 1.38e-04 | Train Loss: 6.79e-05 | Test Loss: 1.66e+00, 6.37e-03, 11.80%\n"
     ]
    },
    {
     "name": "stderr",
     "output_type": "stream",
     "text": [
      " 84%|████████▍ | 1261/1500 [9:14:59<2:01:51, 30.59s/it]"
     ]
    },
    {
     "name": "stdout",
     "output_type": "stream",
     "text": [
      "Epoch 1260 | LR: 1.38e-04 | Train Loss: 6.34e-05 | Test Loss: 2.01e+00, 6.87e-03, 13.91%\n"
     ]
    },
    {
     "name": "stderr",
     "output_type": "stream",
     "text": [
      " 85%|████████▌ | 1281/1500 [9:24:17<1:50:01, 30.14s/it]"
     ]
    },
    {
     "name": "stdout",
     "output_type": "stream",
     "text": [
      "Epoch 1280 | LR: 1.38e-04 | Train Loss: 8.26e-05 | Test Loss: 2.18e+00, 8.34e-03, 11.78%\n"
     ]
    },
    {
     "name": "stderr",
     "output_type": "stream",
     "text": [
      " 87%|████████▋ | 1301/1500 [9:33:24<1:32:50, 27.99s/it]"
     ]
    },
    {
     "name": "stdout",
     "output_type": "stream",
     "text": [
      "Epoch 1300 | LR: 9.69e-05 | Train Loss: 1.05e-04 | Test Loss: 4.69e+00, 8.80e-03, 15.69%\n"
     ]
    },
    {
     "name": "stderr",
     "output_type": "stream",
     "text": [
      " 88%|████████▊ | 1321/1500 [9:42:00<1:23:32, 28.00s/it]"
     ]
    },
    {
     "name": "stdout",
     "output_type": "stream",
     "text": [
      "Epoch 1320 | LR: 9.69e-05 | Train Loss: 3.57e-05 | Test Loss: 2.10e+00, 1.10e-02, 12.59%\n"
     ]
    },
    {
     "name": "stderr",
     "output_type": "stream",
     "text": [
      " 89%|████████▉ | 1341/1500 [9:57:11<3:31:36, 79.85s/it]"
     ]
    },
    {
     "name": "stdout",
     "output_type": "stream",
     "text": [
      "Epoch 1340 | LR: 9.69e-05 | Train Loss: 6.02e-05 | Test Loss: 1.45e+00, 5.45e-03, 10.25%\n"
     ]
    },
    {
     "name": "stderr",
     "output_type": "stream",
     "text": [
      " 91%|█████████ | 1361/1500 [10:22:00<3:35:38, 93.08s/it]"
     ]
    },
    {
     "name": "stdout",
     "output_type": "stream",
     "text": [
      "Epoch 1360 | LR: 9.69e-05 | Train Loss: 5.14e-05 | Test Loss: 2.65e+00, 1.17e-02, 13.77%\n"
     ]
    },
    {
     "name": "stderr",
     "output_type": "stream",
     "text": [
      " 92%|█████████▏| 1381/1500 [10:45:46<2:49:04, 85.25s/it]"
     ]
    },
    {
     "name": "stdout",
     "output_type": "stream",
     "text": [
      "Epoch 1380 | LR: 9.69e-05 | Train Loss: 3.94e-05 | Test Loss: 1.44e+00, 7.34e-03, 10.68%\n"
     ]
    },
    {
     "name": "stderr",
     "output_type": "stream",
     "text": [
      " 93%|█████████▎| 1401/1500 [11:10:13<2:21:23, 85.69s/it]"
     ]
    },
    {
     "name": "stdout",
     "output_type": "stream",
     "text": [
      "Epoch 1400 | LR: 6.78e-05 | Train Loss: 9.86e-05 | Test Loss: 1.38e+00, 6.35e-03, 11.34%\n"
     ]
    },
    {
     "name": "stderr",
     "output_type": "stream",
     "text": [
      " 95%|█████████▍| 1421/1500 [11:34:02<1:53:29, 86.19s/it]"
     ]
    },
    {
     "name": "stdout",
     "output_type": "stream",
     "text": [
      "Epoch 1420 | LR: 6.78e-05 | Train Loss: 1.06e-04 | Test Loss: 1.77e+00, 8.67e-03, 11.85%\n"
     ]
    },
    {
     "name": "stderr",
     "output_type": "stream",
     "text": [
      " 96%|█████████▌| 1441/1500 [11:54:29<1:10:27, 71.66s/it]"
     ]
    },
    {
     "name": "stdout",
     "output_type": "stream",
     "text": [
      "Epoch 1440 | LR: 6.78e-05 | Train Loss: 3.51e-05 | Test Loss: 2.39e+00, 1.04e-02, 14.44%\n"
     ]
    },
    {
     "name": "stderr",
     "output_type": "stream",
     "text": [
      " 97%|█████████▋| 1461/1500 [12:14:29<45:13, 69.59s/it]  "
     ]
    },
    {
     "name": "stdout",
     "output_type": "stream",
     "text": [
      "Epoch 1460 | LR: 6.78e-05 | Train Loss: 3.17e-05 | Test Loss: 4.32e+00, 9.82e-03, 14.25%\n"
     ]
    },
    {
     "name": "stderr",
     "output_type": "stream",
     "text": [
      " 99%|█████████▊| 1481/1500 [12:34:15<21:55, 69.23s/it]"
     ]
    },
    {
     "name": "stdout",
     "output_type": "stream",
     "text": [
      "Epoch 1480 | LR: 6.78e-05 | Train Loss: 5.26e-05 | Test Loss: 4.88e+00, 1.39e-02, 16.08%\n"
     ]
    },
    {
     "name": "stderr",
     "output_type": "stream",
     "text": [
      "100%|██████████| 1500/1500 [12:52:01<00:00, 30.88s/it]\n"
     ]
    }
   ],
   "source": [
    "TotLoss = nn.MSELoss()\n",
    "optimizer, scheduler = opt_strategy(model, opt)\n",
    "train_log, test_log, lr_log = train(model, optimizer, scheduler, opt, dataset_train, device_train,\n",
    "                                           dataset_test, res_trans, ckpt_name, TotLoss=TotLoss)\n",
    "if not os.path.exists(opt.load_model_path):\n",
    "    save(model, opt.modelpath, ckpt_name)\n",
    "plt.plot(np.mean(train_log.reshape(-1,opt.batch_size),axis=-1));plt.yscale(\"log\");plt.show()"
   ]
  },
  {
   "cell_type": "code",
   "execution_count": 4,
   "metadata": {
    "scrolled": true
   },
   "outputs": [
    {
     "name": "stdout",
     "output_type": "stream",
     "text": [
      "Net Initialized\n",
      "!Model load from  ./Ckpts/FNO.pth\n",
      "<bound method Module.parameters of FNO(\n",
      "  (dsp): Sequential(\n",
      "    (0): Conv3d(1, 1, kernel_size=(3, 3, 3), stride=(1, 2, 2), padding=(1, 1, 1), padding_mode=replicate)\n",
      "  )\n",
      "  (fn0): Sequential(\n",
      "    (0): Linear(in_features=1, out_features=25, bias=True)\n",
      "  )\n",
      "  (activation): LeakyReLU(negative_slope=0.01, inplace=True)\n",
      "  (conv1): SpectralConv3d()\n",
      "  (w1): Sequential(\n",
      "    (0): Conv3d(25, 25, kernel_size=(1, 1, 1), stride=(1, 1, 1))\n",
      "  )\n",
      "  (fn1): Sequential(\n",
      "    (0): Linear(in_features=25, out_features=64, bias=True)\n",
      "  )\n",
      "  (fn2): Sequential(\n",
      "    (0): Linear(in_features=64, out_features=1, bias=True)\n",
      "  )\n",
      "  (usp): Sequential(\n",
      "    (0): Upsample(scale_factor=(1.0, 2.0, 2.0), mode=trilinear)\n",
      "  )\n",
      ")>\n",
      "allocated and reserved GPU memory: 3.7253170013427734, 3.736328125 (GiB)\n"
     ]
    },
    {
     "name": "stderr",
     "output_type": "stream",
     "text": [
      "\r",
      "  0%|          | 0/20 [00:00<?, ?it/s]"
     ]
    },
    {
     "name": "stdout",
     "output_type": "stream",
     "text": [
      "../dataset_train_v1/0080Acid_ini Read in 0.14 s\n",
      "../dataset_train_v1/0080Inhibitor Read in 0.14 s\n",
      "RMSE for label 0: [0.011 0.932]\n",
      "NMSE for label 0: [12.861  2.342]\n",
      "NMSE_height for label 0: [12.985  2.314]\n"
     ]
    },
    {
     "name": "stderr",
     "output_type": "stream",
     "text": [
      "<<<\n",
      "time:\t1.69667s\n",
      "<<<\n"
     ]
    },
    {
     "name": "stdout",
     "output_type": "stream",
     "text": [
      "\n",
      "!Start to clear memory\n"
     ]
    },
    {
     "name": "stderr",
     "output_type": "stream",
     "text": [
      "<<<\n",
      "time:\t1.55169s\n",
      "<<<\n"
     ]
    },
    {
     "name": "stdout",
     "output_type": "stream",
     "text": [
      "CD_x error at height 0:\n",
      " [ 0.01  0.05 -1.35 -0.    0.02 -0.78 -0.45 -4.92 -0.    0.01  0.12 -0.93 -1.06  0.02 -0.01 -0.13\n",
      "  0.09  0.21 -3.56]\n",
      "CD_y error at height 0:\n",
      " [ 3.34 -0.22 -0.    0.03  0.14  0.   -0.4  -0.    0.02 -0.    0.05  0.05 -0.   -0.02 -0.2  -0.32\n",
      "  0.01 -0.01 -0.01]\n",
      "CD_x error at height 8:\n",
      " [ 0.07  0.1  -0.09 -0.2   0.02 -0.07  0.   -3.68 -0.02  0.11 -0.   -0.   -0.38  0.1   0.12  0.08\n",
      "  0.01  0.57 -1.02]\n",
      "CD_y error at height 8:\n",
      " [ 4.78 -0.12  0.06 -0.01  0.03 -0.01 -0.11 -0.01 -0.01  0.02 -0.04 -0.01 -0.01  0.18 -0.05  0.01\n",
      "  0.08 -0.01  0.02]\n",
      "CD_x error at height 16:\n",
      " [ 0.04  0.14 -0.   -1.1  -0.16 -0.13 -0.   -1.71 -0.   -0.    0.08 -0.16 -1.73 -0.02  0.08 -0.12\n",
      "  0.02  0.21 -0.72]\n",
      "CD_y error at height 16:\n",
      " [ 3.66  0.13 -0.04 -0.    0.01  0.04 -0.22  0.11  0.02 -0.07  0.    0.29  0.28  0.01 -0.01 -0.\n",
      "  0.02  0.09 -0.  ]\n",
      "CD_x error at height 24:\n",
      " [-0.73  0.15  0.16 -3.07 -0.83 -0.66 -0.39 -2.18  0.08 -0.43  0.03  0.07 -3.76  0.02 -0.09 -0.53\n",
      "  0.07 -0.05  0.63]\n",
      "CD_y error at height 24:\n",
      " [ 3.24 -0.02 -0.01 -0.    0.19  0.03 -0.1   0.08 -0.   -0.04 -0.   -0.01  0.09  0.01 -0.02  0.01\n",
      "  0.01 -0.04  0.07]\n",
      "CD_x error at height 32:\n",
      " [-1.22 -1.15 -1.07 -0.92 -1.21 -0.62 -3.39 -3.54 -0.11 -0.03 -1.15  0.11 -3.17 -1.16 -2.67 -1.23\n",
      " -0.   -0.85  0.75]\n",
      "CD_y error at height 32:\n",
      " [ 6.93  0.01  0.05 -0.    0.03  0.13 -0.01 -0.07  0.03 -0.04  0.02 -0.01 -0.01 -0.    0.04  0.02\n",
      "  0.   -0.08 -0.01]\n",
      "CD_x error at height 40:\n",
      " [-0.19 -3.07 -2.44 -1.81 -3.01 -0.4  -0.08 -5.64 -0.41 -1.74 -0.18  2.26 -1.79 -3.   -3.89  0.18\n",
      " -0.   -2.16  0.64]\n",
      "CD_y error at height 40:\n",
      " [ 6.88  0.01  0.01 -0.02  0.01  0.04  0.01  0.05  0.07 -0.   -0.02 -0.01  0.01  0.01 -0.01 -0.03\n",
      "  0.01  0.   -0.02]\n",
      "CD_x error at height 48:\n",
      " [-2.91 -1.1  -4.1  -3.82 -3.6  -0.2  -2.77 -1.33 -0.   -4.22  1.34  0.13 -2.47 -3.05 -1.01 -2.17\n",
      " -0.2  -5.02  3.21]\n",
      "CD_y error at height 48:\n",
      " [ 9.69 -0.82 -1.18 -0.    0.03 -0.01 -0.    0.12  0.06 -0.01 -0.    0.01 -0.47  0.04  0.01 -0.12\n",
      " -0.01  0.13 -0.06]\n",
      "CD_x error at height 56:\n",
      " [-0.84 -0.93 -1.4  -1.94 -1.84 -0.03 -2.88 -4.04  0.52 -1.5  -1.47  0.03 -2.89 -3.33 -2.64 -1.45\n",
      "  0.41 -0.69  2.86]\n",
      "CD_y error at height 56:\n",
      " [ 6.63 -2.61 -3.61 -2.24 -2.09 -0.02 -0.92 -1.61 -0.   -2.68  0.14  0.01 -4.27 -0.71 -0.04 -3.05\n",
      " -1.19 -0.   -0.41]\n",
      "CD_x error at height 64:\n",
      " [-3.76 -1.97 -4.28 -5.42 -3.95 -2.34 -3.51 -5.3  -0.08 -2.29  2.27 -0.34 -3.44 -3.79 -1.67 -2.46\n",
      " -0.13 -6.13  3.65]\n",
      "CD_y error at height 64:\n",
      " [ 6.93 -4.28 -4.64 -3.52 -2.57 -0.23 -1.93 -2.09  0.31 -5.12  0.29 -5.95 -2.88 -3.03 -2.54 -4.13\n",
      " -3.45 -1.7   0.23]\n"
     ]
    },
    {
     "name": "stderr",
     "output_type": "stream",
     "text": [
      "\r",
      "  5%|▌         | 1/20 [28:05<8:53:53, 1685.96s/it]"
     ]
    },
    {
     "name": "stdout",
     "output_type": "stream",
     "text": [
      "CD_x error at height 72:\n",
      " [ -3.66   1.05  -5.19  -8.05  -4.64  -2.16  -3.78 -12.76   0.54  -6.76   2.73  -2.69  -9.07  -3.24\n",
      "  -1.95  -2.17  -0.17  -5.02]\n",
      "CD_y error at height 72:\n",
      " [-13.42  -9.1   -1.7   -2.58   0.67  -4.51  -3.57   3.75  -4.3    2.8  -10.66  -4.49  -3.     0.73\n",
      "  -5.92  -6.08  -4.4    0.23]\n",
      "CD_RMSE for label 0: [2.506 2.496]\n",
      "../dataset_train_v1/0081Acid_ini Read in 0.15 s\n",
      "../dataset_train_v1/0081Inhibitor Read in 0.13 s\n",
      "RMSE for label 1: [0.012 1.058]\n",
      "NMSE for label 1: [13.318  2.66 ]\n",
      "NMSE_height for label 1: [13.471  2.612]\n",
      "\n",
      "!Start to clear memory\n"
     ]
    },
    {
     "name": "stderr",
     "output_type": "stream",
     "text": [
      "<<<\n",
      "time:\t1.34606s\n",
      "<<<\n",
      "<<<\n",
      "time:\t1.6283s\n",
      "<<<\n"
     ]
    },
    {
     "name": "stdout",
     "output_type": "stream",
     "text": [
      "\n",
      "!Start to clear memory\n",
      "CD_x error at height 0:\n",
      " [ 0.03 -0.34  0.02  0.01 -0.04  0.07  0.01 -1.54  0.09 -0.   -0.06 -1.15 -0.02  0.13 -1.04 -0.\n",
      " -0.02  0.   -0.8   3.08]\n",
      "CD_y error at height 0:\n",
      " [ 0.04  1.41  0.2   0.04  0.09  0.04 -0.02  0.01  0.07  0.02  0.38  0.02  0.03  0.08  0.    0.06\n",
      " -0.    0.08  0.01  0.03]\n",
      "CD_x error at height 8:\n",
      " [-0.02 -0.01  0.06 -0.   -0.05 -0.03 -0.06 -3.07  0.02  0.03 -0.01 -0.18 -0.01  0.01 -0.37 -0.01\n",
      " -0.   -0.08 -0.01  3.56]\n",
      "CD_y error at height 8:\n",
      " [ 3.34  0.19  0.61  0.02  0.02  0.08  0.22  0.07  0.19 -0.02  0.09 -0.   -0.01  0.01  0.34 -0.\n",
      "  0.02 -0.    0.02 -0.02]\n",
      "CD_x error at height 16:\n",
      " [ 0.29 -0.22 -0.   -0.06  0.03 -0.01  0.01 -3.13  0.   -0.4  -0.08 -0.71 -0.01  0.02 -0.96  0.01\n",
      "  0.07 -0.21 -0.02  4.11]\n",
      "CD_y error at height 16:\n",
      " [-0.03  1.52 -0.    0.01  0.03 -0.06  0.06 -0.01 -0.01 -0.02 -0.    0.03  0.03  0.04  0.88 -0.02\n",
      " -0.01  0.03  0.08 -0.  ]\n",
      "CD_x error at height 24:\n",
      " [-0.02 -0.69 -0.01 -0.45 -0.03 -0.   -0.39 -0.18  0.26 -0.3  -0.1  -1.42  0.01 -0.31 -1.17  0.05\n",
      "  0.02 -0.47 -0.01  4.59]\n",
      "CD_y error at height 24:\n",
      " [ 0.09  3.11  0.16  0.04  0.04  0.02 -0.1   0.03  0.03  0.04  0.11 -0.02  0.33  0.03 -0.03  0.29\n",
      " -0.02 -0.    0.01  0.01]\n",
      "CD_x error at height 32:\n",
      " [-0.05 -2.13 -0.06 -3.07  0.59 -0.1  -3.21 -0.99  0.51 -2.9  -0.33 -2.33  0.    0.11 -1.13  0.1\n",
      " -0.   -2.43  0.02  4.08]\n",
      "CD_y error at height 32:\n",
      " [ 3.42  0.02  0.04 -0.    0.03 -0.02  0.05 -0.    0.03 -0.03  0.06  0.05  0.14  0.08  0.07  0.02\n",
      " -0.    0.01  0.08  0.01]\n",
      "CD_x error at height 40:\n",
      " [ 1.84 -0.02 -0.96  0.05  0.29 -0.69 -3.4  -0.72  0.04 -2.58 -3.39 -0.66 -0.28 -1.09 -3.9   0.03\n",
      "  0.02  1.12 -3.07  7.09]\n",
      "CD_y error at height 40:\n",
      " [ 6.   -0.    0.04 -0.01 -0.02 -0.    0.05  0.04  0.   -0.01 -0.01  0.11 -0.04 -0.03  0.01  0.01\n",
      " -0.   -0.   -0.01 -0.01]\n",
      "CD_x error at height 48:\n",
      " [ 0.67  0.27  0.28 -1.1   0.49  0.57 -2.18 -0.58  0.14 -1.82 -0.66 -0.07 -0.39 -2.96 -0.93 -1.21\n",
      " -0.13  0.44 -1.92  7.64]\n",
      "CD_y error at height 48:\n",
      " [ 6.83 -0.    0.47 -0.   -0.01 -0.    0.   -0.03  0.    0.04 -0.   -0.01 -0.   -0.08  0.01  0.07\n",
      " -0.02  0.   -0.   -0.02]\n",
      "CD_x error at height 56:\n",
      " [ 0.69  0.23  0.03 -5.29  0.06  2.12 -3.59 -0.7   1.9  -2.81 -0.43 -2.35 -2.5  -3.19 -1.6  -5.28\n",
      " -4.06  0.18 -2.9   7.13]\n",
      "CD_y error at height 56:\n",
      " [ 6.65  3.   -2.86 -0.4  -0.    0.66 -1.87 -3.69  0.01  0.03 -2.76 -0.01  0.   -4.25 -1.92 -3.18\n",
      " -1.12  1.04  0.14  2.71]\n",
      "CD_x error at height 64:\n",
      " [ 0.12 -0.09  1.58 -3.81 -0.04  2.3  -2.04 -3.43  0.14 -1.39 -0.5  -1.75 -0.15 -3.62 -0.88 -1.6\n",
      " -4.91  0.59 -1.28  5.69]\n",
      "CD_y error at height 64:\n",
      " [ 7.73  2.41 -4.99 -2.33 -0.94  1.76 -2.82 -1.67 -3.02 -1.52 -2.38 -1.37 -1.49 -6.85 -4.86 -5.94\n",
      " -3.16  0.85  1.    0.62]\n",
      "\n",
      "!Start to clear memory\n"
     ]
    },
    {
     "name": "stderr",
     "output_type": "stream",
     "text": [
      "<<<\n",
      "time:\t1.15276s\n",
      "<<<\n"
     ]
    },
    {
     "name": "stdout",
     "output_type": "stream",
     "text": [
      "\n",
      "!Start to clear memory\n"
     ]
    },
    {
     "name": "stderr",
     "output_type": "stream",
     "text": [
      "<<<\n",
      "time:\t1.10773s\n",
      "<<<\n"
     ]
    },
    {
     "name": "stdout",
     "output_type": "stream",
     "text": [
      "CD_x error at height 0:\n",
      " [-2.47  0.01 -3.32 -2.56  0.01 -0.01 -2.49  0.02]\n",
      "CD_y error at height 0:\n",
      " [ 0.06  0.02  0.01 -0.01  0.27  0.02  0.01 -0.02]\n",
      "CD_x error at height 8:\n",
      " [-0.77 -0.   -2.65 -0.85  0.02  0.   -1.33 -0.02]\n",
      "CD_y error at height 8:\n",
      " [-0.01 -0.03 -0.    0.02  0.09 -0.01  0.03  0.05]\n",
      "CD_x error at height 16:\n",
      " [-2.02 -0.05 -0.55 -1.3  -0.    0.04 -2.27 -0.01]\n",
      "CD_y error at height 16:\n",
      " [ 0.05 -0.03 -0.    0.09  0.01  0.01  0.05 -0.03]\n",
      "CD_x error at height 24:\n",
      " [ 0.02 -0.92 -0.3  -3.45  0.03  0.02 -2.54  0.01]\n",
      "CD_y error at height 24:\n",
      " [ 0.03 -0.02 -0.01 -0.    0.17 -0.01  0.1  -0.  ]\n",
      "CD_x error at height 32:\n",
      " [-0.64 -0.35 -0.88 -0.9  -1.07 -0.09 -0.06 -0.01]\n",
      "CD_y error at height 32:\n",
      " [-0.   -0.    0.01 -0.02 -0.   -0.01  0.07 -0.06]\n",
      "CD_x error at height 40:\n",
      " [-0.03 -1.39 -0.69  0.03 -0.82 -1.62 -1.64 -0.22]\n",
      "CD_y error at height 40:\n",
      " [ 0.01 -0.    0.08  0.01  0.09 -0.02  0.02  0.  ]\n",
      "CD_x error at height 48:\n",
      " [ 1.55 -0.26 -0.16 -5.31  1.55 -0.47 -0.37  0.06]\n",
      "CD_y error at height 48:\n",
      " [-0.47  2.3  -0.45 -1.07 -0.07  0.   -0.   -0.02]\n",
      "CD_x error at height 56:\n",
      " [ 0.05 -0.34 -0.   -2.01  1.15 -0.95 -0.11  0.01]\n",
      "CD_y error at height 56:\n",
      " [-2.92 -0.6   1.11 -0.8   0.01 -0.97 -0.    0.14]\n",
      "CD_x error at height 64:\n",
      " [-0.24 -1.03  0.08  0.23 -0.41 -5.64 -1.97  0.2 ]\n",
      "CD_y error at height 64:\n",
      " [-2.02  1.4  -1.48 -1.4   0.45 -0.22 -0.04 -2.56]\n"
     ]
    },
    {
     "name": "stderr",
     "output_type": "stream",
     "text": [
      "\r",
      " 15%|█▌        | 3/20 [1:22:26<7:40:52, 1626.59s/it]"
     ]
    },
    {
     "name": "stdout",
     "output_type": "stream",
     "text": [
      "CD_x error at height 72:\n",
      " [ 0.58 -1.46  5.11 -1.25 -0.04 -5.03 -0.71  0.39]\n",
      "CD_y error at height 72:\n",
      " [-1.31  7.38 -4.13  0.01  1.99 -0.03  1.6  -1.17]\n",
      "CD_RMSE for label 2: [1.64  1.209]\n",
      "../dataset_train_v1/0083Acid_ini Read in 0.14 s\n",
      "../dataset_train_v1/0083Inhibitor Read in 0.14 s\n",
      "RMSE for label 3: [0.012 1.044]\n",
      "NMSE for label 3: [14.595  2.62 ]\n",
      "NMSE_height for label 3: [15.116  2.607]\n"
     ]
    },
    {
     "name": "stderr",
     "output_type": "stream",
     "text": [
      "<<<\n",
      "time:\t1.54859s\n",
      "<<<\n"
     ]
    },
    {
     "name": "stdout",
     "output_type": "stream",
     "text": [
      "\n",
      "!Start to clear memory\n"
     ]
    },
    {
     "name": "stderr",
     "output_type": "stream",
     "text": [
      "<<<\n",
      "time:\t1.50646s\n",
      "<<<\n"
     ]
    },
    {
     "name": "stdout",
     "output_type": "stream",
     "text": [
      "\n",
      "!Start to clear memory\n",
      "CD_x error at height 0:\n",
      " [ 0.04 -5.46 -1.49 -1.12  0.01  0.01 -4.28 -0.09 -0.   -0.05  0.01  0.01  0.   -4.06 -2.  ]\n",
      "CD_y error at height 0:\n",
      " [ 0.11  0.12 -0.    0.03  0.   -0.05  0.03  0.36  0.06  0.04  0.06 -0.01  0.01  0.17  0.13]\n",
      "CD_x error at height 8:\n",
      " [ 0.01 -4.11 -0.18 -1.05 -0.03 -2.72 -0.01  0.01 -0.01 -0.57  0.01  0.   -0.   -1.32 -0.49]\n",
      "CD_y error at height 8:\n",
      " [ 0.04 -0.06  0.09  0.08  0.01 -0.01  0.01  0.01  0.08  0.02 -0.09 -0.04 -0.03  0.01  0.07]\n",
      "CD_x error at height 16:\n",
      " [-0.11 -4.86 -1.17 -1.18 -0.02 -3.04 -0.03 -0.06  0.21 -0.47 -0.04 -0.02 -0.07 -3.4  -2.04]\n",
      "CD_y error at height 16:\n",
      " [ 0.05  0.02  0.03  0.06  0.01  0.06 -0.15  0.34  0.01 -0.06 -0.1  -0.   -0.07 -0.    0.37]\n",
      "CD_x error at height 24:\n",
      " [ 1.04 -2.64 -3.19 -0.15  0.11 -3.16 -0.02 -0.16  0.27 -0.02 -0.99 -0.12 -0.07 -3.83 -3.25]\n",
      "CD_y error at height 24:\n",
      " [ 0.06  0.07 -0.02  0.01 -0.    0.03  0.   -0.07 -0.    0.01 -0.02  0.01 -0.16  0.02 -0.07]\n",
      "CD_x error at height 32:\n",
      " [-0.   -1.67 -1.64 -3.12  0.16 -4.57 -1.65  0.92 -0.99 -3.08 -2.93 -1.01 -1.16 -0.26 -1.46]\n",
      "CD_y error at height 32:\n",
      " [ 0.    0.01 -0.    0.06  0.05 -0.07  0.06  0.45  0.01  0.03  0.12  0.01 -0.36  0.05  0.04]\n",
      "CD_x error at height 40:\n",
      " [ 0.95 -6.86 -3.55 -2.11  3.19 -4.08 -0.09  0.01 -0.86 -0.25 -3.87 -2.37 -3.93 -3.81 -3.67]\n",
      "CD_y error at height 40:\n",
      " [-0.11  0.02  0.   -0.07  0.04  0.13  0.02  0.18  0.04  0.    0.11  0.05  0.08 -0.05 -0.16]\n",
      "CD_x error at height 48:\n",
      " [ 2.9  -3.54 -1.9  -3.37  3.62 -4.7   0.4   1.39 -5.6  -0.94 -1.3  -2.56 -1.55 -0.64 -3.17]\n",
      "CD_y error at height 48:\n",
      " [-3.96  0.1  -0.1  -3.47 -0.36  0.01 -3.88  0.36  0.1  -0.02  0.1  -1.34 -0.02 -3.63  0.05]\n",
      "CD_x error at height 56:\n",
      " [ 0.94 -2.14 -1.98 -3.1   1.28 -4.99 -0.36 -1.79 -4.49 -4.83 -2.54 -1.11 -1.39 -0.71 -1.92]\n",
      "CD_y error at height 56:\n",
      " [-4.39 -2.89 -3.04 -8.07 -4.42  0.55 -8.25  0.11  0.03  0.01  0.02 -3.13 -0.8  -4.49 -2.85]\n",
      "CD_x error at height 64:\n",
      " [ 2.94 -5.46 -5.35 -1.58  3.91 -6.59 -1.22 -0.86 -6.32 -2.26 -1.87 -3.5  -3.23 -3.66 -4.83]\n",
      "CD_y error at height 64:\n",
      " [ -6.16  -4.14  -6.99 -13.08  -4.21   0.19 -12.19  -0.78  -1.41  -5.99  -5.26  -0.78  -8.23  -6.26\n",
      "  -5.47]\n"
     ]
    },
    {
     "name": "stderr",
     "output_type": "stream",
     "text": [
      "\r",
      " 20%|██        | 4/20 [1:49:07<7:11:04, 1616.53s/it]"
     ]
    },
    {
     "name": "stdout",
     "output_type": "stream",
     "text": [
      "CD_x error at height 72:\n",
      " [  7.24  -7.62  -8.24  -3.13   7.   -13.28  -2.78  -2.5   -6.69  -5.63  -4.2   -2.87   0.05  -4.28\n",
      " -11.8 ]\n",
      "CD_y error at height 72:\n",
      " [ -5.41  -5.75 -13.67 -17.66  -4.73   4.4  -13.27  -4.14   1.64 -10.79  -4.92   5.55  -9.28  -9.18\n",
      "  -2.84]\n",
      "CD_RMSE for label 3: [3.25  3.725]\n",
      "../dataset_train_v1/0084Acid_ini Read in 0.14 s\n",
      "../dataset_train_v1/0084Inhibitor Read in 0.13 s\n",
      "RMSE for label 4: [0.004 0.27 ]\n",
      "NMSE for label 4: [10.263  0.675]\n",
      "NMSE_height for label 4: [9.808 0.625]\n"
     ]
    },
    {
     "name": "stderr",
     "output_type": "stream",
     "text": [
      "<<<\n",
      "time:\t1.05157s\n",
      "<<<\n"
     ]
    },
    {
     "name": "stdout",
     "output_type": "stream",
     "text": [
      "\n",
      "!Start to clear memory\n",
      "\n",
      "!Start to clear memory\n"
     ]
    },
    {
     "name": "stderr",
     "output_type": "stream",
     "text": [
      "<<<\n",
      "time:\t1.1682s\n",
      "<<<\n"
     ]
    },
    {
     "name": "stdout",
     "output_type": "stream",
     "text": [
      "CD_x error at height 0:\n",
      " [-0.    0.01 -3.04]\n",
      "CD_y error at height 0:\n",
      " [-0.01 -0.02  0.05]\n",
      "CD_x error at height 8:\n",
      " [-0.    0.02 -1.18]\n",
      "CD_y error at height 8:\n",
      " [ 0.01 -0.12  0.08]\n",
      "CD_x error at height 16:\n",
      " [ 0.12  0.03 -2.55]\n",
      "CD_y error at height 16:\n",
      " [-0.01  0.03 -0.  ]\n",
      "CD_x error at height 24:\n",
      " [-0.01  0.02 -2.8 ]\n",
      "CD_y error at height 24:\n",
      " [ 0.05  0.02 -0.01]\n",
      "CD_x error at height 32:\n",
      " [-0.72 -0.03 -0.83]\n",
      "CD_y error at height 32:\n",
      " [-0.    0.03 -0.02]\n",
      "CD_x error at height 40:\n",
      " [-2.1  -0.13 -1.13]\n",
      "CD_y error at height 40:\n",
      " [ 0.01  0.01 -0.03]\n",
      "CD_x error at height 48:\n",
      " [-0.8  -3.14 -3.51]\n",
      "CD_y error at height 48:\n",
      " [-0.    0.03  0.02]\n",
      "CD_x error at height 56:\n",
      " [-0.84 -1.48 -1.79]\n",
      "CD_y error at height 56:\n",
      " [-1.56  0.03 -1.14]\n",
      "CD_x error at height 64:\n",
      " [-3.38 -2.2  -3.64]\n",
      "CD_y error at height 64:\n",
      " [-2.06 -1.93 -2.08]\n"
     ]
    },
    {
     "name": "stderr",
     "output_type": "stream",
     "text": [
      "\r",
      " 25%|██▌       | 5/20 [2:12:57<6:27:16, 1549.07s/it]"
     ]
    },
    {
     "name": "stdout",
     "output_type": "stream",
     "text": [
      "CD_x error at height 72:\n",
      " [-4.15  0.13 -2.45]\n",
      "CD_y error at height 72:\n",
      " [-3.91 -0.92 -1.32]\n",
      "CD_RMSE for label 4: [1.946 1.064]\n",
      "../dataset_train_v1/0085Acid_ini Read in 0.14 s\n",
      "../dataset_train_v1/0085Inhibitor Read in 0.13 s\n",
      "RMSE for label 5: [0.006 0.494]\n",
      "NMSE for label 5: [9.584 1.239]\n",
      "NMSE_height for label 5: [9.51  1.208]\n"
     ]
    },
    {
     "name": "stderr",
     "output_type": "stream",
     "text": [
      "<<<\n",
      "time:\t1.32683s\n",
      "<<<\n"
     ]
    },
    {
     "name": "stdout",
     "output_type": "stream",
     "text": [
      "\n",
      "!Start to clear memory\n",
      "\n",
      "!Start to clear memory\n"
     ]
    },
    {
     "name": "stderr",
     "output_type": "stream",
     "text": [
      "<<<\n",
      "time:\t1.26261s\n",
      "<<<\n"
     ]
    },
    {
     "name": "stdout",
     "output_type": "stream",
     "text": [
      "CD_x error at height 0:\n",
      " [ 0.01 -1.27 -0.    0.1  -0.   -0.27  0.03  0.09  0.06 -0.  ]\n",
      "CD_y error at height 0:\n",
      " [ 0.25 -0.    0.31 -0.01 -0.02  0.05 -0.06  0.08 -0.06  0.  ]\n",
      "CD_x error at height 8:\n",
      " [-0.   -0.73  0.02  0.24  0.03 -0.22 -0.   -0.    0.18  0.01]\n",
      "CD_y error at height 8:\n",
      " [ 0.1   0.12 -0.   -0.01 -0.03  0.12 -0.08  0.02 -0.48 -0.05]\n",
      "CD_x error at height 16:\n",
      " [-0.05 -2.6   0.01  0.02 -0.02 -0.05 -0.03 -0.    0.01 -0.34]\n",
      "CD_y error at height 16:\n",
      " [-0.04  0.01  0.08 -0.03 -0.03  0.78  0.01  0.01 -0.03  0.06]\n",
      "CD_x error at height 24:\n",
      " [-0.12 -3.99 -0.07 -0.01 -0.01  0.01  0.01 -0.97  0.12  0.01]\n",
      "CD_y error at height 24:\n",
      " [ 0.09 -0.02 -0.01 -0.03  0.01  0.11  0.02 -0.08 -0.3   0.03]\n",
      "CD_x error at height 32:\n",
      " [-0.67 -3.41 -1.4  -0.03  0.03  0.   -0.48 -0.74 -0.87 -0.01]\n",
      "CD_y error at height 32:\n",
      " [ 0.12  0.   -0.   -0.05  0.18  0.03  0.06  0.03  0.04 -0.02]\n",
      "CD_x error at height 40:\n",
      " [-0.09 -3.31 -3.2  -2.68  0.08 -1.38 -3.93 -2.18 -0.89 -1.18]\n",
      "CD_y error at height 40:\n",
      " [-0.01 -0.02  0.01 -0.3   0.96  0.31 -0.   -0.   -0.02 -0.04]\n",
      "CD_x error at height 48:\n",
      " [-4.31 -3.24 -0.2  -0.8  -1.19 -2.14 -1.54 -0.86 -0.17 -0.3 ]\n",
      "CD_y error at height 48:\n",
      " [-0.   -0.    0.04  0.62 -0.36 -0.04 -0.01  0.02  0.03  0.01]\n",
      "CD_x error at height 56:\n",
      " [-2.92 -0.09 -0.77 -0.08 -0.46 -0.37 -0.48 -1.02 -0.16 -3.09]\n",
      "CD_y error at height 56:\n",
      " [-0.   -0.05  0.    0.19  0.17  0.83 -0.1  -0.02 -1.2   0.15]\n",
      "CD_x error at height 64:\n",
      " [-0.3  -0.83 -5.01 -0.46  0.44 -1.07 -0.67 -0.35 -1.7  -2.06]\n",
      "CD_y error at height 64:\n",
      " [-0.05 -1.59 -0.02 -1.19  0.45  0.7  -0.1  -1.03 -3.72 -1.64]\n"
     ]
    },
    {
     "name": "stderr",
     "output_type": "stream",
     "text": [
      "\r",
      " 30%|███       | 6/20 [2:37:47<5:56:47, 1529.12s/it]"
     ]
    },
    {
     "name": "stdout",
     "output_type": "stream",
     "text": [
      "CD_x error at height 72:\n",
      " [-7.88  0.57  1.48 -0.18  1.33  0.34 -2.38 -0.06 -6.23 -3.72]\n",
      "CD_y error at height 72:\n",
      " [ 1.15  2.92 -3.61  2.72 -3.68  3.88  0.03 -5.69 -8.13  1.  ]\n",
      "CD_RMSE for label 5: [1.771 1.363]\n",
      "../dataset_train_v1/0086Acid_ini Read in 0.14 s\n",
      "../dataset_train_v1/0086Inhibitor Read in 0.15 s\n",
      "RMSE for label 6: [0.005 0.362]\n",
      "NMSE for label 6: [16.135  0.906]\n",
      "NMSE_height for label 6: [16.03   0.884]\n",
      "\n",
      "!Start to clear memory\n"
     ]
    },
    {
     "name": "stderr",
     "output_type": "stream",
     "text": [
      "<<<\n",
      "time:\t1.30819s\n",
      "<<<\n"
     ]
    },
    {
     "name": "stdout",
     "output_type": "stream",
     "text": [
      "\n",
      "!Start to clear memory\n"
     ]
    },
    {
     "name": "stderr",
     "output_type": "stream",
     "text": [
      "<<<\n",
      "time:\t1.21594s\n",
      "<<<\n"
     ]
    },
    {
     "name": "stdout",
     "output_type": "stream",
     "text": [
      "CD_x error at height 0:\n",
      " [0.02 0.03 0.44]\n",
      "CD_y error at height 0:\n",
      " [-7.66  0.07  0.62]\n",
      "CD_x error at height 8:\n",
      " [-0.01  0.03  3.84]\n",
      "CD_y error at height 8:\n",
      " [-5.54 -0.07 -0.03]\n",
      "CD_x error at height 16:\n",
      " [-0.01  0.02  3.82]\n",
      "CD_y error at height 16:\n",
      " [-4.99  0.06  0.21]\n",
      "CD_x error at height 24:\n",
      " [-0.02  0.27  3.94]\n",
      "CD_y error at height 24:\n",
      " [-2.53  0.05  0.16]\n",
      "CD_x error at height 32:\n",
      " [-0.12 -0.87  5.41]\n",
      "CD_y error at height 32:\n",
      " [-0.72  0.1   0.24]\n",
      "CD_x error at height 40:\n",
      " [-1.09 -0.02  4.08]\n",
      "CD_y error at height 40:\n",
      " [-0.77  0.16  0.06]\n",
      "CD_x error at height 48:\n",
      " [-2.51 -0.33  3.86]\n",
      "CD_y error at height 48:\n",
      " [-0.57  0.03 -0.  ]\n",
      "CD_x error at height 56:\n",
      " [-1.23 -0.79  2.77]\n",
      "CD_y error at height 56:\n",
      " [-0.99  0.01  2.7 ]\n",
      "CD_x error at height 64:\n",
      " [-1.08 -0.23 -2.8 ]\n",
      "CD_y error at height 64:\n",
      " [-5.76 -0.47  0.54]\n"
     ]
    },
    {
     "name": "stderr",
     "output_type": "stream",
     "text": [
      "\r",
      " 35%|███▌      | 7/20 [3:01:05<5:22:02, 1486.31s/it]"
     ]
    },
    {
     "name": "stdout",
     "output_type": "stream",
     "text": [
      "CD_x error at height 72:\n",
      " [ 0.24 -0.63]\n",
      "CD_y error at height 72:\n",
      " [0.03 2.38]\n",
      "CD_RMSE for label 6: [2.147 2.423]\n",
      "../dataset_train_v1/0087Acid_ini Read in 0.14 s\n",
      "../dataset_train_v1/0087Inhibitor Read in 0.14 s\n",
      "RMSE for label 7: [0.004 0.301]\n",
      "NMSE for label 7: [11.603  0.754]\n",
      "NMSE_height for label 7: [11.749  0.718]\n",
      "\n",
      "!Start to clear memory\n"
     ]
    },
    {
     "name": "stderr",
     "output_type": "stream",
     "text": [
      "<<<\n",
      "time:\t1.28671s\n",
      "<<<\n"
     ]
    },
    {
     "name": "stdout",
     "output_type": "stream",
     "text": [
      "\n",
      "!Start to clear memory\n"
     ]
    },
    {
     "name": "stderr",
     "output_type": "stream",
     "text": [
      "<<<\n",
      "time:\t1.29798s\n",
      "<<<\n"
     ]
    },
    {
     "name": "stdout",
     "output_type": "stream",
     "text": [
      "CD_x error at height 0:\n",
      " [ 0.02  0.15 -0.28]\n",
      "CD_y error at height 0:\n",
      " [0.03 0.01 0.01]\n",
      "CD_x error at height 8:\n",
      " [-0.06 -0.07  0.01]\n",
      "CD_y error at height 8:\n",
      " [ 0.06  0.01 -0.01]\n",
      "CD_x error at height 16:\n",
      " [-0.01  0.01 -0.01]\n",
      "CD_y error at height 16:\n",
      " [0.   0.04 0.03]\n",
      "CD_x error at height 24:\n",
      " [0.03 0.   0.27]\n",
      "CD_y error at height 24:\n",
      " [-0.04 -0.    0.1 ]\n",
      "CD_x error at height 32:\n",
      " [-0.31  0.42 -0.45]\n",
      "CD_y error at height 32:\n",
      " [ 0.05  0.   -0.03]\n",
      "CD_x error at height 40:\n",
      " [ 0.56 -0.48 -0.01]\n",
      "CD_y error at height 40:\n",
      " [-0.03  0.03 -0.01]\n",
      "CD_x error at height 48:\n",
      " [ 1.1   0.   -0.33]\n",
      "CD_y error at height 48:\n",
      " [ 0.02 -0.    0.01]\n",
      "CD_x error at height 56:\n",
      " [ 1.08  0.34 -1.88]\n",
      "CD_y error at height 56:\n",
      " [ 1.77  0.01 -1.02]\n",
      "CD_x error at height 64:\n",
      " [ 1.69 -2.35 -0.87]\n",
      "CD_y error at height 64:\n",
      " [ 0.54 -1.15 -3.4 ]\n"
     ]
    },
    {
     "name": "stderr",
     "output_type": "stream",
     "text": [
      "\r",
      " 40%|████      | 8/20 [3:24:42<4:52:48, 1464.08s/it]"
     ]
    },
    {
     "name": "stdout",
     "output_type": "stream",
     "text": [
      "CD_x error at height 72:\n",
      " [ 2.02 -0.78 -0.88]\n",
      "CD_y error at height 72:\n",
      " [ 1.76 -0.83 -1.73]\n",
      "CD_RMSE for label 7: [0.855 0.897]\n",
      "../dataset_train_v1/0088Acid_ini Read in 0.16 s\n",
      "../dataset_train_v1/0088Inhibitor Read in 0.15 s\n",
      "RMSE for label 8: [0.005 0.352]\n",
      "NMSE for label 8: [9.769 0.881]\n",
      "NMSE_height for label 8: [9.957 0.821]\n",
      "\n",
      "!Start to clear memory\n"
     ]
    },
    {
     "name": "stderr",
     "output_type": "stream",
     "text": [
      "<<<\n",
      "time:\t1.10539s\n",
      "<<<\n"
     ]
    },
    {
     "name": "stdout",
     "output_type": "stream",
     "text": [
      "\n",
      "!Start to clear memory\n"
     ]
    },
    {
     "name": "stderr",
     "output_type": "stream",
     "text": [
      "<<<\n",
      "time:\t1.38115s\n",
      "<<<\n"
     ]
    },
    {
     "name": "stdout",
     "output_type": "stream",
     "text": [
      "CD_x error at height 0:\n",
      " [ 0.01 -0.22  0.06 -0.01 -0.02  0.17]\n",
      "CD_y error at height 0:\n",
      " [ 0.05  0.01  0.01 -0.04  0.   -0.01]\n",
      "CD_x error at height 8:\n",
      " [-0.02 -0.06  0.1   0.08 -0.04  0.05]\n",
      "CD_y error at height 8:\n",
      " [ 0.02 -0.02 -0.1   0.02  0.1   0.05]\n",
      "CD_x error at height 16:\n",
      " [-0.03 -0.18  0.01  0.01 -0.01 -0.  ]\n",
      "CD_y error at height 16:\n",
      " [ 0.   -0.08  0.09  0.04  0.02 -0.  ]\n",
      "CD_x error at height 24:\n",
      " [-0.65  0.03 -0.03  0.02 -0.05 -0.05]\n",
      "CD_y error at height 24:\n",
      " [ 0.   -0.01 -0.05  0.04 -0.06  0.01]\n",
      "CD_x error at height 32:\n",
      " [ 0.13 -0.05 -0.24 -0.01 -0.01 -1.03]\n",
      "CD_y error at height 32:\n",
      " [-0.   -0.01 -0.01 -0.02 -0.06  0.29]\n",
      "CD_x error at height 40:\n",
      " [ 0.1  -0.16  0.07 -0.9  -0.05 -1.07]\n",
      "CD_y error at height 40:\n",
      " [-0.01 -0.02  0.01 -0.   -0.    0.  ]\n",
      "CD_x error at height 48:\n",
      " [ 2.56  1.89  0.73 -0.96  0.53 -2.94]\n",
      "CD_y error at height 48:\n",
      " [ 0.01 -0.01 -0.02  0.03 -0.   -0.  ]\n",
      "CD_x error at height 56:\n",
      " [ 0.12  0.2   1.22  2.67 -0.06 -1.08]\n",
      "CD_y error at height 56:\n",
      " [ 0.08  0.   -0.44  0.01  0.   -0.44]\n",
      "CD_x error at height 64:\n",
      " [ 2.28  0.02  0.31 -1.95  0.01 -2.43]\n",
      "CD_y error at height 64:\n",
      " [ 0.13 -0.34  2.47 -0.42 -2.09 -0.42]\n"
     ]
    },
    {
     "name": "stderr",
     "output_type": "stream",
     "text": [
      "\r",
      " 45%|████▌     | 9/20 [3:50:15<4:32:22, 1485.71s/it]"
     ]
    },
    {
     "name": "stdout",
     "output_type": "stream",
     "text": [
      "CD_x error at height 72:\n",
      " [ 3.64  1.26  1.97  0.28 -3.41 -2.9 ]\n",
      "CD_y error at height 72:\n",
      " [ 4.74  1.49  0.34 -0.88  0.99  1.03]\n",
      "CD_RMSE for label 8: [1.21  0.807]\n",
      "../dataset_train_v1/0089Acid_ini Read in 0.14 s\n",
      "../dataset_train_v1/0089Inhibitor Read in 0.14 s\n",
      "RMSE for label 9: [0.005 0.424]\n",
      "NMSE for label 9: [9.864 1.062]\n",
      "NMSE_height for label 9: [9.671 1.017]\n"
     ]
    },
    {
     "name": "stderr",
     "output_type": "stream",
     "text": [
      "<<<\n",
      "time:\t1.36707s\n",
      "<<<\n"
     ]
    },
    {
     "name": "stdout",
     "output_type": "stream",
     "text": [
      "\n",
      "!Start to clear memory\n",
      "\n",
      "!Start to clear memory\n"
     ]
    },
    {
     "name": "stderr",
     "output_type": "stream",
     "text": [
      "<<<\n",
      "time:\t1.32798s\n",
      "<<<\n"
     ]
    },
    {
     "name": "stdout",
     "output_type": "stream",
     "text": [
      "CD_x error at height 0:\n",
      " [-0.99 -0.07  0.02  0.02  0.    0.   -0.01]\n",
      "CD_y error at height 0:\n",
      " [ 0.02  0.2   0.2   0.29 -0.02 -0.04  0.16]\n",
      "CD_x error at height 8:\n",
      " [-0.14 -0.24 -0.    0.   -0.05  0.01 -0.01]\n",
      "CD_y error at height 8:\n",
      " [-0.08  0.02 -0.08  0.14  0.01 -0.   -0.04]\n",
      "CD_x error at height 16:\n",
      " [-0.59 -0.   -0.31 -0.    0.03  0.   -0.68]\n",
      "CD_y error at height 16:\n",
      " [ 0.05  0.   -0.   -0.   -0.06  0.03  0.08]\n",
      "CD_x error at height 24:\n",
      " [-1.18 -0.09 -0.45  0.1   0.04 -0.95  0.12]\n",
      "CD_y error at height 24:\n",
      " [ 0.02  0.03  0.2  -0.02 -0.    0.01  0.04]\n",
      "CD_x error at height 32:\n",
      " [-0.35 -2.73 -0.24  0.09 -0.18 -1.22 -0.93]\n",
      "CD_y error at height 32:\n",
      " [-0.1   0.36 -0.05  0.03  0.06  0.01  0.01]\n",
      "CD_x error at height 40:\n",
      " [-2.97  0.05  0.07 -1.29 -0.48 -2.6  -0.35]\n",
      "CD_y error at height 40:\n",
      " [ 0.03  0.03 -0.11  0.03  0.    0.17  0.02]\n",
      "CD_x error at height 48:\n",
      " [-0.47 -1.1  -0.62 -2.14 -1.93 -1.21 -0.7 ]\n",
      "CD_y error at height 48:\n",
      " [ 0.08  0.02 -0.22 -0.01 -0.    0.09  0.  ]\n",
      "CD_x error at height 56:\n",
      " [-0.   -1.04 -0.34 -0.21 -0.1  -2.32 -0.78]\n",
      "CD_y error at height 56:\n",
      " [-0.   -0.    0.25 -0.95  0.15 -0.23  0.12]\n",
      "CD_x error at height 64:\n",
      " [-0.4  -0.22 -1.95 -0.44 -0.69 -0.19 -0.63]\n",
      "CD_y error at height 64:\n",
      " [-0.03  0.46  1.06  0.16 -0.92 -2.89 -0.47]\n"
     ]
    },
    {
     "name": "stderr",
     "output_type": "stream",
     "text": [
      "\r",
      " 50%|█████     | 10/20 [4:15:45<4:09:55, 1499.54s/it]"
     ]
    },
    {
     "name": "stdout",
     "output_type": "stream",
     "text": [
      "CD_x error at height 72:\n",
      " [-0.25  0.22  0.47 -1.27  0.99 -0.9  -0.22]\n",
      "CD_y error at height 72:\n",
      " [-1.06  0.47  3.12  2.19  0.45  0.73 -0.92]\n",
      "CD_RMSE for label 9: [0.929 0.653]\n",
      "../dataset_train_v1/0090Acid_ini Read in 0.14 s\n",
      "../dataset_train_v1/0090Inhibitor Read in 0.15 s\n",
      "RMSE for label 10: [0.007 0.605]\n",
      "NMSE for label 10: [12.361  1.516]\n",
      "NMSE_height for label 10: [12.34   1.474]\n"
     ]
    },
    {
     "name": "stderr",
     "output_type": "stream",
     "text": [
      "<<<\n",
      "time:\t1.56771s\n",
      "<<<\n"
     ]
    },
    {
     "name": "stdout",
     "output_type": "stream",
     "text": [
      "\n",
      "!Start to clear memory\n"
     ]
    },
    {
     "name": "stderr",
     "output_type": "stream",
     "text": [
      "<<<\n",
      "time:\t1.51544s\n",
      "<<<\n"
     ]
    },
    {
     "name": "stdout",
     "output_type": "stream",
     "text": [
      "\n",
      "!Start to clear memory\n",
      "CD_x error at height 0:\n",
      " [-2.37 -0.65 -4.97 -0.39  0.02  0.12  0.06 -2.45]\n",
      "CD_y error at height 0:\n",
      " [-0.04 -0.01 -0.01  0.04  0.01 -0.01  0.    0.24]\n",
      "CD_x error at height 8:\n",
      " [-1.04  0.13 -0.48  0.08 -0.02 -0.01  0.04  1.25]\n",
      "CD_y error at height 8:\n",
      " [-0.03  0.11  0.07  0.01  0.09 -0.03  0.05  0.04]\n",
      "CD_x error at height 16:\n",
      " [-2.36 -0.89 -1.38  0.12 -0.7  -0.02  0.   -3.54]\n",
      "CD_y error at height 16:\n",
      " [-0.18  0.33  0.01 -0.   -0.   -0.05  0.02  0.1 ]\n",
      "CD_x error at height 24:\n",
      " [-1.09  0.16 -2.86 -0.02 -2.49 -0.04 -0.47 -5.27]\n",
      "CD_y error at height 24:\n",
      " [ 0.03 -0.02  0.05  0.    0.01  0.04  0.04  0.44]\n",
      "CD_x error at height 32:\n",
      " [-0.46  1.78 -5.54 -0.48 -0.82 -0.17 -1.03 -5.92]\n",
      "CD_y error at height 32:\n",
      " [-0.01  0.01  0.07  0.02  0.01 -0.   -0.02 -0.  ]\n",
      "CD_x error at height 40:\n",
      " [ 2.22  0.26 -5.47 -2.31 -0.83 -1.82 -0.94 -3.7 ]\n",
      "CD_y error at height 40:\n",
      " [ 0.15  0.01 -0.02 -0.11  0.15  0.04 -1.61  0.01]\n",
      "CD_x error at height 48:\n",
      " [ 0.02 -0.61 -3.15 -0.14 -2.57 -0.96 -2.97 -1.08]\n",
      "CD_y error at height 48:\n",
      " [ 0.05 -0.85 -0.02 -1.86  0.03 -0.52 -1.   -0.01]\n",
      "CD_x error at height 56:\n",
      " [ 0.02  0.67 -6.65 -0.3   0.02 -0.04 -0.89 -2.7 ]\n",
      "CD_y error at height 56:\n",
      " [ 0.26  0.5  -0.   -4.02 -0.28 -1.1  -2.89 -2.04]\n",
      "CD_x error at height 64:\n",
      " [-1.34 -0.06 -7.17 -0.52 -2.36 -3.39 -0.66 -1.39]\n",
      "CD_y error at height 64:\n",
      " [-0.2  -2.73 -2.49 -4.64 -2.57 -1.96 -4.54 -2.54]\n"
     ]
    },
    {
     "name": "stderr",
     "output_type": "stream",
     "text": [
      "\r",
      " 55%|█████▌    | 11/20 [4:41:27<3:46:52, 1512.49s/it]"
     ]
    },
    {
     "name": "stdout",
     "output_type": "stream",
     "text": [
      "CD_x error at height 72:\n",
      " [ 1.73 -0.21 -8.01 -1.04  0.76 -2.57  1.33  0.44]\n",
      "CD_y error at height 72:\n",
      " [ 2.31 -0.   -0.69 -2.31 -4.17 -2.47 -6.66  0.6 ]\n",
      "CD_RMSE for label 10: [2.413 1.545]\n",
      "../dataset_train_v1/0091Acid_ini Read in 0.16 s\n",
      "../dataset_train_v1/0091Inhibitor Read in 0.16 s\n",
      "RMSE for label 11: [0.007 0.586]\n",
      "NMSE for label 11: [10.521  1.47 ]\n",
      "NMSE_height for label 11: [10.63   1.447]\n",
      "\n",
      "!Start to clear memory\n"
     ]
    },
    {
     "name": "stderr",
     "output_type": "stream",
     "text": [
      "<<<\n",
      "time:\t1.36443s\n",
      "<<<\n"
     ]
    },
    {
     "name": "stdout",
     "output_type": "stream",
     "text": [
      "\n",
      "!Start to clear memory\n"
     ]
    },
    {
     "name": "stderr",
     "output_type": "stream",
     "text": [
      "<<<\n",
      "time:\t1.36882s\n",
      "<<<\n"
     ]
    },
    {
     "name": "stdout",
     "output_type": "stream",
     "text": [
      "CD_x error at height 0:\n",
      " [ 0.04 -0.1   0.05 -0.   -0.01  0.05  0.01  0.23  0.05  0.    0.19]\n",
      "CD_y error at height 0:\n",
      " [ 0.02  0.05  0.01  0.01  0.18  0.03  0.1   0.06 -0.02  0.15 -0.05]\n",
      "CD_x error at height 8:\n",
      " [ 0.13 -0.01 -0.   -0.    0.05 -0.    0.02  0.12  0.02 -0.02  0.01]\n",
      "CD_y error at height 8:\n",
      " [ 0.02  0.04  0.08  0.03  0.03 -0.04  0.42  0.1   0.02 -0.03  0.13]\n",
      "CD_x error at height 16:\n",
      " [ 0.12 -0.    0.05 -0.01 -0.06 -0.04 -0.13  0.01 -0.06  0.11  0.  ]\n",
      "CD_y error at height 16:\n",
      " [-0.    0.09  0.01 -0.03  0.05 -0.    0.17  0.05 -0.14 -0.04  0.07]\n",
      "CD_x error at height 24:\n",
      " [ 0.09  2.12  0.01 -0.07 -0.1  -0.03  0.02  1.78  0.06  0.05  0.12]\n",
      "CD_y error at height 24:\n",
      " [-0.04 -0.    0.06 -0.1  -0.    0.05 -0.08 -0.1   0.27 -0.24 -0.02]\n",
      "CD_x error at height 32:\n",
      " [ 0.14  0.34 -0.86 -0.08 -0.14 -0.21 -0.87 -0.43 -0.   -0.4  -0.22]\n",
      "CD_y error at height 32:\n",
      " [ 0.01  0.03 -0.   -0.    0.1   0.07 -0.   -0.01 -0.06 -0.04  0.03]\n",
      "CD_x error at height 40:\n",
      " [ 0.7   0.93 -0.44 -2.21 -0.64 -3.03  0.03 -2.97 -0.91 -0.65 -1.01]\n",
      "CD_y error at height 40:\n",
      " [-0.01  0.05 -0.    0.02  0.    0.03  0.16  0.14 -0.01 -0.16 -0.04]\n",
      "CD_x error at height 48:\n",
      " [ 1.61 -0.32 -0.25 -1.64 -0.07 -0.28 -0.05 -2.09 -4.16 -1.09 -2.03]\n",
      "CD_y error at height 48:\n",
      " [-0.77 -0.01 -0.02 -0.02  0.14  0.01 -0.   -0.12 -0.01 -0.   -0.08]\n",
      "CD_x error at height 56:\n",
      " [ 0.32 -0.46 -2.51 -0.43  0.03  2.18 -0.28 -0.39 -1.39 -3.12  0.25]\n",
      "CD_y error at height 56:\n",
      " [-1.68 -0.53 -0.07  0.29  0.05 -0.01  0.01  0.35  0.05  0.74  0.93]\n",
      "CD_x error at height 64:\n",
      " [ 0.32  0.77 -0.9  -3.48 -2.26  2.06 -0.99 -1.05 -4.81 -0.8  -2.47]\n",
      "CD_y error at height 64:\n",
      " [-0.61 -2.16 -1.25 -1.4  -0.26  2.05 -0.67  0.42 -0.64  0.18  2.31]\n"
     ]
    },
    {
     "name": "stderr",
     "output_type": "stream",
     "text": [
      "\r",
      " 60%|██████    | 12/20 [5:07:03<3:22:35, 1519.48s/it]"
     ]
    },
    {
     "name": "stdout",
     "output_type": "stream",
     "text": [
      "CD_x error at height 72:\n",
      " [ 0.48  0.89 -3.   -1.55  3.01  2.79 -2.8  -0.21 -4.33 -5.68  0.69]\n",
      "CD_y error at height 72:\n",
      " [-2.95  0.63 -5.15 -0.8  -0.03  1.5  -2.93  3.59 -0.29  2.78  4.69]\n",
      "CD_RMSE for label 11: [1.467 1.023]\n",
      "../dataset_train_v1/0092Acid_ini Read in 0.15 s\n",
      "../dataset_train_v1/0092Inhibitor Read in 0.14 s\n",
      "RMSE for label 12: [0.005 0.427]\n",
      "NMSE for label 12: [12.581  1.068]\n",
      "NMSE_height for label 12: [12.919  1.041]\n"
     ]
    },
    {
     "name": "stderr",
     "output_type": "stream",
     "text": [
      "<<<\n",
      "time:\t1.46764s\n",
      "<<<\n"
     ]
    },
    {
     "name": "stdout",
     "output_type": "stream",
     "text": [
      "\n",
      "!Start to clear memory\n",
      "\n",
      "!Start to clear memory\n"
     ]
    },
    {
     "name": "stderr",
     "output_type": "stream",
     "text": [
      "<<<\n",
      "time:\t1.51744s\n",
      "<<<\n"
     ]
    },
    {
     "name": "stdout",
     "output_type": "stream",
     "text": [
      "CD_x error at height 0:\n",
      " [-2.91 -4.33 -3.05 -0.04 -1.9 ]\n",
      "CD_y error at height 0:\n",
      " [ 0.01  0.32  0.04 -0.18  0.09]\n",
      "CD_x error at height 8:\n",
      " [-2.36 -3.33 -0.48  0.08 -0.79]\n",
      "CD_y error at height 8:\n",
      " [ 0.02  0.21  0.05 -0.03  0.01]\n",
      "CD_x error at height 16:\n",
      " [-2.4  -3.81 -2.91 -0.03 -2.35]\n",
      "CD_y error at height 16:\n",
      " [ 0.02  0.08 -0.03 -0.04 -0.01]\n",
      "CD_x error at height 24:\n",
      " [-0.2  -0.08  0.07 -0.13 -2.81]\n",
      "CD_y error at height 24:\n",
      " [-0.16  0.01 -0.    0.04 -0.01]\n",
      "CD_x error at height 32:\n",
      " [-1.02 -2.34 -1.11 -0.78 -0.4 ]\n",
      "CD_y error at height 32:\n",
      " [-0.41  0.    0.01 -0.03 -0.  ]\n",
      "CD_x error at height 40:\n",
      " [ 1.79 -3.01 -0.1  -2.51 -2.64]\n",
      "CD_y error at height 40:\n",
      " [-0.06  0.02  0.01 -0.04 -0.02]\n",
      "CD_x error at height 48:\n",
      " [-1.51 -3.4  -0.65 -0.86 -0.28]\n",
      "CD_y error at height 48:\n",
      " [-0.46 -1.22 -0.    0.01  2.13]\n",
      "CD_x error at height 56:\n",
      " [ 1.79 -2.15 -0.59 -0.4  -1.15]\n",
      "CD_y error at height 56:\n",
      " [-1.39 -5.85  0.52  0.16  0.17]\n",
      "CD_x error at height 64:\n",
      " [ 0.64 -2.92 -0.82 -0.93 -1.73]\n",
      "CD_y error at height 64:\n",
      " [-1.96 -7.18 -0.68 -0.7   0.55]\n"
     ]
    },
    {
     "name": "stderr",
     "output_type": "stream",
     "text": [
      "\r",
      " 65%|██████▌   | 13/20 [5:31:33<2:55:31, 1504.44s/it]"
     ]
    },
    {
     "name": "stdout",
     "output_type": "stream",
     "text": [
      "CD_x error at height 72:\n",
      " [ 4.91 -7.43 -0.2   0.59 -3.78]\n",
      "CD_y error at height 72:\n",
      " [-3.89 -8.49  0.16  0.23  6.33]\n",
      "CD_RMSE for label 12: [2.307 2.131]\n",
      "../dataset_train_v1/0093Acid_ini Read in 0.15 s\n",
      "../dataset_train_v1/0093Inhibitor Read in 0.15 s\n",
      "RMSE for label 13: [0.007 0.513]\n",
      "NMSE for label 13: [9.585 1.287]\n",
      "NMSE_height for label 13: [9.277 1.254]\n",
      "\n",
      "!Start to clear memory\n"
     ]
    },
    {
     "name": "stderr",
     "output_type": "stream",
     "text": [
      "<<<\n",
      "time:\t1.36372s\n",
      "<<<\n",
      "<<<\n",
      "time:\t1.17747s\n",
      "<<<\n"
     ]
    },
    {
     "name": "stdout",
     "output_type": "stream",
     "text": [
      "\n",
      "!Start to clear memory\n",
      "CD_x error at height 0:\n",
      " [ 0.01 -0.01 -0.02  0.04 -3.58  0.07  0.2  -2.64 -0.01  0.18 -0.02]\n",
      "CD_y error at height 0:\n",
      " [ 0.1  -0.03 -0.02  0.09  0.17 -0.04 -0.   -0.   -0.06  0.05  0.  ]\n",
      "CD_x error at height 8:\n",
      " [-0.    0.02  0.02 -0.   -1.    0.08 -0.   -0.03 -0.63 -0.08  0.  ]\n",
      "CD_y error at height 8:\n",
      " [ 0.05 -0.   -0.02  0.08  0.13 -0.02  0.02  0.11 -0.27 -0.07 -0.  ]\n",
      "CD_x error at height 16:\n",
      " [-0.   -0.13 -0.02 -1.78  0.13 -0.03  0.03  0.03 -0.87  0.01  0.07]\n",
      "CD_y error at height 16:\n",
      " [ 0.    0.02  0.02  0.1   0.1  -0.04 -0.27 -0.02  0.06 -0.01  0.01]\n",
      "CD_x error at height 24:\n",
      " [-0.65 -1.07 -1.07  0.01 -0.64 -2.5   0.14 -3.12 -0.   -0.    0.01]\n",
      "CD_y error at height 24:\n",
      " [ 0.04 -0.01  0.02 -0.04 -0.    0.05 -0.22  0.07 -0.07 -0.34  0.05]\n",
      "CD_x error at height 32:\n",
      " [-0.97 -0.2  -0.7  -0.55 -0.09  0.19  0.   -0.09 -0.03 -0.02 -0.54]\n",
      "CD_y error at height 32:\n",
      " [ 0.16  0.03  0.    0.03  0.01  0.02 -0.02  0.04  0.16 -0.01 -0.01]\n",
      "CD_x error at height 40:\n",
      " [-1.55 -3.89 -0.31 -2.74 -1.86 -0.97 -3.05 -0.   -1.05 -2.67 -0.22]\n",
      "CD_y error at height 40:\n",
      " [ 0.01  0.01  0.01 -0.01 -0.07 -0.04 -0.27 -0.02  0.01  0.02 -0.02]\n",
      "CD_x error at height 48:\n",
      " [-0.45 -2.93 -2.31 -0.03 -2.68 -0.96 -0.19 -0.26 -0.12 -3.06 -0.86]\n",
      "CD_y error at height 48:\n",
      " [-0.01 -0.    0.01  0.02 -2.46 -0.01 -0.06 -0.   -0.11  0.11  0.01]\n",
      "CD_x error at height 56:\n",
      " [-1.05 -0.67 -0.81 -1.55 -0.01 -0.13 -0.63 -0.53 -0.26 -2.83 -1.91]\n",
      "CD_y error at height 56:\n",
      " [ 0.06  0.1  -1.39 -1.19 -1.05  0.16  0.   -0.53  0.   -0.04 -1.63]\n",
      "CD_x error at height 64:\n",
      " [-0.27 -3.47 -1.46 -1.69 -1.18 -1.18 -3.85  0.17 -0.74 -1.62 -5.  ]\n",
      "CD_y error at height 64:\n",
      " [-2.92 -1.61 -2.07  0.2  -0.18 -3.76 -0.24 -2.06 -1.11  0.15 -1.91]\n"
     ]
    },
    {
     "name": "stderr",
     "output_type": "stream",
     "text": [
      "\r",
      " 70%|███████   | 14/20 [5:56:06<2:29:29, 1495.00s/it]"
     ]
    },
    {
     "name": "stdout",
     "output_type": "stream",
     "text": [
      "CD_x error at height 72:\n",
      " [ 2.09 -2.23 -3.68 -1.35 -0.42 -1.51 -1.78  1.68 -1.56 -3.24 -4.36]\n",
      "CD_y error at height 72:\n",
      " [ 0.01 -0.48 -2.54 -3.07  2.94 -0.35 -5.15 -2.5  -2.7  -0.47 -3.81]\n",
      "CD_RMSE for label 13: [1.57  1.098]\n",
      "../dataset_train_v1/0094Acid_ini Read in 0.13 s\n",
      "../dataset_train_v1/0094Inhibitor Read in 0.13 s\n",
      "RMSE for label 14: [0.018 1.186]\n",
      "NMSE for label 14: [21.376  2.98 ]\n",
      "NMSE_height for label 14: [18.859  2.782]\n",
      "\n",
      "!Start to clear memory\n"
     ]
    },
    {
     "name": "stderr",
     "output_type": "stream",
     "text": [
      "<<<\n",
      "time:\t1.34353s\n",
      "<<<\n"
     ]
    },
    {
     "name": "stdout",
     "output_type": "stream",
     "text": [
      "\n",
      "!Start to clear memory\n"
     ]
    },
    {
     "name": "stderr",
     "output_type": "stream",
     "text": [
      "<<<\n",
      "time:\t1.3661s\n",
      "<<<\n"
     ]
    },
    {
     "name": "stdout",
     "output_type": "stream",
     "text": [
      "Contact 15 in 0-CD_x_label is redundant, with info [590.91  886.197  49.191]\n",
      "CD_x error at height 0:\n",
      " [ -0.38   -0.99   -0.01    0.03   -0.02   -0.15   -1.13    0.02    0.04    0.03   -0.     -0.02\n",
      "  -0.04   -0.03   -0.3   -49.191]\n",
      "Contact 11 in 0-CD_y_label is redundant, with info [587.04  816.845  49.981]\n",
      "Contact 12 in 0-CD_y_label is redundant, with info [663.442 906.878   8.35 ]\n",
      "CD_y error at height 0:\n",
      " [ -0.53   -0.02   -0.01    0.01    0.08    0.06   -0.03    0.31    0.08    0.01    0.07  -49.981\n",
      "  -8.35    0.05    0.01   -0.      0.06 ]\n",
      "Contact 15 in 8-CD_x_label is redundant, with info [601.09  919.398  49.831]\n",
      "CD_x error at height 8:\n",
      " [ -0.     -0.11    0.08    0.11   -0.01    0.01   -0.04    0.      0.01   -0.02   -0.05   -0.\n",
      "   0.03   -0.     -0.07  -49.831]\n",
      "Contact 11 in 8-CD_y_label is redundant, with info [629.891 872.357  49.971]\n",
      "CD_y error at height 8:\n",
      " [ -0.03    0.04   -0.04   -0.03    0.08    0.02   -0.01   -0.     -0.02    0.06    0.    -49.971\n",
      "   0.04   -0.01    0.05   -0.01 ]\n",
      "Contact 15 in 16-CD_x_label is redundant, with info [601.76  917.748  49.931]\n",
      "CD_x error at height 16:\n",
      " [  0.1    -0.68   -0.03   -0.78    0.01    0.03   -1.14    0.02   -0.01    0.02    0.08   -0.02\n",
      "  -0.04   -0.     -0.01  -49.931]\n",
      "Contact 11 in 16-CD_y_label is redundant, with info [589.89  817.065  49.851]\n",
      "Contact 12 in 16-CD_y_label is redundant, with info [659.091 907.078   6.82 ]\n",
      "CD_y error at height 16:\n",
      " [  0.05   -0.02    0.      0.23    0.1     0.06    0.01   -0.03    0.07   -0.     -0.03  -49.851\n",
      "  -6.82   -0.01    0.04    0.05   -0.02 ]\n",
      "Contact 15 in 24-CD_x_label is redundant, with info [599.17  901.948  49.961]\n",
      "CD_x error at height 24:\n",
      " [ -2.25   -3.06   -2.56    0.      0.      0.08   -0.59    0.02    0.05   -0.     -0.11    0.03\n",
      "  -0.06   -0.01   -0.    -49.961]\n",
      "Contact 11 in 24-CD_y_label is redundant, with info [593.69  817.975  49.991]\n",
      "Contact 12 in 24-CD_y_label is redundant, with info [653.341 906.698   4.35 ]\n",
      "CD_y error at height 24:\n",
      " [  0.03    0.03   -0.     -0.07    0.04    0.04    0.42   -0.03    0.      0.02   -0.02  -49.991\n",
      "  -4.35    0.02    0.09    0.03    0.01 ]\n",
      "Contact 15 in 32-CD_x_label is redundant, with info [605.96  905.298  35.831]\n",
      "CD_x error at height 32:\n",
      " [ -0.26   -3.91   -0.06   -3.81   -0.     -0.     -0.41   -0.02    0.01   -0.13   -0.34   -0.85\n",
      "  -0.05    0.      0.01  -35.831]\n",
      "Contact 11 in 32-CD_y_label is redundant, with info [598.14  821.056  49.941]\n",
      "CD_y error at height 32:\n",
      " [  0.1     0.09    0.15   -0.01    0.08   -0.04    0.07    0.43    0.2     0.01   -0.01  -49.941\n",
      "  -0.03    0.01   -0.01    0.09 ]\n",
      "Contact 15 in 40-CD_x_label is redundant, with info [586.55  841.446  27.921]\n",
      "Contact 16 in 40-CD_x_label is redundant, with info [616.61  900.948   5.95 ]\n",
      "CD_x error at height 40:\n",
      " [ -1.12   -1.09   -0.99   -1.01   -0.04   -0.95   -0.11   -0.16   -0.24   -1.14    0.03   -1.31\n",
      "   0.11   -2.78   -0.12  -27.921  -5.95 ]\n",
      "Contact 11 in 40-CD_y_label is redundant, with info [605.89  827.936  44.821]\n",
      "CD_y error at height 40:\n",
      " [  0.03   -0.01    0.04   -0.21   -0.02    0.08   -0.      0.2    -0.27    0.02    0.01  -44.821\n",
      "   0.     -0.01   -0.07   -0.   ]\n",
      "Contact 15 in 48-CD_x_label is redundant, with info [589.99  843.096  21.651]\n",
      "CD_x error at height 48:\n",
      " [ -0.83   -0.66   -2.42   -3.3    -0.01    0.84   -2.32   -0.01   -0.58   -0.05   -2.78   -4.37\n",
      "  -2.67   -2.65   -3.03  -21.651]\n",
      "Contact 11 in 48-CD_y_label is redundant, with info [602.14  829.036  32.821]\n",
      "CD_y error at height 48:\n",
      " [  0.02   -3.11    0.03   -0.37    0.03   -0.01   -0.      0.01   -0.35   -0.01   -0.13  -32.821\n",
      "  -0.35   -0.17   -0.32   -0.01 ]\n",
      "Contact 15 in 56-CD_x_label is redundant, with info [594.14  842.846  13.41 ]\n",
      "CD_x error at height 56:\n",
      " [ -2.45  -0.88  -3.43  -1.05   1.89  -0.83  -0.05   0.01  -0.    -0.3   -4.23  -0.93  -1.38  -0.91\n",
      "  -0.66 -13.41]\n",
      "Contact 11 in 56-CD_y_label is redundant, with info [601.99  833.836  19.991]\n",
      "CD_y error at height 56:\n",
      " [ -0.25   -0.51   -1.72   -3.25    0.03   -0.03   -0.58   -0.5    -0.13   -1.26   -1.69  -19.991\n",
      "  -1.75   -1.47   -0.75   -0.17 ]\n",
      "CD_x error at height 64:\n",
      " [-3.5  -4.   -5.73 -1.79 -0.93 -1.31 -1.5  -0.02 -0.11  0.35 -4.14 -0.36 -3.4  -1.2  -2.44]\n",
      "CD_y error at height 64:\n",
      " [-0.57 -3.06  0.02 -4.27 -2.07 -3.4  -3.38 -1.02 -0.22 -1.75 -2.93 -2.12 -0.8  -3.2  -0.35]\n"
     ]
    },
    {
     "name": "stderr",
     "output_type": "stream",
     "text": [
      "\r",
      " 75%|███████▌  | 15/20 [6:21:47<2:05:45, 1509.05s/it]"
     ]
    },
    {
     "name": "stdout",
     "output_type": "stream",
     "text": [
      "CD_x error at height 72:\n",
      " [-5.33 -4.11 -5.   -5.57 -2.18 -2.   -1.42  2.09 -0.48  1.79 -2.44  1.48 -3.3  -0.31 -0.68]\n",
      "CD_y error at height 72:\n",
      " [ 0.63 -3.39 -6.11 -0.37 -5.52 -4.98 -4.81 -1.18 -1.16 -1.44 -7.25 -5.31  0.2  -5.18  2.76]\n",
      "CD_RMSE for label 14: [ 9.069 10.112]\n",
      "../dataset_train_v1/0095Acid_ini Read in 0.14 s\n",
      "../dataset_train_v1/0095Inhibitor Read in 0.13 s\n",
      "RMSE for label 15: [0.01  0.942]\n",
      "NMSE for label 15: [13.223  2.366]\n",
      "NMSE_height for label 15: [13.515  2.344]\n",
      "\n",
      "!Start to clear memory\n"
     ]
    },
    {
     "name": "stderr",
     "output_type": "stream",
     "text": [
      "<<<\n",
      "time:\t1.55768s\n",
      "<<<\n",
      "<<<\n",
      "time:\t1.5567s\n",
      "<<<\n"
     ]
    },
    {
     "name": "stdout",
     "output_type": "stream",
     "text": [
      "\n",
      "!Start to clear memory\n",
      "CD_x error at height 0:\n",
      " [ 0.12 -0.29  0.14 -0.   -0.01 -0.    0.02 -0.2   0.01  0.02 -0.19  0.02  0.01]\n",
      "CD_y error at height 0:\n",
      " [-0.55 -0.    0.11 -0.    0.06 -0.01  0.09  0.01  0.02 -0.01 -0.01  0.06 -0.3 ]\n",
      "CD_x error at height 8:\n",
      " [ 0.12  0.37  0.09  0.04 -0.    0.03 -0.05  0.01 -0.    0.02  0.04  0.   -0.01]\n",
      "CD_y error at height 8:\n",
      " [-0.13  0.09  0.21  0.03 -0.    0.01  0.03  0.17 -0.   -0.19  0.04 -0.01  0.09]\n",
      "CD_x error at height 16:\n",
      " [ 0.13  0.05 -0.02 -0.23  0.1   0.06 -0.08 -1.53  0.1   0.11 -0.21 -0.    0.01]\n",
      "CD_y error at height 16:\n",
      " [-0.11  0.03  0.19  0.02 -0.01  0.03  0.03  0.09  0.02 -0.11  0.04  0.02 -0.29]\n",
      "CD_x error at height 24:\n",
      " [-0.08  0.01 -0.14 -0.33  0.12 -0.   -0.15 -3.04 -0.    0.09 -1.7   0.    0.05]\n",
      "CD_y error at height 24:\n",
      " [ 0.03  0.    0.22  0.06 -0.01 -0.02 -0.02  0.07  0.01 -0.16 -0.34 -0.03 -0.13]\n",
      "CD_x error at height 32:\n",
      " [-0.4  -1.37 -2.6  -0.55  0.1  -2.66 -0.8  -3.17 -0.01  0.09 -0.62 -0.03  0.06]\n",
      "CD_y error at height 32:\n",
      " [-0.55  0.04  0.39 -0.05 -0.01  0.01  0.05 -0.13  0.   -0.02 -0.05 -0.04 -0.35]\n",
      "CD_x error at height 40:\n",
      " [-2.53 -3.82 -4.11  0.6  -0.1  -3.1  -4.08 -4.92 -1.13 -0.04 -1.75 -0.18  0.02]\n",
      "CD_y error at height 40:\n",
      " [-0.03  0.01  0.   -0.   -0.01  0.01  0.04 -0.01 -0.03 -0.02 -0.03  0.01  0.19]\n",
      "CD_x error at height 48:\n",
      " [-1.68 -4.   -6.79  0.84 -0.45 -1.24 -2.63 -2.46 -3.4  -0.81 -1.24  1.51 -1.03]\n",
      "CD_y error at height 48:\n",
      " [-0.    0.01 -0.    0.02 -0.02 -0.   -0.05  0.01 -0.02  0.   -0.02 -0.   -0.37]\n",
      "CD_x error at height 56:\n",
      " [-1.27 -5.19 -2.22  2.13 -1.66 -3.54 -3.99 -5.95 -1.01 -2.76 -1.23  0.69 -3.6 ]\n",
      "CD_y error at height 56:\n",
      " [-0.9  -0.43 -1.79  0.03 -5.18 -0.11 -4.43  0.01 -3.89 -3.7   0.   -0.03 -1.19]\n",
      "CD_x error at height 64:\n",
      " [-3.34 -5.8  -6.93  0.17 -0.6  -6.7  -5.01 -4.44 -2.9   0.28 -5.18  1.18 -1.23]\n",
      "CD_y error at height 64:\n",
      " [ -1.02  -1.54  -3.8    1.56 -10.44  -6.97  -6.68  -1.13  -6.01  -3.93   2.42  -2.24  -4.58]\n"
     ]
    },
    {
     "name": "stderr",
     "output_type": "stream",
     "text": [
      "\r",
      " 80%|████████  | 16/20 [6:48:10<1:42:04, 1531.17s/it]"
     ]
    },
    {
     "name": "stdout",
     "output_type": "stream",
     "text": [
      "CD_x error at height 72:\n",
      " [ -4.41  -8.41  -6.16   2.1    0.83 -13.74  -8.59  -2.49   0.4    2.23  -4.     1.95  -0.33]\n",
      "CD_y error at height 72:\n",
      " [  0.77  -1.91  -2.26   1.89 -19.84  -9.74  -6.51  -0.63  -7.61  -1.3    3.76  -2.25  -7.71]\n",
      "CD_RMSE for label 15: [2.787 2.872]\n",
      "../dataset_train_v1/0096Acid_ini Read in 0.15 s\n",
      "../dataset_train_v1/0096Inhibitor Read in 0.15 s\n",
      "RMSE for label 16: [0.014 1.203]\n",
      "NMSE for label 16: [14.482  3.028]\n",
      "NMSE_height for label 16: [14.99   2.997]\n"
     ]
    },
    {
     "name": "stderr",
     "output_type": "stream",
     "text": [
      "<<<\n",
      "time:\t1.25509s\n",
      "<<<\n"
     ]
    },
    {
     "name": "stdout",
     "output_type": "stream",
     "text": [
      "\n",
      "!Start to clear memory\n"
     ]
    },
    {
     "name": "stderr",
     "output_type": "stream",
     "text": [
      "<<<\n",
      "time:\t1.50879s\n",
      "<<<\n"
     ]
    },
    {
     "name": "stdout",
     "output_type": "stream",
     "text": [
      "\n",
      "!Start to clear memory\n",
      "CD_x error at height 0:\n",
      " [ 1.32 -3.05  0.03  0.06 -1.33 -0.29  0.01 -0.09 -0.01 -1.37 -0.66  0.07 -1.6   0.03 -0.11 -0.08\n",
      "  0.02 -1.2   0.02  0.04  0.01 -0.1   1.55]\n",
      "CD_y error at height 0:\n",
      " [ 0.12 -0.07 -0.01  0.03 -0.07 -0.    0.03  0.14  0.09  0.05 -0.05 -0.    0.11 -0.    0.03 -0.\n",
      "  0.03  0.01  0.44  0.12 -0.04 -2.46  0.13]\n",
      "CD_x error at height 8:\n",
      " [ 2.52 -2.51 -0.01  0.02 -0.09 -0.13 -0.   -0.03  0.09 -0.16  2.04  0.1  -0.21  0.01  0.12 -0.04\n",
      " -0.02 -0.07  0.04 -0.   -0.01 -0.    1.33]\n",
      "CD_y error at height 8:\n",
      " [ 0.4  -0.04  0.01  0.03  0.    0.03  0.07 -0.04  0.21  0.04  0.05  0.01 -0.02 -0.   -0.02  0.04\n",
      "  0.02 -0.1  -0.02  0.12 -0.01 -1.24  0.02]\n",
      "CD_x error at height 16:\n",
      " [ 3.65 -0.01 -3.04 -0.01 -0.11 -0.27  0.01 -0.1   0.02  0.65 -0.3   0.01 -0.93 -0.   -0.   -0.1\n",
      "  0.04 -0.09  0.02  0.01 -0.   -0.16  4.13]\n",
      "CD_y error at height 16:\n",
      " [-0.02 -0.04 -0.   -0.    3.3  -0.02  0.03 -0.02  0.04  0.03 -0.02 -0.01  0.01 -0.04 -0.   -0.02\n",
      " -0.04 -0.01  0.21  0.01  0.02 -0.05 -2.3 ]\n",
      "CD_x error at height 24:\n",
      " [ 2.92  0.11 -2.63  0.   -0.23 -1.15  0.   -0.21  0.02 -1.49  0.    0.01 -2.59 -0.01  0.33 -0.18\n",
      " -0.02 -0.14 -0.   -0.05 -0.01 -0.03  4.13]\n",
      "CD_y error at height 24:\n",
      " [-0.03 -0.06  0.03  0.03  3.39 -0.01  0.08  0.12 -0.02  0.05 -0.01  0.01  0.35 -0.02 -0.   -0.\n",
      "  0.03 -0.07  0.13  0.01  0.02 -2.48 -0.03]\n",
      "CD_x error at height 32:\n",
      " [ 3.23 -2.28 -1.64 -2.74 -1.61 -1.82 -0.91 -1.12 -0.32 -2.38  1.43 -0.06 -0.96  0.02 -2.45  0.3\n",
      "  0.12 -1.73 -1.05  0.04  0.06 -1.36  1.75]\n",
      "CD_y error at height 32:\n",
      " [-0.03  0.01 -0.   -0.    3.95 -0.    0.02  0.07  0.13  0.   -0.09  0.07  0.09 -0.04  0.03  0.04\n",
      " -0.01  0.02  0.07  0.04  0.03  0.58  0.09]\n",
      "CD_x error at height 40:\n",
      " [ 1.7   0.93 -0.6  -3.18 -3.78 -2.09 -1.88 -2.39 -0.32 -0.91  0.16 -0.37 -1.5  -0.51 -0.86 -0.09\n",
      "  0.05 -3.99 -1.26  0.62 -0.1  -3.95  5.17]\n",
      "CD_y error at height 40:\n",
      " [-0.03 -0.03 -0.28 -0.01  4.31  0.01  0.07  0.34  0.02 -0.16  0.03 -0.02  0.03  0.    0.03  0.01\n",
      "  0.    0.05  0.42  0.02 -0.07  0.43  0.01]\n",
      "CD_x error at height 48:\n",
      " [ 3.17  0.29 -3.24 -2.04 -3.61  1.78 -5.78 -6.11 -0.86 -0.03  2.46 -2.08 -2.53 -0.92 -2.74  0.46\n",
      " -0.18 -3.74 -2.29  1.49 -0.62 -1.54  7.04]\n",
      "CD_y error at height 48:\n",
      " [-0.   -0.   -3.99  1.56  6.83  0.   -0.19 -0.13  0.08 -0.02 -0.54  0.01 -0.01  0.   -0.02  0.03\n",
      " -0.06  0.06  0.02 -0.   -0.23  2.64  0.11]\n",
      "CD_x error at height 56:\n",
      " [ 2.12  2.61 -2.06 -5.87 -2.63 -0.54 -2.   -4.3  -2.38 -1.11  0.68 -0.81 -1.54 -0.35 -0.5   0.43\n",
      " -0.89 -4.5  -0.88  0.16  2.8  -1.83  4.94]\n",
      "CD_y error at height 56:\n",
      " [ 0.    1.1  -5.55  2.63  5.1  -0.   -3.77  0.71 -0.9  -0.09 -0.07 -0.   -0.13 -1.78 -0.38 -0.94\n",
      " -0.25  0.32 -0.51 -0.63 -1.33  0.8   3.42]\n",
      "CD_x error at height 64:\n",
      " [ 2.83  3.01 -2.61 -4.35 -5.19  1.69 -5.24 -4.89 -2.82 -2.62 -0.83 -0.73 -3.65 -0.22 -2.38  1.47\n",
      " -1.6  -5.42 -1.67  2.19 -1.43 -3.87  7.36]\n",
      "CD_y error at height 64:\n",
      " [-2.86  3.92 -8.13  0.55  5.39 -0.21 -2.96  2.04 -4.69 -3.86 -3.   -0.51 -1.08 -5.36 -4.05 -2.45\n",
      "  0.19  2.17 -3.8  -2.61 -3.4   2.14  2.78]\n"
     ]
    },
    {
     "name": "stderr",
     "output_type": "stream",
     "text": [
      "\r",
      " 85%|████████▌ | 17/20 [7:18:01<1:20:27, 1609.20s/it]"
     ]
    },
    {
     "name": "stdout",
     "output_type": "stream",
     "text": [
      "CD_x error at height 72:\n",
      " [  7.46  -7.16  -6.4   -8.59   2.28  -2.93  -5.31  -0.63  -0.96  -1.66  -1.15  -4.5    1.59   0.58\n",
      "   6.42   0.37 -10.03  -1.14   2.25   2.13  -3.24  12.53]\n",
      "CD_y error at height 72:\n",
      " [ -2.55   3.39 -10.46  -0.19  11.51   1.84   2.31   3.37  -8.71  -5.35  -2.33  -0.31  -0.82  -8.67\n",
      "  -4.56   0.84   6.69   3.06  -1.09   0.57  -3.85   2.23]\n",
      "CD_RMSE for label 16: [2.587 2.184]\n",
      "../dataset_train_v1/0097Acid_ini Read in 0.13 s\n",
      "../dataset_train_v1/0097Inhibitor Read in 0.13 s\n",
      "RMSE for label 17: [0.012 1.001]\n",
      "NMSE for label 17: [14.032  2.514]\n",
      "NMSE_height for label 17: [14.089  2.478]\n",
      "\n",
      "!Start to clear memory\n"
     ]
    },
    {
     "name": "stderr",
     "output_type": "stream",
     "text": [
      "<<<\n",
      "time:\t1.26909s\n",
      "<<<\n"
     ]
    },
    {
     "name": "stdout",
     "output_type": "stream",
     "text": [
      "\n",
      "!Start to clear memory\n"
     ]
    },
    {
     "name": "stderr",
     "output_type": "stream",
     "text": [
      "<<<\n",
      "time:\t1.16805s\n",
      "<<<\n"
     ]
    },
    {
     "name": "stdout",
     "output_type": "stream",
     "text": [
      "CD_x error at height 0:\n",
      " [-5.39 -0.04  0.   -3.92 -3.79  0.04 -0.64 -0.    0.46 -3.04  0.01 -0.12 -0.9  -3.82 -0.01 -0.01\n",
      " -0.69]\n",
      "CD_y error at height 0:\n",
      " [ 0.01  0.01  0.29 -0.01  0.12  0.25  1.06  0.01 -2.15  0.01 -0.   -0.    0.1   0.11  0.01  0.37\n",
      "  0.08]\n",
      "CD_x error at height 8:\n",
      " [-4.51  0.02 -0.01 -1.08 -2.66  0.01  0.01 -0.01  0.62  0.02 -2.68 -0.01  0.03 -1.2   0.04 -0.\n",
      "  0.12]\n",
      "CD_y error at height 8:\n",
      " [-0.01 -0.02  0.33 -0.01  0.09  0.05 -0.12  0.05 -0.56  0.44  0.01  0.04  0.    0.08  0.03  0.41\n",
      "  0.08]\n",
      "CD_x error at height 16:\n",
      " [-1.96 -0.1   0.01 -2.76 -2.95  0.01 -0.16 -0.03  0.31 -2.63 -0.07  0.06 -0.19 -1.87  0.02  0.06\n",
      " -0.81]\n",
      "CD_y error at height 16:\n",
      " [-0.    0.    0.    0.03  0.03  0.17 -0.03  0.05 -1.    0.61  0.01  0.02  0.02 -0.01  0.39 -0.\n",
      " -0.01]\n",
      "CD_x error at height 24:\n",
      " [-1.21 -1.05 -0.2  -3.54 -2.96 -0.03 -0.91 -0.02  0.25 -0.08 -0.11 -0.84 -1.33 -3.5  -0.   -0.03\n",
      " -1.57]\n",
      "CD_y error at height 24:\n",
      " [ 0.02  0.04  0.05 -0.   -0.03  0.03  0.41 -0.07 -0.95  0.13  0.19  0.01  0.01 -0.06  0.19 -0.\n",
      "  0.36]\n",
      "CD_x error at height 32:\n",
      " [-0.78 -1.12 -2.74 -1.27 -4.79 -0.1  -1.07 -1.02 -0.33 -0.81 -1.02 -1.15 -2.93 -1.02 -0.05  0.03\n",
      " -0.87]\n",
      "CD_y error at height 32:\n",
      " [ 0.01  0.11  0.11  0.02 -0.15  0.09  0.38 -0.08 -1.59  0.01  0.05 -0.02 -0.44 -0.05  0.03  0.29\n",
      "  0.59]\n",
      "CD_x error at height 40:\n",
      " [-2.04 -0.78 -4.11 -0.87 -2.05 -1.03  0.99 -1.45 -3.11 -0.01 -2.67 -3.16 -1.71 -1.19 -0.11 -0.1\n",
      " -3.2 ]\n",
      "CD_y error at height 40:\n",
      " [ 0.05  0.01 -0.03 -0.02 -0.05 -0.02  0.38 -0.01 -1.86  0.08  0.    0.02 -3.01 -0.01  0.56  0.13\n",
      "  0.51]\n",
      "CD_x error at height 48:\n",
      " [-1.   -2.54 -4.72 -4.08 -3.64 -0.82 -1.81 -0.88 -1.19  0.22 -1.09 -2.65 -0.02 -5.48 -1.95 -1.66\n",
      " -0.77]\n",
      "CD_y error at height 48:\n",
      " [-0.03  0.01  0.06  0.05  0.    0.01 -0.01  0.02 -2.94  0.08 -0.85  0.05 -4.33 -0.28 -0.04  0.02\n",
      " -1.24]\n",
      "CD_x error at height 56:\n",
      " [-3.26 -0.43 -6.45 -1.84 -3.75 -2.53 -0.16 -0.6  -3.17 -0.81 -2.64 -1.73 -2.96 -1.95 -0.35 -0.12\n",
      " -2.75]\n",
      "CD_y error at height 56:\n",
      " [-1.59 -0.82 -0.01  0.13 -0.18  0.71 -0.   -0.   -1.63  0.2  -2.82  0.08 -5.89 -4.34 -2.04 -0.29\n",
      " -7.06]\n",
      "CD_x error at height 64:\n",
      " [-2.46 -0.59 -3.96 -4.98 -4.15 -1.4  -1.44 -0.09 -2.06 -1.65 -0.97 -2.06 -3.34 -4.28 -0.25 -1.03\n",
      " -4.14]\n",
      "CD_y error at height 64:\n",
      " [-2.58 -2.49 -1.58  0.53 -3.9   0.32 -0.03 -1.03 -3.17 -1.58 -3.94  1.21 -7.42 -5.86 -2.74 -3.07\n",
      " -9.74]\n"
     ]
    },
    {
     "name": "stderr",
     "output_type": "stream",
     "text": [
      "\r",
      " 90%|█████████ | 18/20 [7:54:41<59:33, 1786.76s/it]  "
     ]
    },
    {
     "name": "stdout",
     "output_type": "stream",
     "text": [
      "CD_x error at height 72:\n",
      " [-2.08  2.38 -5.73 -3.24 -5.08 -2.38  0.75  2.86 -4.22 -6.95 -0.66 -6.88 -3.11 -6.45  0.76  0.26\n",
      " -7.52]\n",
      "CD_y error at height 72:\n",
      " [ -2.78  -8.35  -0.03   4.72  -3.68   0.76  -0.86  -4.34  -2.66  -0.62  -4.23  -0.55  -3.03  -7.31\n",
      "  -4.4   -5.55 -12.26]\n",
      "CD_RMSE for label 17: [2.413 2.253]\n",
      "../dataset_train_v1/0098Acid_ini Read in 0.16 s\n",
      "../dataset_train_v1/0098Inhibitor Read in 0.15 s\n",
      "RMSE for label 18: [0.012 1.074]\n",
      "NMSE for label 18: [13.581  2.702]\n",
      "NMSE_height for label 18: [13.937  2.672]\n",
      "\n",
      "!Start to clear memory\n"
     ]
    },
    {
     "name": "stderr",
     "output_type": "stream",
     "text": [
      "<<<\n",
      "time:\t1.18083s\n",
      "<<<\n"
     ]
    },
    {
     "name": "stdout",
     "output_type": "stream",
     "text": [
      "\n",
      "!Start to clear memory\n"
     ]
    },
    {
     "name": "stderr",
     "output_type": "stream",
     "text": [
      "<<<\n",
      "time:\t1.20471s\n",
      "<<<\n"
     ]
    },
    {
     "name": "stdout",
     "output_type": "stream",
     "text": [
      "Contact 18 in 0-CD_x_label is redundant, with info [349.124 879.747   5.46 ]\n",
      "CD_x error at height 0:\n",
      " [-1.59  0.   -1.06  0.04 -0.01 -0.33 -0.08  0.01 -0.04 -0.02 -2.46 -0.03  0.11 -0.34 -5.56 -0.\n",
      " -0.    0.02 -5.46 -3.47]\n",
      "Contact 12 in 0-CD_y_label is redundant, with info [352.134 873.447  10.36 ]\n",
      "CD_y error at height 0:\n",
      " [  0.04  -0.01  -0.01   0.03   0.01  -0.     0.01   0.08  -0.02  -0.01   0.05  -0.05 -10.36   0.16\n",
      "   0.08   0.45   0.01  -0.37  -0.03   0.13]\n",
      "Contact 18 in 8-CD_x_label is redundant, with info [350.154 878.347   3.84 ]\n",
      "Contact 19 in 8-CD_x_label is redundant, with info [350.964 881.997   1.22 ]\n",
      "CD_x error at height 8:\n",
      " [-0.99  0.01 -0.77 -0.   -0.05  0.01 -0.04  0.09 -0.01  0.04 -0.6   0.    0.11  0.01 -2.09 -0.\n",
      " -0.02  0.03 -3.84 -1.22 -0.9 ]\n",
      "Contact 13 in 8-CD_y_label is redundant, with info [352.034 874.897   7.17 ]\n",
      "CD_y error at height 8:\n",
      " [ 0.01 -0.   -0.02  0.04 -0.01 -0.01 -0.05 -0.   -0.02 -0.08 -0.01 -0.08  0.01 -7.17  0.04  0.02\n",
      "  0.    0.16  0.02 -0.01]\n",
      "CD_x error at height 16:\n",
      " [-1.42 -0.02 -0.93 -0.04 -0.08 -0.02 -0.07  0.18  2.41  0.28 -1.31 -0.05 -0.02  0.   -3.45  0.01\n",
      " -0.    0.03 -1.22]\n",
      "CD_y error at height 16:\n",
      " [ 0.08  0.02 -0.1   0.1   0.01 -0.14 -0.23  0.06  0.01 -0.13  0.04  0.01  0.22 -0.01 -0.01  0.05\n",
      "  0.01  0.04  0.08]\n",
      "CD_x error at height 24:\n",
      " [ 0.04 -3.48 -1.15  0.01 -0.24 -0.09 -0.29  0.01  0.21  0.66 -1.09 -0.11  0.1  -0.28 -4.76  0.01\n",
      " -0.   -0.   -1.59]\n",
      "CD_y error at height 24:\n",
      " [ 0.05  0.01  0.03 -0.    0.   -0.01 -0.07  0.    0.14  0.05  0.14 -0.03 -0.03  0.04 -0.15 -0.03\n",
      "  0.04  0.05  0.01]\n",
      "CD_x error at height 32:\n",
      " [-0.94 -4.13 -2.37 -0.01 -0.07 -0.99 -0.81 -0.09 -0.07  0.41 -0.22 -0.12 -0.57 -2.4  -6.07  0.06\n",
      " -0.   -0.   -4.07]\n",
      "CD_y error at height 32:\n",
      " [-0.   -0.    0.08  0.01  0.06 -0.16  0.01  0.01  0.01 -0.12 -0.01 -0.02  0.03  0.   -0.14  0.01\n",
      " -0.11 -0.    0.05]\n",
      "CD_x error at height 40:\n",
      " [-3.94 -4.87 -2.95 -0.   -3.22  1.98 -1.02 -2.04 -0.09  2.63 -0.32 -0.75 -3.63 -1.69 -7.5  -0.52\n",
      " -2.74 -0.08 -6.08]\n",
      "CD_y error at height 40:\n",
      " [ 0.01 -0.    0.01  0.01 -0.02 -0.36  0.03  0.03  0.02 -0.11 -0.    0.01  0.07 -0.    0.35  0.04\n",
      " -2.66 -0.    0.42]\n",
      "CD_x error at height 48:\n",
      " [-1.3  -4.45 -3.23  0.07 -3.46  0.34 -2.32 -4.93  2.04  0.57 -0.24 -1.4  -1.12 -0.65 -3.58 -1.06\n",
      " -1.71 -0.   -6.95]\n",
      "CD_y error at height 48:\n",
      " [-0.24  0.01  0.01  0.    0.01 -0.23  0.07  0.01  0.02  0.02  0.07  0.09 -0.   -1.06  0.03 -0.09\n",
      " -5.99 -0.   -0.  ]\n",
      "CD_x error at height 56:\n",
      " [-2.09 -6.18 -3.48 -0.06 -2.04  0.6  -1.18 -7.87  0.59  1.11 -0.18 -0.02 -2.76 -0.32 -7.7  -2.74\n",
      " -1.74 -0.73 -5.18]\n",
      "CD_y error at height 56:\n",
      " [-0.45 -0.82  0.02 -0.19  4.58  0.01 -0.13 -1.95  0.   -0.    0.04  0.02 -0.16 -2.85  0.02 -3.79\n",
      " -5.    0.23  1.48]\n",
      "CD_x error at height 64:\n",
      " [-2.59 -7.21 -2.75  1.37 -1.54  0.3  -3.09 -8.38  1.98  1.04 -2.39 -0.06 -1.43 -2.31 -8.94 -0.81\n",
      " -1.97 -0.77 -4.06]\n",
      "CD_y error at height 64:\n",
      " [-1.41 -2.15 -0.29 -1.18  4.27  1.34 -0.04 -1.04  1.38  0.22 -0.58  0.36 -6.65 -5.31 -1.97 -6.99\n",
      " -8.53 -0.08  0.16]\n"
     ]
    },
    {
     "name": "stderr",
     "output_type": "stream",
     "text": [
      "\r",
      " 95%|█████████▌| 19/20 [8:22:47<29:16, 1756.69s/it]"
     ]
    },
    {
     "name": "stdout",
     "output_type": "stream",
     "text": [
      "CD_x error at height 72:\n",
      " [ -0.24   -9.39   -2.82    0.97   -2.93    0.57   -3.01   -8.98    2.65    1.82   -3.23    0.73\n",
      "  -0.86    0.71  -20.611   0.48   -0.91    1.6    -8.57 ]\n",
      "CD_y error at height 72:\n",
      " [ -3.59   -1.71    0.25   -3.85    5.62    3.29    1.92    1.78    0.22    1.31   -1.58    1.82\n",
      "  -4.82   -9.7    -1.43  -10.05  -21.481   2.59    0.65 ]\n",
      "CD_RMSE for label 18: [3.066 2.588]\n",
      "../dataset_train_v1/0099Acid_ini Read in 0.14 s\n",
      "../dataset_train_v1/0099Inhibitor Read in 0.13 s\n",
      "RMSE for label 19: [0.005 0.428]\n",
      "NMSE for label 19: [10.919  1.072]\n",
      "NMSE_height for label 19: [10.709  1.05 ]\n",
      "\n",
      "!Start to clear memory\n"
     ]
    },
    {
     "name": "stderr",
     "output_type": "stream",
     "text": [
      "<<<\n",
      "time:\t0.965015s\n",
      "<<<\n"
     ]
    },
    {
     "name": "stdout",
     "output_type": "stream",
     "text": [
      "\n",
      "!Start to clear memory\n"
     ]
    },
    {
     "name": "stderr",
     "output_type": "stream",
     "text": [
      "<<<\n",
      "time:\t1.00505s\n",
      "<<<\n"
     ]
    },
    {
     "name": "stdout",
     "output_type": "stream",
     "text": [
      "CD_x error at height 0:\n",
      " [-0.14  0.1  -0.2  -0.   -0.18]\n",
      "CD_y error at height 0:\n",
      " [ 0.23  0.05 -0.    0.05  0.09]\n",
      "CD_x error at height 8:\n",
      " [ 0.07  0.01 -0.17 -0.02  0.01]\n",
      "CD_y error at height 8:\n",
      " [ 0.41 -0.24  0.38 -0.01  0.33]\n",
      "CD_x error at height 16:\n",
      " [-0.06 -0.   -0.    0.12 -0.05]\n",
      "CD_y error at height 16:\n",
      " [-0.05 -0.18 -0.04  0.07  0.06]\n",
      "CD_x error at height 24:\n",
      " [-0.31  0.01  0.15  0.12 -0.1 ]\n",
      "CD_y error at height 24:\n",
      " [-0.02  0.08 -0.35  0.01  0.1 ]\n",
      "CD_x error at height 32:\n",
      " [-2.75 -2.44 -0.19 -0.11 -1.23]\n",
      "CD_y error at height 32:\n",
      " [ 0.03  0.03 -0.08 -0.    0.08]\n",
      "CD_x error at height 40:\n",
      " [-2.8  -1.07 -2.29 -3.17 -0.32]\n",
      "CD_y error at height 40:\n",
      " [ 0.01 -0.02 -0.07  0.07  0.01]\n",
      "CD_x error at height 48:\n",
      " [-2.01 -3.02 -3.54 -1.72  0.17]\n",
      "CD_y error at height 48:\n",
      " [ 0.05  0.04 -0.34  0.09 -0.01]\n",
      "CD_x error at height 56:\n",
      " [-5.26 -3.19 -2.81 -3.67 -0.77]\n",
      "CD_y error at height 56:\n",
      " [-1.24 -2.9  -0.43 -0.23 -0.08]\n",
      "CD_x error at height 64:\n",
      " [-2.84 -3.55 -5.44 -2.92 -0.28]\n",
      "CD_y error at height 64:\n",
      " [-3.99 -2.79 -4.15 -3.95 -1.53]\n"
     ]
    },
    {
     "name": "stderr",
     "output_type": "stream",
     "text": [
      "100%|██████████| 20/20 [8:46:22<00:00, 1579.12s/it]"
     ]
    },
    {
     "name": "stdout",
     "output_type": "stream",
     "text": [
      "CD_x error at height 72:\n",
      " [-6.6  -3.99 -2.07 -3.74  0.6 ]\n",
      "CD_y error at height 72:\n",
      " [-3.25 -4.72 -4.41 -1.88  0.19]\n",
      "CD_RMSE for label 19: [2.303 1.586]\n",
      "CD Error: [2.413 2.191]\n",
      "RMSE(Mean, Std): [0.008 0.681] [0.004 0.321]\n",
      "NMSE(Mean, Std): [12.532  1.709] [2.785 0.808]\n",
      "NMSE_height: [[16.598 15.259 14.61  14.297 14.099 13.954 13.835 13.763 13.666 13.578 13.519 13.443 13.425\n",
      "  13.448 13.287 13.209 13.156 13.034 12.933 12.792 ... 10.703 10.706 10.738 10.903 10.931 10.881\n",
      "  10.84  10.781 10.643 10.599 10.605 10.701 10.87  11.106 11.531 12.514 14.04  17.229 23.515\n",
      "  33.95 ]\n",
      " [ 2.33   2.103  2.     1.985  1.955  1.952  1.956  1.961  1.941  1.931  1.913  1.9    1.918\n",
      "   1.93   1.864  1.838  1.855  1.853  1.831  1.815 ...  1.392  1.392  1.4    1.386  1.386  1.399\n",
      "   1.416  1.412  1.429  1.44   1.42   1.42   1.382  1.357  1.309  1.304  1.413  1.783  2.486\n",
      "   3.403]]\n",
      "Top Error (mean): [15.606  1.728]\n"
     ]
    },
    {
     "name": "stderr",
     "output_type": "stream",
     "text": [
      "\n"
     ]
    },
    {
     "name": "stdout",
     "output_type": "stream",
     "text": [
      "Mean runtime: 1.32533141374588\n",
      "RMSE(Ihb, rate): [0.008 0.681]\n",
      "NRMSE(Ihb, rate): [12.532  1.709]\n",
      "CD Error(x, y): [2.413 2.191]\n"
     ]
    }
   ],
   "source": [
    "model = Model_def(opt, device_train, True)\n",
    "Runtime, RMSE, NMSE, _, CD_err_x, CD_err_y, CD_RMSE = evaluate(opt, model, device_train, res_trans, RDevelop)\n",
    "print(\"Mean runtime:\", np.mean(Runtime))\n",
    "print(\"RMSE(Ihb, rate):\", np.mean(RMSE,axis=-1))\n",
    "print(\"NRMSE(Ihb, rate):\", np.mean(NMSE,axis=-1))\n",
    "print(\"CD Error(x, y):\", np.mean(CD_RMSE,axis=-1))"
   ]
  },
  {
   "cell_type": "code",
   "execution_count": 5,
   "metadata": {},
   "outputs": [
    {
     "data": {
      "image/png": "[encoded data removed]",
      "text/plain": [
       "<Figure size 720x432 with 1 Axes>"
      ]
     },
     "metadata": {
      "needs_background": "light"
     },
     "output_type": "display_data"
    }
   ],
   "source": [
    "Err_x, Err_y = np.array([]), np.array([])\n",
    "for tmp in range(len(CD_err_x)):\n",
    "    Err_x = np.append(Err_x, np.array(CD_err_x[tmp]).flatten())\n",
    "    Err_y = np.append(Err_y, np.array(CD_err_y[tmp]).flatten())\n",
    "\n",
    "np.savetxt(opt.respath+\"CDErr-x_FNO.csv\", Err_x.flatten(), delimiter=' ')\n",
    "np.savetxt(opt.respath+\"CDErr-y_FNO.csv\", Err_y.flatten(), delimiter=' ')\n",
    "from utils.Res_plot import CD_errXY_plot\n",
    "%matplotlib inline\n",
    "CD_errXY_plot(Err_x, Err_y, \"FNO's\")"
   ]
  }
 ],
 "metadata": {
  "kernelspec": {
   "display_name": "Python 3 (ipykernel)",
   "language": "python",
   "name": "python3"
  },
  "language_info": {
   "codemirror_mode": {
    "name": "ipython",
    "version": 3
   },
   "file_extension": ".py",
   "mimetype": "text/x-python",
   "name": "python",
   "nbconvert_exporter": "python",
   "pygments_lexer": "ipython3",
   "version": "3.8.10"
  },
  "vp": {
   "vp_config_version": "1.0.0",
   "vp_menu_width": 273,
   "vp_note_display": false,
   "vp_note_width": 0,
   "vp_position": {
    "width": 278
   },
   "vp_section_display": false,
   "vp_signature": "VisualPython"
  }
 },
 "nbformat": 4,
 "nbformat_minor": 4
}
